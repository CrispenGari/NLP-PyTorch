{
  "nbformat": 4,
  "nbformat_minor": 0,
  "metadata": {
    "colab": {
      "name": "05_Questions_Classification_2_labels.ipynb",
      "provenance": [],
      "collapsed_sections": []
    },
    "kernelspec": {
      "name": "python3",
      "display_name": "Python 3"
    },
    "language_info": {
      "name": "python"
    },
    "accelerator": "GPU"
  },
  "cells": [
    {
      "cell_type": "markdown",
      "metadata": {
        "id": "gwFkL0ZK1L-X"
      },
      "source": [
        "### Questions Classification Custom dataset.\n",
        "\n",
        "In the previous notebook we looked much in depth with different NN layers and models for predicting question category. The easiest part of the problem was that we were just predicting a single label. In this notebook we are going to learn how we can predict two labels at the same time:\n",
        "\n",
        "* All credits goes to [the pytorch community](https://discuss.pytorch.org/t/a-model-with-multiple-outputs/10440)"
      ]
    },
    {
      "cell_type": "markdown",
      "metadata": {
        "id": "dl1NzpCf2rlk"
      },
      "source": [
        "### Data preparation using torchtext.\n",
        "\n",
        "In this notebook we are not going to prepare the data, because it has already been prepared for us in file. What we are going to do is to load the data.\n"
      ]
    },
    {
      "cell_type": "code",
      "metadata": {
        "colab": {
          "base_uri": "https://localhost:8080/"
        },
        "id": "b5bfB7PC1HRJ",
        "outputId": "91354b64-9c8c-47d6-b0ae-8ede974ec06c"
      },
      "source": [
        "from google.colab import drive\n",
        "drive.mount('/content/drive')"
      ],
      "execution_count": 1,
      "outputs": [
        {
          "output_type": "stream",
          "text": [
            "Mounted at /content/drive\n"
          ],
          "name": "stdout"
        }
      ]
    },
    {
      "cell_type": "markdown",
      "metadata": {
        "id": "JpcZ-TG63VID"
      },
      "source": [
        "### Imports"
      ]
    },
    {
      "cell_type": "code",
      "metadata": {
        "colab": {
          "base_uri": "https://localhost:8080/",
          "height": 35
        },
        "id": "qpE80WdY3TgV",
        "outputId": "69822d6e-93f8-4131-d44f-131f1c221240"
      },
      "source": [
        "import time\n",
        "from prettytable import PrettyTable\n",
        "import numpy as np\n",
        "from matplotlib import pyplot as plt\n",
        "import pandas as pd\n",
        "\n",
        "import torch, os, random\n",
        "from torch import nn\n",
        "import torch.nn.functional as F\n",
        "\n",
        "torch.__version__"
      ],
      "execution_count": 2,
      "outputs": [
        {
          "output_type": "execute_result",
          "data": {
            "application/vnd.google.colaboratory.intrinsic+json": {
              "type": "string"
            },
            "text/plain": [
              "'1.9.0+cu102'"
            ]
          },
          "metadata": {
            "tags": []
          },
          "execution_count": 2
        }
      ]
    },
    {
      "cell_type": "markdown",
      "metadata": {
        "id": "aAkhI0Ns3wiU"
      },
      "source": [
        "### Setting up the seeds"
      ]
    },
    {
      "cell_type": "code",
      "metadata": {
        "id": "GwYV_hrz3sSB"
      },
      "source": [
        "SEED = 42\n",
        "\n",
        "np.random.seed(SEED)\n",
        "random.seed(SEED)\n",
        "torch.manual_seed(SEED)\n",
        "torch.cuda.manual_seed(SEED)\n",
        "torch.backends.cudnn.deteministic = True"
      ],
      "execution_count": 3,
      "outputs": []
    },
    {
      "cell_type": "markdown",
      "metadata": {
        "id": "QlPBQXKmGEFk"
      },
      "source": [
        "### File names"
      ]
    },
    {
      "cell_type": "code",
      "metadata": {
        "id": "iBBoZ8MqGsGR"
      },
      "source": [
        "train_path_json = 'train.json'\n",
        "test_path_json = 'test.json'\n",
        "val_path_json = 'val.json'"
      ],
      "execution_count": 4,
      "outputs": []
    },
    {
      "cell_type": "markdown",
      "metadata": {
        "id": "i7YMbs8a43jD"
      },
      "source": [
        "### Creating the Fields.\n",
        "\n",
        "In this notebook we are going to have two label fields So we need a `Label` and a `Text` Field. On the `Text` field we are going to pass the arg `include_lengths=True` since we are going to used packed padded sequences.\n"
      ]
    },
    {
      "cell_type": "code",
      "metadata": {
        "id": "7_xUMByB5tGa"
      },
      "source": [
        "from torchtext.legacy import data, datasets"
      ],
      "execution_count": 5,
      "outputs": []
    },
    {
      "cell_type": "code",
      "metadata": {
        "id": "_RaqW-b-4lJJ"
      },
      "source": [
        "TEXT = data.Field(\n",
        "   tokenize=\"spacy\",\n",
        "   include_lengths = True,\n",
        "  tokenizer_language = 'en_core_web_sm',\n",
        ")\n",
        "LABEL_1 = data.LabelField()\n",
        "LABEL_2 = data.LabelField()"
      ],
      "execution_count": 6,
      "outputs": []
    },
    {
      "cell_type": "code",
      "metadata": {
        "id": "OugU18S_7tAS"
      },
      "source": [
        "fields = {\n",
        "  \"Questions\": ('text', TEXT),\n",
        "  \"Category1\": ('label_1', LABEL_1),\n",
        "  \"Category2\":('label_2', LABEL_2),\n",
        "}"
      ],
      "execution_count": 7,
      "outputs": []
    },
    {
      "cell_type": "markdown",
      "metadata": {
        "id": "JiNOBqFO8pyo"
      },
      "source": [
        "### Creating the dataset.\n",
        "\n",
        "We ar going to use the `TabularDataset.split()` to create the datasets."
      ]
    },
    {
      "cell_type": "code",
      "metadata": {
        "id": "GAgiWOoh8mWO"
      },
      "source": [
        "files_path = '/content/drive/MyDrive/NLP Data/questions-classification/pytorch'\n",
        "train_data, val_data, test_data = data.TabularDataset.splits(\n",
        "   files_path,\n",
        "   train=train_path_json,\n",
        "   test= test_path_json,\n",
        "   validation= val_path_json,\n",
        "   format = \"json\",\n",
        "   fields=fields\n",
        ")"
      ],
      "execution_count": 8,
      "outputs": []
    },
    {
      "cell_type": "code",
      "metadata": {
        "colab": {
          "base_uri": "https://localhost:8080/"
        },
        "id": "1f4YEu-fQ1WK",
        "outputId": "9ad1c55b-2cbe-4528-adf0-db32d5aa1668"
      },
      "source": [
        "len(train_data), len(test_data), len(val_data)"
      ],
      "execution_count": 9,
      "outputs": [
        {
          "output_type": "execute_result",
          "data": {
            "text/plain": [
              "(5179, 28, 245)"
            ]
          },
          "metadata": {
            "tags": []
          },
          "execution_count": 9
        }
      ]
    },
    {
      "cell_type": "code",
      "metadata": {
        "colab": {
          "base_uri": "https://localhost:8080/"
        },
        "id": "AZ1oWIQW9KWn",
        "outputId": "b6a636a1-00c4-4a67-e289-f46d3fb27622"
      },
      "source": [
        "print(vars(train_data.examples[0]))"
      ],
      "execution_count": 10,
      "outputs": [
        {
          "output_type": "stream",
          "text": [
            "{'text': ['What', 'is', 'the', 'name', 'of', 'Miss', 'India', '1994', '?'], 'label_1': 'HUM', 'label_2': 'ind'}\n"
          ],
          "name": "stdout"
        }
      ]
    },
    {
      "cell_type": "markdown",
      "metadata": {
        "id": "3t-0JC1U-l73"
      },
      "source": [
        "### Building the Vocabulary and Loading the `pretrained` word vectors.\n",
        "\n",
        "We are going to use the `glove.6B.100d` word vectors which was trained with 6 billion words and each word is a 100 dimesional vector.\n",
        "\n",
        "**Note** We should only build the vocabulary on the `train` dataset only."
      ]
    },
    {
      "cell_type": "code",
      "metadata": {
        "id": "b4p3m1_--WYU",
        "colab": {
          "base_uri": "https://localhost:8080/"
        },
        "outputId": "def0e80f-0076-40e8-90fc-c5f32506fd2f"
      },
      "source": [
        "MAX_VOCAB_SIZE = 100_000_000\n",
        "\n",
        "TEXT.build_vocab(\n",
        "    train_data,\n",
        "     max_size = MAX_VOCAB_SIZE,\n",
        "    vectors = \"glove.6B.100d\",\n",
        "    unk_init = torch.Tensor.normal_\n",
        ")\n",
        "LABEL_1.build_vocab(train_data)\n",
        "LABEL_2.build_vocab(train_data)\n"
      ],
      "execution_count": 11,
      "outputs": [
        {
          "output_type": "stream",
          "text": [
            ".vector_cache/glove.6B.zip: 862MB [02:39, 5.40MB/s]                           \n",
            "100%|█████████▉| 398400/400000 [00:14<00:00, 27403.29it/s]"
          ],
          "name": "stderr"
        }
      ]
    },
    {
      "cell_type": "markdown",
      "metadata": {
        "id": "fF6qioSVHWMw"
      },
      "source": [
        "### Checking the labels"
      ]
    },
    {
      "cell_type": "code",
      "metadata": {
        "colab": {
          "base_uri": "https://localhost:8080/"
        },
        "id": "k4faA0_LHZA3",
        "outputId": "ef65981c-c3b1-4b47-ecf7-5a7c6d283f83"
      },
      "source": [
        "print(\"************************ FIRST LABELS ********************************\")\n",
        "print(LABEL_1.vocab.stoi)\n",
        "print(\"************************ SECOND LABELS ********************************\")\n",
        "print(LABEL_2.vocab.stoi)"
      ],
      "execution_count": 12,
      "outputs": [
        {
          "output_type": "stream",
          "text": [
            "************************ FIRST LABELS ********************************\n",
            "defaultdict(None, {'ENTY': 0, 'HUM': 1, 'DESC': 2, 'NUM': 3, 'LOC': 4, 'ABBR': 5})\n",
            "************************ SECOND LABELS ********************************\n",
            "defaultdict(None, {'ind': 0, 'other': 1, 'def': 2, 'count': 3, 'desc': 4, 'manner': 5, 'cremat': 6, 'date': 7, 'gr': 8, 'reason': 9, 'country': 10, 'city': 11, 'animal': 12, 'food': 13, 'dismed': 14, 'termeq': 15, 'period': 16, 'money': 17, 'exp': 18, 'state': 19, 'sport': 20, 'event': 21, 'product': 22, 'substance': 23, 'techmeth': 24, 'color': 25, 'dist': 26, 'perc': 27, 'veh': 28, 'word': 29, 'title': 30, 'mount': 31, 'body': 32, 'abb': 33, 'lang': 34, 'volsize': 35, 'plant': 36, 'symbol': 37, 'instru': 38, 'weight': 39, 'code': 40, 'letter': 41, 'speed': 42, 'temp': 43, 'ord': 44, 'currency': 45, 'religion': 46})\n"
          ],
          "name": "stdout"
        }
      ]
    },
    {
      "cell_type": "markdown",
      "metadata": {
        "id": "yFukx38W_aNv"
      },
      "source": [
        "### Device."
      ]
    },
    {
      "cell_type": "code",
      "metadata": {
        "colab": {
          "base_uri": "https://localhost:8080/"
        },
        "id": "MYPGTIZ7_Zet",
        "outputId": "4af6e98e-43ff-4263-d242-7523dcbe7331"
      },
      "source": [
        "device = torch.device('cuda' if torch.cuda.is_available() else 'cpu')\n",
        "device"
      ],
      "execution_count": 13,
      "outputs": [
        {
          "output_type": "execute_result",
          "data": {
            "text/plain": [
              "device(type='cuda')"
            ]
          },
          "metadata": {
            "tags": []
          },
          "execution_count": 13
        }
      ]
    },
    {
      "cell_type": "markdown",
      "metadata": {
        "id": "eaCMz4yZ_n5W"
      },
      "source": [
        "### Creating iterators.\n",
        "\n",
        "We are going to use our favorite iterator known as the `BucketIterator` to create iterators for all the sets that we have."
      ]
    },
    {
      "cell_type": "code",
      "metadata": {
        "id": "GPDrPFKQ_mf1"
      },
      "source": [
        "sort_key = lambda x: len(x.text)\n",
        "\n",
        "BATCH_SIZE = 64\n",
        "\n",
        "train_iter, val_iter, test_iter = data.BucketIterator.splits(\n",
        "    (train_data, val_data, test_data),\n",
        "    device = device,\n",
        "    batch_size = BATCH_SIZE,\n",
        "    sort_key = sort_key,\n",
        ")"
      ],
      "execution_count": 14,
      "outputs": []
    },
    {
      "cell_type": "markdown",
      "metadata": {
        "id": "spZX8zodA91F"
      },
      "source": [
        "### Creating the Model."
      ]
    },
    {
      "cell_type": "code",
      "metadata": {
        "id": "ReThGRspA7uO"
      },
      "source": [
        "class QuestionsLSTMRNN(nn.Module):\n",
        "  def __init__(self, \n",
        "               vocab_size,\n",
        "               embedding_size,\n",
        "               hidden_size,\n",
        "               output_size_1,\n",
        "               output_size_2,\n",
        "               num_layers,\n",
        "               pad_index,\n",
        "               bidirectional = True,\n",
        "               dropout=.5\n",
        "               ):\n",
        "    super(QuestionsLSTMRNN, self).__init__()\n",
        "    self.embedding = nn.Embedding(\n",
        "        vocab_size,\n",
        "        embedding_size,\n",
        "        padding_idx = pad_index\n",
        "    )\n",
        "    self.lstm = nn.LSTM(\n",
        "        embedding_size,\n",
        "        hidden_size  = hidden_size,\n",
        "        bidirectional = bidirectional,\n",
        "        num_layers = num_layers,\n",
        "        dropout = dropout\n",
        "    )\n",
        "    self.fc_1 = nn.Linear(\n",
        "        hidden_size * 2 if bidirectional else hidden_size,\n",
        "        out_features = 512\n",
        "    )\n",
        "    self.fc_2 = nn.Linear(\n",
        "        512,\n",
        "        out_features = 256\n",
        "    )\n",
        "    self.out_1 = nn.Linear(\n",
        "        256,\n",
        "        out_features = output_size_1\n",
        "    )\n",
        "    self.out_2 = nn.Linear(\n",
        "        256,\n",
        "        out_features = output_size_2\n",
        "    )\n",
        "    self.dropout = nn.Dropout(dropout)\n",
        "\n",
        "  def forward(self, text, text_lengths):\n",
        "    embedded = self.dropout(self.embedding(text))\n",
        "    packed_embedded = nn.utils.rnn.pack_padded_sequence(\n",
        "        embedded, text_lengths.to('cpu'), enforce_sorted=False\n",
        "    )\n",
        "    packed_output, (h_0, c_0) = self.lstm(packed_embedded)\n",
        "    output, output_lengths = nn.utils.rnn.pad_packed_sequence(packed_output)\n",
        "    h_0 = self.dropout(torch.cat((h_0[-2,:,:], h_0[-1,:,:]), dim = 1))\n",
        "    fc_hidden_1 = self.dropout(self.fc_1(h_0))\n",
        "    fc_hidden_2 = self.dropout(self.fc_2(fc_hidden_1))\n",
        "    return self.out_1(fc_hidden_2), self.out_2(fc_hidden_2)\n"
      ],
      "execution_count": 15,
      "outputs": []
    },
    {
      "cell_type": "markdown",
      "metadata": {
        "id": "Z2IVtv8EDhJd"
      },
      "source": [
        "### Creating the model instance."
      ]
    },
    {
      "cell_type": "code",
      "metadata": {
        "colab": {
          "base_uri": "https://localhost:8080/"
        },
        "id": "RbJdW058DgTl",
        "outputId": "c39770a3-97c2-4391-b5d0-506c02a3a42d"
      },
      "source": [
        "INPUT_DIM = len(TEXT.vocab)\n",
        "EMBEDDING_DIM = 100\n",
        "HIDDEN_DIM = 256\n",
        "OUTPUT_DIM_1 =  len(LABEL_1.vocab)\n",
        "OUTPUT_DIM_2 =  len(LABEL_2.vocab)\n",
        "N_LAYERS = 2\n",
        "BIDIRECTIONAL = True\n",
        "DROPOUT = 0.5\n",
        "PAD_IDX = TEXT.vocab.stoi[TEXT.pad_token] \n",
        "\n",
        "questions_model = QuestionsLSTMRNN(\n",
        "            INPUT_DIM, \n",
        "            EMBEDDING_DIM, \n",
        "            HIDDEN_DIM, \n",
        "            OUTPUT_DIM_1, \n",
        "            OUTPUT_DIM_2,\n",
        "            N_LAYERS, \n",
        "            bidirectional = BIDIRECTIONAL, \n",
        "            dropout = DROPOUT, \n",
        "            pad_index = PAD_IDX\n",
        "            ).to(device)\n",
        "questions_model"
      ],
      "execution_count": 16,
      "outputs": [
        {
          "output_type": "execute_result",
          "data": {
            "text/plain": [
              "QuestionsLSTMRNN(\n",
              "  (embedding): Embedding(9053, 100, padding_idx=1)\n",
              "  (lstm): LSTM(100, 256, num_layers=2, dropout=0.5, bidirectional=True)\n",
              "  (fc_1): Linear(in_features=512, out_features=512, bias=True)\n",
              "  (fc_2): Linear(in_features=512, out_features=256, bias=True)\n",
              "  (out_1): Linear(in_features=256, out_features=6, bias=True)\n",
              "  (out_2): Linear(in_features=256, out_features=47, bias=True)\n",
              "  (dropout): Dropout(p=0.5, inplace=False)\n",
              ")"
            ]
          },
          "metadata": {
            "tags": []
          },
          "execution_count": 16
        }
      ]
    },
    {
      "cell_type": "markdown",
      "metadata": {
        "id": "acQD-B6zEE72"
      },
      "source": [
        "### Model parameters"
      ]
    },
    {
      "cell_type": "code",
      "metadata": {
        "colab": {
          "base_uri": "https://localhost:8080/"
        },
        "id": "PQaztp4ID-HI",
        "outputId": "66c85517-f418-4ab6-e3dd-20fffe15907f"
      },
      "source": [
        "\n",
        "def count_trainable_params(model):\n",
        "  return sum(p.numel() for p in model.parameters()), sum(p.numel() for p in model.parameters() if p.requires_grad)\n",
        "\n",
        "n_params, trainable_params = count_trainable_params(questions_model)\n",
        "print(f\"Total number of paramaters: {n_params:,}\\nTotal tainable parameters: {trainable_params:,}\")\n"
      ],
      "execution_count": 17,
      "outputs": [
        {
          "output_type": "stream",
          "text": [
            "Total number of paramaters: 3,623,049\n",
            "Total tainable parameters: 3,623,049\n"
          ],
          "name": "stdout"
        }
      ]
    },
    {
      "cell_type": "markdown",
      "metadata": {
        "id": "R8gjXny7EUNb"
      },
      "source": [
        "### Loading pretrained vextors to the embedding layer."
      ]
    },
    {
      "cell_type": "code",
      "metadata": {
        "id": "ULe__PiKEQS8"
      },
      "source": [
        "pretrained_embeddings  = TEXT.vocab.vectors"
      ],
      "execution_count": 18,
      "outputs": []
    },
    {
      "cell_type": "code",
      "metadata": {
        "colab": {
          "base_uri": "https://localhost:8080/"
        },
        "id": "ZeXa9ycREfuV",
        "outputId": "7a3fdc1e-2ccd-416f-f754-9b6db5af991c"
      },
      "source": [
        "questions_model.embedding.weight.data.copy_(pretrained_embeddings)"
      ],
      "execution_count": 19,
      "outputs": [
        {
          "output_type": "execute_result",
          "data": {
            "text/plain": [
              "tensor([[ 1.9269,  1.4873,  0.9007,  ...,  0.1233,  0.3499,  0.6173],\n",
              "        [ 0.7262,  0.0912, -0.3891,  ...,  0.0821,  0.4440, -0.7240],\n",
              "        [ 0.1638,  0.6046,  1.0789,  ..., -0.3140,  0.1844,  0.3624],\n",
              "        ...,\n",
              "        [ 0.0091,  0.2810,  0.7356,  ..., -0.7508,  0.8967, -0.7631],\n",
              "        [ 0.2906,  0.3217,  0.2419,  ..., -0.9444, -0.3790,  0.6196],\n",
              "        [-0.3898, -0.5949,  0.2729,  ..., -1.0948,  0.8617, -0.4429]],\n",
              "       device='cuda:0')"
            ]
          },
          "metadata": {
            "tags": []
          },
          "execution_count": 19
        }
      ]
    },
    {
      "cell_type": "markdown",
      "metadata": {
        "id": "Q27hKnrpEoKF"
      },
      "source": [
        "### Zeroing the `<pad>` and `<unk>` tokens."
      ]
    },
    {
      "cell_type": "code",
      "metadata": {
        "colab": {
          "base_uri": "https://localhost:8080/"
        },
        "id": "f_qvO2teEmvh",
        "outputId": "b92101de-a9d9-4e0b-b6e3-1cb39dab3d4c"
      },
      "source": [
        "UNK_IDX = TEXT.vocab.stoi[TEXT.unk_token] or TEXT.vocab.stoi[\"<unk>\"]\n",
        "questions_model.embedding.weight.data[UNK_IDX] = torch.zeros(EMBEDDING_DIM)\n",
        "questions_model.embedding.weight.data[PAD_IDX] = torch.zeros(EMBEDDING_DIM)\n",
        "questions_model.embedding.weight.data"
      ],
      "execution_count": 20,
      "outputs": [
        {
          "output_type": "execute_result",
          "data": {
            "text/plain": [
              "tensor([[ 0.0000,  0.0000,  0.0000,  ...,  0.0000,  0.0000,  0.0000],\n",
              "        [ 0.0000,  0.0000,  0.0000,  ...,  0.0000,  0.0000,  0.0000],\n",
              "        [ 0.1638,  0.6046,  1.0789,  ..., -0.3140,  0.1844,  0.3624],\n",
              "        ...,\n",
              "        [ 0.0091,  0.2810,  0.7356,  ..., -0.7508,  0.8967, -0.7631],\n",
              "        [ 0.2906,  0.3217,  0.2419,  ..., -0.9444, -0.3790,  0.6196],\n",
              "        [-0.3898, -0.5949,  0.2729,  ..., -1.0948,  0.8617, -0.4429]],\n",
              "       device='cuda:0')"
            ]
          },
          "metadata": {
            "tags": []
          },
          "execution_count": 20
        }
      ]
    },
    {
      "cell_type": "markdown",
      "metadata": {
        "id": "sm2RklTLE-Dv"
      },
      "source": [
        "### Loss and optimizer.\n",
        "For the loss we are going to create 2 loss functions. We are going to use the `Adam` as our optimizer."
      ]
    },
    {
      "cell_type": "code",
      "metadata": {
        "id": "r7UCyAlYE1nA"
      },
      "source": [
        "optimizer = torch.optim.Adam(questions_model.parameters())\n",
        "criterion_1 = nn.CrossEntropyLoss().to(device)\n",
        "criterion_2 = nn.CrossEntropyLoss().to(device)"
      ],
      "execution_count": 21,
      "outputs": []
    },
    {
      "cell_type": "markdown",
      "metadata": {
        "id": "Bi2tk-kSFTVq"
      },
      "source": [
        "### Accuracy function.\n",
        "We are going to create the `categorical_accuracy()` function that will calculate the categorical accuracy for predicted labels and actual labels.\n",
        "\n",
        "**Note**: this function will remain the same we are just going to reuse it."
      ]
    },
    {
      "cell_type": "code",
      "metadata": {
        "id": "XRCfQZvmFPBS"
      },
      "source": [
        "def categorical_accuracy(preds, y):\n",
        "  top_pred = preds.argmax(1, keepdim = True)\n",
        "  correct = top_pred.eq(y.view_as(top_pred)).sum()\n",
        "  return correct.float() / y.shape[0]"
      ],
      "execution_count": 22,
      "outputs": []
    },
    {
      "cell_type": "markdown",
      "metadata": {
        "id": "-Gf_nyXVFvOG"
      },
      "source": [
        "### Training and Evaluation functions.\n",
        "\n",
        "In the train and evaluate function we are going to change a lot of things. I will highlight the changes using comments."
      ]
    },
    {
      "cell_type": "code",
      "metadata": {
        "id": "80QEfQeaFuVZ"
      },
      "source": [
        "def train(model, iterator, optimizer, criterion_1, criterion_2):\n",
        "    \"\"\"\n",
        "    Losses and accuracy should be of different labels\n",
        "    \"\"\"\n",
        "    epoch_loss_1 = 0\n",
        "    epoch_acc_1 = 0\n",
        "    epoch_loss_2 = 0\n",
        "    epoch_acc_2 = 0\n",
        "\n",
        "    model.train()\n",
        "    for batch in iterator:\n",
        "        optimizer.zero_grad()\n",
        "        text, text_lengths = batch.text\n",
        "        \"\"\"\n",
        "        The model returns two predictions for different labels.\n",
        "        \"\"\"\n",
        "        predictions_1, predictions_2 = model(text, text_lengths)\n",
        "        predictions_1 = predictions_1.squeeze(1)\n",
        "        predictions_2 = predictions_2.squeeze(1)\n",
        "\n",
        "        \"\"\"\n",
        "        Get the loss for each label\n",
        "        \"\"\"\n",
        "        loss_1 = criterion_1(predictions_1, batch.label_1) # we are using label 1 to calculate the loss for the first label\n",
        "        loss_2 = criterion_2(predictions_2, batch.label_2) # we are using label 2 to calculate the loss for the first label\n",
        "\n",
        "        acc_1 = categorical_accuracy(predictions_1, batch.label_1) # accuracy for the first label\n",
        "        acc_2 = categorical_accuracy(predictions_2, batch.label_2) # accuracy for the first label\n",
        "        \n",
        "        \"\"\"\n",
        "        We have to sum the loss before back propagation\n",
        "        \"\"\"\n",
        "        loss = loss_1 + loss_2\n",
        "        loss.backward()\n",
        "        optimizer.step()\n",
        "        \"\"\"\n",
        "        ********* METRICS ************\n",
        "        \"\"\"\n",
        "        epoch_loss_1 += loss_1.item()\n",
        "        epoch_loss_2 += loss_2.item()\n",
        "        epoch_acc_1 += acc_1.item()\n",
        "        epoch_acc_2 += acc_2.item()\n",
        "    return epoch_loss_1 / len(iterator), epoch_loss_2 / len(iterator), epoch_acc_1 / len(iterator), epoch_acc_2/ len(iterator)\n",
        "\n",
        "\n",
        "def evaluate(model, iterator, criterion_1, criterion_2):\n",
        "    \"\"\"\n",
        "    Losses and accuracy should be of different labels\n",
        "    \"\"\"\n",
        "    epoch_loss_1 = 0\n",
        "    epoch_acc_1 = 0\n",
        "    epoch_loss_2 = 0\n",
        "    epoch_acc_2 = 0\n",
        "\n",
        "    model.eval()\n",
        "    with torch.no_grad():\n",
        "      for batch in iterator:\n",
        "          text, text_lengths = batch.text\n",
        "          \"\"\"\n",
        "          The model returns two predictions for different labels.\n",
        "          \"\"\"\n",
        "          predictions_1, predictions_2 = model(text, text_lengths)\n",
        "          predictions_1 = predictions_1.squeeze(1)\n",
        "          predictions_2 = predictions_2.squeeze(1)\n",
        "          \"\"\"\n",
        "          Get the loss for each label\n",
        "          \"\"\"\n",
        "          loss_1 = criterion_1(predictions_1, batch.label_1) # we are using label 1 to calculate the loss for the first label\n",
        "          loss_2 = criterion_2(predictions_2, batch.label_2) # we are using label 2 to calculate the loss for the first label\n",
        "\n",
        "          acc_1 = categorical_accuracy(predictions_1, batch.label_1) # accuracy for the first label\n",
        "          acc_2 = categorical_accuracy(predictions_2, batch.label_2) # accuracy for the first label\n",
        "          \"\"\"\n",
        "          ********* METRICS ************\n",
        "          \"\"\"\n",
        "          epoch_loss_1 += loss_1.item()\n",
        "          epoch_loss_2 += loss_2.item()\n",
        "          epoch_acc_1 += acc_1.item()\n",
        "          epoch_acc_2 += acc_2.item()\n",
        "    return epoch_loss_1 / len(iterator), epoch_loss_2 / len(iterator), epoch_acc_1 / len(iterator), epoch_acc_2/ len(iterator)"
      ],
      "execution_count": 23,
      "outputs": []
    },
    {
      "cell_type": "markdown",
      "metadata": {
        "id": "gdtkgFFJG1WS"
      },
      "source": [
        "### Training loop.\n",
        "We are going to create helper functions that will help us to visualize our training.\n",
        "\n",
        "1. Time to string"
      ]
    },
    {
      "cell_type": "code",
      "metadata": {
        "id": "yMH6iA1AG0tj"
      },
      "source": [
        "def hms_string(sec_elapsed):\n",
        "    h = int(sec_elapsed / (60 * 60))\n",
        "    m = int((sec_elapsed % (60 * 60)) / 60)\n",
        "    s = sec_elapsed % 60\n",
        "    return \"{}:{:>02}:{:>05.2f}\".format(h, m, s)\n",
        "    "
      ],
      "execution_count": 24,
      "outputs": []
    },
    {
      "cell_type": "markdown",
      "metadata": {
        "id": "kp5OjGiPHR6h"
      },
      "source": [
        "2. tabulate training epoch."
      ]
    },
    {
      "cell_type": "code",
      "metadata": {
        "id": "MtCTm84HHQb5"
      },
      "source": [
        "def visualize_training(start, end, train_loss_1, train_loss_2, train_accuracy_1, train_accuracy_2, \n",
        "                       val_loss_1, val_loss_2, val_accuracy_1, val_accuracy_2, title):\n",
        "  data = [\n",
        "       [\"Training\", f'{train_loss_1:.3f}',  f'{train_loss_2:.3f}', f'{train_accuracy_1:.3f}', f'{train_accuracy_2:.3f}', f\"{hms_string(end - start)}\" ],\n",
        "       [\"Validation\", f'{val_loss_1:.3f}', f'{val_loss_2:.3f}', f'{val_accuracy_1:.3f}', f'{val_accuracy_2:.3f}', \"\" ],       \n",
        "  ]\n",
        "  table = PrettyTable([\"CATEGORY\", \"LOSS_1\", \"LOSS_2\", \"ACCURACY_1\", \"ACCURACY_2\", \"ETA\"])\n",
        "  table.align[\"CATEGORY\"] = 'l'\n",
        "  table.align[\"ETA\"] = 'r'\n",
        "  table.align[\"LOSS_1\"] = 'r'\n",
        "  table.align[\"ACCURACY_1\"] = 'r'\n",
        "  table.align[\"LOSS_2\"] = 'r'\n",
        "  table.align[\"ACCURACY_2\"] = 'r'\n",
        "  table.title = title\n",
        "  for row in data:\n",
        "    table.add_row(row)\n",
        "  print(table)\n"
      ],
      "execution_count": 25,
      "outputs": []
    },
    {
      "cell_type": "code",
      "metadata": {
        "colab": {
          "base_uri": "https://localhost:8080/"
        },
        "id": "kcu_WMc2HXqb",
        "outputId": "89cf198b-9d35-42ef-fad7-e0c039c5841a"
      },
      "source": [
        "N_EPOCHS = 100\n",
        "best_valid_loss = float('inf')\n",
        "for epoch in range(N_EPOCHS):\n",
        "    start = time.time()\n",
        "\n",
        "    train_loss_1, train_loss_2, train_acc_1, train_acc_2 = train(questions_model, train_iter, \n",
        "                                                                 optimizer, criterion_1, criterion_2)\n",
        "    \n",
        "    valid_loss_1, valid_loss_2, valid_acc_1, valid_acc_2 = evaluate(questions_model, val_iter, \n",
        "                                                                    criterion_1, criterion_2)\n",
        "    title = f\"EPOCH: {epoch+1:02}/{N_EPOCHS:02} {'saving best model...' if valid_loss_2 < best_valid_loss else 'not saving...'}\"\n",
        "    \"\"\"\n",
        "    We are going to check for the validation loss of the second label with 47 \n",
        "    classes feel free to check on the loss you want during model saving\n",
        "    \"\"\"\n",
        "    if valid_loss_2 < best_valid_loss:\n",
        "        best_valid_loss = valid_loss_2\n",
        "        torch.save(questions_model.state_dict(), 'best-model.pt')\n",
        "    end = time.time()\n",
        "    visualize_training(start, end, train_loss_1, train_loss_2, train_acc_1, train_acc_2, \n",
        "                       valid_loss_1, valid_loss_2, valid_acc_1, valid_acc_2, title)\n"
      ],
      "execution_count": 33,
      "outputs": [
        {
          "output_type": "stream",
          "text": [
            "+---------------------------------------------------------------------+\n",
            "|                  EPOCH: 01/100 saving best model...                 |\n",
            "+------------+--------+--------+------------+------------+------------+\n",
            "| CATEGORY   | LOSS_1 | LOSS_2 | ACCURACY_1 | ACCURACY_2 |        ETA |\n",
            "+------------+--------+--------+------------+------------+------------+\n",
            "| Training   |  0.263 |  0.842 |      0.910 |      0.754 | 0:00:01.23 |\n",
            "| Validation |  0.407 |  0.989 |      0.849 |      0.748 |            |\n",
            "+------------+--------+--------+------------+------------+------------+\n",
            "+---------------------------------------------------------------------+\n",
            "|                  EPOCH: 02/100 saving best model...                 |\n",
            "+------------+--------+--------+------------+------------+------------+\n",
            "| CATEGORY   | LOSS_1 | LOSS_2 | ACCURACY_1 | ACCURACY_2 |        ETA |\n",
            "+------------+--------+--------+------------+------------+------------+\n",
            "| Training   |  0.259 |  0.807 |      0.910 |      0.769 | 0:00:01.12 |\n",
            "| Validation |  0.353 |  0.900 |      0.871 |      0.764 |            |\n",
            "+------------+--------+--------+------------+------------+------------+\n",
            "+---------------------------------------------------------------------+\n",
            "|                     EPOCH: 03/100 not saving...                     |\n",
            "+------------+--------+--------+------------+------------+------------+\n",
            "| CATEGORY   | LOSS_1 | LOSS_2 | ACCURACY_1 | ACCURACY_2 |        ETA |\n",
            "+------------+--------+--------+------------+------------+------------+\n",
            "| Training   |  0.232 |  0.727 |      0.922 |      0.790 | 0:00:01.09 |\n",
            "| Validation |  0.361 |  0.938 |      0.888 |      0.785 |            |\n",
            "+------------+--------+--------+------------+------------+------------+\n",
            "+---------------------------------------------------------------------+\n",
            "|                     EPOCH: 04/100 not saving...                     |\n",
            "+------------+--------+--------+------------+------------+------------+\n",
            "| CATEGORY   | LOSS_1 | LOSS_2 | ACCURACY_1 | ACCURACY_2 |        ETA |\n",
            "+------------+--------+--------+------------+------------+------------+\n",
            "| Training   |  0.205 |  0.695 |      0.931 |      0.797 | 0:00:01.08 |\n",
            "| Validation |  0.476 |  1.071 |      0.870 |      0.768 |            |\n",
            "+------------+--------+--------+------------+------------+------------+\n",
            "+---------------------------------------------------------------------+\n",
            "|                     EPOCH: 05/100 not saving...                     |\n",
            "+------------+--------+--------+------------+------------+------------+\n",
            "| CATEGORY   | LOSS_1 | LOSS_2 | ACCURACY_1 | ACCURACY_2 |        ETA |\n",
            "+------------+--------+--------+------------+------------+------------+\n",
            "| Training   |  0.198 |  0.636 |      0.932 |      0.815 | 0:00:01.09 |\n",
            "| Validation |  0.409 |  1.014 |      0.879 |      0.764 |            |\n",
            "+------------+--------+--------+------------+------------+------------+\n",
            "+---------------------------------------------------------------------+\n",
            "|                     EPOCH: 06/100 not saving...                     |\n",
            "+------------+--------+--------+------------+------------+------------+\n",
            "| CATEGORY   | LOSS_1 | LOSS_2 | ACCURACY_1 | ACCURACY_2 |        ETA |\n",
            "+------------+--------+--------+------------+------------+------------+\n",
            "| Training   |  0.179 |  0.611 |      0.937 |      0.824 | 0:00:01.09 |\n",
            "| Validation |  0.364 |  0.939 |      0.879 |      0.771 |            |\n",
            "+------------+--------+--------+------------+------------+------------+\n",
            "+---------------------------------------------------------------------+\n",
            "|                     EPOCH: 07/100 not saving...                     |\n",
            "+------------+--------+--------+------------+------------+------------+\n",
            "| CATEGORY   | LOSS_1 | LOSS_2 | ACCURACY_1 | ACCURACY_2 |        ETA |\n",
            "+------------+--------+--------+------------+------------+------------+\n",
            "| Training   |  0.149 |  0.555 |      0.949 |      0.835 | 0:00:01.07 |\n",
            "| Validation |  0.402 |  0.930 |      0.879 |      0.780 |            |\n",
            "+------------+--------+--------+------------+------------+------------+\n",
            "+---------------------------------------------------------------------+\n",
            "|                     EPOCH: 08/100 not saving...                     |\n",
            "+------------+--------+--------+------------+------------+------------+\n",
            "| CATEGORY   | LOSS_1 | LOSS_2 | ACCURACY_1 | ACCURACY_2 |        ETA |\n",
            "+------------+--------+--------+------------+------------+------------+\n",
            "| Training   |  0.149 |  0.534 |      0.950 |      0.843 | 0:00:01.09 |\n",
            "| Validation |  0.411 |  1.038 |      0.892 |      0.786 |            |\n",
            "+------------+--------+--------+------------+------------+------------+\n",
            "+---------------------------------------------------------------------+\n",
            "|                     EPOCH: 09/100 not saving...                     |\n",
            "+------------+--------+--------+------------+------------+------------+\n",
            "| CATEGORY   | LOSS_1 | LOSS_2 | ACCURACY_1 | ACCURACY_2 |        ETA |\n",
            "+------------+--------+--------+------------+------------+------------+\n",
            "| Training   |  0.150 |  0.509 |      0.950 |      0.852 | 0:00:01.07 |\n",
            "| Validation |  0.466 |  0.974 |      0.850 |      0.783 |            |\n",
            "+------------+--------+--------+------------+------------+------------+\n",
            "+---------------------------------------------------------------------+\n",
            "|                     EPOCH: 10/100 not saving...                     |\n",
            "+------------+--------+--------+------------+------------+------------+\n",
            "| CATEGORY   | LOSS_1 | LOSS_2 | ACCURACY_1 | ACCURACY_2 |        ETA |\n",
            "+------------+--------+--------+------------+------------+------------+\n",
            "| Training   |  0.133 |  0.485 |      0.956 |      0.858 | 0:00:01.09 |\n",
            "| Validation |  0.377 |  0.987 |      0.887 |      0.787 |            |\n",
            "+------------+--------+--------+------------+------------+------------+\n",
            "+---------------------------------------------------------------------+\n",
            "|                     EPOCH: 11/100 not saving...                     |\n",
            "+------------+--------+--------+------------+------------+------------+\n",
            "| CATEGORY   | LOSS_1 | LOSS_2 | ACCURACY_1 | ACCURACY_2 |        ETA |\n",
            "+------------+--------+--------+------------+------------+------------+\n",
            "| Training   |  0.121 |  0.440 |      0.959 |      0.874 | 0:00:01.08 |\n",
            "| Validation |  0.418 |  0.974 |      0.893 |      0.796 |            |\n",
            "+------------+--------+--------+------------+------------+------------+\n",
            "+---------------------------------------------------------------------+\n",
            "|                     EPOCH: 12/100 not saving...                     |\n",
            "+------------+--------+--------+------------+------------+------------+\n",
            "| CATEGORY   | LOSS_1 | LOSS_2 | ACCURACY_1 | ACCURACY_2 |        ETA |\n",
            "+------------+--------+--------+------------+------------+------------+\n",
            "| Training   |  0.119 |  0.423 |      0.960 |      0.871 | 0:00:01.07 |\n",
            "| Validation |  0.453 |  1.083 |      0.872 |      0.800 |            |\n",
            "+------------+--------+--------+------------+------------+------------+\n",
            "+---------------------------------------------------------------------+\n",
            "|                     EPOCH: 13/100 not saving...                     |\n",
            "+------------+--------+--------+------------+------------+------------+\n",
            "| CATEGORY   | LOSS_1 | LOSS_2 | ACCURACY_1 | ACCURACY_2 |        ETA |\n",
            "+------------+--------+--------+------------+------------+------------+\n",
            "| Training   |  0.116 |  0.423 |      0.962 |      0.876 | 0:00:01.08 |\n",
            "| Validation |  0.439 |  0.993 |      0.894 |      0.799 |            |\n",
            "+------------+--------+--------+------------+------------+------------+\n",
            "+---------------------------------------------------------------------+\n",
            "|                     EPOCH: 14/100 not saving...                     |\n",
            "+------------+--------+--------+------------+------------+------------+\n",
            "| CATEGORY   | LOSS_1 | LOSS_2 | ACCURACY_1 | ACCURACY_2 |        ETA |\n",
            "+------------+--------+--------+------------+------------+------------+\n",
            "| Training   |  0.122 |  0.400 |      0.963 |      0.888 | 0:00:01.07 |\n",
            "| Validation |  0.464 |  0.974 |      0.872 |      0.796 |            |\n",
            "+------------+--------+--------+------------+------------+------------+\n",
            "+---------------------------------------------------------------------+\n",
            "|                     EPOCH: 15/100 not saving...                     |\n",
            "+------------+--------+--------+------------+------------+------------+\n",
            "| CATEGORY   | LOSS_1 | LOSS_2 | ACCURACY_1 | ACCURACY_2 |        ETA |\n",
            "+------------+--------+--------+------------+------------+------------+\n",
            "| Training   |  0.102 |  0.387 |      0.967 |      0.887 | 0:00:01.08 |\n",
            "| Validation |  0.454 |  1.003 |      0.875 |      0.804 |            |\n",
            "+------------+--------+--------+------------+------------+------------+\n",
            "+---------------------------------------------------------------------+\n",
            "|                     EPOCH: 16/100 not saving...                     |\n",
            "+------------+--------+--------+------------+------------+------------+\n",
            "| CATEGORY   | LOSS_1 | LOSS_2 | ACCURACY_1 | ACCURACY_2 |        ETA |\n",
            "+------------+--------+--------+------------+------------+------------+\n",
            "| Training   |  0.096 |  0.348 |      0.968 |      0.896 | 0:00:01.07 |\n",
            "| Validation |  0.391 |  0.982 |      0.916 |      0.823 |            |\n",
            "+------------+--------+--------+------------+------------+------------+\n",
            "+---------------------------------------------------------------------+\n",
            "|                     EPOCH: 17/100 not saving...                     |\n",
            "+------------+--------+--------+------------+------------+------------+\n",
            "| CATEGORY   | LOSS_1 | LOSS_2 | ACCURACY_1 | ACCURACY_2 |        ETA |\n",
            "+------------+--------+--------+------------+------------+------------+\n",
            "| Training   |  0.107 |  0.349 |      0.967 |      0.894 | 0:00:01.12 |\n",
            "| Validation |  0.505 |  1.072 |      0.878 |      0.798 |            |\n",
            "+------------+--------+--------+------------+------------+------------+\n",
            "+---------------------------------------------------------------------+\n",
            "|                     EPOCH: 18/100 not saving...                     |\n",
            "+------------+--------+--------+------------+------------+------------+\n",
            "| CATEGORY   | LOSS_1 | LOSS_2 | ACCURACY_1 | ACCURACY_2 |        ETA |\n",
            "+------------+--------+--------+------------+------------+------------+\n",
            "| Training   |  0.093 |  0.314 |      0.970 |      0.910 | 0:00:01.11 |\n",
            "| Validation |  0.484 |  1.011 |      0.876 |      0.811 |            |\n",
            "+------------+--------+--------+------------+------------+------------+\n",
            "+---------------------------------------------------------------------+\n",
            "|                     EPOCH: 19/100 not saving...                     |\n",
            "+------------+--------+--------+------------+------------+------------+\n",
            "| CATEGORY   | LOSS_1 | LOSS_2 | ACCURACY_1 | ACCURACY_2 |        ETA |\n",
            "+------------+--------+--------+------------+------------+------------+\n",
            "| Training   |  0.090 |  0.313 |      0.969 |      0.905 | 0:00:01.09 |\n",
            "| Validation |  0.530 |  1.000 |      0.883 |      0.832 |            |\n",
            "+------------+--------+--------+------------+------------+------------+\n",
            "+---------------------------------------------------------------------+\n",
            "|                     EPOCH: 20/100 not saving...                     |\n",
            "+------------+--------+--------+------------+------------+------------+\n",
            "| CATEGORY   | LOSS_1 | LOSS_2 | ACCURACY_1 | ACCURACY_2 |        ETA |\n",
            "+------------+--------+--------+------------+------------+------------+\n",
            "| Training   |  0.101 |  0.299 |      0.971 |      0.914 | 0:00:01.10 |\n",
            "| Validation |  0.466 |  0.961 |      0.879 |      0.832 |            |\n",
            "+------------+--------+--------+------------+------------+------------+\n",
            "+---------------------------------------------------------------------+\n",
            "|                     EPOCH: 21/100 not saving...                     |\n",
            "+------------+--------+--------+------------+------------+------------+\n",
            "| CATEGORY   | LOSS_1 | LOSS_2 | ACCURACY_1 | ACCURACY_2 |        ETA |\n",
            "+------------+--------+--------+------------+------------+------------+\n",
            "| Training   |  0.080 |  0.279 |      0.975 |      0.923 | 0:00:01.09 |\n",
            "| Validation |  0.513 |  1.060 |      0.888 |      0.810 |            |\n",
            "+------------+--------+--------+------------+------------+------------+\n",
            "+---------------------------------------------------------------------+\n",
            "|                     EPOCH: 22/100 not saving...                     |\n",
            "+------------+--------+--------+------------+------------+------------+\n",
            "| CATEGORY   | LOSS_1 | LOSS_2 | ACCURACY_1 | ACCURACY_2 |        ETA |\n",
            "+------------+--------+--------+------------+------------+------------+\n",
            "| Training   |  0.084 |  0.268 |      0.976 |      0.919 | 0:00:01.07 |\n",
            "| Validation |  0.403 |  0.974 |      0.915 |      0.824 |            |\n",
            "+------------+--------+--------+------------+------------+------------+\n",
            "+---------------------------------------------------------------------+\n",
            "|                     EPOCH: 23/100 not saving...                     |\n",
            "+------------+--------+--------+------------+------------+------------+\n",
            "| CATEGORY   | LOSS_1 | LOSS_2 | ACCURACY_1 | ACCURACY_2 |        ETA |\n",
            "+------------+--------+--------+------------+------------+------------+\n",
            "| Training   |  0.064 |  0.251 |      0.979 |      0.926 | 0:00:01.06 |\n",
            "| Validation |  0.521 |  1.081 |      0.883 |      0.835 |            |\n",
            "+------------+--------+--------+------------+------------+------------+\n",
            "+---------------------------------------------------------------------+\n",
            "|                     EPOCH: 24/100 not saving...                     |\n",
            "+------------+--------+--------+------------+------------+------------+\n",
            "| CATEGORY   | LOSS_1 | LOSS_2 | ACCURACY_1 | ACCURACY_2 |        ETA |\n",
            "+------------+--------+--------+------------+------------+------------+\n",
            "| Training   |  0.075 |  0.243 |      0.975 |      0.931 | 0:00:01.02 |\n",
            "| Validation |  0.534 |  1.100 |      0.903 |      0.816 |            |\n",
            "+------------+--------+--------+------------+------------+------------+\n",
            "+---------------------------------------------------------------------+\n",
            "|                     EPOCH: 25/100 not saving...                     |\n",
            "+------------+--------+--------+------------+------------+------------+\n",
            "| CATEGORY   | LOSS_1 | LOSS_2 | ACCURACY_1 | ACCURACY_2 |        ETA |\n",
            "+------------+--------+--------+------------+------------+------------+\n",
            "| Training   |  0.059 |  0.238 |      0.980 |      0.928 | 0:00:01.04 |\n",
            "| Validation |  0.499 |  1.159 |      0.899 |      0.810 |            |\n",
            "+------------+--------+--------+------------+------------+------------+\n",
            "+---------------------------------------------------------------------+\n",
            "|                     EPOCH: 26/100 not saving...                     |\n",
            "+------------+--------+--------+------------+------------+------------+\n",
            "| CATEGORY   | LOSS_1 | LOSS_2 | ACCURACY_1 | ACCURACY_2 |        ETA |\n",
            "+------------+--------+--------+------------+------------+------------+\n",
            "| Training   |  0.065 |  0.224 |      0.978 |      0.936 | 0:00:01.03 |\n",
            "| Validation |  0.502 |  1.151 |      0.904 |      0.807 |            |\n",
            "+------------+--------+--------+------------+------------+------------+\n",
            "+---------------------------------------------------------------------+\n",
            "|                     EPOCH: 27/100 not saving...                     |\n",
            "+------------+--------+--------+------------+------------+------------+\n",
            "| CATEGORY   | LOSS_1 | LOSS_2 | ACCURACY_1 | ACCURACY_2 |        ETA |\n",
            "+------------+--------+--------+------------+------------+------------+\n",
            "| Training   |  0.064 |  0.206 |      0.978 |      0.937 | 0:00:01.04 |\n",
            "| Validation |  0.548 |  1.118 |      0.886 |      0.827 |            |\n",
            "+------------+--------+--------+------------+------------+------------+\n",
            "+---------------------------------------------------------------------+\n",
            "|                     EPOCH: 28/100 not saving...                     |\n",
            "+------------+--------+--------+------------+------------+------------+\n",
            "| CATEGORY   | LOSS_1 | LOSS_2 | ACCURACY_1 | ACCURACY_2 |        ETA |\n",
            "+------------+--------+--------+------------+------------+------------+\n",
            "| Training   |  0.050 |  0.187 |      0.982 |      0.943 | 0:00:01.05 |\n",
            "| Validation |  0.544 |  1.323 |      0.900 |      0.818 |            |\n",
            "+------------+--------+--------+------------+------------+------------+\n",
            "+---------------------------------------------------------------------+\n",
            "|                     EPOCH: 29/100 not saving...                     |\n",
            "+------------+--------+--------+------------+------------+------------+\n",
            "| CATEGORY   | LOSS_1 | LOSS_2 | ACCURACY_1 | ACCURACY_2 |        ETA |\n",
            "+------------+--------+--------+------------+------------+------------+\n",
            "| Training   |  0.058 |  0.178 |      0.981 |      0.947 | 0:00:01.03 |\n",
            "| Validation |  0.595 |  1.323 |      0.886 |      0.814 |            |\n",
            "+------------+--------+--------+------------+------------+------------+\n",
            "+---------------------------------------------------------------------+\n",
            "|                     EPOCH: 30/100 not saving...                     |\n",
            "+------------+--------+--------+------------+------------+------------+\n",
            "| CATEGORY   | LOSS_1 | LOSS_2 | ACCURACY_1 | ACCURACY_2 |        ETA |\n",
            "+------------+--------+--------+------------+------------+------------+\n",
            "| Training   |  0.053 |  0.190 |      0.985 |      0.945 | 0:00:01.06 |\n",
            "| Validation |  0.571 |  1.295 |      0.891 |      0.810 |            |\n",
            "+------------+--------+--------+------------+------------+------------+\n",
            "+---------------------------------------------------------------------+\n",
            "|                     EPOCH: 31/100 not saving...                     |\n",
            "+------------+--------+--------+------------+------------+------------+\n",
            "| CATEGORY   | LOSS_1 | LOSS_2 | ACCURACY_1 | ACCURACY_2 |        ETA |\n",
            "+------------+--------+--------+------------+------------+------------+\n",
            "| Training   |  0.058 |  0.189 |      0.980 |      0.946 | 0:00:01.05 |\n",
            "| Validation |  0.731 |  1.365 |      0.891 |      0.821 |            |\n",
            "+------------+--------+--------+------------+------------+------------+\n",
            "+---------------------------------------------------------------------+\n",
            "|                     EPOCH: 32/100 not saving...                     |\n",
            "+------------+--------+--------+------------+------------+------------+\n",
            "| CATEGORY   | LOSS_1 | LOSS_2 | ACCURACY_1 | ACCURACY_2 |        ETA |\n",
            "+------------+--------+--------+------------+------------+------------+\n",
            "| Training   |  0.062 |  0.190 |      0.983 |      0.945 | 0:00:01.04 |\n",
            "| Validation |  0.571 |  1.286 |      0.887 |      0.824 |            |\n",
            "+------------+--------+--------+------------+------------+------------+\n",
            "+---------------------------------------------------------------------+\n",
            "|                     EPOCH: 33/100 not saving...                     |\n",
            "+------------+--------+--------+------------+------------+------------+\n",
            "| CATEGORY   | LOSS_1 | LOSS_2 | ACCURACY_1 | ACCURACY_2 |        ETA |\n",
            "+------------+--------+--------+------------+------------+------------+\n",
            "| Training   |  0.063 |  0.164 |      0.983 |      0.953 | 0:00:01.04 |\n",
            "| Validation |  0.676 |  1.450 |      0.870 |      0.810 |            |\n",
            "+------------+--------+--------+------------+------------+------------+\n",
            "+---------------------------------------------------------------------+\n",
            "|                     EPOCH: 34/100 not saving...                     |\n",
            "+------------+--------+--------+------------+------------+------------+\n",
            "| CATEGORY   | LOSS_1 | LOSS_2 | ACCURACY_1 | ACCURACY_2 |        ETA |\n",
            "+------------+--------+--------+------------+------------+------------+\n",
            "| Training   |  0.042 |  0.155 |      0.986 |      0.954 | 0:00:01.04 |\n",
            "| Validation |  0.814 |  1.516 |      0.878 |      0.827 |            |\n",
            "+------------+--------+--------+------------+------------+------------+\n",
            "+---------------------------------------------------------------------+\n",
            "|                     EPOCH: 35/100 not saving...                     |\n",
            "+------------+--------+--------+------------+------------+------------+\n",
            "| CATEGORY   | LOSS_1 | LOSS_2 | ACCURACY_1 | ACCURACY_2 |        ETA |\n",
            "+------------+--------+--------+------------+------------+------------+\n",
            "| Training   |  0.057 |  0.158 |      0.984 |      0.951 | 0:00:01.07 |\n",
            "| Validation |  0.756 |  1.587 |      0.878 |      0.822 |            |\n",
            "+------------+--------+--------+------------+------------+------------+\n",
            "+---------------------------------------------------------------------+\n",
            "|                     EPOCH: 36/100 not saving...                     |\n",
            "+------------+--------+--------+------------+------------+------------+\n",
            "| CATEGORY   | LOSS_1 | LOSS_2 | ACCURACY_1 | ACCURACY_2 |        ETA |\n",
            "+------------+--------+--------+------------+------------+------------+\n",
            "| Training   |  0.036 |  0.150 |      0.988 |      0.960 | 0:00:01.07 |\n",
            "| Validation |  0.675 |  1.454 |      0.893 |      0.831 |            |\n",
            "+------------+--------+--------+------------+------------+------------+\n",
            "+---------------------------------------------------------------------+\n",
            "|                     EPOCH: 37/100 not saving...                     |\n",
            "+------------+--------+--------+------------+------------+------------+\n",
            "| CATEGORY   | LOSS_1 | LOSS_2 | ACCURACY_1 | ACCURACY_2 |        ETA |\n",
            "+------------+--------+--------+------------+------------+------------+\n",
            "| Training   |  0.062 |  0.168 |      0.982 |      0.950 | 0:00:01.06 |\n",
            "| Validation |  0.660 |  1.378 |      0.883 |      0.819 |            |\n",
            "+------------+--------+--------+------------+------------+------------+\n",
            "+---------------------------------------------------------------------+\n",
            "|                     EPOCH: 38/100 not saving...                     |\n",
            "+------------+--------+--------+------------+------------+------------+\n",
            "| CATEGORY   | LOSS_1 | LOSS_2 | ACCURACY_1 | ACCURACY_2 |        ETA |\n",
            "+------------+--------+--------+------------+------------+------------+\n",
            "| Training   |  0.060 |  0.174 |      0.980 |      0.951 | 0:00:01.04 |\n",
            "| Validation |  0.736 |  1.401 |      0.894 |      0.827 |            |\n",
            "+------------+--------+--------+------------+------------+------------+\n",
            "+---------------------------------------------------------------------+\n",
            "|                     EPOCH: 39/100 not saving...                     |\n",
            "+------------+--------+--------+------------+------------+------------+\n",
            "| CATEGORY   | LOSS_1 | LOSS_2 | ACCURACY_1 | ACCURACY_2 |        ETA |\n",
            "+------------+--------+--------+------------+------------+------------+\n",
            "| Training   |  0.059 |  0.151 |      0.980 |      0.955 | 0:00:01.05 |\n",
            "| Validation |  0.706 |  1.589 |      0.895 |      0.823 |            |\n",
            "+------------+--------+--------+------------+------------+------------+\n",
            "+---------------------------------------------------------------------+\n",
            "|                     EPOCH: 40/100 not saving...                     |\n",
            "+------------+--------+--------+------------+------------+------------+\n",
            "| CATEGORY   | LOSS_1 | LOSS_2 | ACCURACY_1 | ACCURACY_2 |        ETA |\n",
            "+------------+--------+--------+------------+------------+------------+\n",
            "| Training   |  0.053 |  0.151 |      0.984 |      0.959 | 0:00:01.15 |\n",
            "| Validation |  0.717 |  1.460 |      0.891 |      0.832 |            |\n",
            "+------------+--------+--------+------------+------------+------------+\n",
            "+---------------------------------------------------------------------+\n",
            "|                     EPOCH: 41/100 not saving...                     |\n",
            "+------------+--------+--------+------------+------------+------------+\n",
            "| CATEGORY   | LOSS_1 | LOSS_2 | ACCURACY_1 | ACCURACY_2 |        ETA |\n",
            "+------------+--------+--------+------------+------------+------------+\n",
            "| Training   |  0.041 |  0.130 |      0.987 |      0.961 | 0:00:01.05 |\n",
            "| Validation |  0.847 |  1.418 |      0.869 |      0.828 |            |\n",
            "+------------+--------+--------+------------+------------+------------+\n",
            "+---------------------------------------------------------------------+\n",
            "|                     EPOCH: 42/100 not saving...                     |\n",
            "+------------+--------+--------+------------+------------+------------+\n",
            "| CATEGORY   | LOSS_1 | LOSS_2 | ACCURACY_1 | ACCURACY_2 |        ETA |\n",
            "+------------+--------+--------+------------+------------+------------+\n",
            "| Training   |  0.044 |  0.141 |      0.986 |      0.961 | 0:00:01.08 |\n",
            "| Validation |  0.818 |  1.541 |      0.899 |      0.827 |            |\n",
            "+------------+--------+--------+------------+------------+------------+\n",
            "+---------------------------------------------------------------------+\n",
            "|                     EPOCH: 43/100 not saving...                     |\n",
            "+------------+--------+--------+------------+------------+------------+\n",
            "| CATEGORY   | LOSS_1 | LOSS_2 | ACCURACY_1 | ACCURACY_2 |        ETA |\n",
            "+------------+--------+--------+------------+------------+------------+\n",
            "| Training   |  0.044 |  0.127 |      0.987 |      0.960 | 0:00:01.06 |\n",
            "| Validation |  0.650 |  1.262 |      0.908 |      0.856 |            |\n",
            "+------------+--------+--------+------------+------------+------------+\n",
            "+---------------------------------------------------------------------+\n",
            "|                     EPOCH: 44/100 not saving...                     |\n",
            "+------------+--------+--------+------------+------------+------------+\n",
            "| CATEGORY   | LOSS_1 | LOSS_2 | ACCURACY_1 | ACCURACY_2 |        ETA |\n",
            "+------------+--------+--------+------------+------------+------------+\n",
            "| Training   |  0.040 |  0.106 |      0.987 |      0.967 | 0:00:01.06 |\n",
            "| Validation |  0.670 |  1.357 |      0.908 |      0.848 |            |\n",
            "+------------+--------+--------+------------+------------+------------+\n",
            "+---------------------------------------------------------------------+\n",
            "|                     EPOCH: 45/100 not saving...                     |\n",
            "+------------+--------+--------+------------+------------+------------+\n",
            "| CATEGORY   | LOSS_1 | LOSS_2 | ACCURACY_1 | ACCURACY_2 |        ETA |\n",
            "+------------+--------+--------+------------+------------+------------+\n",
            "| Training   |  0.046 |  0.116 |      0.987 |      0.967 | 0:00:01.07 |\n",
            "| Validation |  0.787 |  1.590 |      0.890 |      0.821 |            |\n",
            "+------------+--------+--------+------------+------------+------------+\n",
            "+---------------------------------------------------------------------+\n",
            "|                     EPOCH: 46/100 not saving...                     |\n",
            "+------------+--------+--------+------------+------------+------------+\n",
            "| CATEGORY   | LOSS_1 | LOSS_2 | ACCURACY_1 | ACCURACY_2 |        ETA |\n",
            "+------------+--------+--------+------------+------------+------------+\n",
            "| Training   |  0.048 |  0.136 |      0.986 |      0.962 | 0:00:01.05 |\n",
            "| Validation |  0.691 |  1.438 |      0.892 |      0.832 |            |\n",
            "+------------+--------+--------+------------+------------+------------+\n",
            "+---------------------------------------------------------------------+\n",
            "|                     EPOCH: 47/100 not saving...                     |\n",
            "+------------+--------+--------+------------+------------+------------+\n",
            "| CATEGORY   | LOSS_1 | LOSS_2 | ACCURACY_1 | ACCURACY_2 |        ETA |\n",
            "+------------+--------+--------+------------+------------+------------+\n",
            "| Training   |  0.045 |  0.131 |      0.987 |      0.964 | 0:00:01.07 |\n",
            "| Validation |  0.650 |  1.357 |      0.891 |      0.827 |            |\n",
            "+------------+--------+--------+------------+------------+------------+\n",
            "+---------------------------------------------------------------------+\n",
            "|                     EPOCH: 48/100 not saving...                     |\n",
            "+------------+--------+--------+------------+------------+------------+\n",
            "| CATEGORY   | LOSS_1 | LOSS_2 | ACCURACY_1 | ACCURACY_2 |        ETA |\n",
            "+------------+--------+--------+------------+------------+------------+\n",
            "| Training   |  0.035 |  0.116 |      0.989 |      0.966 | 0:00:01.07 |\n",
            "| Validation |  0.558 |  1.248 |      0.907 |      0.823 |            |\n",
            "+------------+--------+--------+------------+------------+------------+\n",
            "+---------------------------------------------------------------------+\n",
            "|                     EPOCH: 49/100 not saving...                     |\n",
            "+------------+--------+--------+------------+------------+------------+\n",
            "| CATEGORY   | LOSS_1 | LOSS_2 | ACCURACY_1 | ACCURACY_2 |        ETA |\n",
            "+------------+--------+--------+------------+------------+------------+\n",
            "| Training   |  0.047 |  0.104 |      0.987 |      0.971 | 0:00:01.10 |\n",
            "| Validation |  0.666 |  1.468 |      0.905 |      0.822 |            |\n",
            "+------------+--------+--------+------------+------------+------------+\n",
            "+---------------------------------------------------------------------+\n",
            "|                     EPOCH: 50/100 not saving...                     |\n",
            "+------------+--------+--------+------------+------------+------------+\n",
            "| CATEGORY   | LOSS_1 | LOSS_2 | ACCURACY_1 | ACCURACY_2 |        ETA |\n",
            "+------------+--------+--------+------------+------------+------------+\n",
            "| Training   |  0.038 |  0.109 |      0.989 |      0.969 | 0:00:01.06 |\n",
            "| Validation |  0.642 |  1.521 |      0.889 |      0.818 |            |\n",
            "+------------+--------+--------+------------+------------+------------+\n",
            "+---------------------------------------------------------------------+\n",
            "|                     EPOCH: 51/100 not saving...                     |\n",
            "+------------+--------+--------+------------+------------+------------+\n",
            "| CATEGORY   | LOSS_1 | LOSS_2 | ACCURACY_1 | ACCURACY_2 |        ETA |\n",
            "+------------+--------+--------+------------+------------+------------+\n",
            "| Training   |  0.028 |  0.103 |      0.992 |      0.973 | 0:00:01.04 |\n",
            "| Validation |  0.621 |  1.537 |      0.911 |      0.823 |            |\n",
            "+------------+--------+--------+------------+------------+------------+\n",
            "+---------------------------------------------------------------------+\n",
            "|                     EPOCH: 52/100 not saving...                     |\n",
            "+------------+--------+--------+------------+------------+------------+\n",
            "| CATEGORY   | LOSS_1 | LOSS_2 | ACCURACY_1 | ACCURACY_2 |        ETA |\n",
            "+------------+--------+--------+------------+------------+------------+\n",
            "| Training   |  0.031 |  0.086 |      0.991 |      0.972 | 0:00:01.05 |\n",
            "| Validation |  0.735 |  1.634 |      0.911 |      0.820 |            |\n",
            "+------------+--------+--------+------------+------------+------------+\n",
            "+---------------------------------------------------------------------+\n",
            "|                     EPOCH: 53/100 not saving...                     |\n",
            "+------------+--------+--------+------------+------------+------------+\n",
            "| CATEGORY   | LOSS_1 | LOSS_2 | ACCURACY_1 | ACCURACY_2 |        ETA |\n",
            "+------------+--------+--------+------------+------------+------------+\n",
            "| Training   |  0.037 |  0.122 |      0.987 |      0.967 | 0:00:01.06 |\n",
            "| Validation |  0.502 |  1.218 |      0.902 |      0.832 |            |\n",
            "+------------+--------+--------+------------+------------+------------+\n",
            "+---------------------------------------------------------------------+\n",
            "|                     EPOCH: 54/100 not saving...                     |\n",
            "+------------+--------+--------+------------+------------+------------+\n",
            "| CATEGORY   | LOSS_1 | LOSS_2 | ACCURACY_1 | ACCURACY_2 |        ETA |\n",
            "+------------+--------+--------+------------+------------+------------+\n",
            "| Training   |  0.025 |  0.091 |      0.991 |      0.975 | 0:00:01.04 |\n",
            "| Validation |  0.702 |  1.349 |      0.889 |      0.835 |            |\n",
            "+------------+--------+--------+------------+------------+------------+\n",
            "+---------------------------------------------------------------------+\n",
            "|                     EPOCH: 55/100 not saving...                     |\n",
            "+------------+--------+--------+------------+------------+------------+\n",
            "| CATEGORY   | LOSS_1 | LOSS_2 | ACCURACY_1 | ACCURACY_2 |        ETA |\n",
            "+------------+--------+--------+------------+------------+------------+\n",
            "| Training   |  0.038 |  0.082 |      0.987 |      0.973 | 0:00:01.06 |\n",
            "| Validation |  0.608 |  1.364 |      0.908 |      0.841 |            |\n",
            "+------------+--------+--------+------------+------------+------------+\n",
            "+---------------------------------------------------------------------+\n",
            "|                     EPOCH: 56/100 not saving...                     |\n",
            "+------------+--------+--------+------------+------------+------------+\n",
            "| CATEGORY   | LOSS_1 | LOSS_2 | ACCURACY_1 | ACCURACY_2 |        ETA |\n",
            "+------------+--------+--------+------------+------------+------------+\n",
            "| Training   |  0.048 |  0.113 |      0.986 |      0.967 | 0:00:01.03 |\n",
            "| Validation |  0.704 |  1.503 |      0.900 |      0.842 |            |\n",
            "+------------+--------+--------+------------+------------+------------+\n",
            "+---------------------------------------------------------------------+\n",
            "|                     EPOCH: 57/100 not saving...                     |\n",
            "+------------+--------+--------+------------+------------+------------+\n",
            "| CATEGORY   | LOSS_1 | LOSS_2 | ACCURACY_1 | ACCURACY_2 |        ETA |\n",
            "+------------+--------+--------+------------+------------+------------+\n",
            "| Training   |  0.025 |  0.099 |      0.992 |      0.974 | 0:00:01.04 |\n",
            "| Validation |  0.730 |  1.774 |      0.915 |      0.831 |            |\n",
            "+------------+--------+--------+------------+------------+------------+\n",
            "+---------------------------------------------------------------------+\n",
            "|                     EPOCH: 58/100 not saving...                     |\n",
            "+------------+--------+--------+------------+------------+------------+\n",
            "| CATEGORY   | LOSS_1 | LOSS_2 | ACCURACY_1 | ACCURACY_2 |        ETA |\n",
            "+------------+--------+--------+------------+------------+------------+\n",
            "| Training   |  0.043 |  0.110 |      0.988 |      0.972 | 0:00:01.07 |\n",
            "| Validation |  0.754 |  1.725 |      0.903 |      0.849 |            |\n",
            "+------------+--------+--------+------------+------------+------------+\n",
            "+---------------------------------------------------------------------+\n",
            "|                     EPOCH: 59/100 not saving...                     |\n",
            "+------------+--------+--------+------------+------------+------------+\n",
            "| CATEGORY   | LOSS_1 | LOSS_2 | ACCURACY_1 | ACCURACY_2 |        ETA |\n",
            "+------------+--------+--------+------------+------------+------------+\n",
            "| Training   |  0.044 |  0.108 |      0.986 |      0.972 | 0:00:01.09 |\n",
            "| Validation |  0.684 |  1.364 |      0.907 |      0.853 |            |\n",
            "+------------+--------+--------+------------+------------+------------+\n",
            "+---------------------------------------------------------------------+\n",
            "|                     EPOCH: 60/100 not saving...                     |\n",
            "+------------+--------+--------+------------+------------+------------+\n",
            "| CATEGORY   | LOSS_1 | LOSS_2 | ACCURACY_1 | ACCURACY_2 |        ETA |\n",
            "+------------+--------+--------+------------+------------+------------+\n",
            "| Training   |  0.031 |  0.098 |      0.988 |      0.972 | 0:00:01.05 |\n",
            "| Validation |  0.661 |  1.364 |      0.911 |      0.842 |            |\n",
            "+------------+--------+--------+------------+------------+------------+\n",
            "+---------------------------------------------------------------------+\n",
            "|                     EPOCH: 61/100 not saving...                     |\n",
            "+------------+--------+--------+------------+------------+------------+\n",
            "| CATEGORY   | LOSS_1 | LOSS_2 | ACCURACY_1 | ACCURACY_2 |        ETA |\n",
            "+------------+--------+--------+------------+------------+------------+\n",
            "| Training   |  0.026 |  0.067 |      0.991 |      0.979 | 0:00:01.06 |\n",
            "| Validation |  0.683 |  1.703 |      0.918 |      0.847 |            |\n",
            "+------------+--------+--------+------------+------------+------------+\n",
            "+---------------------------------------------------------------------+\n",
            "|                     EPOCH: 62/100 not saving...                     |\n",
            "+------------+--------+--------+------------+------------+------------+\n",
            "| CATEGORY   | LOSS_1 | LOSS_2 | ACCURACY_1 | ACCURACY_2 |        ETA |\n",
            "+------------+--------+--------+------------+------------+------------+\n",
            "| Training   |  0.042 |  0.098 |      0.987 |      0.970 | 0:00:01.10 |\n",
            "| Validation |  0.675 |  1.674 |      0.915 |      0.855 |            |\n",
            "+------------+--------+--------+------------+------------+------------+\n",
            "+---------------------------------------------------------------------+\n",
            "|                     EPOCH: 63/100 not saving...                     |\n",
            "+------------+--------+--------+------------+------------+------------+\n",
            "| CATEGORY   | LOSS_1 | LOSS_2 | ACCURACY_1 | ACCURACY_2 |        ETA |\n",
            "+------------+--------+--------+------------+------------+------------+\n",
            "| Training   |  0.033 |  0.101 |      0.990 |      0.972 | 0:00:01.12 |\n",
            "| Validation |  0.646 |  1.573 |      0.915 |      0.838 |            |\n",
            "+------------+--------+--------+------------+------------+------------+\n",
            "+---------------------------------------------------------------------+\n",
            "|                     EPOCH: 64/100 not saving...                     |\n",
            "+------------+--------+--------+------------+------------+------------+\n",
            "| CATEGORY   | LOSS_1 | LOSS_2 | ACCURACY_1 | ACCURACY_2 |        ETA |\n",
            "+------------+--------+--------+------------+------------+------------+\n",
            "| Training   |  0.044 |  0.105 |      0.991 |      0.975 | 0:00:01.10 |\n",
            "| Validation |  0.645 |  1.506 |      0.915 |      0.839 |            |\n",
            "+------------+--------+--------+------------+------------+------------+\n",
            "+---------------------------------------------------------------------+\n",
            "|                     EPOCH: 65/100 not saving...                     |\n",
            "+------------+--------+--------+------------+------------+------------+\n",
            "| CATEGORY   | LOSS_1 | LOSS_2 | ACCURACY_1 | ACCURACY_2 |        ETA |\n",
            "+------------+--------+--------+------------+------------+------------+\n",
            "| Training   |  0.028 |  0.089 |      0.991 |      0.976 | 0:00:01.10 |\n",
            "| Validation |  0.944 |  1.898 |      0.898 |      0.839 |            |\n",
            "+------------+--------+--------+------------+------------+------------+\n",
            "+---------------------------------------------------------------------+\n",
            "|                     EPOCH: 66/100 not saving...                     |\n",
            "+------------+--------+--------+------------+------------+------------+\n",
            "| CATEGORY   | LOSS_1 | LOSS_2 | ACCURACY_1 | ACCURACY_2 |        ETA |\n",
            "+------------+--------+--------+------------+------------+------------+\n",
            "| Training   |  0.028 |  0.091 |      0.992 |      0.974 | 0:00:01.11 |\n",
            "| Validation |  0.905 |  1.893 |      0.903 |      0.839 |            |\n",
            "+------------+--------+--------+------------+------------+------------+\n",
            "+---------------------------------------------------------------------+\n",
            "|                     EPOCH: 67/100 not saving...                     |\n",
            "+------------+--------+--------+------------+------------+------------+\n",
            "| CATEGORY   | LOSS_1 | LOSS_2 | ACCURACY_1 | ACCURACY_2 |        ETA |\n",
            "+------------+--------+--------+------------+------------+------------+\n",
            "| Training   |  0.036 |  0.103 |      0.990 |      0.976 | 0:00:01.10 |\n",
            "| Validation |  0.837 |  1.681 |      0.895 |      0.827 |            |\n",
            "+------------+--------+--------+------------+------------+------------+\n",
            "+---------------------------------------------------------------------+\n",
            "|                     EPOCH: 68/100 not saving...                     |\n",
            "+------------+--------+--------+------------+------------+------------+\n",
            "| CATEGORY   | LOSS_1 | LOSS_2 | ACCURACY_1 | ACCURACY_2 |        ETA |\n",
            "+------------+--------+--------+------------+------------+------------+\n",
            "| Training   |  0.029 |  0.086 |      0.991 |      0.979 | 0:00:01.09 |\n",
            "| Validation |  0.788 |  1.710 |      0.894 |      0.832 |            |\n",
            "+------------+--------+--------+------------+------------+------------+\n",
            "+---------------------------------------------------------------------+\n",
            "|                     EPOCH: 69/100 not saving...                     |\n",
            "+------------+--------+--------+------------+------------+------------+\n",
            "| CATEGORY   | LOSS_1 | LOSS_2 | ACCURACY_1 | ACCURACY_2 |        ETA |\n",
            "+------------+--------+--------+------------+------------+------------+\n",
            "| Training   |  0.034 |  0.085 |      0.991 |      0.975 | 0:00:01.11 |\n",
            "| Validation |  0.839 |  1.643 |      0.898 |      0.839 |            |\n",
            "+------------+--------+--------+------------+------------+------------+\n",
            "+---------------------------------------------------------------------+\n",
            "|                     EPOCH: 70/100 not saving...                     |\n",
            "+------------+--------+--------+------------+------------+------------+\n",
            "| CATEGORY   | LOSS_1 | LOSS_2 | ACCURACY_1 | ACCURACY_2 |        ETA |\n",
            "+------------+--------+--------+------------+------------+------------+\n",
            "| Training   |  0.029 |  0.077 |      0.993 |      0.981 | 0:00:01.11 |\n",
            "| Validation |  0.791 |  1.608 |      0.896 |      0.827 |            |\n",
            "+------------+--------+--------+------------+------------+------------+\n",
            "+---------------------------------------------------------------------+\n",
            "|                     EPOCH: 71/100 not saving...                     |\n",
            "+------------+--------+--------+------------+------------+------------+\n",
            "| CATEGORY   | LOSS_1 | LOSS_2 | ACCURACY_1 | ACCURACY_2 |        ETA |\n",
            "+------------+--------+--------+------------+------------+------------+\n",
            "| Training   |  0.026 |  0.094 |      0.993 |      0.976 | 0:00:01.11 |\n",
            "| Validation |  0.820 |  1.594 |      0.912 |      0.824 |            |\n",
            "+------------+--------+--------+------------+------------+------------+\n",
            "+---------------------------------------------------------------------+\n",
            "|                     EPOCH: 72/100 not saving...                     |\n",
            "+------------+--------+--------+------------+------------+------------+\n",
            "| CATEGORY   | LOSS_1 | LOSS_2 | ACCURACY_1 | ACCURACY_2 |        ETA |\n",
            "+------------+--------+--------+------------+------------+------------+\n",
            "| Training   |  0.034 |  0.083 |      0.991 |      0.979 | 0:00:01.11 |\n",
            "| Validation |  0.848 |  1.616 |      0.915 |      0.832 |            |\n",
            "+------------+--------+--------+------------+------------+------------+\n",
            "+---------------------------------------------------------------------+\n",
            "|                     EPOCH: 73/100 not saving...                     |\n",
            "+------------+--------+--------+------------+------------+------------+\n",
            "| CATEGORY   | LOSS_1 | LOSS_2 | ACCURACY_1 | ACCURACY_2 |        ETA |\n",
            "+------------+--------+--------+------------+------------+------------+\n",
            "| Training   |  0.028 |  0.074 |      0.992 |      0.980 | 0:00:01.09 |\n",
            "| Validation |  0.845 |  1.549 |      0.904 |      0.836 |            |\n",
            "+------------+--------+--------+------------+------------+------------+\n",
            "+---------------------------------------------------------------------+\n",
            "|                     EPOCH: 74/100 not saving...                     |\n",
            "+------------+--------+--------+------------+------------+------------+\n",
            "| CATEGORY   | LOSS_1 | LOSS_2 | ACCURACY_1 | ACCURACY_2 |        ETA |\n",
            "+------------+--------+--------+------------+------------+------------+\n",
            "| Training   |  0.023 |  0.073 |      0.994 |      0.980 | 0:00:01.12 |\n",
            "| Validation |  0.835 |  1.702 |      0.908 |      0.837 |            |\n",
            "+------------+--------+--------+------------+------------+------------+\n",
            "+---------------------------------------------------------------------+\n",
            "|                     EPOCH: 75/100 not saving...                     |\n",
            "+------------+--------+--------+------------+------------+------------+\n",
            "| CATEGORY   | LOSS_1 | LOSS_2 | ACCURACY_1 | ACCURACY_2 |        ETA |\n",
            "+------------+--------+--------+------------+------------+------------+\n",
            "| Training   |  0.027 |  0.073 |      0.993 |      0.980 | 0:00:01.10 |\n",
            "| Validation |  0.870 |  1.837 |      0.897 |      0.824 |            |\n",
            "+------------+--------+--------+------------+------------+------------+\n",
            "+---------------------------------------------------------------------+\n",
            "|                     EPOCH: 76/100 not saving...                     |\n",
            "+------------+--------+--------+------------+------------+------------+\n",
            "| CATEGORY   | LOSS_1 | LOSS_2 | ACCURACY_1 | ACCURACY_2 |        ETA |\n",
            "+------------+--------+--------+------------+------------+------------+\n",
            "| Training   |  0.033 |  0.078 |      0.992 |      0.981 | 0:00:01.09 |\n",
            "| Validation |  0.806 |  1.814 |      0.904 |      0.820 |            |\n",
            "+------------+--------+--------+------------+------------+------------+\n",
            "+---------------------------------------------------------------------+\n",
            "|                     EPOCH: 77/100 not saving...                     |\n",
            "+------------+--------+--------+------------+------------+------------+\n",
            "| CATEGORY   | LOSS_1 | LOSS_2 | ACCURACY_1 | ACCURACY_2 |        ETA |\n",
            "+------------+--------+--------+------------+------------+------------+\n",
            "| Training   |  0.026 |  0.071 |      0.992 |      0.980 | 0:00:01.12 |\n",
            "| Validation |  0.858 |  1.738 |      0.891 |      0.836 |            |\n",
            "+------------+--------+--------+------------+------------+------------+\n",
            "+---------------------------------------------------------------------+\n",
            "|                     EPOCH: 78/100 not saving...                     |\n",
            "+------------+--------+--------+------------+------------+------------+\n",
            "| CATEGORY   | LOSS_1 | LOSS_2 | ACCURACY_1 | ACCURACY_2 |        ETA |\n",
            "+------------+--------+--------+------------+------------+------------+\n",
            "| Training   |  0.022 |  0.058 |      0.994 |      0.983 | 0:00:01.09 |\n",
            "| Validation |  0.812 |  1.968 |      0.904 |      0.821 |            |\n",
            "+------------+--------+--------+------------+------------+------------+\n",
            "+---------------------------------------------------------------------+\n",
            "|                     EPOCH: 79/100 not saving...                     |\n",
            "+------------+--------+--------+------------+------------+------------+\n",
            "| CATEGORY   | LOSS_1 | LOSS_2 | ACCURACY_1 | ACCURACY_2 |        ETA |\n",
            "+------------+--------+--------+------------+------------+------------+\n",
            "| Training   |  0.024 |  0.084 |      0.991 |      0.978 | 0:00:01.10 |\n",
            "| Validation |  0.850 |  1.910 |      0.915 |      0.849 |            |\n",
            "+------------+--------+--------+------------+------------+------------+\n",
            "+---------------------------------------------------------------------+\n",
            "|                     EPOCH: 80/100 not saving...                     |\n",
            "+------------+--------+--------+------------+------------+------------+\n",
            "| CATEGORY   | LOSS_1 | LOSS_2 | ACCURACY_1 | ACCURACY_2 |        ETA |\n",
            "+------------+--------+--------+------------+------------+------------+\n",
            "| Training   |  0.035 |  0.084 |      0.990 |      0.979 | 0:00:01.09 |\n",
            "| Validation |  0.746 |  1.805 |      0.895 |      0.839 |            |\n",
            "+------------+--------+--------+------------+------------+------------+\n",
            "+---------------------------------------------------------------------+\n",
            "|                     EPOCH: 81/100 not saving...                     |\n",
            "+------------+--------+--------+------------+------------+------------+\n",
            "| CATEGORY   | LOSS_1 | LOSS_2 | ACCURACY_1 | ACCURACY_2 |        ETA |\n",
            "+------------+--------+--------+------------+------------+------------+\n",
            "| Training   |  0.032 |  0.070 |      0.990 |      0.983 | 0:00:01.08 |\n",
            "| Validation |  0.787 |  1.555 |      0.906 |      0.840 |            |\n",
            "+------------+--------+--------+------------+------------+------------+\n",
            "+---------------------------------------------------------------------+\n",
            "|                     EPOCH: 82/100 not saving...                     |\n",
            "+------------+--------+--------+------------+------------+------------+\n",
            "| CATEGORY   | LOSS_1 | LOSS_2 | ACCURACY_1 | ACCURACY_2 |        ETA |\n",
            "+------------+--------+--------+------------+------------+------------+\n",
            "| Training   |  0.022 |  0.043 |      0.993 |      0.987 | 0:00:01.08 |\n",
            "| Validation |  0.805 |  1.792 |      0.911 |      0.835 |            |\n",
            "+------------+--------+--------+------------+------------+------------+\n",
            "+---------------------------------------------------------------------+\n",
            "|                     EPOCH: 83/100 not saving...                     |\n",
            "+------------+--------+--------+------------+------------+------------+\n",
            "| CATEGORY   | LOSS_1 | LOSS_2 | ACCURACY_1 | ACCURACY_2 |        ETA |\n",
            "+------------+--------+--------+------------+------------+------------+\n",
            "| Training   |  0.018 |  0.080 |      0.994 |      0.979 | 0:00:01.09 |\n",
            "| Validation |  0.744 |  1.464 |      0.883 |      0.837 |            |\n",
            "+------------+--------+--------+------------+------------+------------+\n",
            "+---------------------------------------------------------------------+\n",
            "|                     EPOCH: 84/100 not saving...                     |\n",
            "+------------+--------+--------+------------+------------+------------+\n",
            "| CATEGORY   | LOSS_1 | LOSS_2 | ACCURACY_1 | ACCURACY_2 |        ETA |\n",
            "+------------+--------+--------+------------+------------+------------+\n",
            "| Training   |  0.022 |  0.076 |      0.994 |      0.982 | 0:00:01.09 |\n",
            "| Validation |  0.898 |  1.731 |      0.907 |      0.825 |            |\n",
            "+------------+--------+--------+------------+------------+------------+\n",
            "+---------------------------------------------------------------------+\n",
            "|                     EPOCH: 85/100 not saving...                     |\n",
            "+------------+--------+--------+------------+------------+------------+\n",
            "| CATEGORY   | LOSS_1 | LOSS_2 | ACCURACY_1 | ACCURACY_2 |        ETA |\n",
            "+------------+--------+--------+------------+------------+------------+\n",
            "| Training   |  0.024 |  0.062 |      0.992 |      0.983 | 0:00:01.03 |\n",
            "| Validation |  0.717 |  1.768 |      0.919 |      0.840 |            |\n",
            "+------------+--------+--------+------------+------------+------------+\n",
            "+---------------------------------------------------------------------+\n",
            "|                     EPOCH: 86/100 not saving...                     |\n",
            "+------------+--------+--------+------------+------------+------------+\n",
            "| CATEGORY   | LOSS_1 | LOSS_2 | ACCURACY_1 | ACCURACY_2 |        ETA |\n",
            "+------------+--------+--------+------------+------------+------------+\n",
            "| Training   |  0.029 |  0.066 |      0.993 |      0.985 | 0:00:01.05 |\n",
            "| Validation |  0.822 |  1.480 |      0.904 |      0.857 |            |\n",
            "+------------+--------+--------+------------+------------+------------+\n",
            "+---------------------------------------------------------------------+\n",
            "|                     EPOCH: 87/100 not saving...                     |\n",
            "+------------+--------+--------+------------+------------+------------+\n",
            "| CATEGORY   | LOSS_1 | LOSS_2 | ACCURACY_1 | ACCURACY_2 |        ETA |\n",
            "+------------+--------+--------+------------+------------+------------+\n",
            "| Training   |  0.035 |  0.077 |      0.992 |      0.979 | 0:00:01.04 |\n",
            "| Validation |  0.808 |  1.716 |      0.895 |      0.828 |            |\n",
            "+------------+--------+--------+------------+------------+------------+\n",
            "+---------------------------------------------------------------------+\n",
            "|                     EPOCH: 88/100 not saving...                     |\n",
            "+------------+--------+--------+------------+------------+------------+\n",
            "| CATEGORY   | LOSS_1 | LOSS_2 | ACCURACY_1 | ACCURACY_2 |        ETA |\n",
            "+------------+--------+--------+------------+------------+------------+\n",
            "| Training   |  0.030 |  0.061 |      0.991 |      0.985 | 0:00:01.04 |\n",
            "| Validation |  0.914 |  1.829 |      0.908 |      0.841 |            |\n",
            "+------------+--------+--------+------------+------------+------------+\n",
            "+---------------------------------------------------------------------+\n",
            "|                     EPOCH: 89/100 not saving...                     |\n",
            "+------------+--------+--------+------------+------------+------------+\n",
            "| CATEGORY   | LOSS_1 | LOSS_2 | ACCURACY_1 | ACCURACY_2 |        ETA |\n",
            "+------------+--------+--------+------------+------------+------------+\n",
            "| Training   |  0.020 |  0.075 |      0.995 |      0.982 | 0:00:01.03 |\n",
            "| Validation |  0.984 |  1.850 |      0.915 |      0.841 |            |\n",
            "+------------+--------+--------+------------+------------+------------+\n",
            "+---------------------------------------------------------------------+\n",
            "|                     EPOCH: 90/100 not saving...                     |\n",
            "+------------+--------+--------+------------+------------+------------+\n",
            "| CATEGORY   | LOSS_1 | LOSS_2 | ACCURACY_1 | ACCURACY_2 |        ETA |\n",
            "+------------+--------+--------+------------+------------+------------+\n",
            "| Training   |  0.018 |  0.047 |      0.995 |      0.987 | 0:00:01.03 |\n",
            "| Validation |  0.965 |  1.879 |      0.904 |      0.830 |            |\n",
            "+------------+--------+--------+------------+------------+------------+\n",
            "+---------------------------------------------------------------------+\n",
            "|                     EPOCH: 91/100 not saving...                     |\n",
            "+------------+--------+--------+------------+------------+------------+\n",
            "| CATEGORY   | LOSS_1 | LOSS_2 | ACCURACY_1 | ACCURACY_2 |        ETA |\n",
            "+------------+--------+--------+------------+------------+------------+\n",
            "| Training   |  0.029 |  0.077 |      0.992 |      0.982 | 0:00:01.03 |\n",
            "| Validation |  0.703 |  1.490 |      0.915 |      0.836 |            |\n",
            "+------------+--------+--------+------------+------------+------------+\n",
            "+---------------------------------------------------------------------+\n",
            "|                     EPOCH: 92/100 not saving...                     |\n",
            "+------------+--------+--------+------------+------------+------------+\n",
            "| CATEGORY   | LOSS_1 | LOSS_2 | ACCURACY_1 | ACCURACY_2 |        ETA |\n",
            "+------------+--------+--------+------------+------------+------------+\n",
            "| Training   |  0.025 |  0.064 |      0.993 |      0.983 | 0:00:01.04 |\n",
            "| Validation |  0.816 |  1.668 |      0.903 |      0.842 |            |\n",
            "+------------+--------+--------+------------+------------+------------+\n",
            "+---------------------------------------------------------------------+\n",
            "|                     EPOCH: 93/100 not saving...                     |\n",
            "+------------+--------+--------+------------+------------+------------+\n",
            "| CATEGORY   | LOSS_1 | LOSS_2 | ACCURACY_1 | ACCURACY_2 |        ETA |\n",
            "+------------+--------+--------+------------+------------+------------+\n",
            "| Training   |  0.021 |  0.063 |      0.995 |      0.983 | 0:00:01.03 |\n",
            "| Validation |  0.890 |  1.815 |      0.912 |      0.846 |            |\n",
            "+------------+--------+--------+------------+------------+------------+\n",
            "+---------------------------------------------------------------------+\n",
            "|                     EPOCH: 94/100 not saving...                     |\n",
            "+------------+--------+--------+------------+------------+------------+\n",
            "| CATEGORY   | LOSS_1 | LOSS_2 | ACCURACY_1 | ACCURACY_2 |        ETA |\n",
            "+------------+--------+--------+------------+------------+------------+\n",
            "| Training   |  0.027 |  0.054 |      0.995 |      0.983 | 0:00:01.04 |\n",
            "| Validation |  0.963 |  1.892 |      0.895 |      0.857 |            |\n",
            "+------------+--------+--------+------------+------------+------------+\n",
            "+---------------------------------------------------------------------+\n",
            "|                     EPOCH: 95/100 not saving...                     |\n",
            "+------------+--------+--------+------------+------------+------------+\n",
            "| CATEGORY   | LOSS_1 | LOSS_2 | ACCURACY_1 | ACCURACY_2 |        ETA |\n",
            "+------------+--------+--------+------------+------------+------------+\n",
            "| Training   |  0.017 |  0.045 |      0.994 |      0.988 | 0:00:01.03 |\n",
            "| Validation |  1.035 |  2.107 |      0.899 |      0.844 |            |\n",
            "+------------+--------+--------+------------+------------+------------+\n",
            "+---------------------------------------------------------------------+\n",
            "|                     EPOCH: 96/100 not saving...                     |\n",
            "+------------+--------+--------+------------+------------+------------+\n",
            "| CATEGORY   | LOSS_1 | LOSS_2 | ACCURACY_1 | ACCURACY_2 |        ETA |\n",
            "+------------+--------+--------+------------+------------+------------+\n",
            "| Training   |  0.021 |  0.080 |      0.994 |      0.983 | 0:00:01.03 |\n",
            "| Validation |  0.978 |  2.223 |      0.895 |      0.841 |            |\n",
            "+------------+--------+--------+------------+------------+------------+\n",
            "+---------------------------------------------------------------------+\n",
            "|                     EPOCH: 97/100 not saving...                     |\n",
            "+------------+--------+--------+------------+------------+------------+\n",
            "| CATEGORY   | LOSS_1 | LOSS_2 | ACCURACY_1 | ACCURACY_2 |        ETA |\n",
            "+------------+--------+--------+------------+------------+------------+\n",
            "| Training   |  0.027 |  0.056 |      0.992 |      0.986 | 0:00:01.03 |\n",
            "| Validation |  0.943 |  2.177 |      0.904 |      0.852 |            |\n",
            "+------------+--------+--------+------------+------------+------------+\n",
            "+---------------------------------------------------------------------+\n",
            "|                     EPOCH: 98/100 not saving...                     |\n",
            "+------------+--------+--------+------------+------------+------------+\n",
            "| CATEGORY   | LOSS_1 | LOSS_2 | ACCURACY_1 | ACCURACY_2 |        ETA |\n",
            "+------------+--------+--------+------------+------------+------------+\n",
            "| Training   |  0.025 |  0.068 |      0.993 |      0.982 | 0:00:01.06 |\n",
            "| Validation |  0.946 |  2.050 |      0.907 |      0.840 |            |\n",
            "+------------+--------+--------+------------+------------+------------+\n",
            "+---------------------------------------------------------------------+\n",
            "|                     EPOCH: 99/100 not saving...                     |\n",
            "+------------+--------+--------+------------+------------+------------+\n",
            "| CATEGORY   | LOSS_1 | LOSS_2 | ACCURACY_1 | ACCURACY_2 |        ETA |\n",
            "+------------+--------+--------+------------+------------+------------+\n",
            "| Training   |  0.020 |  0.056 |      0.994 |      0.986 | 0:00:01.04 |\n",
            "| Validation |  0.979 |  2.093 |      0.911 |      0.844 |            |\n",
            "+------------+--------+--------+------------+------------+------------+\n",
            "+---------------------------------------------------------------------+\n",
            "|                     EPOCH: 100/100 not saving...                    |\n",
            "+------------+--------+--------+------------+------------+------------+\n",
            "| CATEGORY   | LOSS_1 | LOSS_2 | ACCURACY_1 | ACCURACY_2 |        ETA |\n",
            "+------------+--------+--------+------------+------------+------------+\n",
            "| Training   |  0.019 |  0.057 |      0.994 |      0.985 | 0:00:01.04 |\n",
            "| Validation |  0.960 |  1.964 |      0.903 |      0.840 |            |\n",
            "+------------+--------+--------+------------+------------+------------+\n"
          ],
          "name": "stdout"
        }
      ]
    },
    {
      "cell_type": "markdown",
      "metadata": {
        "id": "WZNkikbDIB2z"
      },
      "source": [
        "### Model Evaluation."
      ]
    },
    {
      "cell_type": "code",
      "metadata": {
        "colab": {
          "base_uri": "https://localhost:8080/"
        },
        "id": "g8fWTBruHw1p",
        "outputId": "874777fb-b857-4a46-a3df-6cf7f5401504"
      },
      "source": [
        "questions_model.load_state_dict(torch.load('best-model.pt'))\n",
        "\n",
        "test_loss_1, test_loss_2, test_acc_1, test_acc_2 = evaluate(questions_model, test_iter, criterion_1, criterion_2)\n",
        "print(f'Test Loss 1: {test_loss_1:.3f} | Test Loss 2: {test_loss_2:.3f}  | Test Acc 1: {test_acc_1*100:.2f}% | Test Acc 2: {test_acc_2*100:.2f}%')"
      ],
      "execution_count": 34,
      "outputs": [
        {
          "output_type": "stream",
          "text": [
            "Test Loss 1: 0.543 | Test Loss 2: 1.476  | Test Acc 1: 78.57% | Test Acc 2: 67.86%\n"
          ],
          "name": "stdout"
        }
      ]
    },
    {
      "cell_type": "markdown",
      "metadata": {
        "id": "A4zEBLYsLki5"
      },
      "source": [
        "### Model Inference.\n",
        "\n",
        "We are now ready to make predictions with our model."
      ]
    },
    {
      "cell_type": "code",
      "metadata": {
        "id": "TyNLifHaJBKS"
      },
      "source": [
        "import en_core_web_sm\n",
        "nlp = en_core_web_sm.load()"
      ],
      "execution_count": 35,
      "outputs": []
    },
    {
      "cell_type": "code",
      "metadata": {
        "id": "clNBiJ9NPkRJ",
        "colab": {
          "base_uri": "https://localhost:8080/"
        },
        "outputId": "0b852a6b-1162-41b7-c3d0-31af7e1f476c"
      },
      "source": [
        "reversed_labels_1 = dict([(v, k) for (k, v) in LABEL_1.vocab.stoi.items()])\n",
        "reversed_labels_2 = dict([(v, k) for (k, v) in LABEL_2.vocab.stoi.items()])\n",
        "\n",
        "reversed_labels_1, reversed_labels_2"
      ],
      "execution_count": 36,
      "outputs": [
        {
          "output_type": "execute_result",
          "data": {
            "text/plain": [
              "({0: 'ENTY', 1: 'HUM', 2: 'DESC', 3: 'NUM', 4: 'LOC', 5: 'ABBR'},\n",
              " {0: 'ind',\n",
              "  1: 'other',\n",
              "  2: 'def',\n",
              "  3: 'count',\n",
              "  4: 'desc',\n",
              "  5: 'manner',\n",
              "  6: 'cremat',\n",
              "  7: 'date',\n",
              "  8: 'gr',\n",
              "  9: 'reason',\n",
              "  10: 'country',\n",
              "  11: 'city',\n",
              "  12: 'animal',\n",
              "  13: 'food',\n",
              "  14: 'dismed',\n",
              "  15: 'termeq',\n",
              "  16: 'period',\n",
              "  17: 'money',\n",
              "  18: 'exp',\n",
              "  19: 'state',\n",
              "  20: 'sport',\n",
              "  21: 'event',\n",
              "  22: 'product',\n",
              "  23: 'substance',\n",
              "  24: 'techmeth',\n",
              "  25: 'color',\n",
              "  26: 'dist',\n",
              "  27: 'perc',\n",
              "  28: 'veh',\n",
              "  29: 'word',\n",
              "  30: 'title',\n",
              "  31: 'mount',\n",
              "  32: 'body',\n",
              "  33: 'abb',\n",
              "  34: 'lang',\n",
              "  35: 'volsize',\n",
              "  36: 'plant',\n",
              "  37: 'symbol',\n",
              "  38: 'instru',\n",
              "  39: 'weight',\n",
              "  40: 'code',\n",
              "  41: 'letter',\n",
              "  42: 'speed',\n",
              "  43: 'temp',\n",
              "  44: 'ord',\n",
              "  45: 'currency',\n",
              "  46: 'religion'})"
            ]
          },
          "metadata": {
            "tags": []
          },
          "execution_count": 36
        }
      ]
    },
    {
      "cell_type": "code",
      "metadata": {
        "id": "y9A6ZGTILzWD"
      },
      "source": [
        "def tabulate(column_names, data, title=\"QUESTIONS PREDICTIONS TABLE\"):\n",
        "  table = PrettyTable(column_names)\n",
        "  table.align[column_names[0]] = \"l\"\n",
        "  table.align[column_names[1]] = \"l\"\n",
        "  for row in data:\n",
        "    table.add_row(row)\n",
        "  print(table)\n",
        "\n",
        "def predict_question_type(model, sentence, min_len = 5, actual_class_1=0, actual_class_2=0):\n",
        "    model.eval()\n",
        "    with torch.no_grad():\n",
        "      tokenized = [tok.text for tok in nlp.tokenizer(sentence)]\n",
        "     \n",
        "      if len(tokenized) < min_len:\n",
        "          tokenized += ['<pad>'] * (min_len - len(tokenized))\n",
        "      indexed = [TEXT.vocab.stoi[t] for t in tokenized]\n",
        "      length =  [len(indexed)]\n",
        "      tensor = torch.LongTensor(indexed).to(device)\n",
        "      tensor = tensor.unsqueeze(1)\n",
        "      length_tensor = torch.LongTensor(length)\n",
        "      probabilities_1, probabilities_2 = model(tensor, length_tensor)\n",
        "      prediction_1 = torch.argmax(probabilities_1, dim=1).item()\n",
        "      prediction_2 = torch.argmax(probabilities_2, dim=1).item()\n",
        "      table_headers =[\"KEY\", \"VALUE\"]\n",
        "      table_data = [\n",
        "          [\"PREDICTED CLASS 1\",  prediction_1],\n",
        "          [\"ACTUAL CLASS 1\", actual_class_1],\n",
        "          [\"PREDICTED CLASS 2\",  prediction_2],\n",
        "          [\"ACTUAL CLASS 2\", actual_class_2],\n",
        "          [\"PREDICTED CLASS NAME 1\",  reversed_labels_1[prediction_1]],    \n",
        "          [\"PREDICTED CLASS NAME 2\",  reversed_labels_2[prediction_2]],    \n",
        "      ]\n",
        "      tabulate(table_headers, table_data)\n"
      ],
      "execution_count": 37,
      "outputs": []
    },
    {
      "cell_type": "markdown",
      "metadata": {
        "id": "W93zzSlQMO4p"
      },
      "source": [
        "###  Entity and Other"
      ]
    },
    {
      "cell_type": "code",
      "metadata": {
        "colab": {
          "base_uri": "https://localhost:8080/"
        },
        "id": "lcuHlaPwML4Y",
        "outputId": "39325ebb-2440-4050-bce3-5ce81d5da4ca"
      },
      "source": [
        "predict_question_type(questions_model, \"What kind of weapons were used in Medieval warfare ?\", \n",
        "                      actual_class_1=LABEL_1.vocab.stoi[\"ENTY\"], actual_class_2=LABEL_2.vocab.stoi[\"other\"]\n",
        "                      )"
      ],
      "execution_count": 38,
      "outputs": [
        {
          "output_type": "stream",
          "text": [
            "+------------------------+-------+\n",
            "| KEY                    | VALUE |\n",
            "+------------------------+-------+\n",
            "| PREDICTED CLASS 1      | 0     |\n",
            "| ACTUAL CLASS 1         | 0     |\n",
            "| PREDICTED CLASS 2      | 1     |\n",
            "| ACTUAL CLASS 2         | 1     |\n",
            "| PREDICTED CLASS NAME 1 | ENTY  |\n",
            "| PREDICTED CLASS NAME 2 | other |\n",
            "+------------------------+-------+\n"
          ],
          "name": "stdout"
        }
      ]
    },
    {
      "cell_type": "markdown",
      "metadata": {
        "id": "q5Eqjo0MMP8L"
      },
      "source": [
        "### Human and IND"
      ]
    },
    {
      "cell_type": "code",
      "metadata": {
        "colab": {
          "base_uri": "https://localhost:8080/"
        },
        "id": "FnhFchDiMQQn",
        "outputId": "dbfdc1fc-3efb-4c7f-e9cd-740d6e7bda58"
      },
      "source": [
        "predict_question_type(questions_model, \"Whose video is titled Shape Up with Arnold ?\", \n",
        "                      actual_class_1=LABEL_1.vocab.stoi[\"HUM\"], actual_class_2=LABEL_2.vocab.stoi[\"ind\"]\n",
        "                      )"
      ],
      "execution_count": 39,
      "outputs": [
        {
          "output_type": "stream",
          "text": [
            "+------------------------+-------+\n",
            "| KEY                    | VALUE |\n",
            "+------------------------+-------+\n",
            "| PREDICTED CLASS 1      | 1     |\n",
            "| ACTUAL CLASS 1         | 1     |\n",
            "| PREDICTED CLASS 2      | 0     |\n",
            "| ACTUAL CLASS 2         | 0     |\n",
            "| PREDICTED CLASS NAME 1 | HUM   |\n",
            "| PREDICTED CLASS NAME 2 | ind   |\n",
            "+------------------------+-------+\n"
          ],
          "name": "stdout"
        }
      ]
    },
    {
      "cell_type": "markdown",
      "metadata": {
        "id": "bHlRIuOWvvXU"
      },
      "source": [
        "### Description and DESC."
      ]
    },
    {
      "cell_type": "code",
      "metadata": {
        "colab": {
          "base_uri": "https://localhost:8080/"
        },
        "id": "Cbuo0D9iv1pi",
        "outputId": "c35d6d99-a119-4dc1-fa45-80ad30cbd2bd"
      },
      "source": [
        "predict_question_type(questions_model, \"What 's the Olympic motto ?\", \n",
        "                      actual_class_1=LABEL_1.vocab.stoi[\"DESC\"], actual_class_2=LABEL_2.vocab.stoi[\"desc\"]\n",
        "                      )"
      ],
      "execution_count": 40,
      "outputs": [
        {
          "output_type": "stream",
          "text": [
            "+------------------------+-------+\n",
            "| KEY                    | VALUE |\n",
            "+------------------------+-------+\n",
            "| PREDICTED CLASS 1      | 2     |\n",
            "| ACTUAL CLASS 1         | 2     |\n",
            "| PREDICTED CLASS 2      | 2     |\n",
            "| ACTUAL CLASS 2         | 4     |\n",
            "| PREDICTED CLASS NAME 1 | DESC  |\n",
            "| PREDICTED CLASS NAME 2 | def   |\n",
            "+------------------------+-------+\n"
          ],
          "name": "stdout"
        }
      ]
    },
    {
      "cell_type": "markdown",
      "metadata": {
        "id": "ErOffK_DwNQA"
      },
      "source": [
        "### Location and STATE"
      ]
    },
    {
      "cell_type": "code",
      "metadata": {
        "colab": {
          "base_uri": "https://localhost:8080/"
        },
        "id": "63HWwLTmwHkd",
        "outputId": "118bde6e-3984-45e0-8fd0-6e57ffd36b0c"
      },
      "source": [
        "predict_question_type(questions_model, \"What state full of milk and honey was the destination in The Grapes of Wrath ?\", \n",
        "                      actual_class_1=LABEL_1.vocab.stoi[\"LOC\"], actual_class_2=LABEL_2.vocab.stoi[\"state\"]\n",
        "                      )"
      ],
      "execution_count": 41,
      "outputs": [
        {
          "output_type": "stream",
          "text": [
            "+------------------------+-------+\n",
            "| KEY                    | VALUE |\n",
            "+------------------------+-------+\n",
            "| PREDICTED CLASS 1      | 4     |\n",
            "| ACTUAL CLASS 1         | 4     |\n",
            "| PREDICTED CLASS 2      | 19    |\n",
            "| ACTUAL CLASS 2         | 19    |\n",
            "| PREDICTED CLASS NAME 1 | LOC   |\n",
            "| PREDICTED CLASS NAME 2 | state |\n",
            "+------------------------+-------+\n"
          ],
          "name": "stdout"
        }
      ]
    },
    {
      "cell_type": "markdown",
      "metadata": {
        "id": "2Sa3_lq4VHSn"
      },
      "source": [
        "### Conclusion \n",
        "As we can see our model is doing better. What's next?\n",
        "\n",
        "### Next Step\n",
        "* In the next Notebook we are going to use `FastText` to perform sentiment analyisis on this dataset with two labels."
      ]
    },
    {
      "cell_type": "code",
      "metadata": {
        "id": "Xgz4_uzJwiim"
      },
      "source": [
        ""
      ],
      "execution_count": null,
      "outputs": []
    }
  ]
}