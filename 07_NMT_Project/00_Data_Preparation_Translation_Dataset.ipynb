{
  "nbformat": 4,
  "nbformat_minor": 0,
  "metadata": {
    "colab": {
      "name": "00_Data_Preparation_Translation_Dataset.ipynb",
      "provenance": [],
      "collapsed_sections": []
    },
    "kernelspec": {
      "name": "python3",
      "display_name": "Python 3"
    },
    "language_info": {
      "name": "python"
    }
  },
  "cells": [
    {
      "cell_type": "markdown",
      "metadata": {
        "id": "6b7cungBNpx-"
      },
      "source": [
        "---\n",
        "Project: **`Social App`**\n",
        "\n",
        "Main: **`Nueral Machine Translation (NMT) Data Preperation`**\n",
        "\n",
        "Author: **`Crispen Gari`**\n",
        "\n",
        "Date: **`2021-09-20`**\n",
        "\n",
        "Purpose: **`Data preparation for NMT using Python x3 and Pytorch.`**\n",
        "\n",
        "---\n"
      ]
    },
    {
      "cell_type": "code",
      "metadata": {
        "colab": {
          "base_uri": "https://localhost:8080/"
        },
        "id": "VN9-7O4JwPBi",
        "outputId": "41c51a04-b427-4c21-fac3-ec80dedb5f3c"
      },
      "source": [
        "from google.colab import drive\n",
        "import os\n",
        "from sklearn.model_selection import train_test_split\n",
        "drive.mount('/content/drive')"
      ],
      "execution_count": 1,
      "outputs": [
        {
          "output_type": "stream",
          "name": "stdout",
          "text": [
            "Mounted at /content/drive\n"
          ]
        }
      ]
    },
    {
      "cell_type": "code",
      "metadata": {
        "colab": {
          "base_uri": "https://localhost:8080/"
        },
        "id": "LoIV8c5XwTFe",
        "outputId": "18a8eedd-8707-48a0-dd1d-06f51961af04"
      },
      "source": [
        "base_path = '/content/drive/My Drive/NLP Data/seq2seq/manythings'\n",
        "os.path.exists(base_path)"
      ],
      "execution_count": 2,
      "outputs": [
        {
          "output_type": "execute_result",
          "data": {
            "text/plain": [
              "True"
            ]
          },
          "metadata": {},
          "execution_count": 2
        }
      ]
    },
    {
      "cell_type": "markdown",
      "metadata": {
        "id": "oxeVyyqoxoRm"
      },
      "source": [
        "We want to creaate a generic function that will do data processing and cleaning for our files."
      ]
    },
    {
      "cell_type": "code",
      "metadata": {
        "id": "v9WYGtL5Oucj"
      },
      "source": [
        "def generate_files(file_path):\n",
        "  lines = open(os.path.join(base_path, file_path)).read().split('\\n')\n",
        "  eng, other = [], []\n",
        "\n",
        "  for line in lines:\n",
        "    try:\n",
        "      en, o, _  = line.split('\\t')\n",
        "      eng.append(en)\n",
        "      other.append(o)\n",
        "    except:\n",
        "      continue\n",
        "  train_eng, test_eng , train_other, test_other = train_test_split(\n",
        "    eng, other, random_state=42,\n",
        "    test_size = .01\n",
        "  )\n",
        "  train_eng, val_eng , train_other, val_other = train_test_split(\n",
        "      train_eng, train_other, random_state=42,\n",
        "      test_size = .01\n",
        "  )\n",
        "\n",
        "  folder_path = file_path.split(\"/\")[0]\n",
        "  ext = os.path.basename(file_path).split('.')[0][:2]\n",
        "\n",
        "  writter = open(os.path.join(base_path, folder_path, f\"train.en\"), \"w\")\n",
        "  for line in train_eng:\n",
        "    writter.write(line+'\\n')\n",
        "  writter.close()\n",
        "\n",
        "  writter = open(os.path.join(base_path, folder_path, f\"test.en\"), \"w\")\n",
        "  for line in test_eng:\n",
        "    writter.write(line+'\\n')\n",
        "  writter.close()\n",
        "\n",
        "  writter = open(os.path.join(base_path, folder_path, f\"valid.en\"), \"w\")\n",
        "  for line in val_eng:\n",
        "    writter.write(line+'\\n')\n",
        "  writter.close()\n",
        "\n",
        "\n",
        "\n",
        "  writter = open(os.path.join(base_path, folder_path, f\"train.{ext}\"), \"w\")\n",
        "  for line in train_other:\n",
        "    writter.write(line+'\\n')\n",
        "  writter.close()\n",
        "  \n",
        "  writter = open(os.path.join(base_path, folder_path, f\"test.{ext}\"), \"w\")\n",
        "  for line in test_other:\n",
        "    writter.write(line+'\\n')\n",
        "  writter.close()\n",
        "\n",
        "  writter = open(os.path.join(base_path, folder_path, f\"valid.{ext}\"), \"w\")\n",
        "  for line in val_other:\n",
        "    writter.write(line+'\\n')\n",
        "  writter.close()\n",
        "\n",
        "  print(\"done\")"
      ],
      "execution_count": 3,
      "outputs": []
    },
    {
      "cell_type": "code",
      "metadata": {
        "id": "hakGPgyOAx22"
      },
      "source": [
        "### German - English\n",
        "generate_files('German - English/deu.txt')"
      ],
      "execution_count": null,
      "outputs": []
    },
    {
      "cell_type": "code",
      "metadata": {
        "colab": {
          "base_uri": "https://localhost:8080/"
        },
        "id": "jX-wDImnRlY2",
        "outputId": "984c3d3a-0b33-42cf-a564-52723e3f03d5"
      },
      "source": [
        "### Afrikaans - English\n",
        "generate_files('Afrikaans - English/afr.txt')"
      ],
      "execution_count": 4,
      "outputs": [
        {
          "output_type": "stream",
          "name": "stdout",
          "text": [
            "done\n"
          ]
        }
      ]
    },
    {
      "cell_type": "code",
      "metadata": {
        "colab": {
          "base_uri": "https://localhost:8080/"
        },
        "id": "6n34o0-aR2c3",
        "outputId": "1a0d3d35-d7a6-40d0-8a29-b1c697a40de7"
      },
      "source": [
        "### French - English\n",
        "generate_files('French - English/fra.txt')"
      ],
      "execution_count": 5,
      "outputs": [
        {
          "output_type": "stream",
          "name": "stdout",
          "text": [
            "done\n"
          ]
        }
      ]
    },
    {
      "cell_type": "code",
      "metadata": {
        "colab": {
          "base_uri": "https://localhost:8080/"
        },
        "id": "MvWl5z0YTm4t",
        "outputId": "658f242c-e06e-4c3b-9e30-e45b5f6973c6"
      },
      "source": [
        "### Italian - English\n",
        "generate_files('Italian - English/ita.txt')\n",
        "\n",
        "### Spanish - English\n",
        "generate_files('Spanish - English/spa.txt')\n",
        "\n",
        "### Swedish - English\n",
        "generate_files('Swedish - English/swe.txt')"
      ],
      "execution_count": 6,
      "outputs": [
        {
          "output_type": "stream",
          "name": "stdout",
          "text": [
            "done\n",
            "done\n",
            "done\n"
          ]
        }
      ]
    },
    {
      "cell_type": "code",
      "metadata": {
        "colab": {
          "base_uri": "https://localhost:8080/"
        },
        "id": "99DtN4xdUS2a",
        "outputId": "ae1e5100-de9b-4432-cbfd-474efd2fc64f"
      },
      "source": [
        "### Portuguese - English\n",
        "generate_files('Portuguese - English/por.txt')"
      ],
      "execution_count": 7,
      "outputs": [
        {
          "output_type": "stream",
          "name": "stdout",
          "text": [
            "done\n"
          ]
        }
      ]
    }
  ]
}