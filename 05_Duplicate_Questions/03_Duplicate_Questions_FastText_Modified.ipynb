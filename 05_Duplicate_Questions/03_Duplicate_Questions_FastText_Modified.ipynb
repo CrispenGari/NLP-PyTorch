{
  "nbformat": 4,
  "nbformat_minor": 0,
  "metadata": {
    "colab": {
      "name": "03_Duplicate_Questions_FastText_Modified.ipynb",
      "provenance": [],
      "collapsed_sections": []
    },
    "kernelspec": {
      "name": "python3",
      "display_name": "Python 3"
    },
    "language_info": {
      "name": "python"
    },
    "accelerator": "GPU"
  },
  "cells": [
    {
      "cell_type": "markdown",
      "metadata": {
        "id": "o7Jsp1cXo42F"
      },
      "source": [
        "### Question Pairs (Modified Version)\n",
        "\n",
        "This notebook is simmilar to the previous notebook, only that in this one we are going to use one embedding layer for all the questions.\n",
        "\n",
        "\n",
        "**Note**: The rest of the notebook will remain unchanged from the previous one. Where there's a change i will highlight.\n",
        "\n",
        "### Imports\n"
      ]
    },
    {
      "cell_type": "code",
      "metadata": {
        "colab": {
          "base_uri": "https://localhost:8080/",
          "height": 35
        },
        "id": "7CjjHG0zomH9",
        "outputId": "8da42467-a210-456d-c8a8-01409d24856c"
      },
      "source": [
        "import time, os, torch, random, math\n",
        "\n",
        "from prettytable import PrettyTable\n",
        "import numpy as np\n",
        "from matplotlib import pyplot as plt\n",
        "import pandas as pd\n",
        "\n",
        "import torch, os, random\n",
        "from torch import nn\n",
        "import torch.nn.functional as F\n",
        "\n",
        "torch.__version__"
      ],
      "execution_count": 1,
      "outputs": [
        {
          "output_type": "execute_result",
          "data": {
            "application/vnd.google.colaboratory.intrinsic+json": {
              "type": "string"
            },
            "text/plain": [
              "'1.9.0+cu102'"
            ]
          },
          "metadata": {
            "tags": []
          },
          "execution_count": 1
        }
      ]
    },
    {
      "cell_type": "markdown",
      "metadata": {
        "id": "4GP7IDeFrG_y"
      },
      "source": [
        "### SEEDS"
      ]
    },
    {
      "cell_type": "code",
      "metadata": {
        "id": "oFDVrd3arD1-"
      },
      "source": [
        "SEED = 42\n",
        "\n",
        "np.random.seed(SEED)\n",
        "random.seed(SEED)\n",
        "torch.manual_seed(SEED)\n",
        "torch.cuda.manual_seed(SEED)\n",
        "torch.backends.cudnn.deteministic = True"
      ],
      "execution_count": 2,
      "outputs": []
    },
    {
      "cell_type": "markdown",
      "metadata": {
        "id": "7l8XBaShrNPp"
      },
      "source": [
        "### Device"
      ]
    },
    {
      "cell_type": "code",
      "metadata": {
        "colab": {
          "base_uri": "https://localhost:8080/"
        },
        "id": "o0nGBaM2rKqn",
        "outputId": "ee5925b8-2bdb-4a81-d87e-144e1d5cc66b"
      },
      "source": [
        "device = torch.device('cuda' if torch.cuda.is_available() else 'cpu')\n",
        "device"
      ],
      "execution_count": 3,
      "outputs": [
        {
          "output_type": "execute_result",
          "data": {
            "text/plain": [
              "device(type='cuda')"
            ]
          },
          "metadata": {
            "tags": []
          },
          "execution_count": 3
        }
      ]
    },
    {
      "cell_type": "markdown",
      "metadata": {
        "id": "0TtGHvnUsML-"
      },
      "source": [
        "### Mounting the google drive"
      ]
    },
    {
      "cell_type": "code",
      "metadata": {
        "colab": {
          "base_uri": "https://localhost:8080/"
        },
        "id": "tHCa7e5NsR3L",
        "outputId": "d5672293-414a-460b-c797-39267ab2f23a"
      },
      "source": [
        "from google.colab import drive\n",
        "drive.mount('/content/drive')"
      ],
      "execution_count": 4,
      "outputs": [
        {
          "output_type": "stream",
          "text": [
            "Mounted at /content/drive\n"
          ],
          "name": "stdout"
        }
      ]
    },
    {
      "cell_type": "markdown",
      "metadata": {
        "id": "RLVZWBcorbTh"
      },
      "source": [
        "### Paths to data"
      ]
    },
    {
      "cell_type": "code",
      "metadata": {
        "colab": {
          "base_uri": "https://localhost:8080/"
        },
        "id": "O0KKQSDjrXhr",
        "outputId": "da738285-8418-49fb-ada9-da98618fb041"
      },
      "source": [
        "base_path = '/content/drive/MyDrive/NLP Data/duplicates-questions'\n",
        "train_path = 'train.csv'\n",
        "val_path = 'val.csv'\n",
        "test_path = 'test.csv'\n",
        "\n",
        "os.path.exists(base_path)"
      ],
      "execution_count": 5,
      "outputs": [
        {
          "output_type": "execute_result",
          "data": {
            "text/plain": [
              "True"
            ]
          },
          "metadata": {
            "tags": []
          },
          "execution_count": 5
        }
      ]
    },
    {
      "cell_type": "markdown",
      "metadata": {
        "id": "q_gtMwjPsjxa"
      },
      "source": [
        "### Data Loading\n",
        "This is a binary classification task where we are going to predict weather questions are duplicates or not. We are going to have 2 inputs which is two differant questions that will map to one label, is_duplicate(1) or is_not_duplicate (0). We are going to create the fields of our data. \n",
        "\n",
        "### Fast Text\n",
        "Accoding to the FastText paper we need to generate bigrams for each question.\n",
        "\n",
        "We are going to create a function called ``generate_bigram()`` that will generate bigrams for us for both of these two input questions. We will pass this function to the Text field as the preprocessing function.\n",
        "\n",
        "### What do we have?\n",
        "We are having three `csv` files for each set whih makes it easy to create the dataset for this task.\n"
      ]
    },
    {
      "cell_type": "code",
      "metadata": {
        "colab": {
          "base_uri": "https://localhost:8080/"
        },
        "id": "m8rjJRvF7sbe",
        "outputId": "40f7b3a0-59a8-4bac-c640-5fdc356001d0"
      },
      "source": [
        "def generate_bigrams(x):\n",
        "  x = [i.lower() for i in x]\n",
        "  n_grams = set(zip(*[x[i: ] for i in range(2)]))\n",
        "  for n_gram in n_grams:\n",
        "      x.append(' '.join(n_gram))\n",
        "  return x\n",
        "generate_bigrams(['What', 'is', 'the', 'meaning', \"of\", \"OCR\", \"in\", \"python\"])\n"
      ],
      "execution_count": 6,
      "outputs": [
        {
          "output_type": "execute_result",
          "data": {
            "text/plain": [
              "['what',\n",
              " 'is',\n",
              " 'the',\n",
              " 'meaning',\n",
              " 'of',\n",
              " 'ocr',\n",
              " 'in',\n",
              " 'python',\n",
              " 'of ocr',\n",
              " 'meaning of',\n",
              " 'ocr in',\n",
              " 'in python',\n",
              " 'is the',\n",
              " 'what is',\n",
              " 'the meaning']"
            ]
          },
          "metadata": {
            "tags": []
          },
          "execution_count": 6
        }
      ]
    },
    {
      "cell_type": "code",
      "metadata": {
        "id": "xbyLjuhrsDES"
      },
      "source": [
        "from torchtext.legacy import data"
      ],
      "execution_count": 7,
      "outputs": []
    },
    {
      "cell_type": "markdown",
      "metadata": {
        "id": "mwE4hbQAvMRp"
      },
      "source": [
        "### Fields"
      ]
    },
    {
      "cell_type": "code",
      "metadata": {
        "id": "VSxCs527vK5G"
      },
      "source": [
        "TEXT = data.Field(\n",
        "      tokenize = 'spacy',\n",
        "      tokenizer_language = 'en_core_web_sm',\n",
        "      preprocessing = generate_bigrams,\n",
        "    )\n",
        "LABEL = data.LabelField(dtype = torch.float)"
      ],
      "execution_count": 8,
      "outputs": []
    },
    {
      "cell_type": "code",
      "metadata": {
        "id": "uDB7h4t8wNc0"
      },
      "source": [
        "fields = {\n",
        "    \"question1\": (\"qn1\", TEXT),\n",
        "    \"question2\": (\"qn2\", TEXT), \n",
        "    \"is_duplicate\": (\"label\", LABEL),\n",
        "}"
      ],
      "execution_count": 9,
      "outputs": []
    },
    {
      "cell_type": "markdown",
      "metadata": {
        "id": "_LsuY9EXwsm-"
      },
      "source": [
        "Next we will create our dataset using our favourate class fro  torchtext `TabularDataset`. We are going to load the data that is in `csv` format as follows."
      ]
    },
    {
      "cell_type": "code",
      "metadata": {
        "id": "eVu-sAxPwryA"
      },
      "source": [
        "train_data, val_data, test_data = data.TabularDataset.splits(\n",
        "   base_path,\n",
        "   train=train_path,\n",
        "   test= test_path,\n",
        "   validation= val_path,\n",
        "   format = \"csv\",\n",
        "   fields=fields\n",
        ")"
      ],
      "execution_count": 10,
      "outputs": []
    },
    {
      "cell_type": "code",
      "metadata": {
        "colab": {
          "base_uri": "https://localhost:8080/"
        },
        "id": "cWjZPcAZxGHS",
        "outputId": "d3321543-f1c3-490d-fadc-5efea2e10c71"
      },
      "source": [
        "print(vars(train_data.examples[0]))"
      ],
      "execution_count": 11,
      "outputs": [
        {
          "output_type": "stream",
          "text": [
            "{'qn1': ['is', 'it', 'right', 'for', 'a', 'woman', 'to', 'date', 'someone', '2', '-', '3', 'years', 'younger', 'than', 'her', '?', 'for a', '2 -', '- 3', 'is it', 'someone 2', '3 years', 'younger than', 'to date', 'than her', 'woman to', 'her ?', 'a woman', 'date someone', 'years younger', 'right for', 'it right'], 'qn2': ['is', 'it', 'strange', 'to', 'have', 'a', 'crush', 'on', 'someone', 'say', '17', 'years', 'younger', 'than', 'me', '?', 'crush on', 'it strange', 'is it', 'younger than', 'me ?', 'on someone', 'years younger', 'than me', 'say 17', 'to have', 'a crush', 'someone say', '17 years', 'have a', 'strange to'], 'label': '0'}\n"
          ],
          "name": "stdout"
        }
      ]
    },
    {
      "cell_type": "markdown",
      "metadata": {
        "id": "zlNAFiSnxNhd"
      },
      "source": [
        "#### Next we will build the Vocabulary.\n",
        "\n",
        "We are going to use the pretrained word vectors `glove.6B.100d` which was trained on about 6 billion english words.\n"
      ]
    },
    {
      "cell_type": "code",
      "metadata": {
        "id": "tfx6__Xxx3xN",
        "colab": {
          "base_uri": "https://localhost:8080/"
        },
        "outputId": "f3bd3fc3-9911-43c3-e7ae-6f2bad3ca2eb"
      },
      "source": [
        "\n",
        "MAX_VOCAB_SIZE = 100_000\n",
        "\n",
        "TEXT.build_vocab(\n",
        "     train_data,\n",
        "     max_size = MAX_VOCAB_SIZE,\n",
        "     vectors = \"glove.6B.100d\",\n",
        "    unk_init = torch.Tensor.normal_\n",
        ")\n",
        "LABEL.build_vocab(train_data)"
      ],
      "execution_count": 12,
      "outputs": [
        {
          "output_type": "stream",
          "text": [
            ".vector_cache/glove.6B.zip: 862MB [02:44, 5.25MB/s]                           \n",
            "100%|█████████▉| 399038/400000 [00:21<00:00, 18532.22it/s]"
          ],
          "name": "stderr"
        }
      ]
    },
    {
      "cell_type": "code",
      "metadata": {
        "colab": {
          "base_uri": "https://localhost:8080/"
        },
        "id": "4jx5d2T-0NXe",
        "outputId": "8f100b8c-7eee-4bac-b9c9-c3a8266f43ee"
      },
      "source": [
        "LABEL.vocab.stoi"
      ],
      "execution_count": 13,
      "outputs": [
        {
          "output_type": "execute_result",
          "data": {
            "text/plain": [
              "defaultdict(None, {'0': 0, '1': 1})"
            ]
          },
          "metadata": {
            "tags": []
          },
          "execution_count": 13
        }
      ]
    },
    {
      "cell_type": "markdown",
      "metadata": {
        "id": "zG3-CxkOz50d"
      },
      "source": [
        "### Creating iterators\n",
        "\n",
        "We are going to use the `BucketIterator` to create iterators for all these sets that we have."
      ]
    },
    {
      "cell_type": "code",
      "metadata": {
        "id": "1Pzygmoay7jG"
      },
      "source": [
        "sort_key = lambda x: len(x.qn1)\n",
        "\n",
        "BATCH_SIZE = 128\n",
        "\n",
        "train_iter, val_iter, test_iter = data.BucketIterator.splits(\n",
        "    (train_data, val_data, test_data),\n",
        "    device = device,\n",
        "    batch_size = BATCH_SIZE,\n",
        "    sort_key = sort_key,\n",
        "    sort_within_batch=True\n",
        ")"
      ],
      "execution_count": 14,
      "outputs": []
    },
    {
      "cell_type": "markdown",
      "metadata": {
        "id": "rUxdqysr0bK-"
      },
      "source": [
        "### Next we are going to create the model.\n",
        "\n",
        "We are going to have two inputs which will be Question1 and Question2.\n",
        "We will try to follow the emplementation that i found [here](https://discuss.pytorch.org/t/nn-module-with-multiple-inputs/237/3) based on the following answer:\n",
        "\n",
        "```py\n",
        "class SimpleConv(nn.Module):\n",
        "  def __init__(self):\n",
        "      super(SimpleConv, self).__init__()\n",
        "      self.features = nn.Sequential(\n",
        "          nn.Conv2d(1, 1, kernel_size=3, stride=1, padding=1),\n",
        "          nn.ReLU(inplace=True),\n",
        "      )\n",
        "  def forward(self, x, y):\n",
        "      x1 = self.features(x)\n",
        "      x2 = self.features(y)\n",
        "      x = torch.cat((x1, x2), 1)\n",
        "      return x\n",
        "```\n",
        "\n",
        "**Note** that we are only going to modify in the forward pass which means we will be using one embedding layer for all the questions."
      ]
    },
    {
      "cell_type": "code",
      "metadata": {
        "id": "ZOe3SQ6b0WMz"
      },
      "source": [
        "class DuplicateQuestionsFastText(nn.Module):\n",
        "  def __init__(self,\n",
        "               vocab_size,\n",
        "               embedding_size,\n",
        "               output_dim,\n",
        "               pad_index,\n",
        "               dropout=.5\n",
        "               ):\n",
        "    super(DuplicateQuestionsFastText, self).__init__()\n",
        "    self.embedding = nn.Embedding(\n",
        "        vocab_size,\n",
        "        embedding_size,\n",
        "        padding_idx = pad_index\n",
        "    )\n",
        "    self.out = nn.Linear(\n",
        "        embedding_size,\n",
        "        out_features = output_dim\n",
        "    )\n",
        "    self.dropout = nn.Dropout(dropout)\n",
        "  \n",
        "  def forward(self,\n",
        "              question1, \n",
        "              question2, \n",
        "              ):\n",
        "    embedded_1 = self.embedding(question1).permute(1 ,0, 2)\n",
        "    embedded_2 = self.embedding(question2).permute(1 ,0, 2)\n",
        "    embedded = self.dropout(torch.cat((embedded_1, embedded_2), dim=1))\n",
        "    pooled = F.avg_pool2d(embedded,\n",
        "                         (embedded.shape[1], 1)\n",
        "                          ).squeeze(1)\n",
        "    return self.out(pooled)\n"
      ],
      "execution_count": 15,
      "outputs": []
    },
    {
      "cell_type": "markdown",
      "metadata": {
        "id": "DPZB4wPJ8MH5"
      },
      "source": [
        "### Creating the model instance.\n"
      ]
    },
    {
      "cell_type": "code",
      "metadata": {
        "colab": {
          "base_uri": "https://localhost:8080/"
        },
        "id": "-jemm7xH8LKE",
        "outputId": "880091e8-6223-4775-8f68-473ca5c01cfc"
      },
      "source": [
        "\n",
        "INPUT_DIM = len(TEXT.vocab)\n",
        "EMBEDDING_DIM = 100\n",
        "OUTPUT_DIM =  1\n",
        "PAD_IDX = TEXT.vocab.stoi[TEXT.pad_token] \n",
        "\n",
        "duplicate_questions_model = DuplicateQuestionsFastText(\n",
        "            INPUT_DIM, \n",
        "            EMBEDDING_DIM, \n",
        "            OUTPUT_DIM, \n",
        "            pad_index = PAD_IDX\n",
        "            ).to(device)\n",
        "duplicate_questions_model"
      ],
      "execution_count": 16,
      "outputs": [
        {
          "output_type": "execute_result",
          "data": {
            "text/plain": [
              "DuplicateQuestionsFastText(\n",
              "  (embedding): Embedding(100002, 100, padding_idx=1)\n",
              "  (out): Linear(in_features=100, out_features=1, bias=True)\n",
              "  (dropout): Dropout(p=0.5, inplace=False)\n",
              ")"
            ]
          },
          "metadata": {
            "tags": []
          },
          "execution_count": 16
        }
      ]
    },
    {
      "cell_type": "markdown",
      "metadata": {
        "id": "DF84BeAV8yIc"
      },
      "source": [
        "### Model parameters"
      ]
    },
    {
      "cell_type": "code",
      "metadata": {
        "colab": {
          "base_uri": "https://localhost:8080/"
        },
        "id": "-8ahZtoC8iMX",
        "outputId": "280b1767-be2d-4434-e746-81e05d0e6325"
      },
      "source": [
        "def count_trainable_params(model):\n",
        "  return sum(p.numel() for p in model.parameters()), sum(p.numel() for p in model.parameters() if p.requires_grad)\n",
        "\n",
        "n_params, trainable_params = count_trainable_params(duplicate_questions_model)\n",
        "print(f\"Total number of paramaters: {n_params:,}\\nTotal tainable parameters: {trainable_params:,}\")"
      ],
      "execution_count": 17,
      "outputs": [
        {
          "output_type": "stream",
          "text": [
            "Total number of paramaters: 10,000,301\n",
            "Total tainable parameters: 10,000,301\n"
          ],
          "name": "stdout"
        }
      ]
    },
    {
      "cell_type": "markdown",
      "metadata": {
        "id": "VIWPKwjl88OA"
      },
      "source": [
        "### Loading pretrained vectors to the `embedding` layers.\n",
        "* Now we have two embedding layers in the model, so we need to add the word vectors to each embedding layer as follows:"
      ]
    },
    {
      "cell_type": "code",
      "metadata": {
        "id": "QTfwoZlo849_"
      },
      "source": [
        "pretrained_embeddings  = TEXT.vocab.vectors"
      ],
      "execution_count": 18,
      "outputs": []
    },
    {
      "cell_type": "code",
      "metadata": {
        "colab": {
          "base_uri": "https://localhost:8080/"
        },
        "id": "fr9kpInY9DmE",
        "outputId": "d6eeea59-058c-4590-e064-16348dedf6b0"
      },
      "source": [
        "duplicate_questions_model.embedding.weight.data.copy_(\n",
        "    pretrained_embeddings\n",
        "    )"
      ],
      "execution_count": 19,
      "outputs": [
        {
          "output_type": "execute_result",
          "data": {
            "text/plain": [
              "tensor([[ 1.9269,  1.4873,  0.9007,  ...,  0.1233,  0.3499,  0.6173],\n",
              "        [ 0.7262,  0.0912, -0.3891,  ...,  0.0821,  0.4440, -0.7240],\n",
              "        [ 0.1638,  0.6046,  1.0789,  ..., -0.3140,  0.1844,  0.3624],\n",
              "        ...,\n",
              "        [-1.0188, -1.3804, -1.4044,  ..., -2.0274, -0.4045, -1.8920],\n",
              "        [ 0.0247, -1.1202, -0.2275,  ...,  1.1231,  0.2079, -2.3545],\n",
              "        [-1.8090,  0.4517, -1.6228,  ..., -0.1685, -0.4630, -0.9866]],\n",
              "       device='cuda:0')"
            ]
          },
          "metadata": {
            "tags": []
          },
          "execution_count": 19
        }
      ]
    },
    {
      "cell_type": "markdown",
      "metadata": {
        "id": "tzAbLd5P9iZ6"
      },
      "source": [
        "### Zeroing the `<pad>` and the `<unk>` tokens.\n",
        "\n",
        "These tokens are not acually necessary for the model trainning that's the reason we are zeroing them. We will do this for all our emmbedding layers in the model."
      ]
    },
    {
      "cell_type": "code",
      "metadata": {
        "colab": {
          "base_uri": "https://localhost:8080/"
        },
        "id": "LEvzZ5yG9fII",
        "outputId": "f64ddc2d-37da-4541-8772-5b84b60cdee3"
      },
      "source": [
        "UNK_IDX = TEXT.vocab.stoi[TEXT.unk_token] or TEXT.vocab.stoi[\"<unk>\"]\n",
        "\n",
        "duplicate_questions_model.embedding.weight.data[UNK_IDX] = torch.zeros(EMBEDDING_DIM)\n",
        "duplicate_questions_model.embedding.weight.data[PAD_IDX] = torch.zeros(EMBEDDING_DIM)\n",
        "\n",
        "duplicate_questions_model.embedding.weight.data"
      ],
      "execution_count": 20,
      "outputs": [
        {
          "output_type": "execute_result",
          "data": {
            "text/plain": [
              "tensor([[ 0.0000,  0.0000,  0.0000,  ...,  0.0000,  0.0000,  0.0000],\n",
              "        [ 0.0000,  0.0000,  0.0000,  ...,  0.0000,  0.0000,  0.0000],\n",
              "        [ 0.1638,  0.6046,  1.0789,  ..., -0.3140,  0.1844,  0.3624],\n",
              "        ...,\n",
              "        [-1.0188, -1.3804, -1.4044,  ..., -2.0274, -0.4045, -1.8920],\n",
              "        [ 0.0247, -1.1202, -0.2275,  ...,  1.1231,  0.2079, -2.3545],\n",
              "        [-1.8090,  0.4517, -1.6228,  ..., -0.1685, -0.4630, -0.9866]],\n",
              "       device='cuda:0')"
            ]
          },
          "metadata": {
            "tags": []
          },
          "execution_count": 20
        }
      ]
    },
    {
      "cell_type": "markdown",
      "metadata": {
        "id": "gB0sVZ2T-Xiz"
      },
      "source": [
        "### Loss and optimizer\n",
        "For the optimizer we are going to use `Adam()` with default paramaters and for the loss function we are going to use the `BCEWithLogitsLoss()` since we are doing a binary classification."
      ]
    },
    {
      "cell_type": "code",
      "metadata": {
        "id": "zDNamG-K976I"
      },
      "source": [
        "optimizer = torch.optim.Adam(duplicate_questions_model.parameters())\n",
        "criterion = nn.BCEWithLogitsLoss().to(device)"
      ],
      "execution_count": 21,
      "outputs": []
    },
    {
      "cell_type": "markdown",
      "metadata": {
        "id": "WdWa5_qp-_4K"
      },
      "source": [
        "### Accuracy function.\n",
        "For the accuracy we are going to create a `binary_accuracy` function that will take predicted labels and accual labels to return the accuracy as a probability value."
      ]
    },
    {
      "cell_type": "code",
      "metadata": {
        "id": "yF1P4NyX-XQp"
      },
      "source": [
        "def binary_accuracy(y_preds, y_true):\n",
        "  rounded_preds = torch.round(torch.sigmoid(y_preds))\n",
        "  correct = (rounded_preds == y_true).float()\n",
        "  return correct.sum() / len(correct)"
      ],
      "execution_count": 22,
      "outputs": []
    },
    {
      "cell_type": "markdown",
      "metadata": {
        "id": "cEiypTM7_iF9"
      },
      "source": [
        "### Train and evaluation function.\n",
        "This time around we have two features which is our two text labels. The model except 2 positional args which are:\n",
        "```\n",
        "  question1, \n",
        "  question2\n",
        "```\n",
        "### Where are we going to get them?\n",
        "\n",
        "Well our iterator contains all this information so we dont have o worry much about that. Let's create a train and evaluation functions."
      ]
    },
    {
      "cell_type": "code",
      "metadata": {
        "id": "z8TMKyT5-XM_"
      },
      "source": [
        "def train(model, iterator, optimizer, criterion):\n",
        "  epoch_loss,epoch_acc = 0, 0\n",
        "  model.train()\n",
        "  for batch in iterator:\n",
        "    optimizer.zero_grad()\n",
        "    qn1 = batch.qn1\n",
        "    qn2= batch.qn2\n",
        "    predictions = model(qn1, qn2).squeeze(1)\n",
        "    loss = criterion(predictions, batch.label)\n",
        "    acc = binary_accuracy(predictions, batch.label)\n",
        "    loss.backward()\n",
        "    optimizer.step()\n",
        "    epoch_loss += loss.item()\n",
        "    epoch_acc += acc.item()\n",
        "\n",
        "  return epoch_loss / len(iterator), epoch_acc / len(iterator)\n",
        "\n",
        "def evaluate(model, iterator, criterion):\n",
        "  epoch_loss,epoch_acc = 0, 0\n",
        "  model.eval()\n",
        "  with torch.no_grad():\n",
        "    for batch in iterator:\n",
        "      qn1 = batch.qn1\n",
        "      qn2 = batch.qn2\n",
        "      predictions = model(qn1, qn2).squeeze(1)\n",
        "      loss = criterion(predictions, batch.label)\n",
        "      acc = binary_accuracy(predictions, batch.label)\n",
        "      epoch_loss += loss.item()\n",
        "      epoch_acc += acc.item()\n",
        "  return epoch_loss / len(iterator), epoch_acc / len(iterator)\n"
      ],
      "execution_count": 23,
      "outputs": []
    },
    {
      "cell_type": "markdown",
      "metadata": {
        "id": "s_Ddb4rDBpeH"
      },
      "source": [
        "### Train Loop\n",
        "\n",
        "We are going to create some helper functions that will help us to visualize every epoch during training.\n",
        "\n",
        "Time to string"
      ]
    },
    {
      "cell_type": "code",
      "metadata": {
        "id": "81icrKOD-XKU"
      },
      "source": [
        "def hms_string(sec_elapsed):\n",
        "    h = int(sec_elapsed / (60 * 60))\n",
        "    m = int((sec_elapsed % (60 * 60)) / 60)\n",
        "    s = sec_elapsed % 60\n",
        "    return \"{}:{:>02}:{:>05.2f}\".format(h, m, s)"
      ],
      "execution_count": 24,
      "outputs": []
    },
    {
      "cell_type": "markdown",
      "metadata": {
        "id": "Ewfk-aIcB8BW"
      },
      "source": [
        "Tabulate training epoch"
      ]
    },
    {
      "cell_type": "code",
      "metadata": {
        "id": "gSnir_zT-XGi"
      },
      "source": [
        "def visualize_training(start, end, train_loss, train_accuracy, val_loss, val_accuracy, title):\n",
        "  data = [\n",
        "       [\"Training\", f'{train_loss:.3f}', f'{train_accuracy:.3f}', f\"{hms_string(end - start)}\" ],\n",
        "       [\"Validation\", f'{val_loss:.3f}', f'{val_accuracy:.3f}', \"\" ],       \n",
        "  ]\n",
        "  table = PrettyTable([\"CATEGORY\", \"LOSS\", \"ACCURACY\", \"ETA\"])\n",
        "  table.align[\"CATEGORY\"] = 'l'\n",
        "  table.align[\"LOSS\"] = 'r'\n",
        "  table.align[\"ACCURACY\"] = 'r'\n",
        "  table.align[\"ETA\"] = 'r'\n",
        "  table.title = title\n",
        "  for row in data:\n",
        "    table.add_row(row)\n",
        "  print(table)\n",
        "  "
      ],
      "execution_count": 25,
      "outputs": []
    },
    {
      "cell_type": "code",
      "metadata": {
        "colab": {
          "base_uri": "https://localhost:8080/"
        },
        "id": "4JdSJnqp-XDO",
        "outputId": "2e45b7d3-e6e2-4d81-9a47-6663ef5a8f71"
      },
      "source": [
        "N_EPOCHS = 10\n",
        "best_valid_loss = float('inf')\n",
        "for epoch in range(N_EPOCHS):\n",
        "  start = time.time()\n",
        "  train_loss, train_acc = train(duplicate_questions_model, train_iter, optimizer, criterion)\n",
        "  valid_loss, valid_acc = evaluate(duplicate_questions_model, val_iter, criterion)\n",
        "  title = f\"EPOCH: {epoch+1:02}/{N_EPOCHS:02} {'saving best model...' if valid_loss < best_valid_loss else 'not saving...'}\"\n",
        "  if valid_loss < best_valid_loss:\n",
        "      best_valid_loss = valid_loss\n",
        "      torch.save(duplicate_questions_model.state_dict(), 'best-model.pt')\n",
        "  end = time.time()\n",
        "  visualize_training(start, end, train_loss, train_acc, valid_loss, valid_acc, title)"
      ],
      "execution_count": 26,
      "outputs": [
        {
          "output_type": "stream",
          "text": [
            "+--------------------------------------------+\n",
            "|     EPOCH: 01/10 saving best model...      |\n",
            "+------------+-------+----------+------------+\n",
            "| CATEGORY   |  LOSS | ACCURACY |        ETA |\n",
            "+------------+-------+----------+------------+\n",
            "| Training   | 0.527 |    0.741 | 0:00:48.14 |\n",
            "| Validation | 0.496 |    0.759 |            |\n",
            "+------------+-------+----------+------------+\n",
            "+--------------------------------------------+\n",
            "|     EPOCH: 02/10 saving best model...      |\n",
            "+------------+-------+----------+------------+\n",
            "| CATEGORY   |  LOSS | ACCURACY |        ETA |\n",
            "+------------+-------+----------+------------+\n",
            "| Training   | 0.467 |    0.783 | 0:00:47.60 |\n",
            "| Validation | 0.474 |    0.775 |            |\n",
            "+------------+-------+----------+------------+\n",
            "+--------------------------------------------+\n",
            "|     EPOCH: 03/10 saving best model...      |\n",
            "+------------+-------+----------+------------+\n",
            "| CATEGORY   |  LOSS | ACCURACY |        ETA |\n",
            "+------------+-------+----------+------------+\n",
            "| Training   | 0.440 |    0.798 | 0:00:47.30 |\n",
            "| Validation | 0.464 |    0.785 |            |\n",
            "+------------+-------+----------+------------+\n",
            "+--------------------------------------------+\n",
            "|     EPOCH: 04/10 saving best model...      |\n",
            "+------------+-------+----------+------------+\n",
            "| CATEGORY   |  LOSS | ACCURACY |        ETA |\n",
            "+------------+-------+----------+------------+\n",
            "| Training   | 0.422 |    0.807 | 0:00:47.24 |\n",
            "| Validation | 0.457 |    0.790 |            |\n",
            "+------------+-------+----------+------------+\n",
            "+--------------------------------------------+\n",
            "|     EPOCH: 05/10 saving best model...      |\n",
            "+------------+-------+----------+------------+\n",
            "| CATEGORY   |  LOSS | ACCURACY |        ETA |\n",
            "+------------+-------+----------+------------+\n",
            "| Training   | 0.408 |    0.816 | 0:00:47.63 |\n",
            "| Validation | 0.455 |    0.798 |            |\n",
            "+------------+-------+----------+------------+\n",
            "+--------------------------------------------+\n",
            "|         EPOCH: 06/10 not saving...         |\n",
            "+------------+-------+----------+------------+\n",
            "| CATEGORY   |  LOSS | ACCURACY |        ETA |\n",
            "+------------+-------+----------+------------+\n",
            "| Training   | 0.397 |    0.820 | 0:00:47.84 |\n",
            "| Validation | 0.455 |    0.798 |            |\n",
            "+------------+-------+----------+------------+\n",
            "+--------------------------------------------+\n",
            "|         EPOCH: 07/10 not saving...         |\n",
            "+------------+-------+----------+------------+\n",
            "| CATEGORY   |  LOSS | ACCURACY |        ETA |\n",
            "+------------+-------+----------+------------+\n",
            "| Training   | 0.387 |    0.826 | 0:00:47.70 |\n",
            "| Validation | 0.457 |    0.801 |            |\n",
            "+------------+-------+----------+------------+\n",
            "+--------------------------------------------+\n",
            "|         EPOCH: 08/10 not saving...         |\n",
            "+------------+-------+----------+------------+\n",
            "| CATEGORY   |  LOSS | ACCURACY |        ETA |\n",
            "+------------+-------+----------+------------+\n",
            "| Training   | 0.379 |    0.829 | 0:00:47.85 |\n",
            "| Validation | 0.459 |    0.802 |            |\n",
            "+------------+-------+----------+------------+\n",
            "+--------------------------------------------+\n",
            "|         EPOCH: 09/10 not saving...         |\n",
            "+------------+-------+----------+------------+\n",
            "| CATEGORY   |  LOSS | ACCURACY |        ETA |\n",
            "+------------+-------+----------+------------+\n",
            "| Training   | 0.373 |    0.833 | 0:00:47.44 |\n",
            "| Validation | 0.459 |    0.799 |            |\n",
            "+------------+-------+----------+------------+\n",
            "+--------------------------------------------+\n",
            "|         EPOCH: 10/10 not saving...         |\n",
            "+------------+-------+----------+------------+\n",
            "| CATEGORY   |  LOSS | ACCURACY |        ETA |\n",
            "+------------+-------+----------+------------+\n",
            "| Training   | 0.367 |    0.836 | 0:00:47.46 |\n",
            "| Validation | 0.461 |    0.795 |            |\n",
            "+------------+-------+----------+------------+\n"
          ],
          "name": "stdout"
        }
      ]
    },
    {
      "cell_type": "markdown",
      "metadata": {
        "id": "8IMcTLBMq-T5"
      },
      "source": [
        "### Evaluating the best model."
      ]
    },
    {
      "cell_type": "code",
      "metadata": {
        "colab": {
          "base_uri": "https://localhost:8080/"
        },
        "id": "TOjGeUSMrGMK",
        "outputId": "a3a26b2c-252d-443f-c072-e6a18618e26d"
      },
      "source": [
        "duplicate_questions_model.load_state_dict(torch.load('best-model.pt'))\n",
        "\n",
        "test_loss, test_acc = evaluate(duplicate_questions_model, test_iter, criterion)\n",
        "\n",
        "print(f'Test Loss: {test_loss:.3f} | Test Acc: {test_acc*100:.2f}%')"
      ],
      "execution_count": 27,
      "outputs": [
        {
          "output_type": "stream",
          "text": [
            "Test Loss: 0.455 | Test Acc: 78.28%\n"
          ],
          "name": "stdout"
        }
      ]
    },
    {
      "cell_type": "markdown",
      "metadata": {
        "id": "8QJBuD65ioTa"
      },
      "source": [
        "### Model Inference\n",
        "\n",
        "Our predict sentiment function will:\n",
        "\n",
        "* get `two` question pairs, tokenize them and convert them to sequences.\n",
        "* pass the model the, questions that are converted to tensors.\n",
        "* Apply the sigmoid to get the accual label."
      ]
    },
    {
      "cell_type": "code",
      "metadata": {
        "id": "URonyAkn-W8J"
      },
      "source": [
        "import en_core_web_sm\n",
        "nlp = en_core_web_sm.load()\n",
        "\n",
        "def predict_sentiment(model, q1, q2):\n",
        "  model.eval()\n",
        "  tokenized_q1 = [tok.text for tok in nlp.tokenizer(q1.lower())]\n",
        "  tokenized_q2 = [tok.text for tok in nlp.tokenizer(q2.lower())]\n",
        "\n",
        "  indexed_1 = [TEXT.vocab.stoi[t] for t in tokenized_q1]\n",
        "  indexed_2 = [TEXT.vocab.stoi[t] for t in tokenized_q2]\n",
        "\n",
        "  tensor_1 = torch.LongTensor(indexed_1).to(device).unsqueeze(1)\n",
        "  tensor_2 = torch.LongTensor(indexed_2).to(device).unsqueeze(1)\n",
        "\n",
        "  prediction = torch.sigmoid(model(tensor_1, tensor_2))\n",
        "  return prediction.item()"
      ],
      "execution_count": 28,
      "outputs": []
    },
    {
      "cell_type": "markdown",
      "metadata": {
        "id": "4ReNykvykiHn"
      },
      "source": [
        "### Getting questions for testing."
      ]
    },
    {
      "cell_type": "code",
      "metadata": {
        "id": "LZAPfDiIEcG9"
      },
      "source": [
        "dataframe = pd.read_csv(os.path.join(\n",
        "    base_path,\n",
        "    test_path\n",
        "))\n",
        "\n",
        "qns1 = dataframe.question1.values\n",
        "qns2 = dataframe.question2.values\n",
        "true_labels = dataframe.is_duplicate.values"
      ],
      "execution_count": 29,
      "outputs": []
    },
    {
      "cell_type": "code",
      "metadata": {
        "id": "FZ0b8lZWkhm9"
      },
      "source": [
        "from prettytable import PrettyTable\n",
        "def tabulate(column_names, data, max_characters:int, title:str):\n",
        "  table = PrettyTable(column_names)\n",
        "  table.align[column_names[0]] = \"l\"\n",
        "  table.align[column_names[1]] = \"l\"\n",
        "  table.title = title\n",
        "  table._max_width = {column_names[0] :max_characters, column_names[1] :max_characters}\n",
        "  for row in data:\n",
        "    table.add_row(row)\n",
        "  print(table)"
      ],
      "execution_count": 30,
      "outputs": []
    },
    {
      "cell_type": "code",
      "metadata": {
        "colab": {
          "base_uri": "https://localhost:8080/"
        },
        "id": "2L-s8DwykhkG",
        "outputId": "1b4893af-085e-46bf-8960-afacde8ceba5"
      },
      "source": [
        "\n",
        "for i, (q1, q2, label) in enumerate(zip(qns1, qns2, true_labels[:10])):\n",
        "  pred = predict_sentiment(duplicate_questions_model, q1, q2)\n",
        "  classes = [\"not duplicate\", \"duplicate\"]\n",
        "  probability = pred if pred >=0.5 else 1 - pred\n",
        "  table_headers =[\"KEY\", \"VALUE\"]\n",
        "  table_data = [\n",
        "        [\"Question 1\", q1],\n",
        "        [\"Question2\", q2],\n",
        "        [\"PREDICTED CLASS\",  round(pred)],\n",
        "        [\"PREDICTED CLASS NAME\",  classes[round(pred)]],\n",
        "        [\"REAL CLASS\",  label],\n",
        "        [\"REAL CLASS NAME\",  classes[label]],\n",
        "        [\"CONFIDENCE OVER OTHER CLASSES\", f'{ probability * 100:.2f}%'],\n",
        "             \n",
        "    ]\n",
        "  title = \"Duplicate Questions\"\n",
        "  tabulate(table_headers, table_data, 50, title=title)"
      ],
      "execution_count": 31,
      "outputs": [
        {
          "output_type": "stream",
          "text": [
            "+------------------------------------------------------------------------------------+\n",
            "|                                Duplicate Questions                                 |\n",
            "+-------------------------------+----------------------------------------------------+\n",
            "| KEY                           | VALUE                                              |\n",
            "+-------------------------------+----------------------------------------------------+\n",
            "| Question 1                    | Do you watch Korean dramas?                        |\n",
            "| Question2                     | Is it normal to watch Korean drama if you are a    |\n",
            "|                               | guy?                                               |\n",
            "| PREDICTED CLASS               | 0                                                  |\n",
            "| PREDICTED CLASS NAME          | not duplicate                                      |\n",
            "| REAL CLASS                    | 0                                                  |\n",
            "| REAL CLASS NAME               | not duplicate                                      |\n",
            "| CONFIDENCE OVER OTHER CLASSES | 86.72%                                             |\n",
            "+-------------------------------+----------------------------------------------------+\n",
            "+------------------------------------------------------------------------------------+\n",
            "|                                Duplicate Questions                                 |\n",
            "+-------------------------------+----------------------------------------------------+\n",
            "| KEY                           | VALUE                                              |\n",
            "+-------------------------------+----------------------------------------------------+\n",
            "| Question 1                    | What are some good home remedies for getting rid   |\n",
            "|                               | of stress bumps on the lips?                       |\n",
            "| Question2                     | How do I get rid of an acidic tummy and a sore     |\n",
            "|                               | mouth? Is there any home remedies?                 |\n",
            "| PREDICTED CLASS               | 1                                                  |\n",
            "| PREDICTED CLASS NAME          | duplicate                                          |\n",
            "| REAL CLASS                    | 0                                                  |\n",
            "| REAL CLASS NAME               | not duplicate                                      |\n",
            "| CONFIDENCE OVER OTHER CLASSES | 70.76%                                             |\n",
            "+-------------------------------+----------------------------------------------------+\n",
            "+------------------------------------------------------------------------------------+\n",
            "|                                Duplicate Questions                                 |\n",
            "+-------------------------------+----------------------------------------------------+\n",
            "| KEY                           | VALUE                                              |\n",
            "+-------------------------------+----------------------------------------------------+\n",
            "| Question 1                    | “Everyone wants to go to Baghdad. Real men want to |\n",
            "|                               | go to Tehran.” What does this mean?                |\n",
            "| Question2                     | Why do you want to go back to college days?        |\n",
            "| PREDICTED CLASS               | 1                                                  |\n",
            "| PREDICTED CLASS NAME          | duplicate                                          |\n",
            "| REAL CLASS                    | 0                                                  |\n",
            "| REAL CLASS NAME               | not duplicate                                      |\n",
            "| CONFIDENCE OVER OTHER CLASSES | 69.43%                                             |\n",
            "+-------------------------------+----------------------------------------------------+\n",
            "+-------------------------------------------------------------------+\n",
            "|                        Duplicate Questions                        |\n",
            "+-------------------------------+-----------------------------------+\n",
            "| KEY                           | VALUE                             |\n",
            "+-------------------------------+-----------------------------------+\n",
            "| Question 1                    | How can I ask my wife for sex?    |\n",
            "| Question2                     | Do I have to ask my wife for sex? |\n",
            "| PREDICTED CLASS               | 1                                 |\n",
            "| PREDICTED CLASS NAME          | duplicate                         |\n",
            "| REAL CLASS                    | 0                                 |\n",
            "| REAL CLASS NAME               | not duplicate                     |\n",
            "| CONFIDENCE OVER OTHER CLASSES | 88.83%                            |\n",
            "+-------------------------------+-----------------------------------+\n",
            "+------------------------------------------------------------------------------------+\n",
            "|                                Duplicate Questions                                 |\n",
            "+-------------------------------+----------------------------------------------------+\n",
            "| KEY                           | VALUE                                              |\n",
            "+-------------------------------+----------------------------------------------------+\n",
            "| Question 1                    | How do you deal with having a bad reputation in    |\n",
            "|                               | college?                                           |\n",
            "| Question2                     | How can I deal with bad reputation in college?     |\n",
            "| PREDICTED CLASS               | 1                                                  |\n",
            "| PREDICTED CLASS NAME          | duplicate                                          |\n",
            "| REAL CLASS                    | 0                                                  |\n",
            "| REAL CLASS NAME               | not duplicate                                      |\n",
            "| CONFIDENCE OVER OTHER CLASSES | 71.56%                                             |\n",
            "+-------------------------------+----------------------------------------------------+\n",
            "+------------------------------------------------------------------------------------+\n",
            "|                                Duplicate Questions                                 |\n",
            "+-------------------------------+----------------------------------------------------+\n",
            "| KEY                           | VALUE                                              |\n",
            "+-------------------------------+----------------------------------------------------+\n",
            "| Question 1                    | What credit card is the one that you pay the       |\n",
            "|                               | least?                                             |\n",
            "| Question2                     | What are the consiquences of not paying the credit |\n",
            "|                               | card?                                              |\n",
            "| PREDICTED CLASS               | 0                                                  |\n",
            "| PREDICTED CLASS NAME          | not duplicate                                      |\n",
            "| REAL CLASS                    | 0                                                  |\n",
            "| REAL CLASS NAME               | not duplicate                                      |\n",
            "| CONFIDENCE OVER OTHER CLASSES | 75.60%                                             |\n",
            "+-------------------------------+----------------------------------------------------+\n",
            "+----------------------------------------------------------------------+\n",
            "|                         Duplicate Questions                          |\n",
            "+-------------------------------+--------------------------------------+\n",
            "| KEY                           | VALUE                                |\n",
            "+-------------------------------+--------------------------------------+\n",
            "| Question 1                    | Does Elon Musk have a lack of focus? |\n",
            "| Question2                     | What is the origin of the Drama?     |\n",
            "| PREDICTED CLASS               | 1                                    |\n",
            "| PREDICTED CLASS NAME          | duplicate                            |\n",
            "| REAL CLASS                    | 0                                    |\n",
            "| REAL CLASS NAME               | not duplicate                        |\n",
            "| CONFIDENCE OVER OTHER CLASSES | 98.95%                               |\n",
            "+-------------------------------+--------------------------------------+\n",
            "+------------------------------------------------------------------------------------+\n",
            "|                                Duplicate Questions                                 |\n",
            "+-------------------------------+----------------------------------------------------+\n",
            "| KEY                           | VALUE                                              |\n",
            "+-------------------------------+----------------------------------------------------+\n",
            "| Question 1                    | What universities does Investors Real estate       |\n",
            "|                               | recruit new grads from? What majors are they       |\n",
            "|                               | looking for?                                       |\n",
            "| Question2                     | What universities does Renaissance Real estate     |\n",
            "|                               | recruit new grads from? What majors are they       |\n",
            "|                               | looking for?                                       |\n",
            "| PREDICTED CLASS               | 0                                                  |\n",
            "| PREDICTED CLASS NAME          | not duplicate                                      |\n",
            "| REAL CLASS                    | 0                                                  |\n",
            "| REAL CLASS NAME               | not duplicate                                      |\n",
            "| CONFIDENCE OVER OTHER CLASSES | 99.34%                                             |\n",
            "+-------------------------------+----------------------------------------------------+\n",
            "+------------------------------------------------------------------------------------+\n",
            "|                                Duplicate Questions                                 |\n",
            "+-------------------------------+----------------------------------------------------+\n",
            "| KEY                           | VALUE                                              |\n",
            "+-------------------------------+----------------------------------------------------+\n",
            "| Question 1                    | Could God who is truly all powerful create a rock  |\n",
            "|                               | that he himself could not lift?                    |\n",
            "| Question2                     | If God is all powerful can he make a rock so heavy |\n",
            "|                               | even he cannot lift it?                            |\n",
            "| PREDICTED CLASS               | 1                                                  |\n",
            "| PREDICTED CLASS NAME          | duplicate                                          |\n",
            "| REAL CLASS                    | 1                                                  |\n",
            "| REAL CLASS NAME               | duplicate                                          |\n",
            "| CONFIDENCE OVER OTHER CLASSES | 99.66%                                             |\n",
            "+-------------------------------+----------------------------------------------------+\n",
            "+------------------------------------------------------------------------------------+\n",
            "|                                Duplicate Questions                                 |\n",
            "+-------------------------------+----------------------------------------------------+\n",
            "| KEY                           | VALUE                                              |\n",
            "+-------------------------------+----------------------------------------------------+\n",
            "| Question 1                    | How do I convey my mom (single mother) that i      |\n",
            "|                               | want/need to get married asap indirectly? Please   |\n",
            "|                               | help                                               |\n",
            "| Question2                     | How do I convey my parents that they need to let   |\n",
            "|                               | me take my own decisions?                          |\n",
            "| PREDICTED CLASS               | 0                                                  |\n",
            "| PREDICTED CLASS NAME          | not duplicate                                      |\n",
            "| REAL CLASS                    | 0                                                  |\n",
            "| REAL CLASS NAME               | not duplicate                                      |\n",
            "| CONFIDENCE OVER OTHER CLASSES | 96.49%                                             |\n",
            "+-------------------------------+----------------------------------------------------+\n"
          ],
          "name": "stdout"
        }
      ]
    },
    {
      "cell_type": "markdown",
      "metadata": {
        "id": "CKQW_sudmrj0"
      },
      "source": [
        "### Conclusion.\n",
        "* We have managed to make questions classifications by creating a model that takes 2 inputs and maps to a single output.\n"
      ]
    },
    {
      "cell_type": "code",
      "metadata": {
        "id": "r4-amj_DGKYH"
      },
      "source": [
        ""
      ],
      "execution_count": null,
      "outputs": []
    }
  ]
}