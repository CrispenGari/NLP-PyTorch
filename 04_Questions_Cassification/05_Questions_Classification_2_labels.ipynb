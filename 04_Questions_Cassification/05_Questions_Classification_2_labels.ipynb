{
  "nbformat": 4,
  "nbformat_minor": 0,
  "metadata": {
    "colab": {
      "name": "05_Questions_Classification_2_labels.ipynb",
      "provenance": [],
      "collapsed_sections": []
    },
    "kernelspec": {
      "name": "python3",
      "display_name": "Python 3"
    },
    "language_info": {
      "name": "python"
    },
    "accelerator": "GPU"
  },
  "cells": [
    {
      "cell_type": "markdown",
      "metadata": {
        "id": "gwFkL0ZK1L-X"
      },
      "source": [
        "### Questions Classification Custom dataset.\n",
        "\n",
        "In the previous notebook we looked much in depth with different NN layers and models for predicting question category. The easiest part of the problem was that we were just predicting a single label. In this notebook we are going to learn how we can predict two labels at the same time:\n",
        "\n",
        "* All credits goes to [the pytorch community](https://discuss.pytorch.org/t/a-model-with-multiple-outputs/10440)"
      ]
    },
    {
      "cell_type": "markdown",
      "metadata": {
        "id": "dl1NzpCf2rlk"
      },
      "source": [
        "### Data preparation using torchtext.\n",
        "\n",
        "In this notebook we are not going to prepare the data, because it has already been prepared for us in file. What we are going to do is to load the data.\n"
      ]
    },
    {
      "cell_type": "code",
      "metadata": {
        "colab": {
          "base_uri": "https://localhost:8080/"
        },
        "id": "b5bfB7PC1HRJ",
        "outputId": "2226edfe-ad83-474b-b2f3-ec441bc8b514"
      },
      "source": [
        "from google.colab import drive\n",
        "drive.mount('/content/drive')"
      ],
      "execution_count": 1,
      "outputs": [
        {
          "output_type": "stream",
          "text": [
            "Mounted at /content/drive\n"
          ],
          "name": "stdout"
        }
      ]
    },
    {
      "cell_type": "markdown",
      "metadata": {
        "id": "JpcZ-TG63VID"
      },
      "source": [
        "### Imports"
      ]
    },
    {
      "cell_type": "code",
      "metadata": {
        "colab": {
          "base_uri": "https://localhost:8080/",
          "height": 35
        },
        "id": "qpE80WdY3TgV",
        "outputId": "78caa022-34ac-4734-90e7-19095a9338aa"
      },
      "source": [
        "import time\n",
        "from prettytable import PrettyTable\n",
        "import numpy as np\n",
        "from matplotlib import pyplot as plt\n",
        "import pandas as pd\n",
        "\n",
        "import torch, os, random\n",
        "from torch import nn\n",
        "import torch.nn.functional as F\n",
        "\n",
        "torch.__version__"
      ],
      "execution_count": 2,
      "outputs": [
        {
          "output_type": "execute_result",
          "data": {
            "application/vnd.google.colaboratory.intrinsic+json": {
              "type": "string"
            },
            "text/plain": [
              "'1.9.0+cu102'"
            ]
          },
          "metadata": {
            "tags": []
          },
          "execution_count": 2
        }
      ]
    },
    {
      "cell_type": "markdown",
      "metadata": {
        "id": "aAkhI0Ns3wiU"
      },
      "source": [
        "### Setting up the seeds"
      ]
    },
    {
      "cell_type": "code",
      "metadata": {
        "id": "GwYV_hrz3sSB"
      },
      "source": [
        "SEED = 42\n",
        "\n",
        "np.random.seed(SEED)\n",
        "random.seed(SEED)\n",
        "torch.manual_seed(SEED)\n",
        "torch.cuda.manual_seed(SEED)\n",
        "torch.backends.cudnn.deteministic = True"
      ],
      "execution_count": 3,
      "outputs": []
    },
    {
      "cell_type": "markdown",
      "metadata": {
        "id": "QlPBQXKmGEFk"
      },
      "source": [
        "### File names"
      ]
    },
    {
      "cell_type": "code",
      "metadata": {
        "id": "iBBoZ8MqGsGR"
      },
      "source": [
        "train_path_json = 'train.json'\n",
        "test_path_json = 'test.json'\n",
        "val_path_json = 'val.json'"
      ],
      "execution_count": 4,
      "outputs": []
    },
    {
      "cell_type": "markdown",
      "metadata": {
        "id": "i7YMbs8a43jD"
      },
      "source": [
        "### Creating the Fields.\n",
        "\n",
        "In this notebook we are going to have two label fields So we need a `Label` and a `Text` Field. On the `Text` field we are going to pass the arg `include_lengths=True` since we are going to used packed padded sequences.\n"
      ]
    },
    {
      "cell_type": "code",
      "metadata": {
        "id": "7_xUMByB5tGa"
      },
      "source": [
        "from torchtext.legacy import data, datasets"
      ],
      "execution_count": 5,
      "outputs": []
    },
    {
      "cell_type": "code",
      "metadata": {
        "id": "_RaqW-b-4lJJ"
      },
      "source": [
        "TEXT = data.Field(\n",
        "   tokenize=\"spacy\",\n",
        "   include_lengths = True,\n",
        "  tokenizer_language = 'en_core_web_sm',\n",
        ")\n",
        "LABEL_1 = data.LabelField()\n",
        "LABEL_2 = data.LabelField()"
      ],
      "execution_count": 7,
      "outputs": []
    },
    {
      "cell_type": "code",
      "metadata": {
        "id": "OugU18S_7tAS"
      },
      "source": [
        "fields = {\n",
        "  \"Questions\": ('text', TEXT),\n",
        "  \"Category1\": ('label_1', LABEL_1),\n",
        "  \"Category2\":('label_2', LABEL_2),\n",
        "}"
      ],
      "execution_count": 13,
      "outputs": []
    },
    {
      "cell_type": "markdown",
      "metadata": {
        "id": "JiNOBqFO8pyo"
      },
      "source": [
        "### Creating the dataset.\n",
        "\n",
        "We ar going to use the `TabularDataset.split()` to create the datasets."
      ]
    },
    {
      "cell_type": "code",
      "metadata": {
        "id": "GAgiWOoh8mWO"
      },
      "source": [
        "files_path = '/content/drive/MyDrive/NLP Data/questions-classification/pytorch'\n",
        "train_data, val_data, test_data = data.TabularDataset.splits(\n",
        "   files_path,\n",
        "   train=train_path_json,\n",
        "   test= test_path_json,\n",
        "   validation= val_path_json,\n",
        "   format = \"json\",\n",
        "   fields=fields\n",
        ")"
      ],
      "execution_count": 14,
      "outputs": []
    },
    {
      "cell_type": "code",
      "metadata": {
        "colab": {
          "base_uri": "https://localhost:8080/"
        },
        "id": "1f4YEu-fQ1WK",
        "outputId": "0b830799-e4d7-4a90-957e-0d1bef021eed"
      },
      "source": [
        "len(train_data), len(test_data), len(val_data)"
      ],
      "execution_count": 15,
      "outputs": [
        {
          "output_type": "execute_result",
          "data": {
            "text/plain": [
              "(5179, 28, 245)"
            ]
          },
          "metadata": {
            "tags": []
          },
          "execution_count": 15
        }
      ]
    },
    {
      "cell_type": "code",
      "metadata": {
        "colab": {
          "base_uri": "https://localhost:8080/"
        },
        "id": "AZ1oWIQW9KWn",
        "outputId": "f85effc4-f5ce-436b-e10f-acf36073d5c2"
      },
      "source": [
        "print(vars(train_data.examples[0]))"
      ],
      "execution_count": 16,
      "outputs": [
        {
          "output_type": "stream",
          "text": [
            "{'text': ['What', 'is', 'the', 'name', 'of', 'Miss', 'India', '1994', '?'], 'label_1': 'HUM', 'label_2': 'ind'}\n"
          ],
          "name": "stdout"
        }
      ]
    },
    {
      "cell_type": "markdown",
      "metadata": {
        "id": "3t-0JC1U-l73"
      },
      "source": [
        "### Building the Vocabulary and Loading the `pretrained` word vectors.\n",
        "\n",
        "We are going to use the `glove.6B.100d` word vectors which was trained with 6 billion words and each word is a 100 dimesional vector.\n",
        "\n",
        "**Note** We should only build the vocabulary on the `train` dataset only."
      ]
    },
    {
      "cell_type": "code",
      "metadata": {
        "id": "b4p3m1_--WYU"
      },
      "source": [
        "MAX_VOCAB_SIZE = 100_000_000\n",
        "\n",
        "TEXT.build_vocab(\n",
        "    train_data,\n",
        "     max_size = MAX_VOCAB_SIZE,\n",
        "    vectors = \"glove.6B.100d\",\n",
        "    unk_init = torch.Tensor.normal_\n",
        ")\n",
        "LABEL_1.build_vocab(train_data)\n",
        "LABEL_2.build_vocab(train_data)\n"
      ],
      "execution_count": 18,
      "outputs": []
    },
    {
      "cell_type": "markdown",
      "metadata": {
        "id": "fF6qioSVHWMw"
      },
      "source": [
        "### Checking the labels"
      ]
    },
    {
      "cell_type": "code",
      "metadata": {
        "colab": {
          "base_uri": "https://localhost:8080/"
        },
        "id": "k4faA0_LHZA3",
        "outputId": "b006de94-9cf5-4ef1-84db-d10dcef86588"
      },
      "source": [
        "print(\"************************ FIRST LABELS ********************************\")\n",
        "print(LABEL_1.vocab.stoi)\n",
        "print(\"************************ SECOND LABELS ********************************\")\n",
        "print(LABEL_2.vocab.stoi)"
      ],
      "execution_count": 19,
      "outputs": [
        {
          "output_type": "stream",
          "text": [
            "************************ FIRST LABELS ********************************\n",
            "defaultdict(None, {'ENTY': 0, 'HUM': 1, 'DESC': 2, 'NUM': 3, 'LOC': 4, 'ABBR': 5})\n",
            "************************ SECOND LABELS ********************************\n",
            "defaultdict(None, {'ind': 0, 'other': 1, 'def': 2, 'count': 3, 'desc': 4, 'manner': 5, 'cremat': 6, 'date': 7, 'gr': 8, 'reason': 9, 'country': 10, 'city': 11, 'animal': 12, 'food': 13, 'dismed': 14, 'termeq': 15, 'period': 16, 'money': 17, 'exp': 18, 'state': 19, 'sport': 20, 'event': 21, 'product': 22, 'substance': 23, 'techmeth': 24, 'color': 25, 'dist': 26, 'perc': 27, 'veh': 28, 'word': 29, 'title': 30, 'mount': 31, 'body': 32, 'abb': 33, 'lang': 34, 'volsize': 35, 'plant': 36, 'symbol': 37, 'instru': 38, 'weight': 39, 'code': 40, 'letter': 41, 'speed': 42, 'temp': 43, 'ord': 44, 'currency': 45, 'religion': 46})\n"
          ],
          "name": "stdout"
        }
      ]
    },
    {
      "cell_type": "markdown",
      "metadata": {
        "id": "yFukx38W_aNv"
      },
      "source": [
        "### Device."
      ]
    },
    {
      "cell_type": "code",
      "metadata": {
        "colab": {
          "base_uri": "https://localhost:8080/"
        },
        "id": "MYPGTIZ7_Zet",
        "outputId": "5ac8c624-278a-4581-e5be-1be287d7a54a"
      },
      "source": [
        "device = torch.device('cuda' if torch.cuda.is_available() else 'cpu')\n",
        "device"
      ],
      "execution_count": 20,
      "outputs": [
        {
          "output_type": "execute_result",
          "data": {
            "text/plain": [
              "device(type='cuda')"
            ]
          },
          "metadata": {
            "tags": []
          },
          "execution_count": 20
        }
      ]
    },
    {
      "cell_type": "markdown",
      "metadata": {
        "id": "eaCMz4yZ_n5W"
      },
      "source": [
        "### Creating iterators.\n",
        "\n",
        "We are going to use our favorite iterator known as the `BucketIterator` to create iterators for all the sets that we have."
      ]
    },
    {
      "cell_type": "code",
      "metadata": {
        "id": "GPDrPFKQ_mf1"
      },
      "source": [
        "sort_key = lambda x: len(x.text)\n",
        "\n",
        "BATCH_SIZE = 64\n",
        "\n",
        "train_iter, val_iter, test_iter = data.BucketIterator.splits(\n",
        "    (train_data, val_data, test_data),\n",
        "    device = device,\n",
        "    batch_size = BATCH_SIZE,\n",
        "    sort_key = sort_key,\n",
        ")"
      ],
      "execution_count": 21,
      "outputs": []
    },
    {
      "cell_type": "markdown",
      "metadata": {
        "id": "spZX8zodA91F"
      },
      "source": [
        "### Creating the Model."
      ]
    },
    {
      "cell_type": "code",
      "metadata": {
        "id": "ReThGRspA7uO"
      },
      "source": [
        "class QuestionsLSTMRNN(nn.Module):\n",
        "  def __init__(self, \n",
        "               vocab_size,\n",
        "               embedding_size,\n",
        "               hidden_size,\n",
        "               output_size_1,\n",
        "               output_size_2,\n",
        "               num_layers,\n",
        "               pad_index,\n",
        "               bidirectional = True,\n",
        "               dropout=.5\n",
        "               ):\n",
        "    super(QuestionsLSTMRNN, self).__init__()\n",
        "    self.embedding = nn.Embedding(\n",
        "        vocab_size,\n",
        "        embedding_size,\n",
        "        padding_idx = pad_index\n",
        "    )\n",
        "    self.lstm = nn.LSTM(\n",
        "        embedding_size,\n",
        "        hidden_size  = hidden_size,\n",
        "        bidirectional = bidirectional,\n",
        "        num_layers = num_layers,\n",
        "        dropout = dropout\n",
        "    )\n",
        "    self.fc_1 = nn.Linear(\n",
        "        hidden_size * 2 if bidirectional else hidden_size,\n",
        "        out_features = 512\n",
        "    )\n",
        "    self.fc_2 = nn.Linear(\n",
        "        512,\n",
        "        out_features = 256\n",
        "    )\n",
        "    self.out_1 = nn.Linear(\n",
        "        256,\n",
        "        out_features = output_size_1\n",
        "    )\n",
        "    self.out_2 = nn.Linear(\n",
        "        256,\n",
        "        out_features = output_size_2\n",
        "    )\n",
        "    self.dropout = nn.Dropout(dropout)\n",
        "\n",
        "  def forward(self, text, text_lengths):\n",
        "    embedded = self.dropout(self.embedding(text))\n",
        "    packed_embedded = nn.utils.rnn.pack_padded_sequence(\n",
        "        embedded, text_lengths.to('cpu'), enforce_sorted=False\n",
        "    )\n",
        "    packed_output, (h_0, c_0) = self.lstm(packed_embedded)\n",
        "    output, output_lengths = nn.utils.rnn.pad_packed_sequence(packed_output)\n",
        "    h_0 = self.dropout(torch.cat((h_0[-2,:,:], h_0[-1,:,:]), dim = 1))\n",
        "    fc_hidden_1 = self.dropout(self.fc_1(h_0))\n",
        "    fc_hidden_2 = self.dropout(self.fc_2(fc_hidden_1))\n",
        "    return self.out_1(fc_hidden_2), self.out_2(fc_hidden_2)\n"
      ],
      "execution_count": 23,
      "outputs": []
    },
    {
      "cell_type": "markdown",
      "metadata": {
        "id": "Z2IVtv8EDhJd"
      },
      "source": [
        "### Creating the model instance."
      ]
    },
    {
      "cell_type": "code",
      "metadata": {
        "colab": {
          "base_uri": "https://localhost:8080/"
        },
        "id": "RbJdW058DgTl",
        "outputId": "7d06463d-ebb3-4e3e-d4e1-cb2ead22442f"
      },
      "source": [
        "INPUT_DIM = len(TEXT.vocab)\n",
        "EMBEDDING_DIM = 100\n",
        "HIDDEN_DIM = 256\n",
        "OUTPUT_DIM_1 =  len(LABEL_1.vocab)\n",
        "OUTPUT_DIM_2 =  len(LABEL_2.vocab)\n",
        "N_LAYERS = 2\n",
        "BIDIRECTIONAL = True\n",
        "DROPOUT = 0.5\n",
        "PAD_IDX = TEXT.vocab.stoi[TEXT.pad_token] \n",
        "\n",
        "questions_model = QuestionsLSTMRNN(\n",
        "            INPUT_DIM, \n",
        "            EMBEDDING_DIM, \n",
        "            HIDDEN_DIM, \n",
        "            OUTPUT_DIM_1, \n",
        "            OUTPUT_DIM_2,\n",
        "            N_LAYERS, \n",
        "            bidirectional = BIDIRECTIONAL, \n",
        "            dropout = DROPOUT, \n",
        "            pad_index = PAD_IDX\n",
        "            ).to(device)\n",
        "questions_model"
      ],
      "execution_count": 24,
      "outputs": [
        {
          "output_type": "execute_result",
          "data": {
            "text/plain": [
              "QuestionsLSTMRNN(\n",
              "  (embedding): Embedding(9053, 100, padding_idx=1)\n",
              "  (lstm): LSTM(100, 256, num_layers=2, dropout=0.5, bidirectional=True)\n",
              "  (fc_1): Linear(in_features=512, out_features=512, bias=True)\n",
              "  (fc_2): Linear(in_features=512, out_features=256, bias=True)\n",
              "  (out_1): Linear(in_features=256, out_features=6, bias=True)\n",
              "  (out_2): Linear(in_features=256, out_features=47, bias=True)\n",
              "  (dropout): Dropout(p=0.5, inplace=False)\n",
              ")"
            ]
          },
          "metadata": {
            "tags": []
          },
          "execution_count": 24
        }
      ]
    },
    {
      "cell_type": "markdown",
      "metadata": {
        "id": "acQD-B6zEE72"
      },
      "source": [
        "### Model parameters"
      ]
    },
    {
      "cell_type": "code",
      "metadata": {
        "colab": {
          "base_uri": "https://localhost:8080/"
        },
        "id": "PQaztp4ID-HI",
        "outputId": "0e4fced2-c8f1-4656-9370-4ab1abf5e0b2"
      },
      "source": [
        "\n",
        "def count_trainable_params(model):\n",
        "  return sum(p.numel() for p in model.parameters()), sum(p.numel() for p in model.parameters() if p.requires_grad)\n",
        "\n",
        "n_params, trainable_params = count_trainable_params(questions_model)\n",
        "print(f\"Total number of paramaters: {n_params:,}\\nTotal tainable parameters: {trainable_params:,}\")\n"
      ],
      "execution_count": 25,
      "outputs": [
        {
          "output_type": "stream",
          "text": [
            "Total number of paramaters: 3,623,049\n",
            "Total tainable parameters: 3,623,049\n"
          ],
          "name": "stdout"
        }
      ]
    },
    {
      "cell_type": "markdown",
      "metadata": {
        "id": "R8gjXny7EUNb"
      },
      "source": [
        "### Loading pretrained vextors to the embedding layer."
      ]
    },
    {
      "cell_type": "code",
      "metadata": {
        "id": "ULe__PiKEQS8"
      },
      "source": [
        "pretrained_embeddings  = TEXT.vocab.vectors"
      ],
      "execution_count": 26,
      "outputs": []
    },
    {
      "cell_type": "code",
      "metadata": {
        "colab": {
          "base_uri": "https://localhost:8080/"
        },
        "id": "ZeXa9ycREfuV",
        "outputId": "3ce8bcdf-1599-4875-a093-a7fcff6dc661"
      },
      "source": [
        "questions_model.embedding.weight.data.copy_(pretrained_embeddings)"
      ],
      "execution_count": 27,
      "outputs": [
        {
          "output_type": "execute_result",
          "data": {
            "text/plain": [
              "tensor([[-0.4303,  1.6655, -2.0804,  ..., -2.3329, -1.2891,  0.0409],\n",
              "        [ 1.5028, -1.3403,  0.2781,  ..., -1.4139,  0.1502,  0.7494],\n",
              "        [ 0.1638,  0.6046,  1.0789,  ..., -0.3140,  0.1844,  0.3624],\n",
              "        ...,\n",
              "        [ 0.0091,  0.2810,  0.7356,  ..., -0.7508,  0.8967, -0.7631],\n",
              "        [ 0.2906,  0.3217,  0.2419,  ..., -0.9444, -0.3790,  0.6196],\n",
              "        [-1.0730,  0.5884,  0.0924,  ..., -0.5349, -1.2020,  1.1135]],\n",
              "       device='cuda:0')"
            ]
          },
          "metadata": {
            "tags": []
          },
          "execution_count": 27
        }
      ]
    },
    {
      "cell_type": "markdown",
      "metadata": {
        "id": "Q27hKnrpEoKF"
      },
      "source": [
        "### Zeroing the `<pad>` and `<unk>` tokens."
      ]
    },
    {
      "cell_type": "code",
      "metadata": {
        "colab": {
          "base_uri": "https://localhost:8080/"
        },
        "id": "f_qvO2teEmvh",
        "outputId": "9aa0c72e-0801-41bc-931e-2116da08b49e"
      },
      "source": [
        "UNK_IDX = TEXT.vocab.stoi[TEXT.unk_token] or TEXT.vocab.stoi[\"<unk>\"]\n",
        "questions_model.embedding.weight.data[UNK_IDX] = torch.zeros(EMBEDDING_DIM)\n",
        "questions_model.embedding.weight.data[PAD_IDX] = torch.zeros(EMBEDDING_DIM)\n",
        "questions_model.embedding.weight.data"
      ],
      "execution_count": 28,
      "outputs": [
        {
          "output_type": "execute_result",
          "data": {
            "text/plain": [
              "tensor([[ 0.0000,  0.0000,  0.0000,  ...,  0.0000,  0.0000,  0.0000],\n",
              "        [ 0.0000,  0.0000,  0.0000,  ...,  0.0000,  0.0000,  0.0000],\n",
              "        [ 0.1638,  0.6046,  1.0789,  ..., -0.3140,  0.1844,  0.3624],\n",
              "        ...,\n",
              "        [ 0.0091,  0.2810,  0.7356,  ..., -0.7508,  0.8967, -0.7631],\n",
              "        [ 0.2906,  0.3217,  0.2419,  ..., -0.9444, -0.3790,  0.6196],\n",
              "        [-1.0730,  0.5884,  0.0924,  ..., -0.5349, -1.2020,  1.1135]],\n",
              "       device='cuda:0')"
            ]
          },
          "metadata": {
            "tags": []
          },
          "execution_count": 28
        }
      ]
    },
    {
      "cell_type": "markdown",
      "metadata": {
        "id": "sm2RklTLE-Dv"
      },
      "source": [
        "### Loss and optimizer.\n",
        "For the loss we are going to create 2 loss functions. We are going to use the `Adam` as our optimizer."
      ]
    },
    {
      "cell_type": "code",
      "metadata": {
        "id": "r7UCyAlYE1nA"
      },
      "source": [
        "optimizer = torch.optim.Adam(questions_model.parameters())\n",
        "criterion_1 = nn.CrossEntropyLoss().to(device)\n",
        "criterion_2 = nn.CrossEntropyLoss().to(device)"
      ],
      "execution_count": 29,
      "outputs": []
    },
    {
      "cell_type": "markdown",
      "metadata": {
        "id": "Bi2tk-kSFTVq"
      },
      "source": [
        "### Accuracy function.\n",
        "We are going to create the `categorical_accuracy()` function that will calculate the categorical accuracy for predicted labels and actual labels.\n",
        "\n",
        "**Note**: this function will remain the same we are just going to reuse it."
      ]
    },
    {
      "cell_type": "code",
      "metadata": {
        "id": "XRCfQZvmFPBS"
      },
      "source": [
        "def categorical_accuracy(preds, y):\n",
        "  top_pred = preds.argmax(1, keepdim = True)\n",
        "  correct = top_pred.eq(y.view_as(top_pred)).sum()\n",
        "  return correct.float() / y.shape[0]"
      ],
      "execution_count": 30,
      "outputs": []
    },
    {
      "cell_type": "markdown",
      "metadata": {
        "id": "-Gf_nyXVFvOG"
      },
      "source": [
        "### Training and Evaluation functions.\n",
        "\n",
        "In the train and evaluate function we are going to change a lot of things. I will highlight the changes using comments."
      ]
    },
    {
      "cell_type": "code",
      "metadata": {
        "id": "80QEfQeaFuVZ"
      },
      "source": [
        "def train(model, iterator, optimizer, criterion_1, criterion_2):\n",
        "    \"\"\"\n",
        "    Losses and accuracy should be of different labels\n",
        "    \"\"\"\n",
        "    epoch_loss_1 = 0\n",
        "    epoch_acc_1 = 0\n",
        "    epoch_loss_2 = 0\n",
        "    epoch_acc_2 = 0\n",
        "\n",
        "    model.train()\n",
        "    for batch in iterator:\n",
        "        optimizer.zero_grad()\n",
        "        text, text_lengths = batch.text\n",
        "        \"\"\"\n",
        "        The model returns two predictions for different labels.\n",
        "        \"\"\"\n",
        "        predictions_1, predictions_2 = model(text, text_lengths)\n",
        "        predictions_1 = predictions_1.squeeze(1)\n",
        "        predictions_2 = predictions_2.squeeze(1)\n",
        "\n",
        "        \"\"\"\n",
        "        Get the loss for each label\n",
        "        \"\"\"\n",
        "        loss_1 = criterion_1(predictions_1, batch.label_1) # we are using label 1 to calculate the loss for the first label\n",
        "        loss_2 = criterion_2(predictions_2, batch.label_2) # we are using label 2 to calculate the loss for the first label\n",
        "\n",
        "        acc_1 = categorical_accuracy(predictions_1, batch.label_1) # accuracy for the first label\n",
        "        acc_2 = categorical_accuracy(predictions_2, batch.label_2) # accuracy for the first label\n",
        "        \n",
        "        \"\"\"\n",
        "        We have to sum the loss before back propagation\n",
        "        \"\"\"\n",
        "        loss = loss_1 + loss_2\n",
        "        loss.backward()\n",
        "        optimizer.step()\n",
        "        \"\"\"\n",
        "        ********* METRICS ************\n",
        "        \"\"\"\n",
        "        epoch_loss_1 += loss_1.item()\n",
        "        epoch_loss_2 += loss_2.item()\n",
        "        epoch_acc_1 += acc_1.item()\n",
        "        epoch_acc_2 += acc_2.item()\n",
        "    return epoch_loss_1 / len(iterator), epoch_loss_2 / len(iterator), epoch_acc_1 / len(iterator), epoch_acc_2/ len(iterator)\n",
        "\n",
        "\n",
        "def evaluate(model, iterator, criterion_1, criterion_2):\n",
        "    \"\"\"\n",
        "    Losses and accuracy should be of different labels\n",
        "    \"\"\"\n",
        "    epoch_loss_1 = 0\n",
        "    epoch_acc_1 = 0\n",
        "    epoch_loss_2 = 0\n",
        "    epoch_acc_2 = 0\n",
        "\n",
        "    model.eval()\n",
        "    with torch.no_grad():\n",
        "      for batch in iterator:\n",
        "          text, text_lengths = batch.text\n",
        "          \"\"\"\n",
        "          The model returns two predictions for different labels.\n",
        "          \"\"\"\n",
        "          predictions_1, predictions_2 = model(text, text_lengths)\n",
        "          predictions_1 = predictions_1.squeeze(1)\n",
        "          predictions_2 = predictions_2.squeeze(1)\n",
        "          \"\"\"\n",
        "          Get the loss for each label\n",
        "          \"\"\"\n",
        "          loss_1 = criterion_1(predictions_1, batch.label_1) # we are using label 1 to calculate the loss for the first label\n",
        "          loss_2 = criterion_2(predictions_2, batch.label_2) # we are using label 2 to calculate the loss for the first label\n",
        "\n",
        "          acc_1 = categorical_accuracy(predictions_1, batch.label_1) # accuracy for the first label\n",
        "          acc_2 = categorical_accuracy(predictions_2, batch.label_2) # accuracy for the first label\n",
        "          \"\"\"\n",
        "          ********* METRICS ************\n",
        "          \"\"\"\n",
        "          epoch_loss_1 += loss_1.item()\n",
        "          epoch_loss_2 += loss_2.item()\n",
        "          epoch_acc_1 += acc_1.item()\n",
        "          epoch_acc_2 += acc_2.item()\n",
        "    return epoch_loss_1 / len(iterator), epoch_loss_2 / len(iterator), epoch_acc_1 / len(iterator), epoch_acc_2/ len(iterator)"
      ],
      "execution_count": 46,
      "outputs": []
    },
    {
      "cell_type": "markdown",
      "metadata": {
        "id": "gdtkgFFJG1WS"
      },
      "source": [
        "### Training loop.\n",
        "We are going to create helper functions that will help us to visualize our training.\n",
        "\n",
        "1. Time to string"
      ]
    },
    {
      "cell_type": "code",
      "metadata": {
        "id": "yMH6iA1AG0tj"
      },
      "source": [
        "def hms_string(sec_elapsed):\n",
        "    h = int(sec_elapsed / (60 * 60))\n",
        "    m = int((sec_elapsed % (60 * 60)) / 60)\n",
        "    s = sec_elapsed % 60\n",
        "    return \"{}:{:>02}:{:>05.2f}\".format(h, m, s)\n",
        "    "
      ],
      "execution_count": 32,
      "outputs": []
    },
    {
      "cell_type": "markdown",
      "metadata": {
        "id": "kp5OjGiPHR6h"
      },
      "source": [
        "2. tabulate training epoch."
      ]
    },
    {
      "cell_type": "code",
      "metadata": {
        "id": "MtCTm84HHQb5"
      },
      "source": [
        "def visualize_training(start, end, train_loss_1, train_loss_2, train_accuracy_1, train_accuracy_2, \n",
        "                       val_loss_1, val_loss_2, val_accuracy_1, val_accuracy_2, title):\n",
        "  data = [\n",
        "       [\"Training\", f'{train_loss_1:.3f}',  f'{train_loss_2:.3f}', f'{train_accuracy_1:.3f}', f'{train_accuracy_2:.3f}', f\"{hms_string(end - start)}\" ],\n",
        "       [\"Validation\", f'{val_loss_1:.3f}', f'{val_loss_2:.3f}', f'{val_accuracy_1:.3f}', f'{val_accuracy_2:.3f}', \"\" ],       \n",
        "  ]\n",
        "  table = PrettyTable([\"CATEGORY\", \"LOSS_1\", \"LOSS_2\", \"ACCURACY_1\", \"ACCURACY_2\", \"ETA\"])\n",
        "  table.align[\"CATEGORY\"] = 'l'\n",
        "  table.align[\"ETA\"] = 'r'\n",
        "  table.align[\"LOSS_1\"] = 'r'\n",
        "  table.align[\"ACCURACY_1\"] = 'r'\n",
        "  table.align[\"LOSS_2\"] = 'r'\n",
        "  table.align[\"ACCURACY_2\"] = 'r'\n",
        "  table.title = title\n",
        "  for row in data:\n",
        "    table.add_row(row)\n",
        "  print(table)\n"
      ],
      "execution_count": 39,
      "outputs": []
    },
    {
      "cell_type": "code",
      "metadata": {
        "colab": {
          "base_uri": "https://localhost:8080/"
        },
        "id": "kcu_WMc2HXqb",
        "outputId": "40b8288b-a7d9-46b7-9fca-4321990b5df7"
      },
      "source": [
        "N_EPOCHS = 100\n",
        "best_valid_loss = float('inf')\n",
        "for epoch in range(N_EPOCHS):\n",
        "    start = time.time()\n",
        "\n",
        "    train_loss_1, train_loss_2, train_acc_1, train_acc_2 = train(questions_model, train_iter, \n",
        "                                                                 optimizer, criterion_1, criterion_2)\n",
        "    \n",
        "    valid_loss_1, valid_loss_2, valid_acc_1, valid_acc_2 = evaluate(questions_model, val_iter, \n",
        "                                                                    criterion_1, criterion_2)\n",
        "    title = f\"EPOCH: {epoch+1:02}/{N_EPOCHS:02} {'saving best model...' if valid_loss_2 < best_valid_loss else 'not saving...'}\"\n",
        "    \"\"\"\n",
        "    We are going to check for the validation accuracy of the second label with 47 \n",
        "    classes feel free to check on the loss you want during model saving\n",
        "    \"\"\"\n",
        "    if valid_loss_2 < best_valid_loss:\n",
        "        best_valid_loss = valid_loss_2\n",
        "        torch.save(questions_model.state_dict(), 'best-model.pt')\n",
        "    end = time.time()\n",
        "    visualize_training(start, end, train_loss_1, train_loss_2, train_acc_1, train_acc_2, \n",
        "                       valid_loss_1, valid_loss_2, valid_acc_1, valid_acc_2, title)\n"
      ],
      "execution_count": 51,
      "outputs": [
        {
          "output_type": "stream",
          "text": [
            "+---------------------------------------------------------------------+\n",
            "|                  EPOCH: 01/100 saving best model...                 |\n",
            "+------------+--------+--------+------------+------------+------------+\n",
            "| CATEGORY   | LOSS_1 | LOSS_2 | ACCURACY_1 | ACCURACY_2 |        ETA |\n",
            "+------------+--------+--------+------------+------------+------------+\n",
            "| Training   |  0.523 |  1.463 |      0.813 |      0.586 | 0:00:03.33 |\n",
            "| Validation |  0.478 |  1.351 |      0.835 |      0.614 |            |\n",
            "+------------+--------+--------+------------+------------+------------+\n",
            "+---------------------------------------------------------------------+\n",
            "|                  EPOCH: 02/100 saving best model...                 |\n",
            "+------------+--------+--------+------------+------------+------------+\n",
            "| CATEGORY   | LOSS_1 | LOSS_2 | ACCURACY_1 | ACCURACY_2 |        ETA |\n",
            "+------------+--------+--------+------------+------------+------------+\n",
            "| Training   |  0.471 |  1.341 |      0.837 |      0.624 | 0:00:03.31 |\n",
            "| Validation |  0.432 |  1.235 |      0.854 |      0.668 |            |\n",
            "+------------+--------+--------+------------+------------+------------+\n",
            "+---------------------------------------------------------------------+\n",
            "|                  EPOCH: 03/100 saving best model...                 |\n",
            "+------------+--------+--------+------------+------------+------------+\n",
            "| CATEGORY   | LOSS_1 | LOSS_2 | ACCURACY_1 | ACCURACY_2 |        ETA |\n",
            "+------------+--------+--------+------------+------------+------------+\n",
            "| Training   |  0.410 |  1.247 |      0.853 |      0.644 | 0:00:03.33 |\n",
            "| Validation |  0.422 |  1.219 |      0.818 |      0.667 |            |\n",
            "+------------+--------+--------+------------+------------+------------+\n",
            "+---------------------------------------------------------------------+\n",
            "|                  EPOCH: 04/100 saving best model...                 |\n",
            "+------------+--------+--------+------------+------------+------------+\n",
            "| CATEGORY   | LOSS_1 | LOSS_2 | ACCURACY_1 | ACCURACY_2 |        ETA |\n",
            "+------------+--------+--------+------------+------------+------------+\n",
            "| Training   |  0.386 |  1.169 |      0.865 |      0.666 | 0:00:03.35 |\n",
            "| Validation |  0.431 |  1.159 |      0.814 |      0.677 |            |\n",
            "+------------+--------+--------+------------+------------+------------+\n",
            "+---------------------------------------------------------------------+\n",
            "|                     EPOCH: 05/100 not saving...                     |\n",
            "+------------+--------+--------+------------+------------+------------+\n",
            "| CATEGORY   | LOSS_1 | LOSS_2 | ACCURACY_1 | ACCURACY_2 |        ETA |\n",
            "+------------+--------+--------+------------+------------+------------+\n",
            "| Training   |  0.339 |  1.083 |      0.882 |      0.696 | 0:00:03.31 |\n",
            "| Validation |  0.371 |  1.159 |      0.863 |      0.701 |            |\n",
            "+------------+--------+--------+------------+------------+------------+\n",
            "+---------------------------------------------------------------------+\n",
            "|                     EPOCH: 06/100 not saving...                     |\n",
            "+------------+--------+--------+------------+------------+------------+\n",
            "| CATEGORY   | LOSS_1 | LOSS_2 | ACCURACY_1 | ACCURACY_2 |        ETA |\n",
            "+------------+--------+--------+------------+------------+------------+\n",
            "| Training   |  0.311 |  0.984 |      0.891 |      0.717 | 0:00:03.30 |\n",
            "| Validation |  0.401 |  1.178 |      0.854 |      0.691 |            |\n",
            "+------------+--------+--------+------------+------------+------------+\n",
            "+---------------------------------------------------------------------+\n",
            "|                  EPOCH: 07/100 saving best model...                 |\n",
            "+------------+--------+--------+------------+------------+------------+\n",
            "| CATEGORY   | LOSS_1 | LOSS_2 | ACCURACY_1 | ACCURACY_2 |        ETA |\n",
            "+------------+--------+--------+------------+------------+------------+\n",
            "| Training   |  0.297 |  0.927 |      0.895 |      0.736 | 0:00:03.34 |\n",
            "| Validation |  0.385 |  1.050 |      0.859 |      0.726 |            |\n",
            "+------------+--------+--------+------------+------------+------------+\n",
            "+---------------------------------------------------------------------+\n",
            "|                     EPOCH: 08/100 not saving...                     |\n",
            "+------------+--------+--------+------------+------------+------------+\n",
            "| CATEGORY   | LOSS_1 | LOSS_2 | ACCURACY_1 | ACCURACY_2 |        ETA |\n",
            "+------------+--------+--------+------------+------------+------------+\n",
            "| Training   |  0.249 |  0.862 |      0.910 |      0.757 | 0:00:03.31 |\n",
            "| Validation |  0.418 |  1.074 |      0.825 |      0.754 |            |\n",
            "+------------+--------+--------+------------+------------+------------+\n",
            "+---------------------------------------------------------------------+\n",
            "|                  EPOCH: 09/100 saving best model...                 |\n",
            "+------------+--------+--------+------------+------------+------------+\n",
            "| CATEGORY   | LOSS_1 | LOSS_2 | ACCURACY_1 | ACCURACY_2 |        ETA |\n",
            "+------------+--------+--------+------------+------------+------------+\n",
            "| Training   |  0.241 |  0.814 |      0.916 |      0.769 | 0:00:03.33 |\n",
            "| Validation |  0.388 |  1.012 |      0.849 |      0.751 |            |\n",
            "+------------+--------+--------+------------+------------+------------+\n",
            "+---------------------------------------------------------------------+\n",
            "|                  EPOCH: 10/100 saving best model...                 |\n",
            "+------------+--------+--------+------------+------------+------------+\n",
            "| CATEGORY   | LOSS_1 | LOSS_2 | ACCURACY_1 | ACCURACY_2 |        ETA |\n",
            "+------------+--------+--------+------------+------------+------------+\n",
            "| Training   |  0.217 |  0.744 |      0.925 |      0.780 | 0:00:03.32 |\n",
            "| Validation |  0.399 |  0.983 |      0.871 |      0.756 |            |\n",
            "+------------+--------+--------+------------+------------+------------+\n",
            "+---------------------------------------------------------------------+\n",
            "|                     EPOCH: 11/100 not saving...                     |\n",
            "+------------+--------+--------+------------+------------+------------+\n",
            "| CATEGORY   | LOSS_1 | LOSS_2 | ACCURACY_1 | ACCURACY_2 |        ETA |\n",
            "+------------+--------+--------+------------+------------+------------+\n",
            "| Training   |  0.205 |  0.706 |      0.930 |      0.796 | 0:00:03.29 |\n",
            "| Validation |  0.398 |  1.025 |      0.876 |      0.747 |            |\n",
            "+------------+--------+--------+------------+------------+------------+\n",
            "+---------------------------------------------------------------------+\n",
            "|                  EPOCH: 12/100 saving best model...                 |\n",
            "+------------+--------+--------+------------+------------+------------+\n",
            "| CATEGORY   | LOSS_1 | LOSS_2 | ACCURACY_1 | ACCURACY_2 |        ETA |\n",
            "+------------+--------+--------+------------+------------+------------+\n",
            "| Training   |  0.198 |  0.661 |      0.931 |      0.812 | 0:00:03.31 |\n",
            "| Validation |  0.352 |  0.964 |      0.876 |      0.767 |            |\n",
            "+------------+--------+--------+------------+------------+------------+\n",
            "+---------------------------------------------------------------------+\n",
            "|                     EPOCH: 13/100 not saving...                     |\n",
            "+------------+--------+--------+------------+------------+------------+\n",
            "| CATEGORY   | LOSS_1 | LOSS_2 | ACCURACY_1 | ACCURACY_2 |        ETA |\n",
            "+------------+--------+--------+------------+------------+------------+\n",
            "| Training   |  0.176 |  0.629 |      0.939 |      0.817 | 0:00:03.28 |\n",
            "| Validation |  0.400 |  0.983 |      0.884 |      0.772 |            |\n",
            "+------------+--------+--------+------------+------------+------------+\n",
            "+---------------------------------------------------------------------+\n",
            "|                  EPOCH: 14/100 saving best model...                 |\n",
            "+------------+--------+--------+------------+------------+------------+\n",
            "| CATEGORY   | LOSS_1 | LOSS_2 | ACCURACY_1 | ACCURACY_2 |        ETA |\n",
            "+------------+--------+--------+------------+------------+------------+\n",
            "| Training   |  0.171 |  0.559 |      0.940 |      0.838 | 0:00:03.32 |\n",
            "| Validation |  0.349 |  0.916 |      0.867 |      0.784 |            |\n",
            "+------------+--------+--------+------------+------------+------------+\n",
            "+---------------------------------------------------------------------+\n",
            "|                     EPOCH: 15/100 not saving...                     |\n",
            "+------------+--------+--------+------------+------------+------------+\n",
            "| CATEGORY   | LOSS_1 | LOSS_2 | ACCURACY_1 | ACCURACY_2 |        ETA |\n",
            "+------------+--------+--------+------------+------------+------------+\n",
            "| Training   |  0.158 |  0.547 |      0.948 |      0.845 | 0:00:03.30 |\n",
            "| Validation |  0.427 |  0.969 |      0.872 |      0.790 |            |\n",
            "+------------+--------+--------+------------+------------+------------+\n",
            "+---------------------------------------------------------------------+\n",
            "|                     EPOCH: 16/100 not saving...                     |\n",
            "+------------+--------+--------+------------+------------+------------+\n",
            "| CATEGORY   | LOSS_1 | LOSS_2 | ACCURACY_1 | ACCURACY_2 |        ETA |\n",
            "+------------+--------+--------+------------+------------+------------+\n",
            "| Training   |  0.144 |  0.530 |      0.952 |      0.842 | 0:00:03.29 |\n",
            "| Validation |  0.376 |  1.022 |      0.879 |      0.779 |            |\n",
            "+------------+--------+--------+------------+------------+------------+\n",
            "+---------------------------------------------------------------------+\n",
            "|                     EPOCH: 17/100 not saving...                     |\n",
            "+------------+--------+--------+------------+------------+------------+\n",
            "| CATEGORY   | LOSS_1 | LOSS_2 | ACCURACY_1 | ACCURACY_2 |        ETA |\n",
            "+------------+--------+--------+------------+------------+------------+\n",
            "| Training   |  0.140 |  0.487 |      0.954 |      0.853 | 0:00:03.29 |\n",
            "| Validation |  0.540 |  1.169 |      0.879 |      0.775 |            |\n",
            "+------------+--------+--------+------------+------------+------------+\n",
            "+---------------------------------------------------------------------+\n",
            "|                     EPOCH: 18/100 not saving...                     |\n",
            "+------------+--------+--------+------------+------------+------------+\n",
            "| CATEGORY   | LOSS_1 | LOSS_2 | ACCURACY_1 | ACCURACY_2 |        ETA |\n",
            "+------------+--------+--------+------------+------------+------------+\n",
            "| Training   |  0.138 |  0.471 |      0.955 |      0.863 | 0:00:03.30 |\n",
            "| Validation |  0.446 |  1.004 |      0.892 |      0.788 |            |\n",
            "+------------+--------+--------+------------+------------+------------+\n",
            "+---------------------------------------------------------------------+\n",
            "|                     EPOCH: 19/100 not saving...                     |\n",
            "+------------+--------+--------+------------+------------+------------+\n",
            "| CATEGORY   | LOSS_1 | LOSS_2 | ACCURACY_1 | ACCURACY_2 |        ETA |\n",
            "+------------+--------+--------+------------+------------+------------+\n",
            "| Training   |  0.126 |  0.425 |      0.958 |      0.876 | 0:00:03.27 |\n",
            "| Validation |  0.385 |  0.987 |      0.891 |      0.800 |            |\n",
            "+------------+--------+--------+------------+------------+------------+\n",
            "+---------------------------------------------------------------------+\n",
            "|                     EPOCH: 20/100 not saving...                     |\n",
            "+------------+--------+--------+------------+------------+------------+\n",
            "| CATEGORY   | LOSS_1 | LOSS_2 | ACCURACY_1 | ACCURACY_2 |        ETA |\n",
            "+------------+--------+--------+------------+------------+------------+\n",
            "| Training   |  0.114 |  0.404 |      0.963 |      0.877 | 0:00:03.30 |\n",
            "| Validation |  0.433 |  1.025 |      0.875 |      0.780 |            |\n",
            "+------------+--------+--------+------------+------------+------------+\n",
            "+---------------------------------------------------------------------+\n",
            "|                     EPOCH: 21/100 not saving...                     |\n",
            "+------------+--------+--------+------------+------------+------------+\n",
            "| CATEGORY   | LOSS_1 | LOSS_2 | ACCURACY_1 | ACCURACY_2 |        ETA |\n",
            "+------------+--------+--------+------------+------------+------------+\n",
            "| Training   |  0.102 |  0.411 |      0.966 |      0.884 | 0:00:03.28 |\n",
            "| Validation |  0.400 |  0.938 |      0.867 |      0.801 |            |\n",
            "+------------+--------+--------+------------+------------+------------+\n",
            "+---------------------------------------------------------------------+\n",
            "|                     EPOCH: 22/100 not saving...                     |\n",
            "+------------+--------+--------+------------+------------+------------+\n",
            "| CATEGORY   | LOSS_1 | LOSS_2 | ACCURACY_1 | ACCURACY_2 |        ETA |\n",
            "+------------+--------+--------+------------+------------+------------+\n",
            "| Training   |  0.094 |  0.381 |      0.969 |      0.886 | 0:00:03.29 |\n",
            "| Validation |  0.502 |  1.172 |      0.875 |      0.776 |            |\n",
            "+------------+--------+--------+------------+------------+------------+\n",
            "+---------------------------------------------------------------------+\n",
            "|                     EPOCH: 23/100 not saving...                     |\n",
            "+------------+--------+--------+------------+------------+------------+\n",
            "| CATEGORY   | LOSS_1 | LOSS_2 | ACCURACY_1 | ACCURACY_2 |        ETA |\n",
            "+------------+--------+--------+------------+------------+------------+\n",
            "| Training   |  0.101 |  0.348 |      0.968 |      0.894 | 0:00:03.31 |\n",
            "| Validation |  0.491 |  1.117 |      0.875 |      0.804 |            |\n",
            "+------------+--------+--------+------------+------------+------------+\n",
            "+---------------------------------------------------------------------+\n",
            "|                     EPOCH: 24/100 not saving...                     |\n",
            "+------------+--------+--------+------------+------------+------------+\n",
            "| CATEGORY   | LOSS_1 | LOSS_2 | ACCURACY_1 | ACCURACY_2 |        ETA |\n",
            "+------------+--------+--------+------------+------------+------------+\n",
            "| Training   |  0.092 |  0.328 |      0.965 |      0.900 | 0:00:03.32 |\n",
            "| Validation |  0.702 |  1.321 |      0.899 |      0.785 |            |\n",
            "+------------+--------+--------+------------+------------+------------+\n",
            "+---------------------------------------------------------------------+\n",
            "|                     EPOCH: 25/100 not saving...                     |\n",
            "+------------+--------+--------+------------+------------+------------+\n",
            "| CATEGORY   | LOSS_1 | LOSS_2 | ACCURACY_1 | ACCURACY_2 |        ETA |\n",
            "+------------+--------+--------+------------+------------+------------+\n",
            "| Training   |  0.100 |  0.322 |      0.969 |      0.906 | 0:00:03.29 |\n",
            "| Validation |  0.471 |  1.143 |      0.882 |      0.809 |            |\n",
            "+------------+--------+--------+------------+------------+------------+\n",
            "+---------------------------------------------------------------------+\n",
            "|                     EPOCH: 26/100 not saving...                     |\n",
            "+------------+--------+--------+------------+------------+------------+\n",
            "| CATEGORY   | LOSS_1 | LOSS_2 | ACCURACY_1 | ACCURACY_2 |        ETA |\n",
            "+------------+--------+--------+------------+------------+------------+\n",
            "| Training   |  0.085 |  0.306 |      0.972 |      0.908 | 0:00:03.29 |\n",
            "| Validation |  0.485 |  1.305 |      0.908 |      0.785 |            |\n",
            "+------------+--------+--------+------------+------------+------------+\n",
            "+---------------------------------------------------------------------+\n",
            "|                     EPOCH: 27/100 not saving...                     |\n",
            "+------------+--------+--------+------------+------------+------------+\n",
            "| CATEGORY   | LOSS_1 | LOSS_2 | ACCURACY_1 | ACCURACY_2 |        ETA |\n",
            "+------------+--------+--------+------------+------------+------------+\n",
            "| Training   |  0.096 |  0.303 |      0.970 |      0.911 | 0:00:03.31 |\n",
            "| Validation |  0.493 |  1.296 |      0.879 |      0.800 |            |\n",
            "+------------+--------+--------+------------+------------+------------+\n",
            "+---------------------------------------------------------------------+\n",
            "|                     EPOCH: 28/100 not saving...                     |\n",
            "+------------+--------+--------+------------+------------+------------+\n",
            "| CATEGORY   | LOSS_1 | LOSS_2 | ACCURACY_1 | ACCURACY_2 |        ETA |\n",
            "+------------+--------+--------+------------+------------+------------+\n",
            "| Training   |  0.084 |  0.263 |      0.974 |      0.918 | 0:00:03.31 |\n",
            "| Validation |  0.459 |  1.151 |      0.904 |      0.818 |            |\n",
            "+------------+--------+--------+------------+------------+------------+\n",
            "+---------------------------------------------------------------------+\n",
            "|                     EPOCH: 29/100 not saving...                     |\n",
            "+------------+--------+--------+------------+------------+------------+\n",
            "| CATEGORY   | LOSS_1 | LOSS_2 | ACCURACY_1 | ACCURACY_2 |        ETA |\n",
            "+------------+--------+--------+------------+------------+------------+\n",
            "| Training   |  0.081 |  0.269 |      0.973 |      0.920 | 0:00:03.30 |\n",
            "| Validation |  0.542 |  1.256 |      0.900 |      0.829 |            |\n",
            "+------------+--------+--------+------------+------------+------------+\n",
            "+---------------------------------------------------------------------+\n",
            "|                     EPOCH: 30/100 not saving...                     |\n",
            "+------------+--------+--------+------------+------------+------------+\n",
            "| CATEGORY   | LOSS_1 | LOSS_2 | ACCURACY_1 | ACCURACY_2 |        ETA |\n",
            "+------------+--------+--------+------------+------------+------------+\n",
            "| Training   |  0.080 |  0.251 |      0.974 |      0.925 | 0:00:03.29 |\n",
            "| Validation |  0.547 |  1.159 |      0.888 |      0.829 |            |\n",
            "+------------+--------+--------+------------+------------+------------+\n",
            "+---------------------------------------------------------------------+\n",
            "|                     EPOCH: 31/100 not saving...                     |\n",
            "+------------+--------+--------+------------+------------+------------+\n",
            "| CATEGORY   | LOSS_1 | LOSS_2 | ACCURACY_1 | ACCURACY_2 |        ETA |\n",
            "+------------+--------+--------+------------+------------+------------+\n",
            "| Training   |  0.066 |  0.236 |      0.978 |      0.928 | 0:00:03.31 |\n",
            "| Validation |  0.561 |  1.237 |      0.887 |      0.825 |            |\n",
            "+------------+--------+--------+------------+------------+------------+\n",
            "+---------------------------------------------------------------------+\n",
            "|                     EPOCH: 32/100 not saving...                     |\n",
            "+------------+--------+--------+------------+------------+------------+\n",
            "| CATEGORY   | LOSS_1 | LOSS_2 | ACCURACY_1 | ACCURACY_2 |        ETA |\n",
            "+------------+--------+--------+------------+------------+------------+\n",
            "| Training   |  0.079 |  0.244 |      0.976 |      0.926 | 0:00:03.28 |\n",
            "| Validation |  0.452 |  1.035 |      0.890 |      0.835 |            |\n",
            "+------------+--------+--------+------------+------------+------------+\n",
            "+---------------------------------------------------------------------+\n",
            "|                     EPOCH: 33/100 not saving...                     |\n",
            "+------------+--------+--------+------------+------------+------------+\n",
            "| CATEGORY   | LOSS_1 | LOSS_2 | ACCURACY_1 | ACCURACY_2 |        ETA |\n",
            "+------------+--------+--------+------------+------------+------------+\n",
            "| Training   |  0.063 |  0.252 |      0.979 |      0.926 | 0:00:03.30 |\n",
            "| Validation |  0.496 |  1.094 |      0.895 |      0.821 |            |\n",
            "+------------+--------+--------+------------+------------+------------+\n",
            "+---------------------------------------------------------------------+\n",
            "|                     EPOCH: 34/100 not saving...                     |\n",
            "+------------+--------+--------+------------+------------+------------+\n",
            "| CATEGORY   | LOSS_1 | LOSS_2 | ACCURACY_1 | ACCURACY_2 |        ETA |\n",
            "+------------+--------+--------+------------+------------+------------+\n",
            "| Training   |  0.064 |  0.221 |      0.979 |      0.936 | 0:00:03.32 |\n",
            "| Validation |  0.560 |  1.120 |      0.882 |      0.821 |            |\n",
            "+------------+--------+--------+------------+------------+------------+\n",
            "+---------------------------------------------------------------------+\n",
            "|                     EPOCH: 35/100 not saving...                     |\n",
            "+------------+--------+--------+------------+------------+------------+\n",
            "| CATEGORY   | LOSS_1 | LOSS_2 | ACCURACY_1 | ACCURACY_2 |        ETA |\n",
            "+------------+--------+--------+------------+------------+------------+\n",
            "| Training   |  0.068 |  0.186 |      0.981 |      0.940 | 0:00:03.30 |\n",
            "| Validation |  0.532 |  1.203 |      0.886 |      0.834 |            |\n",
            "+------------+--------+--------+------------+------------+------------+\n",
            "+---------------------------------------------------------------------+\n",
            "|                     EPOCH: 36/100 not saving...                     |\n",
            "+------------+--------+--------+------------+------------+------------+\n",
            "| CATEGORY   | LOSS_1 | LOSS_2 | ACCURACY_1 | ACCURACY_2 |        ETA |\n",
            "+------------+--------+--------+------------+------------+------------+\n",
            "| Training   |  0.066 |  0.198 |      0.980 |      0.938 | 0:00:03.30 |\n",
            "| Validation |  0.551 |  1.259 |      0.879 |      0.816 |            |\n",
            "+------------+--------+--------+------------+------------+------------+\n",
            "+---------------------------------------------------------------------+\n",
            "|                     EPOCH: 37/100 not saving...                     |\n",
            "+------------+--------+--------+------------+------------+------------+\n",
            "| CATEGORY   | LOSS_1 | LOSS_2 | ACCURACY_1 | ACCURACY_2 |        ETA |\n",
            "+------------+--------+--------+------------+------------+------------+\n",
            "| Training   |  0.067 |  0.210 |      0.980 |      0.942 | 0:00:03.27 |\n",
            "| Validation |  0.566 |  1.270 |      0.882 |      0.828 |            |\n",
            "+------------+--------+--------+------------+------------+------------+\n",
            "+---------------------------------------------------------------------+\n",
            "|                     EPOCH: 38/100 not saving...                     |\n",
            "+------------+--------+--------+------------+------------+------------+\n",
            "| CATEGORY   | LOSS_1 | LOSS_2 | ACCURACY_1 | ACCURACY_2 |        ETA |\n",
            "+------------+--------+--------+------------+------------+------------+\n",
            "| Training   |  0.064 |  0.211 |      0.980 |      0.941 | 0:00:03.29 |\n",
            "| Validation |  0.538 |  1.282 |      0.904 |      0.846 |            |\n",
            "+------------+--------+--------+------------+------------+------------+\n",
            "+---------------------------------------------------------------------+\n",
            "|                     EPOCH: 39/100 not saving...                     |\n",
            "+------------+--------+--------+------------+------------+------------+\n",
            "| CATEGORY   | LOSS_1 | LOSS_2 | ACCURACY_1 | ACCURACY_2 |        ETA |\n",
            "+------------+--------+--------+------------+------------+------------+\n",
            "| Training   |  0.049 |  0.162 |      0.984 |      0.950 | 0:00:03.29 |\n",
            "| Validation |  0.697 |  1.391 |      0.890 |      0.829 |            |\n",
            "+------------+--------+--------+------------+------------+------------+\n",
            "+---------------------------------------------------------------------+\n",
            "|                     EPOCH: 40/100 not saving...                     |\n",
            "+------------+--------+--------+------------+------------+------------+\n",
            "| CATEGORY   | LOSS_1 | LOSS_2 | ACCURACY_1 | ACCURACY_2 |        ETA |\n",
            "+------------+--------+--------+------------+------------+------------+\n",
            "| Training   |  0.062 |  0.191 |      0.982 |      0.945 | 0:00:03.28 |\n",
            "| Validation |  0.586 |  1.317 |      0.904 |      0.829 |            |\n",
            "+------------+--------+--------+------------+------------+------------+\n",
            "+---------------------------------------------------------------------+\n",
            "|                     EPOCH: 41/100 not saving...                     |\n",
            "+------------+--------+--------+------------+------------+------------+\n",
            "| CATEGORY   | LOSS_1 | LOSS_2 | ACCURACY_1 | ACCURACY_2 |        ETA |\n",
            "+------------+--------+--------+------------+------------+------------+\n",
            "| Training   |  0.047 |  0.174 |      0.985 |      0.947 | 0:00:03.27 |\n",
            "| Validation |  0.615 |  1.226 |      0.908 |      0.847 |            |\n",
            "+------------+--------+--------+------------+------------+------------+\n",
            "+---------------------------------------------------------------------+\n",
            "|                     EPOCH: 42/100 not saving...                     |\n",
            "+------------+--------+--------+------------+------------+------------+\n",
            "| CATEGORY   | LOSS_1 | LOSS_2 | ACCURACY_1 | ACCURACY_2 |        ETA |\n",
            "+------------+--------+--------+------------+------------+------------+\n",
            "| Training   |  0.047 |  0.160 |      0.985 |      0.951 | 0:00:03.30 |\n",
            "| Validation |  0.679 |  1.339 |      0.879 |      0.857 |            |\n",
            "+------------+--------+--------+------------+------------+------------+\n",
            "+---------------------------------------------------------------------+\n",
            "|                     EPOCH: 43/100 not saving...                     |\n",
            "+------------+--------+--------+------------+------------+------------+\n",
            "| CATEGORY   | LOSS_1 | LOSS_2 | ACCURACY_1 | ACCURACY_2 |        ETA |\n",
            "+------------+--------+--------+------------+------------+------------+\n",
            "| Training   |  0.066 |  0.182 |      0.980 |      0.951 | 0:00:03.30 |\n",
            "| Validation |  0.517 |  1.102 |      0.890 |      0.832 |            |\n",
            "+------------+--------+--------+------------+------------+------------+\n",
            "+---------------------------------------------------------------------+\n",
            "|                     EPOCH: 44/100 not saving...                     |\n",
            "+------------+--------+--------+------------+------------+------------+\n",
            "| CATEGORY   | LOSS_1 | LOSS_2 | ACCURACY_1 | ACCURACY_2 |        ETA |\n",
            "+------------+--------+--------+------------+------------+------------+\n",
            "| Training   |  0.051 |  0.155 |      0.985 |      0.953 | 0:00:03.29 |\n",
            "| Validation |  0.699 |  1.352 |      0.881 |      0.832 |            |\n",
            "+------------+--------+--------+------------+------------+------------+\n",
            "+---------------------------------------------------------------------+\n",
            "|                     EPOCH: 45/100 not saving...                     |\n",
            "+------------+--------+--------+------------+------------+------------+\n",
            "| CATEGORY   | LOSS_1 | LOSS_2 | ACCURACY_1 | ACCURACY_2 |        ETA |\n",
            "+------------+--------+--------+------------+------------+------------+\n",
            "| Training   |  0.049 |  0.163 |      0.985 |      0.953 | 0:00:03.30 |\n",
            "| Validation |  0.570 |  1.255 |      0.879 |      0.834 |            |\n",
            "+------------+--------+--------+------------+------------+------------+\n",
            "+---------------------------------------------------------------------+\n",
            "|                     EPOCH: 46/100 not saving...                     |\n",
            "+------------+--------+--------+------------+------------+------------+\n",
            "| CATEGORY   | LOSS_1 | LOSS_2 | ACCURACY_1 | ACCURACY_2 |        ETA |\n",
            "+------------+--------+--------+------------+------------+------------+\n",
            "| Training   |  0.045 |  0.153 |      0.987 |      0.960 | 0:00:03.31 |\n",
            "| Validation |  0.603 |  1.257 |      0.890 |      0.850 |            |\n",
            "+------------+--------+--------+------------+------------+------------+\n",
            "+---------------------------------------------------------------------+\n",
            "|                     EPOCH: 47/100 not saving...                     |\n",
            "+------------+--------+--------+------------+------------+------------+\n",
            "| CATEGORY   | LOSS_1 | LOSS_2 | ACCURACY_1 | ACCURACY_2 |        ETA |\n",
            "+------------+--------+--------+------------+------------+------------+\n",
            "| Training   |  0.048 |  0.157 |      0.986 |      0.953 | 0:00:03.33 |\n",
            "| Validation |  0.504 |  1.281 |      0.886 |      0.833 |            |\n",
            "+------------+--------+--------+------------+------------+------------+\n",
            "+---------------------------------------------------------------------+\n",
            "|                     EPOCH: 48/100 not saving...                     |\n",
            "+------------+--------+--------+------------+------------+------------+\n",
            "| CATEGORY   | LOSS_1 | LOSS_2 | ACCURACY_1 | ACCURACY_2 |        ETA |\n",
            "+------------+--------+--------+------------+------------+------------+\n",
            "| Training   |  0.047 |  0.167 |      0.987 |      0.956 | 0:00:03.30 |\n",
            "| Validation |  0.651 |  1.505 |      0.883 |      0.811 |            |\n",
            "+------------+--------+--------+------------+------------+------------+\n",
            "+---------------------------------------------------------------------+\n",
            "|                     EPOCH: 49/100 not saving...                     |\n",
            "+------------+--------+--------+------------+------------+------------+\n",
            "| CATEGORY   | LOSS_1 | LOSS_2 | ACCURACY_1 | ACCURACY_2 |        ETA |\n",
            "+------------+--------+--------+------------+------------+------------+\n",
            "| Training   |  0.047 |  0.126 |      0.987 |      0.964 | 0:00:03.33 |\n",
            "| Validation |  0.575 |  1.357 |      0.894 |      0.836 |            |\n",
            "+------------+--------+--------+------------+------------+------------+\n",
            "+---------------------------------------------------------------------+\n",
            "|                     EPOCH: 50/100 not saving...                     |\n",
            "+------------+--------+--------+------------+------------+------------+\n",
            "| CATEGORY   | LOSS_1 | LOSS_2 | ACCURACY_1 | ACCURACY_2 |        ETA |\n",
            "+------------+--------+--------+------------+------------+------------+\n",
            "| Training   |  0.042 |  0.143 |      0.987 |      0.959 | 0:00:03.31 |\n",
            "| Validation |  0.653 |  1.484 |      0.890 |      0.840 |            |\n",
            "+------------+--------+--------+------------+------------+------------+\n",
            "+---------------------------------------------------------------------+\n",
            "|                     EPOCH: 51/100 not saving...                     |\n",
            "+------------+--------+--------+------------+------------+------------+\n",
            "| CATEGORY   | LOSS_1 | LOSS_2 | ACCURACY_1 | ACCURACY_2 |        ETA |\n",
            "+------------+--------+--------+------------+------------+------------+\n",
            "| Training   |  0.049 |  0.141 |      0.985 |      0.961 | 0:00:03.30 |\n",
            "| Validation |  0.599 |  1.410 |      0.907 |      0.833 |            |\n",
            "+------------+--------+--------+------------+------------+------------+\n",
            "+---------------------------------------------------------------------+\n",
            "|                     EPOCH: 52/100 not saving...                     |\n",
            "+------------+--------+--------+------------+------------+------------+\n",
            "| CATEGORY   | LOSS_1 | LOSS_2 | ACCURACY_1 | ACCURACY_2 |        ETA |\n",
            "+------------+--------+--------+------------+------------+------------+\n",
            "| Training   |  0.045 |  0.129 |      0.986 |      0.961 | 0:00:03.29 |\n",
            "| Validation |  0.556 |  1.477 |      0.904 |      0.820 |            |\n",
            "+------------+--------+--------+------------+------------+------------+\n",
            "+---------------------------------------------------------------------+\n",
            "|                     EPOCH: 53/100 not saving...                     |\n",
            "+------------+--------+--------+------------+------------+------------+\n",
            "| CATEGORY   | LOSS_1 | LOSS_2 | ACCURACY_1 | ACCURACY_2 |        ETA |\n",
            "+------------+--------+--------+------------+------------+------------+\n",
            "| Training   |  0.040 |  0.119 |      0.987 |      0.966 | 0:00:03.30 |\n",
            "| Validation |  0.668 |  1.515 |      0.886 |      0.832 |            |\n",
            "+------------+--------+--------+------------+------------+------------+\n",
            "+---------------------------------------------------------------------+\n",
            "|                     EPOCH: 54/100 not saving...                     |\n",
            "+------------+--------+--------+------------+------------+------------+\n",
            "| CATEGORY   | LOSS_1 | LOSS_2 | ACCURACY_1 | ACCURACY_2 |        ETA |\n",
            "+------------+--------+--------+------------+------------+------------+\n",
            "| Training   |  0.038 |  0.128 |      0.989 |      0.964 | 0:00:03.30 |\n",
            "| Validation |  0.599 |  1.452 |      0.891 |      0.837 |            |\n",
            "+------------+--------+--------+------------+------------+------------+\n",
            "+---------------------------------------------------------------------+\n",
            "|                     EPOCH: 55/100 not saving...                     |\n",
            "+------------+--------+--------+------------+------------+------------+\n",
            "| CATEGORY   | LOSS_1 | LOSS_2 | ACCURACY_1 | ACCURACY_2 |        ETA |\n",
            "+------------+--------+--------+------------+------------+------------+\n",
            "| Training   |  0.045 |  0.125 |      0.988 |      0.963 | 0:00:03.30 |\n",
            "| Validation |  0.545 |  1.247 |      0.886 |      0.850 |            |\n",
            "+------------+--------+--------+------------+------------+------------+\n",
            "+---------------------------------------------------------------------+\n",
            "|                     EPOCH: 56/100 not saving...                     |\n",
            "+------------+--------+--------+------------+------------+------------+\n",
            "| CATEGORY   | LOSS_1 | LOSS_2 | ACCURACY_1 | ACCURACY_2 |        ETA |\n",
            "+------------+--------+--------+------------+------------+------------+\n",
            "| Training   |  0.036 |  0.111 |      0.987 |      0.966 | 0:00:03.27 |\n",
            "| Validation |  0.563 |  1.396 |      0.904 |      0.833 |            |\n",
            "+------------+--------+--------+------------+------------+------------+\n",
            "+---------------------------------------------------------------------+\n",
            "|                     EPOCH: 57/100 not saving...                     |\n",
            "+------------+--------+--------+------------+------------+------------+\n",
            "| CATEGORY   | LOSS_1 | LOSS_2 | ACCURACY_1 | ACCURACY_2 |        ETA |\n",
            "+------------+--------+--------+------------+------------+------------+\n",
            "| Training   |  0.045 |  0.107 |      0.988 |      0.967 | 0:00:03.29 |\n",
            "| Validation |  0.628 |  1.382 |      0.904 |      0.847 |            |\n",
            "+------------+--------+--------+------------+------------+------------+\n",
            "+---------------------------------------------------------------------+\n",
            "|                     EPOCH: 58/100 not saving...                     |\n",
            "+------------+--------+--------+------------+------------+------------+\n",
            "| CATEGORY   | LOSS_1 | LOSS_2 | ACCURACY_1 | ACCURACY_2 |        ETA |\n",
            "+------------+--------+--------+------------+------------+------------+\n",
            "| Training   |  0.037 |  0.106 |      0.989 |      0.967 | 0:00:03.26 |\n",
            "| Validation |  0.627 |  1.477 |      0.902 |      0.836 |            |\n",
            "+------------+--------+--------+------------+------------+------------+\n",
            "+---------------------------------------------------------------------+\n",
            "|                     EPOCH: 59/100 not saving...                     |\n",
            "+------------+--------+--------+------------+------------+------------+\n",
            "| CATEGORY   | LOSS_1 | LOSS_2 | ACCURACY_1 | ACCURACY_2 |        ETA |\n",
            "+------------+--------+--------+------------+------------+------------+\n",
            "| Training   |  0.038 |  0.105 |      0.989 |      0.965 | 0:00:03.26 |\n",
            "| Validation |  0.565 |  1.434 |      0.912 |      0.843 |            |\n",
            "+------------+--------+--------+------------+------------+------------+\n",
            "+---------------------------------------------------------------------+\n",
            "|                     EPOCH: 60/100 not saving...                     |\n",
            "+------------+--------+--------+------------+------------+------------+\n",
            "| CATEGORY   | LOSS_1 | LOSS_2 | ACCURACY_1 | ACCURACY_2 |        ETA |\n",
            "+------------+--------+--------+------------+------------+------------+\n",
            "| Training   |  0.034 |  0.128 |      0.989 |      0.964 | 0:00:03.29 |\n",
            "| Validation |  0.622 |  1.526 |      0.898 |      0.846 |            |\n",
            "+------------+--------+--------+------------+------------+------------+\n",
            "+---------------------------------------------------------------------+\n",
            "|                     EPOCH: 61/100 not saving...                     |\n",
            "+------------+--------+--------+------------+------------+------------+\n",
            "| CATEGORY   | LOSS_1 | LOSS_2 | ACCURACY_1 | ACCURACY_2 |        ETA |\n",
            "+------------+--------+--------+------------+------------+------------+\n",
            "| Training   |  0.038 |  0.122 |      0.989 |      0.969 | 0:00:03.27 |\n",
            "| Validation |  0.584 |  1.386 |      0.911 |      0.854 |            |\n",
            "+------------+--------+--------+------------+------------+------------+\n",
            "+---------------------------------------------------------------------+\n",
            "|                     EPOCH: 62/100 not saving...                     |\n",
            "+------------+--------+--------+------------+------------+------------+\n",
            "| CATEGORY   | LOSS_1 | LOSS_2 | ACCURACY_1 | ACCURACY_2 |        ETA |\n",
            "+------------+--------+--------+------------+------------+------------+\n",
            "| Training   |  0.033 |  0.108 |      0.990 |      0.967 | 0:00:03.30 |\n",
            "| Validation |  0.650 |  1.387 |      0.898 |      0.845 |            |\n",
            "+------------+--------+--------+------------+------------+------------+\n",
            "+---------------------------------------------------------------------+\n",
            "|                     EPOCH: 63/100 not saving...                     |\n",
            "+------------+--------+--------+------------+------------+------------+\n",
            "| CATEGORY   | LOSS_1 | LOSS_2 | ACCURACY_1 | ACCURACY_2 |        ETA |\n",
            "+------------+--------+--------+------------+------------+------------+\n",
            "| Training   |  0.028 |  0.101 |      0.991 |      0.972 | 0:00:03.32 |\n",
            "| Validation |  0.704 |  1.528 |      0.886 |      0.824 |            |\n",
            "+------------+--------+--------+------------+------------+------------+\n",
            "+---------------------------------------------------------------------+\n",
            "|                     EPOCH: 64/100 not saving...                     |\n",
            "+------------+--------+--------+------------+------------+------------+\n",
            "| CATEGORY   | LOSS_1 | LOSS_2 | ACCURACY_1 | ACCURACY_2 |        ETA |\n",
            "+------------+--------+--------+------------+------------+------------+\n",
            "| Training   |  0.040 |  0.109 |      0.988 |      0.970 | 0:00:03.30 |\n",
            "| Validation |  0.499 |  1.341 |      0.921 |      0.828 |            |\n",
            "+------------+--------+--------+------------+------------+------------+\n",
            "+---------------------------------------------------------------------+\n",
            "|                     EPOCH: 65/100 not saving...                     |\n",
            "+------------+--------+--------+------------+------------+------------+\n",
            "| CATEGORY   | LOSS_1 | LOSS_2 | ACCURACY_1 | ACCURACY_2 |        ETA |\n",
            "+------------+--------+--------+------------+------------+------------+\n",
            "| Training   |  0.035 |  0.104 |      0.990 |      0.971 | 0:00:03.30 |\n",
            "| Validation |  0.578 |  1.380 |      0.912 |      0.837 |            |\n",
            "+------------+--------+--------+------------+------------+------------+\n",
            "+---------------------------------------------------------------------+\n",
            "|                     EPOCH: 66/100 not saving...                     |\n",
            "+------------+--------+--------+------------+------------+------------+\n",
            "| CATEGORY   | LOSS_1 | LOSS_2 | ACCURACY_1 | ACCURACY_2 |        ETA |\n",
            "+------------+--------+--------+------------+------------+------------+\n",
            "| Training   |  0.038 |  0.095 |      0.989 |      0.973 | 0:00:03.28 |\n",
            "| Validation |  0.480 |  1.288 |      0.929 |      0.844 |            |\n",
            "+------------+--------+--------+------------+------------+------------+\n",
            "+---------------------------------------------------------------------+\n",
            "|                     EPOCH: 67/100 not saving...                     |\n",
            "+------------+--------+--------+------------+------------+------------+\n",
            "| CATEGORY   | LOSS_1 | LOSS_2 | ACCURACY_1 | ACCURACY_2 |        ETA |\n",
            "+------------+--------+--------+------------+------------+------------+\n",
            "| Training   |  0.032 |  0.090 |      0.989 |      0.973 | 0:00:03.30 |\n",
            "| Validation |  0.643 |  1.602 |      0.925 |      0.845 |            |\n",
            "+------------+--------+--------+------------+------------+------------+\n",
            "+---------------------------------------------------------------------+\n",
            "|                     EPOCH: 68/100 not saving...                     |\n",
            "+------------+--------+--------+------------+------------+------------+\n",
            "| CATEGORY   | LOSS_1 | LOSS_2 | ACCURACY_1 | ACCURACY_2 |        ETA |\n",
            "+------------+--------+--------+------------+------------+------------+\n",
            "| Training   |  0.037 |  0.092 |      0.989 |      0.975 | 0:00:03.24 |\n",
            "| Validation |  0.699 |  1.590 |      0.908 |      0.849 |            |\n",
            "+------------+--------+--------+------------+------------+------------+\n",
            "+---------------------------------------------------------------------+\n",
            "|                     EPOCH: 69/100 not saving...                     |\n",
            "+------------+--------+--------+------------+------------+------------+\n",
            "| CATEGORY   | LOSS_1 | LOSS_2 | ACCURACY_1 | ACCURACY_2 |        ETA |\n",
            "+------------+--------+--------+------------+------------+------------+\n",
            "| Training   |  0.036 |  0.113 |      0.989 |      0.970 | 0:00:03.29 |\n",
            "| Validation |  0.608 |  1.484 |      0.906 |      0.838 |            |\n",
            "+------------+--------+--------+------------+------------+------------+\n",
            "+---------------------------------------------------------------------+\n",
            "|                     EPOCH: 70/100 not saving...                     |\n",
            "+------------+--------+--------+------------+------------+------------+\n",
            "| CATEGORY   | LOSS_1 | LOSS_2 | ACCURACY_1 | ACCURACY_2 |        ETA |\n",
            "+------------+--------+--------+------------+------------+------------+\n",
            "| Training   |  0.026 |  0.092 |      0.991 |      0.973 | 0:00:03.30 |\n",
            "| Validation |  0.728 |  1.362 |      0.894 |      0.835 |            |\n",
            "+------------+--------+--------+------------+------------+------------+\n",
            "+---------------------------------------------------------------------+\n",
            "|                     EPOCH: 71/100 not saving...                     |\n",
            "+------------+--------+--------+------------+------------+------------+\n",
            "| CATEGORY   | LOSS_1 | LOSS_2 | ACCURACY_1 | ACCURACY_2 |        ETA |\n",
            "+------------+--------+--------+------------+------------+------------+\n",
            "| Training   |  0.033 |  0.094 |      0.991 |      0.977 | 0:00:03.29 |\n",
            "| Validation |  0.851 |  1.657 |      0.904 |      0.842 |            |\n",
            "+------------+--------+--------+------------+------------+------------+\n",
            "+---------------------------------------------------------------------+\n",
            "|                     EPOCH: 72/100 not saving...                     |\n",
            "+------------+--------+--------+------------+------------+------------+\n",
            "| CATEGORY   | LOSS_1 | LOSS_2 | ACCURACY_1 | ACCURACY_2 |        ETA |\n",
            "+------------+--------+--------+------------+------------+------------+\n",
            "| Training   |  0.038 |  0.100 |      0.990 |      0.972 | 0:00:03.29 |\n",
            "| Validation |  0.647 |  1.581 |      0.889 |      0.838 |            |\n",
            "+------------+--------+--------+------------+------------+------------+\n",
            "+---------------------------------------------------------------------+\n",
            "|                     EPOCH: 73/100 not saving...                     |\n",
            "+------------+--------+--------+------------+------------+------------+\n",
            "| CATEGORY   | LOSS_1 | LOSS_2 | ACCURACY_1 | ACCURACY_2 |        ETA |\n",
            "+------------+--------+--------+------------+------------+------------+\n",
            "| Training   |  0.031 |  0.081 |      0.990 |      0.977 | 0:00:03.30 |\n",
            "| Validation |  0.769 |  1.630 |      0.904 |      0.841 |            |\n",
            "+------------+--------+--------+------------+------------+------------+\n",
            "+---------------------------------------------------------------------+\n",
            "|                     EPOCH: 74/100 not saving...                     |\n",
            "+------------+--------+--------+------------+------------+------------+\n",
            "| CATEGORY   | LOSS_1 | LOSS_2 | ACCURACY_1 | ACCURACY_2 |        ETA |\n",
            "+------------+--------+--------+------------+------------+------------+\n",
            "| Training   |  0.029 |  0.097 |      0.993 |      0.976 | 0:00:03.29 |\n",
            "| Validation |  0.696 |  1.515 |      0.906 |      0.845 |            |\n",
            "+------------+--------+--------+------------+------------+------------+\n",
            "+---------------------------------------------------------------------+\n",
            "|                     EPOCH: 75/100 not saving...                     |\n",
            "+------------+--------+--------+------------+------------+------------+\n",
            "| CATEGORY   | LOSS_1 | LOSS_2 | ACCURACY_1 | ACCURACY_2 |        ETA |\n",
            "+------------+--------+--------+------------+------------+------------+\n",
            "| Training   |  0.039 |  0.083 |      0.990 |      0.980 | 0:00:03.27 |\n",
            "| Validation |  0.641 |  1.359 |      0.898 |      0.848 |            |\n",
            "+------------+--------+--------+------------+------------+------------+\n",
            "+---------------------------------------------------------------------+\n",
            "|                     EPOCH: 76/100 not saving...                     |\n",
            "+------------+--------+--------+------------+------------+------------+\n",
            "| CATEGORY   | LOSS_1 | LOSS_2 | ACCURACY_1 | ACCURACY_2 |        ETA |\n",
            "+------------+--------+--------+------------+------------+------------+\n",
            "| Training   |  0.021 |  0.063 |      0.994 |      0.983 | 0:00:03.29 |\n",
            "| Validation |  0.848 |  1.870 |      0.892 |      0.838 |            |\n",
            "+------------+--------+--------+------------+------------+------------+\n",
            "+---------------------------------------------------------------------+\n",
            "|                     EPOCH: 77/100 not saving...                     |\n",
            "+------------+--------+--------+------------+------------+------------+\n",
            "| CATEGORY   | LOSS_1 | LOSS_2 | ACCURACY_1 | ACCURACY_2 |        ETA |\n",
            "+------------+--------+--------+------------+------------+------------+\n",
            "| Training   |  0.030 |  0.096 |      0.992 |      0.974 | 0:00:03.26 |\n",
            "| Validation |  0.661 |  1.548 |      0.890 |      0.841 |            |\n",
            "+------------+--------+--------+------------+------------+------------+\n",
            "+---------------------------------------------------------------------+\n",
            "|                     EPOCH: 78/100 not saving...                     |\n",
            "+------------+--------+--------+------------+------------+------------+\n",
            "| CATEGORY   | LOSS_1 | LOSS_2 | ACCURACY_1 | ACCURACY_2 |        ETA |\n",
            "+------------+--------+--------+------------+------------+------------+\n",
            "| Training   |  0.024 |  0.089 |      0.993 |      0.978 | 0:00:03.30 |\n",
            "| Validation |  0.700 |  1.784 |      0.886 |      0.825 |            |\n",
            "+------------+--------+--------+------------+------------+------------+\n",
            "+---------------------------------------------------------------------+\n",
            "|                     EPOCH: 79/100 not saving...                     |\n",
            "+------------+--------+--------+------------+------------+------------+\n",
            "| CATEGORY   | LOSS_1 | LOSS_2 | ACCURACY_1 | ACCURACY_2 |        ETA |\n",
            "+------------+--------+--------+------------+------------+------------+\n",
            "| Training   |  0.036 |  0.098 |      0.990 |      0.976 | 0:00:03.28 |\n",
            "| Validation |  0.696 |  1.686 |      0.904 |      0.833 |            |\n",
            "+------------+--------+--------+------------+------------+------------+\n",
            "+---------------------------------------------------------------------+\n",
            "|                     EPOCH: 80/100 not saving...                     |\n",
            "+------------+--------+--------+------------+------------+------------+\n",
            "| CATEGORY   | LOSS_1 | LOSS_2 | ACCURACY_1 | ACCURACY_2 |        ETA |\n",
            "+------------+--------+--------+------------+------------+------------+\n",
            "| Training   |  0.027 |  0.065 |      0.991 |      0.982 | 0:00:03.28 |\n",
            "| Validation |  0.691 |  1.693 |      0.907 |      0.836 |            |\n",
            "+------------+--------+--------+------------+------------+------------+\n",
            "+---------------------------------------------------------------------+\n",
            "|                     EPOCH: 81/100 not saving...                     |\n",
            "+------------+--------+--------+------------+------------+------------+\n",
            "| CATEGORY   | LOSS_1 | LOSS_2 | ACCURACY_1 | ACCURACY_2 |        ETA |\n",
            "+------------+--------+--------+------------+------------+------------+\n",
            "| Training   |  0.026 |  0.064 |      0.992 |      0.983 | 0:00:03.27 |\n",
            "| Validation |  0.671 |  1.541 |      0.900 |      0.845 |            |\n",
            "+------------+--------+--------+------------+------------+------------+\n",
            "+---------------------------------------------------------------------+\n",
            "|                     EPOCH: 82/100 not saving...                     |\n",
            "+------------+--------+--------+------------+------------+------------+\n",
            "| CATEGORY   | LOSS_1 | LOSS_2 | ACCURACY_1 | ACCURACY_2 |        ETA |\n",
            "+------------+--------+--------+------------+------------+------------+\n",
            "| Training   |  0.028 |  0.082 |      0.991 |      0.977 | 0:00:03.28 |\n",
            "| Validation |  0.650 |  1.608 |      0.915 |      0.856 |            |\n",
            "+------------+--------+--------+------------+------------+------------+\n",
            "+---------------------------------------------------------------------+\n",
            "|                     EPOCH: 83/100 not saving...                     |\n",
            "+------------+--------+--------+------------+------------+------------+\n",
            "| CATEGORY   | LOSS_1 | LOSS_2 | ACCURACY_1 | ACCURACY_2 |        ETA |\n",
            "+------------+--------+--------+------------+------------+------------+\n",
            "| Training   |  0.030 |  0.084 |      0.990 |      0.977 | 0:00:03.32 |\n",
            "| Validation |  0.600 |  1.479 |      0.911 |      0.842 |            |\n",
            "+------------+--------+--------+------------+------------+------------+\n",
            "+---------------------------------------------------------------------+\n",
            "|                     EPOCH: 84/100 not saving...                     |\n",
            "+------------+--------+--------+------------+------------+------------+\n",
            "| CATEGORY   | LOSS_1 | LOSS_2 | ACCURACY_1 | ACCURACY_2 |        ETA |\n",
            "+------------+--------+--------+------------+------------+------------+\n",
            "| Training   |  0.036 |  0.081 |      0.991 |      0.978 | 0:00:03.30 |\n",
            "| Validation |  0.670 |  1.500 |      0.902 |      0.861 |            |\n",
            "+------------+--------+--------+------------+------------+------------+\n",
            "+---------------------------------------------------------------------+\n",
            "|                     EPOCH: 85/100 not saving...                     |\n",
            "+------------+--------+--------+------------+------------+------------+\n",
            "| CATEGORY   | LOSS_1 | LOSS_2 | ACCURACY_1 | ACCURACY_2 |        ETA |\n",
            "+------------+--------+--------+------------+------------+------------+\n",
            "| Training   |  0.021 |  0.074 |      0.994 |      0.980 | 0:00:03.30 |\n",
            "| Validation |  0.820 |  1.785 |      0.910 |      0.849 |            |\n",
            "+------------+--------+--------+------------+------------+------------+\n",
            "+---------------------------------------------------------------------+\n",
            "|                     EPOCH: 86/100 not saving...                     |\n",
            "+------------+--------+--------+------------+------------+------------+\n",
            "| CATEGORY   | LOSS_1 | LOSS_2 | ACCURACY_1 | ACCURACY_2 |        ETA |\n",
            "+------------+--------+--------+------------+------------+------------+\n",
            "| Training   |  0.028 |  0.074 |      0.993 |      0.980 | 0:00:03.33 |\n",
            "| Validation |  0.741 |  1.720 |      0.919 |      0.857 |            |\n",
            "+------------+--------+--------+------------+------------+------------+\n",
            "+---------------------------------------------------------------------+\n",
            "|                     EPOCH: 87/100 not saving...                     |\n",
            "+------------+--------+--------+------------+------------+------------+\n",
            "| CATEGORY   | LOSS_1 | LOSS_2 | ACCURACY_1 | ACCURACY_2 |        ETA |\n",
            "+------------+--------+--------+------------+------------+------------+\n",
            "| Training   |  0.029 |  0.093 |      0.991 |      0.976 | 0:00:03.29 |\n",
            "| Validation |  0.841 |  1.666 |      0.896 |      0.836 |            |\n",
            "+------------+--------+--------+------------+------------+------------+\n",
            "+---------------------------------------------------------------------+\n",
            "|                     EPOCH: 88/100 not saving...                     |\n",
            "+------------+--------+--------+------------+------------+------------+\n",
            "| CATEGORY   | LOSS_1 | LOSS_2 | ACCURACY_1 | ACCURACY_2 |        ETA |\n",
            "+------------+--------+--------+------------+------------+------------+\n",
            "| Training   |  0.038 |  0.066 |      0.991 |      0.981 | 0:00:03.29 |\n",
            "| Validation |  0.854 |  1.753 |      0.899 |      0.854 |            |\n",
            "+------------+--------+--------+------------+------------+------------+\n",
            "+---------------------------------------------------------------------+\n",
            "|                     EPOCH: 89/100 not saving...                     |\n",
            "+------------+--------+--------+------------+------------+------------+\n",
            "| CATEGORY   | LOSS_1 | LOSS_2 | ACCURACY_1 | ACCURACY_2 |        ETA |\n",
            "+------------+--------+--------+------------+------------+------------+\n",
            "| Training   |  0.029 |  0.068 |      0.992 |      0.981 | 0:00:03.29 |\n",
            "| Validation |  0.662 |  1.540 |      0.915 |      0.837 |            |\n",
            "+------------+--------+--------+------------+------------+------------+\n",
            "+---------------------------------------------------------------------+\n",
            "|                     EPOCH: 90/100 not saving...                     |\n",
            "+------------+--------+--------+------------+------------+------------+\n",
            "| CATEGORY   | LOSS_1 | LOSS_2 | ACCURACY_1 | ACCURACY_2 |        ETA |\n",
            "+------------+--------+--------+------------+------------+------------+\n",
            "| Training   |  0.019 |  0.066 |      0.995 |      0.981 | 0:00:03.27 |\n",
            "| Validation |  0.798 |  1.629 |      0.915 |      0.861 |            |\n",
            "+------------+--------+--------+------------+------------+------------+\n",
            "+---------------------------------------------------------------------+\n",
            "|                     EPOCH: 91/100 not saving...                     |\n",
            "+------------+--------+--------+------------+------------+------------+\n",
            "| CATEGORY   | LOSS_1 | LOSS_2 | ACCURACY_1 | ACCURACY_2 |        ETA |\n",
            "+------------+--------+--------+------------+------------+------------+\n",
            "| Training   |  0.022 |  0.047 |      0.993 |      0.986 | 0:00:03.29 |\n",
            "| Validation |  0.797 |  1.752 |      0.919 |      0.853 |            |\n",
            "+------------+--------+--------+------------+------------+------------+\n",
            "+---------------------------------------------------------------------+\n",
            "|                     EPOCH: 92/100 not saving...                     |\n",
            "+------------+--------+--------+------------+------------+------------+\n",
            "| CATEGORY   | LOSS_1 | LOSS_2 | ACCURACY_1 | ACCURACY_2 |        ETA |\n",
            "+------------+--------+--------+------------+------------+------------+\n",
            "| Training   |  0.019 |  0.056 |      0.994 |      0.986 | 0:00:03.31 |\n",
            "| Validation |  0.714 |  1.502 |      0.915 |      0.852 |            |\n",
            "+------------+--------+--------+------------+------------+------------+\n",
            "+---------------------------------------------------------------------+\n",
            "|                     EPOCH: 93/100 not saving...                     |\n",
            "+------------+--------+--------+------------+------------+------------+\n",
            "| CATEGORY   | LOSS_1 | LOSS_2 | ACCURACY_1 | ACCURACY_2 |        ETA |\n",
            "+------------+--------+--------+------------+------------+------------+\n",
            "| Training   |  0.020 |  0.071 |      0.995 |      0.982 | 0:00:03.30 |\n",
            "| Validation |  0.763 |  1.739 |      0.911 |      0.842 |            |\n",
            "+------------+--------+--------+------------+------------+------------+\n",
            "+---------------------------------------------------------------------+\n",
            "|                     EPOCH: 94/100 not saving...                     |\n",
            "+------------+--------+--------+------------+------------+------------+\n",
            "| CATEGORY   | LOSS_1 | LOSS_2 | ACCURACY_1 | ACCURACY_2 |        ETA |\n",
            "+------------+--------+--------+------------+------------+------------+\n",
            "| Training   |  0.017 |  0.056 |      0.995 |      0.985 | 0:00:03.31 |\n",
            "| Validation |  0.884 |  1.857 |      0.912 |      0.854 |            |\n",
            "+------------+--------+--------+------------+------------+------------+\n",
            "+---------------------------------------------------------------------+\n",
            "|                     EPOCH: 95/100 not saving...                     |\n",
            "+------------+--------+--------+------------+------------+------------+\n",
            "| CATEGORY   | LOSS_1 | LOSS_2 | ACCURACY_1 | ACCURACY_2 |        ETA |\n",
            "+------------+--------+--------+------------+------------+------------+\n",
            "| Training   |  0.020 |  0.063 |      0.994 |      0.983 | 0:00:03.30 |\n",
            "| Validation |  0.775 |  1.827 |      0.911 |      0.841 |            |\n",
            "+------------+--------+--------+------------+------------+------------+\n",
            "+---------------------------------------------------------------------+\n",
            "|                     EPOCH: 96/100 not saving...                     |\n",
            "+------------+--------+--------+------------+------------+------------+\n",
            "| CATEGORY   | LOSS_1 | LOSS_2 | ACCURACY_1 | ACCURACY_2 |        ETA |\n",
            "+------------+--------+--------+------------+------------+------------+\n",
            "| Training   |  0.024 |  0.069 |      0.991 |      0.982 | 0:00:03.31 |\n",
            "| Validation |  0.719 |  1.812 |      0.924 |      0.853 |            |\n",
            "+------------+--------+--------+------------+------------+------------+\n",
            "+---------------------------------------------------------------------+\n",
            "|                     EPOCH: 97/100 not saving...                     |\n",
            "+------------+--------+--------+------------+------------+------------+\n",
            "| CATEGORY   | LOSS_1 | LOSS_2 | ACCURACY_1 | ACCURACY_2 |        ETA |\n",
            "+------------+--------+--------+------------+------------+------------+\n",
            "| Training   |  0.029 |  0.068 |      0.992 |      0.983 | 0:00:03.30 |\n",
            "| Validation |  0.856 |  1.840 |      0.919 |      0.860 |            |\n",
            "+------------+--------+--------+------------+------------+------------+\n",
            "+---------------------------------------------------------------------+\n",
            "|                     EPOCH: 98/100 not saving...                     |\n",
            "+------------+--------+--------+------------+------------+------------+\n",
            "| CATEGORY   | LOSS_1 | LOSS_2 | ACCURACY_1 | ACCURACY_2 |        ETA |\n",
            "+------------+--------+--------+------------+------------+------------+\n",
            "| Training   |  0.030 |  0.083 |      0.992 |      0.979 | 0:00:03.29 |\n",
            "| Validation |  0.808 |  1.831 |      0.912 |      0.851 |            |\n",
            "+------------+--------+--------+------------+------------+------------+\n",
            "+---------------------------------------------------------------------+\n",
            "|                     EPOCH: 99/100 not saving...                     |\n",
            "+------------+--------+--------+------------+------------+------------+\n",
            "| CATEGORY   | LOSS_1 | LOSS_2 | ACCURACY_1 | ACCURACY_2 |        ETA |\n",
            "+------------+--------+--------+------------+------------+------------+\n",
            "| Training   |  0.027 |  0.069 |      0.993 |      0.981 | 0:00:03.30 |\n",
            "| Validation |  1.071 |  2.230 |      0.897 |      0.837 |            |\n",
            "+------------+--------+--------+------------+------------+------------+\n",
            "+---------------------------------------------------------------------+\n",
            "|                     EPOCH: 100/100 not saving...                    |\n",
            "+------------+--------+--------+------------+------------+------------+\n",
            "| CATEGORY   | LOSS_1 | LOSS_2 | ACCURACY_1 | ACCURACY_2 |        ETA |\n",
            "+------------+--------+--------+------------+------------+------------+\n",
            "| Training   |  0.034 |  0.085 |      0.990 |      0.979 | 0:00:03.30 |\n",
            "| Validation |  0.867 |  1.878 |      0.908 |      0.849 |            |\n",
            "+------------+--------+--------+------------+------------+------------+\n"
          ],
          "name": "stdout"
        }
      ]
    },
    {
      "cell_type": "markdown",
      "metadata": {
        "id": "WZNkikbDIB2z"
      },
      "source": [
        "### Model Evaluation."
      ]
    },
    {
      "cell_type": "code",
      "metadata": {
        "colab": {
          "base_uri": "https://localhost:8080/"
        },
        "id": "g8fWTBruHw1p",
        "outputId": "92922396-52ba-4a9f-bcb9-715adf00b121"
      },
      "source": [
        "questions_model.load_state_dict(torch.load('best-model.pt'))\n",
        "\n",
        "test_loss_1, test_loss_2, test_acc_1, test_acc_2 = evaluate(questions_model, test_iter, criterion_1, criterion_2)\n",
        "print(f'Test Loss 1: {test_loss_1:.3f} | Test Loss 2: {test_loss_2:.3f}  | Test Acc 1: {test_acc_1*100:.2f}% | Test Acc 2: {test_acc_2*100:.2f}%')"
      ],
      "execution_count": 52,
      "outputs": [
        {
          "output_type": "stream",
          "text": [
            "Test Loss 1: 0.421 | Test Loss 2: 1.284  | Test Acc 1: 82.14% | Test Acc 2: 78.57%\n"
          ],
          "name": "stdout"
        }
      ]
    },
    {
      "cell_type": "markdown",
      "metadata": {
        "id": "A4zEBLYsLki5"
      },
      "source": [
        "### Model Inference.\n",
        "\n",
        "We are now ready to make predictions with our model."
      ]
    },
    {
      "cell_type": "code",
      "metadata": {
        "id": "TyNLifHaJBKS"
      },
      "source": [
        "import en_core_web_sm\n",
        "nlp = en_core_web_sm.load()"
      ],
      "execution_count": 53,
      "outputs": []
    },
    {
      "cell_type": "code",
      "metadata": {
        "id": "clNBiJ9NPkRJ"
      },
      "source": [
        "reversed_labels_1 = dict([(v, k) for (k, v) in LABEL_1.vocab.stoi.items()])\n",
        "reversed_labels_2 = dict([(v, k) for (k, v) in LABEL_2.vocab.stoi.items()])\n",
        "\n",
        "reversed_labels_1, reversed_labels_2"
      ],
      "execution_count": null,
      "outputs": []
    },
    {
      "cell_type": "code",
      "metadata": {
        "id": "y9A6ZGTILzWD"
      },
      "source": [
        "def tabulate(column_names, data, title=\"QUESTIONS PREDICTIONS TABLE\"):\n",
        "  table = PrettyTable(column_names)\n",
        "  table.align[column_names[0]] = \"l\"\n",
        "  table.align[column_names[1]] = \"l\"\n",
        "  for row in data:\n",
        "    table.add_row(row)\n",
        "  print(table)\n",
        "\n",
        "def predict_question_type(model, sentence, min_len = 5, actual_class_1=0, actual_class_2=0):\n",
        "    model.eval()\n",
        "    with torch.no_grad():\n",
        "      tokenized = [tok.text for tok in nlp.tokenizer(sentence)]\n",
        "     \n",
        "      if len(tokenized) < min_len:\n",
        "          tokenized += ['<pad>'] * (min_len - len(tokenized))\n",
        "      indexed = [TEXT.vocab.stoi[t] for t in tokenized]\n",
        "      length =  [len(indexed)]\n",
        "      tensor = torch.LongTensor(indexed).to(device)\n",
        "      tensor = tensor.unsqueeze(1)\n",
        "      length_tensor = torch.LongTensor(length)\n",
        "      probabilities_1, probabilities_2 = model(tensor, length_tensor)\n",
        "      prediction_1 = torch.argmax(probabilities_1, dim=1).item()\n",
        "      prediction_2 = torch.argmax(probabilities_1, dim=1).item()\n",
        "      table_headers =[\"KEY\", \"VALUE\"]\n",
        "      table_data = [\n",
        "          [\"PREDICTED CLASS 1\",  prediction_1],\n",
        "          [\"ACTUAL CLASS 1\", actual_class_1],\n",
        "          [\"PREDICTED CLASS 2\",  prediction_2],\n",
        "          [\"ACTUAL CLASS 2\", actual_class_2],\n",
        "          [\"PREDICTED CLASS NAME 1\",  reversed_labels_1[prediction_1]],    \n",
        "          [\"PREDICTED CLASS NAME 2\",  reversed_labels_2[prediction_2]],    \n",
        "      ]\n",
        "      tabulate(table_headers, table_data)\n"
      ],
      "execution_count": 63,
      "outputs": []
    },
    {
      "cell_type": "markdown",
      "metadata": {
        "id": "W93zzSlQMO4p"
      },
      "source": [
        "###  Entity and Other"
      ]
    },
    {
      "cell_type": "code",
      "metadata": {
        "colab": {
          "base_uri": "https://localhost:8080/"
        },
        "id": "lcuHlaPwML4Y",
        "outputId": "337c6378-f01b-44dc-9bf0-bd7e87306f4f"
      },
      "source": [
        "predict_question_type(questions_model, \"What kind of weapons were used in Medieval warfare ?\", \n",
        "                      actual_class_1=LABEL_1.vocab.stoi[\"ENTY\"], actual_class_2=LABEL_2.vocab.stoi[\"other\"]\n",
        "                      )"
      ],
      "execution_count": 65,
      "outputs": [
        {
          "output_type": "stream",
          "text": [
            "+------------------------+-------+\n",
            "| KEY                    | VALUE |\n",
            "+------------------------+-------+\n",
            "| PREDICTED CLASS 1      | 0     |\n",
            "| ACTUAL CLASS 1         | 0     |\n",
            "| PREDICTED CLASS 2      | 0     |\n",
            "| ACTUAL CLASS 2         | 1     |\n",
            "| PREDICTED CLASS NAME 1 | ENTY  |\n",
            "| PREDICTED CLASS NAME 2 | ind   |\n",
            "+------------------------+-------+\n"
          ],
          "name": "stdout"
        }
      ]
    },
    {
      "cell_type": "markdown",
      "metadata": {
        "id": "q5Eqjo0MMP8L"
      },
      "source": [
        "### Human and IND"
      ]
    },
    {
      "cell_type": "code",
      "metadata": {
        "colab": {
          "base_uri": "https://localhost:8080/"
        },
        "id": "FnhFchDiMQQn",
        "outputId": "ca6cf87f-0bcc-4e35-a480-d303354b6014"
      },
      "source": [
        "predict_question_type(questions_model, \"Whose video is titled Shape Up with Arnold ?\", \n",
        "                      actual_class_1=LABEL_1.vocab.stoi[\"HUM\"], actual_class_2=LABEL_2.vocab.stoi[\"ind\"]\n",
        "                      )"
      ],
      "execution_count": 67,
      "outputs": [
        {
          "output_type": "stream",
          "text": [
            "+------------------------+-------+\n",
            "| KEY                    | VALUE |\n",
            "+------------------------+-------+\n",
            "| PREDICTED CLASS 1      | 1     |\n",
            "| ACTUAL CLASS 1         | 1     |\n",
            "| PREDICTED CLASS 2      | 1     |\n",
            "| ACTUAL CLASS 2         | 0     |\n",
            "| PREDICTED CLASS NAME 1 | HUM   |\n",
            "| PREDICTED CLASS NAME 2 | other |\n",
            "+------------------------+-------+\n"
          ],
          "name": "stdout"
        }
      ]
    },
    {
      "cell_type": "markdown",
      "metadata": {
        "id": "2Sa3_lq4VHSn"
      },
      "source": [
        "### Conclusion \n",
        "As we can see that our model is performing poor on the second label. So how can we improve this?\n",
        "\n",
        "### Next Step\n",
        "* In the next Notebook we are going to use `FastText` to perform sentiment analyisis on this dataset with two labels and improve the performance of our model."
      ]
    }
  ]
}