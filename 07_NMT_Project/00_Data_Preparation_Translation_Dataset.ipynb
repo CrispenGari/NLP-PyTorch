{
  "nbformat": 4,
  "nbformat_minor": 0,
  "metadata": {
    "colab": {
      "name": "00_Data_Preparation_Translation_Dataset.ipynb",
      "provenance": [],
      "collapsed_sections": []
    },
    "kernelspec": {
      "name": "python3",
      "display_name": "Python 3"
    },
    "language_info": {
      "name": "python"
    }
  },
  "cells": [
    {
      "cell_type": "markdown",
      "metadata": {
        "id": "6b7cungBNpx-"
      },
      "source": [
        "---\n",
        "Project: **`Social App`**\n",
        "\n",
        "Main: **`Nueral Machine Translation (NMT) Data Preperation`**\n",
        "\n",
        "Author: **`Crispen Gari`**\n",
        "\n",
        "Date: **`2021-09-20`**\n",
        "\n",
        "Purpose: **`Data preparation for NMT using Python x3 and Pytorch.`**\n",
        "\n",
        "---\n"
      ]
    },
    {
      "cell_type": "code",
      "metadata": {
        "colab": {
          "base_uri": "https://localhost:8080/"
        },
        "id": "VN9-7O4JwPBi",
        "outputId": "66e638fa-8b10-4a93-c3fa-11e7370171fc"
      },
      "source": [
        "from google.colab import drive\n",
        "import os\n",
        "from sklearn.model_selection import train_test_split\n",
        "drive.mount('/content/drive')"
      ],
      "execution_count": null,
      "outputs": [
        {
          "output_type": "stream",
          "name": "stdout",
          "text": [
            "Drive already mounted at /content/drive; to attempt to forcibly remount, call drive.mount(\"/content/drive\", force_remount=True).\n"
          ]
        }
      ]
    },
    {
      "cell_type": "code",
      "metadata": {
        "colab": {
          "base_uri": "https://localhost:8080/"
        },
        "id": "LoIV8c5XwTFe",
        "outputId": "6c55d3eb-75a1-4db1-943c-4fde1acab376"
      },
      "source": [
        "base_path = '/content/drive/My Drive/NLP Data/seq2seq/manythings'\n",
        "os.path.exists(base_path)"
      ],
      "execution_count": null,
      "outputs": [
        {
          "output_type": "execute_result",
          "data": {
            "text/plain": [
              "True"
            ]
          },
          "metadata": {},
          "execution_count": 2
        }
      ]
    },
    {
      "cell_type": "code",
      "metadata": {
        "colab": {
          "base_uri": "https://localhost:8080/",
          "height": 35
        },
        "id": "1XYF8p1oQEpj",
        "outputId": "8ce7582c-e2a5-4808-fb32-e1bc944f8bed"
      },
      "source": [
        "str(\"this\")[:2]"
      ],
      "execution_count": null,
      "outputs": [
        {
          "output_type": "execute_result",
          "data": {
            "application/vnd.google.colaboratory.intrinsic+json": {
              "type": "string"
            },
            "text/plain": [
              "'th'"
            ]
          },
          "metadata": {},
          "execution_count": 3
        }
      ]
    },
    {
      "cell_type": "markdown",
      "metadata": {
        "id": "oxeVyyqoxoRm"
      },
      "source": [
        "We want to creaate a generic function that will do data processing and cleaning for our files."
      ]
    },
    {
      "cell_type": "code",
      "metadata": {
        "id": "v9WYGtL5Oucj"
      },
      "source": [
        "def generate_files(file_path):\n",
        "  lines = open(os.path.join(base_path, file_path)).read().split('\\n')\n",
        "  eng, other = [], []\n",
        "\n",
        "  for line in lines:\n",
        "    try:\n",
        "      en, o, _  = line.split('\\t')\n",
        "      eng.append(en)\n",
        "      other.append(o)\n",
        "    except:\n",
        "      continue\n",
        "  train_eng, test_eng , train_other, test_other = train_test_split(\n",
        "    eng, other, random_state=42,\n",
        "    test_size = .01\n",
        "  )\n",
        "  train_eng, val_eng , train_other, val_other = train_test_split(\n",
        "      train_eng, train_other, random_state=42,\n",
        "      test_size = .01\n",
        "  )\n",
        "\n",
        "  folder_path = file_path.split(\"/\")[0]\n",
        "  ext = os.path.basename(file_path).split('.')[0][:2]\n",
        "\n",
        "  writter = open(os.path.join(base_path, folder_path, f\"train.en\"), \"w\")\n",
        "  for line in train_eng:\n",
        "    writter.write(line+'\\n')\n",
        "  writter.close()\n",
        "\n",
        "  writter = open(os.path.join(base_path, folder_path, f\"test.en\"), \"w\")\n",
        "  for line in test_eng:\n",
        "    writter.write(line+'\\n')\n",
        "  writter.close()\n",
        "\n",
        "  writter = open(os.path.join(base_path, folder_path, f\"valid.en\"), \"w\")\n",
        "  for line in val_eng:\n",
        "    writter.write(line+'\\n')\n",
        "  writter.close()\n",
        "\n",
        "\n",
        "\n",
        "  writter = open(os.path.join(base_path, folder_path, f\"train.{ext}\"), \"w\")\n",
        "  for line in train_other:\n",
        "    writter.write(line+'\\n')\n",
        "  writter.close()\n",
        "  \n",
        "  writter = open(os.path.join(base_path, folder_path, f\"test.{ext}\"), \"w\")\n",
        "  for line in train_other:\n",
        "    writter.write(line+'\\n')\n",
        "  writter.close()\n",
        "\n",
        "  writter = open(os.path.join(base_path, folder_path, f\"valid.{ext}\"), \"w\")\n",
        "  for line in train_other:\n",
        "    writter.write(line+'\\n')\n",
        "  writter.close()\n",
        "\n",
        "  print(\"done\")"
      ],
      "execution_count": null,
      "outputs": []
    },
    {
      "cell_type": "code",
      "metadata": {
        "colab": {
          "base_uri": "https://localhost:8080/"
        },
        "id": "jX-wDImnRlY2",
        "outputId": "d728f6be-4105-4e39-89d5-66d822b5480b"
      },
      "source": [
        "### Afrikaans - English\n",
        "generate_files('Afrikaans - English/afr.txt')"
      ],
      "execution_count": null,
      "outputs": [
        {
          "output_type": "stream",
          "name": "stdout",
          "text": [
            "done\n"
          ]
        }
      ]
    },
    {
      "cell_type": "code",
      "metadata": {
        "colab": {
          "base_uri": "https://localhost:8080/"
        },
        "id": "6n34o0-aR2c3",
        "outputId": "01fa3c84-f281-4017-992f-1bfde0d5188c"
      },
      "source": [
        "### French - English\n",
        "generate_files('French - English/fra.txt')"
      ],
      "execution_count": null,
      "outputs": [
        {
          "output_type": "stream",
          "name": "stdout",
          "text": [
            "done\n"
          ]
        }
      ]
    },
    {
      "cell_type": "code",
      "metadata": {
        "colab": {
          "base_uri": "https://localhost:8080/"
        },
        "id": "MvWl5z0YTm4t",
        "outputId": "be343b78-829e-4dcc-923a-4f76e5d6a192"
      },
      "source": [
        "### Italian - English\n",
        "generate_files('Italian - English/ita.txt')\n",
        "\n",
        "### Spanish - English\n",
        "generate_files('Spanish - English/spa.txt')\n",
        "\n",
        "### Swedish - English\n",
        "generate_files('Swedish - English/swe.txt')"
      ],
      "execution_count": null,
      "outputs": [
        {
          "output_type": "stream",
          "name": "stdout",
          "text": [
            "done\n",
            "done\n",
            "done\n"
          ]
        }
      ]
    },
    {
      "cell_type": "code",
      "metadata": {
        "colab": {
          "base_uri": "https://localhost:8080/"
        },
        "id": "99DtN4xdUS2a",
        "outputId": "78e42b8a-8da5-4b6e-98e1-6426908b7f09"
      },
      "source": [
        "### Portuguese - English\n",
        "generate_files('Portuguese - English/por.txt')"
      ],
      "execution_count": null,
      "outputs": [
        {
          "output_type": "stream",
          "name": "stdout",
          "text": [
            "done\n"
          ]
        }
      ]
    },
    {
      "cell_type": "code",
      "metadata": {
        "id": "0O3aoH41VaVh"
      },
      "source": [
        ""
      ],
      "execution_count": null,
      "outputs": []
    }
  ]
}