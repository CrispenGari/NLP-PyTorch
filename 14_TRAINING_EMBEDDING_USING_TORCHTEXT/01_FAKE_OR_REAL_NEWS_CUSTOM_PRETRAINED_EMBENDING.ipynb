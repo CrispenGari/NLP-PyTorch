{
  "cells": [
    {
      "cell_type": "markdown",
      "metadata": {
        "id": "hM1utmDx96W_"
      },
      "source": [
        "### Real or Fake News using Custom-Pretrained Embeddings\n",
        "\n",
        "In this notebook we are going to create a pytorch model using torchtext and our custom dataset that identifies fake or real news based on headlines or news content.\n",
        "\n",
        "The dataset that we are going to use was found on [kaggle](https://www.kaggle.com/datasets/bhavikjikadara/fake-news-detection).\n",
        "\n",
        "### Installing Helper Packages\n",
        "In the following code cell we are going to install the package called ``helperfns`` that provide us with some usefull helper functions for machine learning."
      ]
    },
    {
      "cell_type": "code",
      "execution_count": 1,
      "metadata": {
        "id": "vAVnSFKsNiHN"
      },
      "outputs": [],
      "source": [
        "!pip install helperfns -q"
      ]
    },
    {
      "cell_type": "markdown",
      "metadata": {
        "id": "w5KHeWulPVd7"
      },
      "source": [
        "https://github.com/pytorch/text\n",
        "\n",
        "\n",
        "Next we are going to install torchtext with the version of pytorch that matches it's requirements."
      ]
    },
    {
      "cell_type": "code",
      "execution_count": 2,
      "metadata": {
        "id": "eqU0C1U4zaNb"
      },
      "outputs": [],
      "source": [
        "!pip install torch==2.3.0  torchtext==0.18.0 torchvision==0.18.0 torchaudio==2.3.0 -q"
      ]
    },
    {
      "cell_type": "markdown",
      "metadata": {
        "id": "igsBeZzxNhyr"
      },
      "source": [
        "### Imports\n",
        "\n",
        "In the following code cell we are going to import all the packages that we are going to use throughout this notebook"
      ]
    },
    {
      "cell_type": "code",
      "execution_count": 3,
      "metadata": {
        "colab": {
          "base_uri": "https://localhost:8080/"
        },
        "id": "KwW3ZpRa8M16",
        "outputId": "b4e25fb9-c7ab-49ab-aa34-56f7eaebc63a"
      },
      "outputs": [
        {
          "output_type": "stream",
          "name": "stderr",
          "text": [
            "[nltk_data] Downloading package stopwords to /root/nltk_data...\n",
            "[nltk_data]   Package stopwords is already up-to-date!\n",
            "[nltk_data] Downloading package punkt to /root/nltk_data...\n",
            "[nltk_data]   Package punkt is already up-to-date!\n"
          ]
        },
        {
          "output_type": "execute_result",
          "data": {
            "text/plain": [
              "('2.3.0+cu121', '0.18.0+cpu')"
            ]
          },
          "metadata": {},
          "execution_count": 3
        }
      ],
      "source": [
        "import warnings\n",
        "warnings.filterwarnings('ignore')\n",
        "\n",
        "import nltk\n",
        "import json\n",
        "import time\n",
        "import torch\n",
        "import os\n",
        "import random\n",
        "import torchtext\n",
        "import spacy\n",
        "import re\n",
        "import en_core_web_sm\n",
        "from google.colab import files\n",
        "\n",
        "from torchtext import data\n",
        "from collections import Counter\n",
        "from torchtext import vocab\n",
        "from helperfns.tables import tabulate_data\n",
        "from helperfns.visualization import plot_complicated_confusion_matrix, plot_wordcloud, plot_classification_report\n",
        "from helperfns.utils import hms_string\n",
        "from helperfns.text import clean_sentence\n",
        "from torch import nn\n",
        "from matplotlib import pyplot as plt\n",
        "from sklearn.metrics import classification_report\n",
        "from sklearn.model_selection import train_test_split\n",
        "from sklearn.utils import resample\n",
        "from nltk.corpus import stopwords\n",
        "\n",
        "import pandas as pd\n",
        "import numpy as np\n",
        "import torch.nn.functional as F\n",
        "\n",
        "nltk.download('stopwords')\n",
        "nltk.download('punkt')\n",
        "\n",
        "torch.__version__, torchtext.__version__"
      ]
    },
    {
      "cell_type": "markdown",
      "metadata": {
        "id": "b3t_igXyM9t1"
      },
      "source": [
        "### Setting seeds\n",
        "\n",
        "\n",
        "In the following code cell we are going to set the seed to all random operations for reproducivity."
      ]
    },
    {
      "cell_type": "code",
      "execution_count": 4,
      "metadata": {
        "id": "_IMd2xVfNARk"
      },
      "outputs": [],
      "source": [
        "SEED = 23\n",
        "np.random.seed(SEED)\n",
        "random.seed(SEED)\n",
        "torch.manual_seed(SEED)\n",
        "torch.cuda.manual_seed(SEED)\n",
        "torch.backends.cudnn.deteministic = True"
      ]
    },
    {
      "cell_type": "markdown",
      "metadata": {
        "id": "O_zVIe-MO2-p"
      },
      "source": [
        "### Device\n",
        "In the following code cell we are going to get ``gpu`` device if possible"
      ]
    },
    {
      "cell_type": "code",
      "execution_count": 5,
      "metadata": {
        "colab": {
          "base_uri": "https://localhost:8080/"
        },
        "id": "aUGf9TM4O1ut",
        "outputId": "7fdc188a-1866-4f1b-dedb-0ef767e8f1aa"
      },
      "outputs": [
        {
          "output_type": "execute_result",
          "data": {
            "text/plain": [
              "device(type='cuda')"
            ]
          },
          "metadata": {},
          "execution_count": 5
        }
      ],
      "source": [
        "device = torch.device('cuda' if torch.cuda.is_available() else 'cpu')\n",
        "device"
      ]
    },
    {
      "cell_type": "markdown",
      "metadata": {
        "id": "r80FOaPcCTdU"
      },
      "source": [
        "### Data\n",
        "\n",
        "The dataset that we are going to use was founc on kaggle:\n",
        "\n",
        "https://www.kaggle.com/datasets/bhavikjikadara/fake-news-detection\n",
        "\n",
        "\n",
        "The dataset contains two files, where each file contain the news that belongs to that class."
      ]
    },
    {
      "cell_type": "code",
      "execution_count": 6,
      "metadata": {
        "id": "xAA4JMiZ09IS"
      },
      "outputs": [],
      "source": [
        "with open('kaggle.json', 'r') as reader:\n",
        "  keys = json.loads(reader.read())\n",
        "  os.environ['KAGGLE_USERNAME'] = keys['username']\n",
        "  os.environ['KAGGLE_KEY'] = keys['key']"
      ]
    },
    {
      "cell_type": "code",
      "execution_count": 7,
      "metadata": {
        "colab": {
          "base_uri": "https://localhost:8080/"
        },
        "id": "MlX-IMRw0-PB",
        "outputId": "bf80b7b6-17f6-49cc-d3cd-2b187df14701"
      },
      "outputs": [
        {
          "output_type": "stream",
          "name": "stdout",
          "text": [
            "Dataset URL: https://www.kaggle.com/datasets/bhavikjikadara/fake-news-detection\n",
            "License(s): Attribution 4.0 International (CC BY 4.0)\n",
            "Downloading fake-news-detection.zip to /content\n",
            " 98% 40.0M/41.0M [00:02<00:00, 23.1MB/s]\n",
            "100% 41.0M/41.0M [00:03<00:00, 14.2MB/s]\n"
          ]
        }
      ],
      "source": [
        "!kaggle datasets download bhavikjikadara/fake-news-detection --unzip"
      ]
    },
    {
      "cell_type": "markdown",
      "metadata": {
        "id": "xtrvXOLeaUCq"
      },
      "source": [
        "Let's read our dataset into a pandas dataframe."
      ]
    },
    {
      "cell_type": "code",
      "execution_count": 8,
      "metadata": {
        "id": "oZALx4s5RBBr"
      },
      "outputs": [],
      "source": [
        "true = pd.read_csv('true.csv')\n",
        "fake = pd.read_csv('fake.csv')"
      ]
    },
    {
      "cell_type": "code",
      "source": [
        "true.head(2)"
      ],
      "metadata": {
        "colab": {
          "base_uri": "https://localhost:8080/",
          "height": 112
        },
        "id": "NohDvsuCzNDm",
        "outputId": "f805a4ef-45b6-4682-d185-32f0bd9be983"
      },
      "execution_count": 9,
      "outputs": [
        {
          "output_type": "execute_result",
          "data": {
            "text/plain": [
              "                                               title  \\\n",
              "0  As U.S. budget fight looms, Republicans flip t...   \n",
              "1  U.S. military to accept transgender recruits o...   \n",
              "\n",
              "                                                text       subject  \\\n",
              "0  WASHINGTON (Reuters) - The head of a conservat...  politicsNews   \n",
              "1  WASHINGTON (Reuters) - Transgender people will...  politicsNews   \n",
              "\n",
              "                 date  \n",
              "0  December 31, 2017   \n",
              "1  December 29, 2017   "
            ],
            "text/html": [
              "\n",
              "  <div id=\"df-bf660c71-0abf-4551-adc5-6bc9d5bbbf12\" class=\"colab-df-container\">\n",
              "    <div>\n",
              "<style scoped>\n",
              "    .dataframe tbody tr th:only-of-type {\n",
              "        vertical-align: middle;\n",
              "    }\n",
              "\n",
              "    .dataframe tbody tr th {\n",
              "        vertical-align: top;\n",
              "    }\n",
              "\n",
              "    .dataframe thead th {\n",
              "        text-align: right;\n",
              "    }\n",
              "</style>\n",
              "<table border=\"1\" class=\"dataframe\">\n",
              "  <thead>\n",
              "    <tr style=\"text-align: right;\">\n",
              "      <th></th>\n",
              "      <th>title</th>\n",
              "      <th>text</th>\n",
              "      <th>subject</th>\n",
              "      <th>date</th>\n",
              "    </tr>\n",
              "  </thead>\n",
              "  <tbody>\n",
              "    <tr>\n",
              "      <th>0</th>\n",
              "      <td>As U.S. budget fight looms, Republicans flip t...</td>\n",
              "      <td>WASHINGTON (Reuters) - The head of a conservat...</td>\n",
              "      <td>politicsNews</td>\n",
              "      <td>December 31, 2017</td>\n",
              "    </tr>\n",
              "    <tr>\n",
              "      <th>1</th>\n",
              "      <td>U.S. military to accept transgender recruits o...</td>\n",
              "      <td>WASHINGTON (Reuters) - Transgender people will...</td>\n",
              "      <td>politicsNews</td>\n",
              "      <td>December 29, 2017</td>\n",
              "    </tr>\n",
              "  </tbody>\n",
              "</table>\n",
              "</div>\n",
              "    <div class=\"colab-df-buttons\">\n",
              "\n",
              "  <div class=\"colab-df-container\">\n",
              "    <button class=\"colab-df-convert\" onclick=\"convertToInteractive('df-bf660c71-0abf-4551-adc5-6bc9d5bbbf12')\"\n",
              "            title=\"Convert this dataframe to an interactive table.\"\n",
              "            style=\"display:none;\">\n",
              "\n",
              "  <svg xmlns=\"http://www.w3.org/2000/svg\" height=\"24px\" viewBox=\"0 -960 960 960\">\n",
              "    <path d=\"M120-120v-720h720v720H120Zm60-500h600v-160H180v160Zm220 220h160v-160H400v160Zm0 220h160v-160H400v160ZM180-400h160v-160H180v160Zm440 0h160v-160H620v160ZM180-180h160v-160H180v160Zm440 0h160v-160H620v160Z\"/>\n",
              "  </svg>\n",
              "    </button>\n",
              "\n",
              "  <style>\n",
              "    .colab-df-container {\n",
              "      display:flex;\n",
              "      gap: 12px;\n",
              "    }\n",
              "\n",
              "    .colab-df-convert {\n",
              "      background-color: #E8F0FE;\n",
              "      border: none;\n",
              "      border-radius: 50%;\n",
              "      cursor: pointer;\n",
              "      display: none;\n",
              "      fill: #1967D2;\n",
              "      height: 32px;\n",
              "      padding: 0 0 0 0;\n",
              "      width: 32px;\n",
              "    }\n",
              "\n",
              "    .colab-df-convert:hover {\n",
              "      background-color: #E2EBFA;\n",
              "      box-shadow: 0px 1px 2px rgba(60, 64, 67, 0.3), 0px 1px 3px 1px rgba(60, 64, 67, 0.15);\n",
              "      fill: #174EA6;\n",
              "    }\n",
              "\n",
              "    .colab-df-buttons div {\n",
              "      margin-bottom: 4px;\n",
              "    }\n",
              "\n",
              "    [theme=dark] .colab-df-convert {\n",
              "      background-color: #3B4455;\n",
              "      fill: #D2E3FC;\n",
              "    }\n",
              "\n",
              "    [theme=dark] .colab-df-convert:hover {\n",
              "      background-color: #434B5C;\n",
              "      box-shadow: 0px 1px 3px 1px rgba(0, 0, 0, 0.15);\n",
              "      filter: drop-shadow(0px 1px 2px rgba(0, 0, 0, 0.3));\n",
              "      fill: #FFFFFF;\n",
              "    }\n",
              "  </style>\n",
              "\n",
              "    <script>\n",
              "      const buttonEl =\n",
              "        document.querySelector('#df-bf660c71-0abf-4551-adc5-6bc9d5bbbf12 button.colab-df-convert');\n",
              "      buttonEl.style.display =\n",
              "        google.colab.kernel.accessAllowed ? 'block' : 'none';\n",
              "\n",
              "      async function convertToInteractive(key) {\n",
              "        const element = document.querySelector('#df-bf660c71-0abf-4551-adc5-6bc9d5bbbf12');\n",
              "        const dataTable =\n",
              "          await google.colab.kernel.invokeFunction('convertToInteractive',\n",
              "                                                    [key], {});\n",
              "        if (!dataTable) return;\n",
              "\n",
              "        const docLinkHtml = 'Like what you see? Visit the ' +\n",
              "          '<a target=\"_blank\" href=https://colab.research.google.com/notebooks/data_table.ipynb>data table notebook</a>'\n",
              "          + ' to learn more about interactive tables.';\n",
              "        element.innerHTML = '';\n",
              "        dataTable['output_type'] = 'display_data';\n",
              "        await google.colab.output.renderOutput(dataTable, element);\n",
              "        const docLink = document.createElement('div');\n",
              "        docLink.innerHTML = docLinkHtml;\n",
              "        element.appendChild(docLink);\n",
              "      }\n",
              "    </script>\n",
              "  </div>\n",
              "\n",
              "\n",
              "<div id=\"df-55d6ab31-eca7-47a4-8fb6-088f6e83fcb5\">\n",
              "  <button class=\"colab-df-quickchart\" onclick=\"quickchart('df-55d6ab31-eca7-47a4-8fb6-088f6e83fcb5')\"\n",
              "            title=\"Suggest charts\"\n",
              "            style=\"display:none;\">\n",
              "\n",
              "<svg xmlns=\"http://www.w3.org/2000/svg\" height=\"24px\"viewBox=\"0 0 24 24\"\n",
              "     width=\"24px\">\n",
              "    <g>\n",
              "        <path d=\"M19 3H5c-1.1 0-2 .9-2 2v14c0 1.1.9 2 2 2h14c1.1 0 2-.9 2-2V5c0-1.1-.9-2-2-2zM9 17H7v-7h2v7zm4 0h-2V7h2v10zm4 0h-2v-4h2v4z\"/>\n",
              "    </g>\n",
              "</svg>\n",
              "  </button>\n",
              "\n",
              "<style>\n",
              "  .colab-df-quickchart {\n",
              "      --bg-color: #E8F0FE;\n",
              "      --fill-color: #1967D2;\n",
              "      --hover-bg-color: #E2EBFA;\n",
              "      --hover-fill-color: #174EA6;\n",
              "      --disabled-fill-color: #AAA;\n",
              "      --disabled-bg-color: #DDD;\n",
              "  }\n",
              "\n",
              "  [theme=dark] .colab-df-quickchart {\n",
              "      --bg-color: #3B4455;\n",
              "      --fill-color: #D2E3FC;\n",
              "      --hover-bg-color: #434B5C;\n",
              "      --hover-fill-color: #FFFFFF;\n",
              "      --disabled-bg-color: #3B4455;\n",
              "      --disabled-fill-color: #666;\n",
              "  }\n",
              "\n",
              "  .colab-df-quickchart {\n",
              "    background-color: var(--bg-color);\n",
              "    border: none;\n",
              "    border-radius: 50%;\n",
              "    cursor: pointer;\n",
              "    display: none;\n",
              "    fill: var(--fill-color);\n",
              "    height: 32px;\n",
              "    padding: 0;\n",
              "    width: 32px;\n",
              "  }\n",
              "\n",
              "  .colab-df-quickchart:hover {\n",
              "    background-color: var(--hover-bg-color);\n",
              "    box-shadow: 0 1px 2px rgba(60, 64, 67, 0.3), 0 1px 3px 1px rgba(60, 64, 67, 0.15);\n",
              "    fill: var(--button-hover-fill-color);\n",
              "  }\n",
              "\n",
              "  .colab-df-quickchart-complete:disabled,\n",
              "  .colab-df-quickchart-complete:disabled:hover {\n",
              "    background-color: var(--disabled-bg-color);\n",
              "    fill: var(--disabled-fill-color);\n",
              "    box-shadow: none;\n",
              "  }\n",
              "\n",
              "  .colab-df-spinner {\n",
              "    border: 2px solid var(--fill-color);\n",
              "    border-color: transparent;\n",
              "    border-bottom-color: var(--fill-color);\n",
              "    animation:\n",
              "      spin 1s steps(1) infinite;\n",
              "  }\n",
              "\n",
              "  @keyframes spin {\n",
              "    0% {\n",
              "      border-color: transparent;\n",
              "      border-bottom-color: var(--fill-color);\n",
              "      border-left-color: var(--fill-color);\n",
              "    }\n",
              "    20% {\n",
              "      border-color: transparent;\n",
              "      border-left-color: var(--fill-color);\n",
              "      border-top-color: var(--fill-color);\n",
              "    }\n",
              "    30% {\n",
              "      border-color: transparent;\n",
              "      border-left-color: var(--fill-color);\n",
              "      border-top-color: var(--fill-color);\n",
              "      border-right-color: var(--fill-color);\n",
              "    }\n",
              "    40% {\n",
              "      border-color: transparent;\n",
              "      border-right-color: var(--fill-color);\n",
              "      border-top-color: var(--fill-color);\n",
              "    }\n",
              "    60% {\n",
              "      border-color: transparent;\n",
              "      border-right-color: var(--fill-color);\n",
              "    }\n",
              "    80% {\n",
              "      border-color: transparent;\n",
              "      border-right-color: var(--fill-color);\n",
              "      border-bottom-color: var(--fill-color);\n",
              "    }\n",
              "    90% {\n",
              "      border-color: transparent;\n",
              "      border-bottom-color: var(--fill-color);\n",
              "    }\n",
              "  }\n",
              "</style>\n",
              "\n",
              "  <script>\n",
              "    async function quickchart(key) {\n",
              "      const quickchartButtonEl =\n",
              "        document.querySelector('#' + key + ' button');\n",
              "      quickchartButtonEl.disabled = true;  // To prevent multiple clicks.\n",
              "      quickchartButtonEl.classList.add('colab-df-spinner');\n",
              "      try {\n",
              "        const charts = await google.colab.kernel.invokeFunction(\n",
              "            'suggestCharts', [key], {});\n",
              "      } catch (error) {\n",
              "        console.error('Error during call to suggestCharts:', error);\n",
              "      }\n",
              "      quickchartButtonEl.classList.remove('colab-df-spinner');\n",
              "      quickchartButtonEl.classList.add('colab-df-quickchart-complete');\n",
              "    }\n",
              "    (() => {\n",
              "      let quickchartButtonEl =\n",
              "        document.querySelector('#df-55d6ab31-eca7-47a4-8fb6-088f6e83fcb5 button');\n",
              "      quickchartButtonEl.style.display =\n",
              "        google.colab.kernel.accessAllowed ? 'block' : 'none';\n",
              "    })();\n",
              "  </script>\n",
              "</div>\n",
              "\n",
              "    </div>\n",
              "  </div>\n"
            ],
            "application/vnd.google.colaboratory.intrinsic+json": {
              "type": "dataframe",
              "variable_name": "true",
              "summary": "{\n  \"name\": \"true\",\n  \"rows\": 21417,\n  \"fields\": [\n    {\n      \"column\": \"title\",\n      \"properties\": {\n        \"dtype\": \"string\",\n        \"num_unique_values\": 20826,\n        \"samples\": [\n          \"German, Turkish foreign ministers meet after detainee released\",\n          \"Kremlin calls North Korea's latest missile launch another 'provocation'\",\n          \"Transgender soldiers, veterans shaken by Trump's ban on their service\"\n        ],\n        \"semantic_type\": \"\",\n        \"description\": \"\"\n      }\n    },\n    {\n      \"column\": \"text\",\n      \"properties\": {\n        \"dtype\": \"string\",\n        \"num_unique_values\": 21192,\n        \"samples\": [\n          \"WASHINGTON (Reuters) - A majority of the U.S. Senate on Tuesday backed a new round of disaster aid to help Puerto Rico and several states recover from damage from hurricanes and wildfires. The legislation would provide $36.5 billion in emergency relief as Puerto Rico in particular struggles to regain electricity and other basic services following destructive hurricanes. The House of Representatives approved the bill earlier this month. The Trump administration already has indicated it will seek another round of emergency relief from Congress. \",\n          \"BUDAPEST (Reuters) - About a thousand Hungarians protested on Friday against a crackdown on the main opposition party Jobbik which has been  threatened by a record political campaign fine that the party leader describes as a  death sentence  for democracy. Despite the gloomy rhetoric and Jobbik saying it was fighting for survival, support for the demonstration was well down on other similar rallies over the past year. Hungarians will vote for a new parliament in April and Prime Minister Viktor Orban s conservative, anti-migrant Fidesz party is far ahead in the polls, with Jobbik its nearest rival. Jobbik, once on the far right, has turned toward the center in a bid to attract more support and is now campaigning nationwide against Orban, depicting him as the leader of a criminal gang. Orban, rejecting the charges, says his financial standing is  an open book . Last week the state audit office (ASZ) ruled Jobbik had bought political posters far below market prices, breaching rules on political funding, then it slapped a 663 million forint ($2.5 million) penalty on the party. The protesters, waving Jobbik flags and posters deriding the ruling elite, gathered outside the headquarters of Orban s Fidesz party.  What we see unfolding is not an audit office investigation. It is not an official penalty. This is a death sentence with Jobbik s name on it. But in reality, it is a death sentence for Hungarian democracy,  Jobbiik leader Gabor Vona told the crowd. A government spokesman could not comment immediately on his remarks. ASZ chairman Laszlo Domokos is a former Fidesz lawmaker, whom Jobbik and other critics accuse of making decisions in favor of Orban. The audit office denies that. On Friday, ASZ again called on Jobbik to submit information that would challenge its findings, saying it acted fully within its rights throughout the probe. The ruling Fidesz party and the government have denied any involvement in the ASZ probe.  This case has nothing to do with the election campaign,  Orban aide Janos Lazar said on Thursday. For over a year Fidesz has targeted Jobbik, whose move to the center could upend the longstanding status quo of a dominant Fidesz with weaker opponents to its left and its right, said analyst Zoltan Novak at the Centre for Fair Political Analysis. Gyorgy Illes, a 67-year-old pensioner attending the rally, said he used to be a Socialist supporter but got disillusioned as the party struggled to overcome its internal divisions.  This ASZ probe is a clear sign that Orban is way past any remedy. It is a ruthless attack on everything we hold dear. Democracy, the rule of law, equality, you name it,  he said. \",\n          \"BEIJING/TAIPEI (Reuters) - China accused the United States on Thursday of interfering in its internal affairs and said it had lodged a complaint after U.S. President Donald Trump signed into law an act laying the groundwork for possible U.S. navy visits to self-ruled Taiwan. Tensions have risen in recent days after a senior Chinese diplomat threatened China would invade Taiwan if any U.S. warships made port visits to the island which China claims as its own territory. On Monday, Chinese jets carried out  island encirclement patrols  around Taiwan, with state media showing pictures of bombers with cruise missiles slung under their wings as they carried out the exercise. On Tuesday, Trump signed into law the National Defense Authorization Act for the 2018 fiscal year, which authorizes the possibility of mutual visits by navy vessels between Taiwan and the United States. Such visits would be the first since the United States ended formal diplomatic relations with Taiwan in 1979 and established ties with Beijing. Chinese Foreign Ministry spokesman Lu Kang said while the Taiwan sections of the law were not legally binding, they seriously violate the  One China  policy and  constitute an interference in China s internal affairs .   China is resolutely opposed to this, and we have already lodged stern representations with the U.S. government,  Lu told a daily news briefing. China is firmly opposed to any official exchanges, military contact, or arms sales between Taiwan and the United States, he added.  Proudly democratic Taiwan has become increasingly concerned with the ramped up Chinese military presence, that has included several rounds of Chinese air force drills around the island in recent months.  Taiwan is confident of its defenses and responded quickly to the Chinese air force drills this week, its government said, denouncing the rise in China s military deployments as irresponsible. Taiwan presidential spokesman Alex Huang, speaking to Taiwan media in comments reported late on Wednesday, said the defense ministry had kept a close watch on the patrols and responded immediately and properly. Taiwan  can ensure there are no concerns at all about national security, and people can rest assured , Huang said. Both sides of the narrow Taiwan Strait, which separates Taiwan from its giant neighbor, have a responsibility to protect peace and stability, he added.  Such a raised military posture that may impact upon and harm regional peace and stability and cross-strait ties does not give a feeling of responsibility, and the international community does not look favorably upon this,  Huang was quoted as saying. Relations have soured considerably since Tsai Ing-wen, who leads Taiwan s independence-leaning Democratic Progressive Party, won presidential elections last year. China suspects Tsai wants to declare the island s formal independence, a red line for Beijing. Tsai says she wants to maintain peace with China but will defend Taiwan s security. Taiwan is well equipped with mostly U.S. weapons but has been pressing for more advanced equipment to deal with what it sees as a rising threat from China. The United States is bound by law to provide the island with the means to defend itself. China has never renounced the use of force to bring Taiwan under its control. \"\n        ],\n        \"semantic_type\": \"\",\n        \"description\": \"\"\n      }\n    },\n    {\n      \"column\": \"subject\",\n      \"properties\": {\n        \"dtype\": \"category\",\n        \"num_unique_values\": 2,\n        \"samples\": [\n          \"worldnews\",\n          \"politicsNews\"\n        ],\n        \"semantic_type\": \"\",\n        \"description\": \"\"\n      }\n    },\n    {\n      \"column\": \"date\",\n      \"properties\": {\n        \"dtype\": \"object\",\n        \"num_unique_values\": 716,\n        \"samples\": [\n          \"September 2, 2017 \",\n          \"February 2, 2017 \"\n        ],\n        \"semantic_type\": \"\",\n        \"description\": \"\"\n      }\n    }\n  ]\n}"
            }
          },
          "metadata": {},
          "execution_count": 9
        }
      ]
    },
    {
      "cell_type": "markdown",
      "source": [
        "Next we are going to generate the labels from our dataset, they are unlabeled, however each file contains news that belongs to that class.\n",
        "\n",
        "> For the sake or trainig resources we are only going to consider the news titles."
      ],
      "metadata": {
        "id": "qlt98E_4zM5H"
      }
    },
    {
      "cell_type": "code",
      "source": [
        "news_data = []\n",
        "\n",
        "for _, row in true.iterrows():\n",
        "  title, text = row.title, row.text\n",
        "  news_data.append({'text': title, 'label': 'true'})\n",
        "  # news_data.append({'text': text, 'label': 'true'})\n",
        "\n",
        "for _, row in fake.iterrows():\n",
        "  title, text = row.title, row.text\n",
        "  news_data.append({'text': title, 'label': 'fake'})\n",
        "  # news_data.append({'text': text, 'label': 'fake'})\n",
        "\n",
        "news_dataframe = pd.DataFrame(news_data)\n",
        "news_dataframe.head(2)"
      ],
      "metadata": {
        "colab": {
          "base_uri": "https://localhost:8080/",
          "height": 112
        },
        "id": "9T7vdSABz2ym",
        "outputId": "754e3e9c-a98b-415a-96d4-c381d0ec7923"
      },
      "execution_count": 10,
      "outputs": [
        {
          "output_type": "execute_result",
          "data": {
            "text/plain": [
              "                                                text label\n",
              "0  As U.S. budget fight looms, Republicans flip t...  true\n",
              "1  U.S. military to accept transgender recruits o...  true"
            ],
            "text/html": [
              "\n",
              "  <div id=\"df-e2039e01-2c7f-4231-9bff-c0b2bac2ef3f\" class=\"colab-df-container\">\n",
              "    <div>\n",
              "<style scoped>\n",
              "    .dataframe tbody tr th:only-of-type {\n",
              "        vertical-align: middle;\n",
              "    }\n",
              "\n",
              "    .dataframe tbody tr th {\n",
              "        vertical-align: top;\n",
              "    }\n",
              "\n",
              "    .dataframe thead th {\n",
              "        text-align: right;\n",
              "    }\n",
              "</style>\n",
              "<table border=\"1\" class=\"dataframe\">\n",
              "  <thead>\n",
              "    <tr style=\"text-align: right;\">\n",
              "      <th></th>\n",
              "      <th>text</th>\n",
              "      <th>label</th>\n",
              "    </tr>\n",
              "  </thead>\n",
              "  <tbody>\n",
              "    <tr>\n",
              "      <th>0</th>\n",
              "      <td>As U.S. budget fight looms, Republicans flip t...</td>\n",
              "      <td>true</td>\n",
              "    </tr>\n",
              "    <tr>\n",
              "      <th>1</th>\n",
              "      <td>U.S. military to accept transgender recruits o...</td>\n",
              "      <td>true</td>\n",
              "    </tr>\n",
              "  </tbody>\n",
              "</table>\n",
              "</div>\n",
              "    <div class=\"colab-df-buttons\">\n",
              "\n",
              "  <div class=\"colab-df-container\">\n",
              "    <button class=\"colab-df-convert\" onclick=\"convertToInteractive('df-e2039e01-2c7f-4231-9bff-c0b2bac2ef3f')\"\n",
              "            title=\"Convert this dataframe to an interactive table.\"\n",
              "            style=\"display:none;\">\n",
              "\n",
              "  <svg xmlns=\"http://www.w3.org/2000/svg\" height=\"24px\" viewBox=\"0 -960 960 960\">\n",
              "    <path d=\"M120-120v-720h720v720H120Zm60-500h600v-160H180v160Zm220 220h160v-160H400v160Zm0 220h160v-160H400v160ZM180-400h160v-160H180v160Zm440 0h160v-160H620v160ZM180-180h160v-160H180v160Zm440 0h160v-160H620v160Z\"/>\n",
              "  </svg>\n",
              "    </button>\n",
              "\n",
              "  <style>\n",
              "    .colab-df-container {\n",
              "      display:flex;\n",
              "      gap: 12px;\n",
              "    }\n",
              "\n",
              "    .colab-df-convert {\n",
              "      background-color: #E8F0FE;\n",
              "      border: none;\n",
              "      border-radius: 50%;\n",
              "      cursor: pointer;\n",
              "      display: none;\n",
              "      fill: #1967D2;\n",
              "      height: 32px;\n",
              "      padding: 0 0 0 0;\n",
              "      width: 32px;\n",
              "    }\n",
              "\n",
              "    .colab-df-convert:hover {\n",
              "      background-color: #E2EBFA;\n",
              "      box-shadow: 0px 1px 2px rgba(60, 64, 67, 0.3), 0px 1px 3px 1px rgba(60, 64, 67, 0.15);\n",
              "      fill: #174EA6;\n",
              "    }\n",
              "\n",
              "    .colab-df-buttons div {\n",
              "      margin-bottom: 4px;\n",
              "    }\n",
              "\n",
              "    [theme=dark] .colab-df-convert {\n",
              "      background-color: #3B4455;\n",
              "      fill: #D2E3FC;\n",
              "    }\n",
              "\n",
              "    [theme=dark] .colab-df-convert:hover {\n",
              "      background-color: #434B5C;\n",
              "      box-shadow: 0px 1px 3px 1px rgba(0, 0, 0, 0.15);\n",
              "      filter: drop-shadow(0px 1px 2px rgba(0, 0, 0, 0.3));\n",
              "      fill: #FFFFFF;\n",
              "    }\n",
              "  </style>\n",
              "\n",
              "    <script>\n",
              "      const buttonEl =\n",
              "        document.querySelector('#df-e2039e01-2c7f-4231-9bff-c0b2bac2ef3f button.colab-df-convert');\n",
              "      buttonEl.style.display =\n",
              "        google.colab.kernel.accessAllowed ? 'block' : 'none';\n",
              "\n",
              "      async function convertToInteractive(key) {\n",
              "        const element = document.querySelector('#df-e2039e01-2c7f-4231-9bff-c0b2bac2ef3f');\n",
              "        const dataTable =\n",
              "          await google.colab.kernel.invokeFunction('convertToInteractive',\n",
              "                                                    [key], {});\n",
              "        if (!dataTable) return;\n",
              "\n",
              "        const docLinkHtml = 'Like what you see? Visit the ' +\n",
              "          '<a target=\"_blank\" href=https://colab.research.google.com/notebooks/data_table.ipynb>data table notebook</a>'\n",
              "          + ' to learn more about interactive tables.';\n",
              "        element.innerHTML = '';\n",
              "        dataTable['output_type'] = 'display_data';\n",
              "        await google.colab.output.renderOutput(dataTable, element);\n",
              "        const docLink = document.createElement('div');\n",
              "        docLink.innerHTML = docLinkHtml;\n",
              "        element.appendChild(docLink);\n",
              "      }\n",
              "    </script>\n",
              "  </div>\n",
              "\n",
              "\n",
              "<div id=\"df-75857703-6dba-4c7d-b455-920c2e2ea54e\">\n",
              "  <button class=\"colab-df-quickchart\" onclick=\"quickchart('df-75857703-6dba-4c7d-b455-920c2e2ea54e')\"\n",
              "            title=\"Suggest charts\"\n",
              "            style=\"display:none;\">\n",
              "\n",
              "<svg xmlns=\"http://www.w3.org/2000/svg\" height=\"24px\"viewBox=\"0 0 24 24\"\n",
              "     width=\"24px\">\n",
              "    <g>\n",
              "        <path d=\"M19 3H5c-1.1 0-2 .9-2 2v14c0 1.1.9 2 2 2h14c1.1 0 2-.9 2-2V5c0-1.1-.9-2-2-2zM9 17H7v-7h2v7zm4 0h-2V7h2v10zm4 0h-2v-4h2v4z\"/>\n",
              "    </g>\n",
              "</svg>\n",
              "  </button>\n",
              "\n",
              "<style>\n",
              "  .colab-df-quickchart {\n",
              "      --bg-color: #E8F0FE;\n",
              "      --fill-color: #1967D2;\n",
              "      --hover-bg-color: #E2EBFA;\n",
              "      --hover-fill-color: #174EA6;\n",
              "      --disabled-fill-color: #AAA;\n",
              "      --disabled-bg-color: #DDD;\n",
              "  }\n",
              "\n",
              "  [theme=dark] .colab-df-quickchart {\n",
              "      --bg-color: #3B4455;\n",
              "      --fill-color: #D2E3FC;\n",
              "      --hover-bg-color: #434B5C;\n",
              "      --hover-fill-color: #FFFFFF;\n",
              "      --disabled-bg-color: #3B4455;\n",
              "      --disabled-fill-color: #666;\n",
              "  }\n",
              "\n",
              "  .colab-df-quickchart {\n",
              "    background-color: var(--bg-color);\n",
              "    border: none;\n",
              "    border-radius: 50%;\n",
              "    cursor: pointer;\n",
              "    display: none;\n",
              "    fill: var(--fill-color);\n",
              "    height: 32px;\n",
              "    padding: 0;\n",
              "    width: 32px;\n",
              "  }\n",
              "\n",
              "  .colab-df-quickchart:hover {\n",
              "    background-color: var(--hover-bg-color);\n",
              "    box-shadow: 0 1px 2px rgba(60, 64, 67, 0.3), 0 1px 3px 1px rgba(60, 64, 67, 0.15);\n",
              "    fill: var(--button-hover-fill-color);\n",
              "  }\n",
              "\n",
              "  .colab-df-quickchart-complete:disabled,\n",
              "  .colab-df-quickchart-complete:disabled:hover {\n",
              "    background-color: var(--disabled-bg-color);\n",
              "    fill: var(--disabled-fill-color);\n",
              "    box-shadow: none;\n",
              "  }\n",
              "\n",
              "  .colab-df-spinner {\n",
              "    border: 2px solid var(--fill-color);\n",
              "    border-color: transparent;\n",
              "    border-bottom-color: var(--fill-color);\n",
              "    animation:\n",
              "      spin 1s steps(1) infinite;\n",
              "  }\n",
              "\n",
              "  @keyframes spin {\n",
              "    0% {\n",
              "      border-color: transparent;\n",
              "      border-bottom-color: var(--fill-color);\n",
              "      border-left-color: var(--fill-color);\n",
              "    }\n",
              "    20% {\n",
              "      border-color: transparent;\n",
              "      border-left-color: var(--fill-color);\n",
              "      border-top-color: var(--fill-color);\n",
              "    }\n",
              "    30% {\n",
              "      border-color: transparent;\n",
              "      border-left-color: var(--fill-color);\n",
              "      border-top-color: var(--fill-color);\n",
              "      border-right-color: var(--fill-color);\n",
              "    }\n",
              "    40% {\n",
              "      border-color: transparent;\n",
              "      border-right-color: var(--fill-color);\n",
              "      border-top-color: var(--fill-color);\n",
              "    }\n",
              "    60% {\n",
              "      border-color: transparent;\n",
              "      border-right-color: var(--fill-color);\n",
              "    }\n",
              "    80% {\n",
              "      border-color: transparent;\n",
              "      border-right-color: var(--fill-color);\n",
              "      border-bottom-color: var(--fill-color);\n",
              "    }\n",
              "    90% {\n",
              "      border-color: transparent;\n",
              "      border-bottom-color: var(--fill-color);\n",
              "    }\n",
              "  }\n",
              "</style>\n",
              "\n",
              "  <script>\n",
              "    async function quickchart(key) {\n",
              "      const quickchartButtonEl =\n",
              "        document.querySelector('#' + key + ' button');\n",
              "      quickchartButtonEl.disabled = true;  // To prevent multiple clicks.\n",
              "      quickchartButtonEl.classList.add('colab-df-spinner');\n",
              "      try {\n",
              "        const charts = await google.colab.kernel.invokeFunction(\n",
              "            'suggestCharts', [key], {});\n",
              "      } catch (error) {\n",
              "        console.error('Error during call to suggestCharts:', error);\n",
              "      }\n",
              "      quickchartButtonEl.classList.remove('colab-df-spinner');\n",
              "      quickchartButtonEl.classList.add('colab-df-quickchart-complete');\n",
              "    }\n",
              "    (() => {\n",
              "      let quickchartButtonEl =\n",
              "        document.querySelector('#df-75857703-6dba-4c7d-b455-920c2e2ea54e button');\n",
              "      quickchartButtonEl.style.display =\n",
              "        google.colab.kernel.accessAllowed ? 'block' : 'none';\n",
              "    })();\n",
              "  </script>\n",
              "</div>\n",
              "\n",
              "    </div>\n",
              "  </div>\n"
            ],
            "application/vnd.google.colaboratory.intrinsic+json": {
              "type": "dataframe",
              "variable_name": "news_dataframe",
              "summary": "{\n  \"name\": \"news_dataframe\",\n  \"rows\": 44898,\n  \"fields\": [\n    {\n      \"column\": \"text\",\n      \"properties\": {\n        \"dtype\": \"string\",\n        \"num_unique_values\": 38729,\n        \"samples\": [\n          \" TransCanada Officially Files $15 Billion Lawsuit Against U.S. For Rejecting KXL Pipline\",\n          \"Trump accuses Mexico's Carlos Slim of trying to help Clinton\",\n          \"White House defends portrayal of 'armada' push toward Korean peninsula\"\n        ],\n        \"semantic_type\": \"\",\n        \"description\": \"\"\n      }\n    },\n    {\n      \"column\": \"label\",\n      \"properties\": {\n        \"dtype\": \"category\",\n        \"num_unique_values\": 2,\n        \"samples\": [\n          \"fake\",\n          \"true\"\n        ],\n        \"semantic_type\": \"\",\n        \"description\": \"\"\n      }\n    }\n  ]\n}"
            }
          },
          "metadata": {},
          "execution_count": 10
        }
      ]
    },
    {
      "cell_type": "markdown",
      "metadata": {
        "id": "Zy-YdUYy62Dg"
      },
      "source": [
        "First let's check how labels are distributed in the dataset."
      ]
    },
    {
      "cell_type": "code",
      "execution_count": 11,
      "metadata": {
        "colab": {
          "base_uri": "https://localhost:8080/",
          "height": 345
        },
        "id": "d1cd1VqL7Pxa",
        "outputId": "6eb22ba7-ee73-433d-bbdf-cf83d38b6a4e"
      },
      "outputs": [
        {
          "output_type": "display_data",
          "data": {
            "text/plain": [
              "<Figure size 400x400 with 1 Axes>"
            ],
            "image/png": "[encoded data removed]"
          },
          "metadata": {}
        }
      ],
      "source": [
        "labels\t= {i:0 for i in news_dataframe.label.unique()}\n",
        "for val in news_dataframe.label:\n",
        "  labels[val] += 1\n",
        "\n",
        "plt.figure(figsize=(4, 4))\n",
        "plt.pie(labels.values(), labels=labels.keys(), autopct='%1.1f%%', textprops={'color': 'white', 'fontsize':8}, radius=.6,\n",
        "        colors=['#219B9D', '#6A1E55'])\n",
        "plt.legend(fontsize=8, labels=list(labels.keys()), bbox_to_anchor=(1, 1), loc='upper left')\n",
        "plt.show()"
      ]
    },
    {
      "cell_type": "markdown",
      "metadata": {
        "id": "6G4VPQFp7ns0"
      },
      "source": [
        "As we can see that our data has unbalanced labels, so we need to balance these labels based on the class that has few examples."
      ]
    },
    {
      "cell_type": "code",
      "execution_count": 12,
      "metadata": {
        "colab": {
          "base_uri": "https://localhost:8080/",
          "height": 143
        },
        "id": "u2IRcIUu72NT",
        "outputId": "1f6e64b1-ebd3-4bd8-be12-26f03d595d88"
      },
      "outputs": [
        {
          "output_type": "execute_result",
          "data": {
            "text/plain": [
              "                                                    text label\n",
              "21414  Minsk cultural hub becomes haven from authorities  true\n",
              "21415  Vatican upbeat on possibility of Pope Francis ...  true\n",
              "21416  Indonesia to buy $1.14 billion worth of Russia...  true"
            ],
            "text/html": [
              "\n",
              "  <div id=\"df-633a98d0-0fbd-43fa-99a7-3ebb14e1117b\" class=\"colab-df-container\">\n",
              "    <div>\n",
              "<style scoped>\n",
              "    .dataframe tbody tr th:only-of-type {\n",
              "        vertical-align: middle;\n",
              "    }\n",
              "\n",
              "    .dataframe tbody tr th {\n",
              "        vertical-align: top;\n",
              "    }\n",
              "\n",
              "    .dataframe thead th {\n",
              "        text-align: right;\n",
              "    }\n",
              "</style>\n",
              "<table border=\"1\" class=\"dataframe\">\n",
              "  <thead>\n",
              "    <tr style=\"text-align: right;\">\n",
              "      <th></th>\n",
              "      <th>text</th>\n",
              "      <th>label</th>\n",
              "    </tr>\n",
              "  </thead>\n",
              "  <tbody>\n",
              "    <tr>\n",
              "      <th>21414</th>\n",
              "      <td>Minsk cultural hub becomes haven from authorities</td>\n",
              "      <td>true</td>\n",
              "    </tr>\n",
              "    <tr>\n",
              "      <th>21415</th>\n",
              "      <td>Vatican upbeat on possibility of Pope Francis ...</td>\n",
              "      <td>true</td>\n",
              "    </tr>\n",
              "    <tr>\n",
              "      <th>21416</th>\n",
              "      <td>Indonesia to buy $1.14 billion worth of Russia...</td>\n",
              "      <td>true</td>\n",
              "    </tr>\n",
              "  </tbody>\n",
              "</table>\n",
              "</div>\n",
              "    <div class=\"colab-df-buttons\">\n",
              "\n",
              "  <div class=\"colab-df-container\">\n",
              "    <button class=\"colab-df-convert\" onclick=\"convertToInteractive('df-633a98d0-0fbd-43fa-99a7-3ebb14e1117b')\"\n",
              "            title=\"Convert this dataframe to an interactive table.\"\n",
              "            style=\"display:none;\">\n",
              "\n",
              "  <svg xmlns=\"http://www.w3.org/2000/svg\" height=\"24px\" viewBox=\"0 -960 960 960\">\n",
              "    <path d=\"M120-120v-720h720v720H120Zm60-500h600v-160H180v160Zm220 220h160v-160H400v160Zm0 220h160v-160H400v160ZM180-400h160v-160H180v160Zm440 0h160v-160H620v160ZM180-180h160v-160H180v160Zm440 0h160v-160H620v160Z\"/>\n",
              "  </svg>\n",
              "    </button>\n",
              "\n",
              "  <style>\n",
              "    .colab-df-container {\n",
              "      display:flex;\n",
              "      gap: 12px;\n",
              "    }\n",
              "\n",
              "    .colab-df-convert {\n",
              "      background-color: #E8F0FE;\n",
              "      border: none;\n",
              "      border-radius: 50%;\n",
              "      cursor: pointer;\n",
              "      display: none;\n",
              "      fill: #1967D2;\n",
              "      height: 32px;\n",
              "      padding: 0 0 0 0;\n",
              "      width: 32px;\n",
              "    }\n",
              "\n",
              "    .colab-df-convert:hover {\n",
              "      background-color: #E2EBFA;\n",
              "      box-shadow: 0px 1px 2px rgba(60, 64, 67, 0.3), 0px 1px 3px 1px rgba(60, 64, 67, 0.15);\n",
              "      fill: #174EA6;\n",
              "    }\n",
              "\n",
              "    .colab-df-buttons div {\n",
              "      margin-bottom: 4px;\n",
              "    }\n",
              "\n",
              "    [theme=dark] .colab-df-convert {\n",
              "      background-color: #3B4455;\n",
              "      fill: #D2E3FC;\n",
              "    }\n",
              "\n",
              "    [theme=dark] .colab-df-convert:hover {\n",
              "      background-color: #434B5C;\n",
              "      box-shadow: 0px 1px 3px 1px rgba(0, 0, 0, 0.15);\n",
              "      filter: drop-shadow(0px 1px 2px rgba(0, 0, 0, 0.3));\n",
              "      fill: #FFFFFF;\n",
              "    }\n",
              "  </style>\n",
              "\n",
              "    <script>\n",
              "      const buttonEl =\n",
              "        document.querySelector('#df-633a98d0-0fbd-43fa-99a7-3ebb14e1117b button.colab-df-convert');\n",
              "      buttonEl.style.display =\n",
              "        google.colab.kernel.accessAllowed ? 'block' : 'none';\n",
              "\n",
              "      async function convertToInteractive(key) {\n",
              "        const element = document.querySelector('#df-633a98d0-0fbd-43fa-99a7-3ebb14e1117b');\n",
              "        const dataTable =\n",
              "          await google.colab.kernel.invokeFunction('convertToInteractive',\n",
              "                                                    [key], {});\n",
              "        if (!dataTable) return;\n",
              "\n",
              "        const docLinkHtml = 'Like what you see? Visit the ' +\n",
              "          '<a target=\"_blank\" href=https://colab.research.google.com/notebooks/data_table.ipynb>data table notebook</a>'\n",
              "          + ' to learn more about interactive tables.';\n",
              "        element.innerHTML = '';\n",
              "        dataTable['output_type'] = 'display_data';\n",
              "        await google.colab.output.renderOutput(dataTable, element);\n",
              "        const docLink = document.createElement('div');\n",
              "        docLink.innerHTML = docLinkHtml;\n",
              "        element.appendChild(docLink);\n",
              "      }\n",
              "    </script>\n",
              "  </div>\n",
              "\n",
              "\n",
              "<div id=\"df-2a821e56-86c6-4a76-b113-6166c10d04a2\">\n",
              "  <button class=\"colab-df-quickchart\" onclick=\"quickchart('df-2a821e56-86c6-4a76-b113-6166c10d04a2')\"\n",
              "            title=\"Suggest charts\"\n",
              "            style=\"display:none;\">\n",
              "\n",
              "<svg xmlns=\"http://www.w3.org/2000/svg\" height=\"24px\"viewBox=\"0 0 24 24\"\n",
              "     width=\"24px\">\n",
              "    <g>\n",
              "        <path d=\"M19 3H5c-1.1 0-2 .9-2 2v14c0 1.1.9 2 2 2h14c1.1 0 2-.9 2-2V5c0-1.1-.9-2-2-2zM9 17H7v-7h2v7zm4 0h-2V7h2v10zm4 0h-2v-4h2v4z\"/>\n",
              "    </g>\n",
              "</svg>\n",
              "  </button>\n",
              "\n",
              "<style>\n",
              "  .colab-df-quickchart {\n",
              "      --bg-color: #E8F0FE;\n",
              "      --fill-color: #1967D2;\n",
              "      --hover-bg-color: #E2EBFA;\n",
              "      --hover-fill-color: #174EA6;\n",
              "      --disabled-fill-color: #AAA;\n",
              "      --disabled-bg-color: #DDD;\n",
              "  }\n",
              "\n",
              "  [theme=dark] .colab-df-quickchart {\n",
              "      --bg-color: #3B4455;\n",
              "      --fill-color: #D2E3FC;\n",
              "      --hover-bg-color: #434B5C;\n",
              "      --hover-fill-color: #FFFFFF;\n",
              "      --disabled-bg-color: #3B4455;\n",
              "      --disabled-fill-color: #666;\n",
              "  }\n",
              "\n",
              "  .colab-df-quickchart {\n",
              "    background-color: var(--bg-color);\n",
              "    border: none;\n",
              "    border-radius: 50%;\n",
              "    cursor: pointer;\n",
              "    display: none;\n",
              "    fill: var(--fill-color);\n",
              "    height: 32px;\n",
              "    padding: 0;\n",
              "    width: 32px;\n",
              "  }\n",
              "\n",
              "  .colab-df-quickchart:hover {\n",
              "    background-color: var(--hover-bg-color);\n",
              "    box-shadow: 0 1px 2px rgba(60, 64, 67, 0.3), 0 1px 3px 1px rgba(60, 64, 67, 0.15);\n",
              "    fill: var(--button-hover-fill-color);\n",
              "  }\n",
              "\n",
              "  .colab-df-quickchart-complete:disabled,\n",
              "  .colab-df-quickchart-complete:disabled:hover {\n",
              "    background-color: var(--disabled-bg-color);\n",
              "    fill: var(--disabled-fill-color);\n",
              "    box-shadow: none;\n",
              "  }\n",
              "\n",
              "  .colab-df-spinner {\n",
              "    border: 2px solid var(--fill-color);\n",
              "    border-color: transparent;\n",
              "    border-bottom-color: var(--fill-color);\n",
              "    animation:\n",
              "      spin 1s steps(1) infinite;\n",
              "  }\n",
              "\n",
              "  @keyframes spin {\n",
              "    0% {\n",
              "      border-color: transparent;\n",
              "      border-bottom-color: var(--fill-color);\n",
              "      border-left-color: var(--fill-color);\n",
              "    }\n",
              "    20% {\n",
              "      border-color: transparent;\n",
              "      border-left-color: var(--fill-color);\n",
              "      border-top-color: var(--fill-color);\n",
              "    }\n",
              "    30% {\n",
              "      border-color: transparent;\n",
              "      border-left-color: var(--fill-color);\n",
              "      border-top-color: var(--fill-color);\n",
              "      border-right-color: var(--fill-color);\n",
              "    }\n",
              "    40% {\n",
              "      border-color: transparent;\n",
              "      border-right-color: var(--fill-color);\n",
              "      border-top-color: var(--fill-color);\n",
              "    }\n",
              "    60% {\n",
              "      border-color: transparent;\n",
              "      border-right-color: var(--fill-color);\n",
              "    }\n",
              "    80% {\n",
              "      border-color: transparent;\n",
              "      border-right-color: var(--fill-color);\n",
              "      border-bottom-color: var(--fill-color);\n",
              "    }\n",
              "    90% {\n",
              "      border-color: transparent;\n",
              "      border-bottom-color: var(--fill-color);\n",
              "    }\n",
              "  }\n",
              "</style>\n",
              "\n",
              "  <script>\n",
              "    async function quickchart(key) {\n",
              "      const quickchartButtonEl =\n",
              "        document.querySelector('#' + key + ' button');\n",
              "      quickchartButtonEl.disabled = true;  // To prevent multiple clicks.\n",
              "      quickchartButtonEl.classList.add('colab-df-spinner');\n",
              "      try {\n",
              "        const charts = await google.colab.kernel.invokeFunction(\n",
              "            'suggestCharts', [key], {});\n",
              "      } catch (error) {\n",
              "        console.error('Error during call to suggestCharts:', error);\n",
              "      }\n",
              "      quickchartButtonEl.classList.remove('colab-df-spinner');\n",
              "      quickchartButtonEl.classList.add('colab-df-quickchart-complete');\n",
              "    }\n",
              "    (() => {\n",
              "      let quickchartButtonEl =\n",
              "        document.querySelector('#df-2a821e56-86c6-4a76-b113-6166c10d04a2 button');\n",
              "      quickchartButtonEl.style.display =\n",
              "        google.colab.kernel.accessAllowed ? 'block' : 'none';\n",
              "    })();\n",
              "  </script>\n",
              "</div>\n",
              "\n",
              "    </div>\n",
              "  </div>\n"
            ],
            "application/vnd.google.colaboratory.intrinsic+json": {
              "type": "dataframe",
              "summary": "{\n  \"name\": \"balanced_df\",\n  \"rows\": 3,\n  \"fields\": [\n    {\n      \"column\": \"text\",\n      \"properties\": {\n        \"dtype\": \"string\",\n        \"num_unique_values\": 3,\n        \"samples\": [\n          \"Minsk cultural hub becomes haven from authorities\",\n          \"Vatican upbeat on possibility of Pope Francis visiting Russia\",\n          \"Indonesia to buy $1.14 billion worth of Russian jets\"\n        ],\n        \"semantic_type\": \"\",\n        \"description\": \"\"\n      }\n    },\n    {\n      \"column\": \"label\",\n      \"properties\": {\n        \"dtype\": \"category\",\n        \"num_unique_values\": 1,\n        \"samples\": [\n          \"true\"\n        ],\n        \"semantic_type\": \"\",\n        \"description\": \"\"\n      }\n    }\n  ]\n}"
            }
          },
          "metadata": {},
          "execution_count": 12
        }
      ],
      "source": [
        "# Separate the majority and minority classes\n",
        "majority_class = news_dataframe[news_dataframe['label'] == news_dataframe['label'].value_counts().idxmax()]\n",
        "minority_class = news_dataframe[news_dataframe['label'] == news_dataframe['label'].value_counts().idxmin()]\n",
        "\n",
        "# Downsample majority class to the size of the minority class\n",
        "majority_downsampled = resample(\n",
        "    majority_class,\n",
        "    replace=False,  # without replacement\n",
        "    n_samples=len(minority_class),  # match minority class size\n",
        "    random_state=SEED  # for reproducibility\n",
        ")\n",
        "\n",
        "# Combine downsampled majority and original minority\n",
        "balanced_df = pd.concat([majority_downsampled, minority_class])\n",
        "balanced_df.tail(3)"
      ]
    },
    {
      "cell_type": "code",
      "execution_count": 13,
      "metadata": {
        "colab": {
          "base_uri": "https://localhost:8080/",
          "height": 311
        },
        "id": "Ar4uBwOU8Zb_",
        "outputId": "d0efd370-f56c-4d3b-a6a3-be6483441d5c"
      },
      "outputs": [
        {
          "output_type": "display_data",
          "data": {
            "text/plain": [
              "<Figure size 500x300 with 2 Axes>"
            ],
            "image/png": "[encoded data removed]"
          },
          "metadata": {}
        }
      ],
      "source": [
        "label_counts = news_dataframe.label.value_counts()\n",
        "balanced_label = balanced_df.label.value_counts()\n",
        "\n",
        "# Set up the subplots\n",
        "fig, axes = plt.subplots(1, 2, figsize=(5, 3))\n",
        "\n",
        "# Colors for the pie chart segments\n",
        "colors = ['#219B9D', '#6A1E55']\n",
        "\n",
        "# Plot the first pie chart\n",
        "axes[0].pie(label_counts, labels=label_counts.index, autopct='%1.1f%%',\n",
        "            textprops={'color': 'white', 'fontsize':8}, radius=0.6, colors=colors)\n",
        "axes[0].set_title(\"Unbalanced Dataset\", fontsize=8, color=colors[0])\n",
        "\n",
        "# Plot the second pie chart\n",
        "axes[1].pie(balanced_label, labels=balanced_label.index, autopct='%1.1f%%',\n",
        "            textprops={'color': 'white', 'fontsize':8}, radius=0.6, colors=colors)\n",
        "axes[1].set_title(\"Balanced Dataset\", fontsize=8, color=colors[1])\n",
        "\n",
        "# Add a single legend for both charts\n",
        "fig.legend(label_counts.index, loc=\"upper center\", bbox_to_anchor=(0.5, 0.1), ncol=2, fontsize=8)\n",
        "\n",
        "# Adjust layout and remove axis for a cleaner look\n",
        "plt.tight_layout()\n",
        "plt.show()"
      ]
    },
    {
      "cell_type": "markdown",
      "metadata": {
        "id": "cw5-dHfU2JcU"
      },
      "source": [
        "Next we are going to split our dataset into 3 subsets which are:\n",
        "\n",
        "1. train\n",
        "2. test\n",
        "3. val"
      ]
    },
    {
      "cell_type": "code",
      "execution_count": 14,
      "metadata": {
        "id": "6-IUfTRd2UIS"
      },
      "outputs": [],
      "source": [
        "train_df, test_df = train_test_split(balanced_df, test_size=0.2, random_state=SEED)\n",
        "train_df, valid_df = train_test_split(train_df, test_size=0.2, random_state=SEED)"
      ]
    },
    {
      "cell_type": "markdown",
      "metadata": {
        "id": "5Lh7-iZoSSE3"
      },
      "source": [
        "### Data Analyisis\n",
        "\n",
        "In this section of the notebook we are going to check how the data is distributed within our 3 sets.\n",
        "\n",
        "First we are going to have a look at how the labels are distributed in the `training`, `validation` and `testing` subsets."
      ]
    },
    {
      "cell_type": "code",
      "execution_count": 15,
      "metadata": {
        "colab": {
          "base_uri": "https://localhost:8080/",
          "height": 330
        },
        "id": "Djn1Q6tKSPYQ",
        "outputId": "d4c70432-9e7d-4199-c653-b501eb6aa6d4"
      },
      "outputs": [
        {
          "output_type": "display_data",
          "data": {
            "text/plain": [
              "<Figure size 600x400 with 3 Axes>"
            ],
            "image/png": "[encoded data removed]"
          },
          "metadata": {}
        }
      ],
      "source": [
        "train_dist_label\t= {i:0 for i in train_df.label.unique()}\n",
        "for val in train_df.label:\n",
        "  train_dist_label[val] += 1\n",
        "\n",
        "test_dist_label\t= {i:0 for i in test_df.label.unique()}\n",
        "for val in test_df.label:\n",
        "  test_dist_label[val] += 1\n",
        "\n",
        "val_dist_label\t= {i:0 for i in valid_df.label.unique()}\n",
        "for val in valid_df.label:\n",
        "  val_dist_label[val] += 1\n",
        "\n",
        "\n",
        "colors = ['#54473F', '#BC7C7C']\n",
        "fig, axes = plt.subplots(1, 3, figsize=(6, 4))\n",
        "\n",
        "axes[0].pie(train_dist_label.values(), labels=train_dist_label.keys(), autopct='%1.1f%%',\n",
        "            textprops={'color': 'white', 'fontsize':8}, radius=.6,\n",
        "            colors=colors\n",
        "            )\n",
        "axes[0].set_title(\"Training\", fontsize=10, color='#667BC6')\n",
        "\n",
        "axes[1].pie(test_dist_label.values(), labels=test_dist_label.keys(), autopct='%1.1f%%',\n",
        "            textprops={'color': 'white', 'fontsize':8}, radius=.6,\n",
        "            colors=colors\n",
        "            )\n",
        "axes[1].set_title(\"Testing\", fontsize=10, color='#A0937D')\n",
        "\n",
        "axes[2].pie(val_dist_label.values(), labels=val_dist_label.keys(), autopct='%1.1f%%',\n",
        "            textprops={'color': 'white', 'fontsize':8}, radius=.6,\n",
        "            colors=colors)\n",
        "axes[2].set_title(\"Validation\", fontsize=10, color='#5AB2FF')\n",
        "\n",
        "fig.legend(label_counts.index, loc=\"upper center\", bbox_to_anchor=(0.5, 0.1), ncol=2, fontsize=8)\n",
        "plt.tight_layout()\n",
        "plt.show()"
      ]
    },
    {
      "cell_type": "markdown",
      "metadata": {
        "id": "QSJeuO6pSPUs"
      },
      "source": [
        "Now we can see that there are balanced labels in all 3 sets. In the next step we are going to visualize how frequently words appears in the train, validation and test text."
      ]
    },
    {
      "cell_type": "code",
      "execution_count": 16,
      "metadata": {
        "id": "q3vduRkgSPFE"
      },
      "outputs": [],
      "source": [
        "train_text_counter = Counter()\n",
        "for line in train_df.text:\n",
        "    train_text_counter.update(line.lower().split())\n",
        "\n",
        "test_text_counter = Counter()\n",
        "for line in test_df.text:\n",
        "    test_text_counter.update(line.lower().split())\n",
        "\n",
        "valid_text_counter = Counter()\n",
        "for line in valid_df.text:\n",
        "    valid_text_counter.update(line.lower().split())"
      ]
    },
    {
      "cell_type": "code",
      "execution_count": 17,
      "metadata": {
        "colab": {
          "base_uri": "https://localhost:8080/",
          "height": 364
        },
        "id": "N237txX3ihaL",
        "outputId": "4e0b6a71-c60c-48a6-8c7a-fa04cb6f5871"
      },
      "outputs": [
        {
          "output_type": "display_data",
          "data": {
            "text/plain": [
              "<Figure size 400x400 with 1 Axes>"
            ],
            "image/png": "[encoded data removed]"
          },
          "metadata": {}
        }
      ],
      "source": [
        "plot_wordcloud(train_text_counter, title=\"Train Word Cloud\", mask=\"wine\", background_color=\"#E9EED9\", figsize=(4, 4),\n",
        "               fontsize=10)"
      ]
    },
    {
      "cell_type": "code",
      "execution_count": 18,
      "metadata": {
        "colab": {
          "base_uri": "https://localhost:8080/",
          "height": 364
        },
        "id": "kbocBKFvjywS",
        "outputId": "93c1dfdb-30f5-47d5-e569-9df5153d490c"
      },
      "outputs": [
        {
          "output_type": "display_data",
          "data": {
            "text/plain": [
              "<Figure size 400x400 with 1 Axes>"
            ],
            "image/png": "[encoded data removed]"
          },
          "metadata": {}
        }
      ],
      "source": [
        "plot_wordcloud(test_text_counter, title=\"Testing Word Cloud\", mask=\"apple\", background_color=\"#E4E0E1\", figsize=(4, 4),\n",
        "               fontsize=10)"
      ]
    },
    {
      "cell_type": "code",
      "execution_count": 19,
      "metadata": {
        "colab": {
          "base_uri": "https://localhost:8080/",
          "height": 364
        },
        "id": "t0m8eF47j0i0",
        "outputId": "32eafa71-4823-41b8-ea17-111f51aa8c44"
      },
      "outputs": [
        {
          "output_type": "display_data",
          "data": {
            "text/plain": [
              "<Figure size 400x400 with 1 Axes>"
            ],
            "image/png": "[encoded data removed]"
          },
          "metadata": {}
        }
      ],
      "source": [
        "plot_wordcloud(valid_text_counter, title=\"Validation Word Cloud\", mask=\"apple\", background_color=\"#FEF9F2\", figsize=(4, 4),\n",
        "               fontsize=10)"
      ]
    },
    {
      "cell_type": "markdown",
      "metadata": {
        "id": "U9zK5uosXaCO"
      },
      "source": [
        "Next let's visualize how many examples are there in each `set`."
      ]
    },
    {
      "cell_type": "code",
      "execution_count": 20,
      "metadata": {
        "colab": {
          "base_uri": "https://localhost:8080/",
          "height": 345
        },
        "id": "9acpu1YlVkbZ",
        "outputId": "009ceefe-b50d-48b5-cd02-c39486cb8efa"
      },
      "outputs": [
        {
          "output_type": "display_data",
          "data": {
            "text/plain": [
              "<Figure size 400x400 with 1 Axes>"
            ],
            "image/png": "[encoded data removed]"
          },
          "metadata": {}
        }
      ],
      "source": [
        "plt.figure(figsize=(4, 4))\n",
        "plt.pie([len(train_df), len(test_df), len(valid_df)], labels=['training', 'testing', 'validation'],\n",
        "        autopct='%1.1f%%', textprops={'color': 'white', 'fontsize':8}, radius=.6,\n",
        "        colors=['#626F47', '#CB6040', '#08C2FF'])\n",
        "plt.legend(fontsize=8, labels=['training', 'testing', 'validation'], bbox_to_anchor=(1, 1), loc='upper left')\n",
        "plt.show()"
      ]
    },
    {
      "cell_type": "markdown",
      "metadata": {
        "id": "J6C3NoDNJTiH"
      },
      "source": [
        "``64%`` of the data is in the training set, ``20%`` in the test set and ``16%`` in the validation set. We can display this using a table:"
      ]
    },
    {
      "cell_type": "code",
      "execution_count": 21,
      "metadata": {
        "colab": {
          "base_uri": "https://localhost:8080/"
        },
        "id": "I-sxGWFnJXWP",
        "outputId": "1702295e-f326-4731-a1f6-d343a5409cb8"
      },
      "outputs": [
        {
          "output_type": "stream",
          "name": "stdout",
          "text": [
            "SETS EXAMPLES\n",
            "+------------+--------+\n",
            "| Set        |  Total |\n",
            "+------------+--------+\n",
            "| TRAINING   | 27,413 |\n",
            "| TESTING    |  8,567 |\n",
            "| VALIDATION |  6,854 |\n",
            "| TOTAL      | 42,834 |\n",
            "+------------+--------+\n"
          ]
        }
      ],
      "source": [
        "columns = [\"Set\", \"Total\"]\n",
        "_data = [\n",
        "    [\"TRAINING\", f\"{len(train_df):,}\"],\n",
        "    [\"TESTING\", f\"{len(test_df):,}\"],\n",
        "    [\"VALIDATION\", f\"{len(valid_df):,}\"],\n",
        "    [\"TOTAL\", f\"{len(test_df) + len(train_df) + len(valid_df):,}\"],\n",
        "]\n",
        "tabulate_data(columns, _data, title=\"SETS EXAMPLES\")"
      ]
    },
    {
      "cell_type": "markdown",
      "metadata": {
        "id": "Bh_IWKXmVkYp"
      },
      "source": [
        "\n",
        "\n",
        "### Features and Labels\n",
        "Our fetures are the actual ``text`` in the dataframes which is the column named ``text`` and our labels will come from the column called `label`. In the following code cell we are going to read features and labels in a numpy arrays for each set."
      ]
    },
    {
      "cell_type": "code",
      "execution_count": 22,
      "metadata": {
        "id": "lrYGI3VJabg7"
      },
      "outputs": [],
      "source": [
        "# train\n",
        "train_texts = train_df.text.values\n",
        "train_labels = train_df.label.values\n",
        "\n",
        "# test\n",
        "test_texts = test_df.text.values\n",
        "test_labels = test_df.label.values\n",
        "\n",
        "# val\n",
        "val_texts = valid_df.text.values\n",
        "val_labels = valid_df.label.values"
      ]
    },
    {
      "cell_type": "markdown",
      "metadata": {
        "id": "TlQfnPdFbBra"
      },
      "source": [
        "### Text Preprocessing\n",
        "\n",
        "In our text processing pipeline we need to do the following steps:\n",
        "1. `text_cleaning`\n",
        "- First we are going to remove punctuation url's and numbers, from the text. For that we are going to use a function called `clean_sentence`  which cleans the text, by removing punctuations, numbers, tags, urls, etc from a sentence.\n",
        "\n",
        "2. ``tokenize sentences``\n",
        "* this is the process of converting a sentence or text into senquence of word. For this process we are going to use a pre-trained model from ``spacy`` language model.\n",
        "\n",
        "3. ``vocabulary``\n",
        "* We will to create a vocabulary based on our sentences that are in the train dataset. A ``vocabulary`` is esentially a word to index mapping that allows us to reference the word with their integer representation, since machine leaning models does not understand words. This vocabulary will be used during model training and also can be used at model inference.\n",
        "\n",
        "### Tokenizer\n",
        "In the following code cell we are going to get a tokenier object that will convert a sentence into a sequence of word using the ``spacy-en`` language model. The reason we are using the english langauge model it's because our ``text`` are in ``english``."
      ]
    },
    {
      "cell_type": "code",
      "execution_count": 23,
      "metadata": {
        "colab": {
          "base_uri": "https://localhost:8080/"
        },
        "id": "YhHm8xNkabed",
        "outputId": "caef503f-60d9-446e-bd3c-746bac7f46ef"
      },
      "outputs": [
        {
          "output_type": "execute_result",
          "data": {
            "text/plain": [
              "['This', 'is', 'a', 'boy', '.']"
            ]
          },
          "metadata": {},
          "execution_count": 23
        }
      ],
      "source": [
        "tokenizer = data.utils.get_tokenizer('spacy', 'en')\n",
        "tokenizer(\"This is a boy.\")"
      ]
    },
    {
      "cell_type": "code",
      "execution_count": 24,
      "metadata": {
        "id": "BEwJM5w9traG"
      },
      "outputs": [],
      "source": [
        "def clean_sentence(sent: str, lower: bool = True) -> str:\n",
        "    sent = sent.lower() if lower else sent\n",
        "    sent = re.sub(\n",
        "        r\"(@|#)([A-Za-z0-9]+)\", \" \", sent\n",
        "    )\n",
        "    sent = re.sub(\n",
        "        r\"([A-Za-z0-9]+[.-_])*[A-Za-z0-9]+@[A-Za-z0-9-]+(\\.[A-Z|a-z]{2,})+\", \" \", sent\n",
        "    )\n",
        "    sent = re.sub(r\"https?\\S+\", \" \", sent, flags=re.MULTILINE)  # removing url's\n",
        "    sent = re.sub(r\"\\d\", \" \", sent)  # removing none word characters\n",
        "    sent = re.sub(\n",
        "        r\"[^\\w\\s\\']\", \" \", sent\n",
        "    )\n",
        "    sent = re.sub(r\"\\s+\", \" \", sent).strip()  # remove more than one space\n",
        "    return sent\n"
      ]
    },
    {
      "cell_type": "markdown",
      "metadata": {
        "id": "WZsbu_AXabbw"
      },
      "source": [
        "### Vocabulary\n",
        "In the following code cell we are going to create a vocabulary object from ``torchtext``.  So we are going to use the ``Counter`` module from collections to generate these counts from our ``train`` text.\n",
        "\n",
        "We are going to specify the ``min_freq`` to ``5`` meaning that the words that does not appear at least ``5`` times will be converted to unknown. We are also going to specify the special tokens during creation of the vocabulary object."
      ]
    },
    {
      "cell_type": "code",
      "execution_count": 25,
      "metadata": {
        "id": "tVR_pz_XabZb"
      },
      "outputs": [],
      "source": [
        "counter = Counter()\n",
        "for line in train_texts:\n",
        "  line = clean_sentence(line)\n",
        "  tokens = tokenizer(line)\n",
        "  counter.update(tokens)"
      ]
    },
    {
      "cell_type": "code",
      "execution_count": 26,
      "metadata": {
        "id": "RcQW5pmnMJCm"
      },
      "outputs": [],
      "source": [
        "#  our special tokens are (unknown, padding, start of sentence, end of sentence)\n",
        "vocabulary = vocab.vocab(counter, min_freq=5, specials=('[unk]', '[pad]', '[sos]', '[eos]'))"
      ]
    },
    {
      "cell_type": "markdown",
      "metadata": {
        "id": "vnK6twNwabXX"
      },
      "source": [
        "### STOI - ``String To Integer``\n",
        "This will be a dictionary that contains a string to integer mapping which will be our actual vocabulary. In the following code cell we are going to create object called stoi which is essentially a dictionary of word to index mapping. This dictionary will be used during training as well as during model inference."
      ]
    },
    {
      "cell_type": "code",
      "execution_count": 27,
      "metadata": {
        "id": "Jmh4c22ZabUn",
        "colab": {
          "base_uri": "https://localhost:8080/"
        },
        "outputId": "6fc16aaa-6a92-48b5-d7fc-5a701657efc2"
      },
      "outputs": [
        {
          "output_type": "stream",
          "name": "stdout",
          "text": [
            "Vocab Size:  6547\n"
          ]
        }
      ],
      "source": [
        "stoi = vocabulary.get_stoi()\n",
        "print(\"Vocab Size: \", len(stoi))"
      ]
    },
    {
      "cell_type": "markdown",
      "metadata": {
        "id": "XmbRrtfGczdO"
      },
      "source": [
        "### Text Pipeline\n",
        "After our text has been tokenized we need a way of converting those words into numbers because machine leaning models understand numbers not words. That's where we the ``text_pipeline`` function comes into play. So this function takes in a sentence and tokenize it then converts each word to a number. Note that the word that does not exists in the vocabulay (``stoi``) will be converted to an unkown (``'[unk]'``) token (0).\n",
        "\n",
        "\n",
        "> Note that our `text_pipeline` should also do the same process during vocabulary creation."
      ]
    },
    {
      "cell_type": "code",
      "execution_count": 28,
      "metadata": {
        "id": "TOsxiW_EabSM"
      },
      "outputs": [],
      "source": [
        "def text_pipeline(x: str):\n",
        "  values = list()\n",
        "  x = clean_sentence(x)\n",
        "  tokens = tokenizer(x)\n",
        "  for token in tokens:\n",
        "    try:\n",
        "      v = stoi[token]\n",
        "    except KeyError as e:\n",
        "      v = stoi['[unk]']\n",
        "    values.append(v)\n",
        "  return values"
      ]
    },
    {
      "cell_type": "markdown",
      "metadata": {
        "id": "kCpLIyALdIVO"
      },
      "source": [
        "### Label pipeline\n",
        "Our labels for now are just textual. We also need to convert these labels into numbers. This is very simple what we need to do is to get all the uniqe labels and then create a ``labels_vocab`` which is a label to integer representation."
      ]
    },
    {
      "cell_type": "code",
      "execution_count": 29,
      "metadata": {
        "id": "lMAAaAOMabPy",
        "colab": {
          "base_uri": "https://localhost:8080/"
        },
        "outputId": "b622f9e9-9466-4e30-9131-227e7686b509"
      },
      "outputs": [
        {
          "output_type": "execute_result",
          "data": {
            "text/plain": [
              "{'true': 0, 'fake': 1}"
            ]
          },
          "metadata": {},
          "execution_count": 29
        }
      ],
      "source": [
        "labels_dict = {k: v for v, k in enumerate(train_df.label.unique())}\n",
        "labels_dict"
      ]
    },
    {
      "cell_type": "markdown",
      "metadata": {
        "id": "BXxHgz7RdYxm"
      },
      "source": [
        "The ``label_pipeline`` function will then takes in the label and then returns us an integer representation of that label."
      ]
    },
    {
      "cell_type": "code",
      "execution_count": 30,
      "metadata": {
        "id": "55PxmNEKdYuJ"
      },
      "outputs": [],
      "source": [
        "label_pipeline = lambda x: labels_dict[x]"
      ]
    },
    {
      "cell_type": "markdown",
      "metadata": {
        "id": "aCWM7UZYdobA"
      },
      "source": [
        "### Pretrained vectors\n",
        "\n",
        "In the following code cell we are going to load our own pretrained word embeddings that were trained on the news dataset. The training can be found in this notebook:\n",
        "\n",
        "https://github.com/CrispenGari/nlp-pytorch/blob/main/14_TRAINING_EMBEDDING_USING_TORCHTEXT/00_TRAINING_WORD_EMBEDINGS.ipynb\n",
        "\n",
        "\n",
        "Our embeddings were trained on `~26K` words and they are `128Dim`"
      ]
    },
    {
      "cell_type": "code",
      "execution_count": 31,
      "metadata": {
        "id": "yUdKukyldYsL"
      },
      "outputs": [],
      "source": [
        "EMBEDDING_DIM = 128\n",
        "\n",
        "embeddings = vocab.Vectors(\n",
        "    name = 'embeddings.26k.128d.txt',\n",
        "    cache = 'custom_embeddings',\n",
        "    unk_init = torch.Tensor.normal_\n",
        ")\n",
        "\n",
        "def get_vector(embedding, word):\n",
        "    assert word in embedding.stoi, f'{word} not in the vocab'\n",
        "    return embedding.vectors[embedding.stoi[word]]"
      ]
    },
    {
      "cell_type": "markdown",
      "metadata": {
        "id": "fcXWQP87dYoN"
      },
      "source": [
        "### Creating Embedding matrix\n",
        "Now that we have our glove vectors we need to costomize them so that they fit our use case. We are going to create an embedding matrix that suits the our vocabulary. So essentially this embedding matrix will be the word to vector mapping for all the words that arein our vocabulary."
      ]
    },
    {
      "cell_type": "code",
      "execution_count": 32,
      "metadata": {
        "id": "HA9Y4jB7abNE"
      },
      "outputs": [],
      "source": [
        "VOCAB_SIZE = len(stoi)\n",
        "EMBEDDING_MATRIX= torch.zeros([VOCAB_SIZE, EMBEDDING_DIM])\n",
        "for i, word in enumerate(vocabulary.get_itos()):\n",
        "  try:\n",
        "    vector = get_vector(embeddings, word)\n",
        "    EMBEDDING_MATRIX[i] = vector\n",
        "  except AssertionError:\n",
        "    pass"
      ]
    },
    {
      "cell_type": "markdown",
      "metadata": {
        "id": "Kz4r0Mdmd-eO"
      },
      "source": [
        "In the followig code cell we are going to check the embedding matrix for the word ``\"people\"``."
      ]
    },
    {
      "cell_type": "code",
      "execution_count": 33,
      "metadata": {
        "id": "CRubgb1Dd-bO",
        "colab": {
          "base_uri": "https://localhost:8080/"
        },
        "outputId": "798d6e78-99c7-4398-8c31-9165bc2e686c"
      },
      "outputs": [
        {
          "output_type": "execute_result",
          "data": {
            "text/plain": [
              "tensor([ 0.9007,  1.0645, -1.7102, -0.8220,  1.2051, -0.3436,  0.6057, -0.1324,\n",
              "         1.1687, -0.5739,  0.6970, -0.2867, -1.2181,  0.8333,  1.0975,  0.7418,\n",
              "        -2.2747, -1.3646, -0.7255,  0.1088, -0.1555, -0.2358, -0.3441,  0.2242,\n",
              "        -0.7823, -0.2593,  0.6153, -1.2168,  0.2329, -0.8281,  0.1059,  1.0298,\n",
              "         0.4966,  0.6870, -0.7548, -2.5810, -0.1706, -0.8644,  1.2117, -1.1599,\n",
              "         1.2638, -0.1839,  0.8660, -0.5993,  0.5745,  0.8270,  0.0271,  0.6494,\n",
              "         1.3634, -0.3579, -1.8403,  0.7032,  0.5507,  1.3438,  0.5128, -0.5085,\n",
              "        -0.8731,  1.1639, -1.6503, -1.5684, -2.7237, -0.5561, -1.1861, -0.0858,\n",
              "         0.8191,  1.4604,  0.3698, -0.0315,  0.2749,  1.2947, -0.8780, -0.1875,\n",
              "         1.2333, -0.1306, -0.7573,  0.7821,  0.5629, -0.4811,  0.1590, -0.7964,\n",
              "         1.7750, -0.7411,  0.1962, -0.5467, -0.4173,  0.5666,  0.9883,  0.7757,\n",
              "        -1.9248, -1.7422, -1.0393,  0.4424,  0.2788, -0.6202,  0.8818, -0.1020,\n",
              "        -0.2675, -1.6717, -0.6657, -0.5431,  0.5249,  1.5753, -0.3756, -0.0925,\n",
              "        -0.9848,  0.6776, -0.1575, -0.1279, -0.6240, -0.1528,  0.7932,  0.3334,\n",
              "        -1.4408, -0.4171,  0.1953, -2.0198,  1.0011, -0.5353, -0.0193,  0.5888,\n",
              "         0.9059, -1.3120, -0.3602,  1.1750,  1.9345,  0.4069, -0.3493, -0.3752])"
            ]
          },
          "metadata": {},
          "execution_count": 33
        }
      ],
      "source": [
        "EMBEDDING_MATRIX[stoi['people']]"
      ]
    },
    {
      "cell_type": "markdown",
      "metadata": {
        "id": "tVMx4jP4eOPx"
      },
      "source": [
        "### Creating Dataset for Training\n",
        "In the following code cell we are going to create a dataset class called `FakeRealNewsDataset`. This dataset will takes in the labels and the text of a set."
      ]
    },
    {
      "cell_type": "code",
      "execution_count": 34,
      "metadata": {
        "id": "aJQVF5Z9d-Xm"
      },
      "outputs": [],
      "source": [
        "class FakeRealNewsDataset(torch.utils.data.Dataset):\n",
        "  def __init__(self, labels, text):\n",
        "    super(FakeRealNewsDataset, self).__init__()\n",
        "    self.labels = labels\n",
        "    self.text = text\n",
        "\n",
        "  def __getitem__(self, index):\n",
        "    return self.labels[index], self.text[index]\n",
        "\n",
        "  def __len__(self):\n",
        "    return len(self.labels)"
      ]
    },
    {
      "cell_type": "markdown",
      "metadata": {
        "id": "3BKqJ90ZefI9"
      },
      "source": [
        "### ``collate_fn``\n",
        "We are going to create a collate function called ``tokenize_batch``. This function actually takes in a batch and does the preprocessing of the ``text`` and ``labels``. This function will be passed to the ``DataLoader`` class to do the preprocessing of ``features`` and ``labels``.\n",
        "\n",
        "### ``tokenize_batch`` function:\n",
        "\n",
        "* this function takes in a batch in each set and convert the features and labels to integer representation.\n",
        "* It goes ahead and ``pad`` and ``truncate`` the sequence to the same length and returns ``labels`` and ``features``."
      ]
    },
    {
      "cell_type": "code",
      "execution_count": 35,
      "metadata": {
        "id": "WzCLHG5Pd-TJ"
      },
      "outputs": [],
      "source": [
        "def tokenize_batch(batch, max_len=128, padding=\"pre\"):\n",
        "  assert padding==\"pre\" or padding==\"post\", \"the padding can be either pre or post\"\n",
        "  labels_list, text_list = [], []\n",
        "  for _label, _text in batch:\n",
        "    labels_list.append(label_pipeline(_label))\n",
        "    text_holder = torch.zeros(max_len, dtype=torch.int32)\n",
        "    processed_text = torch.tensor(text_pipeline(_text), dtype=torch.int32)\n",
        "    pos = min(max_len, len(processed_text))\n",
        "    if padding == \"pre\":\n",
        "      text_holder[:pos] = processed_text[:pos]\n",
        "    else:\n",
        "      text_holder[-pos:] = processed_text[-pos:]\n",
        "    text_list.append(text_holder.unsqueeze(dim=0))\n",
        "  #  the labels will be torch long tensors since it is a multi-class classification.\n",
        "  features = torch.cat(text_list, dim=0)\n",
        "  return torch.FloatTensor(labels_list), features"
      ]
    },
    {
      "cell_type": "markdown",
      "metadata": {
        "id": "tJngG-amd-Of"
      },
      "source": [
        "### Datasets\n",
        "In the following code cell we are going to create the datasets for all our three sets using the `FakeRealNewsDataset` class."
      ]
    },
    {
      "cell_type": "code",
      "execution_count": 36,
      "metadata": {
        "id": "DxHSjEx4d-KJ"
      },
      "outputs": [],
      "source": [
        "train_dataset = FakeRealNewsDataset(train_labels, train_texts)\n",
        "test_dataset = FakeRealNewsDataset(test_labels, test_texts)\n",
        "val_dataset = FakeRealNewsDataset(val_labels, val_texts)"
      ]
    },
    {
      "cell_type": "markdown",
      "metadata": {
        "id": "qXmABbFBLYNc"
      },
      "source": [
        "### Iterators\n",
        "In the following code cell we are going to create loaders using the ``DataLoader`` class from ``torch.utils.data`` for our ``3`` sets. We are going to use the ``batch_size`` of ``64`` and our ``collate_function`` is ``tokenize_batch``. For the validation and testing dataset we are going to set the ``shuffle`` to ``False`` because there's no need fo us to shuffle these examples."
      ]
    },
    {
      "cell_type": "code",
      "execution_count": 37,
      "metadata": {
        "id": "VL3roEBULWeD"
      },
      "outputs": [],
      "source": [
        "BATCH_SIZE = 64\n",
        "train_loader = torch.utils.data.DataLoader(train_dataset, batch_size=BATCH_SIZE, shuffle=True, collate_fn=tokenize_batch)\n",
        "test_loader = torch.utils.data.DataLoader(test_dataset, batch_size=BATCH_SIZE, shuffle=False, collate_fn=tokenize_batch)\n",
        "val_loader = torch.utils.data.DataLoader(val_dataset, batch_size=BATCH_SIZE, shuffle=False, collate_fn=tokenize_batch)"
      ]
    },
    {
      "cell_type": "markdown",
      "metadata": {
        "id": "EgnVhtAyfxKy"
      },
      "source": [
        "Checking a single Batch Data"
      ]
    },
    {
      "cell_type": "code",
      "execution_count": 38,
      "metadata": {
        "id": "zHnpux11f0ac"
      },
      "outputs": [],
      "source": [
        "lbl, txt = next(iter(train_loader))"
      ]
    },
    {
      "cell_type": "markdown",
      "metadata": {
        "id": "qnojSlI_f4dh"
      },
      "source": [
        "Labels in the first batch."
      ]
    },
    {
      "cell_type": "code",
      "execution_count": 39,
      "metadata": {
        "id": "tnN-oRTkDu67",
        "colab": {
          "base_uri": "https://localhost:8080/"
        },
        "outputId": "e055747b-40b2-4a97-fe35-bfec976715bd"
      },
      "outputs": [
        {
          "output_type": "execute_result",
          "data": {
            "text/plain": [
              "tensor([0., 0., 1., 1., 0., 1., 0., 1., 0., 0., 0., 1., 0., 0., 1., 1., 1., 1.,\n",
              "        0., 0., 1., 0., 1., 1., 1., 1., 1., 0., 0., 0., 1., 1., 0., 0., 0., 0.,\n",
              "        1., 0., 1., 0., 0., 1., 1., 0., 1., 1., 1., 0., 1., 1., 1., 0., 0., 1.,\n",
              "        1., 1., 0., 1., 0., 1., 0., 0., 0., 1.])"
            ]
          },
          "metadata": {},
          "execution_count": 39
        }
      ],
      "source": [
        "lbl"
      ]
    },
    {
      "cell_type": "markdown",
      "metadata": {
        "id": "kuk993nuf9rp"
      },
      "source": [
        "The first sentence in the batch."
      ]
    },
    {
      "cell_type": "code",
      "execution_count": 40,
      "metadata": {
        "id": "6dmP77PjgCAL",
        "colab": {
          "base_uri": "https://localhost:8080/"
        },
        "outputId": "5e3afde9-aa42-40a0-962c-49f37a504d79"
      },
      "outputs": [
        {
          "output_type": "execute_result",
          "data": {
            "text/plain": [
              "tensor([ 167,  603,  269,  270,    7, 4625, 1767, 2109, 5486,   13, 1069, 1070,\n",
              "           0,    0,    0,    0,    0,    0,    0,    0,    0,    0,    0,    0,\n",
              "           0,    0,    0,    0,    0,    0,    0,    0,    0,    0,    0,    0,\n",
              "           0,    0,    0,    0,    0,    0,    0,    0,    0,    0,    0,    0,\n",
              "           0,    0,    0,    0,    0,    0,    0,    0,    0,    0,    0,    0,\n",
              "           0,    0,    0,    0,    0,    0,    0,    0,    0,    0,    0,    0,\n",
              "           0,    0,    0,    0,    0,    0,    0,    0,    0,    0,    0,    0,\n",
              "           0,    0,    0,    0,    0,    0,    0,    0,    0,    0,    0,    0,\n",
              "           0,    0,    0,    0,    0,    0,    0,    0,    0,    0,    0,    0,\n",
              "           0,    0,    0,    0,    0,    0,    0,    0,    0,    0,    0,    0,\n",
              "           0,    0,    0,    0,    0,    0,    0,    0], dtype=torch.int32)"
            ]
          },
          "metadata": {},
          "execution_count": 40
        }
      ],
      "source": [
        "txt[0]"
      ]
    },
    {
      "cell_type": "markdown",
      "metadata": {
        "id": "gGYa4u1HN9on"
      },
      "source": [
        "### Models.\n",
        "\n",
        "Next we are going to create our model that does Fake News Detection based on the text provide.\n",
        "\n",
        "### `FakeRealNewsBiLSTM`\n",
        "\n",
        "In the following code cell we are going to build a model using `LSTM` layers."
      ]
    },
    {
      "cell_type": "code",
      "execution_count": 41,
      "metadata": {
        "id": "6LWvUzUBMnu8"
      },
      "outputs": [],
      "source": [
        "class FakeRealNewsBiLSTM(nn.Module):\n",
        "  def __init__(self, vocab_size, embedding_size,\n",
        "               hidden_size, output_size, num_layers,\n",
        "               bidirectional, dropout, pad_index\n",
        "               ):\n",
        "    super(FakeRealNewsBiLSTM, self).__init__()\n",
        "    self.embedding = nn.Sequential(\n",
        "          nn.Embedding(\n",
        "              vocab_size, embedding_size, padding_idx=pad_index\n",
        "        )\n",
        "    )\n",
        "\n",
        "    self.lstm = nn.Sequential(\n",
        "          nn.LSTM(\n",
        "              embedding_size, hidden_size = hidden_size,\n",
        "              bidirectional=bidirectional,\n",
        "              num_layers=num_layers,\n",
        "              dropout = dropout,\n",
        "              batch_first=True,\n",
        "          )\n",
        "    )\n",
        "    self.out = nn.Sequential(\n",
        "        nn.Linear(hidden_size * 2, out_features=output_size)\n",
        "    )\n",
        "\n",
        "  def forward(self, text, text_lengths):\n",
        "    embedded = self.embedding(text)\n",
        "    packed_embedded = nn.utils.rnn.pack_padded_sequence(\n",
        "            embedded, text_lengths, batch_first=True, enforce_sorted=False\n",
        "    )\n",
        "    packed_output, (hidden, cell) = self.lstm(packed_embedded)\n",
        "    if self.lstm[0].bidirectional:\n",
        "      hidden = torch.cat([hidden[-1], hidden[-2]], dim=-1)\n",
        "    else:\n",
        "      hidden = hidden[-1]\n",
        "    return self.out(hidden)"
      ]
    },
    {
      "cell_type": "markdown",
      "metadata": {
        "id": "hErQ6dYwja8U"
      },
      "source": [
        "In the following code cell we are going to create a 2 model instances of the `FakeRealNewsBiLSTM` model.\n",
        "\n",
        "1. `no_embedding_model` - the model that will not use pretrained word embeddings.\n",
        "2. `embedding_model` - the model that will use custom pretrained word embbedings"
      ]
    },
    {
      "cell_type": "code",
      "execution_count": 42,
      "metadata": {
        "id": "_k2gvfk0jjU-",
        "colab": {
          "base_uri": "https://localhost:8080/"
        },
        "outputId": "a6e2c721-0c90-4363-b23e-5f22ae51293c"
      },
      "outputs": [
        {
          "output_type": "execute_result",
          "data": {
            "text/plain": [
              "FakeRealNewsBiLSTM(\n",
              "  (embedding): Sequential(\n",
              "    (0): Embedding(6547, 128, padding_idx=1)\n",
              "  )\n",
              "  (lstm): Sequential(\n",
              "    (0): LSTM(128, 256, num_layers=2, batch_first=True, dropout=0.5, bidirectional=True)\n",
              "  )\n",
              "  (out): Sequential(\n",
              "    (0): Linear(in_features=512, out_features=1, bias=True)\n",
              "  )\n",
              ")"
            ]
          },
          "metadata": {},
          "execution_count": 42
        }
      ],
      "source": [
        "INPUT_DIM = len(stoi)\n",
        "EMBEDDING_DIM = 128\n",
        "HIDDEN_DIM = 256\n",
        "OUTPUT_DIM = 1 if len(labels_dict) == 2 else len(labels_dict)\n",
        "N_LAYERS = 2\n",
        "BIDIRECTIONAL = True\n",
        "DROPOUT = 0.5\n",
        "PAD_IDX = stoi['[pad]']\n",
        "\n",
        "\n",
        "no_embedding_model = FakeRealNewsBiLSTM(\n",
        "              INPUT_DIM,\n",
        "              EMBEDDING_DIM,\n",
        "              HIDDEN_DIM,\n",
        "              OUTPUT_DIM,\n",
        "              N_LAYERS,\n",
        "              BIDIRECTIONAL,\n",
        "              DROPOUT,\n",
        "              PAD_IDX\n",
        ").to(device)\n",
        "\n",
        "embedding_model = FakeRealNewsBiLSTM(\n",
        "              INPUT_DIM,\n",
        "              EMBEDDING_DIM,\n",
        "              HIDDEN_DIM,\n",
        "              OUTPUT_DIM,\n",
        "              N_LAYERS,\n",
        "              BIDIRECTIONAL,\n",
        "              DROPOUT,\n",
        "              PAD_IDX\n",
        ").to(device)\n",
        "\n",
        "embedding_model"
      ]
    },
    {
      "cell_type": "markdown",
      "metadata": {
        "id": "5fQgn0-IQ4kd"
      },
      "source": [
        "### Model Parameters\n",
        "\n",
        "In the following code cell we are going to count parameters of each model achitecture and visualize it using a table."
      ]
    },
    {
      "cell_type": "code",
      "execution_count": 43,
      "metadata": {
        "id": "cEaTKAgDQwxX",
        "colab": {
          "base_uri": "https://localhost:8080/"
        },
        "outputId": "e0eab91c-51af-4c62-8d1a-398a4cde2bf0"
      },
      "outputs": [
        {
          "output_type": "stream",
          "name": "stdout",
          "text": [
            "Models Parameters\n",
            "+--------------------+--------------+------------------+\n",
            "| MODEL              | TOTAL PARAMS | TRAINABLE PARAMS |\n",
            "+--------------------+--------------+------------------+\n",
            "| embedding_model    |    3,206,017 |        3,206,017 |\n",
            "| no_embedding_model |    3,206,017 |        3,206,017 |\n",
            "+--------------------+--------------+------------------+\n"
          ]
        }
      ],
      "source": [
        "def count_trainable_params(model):\n",
        "  return f\"{sum(p.numel() for p in model.parameters()):,}\", f\"{sum(p.numel() for p in model.parameters() if p.requires_grad):,}\"\n",
        "\n",
        "columns = [\"MODEL\", \"TOTAL PARAMS\", \"TRAINABLE PARAMS\"]\n",
        "data = [\n",
        "    [\"embedding_model\", *count_trainable_params(embedding_model)],\n",
        "    [\"no_embedding_model\", *count_trainable_params(no_embedding_model)],\n",
        "]\n",
        "tabulate_data(columns, data, title=\"Models Parameters\")"
      ]
    },
    {
      "cell_type": "markdown",
      "metadata": {
        "id": "RjvZJEiAR5vc"
      },
      "source": [
        "### Loading Embedding Vectors\n",
        "\n",
        "In the following code cells we are going to load the pretained custom vectors in our embedding layer to our models. We are going to load the embedding vectors tha suits our data using the\n",
        "\n",
        "``model.embedding[0].weight.data.copy_(EMBEDDING_MATRIX)``\n",
        "\n",
        "> Note that we are only going to load for the model name `embedding_model` so that we can do the comparison well."
      ]
    },
    {
      "cell_type": "code",
      "execution_count": 44,
      "metadata": {
        "colab": {
          "base_uri": "https://localhost:8080/"
        },
        "id": "HpzrHY1-oYTq",
        "outputId": "7be430ef-321d-4655-c230-8840d59e8602"
      },
      "outputs": [
        {
          "output_type": "execute_result",
          "data": {
            "text/plain": [
              "tensor([[ 0.0000,  0.0000,  0.0000,  ...,  0.0000,  0.0000,  0.0000],\n",
              "        [ 0.0000,  0.0000,  0.0000,  ...,  0.0000,  0.0000,  0.0000],\n",
              "        [ 0.0000,  0.0000,  0.0000,  ...,  0.0000,  0.0000,  0.0000],\n",
              "        ...,\n",
              "        [-1.2408,  1.2648, -0.2129,  ..., -0.7030,  1.2043, -1.5764],\n",
              "        [-1.5859,  0.4090,  1.6762,  ..., -1.5110,  0.4695,  0.0798],\n",
              "        [ 0.0000,  0.0000,  0.0000,  ...,  0.0000,  0.0000,  0.0000]],\n",
              "       device='cuda:0')"
            ]
          },
          "metadata": {},
          "execution_count": 44
        }
      ],
      "source": [
        "embedding_model.embedding[0].weight.data.copy_(EMBEDDING_MATRIX)"
      ]
    },
    {
      "cell_type": "markdown",
      "metadata": {
        "id": "SQtqn1-Potnf"
      },
      "source": [
        "### Optimizer and Criterion\n",
        "In the following code cell we are going to define the ``optimizers``\n",
        "for all the 2 models and a two loss functions. For the ``optimizer`` we are going to use the ``Adam`` optimizer with default parameters and for the criterion we are going to use the ``BCEWithLogitsLoss()`` function since this is a binary-class classification."
      ]
    },
    {
      "cell_type": "code",
      "execution_count": 45,
      "metadata": {
        "id": "Gkl6fP8hoX6t"
      },
      "outputs": [],
      "source": [
        "embedding_optimizer = torch.optim.Adam(embedding_model.parameters())\n",
        "embedding_criterion = nn.BCEWithLogitsLoss().to(device)\n",
        "\n",
        "no_embedding_optimizer = torch.optim.Adam(no_embedding_model.parameters())\n",
        "no_embedding_criterion = nn.BCEWithLogitsLoss().to(device)"
      ]
    },
    {
      "cell_type": "markdown",
      "metadata": {
        "id": "dGhXxngLS4gU"
      },
      "source": [
        "In the following code cell we are going to create our ``categorical_accuracy`` function, which is a function that calulates the the catecorical accuracy between the predicted labels and real labels."
      ]
    },
    {
      "cell_type": "code",
      "execution_count": 46,
      "metadata": {
        "id": "vs-y8LZvR5HO"
      },
      "outputs": [],
      "source": [
        "def binary_accuracy(y_preds, y_true):\n",
        "  rounded_preds = torch.round(torch.sigmoid(y_preds))\n",
        "  correct = (rounded_preds == y_true).float()\n",
        "  return correct.sum() / len(correct)"
      ]
    },
    {
      "cell_type": "markdown",
      "metadata": {
        "id": "BdWa1ekITP3s"
      },
      "source": [
        "### Training and evaluation functions.\n",
        "\n",
        "In the following code cell we are going to create our ``train`` and ``evalute`` functions:"
      ]
    },
    {
      "cell_type": "code",
      "execution_count": 47,
      "metadata": {
        "id": "q33IueZvR5Dh"
      },
      "outputs": [],
      "source": [
        "def train(model, iterator, optimizer, criterion):\n",
        "  epoch_loss,epoch_acc = 0, 0\n",
        "  model.train()\n",
        "  for batch in iterator:\n",
        "    y, X = batch\n",
        "    X = X.to(device)\n",
        "    y = y.to(device)\n",
        "    lengths = torch.tensor([len(i) for i in X])\n",
        "    optimizer.zero_grad()\n",
        "\n",
        "    predictions = model(X, lengths).squeeze(1)\n",
        "    loss = criterion(predictions, y)\n",
        "    acc = binary_accuracy(predictions, y)\n",
        "    loss.backward()\n",
        "    optimizer.step()\n",
        "    epoch_loss += loss.item()\n",
        "    epoch_acc += acc.item()\n",
        "  return epoch_loss / len(iterator), epoch_acc / len(iterator)\n",
        "\n",
        "def evaluate(model, iterator, criterion):\n",
        "  epoch_loss,epoch_acc = 0, 0\n",
        "  model.eval()\n",
        "  with torch.no_grad():\n",
        "    for batch in iterator:\n",
        "      y, X = batch\n",
        "      X = X.to(device)\n",
        "      y = y.to(device)\n",
        "      lengths = torch.tensor([len(i) for i in X])\n",
        "      predictions = model(X, lengths).squeeze(1)\n",
        "      loss = criterion(predictions, y)\n",
        "      acc = binary_accuracy(predictions, y)\n",
        "      epoch_loss += loss.item()\n",
        "      epoch_acc += acc.item()\n",
        "  return epoch_loss / len(iterator), epoch_acc / len(iterator)"
      ]
    },
    {
      "cell_type": "markdown",
      "metadata": {
        "id": "qla6TCZhT2uY"
      },
      "source": [
        "### Training Loop.\n",
        "\n",
        "When training the model we are going to train each model surperately. And we are also going to keep on tracking the training history of each model. The following `History` class is a data structure for our training history."
      ]
    },
    {
      "cell_type": "code",
      "execution_count": 48,
      "metadata": {
        "id": "WvGrRcjHqb4_"
      },
      "outputs": [],
      "source": [
        "class History:\n",
        "  def __init__(self):\n",
        "    self.train_losses = list()\n",
        "    self.train_acc = list()\n",
        "    self.epoch_train_time = list()\n",
        "    self.val_losses = list()\n",
        "    self.val_acc = list()\n",
        "\n",
        "  def add(self, train_loss:float, train_acc:float, val_loss:float, val_acc:float, elt:float):\n",
        "    self.train_losses.append(train_loss)\n",
        "    self.val_losses.append(val_loss)\n",
        "    self.train_acc.append(train_acc)\n",
        "    self.val_acc.append(val_acc)\n",
        "    self.epoch_train_time.append(elt)"
      ]
    },
    {
      "cell_type": "markdown",
      "metadata": {
        "id": "MSDSLJXDqfki"
      },
      "source": [
        "### 1. Training the `LSTM` model\n",
        "\n",
        "The folloing code cell will run a training loop for `10` epochs."
      ]
    },
    {
      "cell_type": "code",
      "execution_count": 49,
      "metadata": {
        "id": "UREsiOsIrGFm"
      },
      "outputs": [],
      "source": [
        "def run_train_loop(model, model_name, train_loader, val_loader,  epochs=10, optimizer=None, criterion=None):\n",
        "  best_valid_loss = float('inf')\n",
        "  last_saved_epoch = 1\n",
        "  history = History()\n",
        "  training_start = time.time()\n",
        "  for epoch in range(epochs):\n",
        "    start = time.time()\n",
        "    train_loss, train_acc = train(model, train_loader, optimizer, criterion)\n",
        "    valid_loss, valid_acc = evaluate(model, val_loader, criterion)\n",
        "    title = f\"EPOCH: {epoch+1:02}/{epochs:02} {'saving best model...' if valid_loss < best_valid_loss else 'not saving...'}\"\n",
        "    if valid_loss < best_valid_loss:\n",
        "        best_valid_loss = valid_loss\n",
        "        torch.save(model.state_dict(), model_name)\n",
        "        last_saved_epoch = epoch+1\n",
        "    end = time.time()\n",
        "    history.add(train_loss, train_acc, valid_loss, valid_acc, end-start)\n",
        "    data = [\n",
        "        [\"Training\", f'{train_loss:.3f}', f'{train_acc:.3f}', f\"{hms_string(end - start)}\" ],\n",
        "        [\"Validation\", f'{valid_loss:.3f}', f'{valid_acc:.3f}', \"\" ],\n",
        "    ]\n",
        "    columns = [\"CATEGORY\", \"LOSS\", \"ACCURACY\", \"ETA\"]\n",
        "    tabulate_data(columns, data, title)\n",
        "\n",
        "  training_end = time.time()\n",
        "  return history, training_end - training_start, last_saved_epoch"
      ]
    },
    {
      "cell_type": "code",
      "execution_count": 50,
      "metadata": {
        "colab": {
          "base_uri": "https://localhost:8080/"
        },
        "id": "LSU0Kxtmrteh",
        "outputId": "bc139977-16b2-425f-c5f1-d6d2d6df073d"
      },
      "outputs": [
        {
          "output_type": "stream",
          "name": "stdout",
          "text": [
            "EPOCH: 01/10 saving best model...\n",
            "+------------+-------+----------+------------+\n",
            "| CATEGORY   |  LOSS | ACCURACY |        ETA |\n",
            "+------------+-------+----------+------------+\n",
            "| Training   | 0.180 |    0.924 | 0:00:33.08 |\n",
            "| Validation | 0.123 |    0.953 |            |\n",
            "+------------+-------+----------+------------+\n",
            "EPOCH: 02/10 not saving...\n",
            "+------------+-------+----------+------------+\n",
            "| CATEGORY   |  LOSS | ACCURACY |        ETA |\n",
            "+------------+-------+----------+------------+\n",
            "| Training   | 0.081 |    0.970 | 0:00:29.08 |\n",
            "| Validation | 0.151 |    0.949 |            |\n",
            "+------------+-------+----------+------------+\n",
            "EPOCH: 03/10 not saving...\n",
            "+------------+-------+----------+------------+\n",
            "| CATEGORY   |  LOSS | ACCURACY |        ETA |\n",
            "+------------+-------+----------+------------+\n",
            "| Training   | 0.048 |    0.983 | 0:00:27.02 |\n",
            "| Validation | 0.140 |    0.957 |            |\n",
            "+------------+-------+----------+------------+\n",
            "EPOCH: 04/10 saving best model...\n",
            "+------------+-------+----------+------------+\n",
            "| CATEGORY   |  LOSS | ACCURACY |        ETA |\n",
            "+------------+-------+----------+------------+\n",
            "| Training   | 0.075 |    0.974 | 0:00:27.01 |\n",
            "| Validation | 0.115 |    0.962 |            |\n",
            "+------------+-------+----------+------------+\n",
            "EPOCH: 05/10 not saving...\n",
            "+------------+-------+----------+------------+\n",
            "| CATEGORY   |  LOSS | ACCURACY |        ETA |\n",
            "+------------+-------+----------+------------+\n",
            "| Training   | 0.029 |    0.990 | 0:00:27.52 |\n",
            "| Validation | 0.116 |    0.967 |            |\n",
            "+------------+-------+----------+------------+\n",
            "EPOCH: 06/10 not saving...\n",
            "+------------+-------+----------+------------+\n",
            "| CATEGORY   |  LOSS | ACCURACY |        ETA |\n",
            "+------------+-------+----------+------------+\n",
            "| Training   | 0.015 |    0.995 | 0:00:27.15 |\n",
            "| Validation | 0.130 |    0.967 |            |\n",
            "+------------+-------+----------+------------+\n",
            "EPOCH: 07/10 not saving...\n",
            "+------------+-------+----------+------------+\n",
            "| CATEGORY   |  LOSS | ACCURACY |        ETA |\n",
            "+------------+-------+----------+------------+\n",
            "| Training   | 0.011 |    0.996 | 0:00:27.15 |\n",
            "| Validation | 0.143 |    0.967 |            |\n",
            "+------------+-------+----------+------------+\n",
            "EPOCH: 08/10 not saving...\n",
            "+------------+-------+----------+------------+\n",
            "| CATEGORY   |  LOSS | ACCURACY |        ETA |\n",
            "+------------+-------+----------+------------+\n",
            "| Training   | 0.007 |    0.998 | 0:00:27.21 |\n",
            "| Validation | 0.154 |    0.967 |            |\n",
            "+------------+-------+----------+------------+\n",
            "EPOCH: 09/10 not saving...\n",
            "+------------+-------+----------+------------+\n",
            "| CATEGORY   |  LOSS | ACCURACY |        ETA |\n",
            "+------------+-------+----------+------------+\n",
            "| Training   | 0.005 |    0.998 | 0:00:30.35 |\n",
            "| Validation | 0.170 |    0.971 |            |\n",
            "+------------+-------+----------+------------+\n",
            "EPOCH: 10/10 not saving...\n",
            "+------------+-------+----------+------------+\n",
            "| CATEGORY   |  LOSS | ACCURACY |        ETA |\n",
            "+------------+-------+----------+------------+\n",
            "| Training   | 0.007 |    0.998 | 0:00:31.40 |\n",
            "| Validation | 0.142 |    0.968 |            |\n",
            "+------------+-------+----------+------------+\n"
          ]
        }
      ],
      "source": [
        "EPOCHS = 10\n",
        "\n",
        "embedding_history, embedding_elt, embedding_last_saved_epoch = run_train_loop(\n",
        "    embedding_model, 'embedding_model_lstm.pt', train_loader, val_loader, EPOCHS,\n",
        "    optimizer=embedding_optimizer, criterion=embedding_criterion\n",
        ")"
      ]
    },
    {
      "cell_type": "code",
      "source": [
        "no_embedding_history, no_embedding_elt, no_embedding_last_saved_epoch = run_train_loop(\n",
        "    no_embedding_model, 'no_embedding_model_lstm.pt', train_loader, val_loader, EPOCHS,\n",
        "    optimizer=no_embedding_optimizer, criterion=no_embedding_criterion\n",
        ")"
      ],
      "metadata": {
        "id": "sYxDc33hCtjW",
        "colab": {
          "base_uri": "https://localhost:8080/"
        },
        "outputId": "99b4fab5-0512-4bfa-e377-69b0913f19a0"
      },
      "execution_count": 51,
      "outputs": [
        {
          "output_type": "stream",
          "name": "stdout",
          "text": [
            "EPOCH: 01/10 saving best model...\n",
            "+------------+-------+----------+------------+\n",
            "| CATEGORY   |  LOSS | ACCURACY |        ETA |\n",
            "+------------+-------+----------+------------+\n",
            "| Training   | 0.175 |    0.927 | 0:00:38.89 |\n",
            "| Validation | 0.117 |    0.955 |            |\n",
            "+------------+-------+----------+------------+\n",
            "EPOCH: 02/10 saving best model...\n",
            "+------------+-------+----------+------------+\n",
            "| CATEGORY   |  LOSS | ACCURACY |        ETA |\n",
            "+------------+-------+----------+------------+\n",
            "| Training   | 0.081 |    0.971 | 0:00:27.30 |\n",
            "| Validation | 0.102 |    0.965 |            |\n",
            "+------------+-------+----------+------------+\n",
            "EPOCH: 03/10 not saving...\n",
            "+------------+-------+----------+------------+\n",
            "| CATEGORY   |  LOSS | ACCURACY |        ETA |\n",
            "+------------+-------+----------+------------+\n",
            "| Training   | 0.051 |    0.983 | 0:00:27.09 |\n",
            "| Validation | 0.103 |    0.964 |            |\n",
            "+------------+-------+----------+------------+\n",
            "EPOCH: 04/10 not saving...\n",
            "+------------+-------+----------+------------+\n",
            "| CATEGORY   |  LOSS | ACCURACY |        ETA |\n",
            "+------------+-------+----------+------------+\n",
            "| Training   | 0.029 |    0.991 | 0:00:27.57 |\n",
            "| Validation | 0.104 |    0.968 |            |\n",
            "+------------+-------+----------+------------+\n",
            "EPOCH: 05/10 not saving...\n",
            "+------------+-------+----------+------------+\n",
            "| CATEGORY   |  LOSS | ACCURACY |        ETA |\n",
            "+------------+-------+----------+------------+\n",
            "| Training   | 0.020 |    0.993 | 0:00:27.59 |\n",
            "| Validation | 0.127 |    0.965 |            |\n",
            "+------------+-------+----------+------------+\n",
            "EPOCH: 06/10 not saving...\n",
            "+------------+-------+----------+------------+\n",
            "| CATEGORY   |  LOSS | ACCURACY |        ETA |\n",
            "+------------+-------+----------+------------+\n",
            "| Training   | 0.013 |    0.996 | 0:00:27.14 |\n",
            "| Validation | 0.141 |    0.970 |            |\n",
            "+------------+-------+----------+------------+\n",
            "EPOCH: 07/10 not saving...\n",
            "+------------+-------+----------+------------+\n",
            "| CATEGORY   |  LOSS | ACCURACY |        ETA |\n",
            "+------------+-------+----------+------------+\n",
            "| Training   | 0.010 |    0.997 | 0:00:28.45 |\n",
            "| Validation | 0.143 |    0.969 |            |\n",
            "+------------+-------+----------+------------+\n",
            "EPOCH: 08/10 not saving...\n",
            "+------------+-------+----------+------------+\n",
            "| CATEGORY   |  LOSS | ACCURACY |        ETA |\n",
            "+------------+-------+----------+------------+\n",
            "| Training   | 0.009 |    0.997 | 0:00:27.28 |\n",
            "| Validation | 0.144 |    0.966 |            |\n",
            "+------------+-------+----------+------------+\n",
            "EPOCH: 09/10 not saving...\n",
            "+------------+-------+----------+------------+\n",
            "| CATEGORY   |  LOSS | ACCURACY |        ETA |\n",
            "+------------+-------+----------+------------+\n",
            "| Training   | 0.008 |    0.997 | 0:00:28.81 |\n",
            "| Validation | 0.141 |    0.968 |            |\n",
            "+------------+-------+----------+------------+\n",
            "EPOCH: 10/10 not saving...\n",
            "+------------+-------+----------+------------+\n",
            "| CATEGORY   |  LOSS | ACCURACY |        ETA |\n",
            "+------------+-------+----------+------------+\n",
            "| Training   | 0.017 |    0.994 | 0:00:27.23 |\n",
            "| Validation | 0.113 |    0.968 |            |\n",
            "+------------+-------+----------+------------+\n"
          ]
        }
      ]
    },
    {
      "cell_type": "markdown",
      "metadata": {
        "id": "IB7u_gQL8gDO"
      },
      "source": [
        "Next we are going to check the the last saved epoch and the total training time the models."
      ]
    },
    {
      "cell_type": "code",
      "execution_count": 52,
      "metadata": {
        "id": "D5w1gLGV8lfj",
        "colab": {
          "base_uri": "https://localhost:8080/"
        },
        "outputId": "c8ee8ea6-35a6-4f5d-c96c-999c7c57891a"
      },
      "outputs": [
        {
          "output_type": "stream",
          "name": "stdout",
          "text": [
            "MODELS' TOTAL TRAINING TIME AND LAST SAVED EPOCH\n",
            "+------------------------------+--------------+------------------+---------------------+\n",
            "| MODEL NAME                   | TOTAL EPOCHS | LAST SAVED EPOCH | TOTAL TRAINING TIME |\n",
            "+------------------------------+--------------+------------------+---------------------+\n",
            "| with pretrained embedding    |           10 |                4 |          0:04:46.99 |\n",
            "| without pretrained embedding |           10 |                2 |          0:04:47.36 |\n",
            "+------------------------------+--------------+------------------+---------------------+\n"
          ]
        }
      ],
      "source": [
        "rows = [\n",
        "      ['with pretrained embedding', f'{EPOCHS}',f'{embedding_last_saved_epoch}', f'{hms_string(embedding_elt)}'],\n",
        "      ['without pretrained embedding', f'{EPOCHS}',f'{no_embedding_last_saved_epoch}', f'{hms_string(no_embedding_elt)}']\n",
        "]\n",
        "tabulate_data([\"MODEL NAME\", \"TOTAL EPOCHS\", \"LAST SAVED EPOCH\", \"TOTAL TRAINING TIME\"],\n",
        "              rows, \"MODELS' TOTAL TRAINING TIME AND LAST SAVED EPOCH\")"
      ]
    },
    {
      "cell_type": "markdown",
      "metadata": {
        "id": "Qnp3LeL423tu"
      },
      "source": [
        "### Training History\n",
        "\n",
        "In the following code cells we will be visualizing the training that we observed during training the model. The first plot that we will plot is about the training time that the model took to complete each epoch."
      ]
    },
    {
      "cell_type": "code",
      "execution_count": 53,
      "metadata": {
        "id": "bveqqt9u23cD",
        "colab": {
          "base_uri": "https://localhost:8080/",
          "height": 269
        },
        "outputId": "675b2066-4c40-4dca-fd3e-8550a1fc4df0"
      },
      "outputs": [
        {
          "output_type": "display_data",
          "data": {
            "text/plain": [
              "<Figure size 400x240 with 1 Axes>"
            ],
            "image/png": "[encoded data removed]"
          },
          "metadata": {}
        }
      ],
      "source": [
        "epochs = np.arange(1, EPOCHS + 1)\n",
        "plt.figure(figsize=(5, 3), dpi=80)\n",
        "plt.plot(epochs, embedding_history.epoch_train_time, \"x-\", markerfacecolor = \"#185519\", color='#185519', label='with pretrained')\n",
        "plt.plot(epochs, no_embedding_history.epoch_train_time, \"o-\", markerfacecolor = \"#0B2F9F\", color='#0B2F9F', label='without pretrained')\n",
        "plt.title(\"EPOCH TRAINING TIME\", color=\"k\", fontsize=12)\n",
        "plt.xlabel(\"epochs\", fontsize=12)\n",
        "plt.ylabel(\"time(s)\", fontsize=12)\n",
        "\n",
        "plt.legend(fontsize=10)\n",
        "plt.minorticks_on()\n",
        "plt.grid(which='major', color='gray', linestyle='-', linewidth=0.5)\n",
        "plt.grid(which='minor', color='#7ED4AD', linestyle='--', linewidth=0.3)\n",
        "\n",
        "plt.show()"
      ]
    },
    {
      "cell_type": "markdown",
      "metadata": {
        "id": "Q17ADz7G4Tda"
      },
      "source": [
        "Next we are going to visualize the training and validation loss using a line graph for each model that was observed during model training."
      ]
    },
    {
      "cell_type": "code",
      "execution_count": 73,
      "metadata": {
        "id": "oCeALBv-4R4b",
        "colab": {
          "base_uri": "https://localhost:8080/",
          "height": 269
        },
        "outputId": "29f7ae38-4748-4513-9bb1-72345899a62f"
      },
      "outputs": [
        {
          "output_type": "display_data",
          "data": {
            "text/plain": [
              "<Figure size 400x240 with 1 Axes>"
            ],
            "image/png": "[encoded data removed]"
          },
          "metadata": {}
        }
      ],
      "source": [
        "epochs = np.arange(1, EPOCHS + 1)\n",
        "plt.figure(figsize=(5, 3), dpi=80)\n",
        "plt.plot(epochs, embedding_history.train_losses, color='#48CFCB', label='training with pretrained')\n",
        "plt.plot(epochs, embedding_history.val_losses, color='#424242', label='validation with pretrained')\n",
        "plt.plot(epochs, no_embedding_history.train_losses, color='#7695FF', label='training without pretrained')\n",
        "plt.plot(epochs, no_embedding_history.val_losses, color='#E85C0D', label='validation without pretrained')\n",
        "\n",
        "plt.title(\"EPOCH TRAINING AND VALIDATION LOSSES\", color=\"k\", fontsize=12)\n",
        "plt.xlabel(\"epochs\", fontsize=12)\n",
        "plt.ylabel(\"loss\", fontsize=12)\n",
        "\n",
        "plt.legend(fontsize=10, bbox_to_anchor=(1, 1), loc='upper left')\n",
        "plt.minorticks_on()\n",
        "plt.grid(which='major', color='gray', linestyle='-', linewidth=0.5)\n",
        "plt.grid(which='minor', color='#7ED4AD', linestyle='--', linewidth=0.3)\n",
        "\n",
        "plt.show()"
      ]
    },
    {
      "cell_type": "markdown",
      "metadata": {
        "id": "zcky_pZN4i1J"
      },
      "source": [
        "Next we are going to visualize the training and validation accuracies using a line graph for each model that was observed during model training."
      ]
    },
    {
      "cell_type": "code",
      "execution_count": 74,
      "metadata": {
        "id": "QnEjR0Mu4mUe",
        "colab": {
          "base_uri": "https://localhost:8080/",
          "height": 269
        },
        "outputId": "91700fd7-7f0d-4b10-f814-5ce8bad53034"
      },
      "outputs": [
        {
          "output_type": "display_data",
          "data": {
            "text/plain": [
              "<Figure size 400x240 with 1 Axes>"
            ],
            "image/png": "[encoded data removed]"
          },
          "metadata": {}
        }
      ],
      "source": [
        "epochs = np.arange(1, EPOCHS + 1)\n",
        "plt.figure(figsize=(5, 3), dpi=80)\n",
        "plt.plot(epochs, [acc * 100 for acc in embedding_history.train_acc], color='#7C00FE', label='training with pretrained')\n",
        "plt.plot(epochs, [acc * 100 for acc in embedding_history.val_acc], color='#FFAF00', label='validation with pretrained')\n",
        "\n",
        "plt.plot(epochs, [acc * 100 for acc in no_embedding_history.train_acc], color='#F5004F', label='training without pretrained')\n",
        "plt.plot(epochs, [acc * 100 for acc in no_embedding_history.val_acc], color='#914F1E', label='validation without pretrained')\n",
        "\n",
        "plt.title(\"EPOCH TRAINING AND VALIDATION ACCURACIES\", color=\"k\", fontsize=12)\n",
        "plt.xlabel(\"epochs\", fontsize=12)\n",
        "plt.ylabel(\"accuracy(%)\", fontsize=12)\n",
        "plt.legend(fontsize=10,  bbox_to_anchor=(1, 1), loc='upper left')\n",
        "\n",
        "plt.minorticks_on()\n",
        "plt.grid(which='major', color='gray', linestyle='-', linewidth=0.5)\n",
        "plt.grid(which='minor', color='#7ED4AD', linestyle='--', linewidth=0.3)\n",
        "\n",
        "plt.show()"
      ]
    },
    {
      "cell_type": "markdown",
      "metadata": {
        "id": "ilgPdmFdZZWC"
      },
      "source": [
        "### Best model evaluations.\n",
        "\n",
        "In the following code cell we are going to evaluate the best saved model for each model achitecture."
      ]
    },
    {
      "cell_type": "code",
      "execution_count": 57,
      "metadata": {
        "id": "NNxKwcnjXmTQ",
        "colab": {
          "base_uri": "https://localhost:8080/"
        },
        "outputId": "962ee2d2-c08c-42d2-f7e0-1ad5dd414c2c"
      },
      "outputs": [
        {
          "output_type": "stream",
          "name": "stdout",
          "text": [
            "MODELS' TEST LOSSES AND ACCURACIES\n",
            "+-------------------------------+-------+----------+\n",
            "| MODEL                         |  LOSS | ACCURACY |\n",
            "+-------------------------------+-------+----------+\n",
            "| without pretrained embeddings | 0.104 |   96.23% |\n",
            "| with pretrained embeddings    | 0.102 |   96.51% |\n",
            "+-------------------------------+-------+----------+\n"
          ]
        }
      ],
      "source": [
        "no_embedding_model.load_state_dict(torch.load('no_embedding_model_lstm.pt'))\n",
        "embedding_model.load_state_dict(torch.load('embedding_model_lstm.pt'))\n",
        "\n",
        "no_embedding_loss, no_embedding_acc = evaluate(no_embedding_model, test_loader, no_embedding_criterion)\n",
        "embedding_loss, embedding_acc = evaluate(embedding_model, test_loader, embedding_criterion)\n",
        "\n",
        "tabulate_data(\n",
        "    ['MODEL', 'LOSS', 'ACCURACY'],\n",
        "    [\n",
        "        ['without pretrained embeddings', f\"{no_embedding_loss:.3f}\", f\"{no_embedding_acc*100:.2f}%\" ],\n",
        "        ['with pretrained embeddings', f\"{embedding_loss:.3f}\", f\"{embedding_acc*100:.2f}%\"  ],\n",
        "    ],\n",
        "    title=\"MODELS' TEST LOSSES AND ACCURACIES\"\n",
        ")"
      ]
    },
    {
      "cell_type": "markdown",
      "metadata": {
        "id": "-BZ4Whjs_oc_"
      },
      "source": [
        "Next we are going to make predictions based with our test dataset for using our model."
      ]
    },
    {
      "cell_type": "code",
      "execution_count": 58,
      "metadata": {
        "id": "oaGtAq15_oaQ"
      },
      "outputs": [],
      "source": [
        "def get_predictions(model, iterator, device):\n",
        "  model.eval()\n",
        "  labels = []\n",
        "  predictions = []\n",
        "  with torch.no_grad():\n",
        "    for (y, X) in iterator:\n",
        "      X = X.to(device)\n",
        "      lengths = torch.tensor([len(i) for i in X])\n",
        "      y_pred = model(X, lengths).squeeze(1)\n",
        "      y_prob = F.sigmoid(y_pred).round().long()\n",
        "      labels.append(y.cpu())\n",
        "      predictions.append(y_prob.cpu())\n",
        "  labels = torch.cat(labels, dim = 0).numpy()\n",
        "  predictions = torch.cat(predictions, dim = 0).numpy()\n",
        "  return labels, predictions\n",
        "\n",
        "with_y_true, with_y_preds = get_predictions(embedding_model, test_loader, device)\n",
        "without_y_true, without_y_preds = get_predictions(no_embedding_model, test_loader, device)"
      ]
    },
    {
      "cell_type": "markdown",
      "metadata": {
        "id": "0yIwNgzk_oXH"
      },
      "source": [
        "### Confusion matrix\n",
        "\n",
        "In the following code cell we are going to plot the `Confusion Matrix` for the model that have custom pretrained word embeddings."
      ]
    },
    {
      "cell_type": "code",
      "execution_count": 60,
      "metadata": {
        "id": "WMmaUiV0_oUZ",
        "colab": {
          "base_uri": "https://localhost:8080/",
          "height": 427
        },
        "outputId": "f4141b2d-1c9f-49c0-8849-b06f63ca1775"
      },
      "outputs": [
        {
          "output_type": "display_data",
          "data": {
            "text/plain": [
              "<Figure size 500x500 with 2 Axes>"
            ],
            "image/png": "[encoded data removed]"
          },
          "metadata": {}
        }
      ],
      "source": [
        "plot_complicated_confusion_matrix(with_y_true, with_y_preds,\n",
        "  labels_dict.keys(), fontsize=8, figsize=(5, 5), title=\"CM\"\n",
        ")"
      ]
    },
    {
      "cell_type": "markdown",
      "source": [
        "In the following code cell we are going to plot the `Confusion Matrix` for the model without custom pretrained word embeddings."
      ],
      "metadata": {
        "id": "8VyKlbjRL5Lj"
      }
    },
    {
      "cell_type": "code",
      "source": [
        "plot_complicated_confusion_matrix(without_y_true, without_y_preds,\n",
        "  labels_dict.keys(), fontsize=8, figsize=(5, 5), title=\"CM\"\n",
        ")"
      ],
      "metadata": {
        "id": "muX3BDW0LxjN",
        "colab": {
          "base_uri": "https://localhost:8080/",
          "height": 427
        },
        "outputId": "890ccfe5-c73e-4a3b-e47f-d16670db8886"
      },
      "execution_count": 61,
      "outputs": [
        {
          "output_type": "display_data",
          "data": {
            "text/plain": [
              "<Figure size 500x500 with 2 Axes>"
            ],
            "image/png": "[encoded data removed]"
          },
          "metadata": {}
        }
      ]
    },
    {
      "cell_type": "markdown",
      "metadata": {
        "id": "duRO_SARAcBw"
      },
      "source": [
        "### Classification Report\n",
        "\n",
        "Next we are going to plot the classification report of our model based on the test dataset. For our two models, the one that has custom pretrained word embeddings and the one that doesn't have."
      ]
    },
    {
      "cell_type": "code",
      "execution_count": 63,
      "metadata": {
        "id": "Hfmh-j6xAqzr",
        "colab": {
          "base_uri": "https://localhost:8080/",
          "height": 408
        },
        "outputId": "ef4b9235-0d9f-4fc8-d9a0-7adc55fd2449"
      },
      "outputs": [
        {
          "output_type": "display_data",
          "data": {
            "text/plain": [
              "<Figure size 800x400 with 2 Axes>"
            ],
            "image/png": "[encoded data removed]"
          },
          "metadata": {}
        }
      ],
      "source": [
        "fig, ax = plot_classification_report(\n",
        "    without_y_true, without_y_preds,\n",
        "    title=\"CR\",\n",
        "    figsize=(10, 5), dpi=80,\n",
        "    target_names = labels_dict.keys()\n",
        "    )"
      ]
    },
    {
      "cell_type": "code",
      "source": [
        "fig, ax = plot_classification_report(\n",
        "    with_y_true, with_y_preds,\n",
        "    title=\"CR\",\n",
        "    figsize=(10, 5), dpi=80,\n",
        "    target_names = labels_dict.keys()\n",
        "    )"
      ],
      "metadata": {
        "id": "m_80x2IsMjdh",
        "colab": {
          "base_uri": "https://localhost:8080/",
          "height": 408
        },
        "outputId": "673c797d-ade2-4d13-91f3-7da0c5b7cd2d"
      },
      "execution_count": 62,
      "outputs": [
        {
          "output_type": "display_data",
          "data": {
            "text/plain": [
              "<Figure size 800x400 with 2 Axes>"
            ],
            "image/png": "[encoded data removed]"
          },
          "metadata": {}
        }
      ]
    },
    {
      "cell_type": "markdown",
      "metadata": {
        "id": "Ta2Ie097ZtPQ"
      },
      "source": [
        "### Model Inference\n",
        "\n",
        "In this section we are going to test our modelnif it can make predictions based on the user input.\n",
        "\n",
        "In the following code cell we are going to make predictions with the best model. We will have the function called `inference_preprocess_text` which is a function that process the text for inference."
      ]
    },
    {
      "cell_type": "code",
      "execution_count": 64,
      "metadata": {
        "id": "HeInDyJ9kMH8"
      },
      "outputs": [],
      "source": [
        "def inference_preprocess_text(text, max_len=128, padding=\"pre\"):\n",
        "  assert padding==\"pre\" or padding==\"post\", \"the padding can be either pre or post\"\n",
        "  text_holder = torch.zeros(max_len, dtype=torch.int32) # fixed size tensor of max_len with  = 0\n",
        "  processed_text = torch.tensor(text_pipeline(text), dtype=torch.int32)\n",
        "  pos = min(max_len, len(processed_text))\n",
        "  if padding == \"pre\":\n",
        "    text_holder[:pos] = processed_text[:pos]\n",
        "  else:\n",
        "    text_holder[-pos:] = processed_text[-pos:]\n",
        "  text_list= text_holder.unsqueeze(dim=0)\n",
        "  return text_list"
      ]
    },
    {
      "cell_type": "code",
      "execution_count": 65,
      "metadata": {
        "id": "xroYKDwsZiGm"
      },
      "outputs": [],
      "source": [
        "classes = list(labels_dict.keys())\n",
        "def predict_ai(model, sentence, device):\n",
        "    model.eval()\n",
        "    with torch.no_grad():\n",
        "      tensor = inference_preprocess_text(sentence).to(device)\n",
        "      length = torch.tensor([len(t) for t in tensor])\n",
        "      prob = torch.sigmoid(model(tensor, length).squeeze(0)).cpu().item()\n",
        "      prediction = 1 if prob >= 0.5 else 0\n",
        "      class_name = classes[prediction]\n",
        "      confidence = prob if prediction == 1 else 1 - prob\n",
        "      pred_data = [\n",
        "          [\"class_id\",  prediction],\n",
        "          [\"class_name\",  class_name],\n",
        "          [\"probability\",  round(float(confidence), 3)],\n",
        "      ]\n",
        "      return dict(pred_data)"
      ]
    },
    {
      "cell_type": "markdown",
      "metadata": {
        "id": "wRZQtawkegl1"
      },
      "source": [
        "### Fake From a news Headline"
      ]
    },
    {
      "cell_type": "code",
      "execution_count": 67,
      "metadata": {
        "id": "Py05l1pBd_Z2",
        "colab": {
          "base_uri": "https://localhost:8080/"
        },
        "outputId": "ca3ebee6-109f-4359-e798-827b1fb5f195"
      },
      "outputs": [
        {
          "output_type": "stream",
          "name": "stdout",
          "text": [
            "Fake Headline   Donald Trump Sends Out Embarrassing New Year’s Eve Message; This is Disturbing\n",
            "\n",
            "\n",
            "Prediction Model without Custom Pretrained Embeddings:\n",
            "{'class_id': 1, 'class_name': 'fake', 'probability': 1.0}\n",
            "\n",
            "\n",
            "Prediction Model with Custom Pretrained Embeddings:\n",
            "{'class_id': 1, 'class_name': 'fake', 'probability': 0.999}\n"
          ]
        }
      ],
      "source": [
        "headline = fake.title.values[0]\n",
        "\n",
        "print(\"Fake Headline \", headline)\n",
        "print(\"\\n\\nPrediction Model without Custom Pretrained Embeddings:\")\n",
        "print(predict_ai(no_embedding_model, headline, device=device))\n",
        "print(\"\\n\\nPrediction Model with Custom Pretrained Embeddings:\")\n",
        "print(predict_ai(embedding_model, headline, device=device))"
      ]
    },
    {
      "cell_type": "markdown",
      "source": [
        "### Fake From a news Content"
      ],
      "metadata": {
        "id": "uCs-qDNVNE3M"
      }
    },
    {
      "cell_type": "code",
      "source": [
        "content = fake.text.values[0]\n",
        "\n",
        "print(\"Fake Content \", content)\n",
        "print(\"\\n\\nPrediction Model without Custom Pretrained Embeddings:\")\n",
        "print(predict_ai(no_embedding_model, content, device=device))\n",
        "print(\"\\n\\nPrediction Model with Custom Pretrained Embeddings:\")\n",
        "print(predict_ai(embedding_model, content, device=device))"
      ],
      "metadata": {
        "id": "wE5BbZ4-N6yp",
        "colab": {
          "base_uri": "https://localhost:8080/"
        },
        "outputId": "342bbfb5-d8a8-483c-fe49-a62d8a95d0e2"
      },
      "execution_count": 68,
      "outputs": [
        {
          "output_type": "stream",
          "name": "stdout",
          "text": [
            "Fake Content  Donald Trump just couldn t wish all Americans a Happy New Year and leave it at that. Instead, he had to give a shout out to his enemies, haters and  the very dishonest fake news media.  The former reality show star had just one job to do and he couldn t do it. As our Country rapidly grows stronger and smarter, I want to wish all of my friends, supporters, enemies, haters, and even the very dishonest Fake News Media, a Happy and Healthy New Year,  President Angry Pants tweeted.  2018 will be a great year for America! As our Country rapidly grows stronger and smarter, I want to wish all of my friends, supporters, enemies, haters, and even the very dishonest Fake News Media, a Happy and Healthy New Year. 2018 will be a great year for America!  Donald J. Trump (@realDonaldTrump) December 31, 2017Trump s tweet went down about as welll as you d expect.What kind of president sends a New Year s greeting like this despicable, petty, infantile gibberish? Only Trump! His lack of decency won t even allow him to rise above the gutter long enough to wish the American citizens a happy new year!  Bishop Talbert Swan (@TalbertSwan) December 31, 2017no one likes you  Calvin (@calvinstowell) December 31, 2017Your impeachment would make 2018 a great year for America, but I ll also accept regaining control of Congress.  Miranda Yaver (@mirandayaver) December 31, 2017Do you hear yourself talk? When you have to include that many people that hate you you have to wonder? Why do the they all hate me?  Alan Sandoval (@AlanSandoval13) December 31, 2017Who uses the word Haters in a New Years wish??  Marlene (@marlene399) December 31, 2017You can t just say happy new year?  Koren pollitt (@Korencarpenter) December 31, 2017Here s Trump s New Year s Eve tweet from 2016.Happy New Year to all, including to my many enemies and those who have fought me and lost so badly they just don t know what to do. Love!  Donald J. Trump (@realDonaldTrump) December 31, 2016This is nothing new for Trump. He s been doing this for years.Trump has directed messages to his  enemies  and  haters  for New Year s, Easter, Thanksgiving, and the anniversary of 9/11. pic.twitter.com/4FPAe2KypA  Daniel Dale (@ddale8) December 31, 2017Trump s holiday tweets are clearly not presidential.How long did he work at Hallmark before becoming President?  Steven Goodine (@SGoodine) December 31, 2017He s always been like this . . . the only difference is that in the last few years, his filter has been breaking down.  Roy Schulze (@thbthttt) December 31, 2017Who, apart from a teenager uses the term haters?  Wendy (@WendyWhistles) December 31, 2017he s a fucking 5 year old  Who Knows (@rainyday80) December 31, 2017So, to all the people who voted for this a hole thinking he would change once he got into power, you were wrong! 70-year-old men don t change and now he s a year older.Photo by Andrew Burton/Getty Images.\n",
            "\n",
            "\n",
            "Prediction Model without Custom Pretrained Embeddings:\n",
            "{'class_id': 1, 'class_name': 'fake', 'probability': 1.0}\n",
            "\n",
            "\n",
            "Prediction Model with Custom Pretrained Embeddings:\n",
            "{'class_id': 1, 'class_name': 'fake', 'probability': 0.999}\n"
          ]
        }
      ]
    },
    {
      "cell_type": "markdown",
      "metadata": {
        "id": "DBYZw3NvfGEJ"
      },
      "source": [
        "###  Real News From Headline"
      ]
    },
    {
      "cell_type": "code",
      "execution_count": 70,
      "metadata": {
        "id": "52BZlLjud_Vy",
        "colab": {
          "base_uri": "https://localhost:8080/"
        },
        "outputId": "aab1f679-fa83-4348-953c-2c0b0a6011f4"
      },
      "outputs": [
        {
          "output_type": "stream",
          "name": "stdout",
          "text": [
            "Real Headline  As U.S. budget fight looms, Republicans flip their fiscal script\n",
            "\n",
            "\n",
            "Prediction Model without Custom Pretrained Embeddings:\n",
            "{'class_id': 0, 'class_name': 'true', 'probability': 0.963}\n",
            "\n",
            "\n",
            "Prediction Model with Custom Pretrained Embeddings:\n",
            "{'class_id': 0, 'class_name': 'true', 'probability': 0.999}\n"
          ]
        }
      ],
      "source": [
        "headline = true.title.values[0]\n",
        "\n",
        "print(\"Real Headline \", headline)\n",
        "print(\"\\n\\nPrediction Model without Custom Pretrained Embeddings:\")\n",
        "print(predict_ai(no_embedding_model, headline, device=device))\n",
        "print(\"\\n\\nPrediction Model with Custom Pretrained Embeddings:\")\n",
        "print(predict_ai(embedding_model, headline, device=device))"
      ]
    },
    {
      "cell_type": "markdown",
      "source": [
        "### Real From news Content"
      ],
      "metadata": {
        "id": "5hduICiqOJPn"
      }
    },
    {
      "cell_type": "code",
      "execution_count": 71,
      "metadata": {
        "id": "XyQkc-B0gIoj",
        "colab": {
          "base_uri": "https://localhost:8080/"
        },
        "outputId": "936936bf-5385-47da-c7a3-7ee88d99b410"
      },
      "outputs": [
        {
          "output_type": "stream",
          "name": "stdout",
          "text": [
            "Real Content  WASHINGTON (Reuters) - The head of a conservative Republican faction in the U.S. Congress, who voted this month for a huge expansion of the national debt to pay for tax cuts, called himself a “fiscal conservative” on Sunday and urged budget restraint in 2018. In keeping with a sharp pivot under way among Republicans, U.S. Representative Mark Meadows, speaking on CBS’ “Face the Nation,” drew a hard line on federal spending, which lawmakers are bracing to do battle over in January. When they return from the holidays on Wednesday, lawmakers will begin trying to pass a federal budget in a fight likely to be linked to other issues, such as immigration policy, even as the November congressional election campaigns approach in which Republicans will seek to keep control of Congress. President Donald Trump and his Republicans want a big budget increase in military spending, while Democrats also want proportional increases for non-defense “discretionary” spending on programs that support education, scientific research, infrastructure, public health and environmental protection. “The (Trump) administration has already been willing to say: ‘We’re going to increase non-defense discretionary spending ... by about 7 percent,’” Meadows, chairman of the small but influential House Freedom Caucus, said on the program. “Now, Democrats are saying that’s not enough, we need to give the government a pay raise of 10 to 11 percent. For a fiscal conservative, I don’t see where the rationale is. ... Eventually you run out of other people’s money,” he said. Meadows was among Republicans who voted in late December for their party’s debt-financed tax overhaul, which is expected to balloon the federal budget deficit and add about $1.5 trillion over 10 years to the $20 trillion national debt. “It’s interesting to hear Mark talk about fiscal responsibility,” Democratic U.S. Representative Joseph Crowley said on CBS. Crowley said the Republican tax bill would require the  United States to borrow $1.5 trillion, to be paid off by future generations, to finance tax cuts for corporations and the rich. “This is one of the least ... fiscally responsible bills we’ve ever seen passed in the history of the House of Representatives. I think we’re going to be paying for this for many, many years to come,” Crowley said. Republicans insist the tax package, the biggest U.S. tax overhaul in more than 30 years,  will boost the economy and job growth. House Speaker Paul Ryan, who also supported the tax bill, recently went further than Meadows, making clear in a radio interview that welfare or “entitlement reform,” as the party often calls it, would be a top Republican priority in 2018. In Republican parlance, “entitlement” programs mean food stamps, housing assistance, Medicare and Medicaid health insurance for the elderly, poor and disabled, as well as other programs created by Washington to assist the needy. Democrats seized on Ryan’s early December remarks, saying they showed Republicans would try to pay for their tax overhaul by seeking spending cuts for social programs. But the goals of House Republicans may have to take a back seat to the Senate, where the votes of some Democrats will be needed to approve a budget and prevent a government shutdown. Democrats will use their leverage in the Senate, which Republicans narrowly control, to defend both discretionary non-defense programs and social spending, while tackling the issue of the “Dreamers,” people brought illegally to the country as children. Trump in September put a March 2018 expiration date on the Deferred Action for Childhood Arrivals, or DACA, program, which protects the young immigrants from deportation and provides them with work permits. The president has said in recent Twitter messages he wants funding for his proposed Mexican border wall and other immigration law changes in exchange for agreeing to help the Dreamers. Representative Debbie Dingell told CBS she did not favor linking that issue to other policy objectives, such as wall funding. “We need to do DACA clean,” she said.  On Wednesday, Trump aides will meet with congressional leaders to discuss those issues. That will be followed by a weekend of strategy sessions for Trump and Republican leaders on Jan. 6 and 7, the White House said. Trump was also scheduled to meet on Sunday with Florida Republican Governor Rick Scott, who wants more emergency aid. The House has passed an $81 billion aid package after hurricanes in Florida, Texas and Puerto Rico, and wildfires in California. The package far exceeded the $44 billion requested by the Trump administration. The Senate has not yet voted on the aid. \n",
            "\n",
            "\n",
            "Prediction Model without Custom Pretrained Embeddings:\n",
            "{'class_id': 1, 'class_name': 'fake', 'probability': 1.0}\n",
            "\n",
            "\n",
            "Prediction Model with Custom Pretrained Embeddings:\n",
            "{'class_id': 1, 'class_name': 'fake', 'probability': 0.998}\n"
          ]
        }
      ],
      "source": [
        "content = true.text.values[0]\n",
        "\n",
        "print(\"Real Content \", content)\n",
        "print(\"\\n\\nPrediction Model without Custom Pretrained Embeddings:\")\n",
        "print(predict_ai(no_embedding_model, content, device=device))\n",
        "print(\"\\n\\nPrediction Model with Custom Pretrained Embeddings:\")\n",
        "print(predict_ai(embedding_model, content, device=device))"
      ]
    },
    {
      "cell_type": "code",
      "source": [],
      "metadata": {
        "id": "889Hm92-3ywV"
      },
      "execution_count": null,
      "outputs": []
    }
  ],
  "metadata": {
    "accelerator": "GPU",
    "colab": {
      "provenance": []
    },
    "kernelspec": {
      "display_name": "Python 3",
      "name": "python3"
    },
    "language_info": {
      "name": "python"
    }
  },
  "nbformat": 4,
  "nbformat_minor": 0
}