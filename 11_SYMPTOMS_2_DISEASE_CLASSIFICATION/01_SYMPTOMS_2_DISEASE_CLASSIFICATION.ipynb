{
  "nbformat": 4,
  "nbformat_minor": 0,
  "metadata": {
    "colab": {
      "provenance": [],
      "gpuType": "T4"
    },
    "kernelspec": {
      "name": "python3",
      "display_name": "Python 3"
    },
    "language_info": {
      "name": "python"
    },
    "accelerator": "GPU"
  },
  "cells": [
    {
      "cell_type": "markdown",
      "source": [
        "___\n",
        "\n",
        "**project**: `Symptoms to Disease Classifier (S2DC)`\n",
        "\n",
        "**date**: `2023-04-13`\n",
        "\n",
        "**decription`**: `In this notebook I'm going to create a simple AI classification model using NLP techniquies that will accurately identify the disease based on the description of the symptoms.`\n",
        "\n",
        "**main**: `Natural Language Processing (NLP) pytorch`\n",
        "\n",
        "**programmer**: `crispengari`\n",
        "\n",
        "**architecture**: `BiDirectional Long Short Term Memory [BiLSTM] (torchtext)`\n",
        "\n",
        "**language:** `python`\n",
        "\n",
        "____\n",
        "\n",
        "\n",
        "### Problem Statement\n",
        "\"Most people have certain symptoms and they fail to indentify wether they are sick or not. Sometimes others even ignore the symptoms because they lack knowledge. Using Deep Learning techniquies we want to implement an AI tool that will be able to identify the possible disease based on description of the symptoms by someone who's feeling sick.\"\n",
        "\n",
        "In this project I will create a simple classifiation model that will be able to classify the `disease` based on symptoms from text.\n",
        "\n",
        "### Data\n",
        "The dataset that we going to use in this notebook we be comming from [kaggle](https://www.kaggle.com/datasets/niyarrbarman/symptom2disease).\n",
        "\n",
        "### Model Architecture\n",
        "We are going to use `BiLSTM` in doing `multi-class` classifications of diseases based on the textual description that we are going to get from anyone using the model. We are going to use the following notebook as reference:\n",
        "\n",
        "> [10_MENTAL_HEALTH_CONVERSATION_BOT](https://github.com/CrispenGari/nlp-pytorch/blob/main/10_MENTAL_HEALTH_CONVERSATION_BOT/01_MENTAL_HEALTH_CONVERSATION_BOT.ipynb)\n",
        "\n",
        "### Installing Helper Packages\n",
        "In the following code cell we are going to install the package called `helperfns` that provide us with some usefull helper functions for machine learning."
      ],
      "metadata": {
        "id": "_e0eOlNyp0Mv"
      }
    },
    {
      "cell_type": "code",
      "source": [
        "pip install helperfns -q"
      ],
      "metadata": {
        "id": "AZEmuYO1pSCx"
      },
      "execution_count": 1,
      "outputs": []
    },
    {
      "cell_type": "markdown",
      "source": [
        "#### Imports\n",
        "\n",
        "In  the following code cell we are going to import all the packages that we are going to use throughout this `notebook`"
      ],
      "metadata": {
        "id": "-P5QiqDJtK37"
      }
    },
    {
      "cell_type": "code",
      "source": [
        "import time\n",
        "import json\n",
        "import torch\n",
        "import os\n",
        "import random\n",
        "import torchtext\n",
        "from matplotlib import pyplot as plt\n",
        "from torch import nn\n",
        "from torchtext import data\n",
        "from collections import Counter\n",
        "from torchtext import vocab\n",
        "\n",
        "from helperfns.tables import tabulate_data\n",
        "from helperfns.visualization import plot_complicated_confusion_matrix, plot_simple_confusion_matrix, plot_classification_report\n",
        "from helperfns.utils import hms_string\n",
        "\n",
        "import torch.nn.functional as F\n",
        "import numpy as np\n",
        "import pandas as pd\n",
        "\n",
        "from google.colab import drive, files\n",
        "\n",
        "torchtext.__version__, torch.__version__"
      ],
      "metadata": {
        "colab": {
          "base_uri": "https://localhost:8080/"
        },
        "id": "hXoDyT2RpR-0",
        "outputId": "fc63e4a0-71cc-4876-98d1-f85453f6fb41"
      },
      "execution_count": 2,
      "outputs": [
        {
          "output_type": "stream",
          "name": "stderr",
          "text": [
            "[nltk_data] Downloading package words to /root/nltk_data...\n",
            "[nltk_data]   Unzipping corpora/words.zip.\n"
          ]
        },
        {
          "output_type": "execute_result",
          "data": {
            "text/plain": [
              "('0.16.0+cpu', '2.1.0+cu121')"
            ]
          },
          "metadata": {},
          "execution_count": 2
        }
      ]
    },
    {
      "cell_type": "markdown",
      "source": [
        "### Seed\n",
        "In the following code cell we are going to set the seed to all random operations for reproducivity."
      ],
      "metadata": {
        "id": "cVqGu8UDTkOy"
      }
    },
    {
      "cell_type": "code",
      "source": [
        "SEED = 42\n",
        "\n",
        "random.seed(SEED)\n",
        "torch.manual_seed(SEED)\n",
        "torch.cuda.manual_seed(SEED)\n",
        "np.random.seed(SEED)\n",
        "torch.backends.cudnn.deterministic = True"
      ],
      "metadata": {
        "id": "4g7FAa9ETrDA"
      },
      "execution_count": 3,
      "outputs": []
    },
    {
      "cell_type": "markdown",
      "source": [
        "### Device\n",
        "In the following code cell we are going to get `gpu` device if possible"
      ],
      "metadata": {
        "id": "fx6BtsYvTrtJ"
      }
    },
    {
      "cell_type": "code",
      "source": [
        "\n",
        "device = torch.device('cuda' if torch.cuda.is_available() else 'cpu')\n",
        "device"
      ],
      "metadata": {
        "colab": {
          "base_uri": "https://localhost:8080/"
        },
        "id": "d4mXa6L0Tx4O",
        "outputId": "411551f8-f3f5-45ee-c189-2627bdb8289f"
      },
      "execution_count": 4,
      "outputs": [
        {
          "output_type": "execute_result",
          "data": {
            "text/plain": [
              "device(type='cuda')"
            ]
          },
          "metadata": {},
          "execution_count": 4
        }
      ]
    },
    {
      "cell_type": "markdown",
      "source": [
        "### Data\n",
        "\n",
        "Our dataset that we are going to use will be comming from [`kaggle`](https://www.kaggle.com/datasets/niyarrbarman/symptom2disease) and will be loaded from google drive  where i uploaded it in a folder called `S2DC`. So in the following code cell we are going to mount our google drive to this colab instance."
      ],
      "metadata": {
        "id": "eDiHxRiMtxgq"
      }
    },
    {
      "cell_type": "code",
      "source": [
        "drive.mount('/content/drive')"
      ],
      "metadata": {
        "id": "2XqK2PNlpR8S",
        "colab": {
          "base_uri": "https://localhost:8080/"
        },
        "outputId": "6dad263b-2464-468f-90e5-b6cbe35bf3b3"
      },
      "execution_count": 5,
      "outputs": [
        {
          "output_type": "stream",
          "name": "stdout",
          "text": [
            "Mounted at /content/drive\n"
          ]
        }
      ]
    },
    {
      "cell_type": "markdown",
      "source": [
        "### Path to the dataset.\n",
        "Now we can define the path as a variable to the location where our dataset file called `Symptom2Disease.csv` is located."
      ],
      "metadata": {
        "id": "ciiieVigOGCO"
      }
    },
    {
      "cell_type": "code",
      "source": [
        "base_dir = \"/content/drive/My Drive/NLP Data/S2DC\"\n",
        "\n",
        "assert os.path.exists(base_dir), f\"The path '{base_dir}' does not exists.\"\n",
        "\n",
        "data_path = os.path.join(base_dir, 'Symptom2Disease.csv')\n",
        "\n",
        "assert os.path.exists(data_path), f\"The path '{data_path}' does not exists.\""
      ],
      "metadata": {
        "id": "CEQ9QayBpR0L"
      },
      "execution_count": 6,
      "outputs": []
    },
    {
      "cell_type": "markdown",
      "source": [
        "Then we need to read the `Symptom2Disease.csv` file and create a classification dataset from it. For that we are going to use pandas and read the giant file into a dataframe as follows:"
      ],
      "metadata": {
        "id": "uhN_RheqQfGD"
      }
    },
    {
      "cell_type": "code",
      "source": [
        "dataframe = pd.read_csv(data_path)\n",
        "dataframe.head(2)"
      ],
      "metadata": {
        "id": "TmEiCSKDpRxq",
        "colab": {
          "base_uri": "https://localhost:8080/",
          "height": 112
        },
        "outputId": "9f81527f-1bc6-442d-e912-24712168192e"
      },
      "execution_count": 7,
      "outputs": [
        {
          "output_type": "execute_result",
          "data": {
            "text/plain": [
              "   Unnamed: 0      label                                               text\n",
              "0           0  Psoriasis  I have been experiencing a skin rash on my arm...\n",
              "1           1  Psoriasis  My skin has been peeling, especially on my kne..."
            ],
            "text/html": [
              "\n",
              "  <div id=\"df-9280c92c-9570-4d99-b3f2-40b3e3096309\" class=\"colab-df-container\">\n",
              "    <div>\n",
              "<style scoped>\n",
              "    .dataframe tbody tr th:only-of-type {\n",
              "        vertical-align: middle;\n",
              "    }\n",
              "\n",
              "    .dataframe tbody tr th {\n",
              "        vertical-align: top;\n",
              "    }\n",
              "\n",
              "    .dataframe thead th {\n",
              "        text-align: right;\n",
              "    }\n",
              "</style>\n",
              "<table border=\"1\" class=\"dataframe\">\n",
              "  <thead>\n",
              "    <tr style=\"text-align: right;\">\n",
              "      <th></th>\n",
              "      <th>Unnamed: 0</th>\n",
              "      <th>label</th>\n",
              "      <th>text</th>\n",
              "    </tr>\n",
              "  </thead>\n",
              "  <tbody>\n",
              "    <tr>\n",
              "      <th>0</th>\n",
              "      <td>0</td>\n",
              "      <td>Psoriasis</td>\n",
              "      <td>I have been experiencing a skin rash on my arm...</td>\n",
              "    </tr>\n",
              "    <tr>\n",
              "      <th>1</th>\n",
              "      <td>1</td>\n",
              "      <td>Psoriasis</td>\n",
              "      <td>My skin has been peeling, especially on my kne...</td>\n",
              "    </tr>\n",
              "  </tbody>\n",
              "</table>\n",
              "</div>\n",
              "    <div class=\"colab-df-buttons\">\n",
              "\n",
              "  <div class=\"colab-df-container\">\n",
              "    <button class=\"colab-df-convert\" onclick=\"convertToInteractive('df-9280c92c-9570-4d99-b3f2-40b3e3096309')\"\n",
              "            title=\"Convert this dataframe to an interactive table.\"\n",
              "            style=\"display:none;\">\n",
              "\n",
              "  <svg xmlns=\"http://www.w3.org/2000/svg\" height=\"24px\" viewBox=\"0 -960 960 960\">\n",
              "    <path d=\"M120-120v-720h720v720H120Zm60-500h600v-160H180v160Zm220 220h160v-160H400v160Zm0 220h160v-160H400v160ZM180-400h160v-160H180v160Zm440 0h160v-160H620v160ZM180-180h160v-160H180v160Zm440 0h160v-160H620v160Z\"/>\n",
              "  </svg>\n",
              "    </button>\n",
              "\n",
              "  <style>\n",
              "    .colab-df-container {\n",
              "      display:flex;\n",
              "      gap: 12px;\n",
              "    }\n",
              "\n",
              "    .colab-df-convert {\n",
              "      background-color: #E8F0FE;\n",
              "      border: none;\n",
              "      border-radius: 50%;\n",
              "      cursor: pointer;\n",
              "      display: none;\n",
              "      fill: #1967D2;\n",
              "      height: 32px;\n",
              "      padding: 0 0 0 0;\n",
              "      width: 32px;\n",
              "    }\n",
              "\n",
              "    .colab-df-convert:hover {\n",
              "      background-color: #E2EBFA;\n",
              "      box-shadow: 0px 1px 2px rgba(60, 64, 67, 0.3), 0px 1px 3px 1px rgba(60, 64, 67, 0.15);\n",
              "      fill: #174EA6;\n",
              "    }\n",
              "\n",
              "    .colab-df-buttons div {\n",
              "      margin-bottom: 4px;\n",
              "    }\n",
              "\n",
              "    [theme=dark] .colab-df-convert {\n",
              "      background-color: #3B4455;\n",
              "      fill: #D2E3FC;\n",
              "    }\n",
              "\n",
              "    [theme=dark] .colab-df-convert:hover {\n",
              "      background-color: #434B5C;\n",
              "      box-shadow: 0px 1px 3px 1px rgba(0, 0, 0, 0.15);\n",
              "      filter: drop-shadow(0px 1px 2px rgba(0, 0, 0, 0.3));\n",
              "      fill: #FFFFFF;\n",
              "    }\n",
              "  </style>\n",
              "\n",
              "    <script>\n",
              "      const buttonEl =\n",
              "        document.querySelector('#df-9280c92c-9570-4d99-b3f2-40b3e3096309 button.colab-df-convert');\n",
              "      buttonEl.style.display =\n",
              "        google.colab.kernel.accessAllowed ? 'block' : 'none';\n",
              "\n",
              "      async function convertToInteractive(key) {\n",
              "        const element = document.querySelector('#df-9280c92c-9570-4d99-b3f2-40b3e3096309');\n",
              "        const dataTable =\n",
              "          await google.colab.kernel.invokeFunction('convertToInteractive',\n",
              "                                                    [key], {});\n",
              "        if (!dataTable) return;\n",
              "\n",
              "        const docLinkHtml = 'Like what you see? Visit the ' +\n",
              "          '<a target=\"_blank\" href=https://colab.research.google.com/notebooks/data_table.ipynb>data table notebook</a>'\n",
              "          + ' to learn more about interactive tables.';\n",
              "        element.innerHTML = '';\n",
              "        dataTable['output_type'] = 'display_data';\n",
              "        await google.colab.output.renderOutput(dataTable, element);\n",
              "        const docLink = document.createElement('div');\n",
              "        docLink.innerHTML = docLinkHtml;\n",
              "        element.appendChild(docLink);\n",
              "      }\n",
              "    </script>\n",
              "  </div>\n",
              "\n",
              "\n",
              "<div id=\"df-5f8f0f39-0396-4de9-a040-383d5e7c1ebc\">\n",
              "  <button class=\"colab-df-quickchart\" onclick=\"quickchart('df-5f8f0f39-0396-4de9-a040-383d5e7c1ebc')\"\n",
              "            title=\"Suggest charts\"\n",
              "            style=\"display:none;\">\n",
              "\n",
              "<svg xmlns=\"http://www.w3.org/2000/svg\" height=\"24px\"viewBox=\"0 0 24 24\"\n",
              "     width=\"24px\">\n",
              "    <g>\n",
              "        <path d=\"M19 3H5c-1.1 0-2 .9-2 2v14c0 1.1.9 2 2 2h14c1.1 0 2-.9 2-2V5c0-1.1-.9-2-2-2zM9 17H7v-7h2v7zm4 0h-2V7h2v10zm4 0h-2v-4h2v4z\"/>\n",
              "    </g>\n",
              "</svg>\n",
              "  </button>\n",
              "\n",
              "<style>\n",
              "  .colab-df-quickchart {\n",
              "      --bg-color: #E8F0FE;\n",
              "      --fill-color: #1967D2;\n",
              "      --hover-bg-color: #E2EBFA;\n",
              "      --hover-fill-color: #174EA6;\n",
              "      --disabled-fill-color: #AAA;\n",
              "      --disabled-bg-color: #DDD;\n",
              "  }\n",
              "\n",
              "  [theme=dark] .colab-df-quickchart {\n",
              "      --bg-color: #3B4455;\n",
              "      --fill-color: #D2E3FC;\n",
              "      --hover-bg-color: #434B5C;\n",
              "      --hover-fill-color: #FFFFFF;\n",
              "      --disabled-bg-color: #3B4455;\n",
              "      --disabled-fill-color: #666;\n",
              "  }\n",
              "\n",
              "  .colab-df-quickchart {\n",
              "    background-color: var(--bg-color);\n",
              "    border: none;\n",
              "    border-radius: 50%;\n",
              "    cursor: pointer;\n",
              "    display: none;\n",
              "    fill: var(--fill-color);\n",
              "    height: 32px;\n",
              "    padding: 0;\n",
              "    width: 32px;\n",
              "  }\n",
              "\n",
              "  .colab-df-quickchart:hover {\n",
              "    background-color: var(--hover-bg-color);\n",
              "    box-shadow: 0 1px 2px rgba(60, 64, 67, 0.3), 0 1px 3px 1px rgba(60, 64, 67, 0.15);\n",
              "    fill: var(--button-hover-fill-color);\n",
              "  }\n",
              "\n",
              "  .colab-df-quickchart-complete:disabled,\n",
              "  .colab-df-quickchart-complete:disabled:hover {\n",
              "    background-color: var(--disabled-bg-color);\n",
              "    fill: var(--disabled-fill-color);\n",
              "    box-shadow: none;\n",
              "  }\n",
              "\n",
              "  .colab-df-spinner {\n",
              "    border: 2px solid var(--fill-color);\n",
              "    border-color: transparent;\n",
              "    border-bottom-color: var(--fill-color);\n",
              "    animation:\n",
              "      spin 1s steps(1) infinite;\n",
              "  }\n",
              "\n",
              "  @keyframes spin {\n",
              "    0% {\n",
              "      border-color: transparent;\n",
              "      border-bottom-color: var(--fill-color);\n",
              "      border-left-color: var(--fill-color);\n",
              "    }\n",
              "    20% {\n",
              "      border-color: transparent;\n",
              "      border-left-color: var(--fill-color);\n",
              "      border-top-color: var(--fill-color);\n",
              "    }\n",
              "    30% {\n",
              "      border-color: transparent;\n",
              "      border-left-color: var(--fill-color);\n",
              "      border-top-color: var(--fill-color);\n",
              "      border-right-color: var(--fill-color);\n",
              "    }\n",
              "    40% {\n",
              "      border-color: transparent;\n",
              "      border-right-color: var(--fill-color);\n",
              "      border-top-color: var(--fill-color);\n",
              "    }\n",
              "    60% {\n",
              "      border-color: transparent;\n",
              "      border-right-color: var(--fill-color);\n",
              "    }\n",
              "    80% {\n",
              "      border-color: transparent;\n",
              "      border-right-color: var(--fill-color);\n",
              "      border-bottom-color: var(--fill-color);\n",
              "    }\n",
              "    90% {\n",
              "      border-color: transparent;\n",
              "      border-bottom-color: var(--fill-color);\n",
              "    }\n",
              "  }\n",
              "</style>\n",
              "\n",
              "  <script>\n",
              "    async function quickchart(key) {\n",
              "      const quickchartButtonEl =\n",
              "        document.querySelector('#' + key + ' button');\n",
              "      quickchartButtonEl.disabled = true;  // To prevent multiple clicks.\n",
              "      quickchartButtonEl.classList.add('colab-df-spinner');\n",
              "      try {\n",
              "        const charts = await google.colab.kernel.invokeFunction(\n",
              "            'suggestCharts', [key], {});\n",
              "      } catch (error) {\n",
              "        console.error('Error during call to suggestCharts:', error);\n",
              "      }\n",
              "      quickchartButtonEl.classList.remove('colab-df-spinner');\n",
              "      quickchartButtonEl.classList.add('colab-df-quickchart-complete');\n",
              "    }\n",
              "    (() => {\n",
              "      let quickchartButtonEl =\n",
              "        document.querySelector('#df-5f8f0f39-0396-4de9-a040-383d5e7c1ebc button');\n",
              "      quickchartButtonEl.style.display =\n",
              "        google.colab.kernel.accessAllowed ? 'block' : 'none';\n",
              "    })();\n",
              "  </script>\n",
              "</div>\n",
              "\n",
              "    </div>\n",
              "  </div>\n"
            ],
            "application/vnd.google.colaboratory.intrinsic+json": {
              "type": "dataframe",
              "variable_name": "dataframe",
              "summary": "{\n  \"name\": \"dataframe\",\n  \"rows\": 1200,\n  \"fields\": [\n    {\n      \"column\": \"Unnamed: 0\",\n      \"properties\": {\n        \"dtype\": \"number\",\n        \"std\": 86,\n        \"min\": 0,\n        \"max\": 299,\n        \"num_unique_values\": 300,\n        \"samples\": [\n          203,\n          266,\n          152\n        ],\n        \"semantic_type\": \"\",\n        \"description\": \"\"\n      }\n    },\n    {\n      \"column\": \"label\",\n      \"properties\": {\n        \"dtype\": \"category\",\n        \"num_unique_values\": 24,\n        \"samples\": [\n          \"Pneumonia\",\n          \"Jaundice\",\n          \"Psoriasis\"\n        ],\n        \"semantic_type\": \"\",\n        \"description\": \"\"\n      }\n    },\n    {\n      \"column\": \"text\",\n      \"properties\": {\n        \"dtype\": \"string\",\n        \"num_unique_values\": 1153,\n        \"samples\": [\n          \"I've had back pain, a cough that won't go away, and limb weakness. I've been experiencing neck pain, instability, and balance concerns.\",\n          \"Recently, I've been having problems using the restroom. Going is incredibly difficult, and doing so hurts. In addition, I've been experiencing some butt soreness, and my stools have been bloody. My anus has also been quite itching and aggravated.\",\n          \"I've been exhausted and experiencing nausea and itching. In addition, I've lost weight and have a temperature. My urine is dark, and my skin has turned yellow. Additionally, I've been having stomach pain.\"\n        ],\n        \"semantic_type\": \"\",\n        \"description\": \"\"\n      }\n    }\n  ]\n}"
            }
          },
          "metadata": {},
          "execution_count": 7
        }
      ]
    },
    {
      "cell_type": "markdown",
      "source": [
        "In this dataframe we only care about two field which are `label` and `text`. First let's check the classes or unique labels that we are going to have in this dataset."
      ],
      "metadata": {
        "id": "z2rGLv9-Q637"
      }
    },
    {
      "cell_type": "code",
      "source": [
        "diseases = dataframe.label.unique()\n",
        "diseases, len(diseases)"
      ],
      "metadata": {
        "colab": {
          "base_uri": "https://localhost:8080/"
        },
        "id": "1cFZZssqyrGf",
        "outputId": "f3a6391a-f845-4536-9891-bc62011a045f"
      },
      "execution_count": 8,
      "outputs": [
        {
          "output_type": "execute_result",
          "data": {
            "text/plain": [
              "(array(['Psoriasis', 'Varicose Veins', 'Typhoid', 'Chicken pox',\n",
              "        'Impetigo', 'Dengue', 'Fungal infection', 'Common Cold',\n",
              "        'Pneumonia', 'Dimorphic Hemorrhoids', 'Arthritis', 'Acne',\n",
              "        'Bronchial Asthma', 'Hypertension', 'Migraine',\n",
              "        'Cervical spondylosis', 'Jaundice', 'Malaria',\n",
              "        'urinary tract infection', 'allergy',\n",
              "        'gastroesophageal reflux disease', 'drug reaction',\n",
              "        'peptic ulcer disease', 'diabetes'], dtype=object),\n",
              " 24)"
            ]
          },
          "metadata": {},
          "execution_count": 8
        }
      ]
    },
    {
      "cell_type": "markdown",
      "source": [
        "So we have `24` different kind of diseases that can be classified, based on the user text. In the following code cell we are going to extract `features` and `labels` from this giant dataframe so that we can create, different sets from it."
      ],
      "metadata": {
        "id": "VP9B9PHuyqri"
      }
    },
    {
      "cell_type": "code",
      "source": [
        "labels, features = [label.lower() for label in dataframe.label.values], [feature.lower() for feature in dataframe.text.values]\n",
        "\n",
        "labels[:2], features[:2]"
      ],
      "metadata": {
        "colab": {
          "base_uri": "https://localhost:8080/"
        },
        "id": "nx-FLiuczwpN",
        "outputId": "5f87bcf7-afc2-4a23-9c98-b4e6834caaf9"
      },
      "execution_count": 9,
      "outputs": [
        {
          "output_type": "execute_result",
          "data": {
            "text/plain": [
              "(['psoriasis', 'psoriasis'],\n",
              " ['i have been experiencing a skin rash on my arms, legs, and torso for the past few weeks. it is red, itchy, and covered in dry, scaly patches.',\n",
              "  'my skin has been peeling, especially on my knees, elbows, and scalp. this peeling is often accompanied by a burning or stinging sensation.'])"
            ]
          },
          "metadata": {},
          "execution_count": 9
        }
      ]
    },
    {
      "cell_type": "markdown",
      "source": [
        "Now that we have converted all features and labels into list of values with common case we can create a giant dataset from this in the following code cell."
      ],
      "metadata": {
        "id": "WfW61qEW0fSq"
      }
    },
    {
      "cell_type": "code",
      "source": [
        "dataset = list()\n",
        "for feature, label in zip(features, labels):\n",
        "   dataset.append((feature, label))\n",
        "print(\"Dataset size: {}\".format(len(dataset)))"
      ],
      "metadata": {
        "id": "OzuqHHnzpRuy",
        "colab": {
          "base_uri": "https://localhost:8080/"
        },
        "outputId": "cc59f020-5115-4baf-f2f8-a3c428f971fd"
      },
      "execution_count": 10,
      "outputs": [
        {
          "output_type": "stream",
          "name": "stdout",
          "text": [
            "Dataset size: 1200\n"
          ]
        }
      ]
    },
    {
      "cell_type": "markdown",
      "source": [
        "We have a small dataset that contains `1200` examples, let's check the first `10` examples in the dataset:"
      ],
      "metadata": {
        "id": "ZmXJtTEsTAA4"
      }
    },
    {
      "cell_type": "code",
      "source": [
        "dataset[:10]"
      ],
      "metadata": {
        "id": "mYtE32C2pRr4",
        "colab": {
          "base_uri": "https://localhost:8080/"
        },
        "outputId": "b683a965-bdc2-411d-9e99-08a8ff9915e9"
      },
      "execution_count": 11,
      "outputs": [
        {
          "output_type": "execute_result",
          "data": {
            "text/plain": [
              "[('i have been experiencing a skin rash on my arms, legs, and torso for the past few weeks. it is red, itchy, and covered in dry, scaly patches.',\n",
              "  'psoriasis'),\n",
              " ('my skin has been peeling, especially on my knees, elbows, and scalp. this peeling is often accompanied by a burning or stinging sensation.',\n",
              "  'psoriasis'),\n",
              " ('i have been experiencing joint pain in my fingers, wrists, and knees. the pain is often achy and throbbing, and it gets worse when i move my joints.',\n",
              "  'psoriasis'),\n",
              " ('there is a silver like dusting on my skin, especially on my lower back and scalp. this dusting is made up of small scales that flake off easily when i scratch them.',\n",
              "  'psoriasis'),\n",
              " ('my nails have small dents or pits in them, and they often feel inflammatory and tender to the touch. even there are minor rashes on my arms.',\n",
              "  'psoriasis'),\n",
              " ('the skin on my palms and soles is thickened and has deep cracks. these cracks are painful and bleed easily.',\n",
              "  'psoriasis'),\n",
              " ('the skin around my mouth, nose, and eyes is red and inflamed. it is often itchy and uncomfortable. there is a noticeable inflammation in my nails.',\n",
              "  'psoriasis'),\n",
              " ('my skin is very sensitive and reacts easily to changes in temperature or humidity. i often have to be careful about what products i use on my skin.',\n",
              "  'psoriasis'),\n",
              " ('i have noticed a sudden peeling of skin at different parts of my body, mainly arms, legs and back. also, i face severe joint pain and skin rashes.',\n",
              "  'psoriasis'),\n",
              " ('the skin on my genitals is red and inflamed. it is often itchy, burning, and uncomfortable. there are rashes on different parts of the body too.',\n",
              "  'psoriasis')]"
            ]
          },
          "metadata": {},
          "execution_count": 11
        }
      ]
    },
    {
      "cell_type": "markdown",
      "source": [
        "Next we are going to use the `random` module to shuffle our dataset and then check again the size first `10` examples before creating dataframes."
      ],
      "metadata": {
        "id": "miWuxr3nTTxT"
      }
    },
    {
      "cell_type": "code",
      "source": [
        "random.shuffle(dataset)"
      ],
      "metadata": {
        "id": "JjUTIfDIpRpE"
      },
      "execution_count": 12,
      "outputs": []
    },
    {
      "cell_type": "code",
      "execution_count": 13,
      "metadata": {
        "id": "OvbVPUrrnWRa",
        "colab": {
          "base_uri": "https://localhost:8080/"
        },
        "outputId": "2ff1407a-4b68-40b2-d43a-a3f76e31807d"
      },
      "outputs": [
        {
          "output_type": "execute_result",
          "data": {
            "text/plain": [
              "[(\"i've recently been suffering with chills, lethargy, a cough, a high temperature, and difficulties breathing. i've been sweating profusely and generally feeling ill and weak. i've also had some quite thick and red phlegm.\",\n",
              "  'pneumonia'),\n",
              " ('i have been having severe itching, vomiting, and fatigue. i have also lost weight and have a high fever. my skin has turned yellow and my urine is dark. i am also experiencing abdominal pain.',\n",
              "  'jaundice'),\n",
              " (\"i'm having a lot of trouble with my bowel movements lately. it's hard to go and it hurts when i do. my anus is really sore and it's been bleeding when i go. it's really painful and i'm really uncomfortable.\",\n",
              "  'dimorphic hemorrhoids'),\n",
              " (\"i can't seem to catch my breath and i'm sweating a lot. i feel really sick and have a lot of phlegm in my throat. my chest hurts and my heart is racing. the mucus i'm coughing up is brownish and stringy.\",\n",
              "  'pneumonia'),\n",
              " (\"along with a phlegmy cough and muscle weakness, i've been dealing with excruciating back pain. in addition to feeling woozy and shaky on my feet, my neck has been hurting.\",\n",
              "  'cervical spondylosis'),\n",
              " (\"the pain in my calves is constant and becomes worse when i stand or walk for long periods of time. i am getting constant cramps and can't run for longer periods of time.\",\n",
              "  'varicose veins'),\n",
              " ('i have a runny nose and i am sneezing all the time. my eyes are itchy and often watery, and i am coughing all the time. my head hurts and all the time',\n",
              "  'allergy'),\n",
              " (\"constipation and soreness with bowel motions have been bothering me lately. when i go, my anus bleeds and is really uncomfortable. i'm in a lot of discomfort and it hurts extremely bad.\",\n",
              "  'dimorphic hemorrhoids'),\n",
              " (\"i'm dripping with perspiration and can't seem to catch my breath. my throat is filled with a lot of phlegm, and i feel awful. my heart is pounding, and my chest aches. i'm coughing up brownish mucous.\",\n",
              "  'pneumonia'),\n",
              " (\"i have a rash all over my body, and i can't stop scratching because my skin is itchy. my skin also has a few spots where the hue is altered and some lumps and knot-like pimples.\",\n",
              "  'fungal infection')]"
            ]
          },
          "metadata": {},
          "execution_count": 13
        }
      ],
      "source": [
        "dataset[:10]"
      ]
    },
    {
      "cell_type": "markdown",
      "source": [
        "So for our train data we are going to take all the examples in the `dataset` and then for the `validation` and `testing` set we are going to take a fraction of `40%` and `60%` from the dataset respectively."
      ],
      "metadata": {
        "id": "qn6nF_4JUVMF"
      }
    },
    {
      "cell_type": "code",
      "source": [
        "train_df = pd.DataFrame(dataset, columns=[\"text\", \"label\" ])\n",
        "\n",
        "TEST_EXAMPLES = int(.4 * len(dataset))\n",
        "\n",
        "random.shuffle(dataset)\n",
        "test_df = pd.DataFrame(dataset[:TEST_EXAMPLES], columns=[\"text\", \"label\" ])\n",
        "val_df = pd.DataFrame(dataset[TEST_EXAMPLES: ], columns=[\"text\", \"label\" ])"
      ],
      "metadata": {
        "id": "fbwMyFBzT8y_"
      },
      "execution_count": 14,
      "outputs": []
    },
    {
      "cell_type": "markdown",
      "source": [
        "Checking our dataframes.\n",
        "\n",
        "\n",
        "1. train dataframe"
      ],
      "metadata": {
        "id": "ShVBIiWjU9t_"
      }
    },
    {
      "cell_type": "code",
      "source": [
        "train_df.head(5)"
      ],
      "metadata": {
        "colab": {
          "base_uri": "https://localhost:8080/",
          "height": 206
        },
        "id": "vtBv4dnjU7tQ",
        "outputId": "713ff823-9b61-43f5-90f9-1684f79a6da1"
      },
      "execution_count": 15,
      "outputs": [
        {
          "output_type": "execute_result",
          "data": {
            "text/plain": [
              "                                                text                  label\n",
              "0  i've recently been suffering with chills, leth...              pneumonia\n",
              "1  i have been having severe itching, vomiting, a...               jaundice\n",
              "2  i'm having a lot of trouble with my bowel move...  dimorphic hemorrhoids\n",
              "3  i can't seem to catch my breath and i'm sweati...              pneumonia\n",
              "4  along with a phlegmy cough and muscle weakness...   cervical spondylosis"
            ],
            "text/html": [
              "\n",
              "  <div id=\"df-bb91d579-2f03-49a1-b996-2ec458eebfe0\" class=\"colab-df-container\">\n",
              "    <div>\n",
              "<style scoped>\n",
              "    .dataframe tbody tr th:only-of-type {\n",
              "        vertical-align: middle;\n",
              "    }\n",
              "\n",
              "    .dataframe tbody tr th {\n",
              "        vertical-align: top;\n",
              "    }\n",
              "\n",
              "    .dataframe thead th {\n",
              "        text-align: right;\n",
              "    }\n",
              "</style>\n",
              "<table border=\"1\" class=\"dataframe\">\n",
              "  <thead>\n",
              "    <tr style=\"text-align: right;\">\n",
              "      <th></th>\n",
              "      <th>text</th>\n",
              "      <th>label</th>\n",
              "    </tr>\n",
              "  </thead>\n",
              "  <tbody>\n",
              "    <tr>\n",
              "      <th>0</th>\n",
              "      <td>i've recently been suffering with chills, leth...</td>\n",
              "      <td>pneumonia</td>\n",
              "    </tr>\n",
              "    <tr>\n",
              "      <th>1</th>\n",
              "      <td>i have been having severe itching, vomiting, a...</td>\n",
              "      <td>jaundice</td>\n",
              "    </tr>\n",
              "    <tr>\n",
              "      <th>2</th>\n",
              "      <td>i'm having a lot of trouble with my bowel move...</td>\n",
              "      <td>dimorphic hemorrhoids</td>\n",
              "    </tr>\n",
              "    <tr>\n",
              "      <th>3</th>\n",
              "      <td>i can't seem to catch my breath and i'm sweati...</td>\n",
              "      <td>pneumonia</td>\n",
              "    </tr>\n",
              "    <tr>\n",
              "      <th>4</th>\n",
              "      <td>along with a phlegmy cough and muscle weakness...</td>\n",
              "      <td>cervical spondylosis</td>\n",
              "    </tr>\n",
              "  </tbody>\n",
              "</table>\n",
              "</div>\n",
              "    <div class=\"colab-df-buttons\">\n",
              "\n",
              "  <div class=\"colab-df-container\">\n",
              "    <button class=\"colab-df-convert\" onclick=\"convertToInteractive('df-bb91d579-2f03-49a1-b996-2ec458eebfe0')\"\n",
              "            title=\"Convert this dataframe to an interactive table.\"\n",
              "            style=\"display:none;\">\n",
              "\n",
              "  <svg xmlns=\"http://www.w3.org/2000/svg\" height=\"24px\" viewBox=\"0 -960 960 960\">\n",
              "    <path d=\"M120-120v-720h720v720H120Zm60-500h600v-160H180v160Zm220 220h160v-160H400v160Zm0 220h160v-160H400v160ZM180-400h160v-160H180v160Zm440 0h160v-160H620v160ZM180-180h160v-160H180v160Zm440 0h160v-160H620v160Z\"/>\n",
              "  </svg>\n",
              "    </button>\n",
              "\n",
              "  <style>\n",
              "    .colab-df-container {\n",
              "      display:flex;\n",
              "      gap: 12px;\n",
              "    }\n",
              "\n",
              "    .colab-df-convert {\n",
              "      background-color: #E8F0FE;\n",
              "      border: none;\n",
              "      border-radius: 50%;\n",
              "      cursor: pointer;\n",
              "      display: none;\n",
              "      fill: #1967D2;\n",
              "      height: 32px;\n",
              "      padding: 0 0 0 0;\n",
              "      width: 32px;\n",
              "    }\n",
              "\n",
              "    .colab-df-convert:hover {\n",
              "      background-color: #E2EBFA;\n",
              "      box-shadow: 0px 1px 2px rgba(60, 64, 67, 0.3), 0px 1px 3px 1px rgba(60, 64, 67, 0.15);\n",
              "      fill: #174EA6;\n",
              "    }\n",
              "\n",
              "    .colab-df-buttons div {\n",
              "      margin-bottom: 4px;\n",
              "    }\n",
              "\n",
              "    [theme=dark] .colab-df-convert {\n",
              "      background-color: #3B4455;\n",
              "      fill: #D2E3FC;\n",
              "    }\n",
              "\n",
              "    [theme=dark] .colab-df-convert:hover {\n",
              "      background-color: #434B5C;\n",
              "      box-shadow: 0px 1px 3px 1px rgba(0, 0, 0, 0.15);\n",
              "      filter: drop-shadow(0px 1px 2px rgba(0, 0, 0, 0.3));\n",
              "      fill: #FFFFFF;\n",
              "    }\n",
              "  </style>\n",
              "\n",
              "    <script>\n",
              "      const buttonEl =\n",
              "        document.querySelector('#df-bb91d579-2f03-49a1-b996-2ec458eebfe0 button.colab-df-convert');\n",
              "      buttonEl.style.display =\n",
              "        google.colab.kernel.accessAllowed ? 'block' : 'none';\n",
              "\n",
              "      async function convertToInteractive(key) {\n",
              "        const element = document.querySelector('#df-bb91d579-2f03-49a1-b996-2ec458eebfe0');\n",
              "        const dataTable =\n",
              "          await google.colab.kernel.invokeFunction('convertToInteractive',\n",
              "                                                    [key], {});\n",
              "        if (!dataTable) return;\n",
              "\n",
              "        const docLinkHtml = 'Like what you see? Visit the ' +\n",
              "          '<a target=\"_blank\" href=https://colab.research.google.com/notebooks/data_table.ipynb>data table notebook</a>'\n",
              "          + ' to learn more about interactive tables.';\n",
              "        element.innerHTML = '';\n",
              "        dataTable['output_type'] = 'display_data';\n",
              "        await google.colab.output.renderOutput(dataTable, element);\n",
              "        const docLink = document.createElement('div');\n",
              "        docLink.innerHTML = docLinkHtml;\n",
              "        element.appendChild(docLink);\n",
              "      }\n",
              "    </script>\n",
              "  </div>\n",
              "\n",
              "\n",
              "<div id=\"df-c8ee6d13-148e-48fe-baef-2434ec0f07ad\">\n",
              "  <button class=\"colab-df-quickchart\" onclick=\"quickchart('df-c8ee6d13-148e-48fe-baef-2434ec0f07ad')\"\n",
              "            title=\"Suggest charts\"\n",
              "            style=\"display:none;\">\n",
              "\n",
              "<svg xmlns=\"http://www.w3.org/2000/svg\" height=\"24px\"viewBox=\"0 0 24 24\"\n",
              "     width=\"24px\">\n",
              "    <g>\n",
              "        <path d=\"M19 3H5c-1.1 0-2 .9-2 2v14c0 1.1.9 2 2 2h14c1.1 0 2-.9 2-2V5c0-1.1-.9-2-2-2zM9 17H7v-7h2v7zm4 0h-2V7h2v10zm4 0h-2v-4h2v4z\"/>\n",
              "    </g>\n",
              "</svg>\n",
              "  </button>\n",
              "\n",
              "<style>\n",
              "  .colab-df-quickchart {\n",
              "      --bg-color: #E8F0FE;\n",
              "      --fill-color: #1967D2;\n",
              "      --hover-bg-color: #E2EBFA;\n",
              "      --hover-fill-color: #174EA6;\n",
              "      --disabled-fill-color: #AAA;\n",
              "      --disabled-bg-color: #DDD;\n",
              "  }\n",
              "\n",
              "  [theme=dark] .colab-df-quickchart {\n",
              "      --bg-color: #3B4455;\n",
              "      --fill-color: #D2E3FC;\n",
              "      --hover-bg-color: #434B5C;\n",
              "      --hover-fill-color: #FFFFFF;\n",
              "      --disabled-bg-color: #3B4455;\n",
              "      --disabled-fill-color: #666;\n",
              "  }\n",
              "\n",
              "  .colab-df-quickchart {\n",
              "    background-color: var(--bg-color);\n",
              "    border: none;\n",
              "    border-radius: 50%;\n",
              "    cursor: pointer;\n",
              "    display: none;\n",
              "    fill: var(--fill-color);\n",
              "    height: 32px;\n",
              "    padding: 0;\n",
              "    width: 32px;\n",
              "  }\n",
              "\n",
              "  .colab-df-quickchart:hover {\n",
              "    background-color: var(--hover-bg-color);\n",
              "    box-shadow: 0 1px 2px rgba(60, 64, 67, 0.3), 0 1px 3px 1px rgba(60, 64, 67, 0.15);\n",
              "    fill: var(--button-hover-fill-color);\n",
              "  }\n",
              "\n",
              "  .colab-df-quickchart-complete:disabled,\n",
              "  .colab-df-quickchart-complete:disabled:hover {\n",
              "    background-color: var(--disabled-bg-color);\n",
              "    fill: var(--disabled-fill-color);\n",
              "    box-shadow: none;\n",
              "  }\n",
              "\n",
              "  .colab-df-spinner {\n",
              "    border: 2px solid var(--fill-color);\n",
              "    border-color: transparent;\n",
              "    border-bottom-color: var(--fill-color);\n",
              "    animation:\n",
              "      spin 1s steps(1) infinite;\n",
              "  }\n",
              "\n",
              "  @keyframes spin {\n",
              "    0% {\n",
              "      border-color: transparent;\n",
              "      border-bottom-color: var(--fill-color);\n",
              "      border-left-color: var(--fill-color);\n",
              "    }\n",
              "    20% {\n",
              "      border-color: transparent;\n",
              "      border-left-color: var(--fill-color);\n",
              "      border-top-color: var(--fill-color);\n",
              "    }\n",
              "    30% {\n",
              "      border-color: transparent;\n",
              "      border-left-color: var(--fill-color);\n",
              "      border-top-color: var(--fill-color);\n",
              "      border-right-color: var(--fill-color);\n",
              "    }\n",
              "    40% {\n",
              "      border-color: transparent;\n",
              "      border-right-color: var(--fill-color);\n",
              "      border-top-color: var(--fill-color);\n",
              "    }\n",
              "    60% {\n",
              "      border-color: transparent;\n",
              "      border-right-color: var(--fill-color);\n",
              "    }\n",
              "    80% {\n",
              "      border-color: transparent;\n",
              "      border-right-color: var(--fill-color);\n",
              "      border-bottom-color: var(--fill-color);\n",
              "    }\n",
              "    90% {\n",
              "      border-color: transparent;\n",
              "      border-bottom-color: var(--fill-color);\n",
              "    }\n",
              "  }\n",
              "</style>\n",
              "\n",
              "  <script>\n",
              "    async function quickchart(key) {\n",
              "      const quickchartButtonEl =\n",
              "        document.querySelector('#' + key + ' button');\n",
              "      quickchartButtonEl.disabled = true;  // To prevent multiple clicks.\n",
              "      quickchartButtonEl.classList.add('colab-df-spinner');\n",
              "      try {\n",
              "        const charts = await google.colab.kernel.invokeFunction(\n",
              "            'suggestCharts', [key], {});\n",
              "      } catch (error) {\n",
              "        console.error('Error during call to suggestCharts:', error);\n",
              "      }\n",
              "      quickchartButtonEl.classList.remove('colab-df-spinner');\n",
              "      quickchartButtonEl.classList.add('colab-df-quickchart-complete');\n",
              "    }\n",
              "    (() => {\n",
              "      let quickchartButtonEl =\n",
              "        document.querySelector('#df-c8ee6d13-148e-48fe-baef-2434ec0f07ad button');\n",
              "      quickchartButtonEl.style.display =\n",
              "        google.colab.kernel.accessAllowed ? 'block' : 'none';\n",
              "    })();\n",
              "  </script>\n",
              "</div>\n",
              "\n",
              "    </div>\n",
              "  </div>\n"
            ],
            "application/vnd.google.colaboratory.intrinsic+json": {
              "type": "dataframe",
              "variable_name": "train_df",
              "summary": "{\n  \"name\": \"train_df\",\n  \"rows\": 1200,\n  \"fields\": [\n    {\n      \"column\": \"text\",\n      \"properties\": {\n        \"dtype\": \"string\",\n        \"num_unique_values\": 1153,\n        \"samples\": [\n          \"when i awoke this morning, i saw a severe rash across my skin. there are many pus-filled pimples and blackheads all over the place. my skin has also been shifting a lot.\",\n          \"strong itchiness, chills, nausea, and a high temperature have been plaguing me. along with having a headache, i'm also perspiring a lot. i've also been bothered by nausea and muscle ache.\",\n          \"my nails are slightly dented. even my joints are now experiencing excruciating discomfort. my skin has a silver-like powder, especially on my back and elbows. \"\n        ],\n        \"semantic_type\": \"\",\n        \"description\": \"\"\n      }\n    },\n    {\n      \"column\": \"label\",\n      \"properties\": {\n        \"dtype\": \"category\",\n        \"num_unique_values\": 24,\n        \"samples\": [\n          \"gastroesophageal reflux disease\",\n          \"urinary tract infection\",\n          \"pneumonia\"\n        ],\n        \"semantic_type\": \"\",\n        \"description\": \"\"\n      }\n    }\n  ]\n}"
            }
          },
          "metadata": {},
          "execution_count": 15
        }
      ]
    },
    {
      "cell_type": "markdown",
      "source": [
        "2. test dataframe"
      ],
      "metadata": {
        "id": "X1ktJffeVIBY"
      }
    },
    {
      "cell_type": "code",
      "source": [
        "test_df.head(5)"
      ],
      "metadata": {
        "colab": {
          "base_uri": "https://localhost:8080/",
          "height": 206
        },
        "id": "ZwWqjTLcVHHU",
        "outputId": "1e1d0a85-e6a9-4973-8d29-55d20e614953"
      },
      "execution_count": 16,
      "outputs": [
        {
          "output_type": "execute_result",
          "data": {
            "text/plain": [
              "                                                text                    label\n",
              "0  i have a plugged nose and nasal congestion. i ...                  allergy\n",
              "1  the itching is making it hard for me to sleep ...              chicken pox\n",
              "2  recently, my calves have been cramping up freq...           varicose veins\n",
              "3  i've had back pain, a persistent cough, and we...     cervical spondylosis\n",
              "4  i have pain near my pelvic region and vomit a ...  urinary tract infection"
            ],
            "text/html": [
              "\n",
              "  <div id=\"df-897689cc-0321-48ad-b3e0-d06ac03f7c57\" class=\"colab-df-container\">\n",
              "    <div>\n",
              "<style scoped>\n",
              "    .dataframe tbody tr th:only-of-type {\n",
              "        vertical-align: middle;\n",
              "    }\n",
              "\n",
              "    .dataframe tbody tr th {\n",
              "        vertical-align: top;\n",
              "    }\n",
              "\n",
              "    .dataframe thead th {\n",
              "        text-align: right;\n",
              "    }\n",
              "</style>\n",
              "<table border=\"1\" class=\"dataframe\">\n",
              "  <thead>\n",
              "    <tr style=\"text-align: right;\">\n",
              "      <th></th>\n",
              "      <th>text</th>\n",
              "      <th>label</th>\n",
              "    </tr>\n",
              "  </thead>\n",
              "  <tbody>\n",
              "    <tr>\n",
              "      <th>0</th>\n",
              "      <td>i have a plugged nose and nasal congestion. i ...</td>\n",
              "      <td>allergy</td>\n",
              "    </tr>\n",
              "    <tr>\n",
              "      <th>1</th>\n",
              "      <td>the itching is making it hard for me to sleep ...</td>\n",
              "      <td>chicken pox</td>\n",
              "    </tr>\n",
              "    <tr>\n",
              "      <th>2</th>\n",
              "      <td>recently, my calves have been cramping up freq...</td>\n",
              "      <td>varicose veins</td>\n",
              "    </tr>\n",
              "    <tr>\n",
              "      <th>3</th>\n",
              "      <td>i've had back pain, a persistent cough, and we...</td>\n",
              "      <td>cervical spondylosis</td>\n",
              "    </tr>\n",
              "    <tr>\n",
              "      <th>4</th>\n",
              "      <td>i have pain near my pelvic region and vomit a ...</td>\n",
              "      <td>urinary tract infection</td>\n",
              "    </tr>\n",
              "  </tbody>\n",
              "</table>\n",
              "</div>\n",
              "    <div class=\"colab-df-buttons\">\n",
              "\n",
              "  <div class=\"colab-df-container\">\n",
              "    <button class=\"colab-df-convert\" onclick=\"convertToInteractive('df-897689cc-0321-48ad-b3e0-d06ac03f7c57')\"\n",
              "            title=\"Convert this dataframe to an interactive table.\"\n",
              "            style=\"display:none;\">\n",
              "\n",
              "  <svg xmlns=\"http://www.w3.org/2000/svg\" height=\"24px\" viewBox=\"0 -960 960 960\">\n",
              "    <path d=\"M120-120v-720h720v720H120Zm60-500h600v-160H180v160Zm220 220h160v-160H400v160Zm0 220h160v-160H400v160ZM180-400h160v-160H180v160Zm440 0h160v-160H620v160ZM180-180h160v-160H180v160Zm440 0h160v-160H620v160Z\"/>\n",
              "  </svg>\n",
              "    </button>\n",
              "\n",
              "  <style>\n",
              "    .colab-df-container {\n",
              "      display:flex;\n",
              "      gap: 12px;\n",
              "    }\n",
              "\n",
              "    .colab-df-convert {\n",
              "      background-color: #E8F0FE;\n",
              "      border: none;\n",
              "      border-radius: 50%;\n",
              "      cursor: pointer;\n",
              "      display: none;\n",
              "      fill: #1967D2;\n",
              "      height: 32px;\n",
              "      padding: 0 0 0 0;\n",
              "      width: 32px;\n",
              "    }\n",
              "\n",
              "    .colab-df-convert:hover {\n",
              "      background-color: #E2EBFA;\n",
              "      box-shadow: 0px 1px 2px rgba(60, 64, 67, 0.3), 0px 1px 3px 1px rgba(60, 64, 67, 0.15);\n",
              "      fill: #174EA6;\n",
              "    }\n",
              "\n",
              "    .colab-df-buttons div {\n",
              "      margin-bottom: 4px;\n",
              "    }\n",
              "\n",
              "    [theme=dark] .colab-df-convert {\n",
              "      background-color: #3B4455;\n",
              "      fill: #D2E3FC;\n",
              "    }\n",
              "\n",
              "    [theme=dark] .colab-df-convert:hover {\n",
              "      background-color: #434B5C;\n",
              "      box-shadow: 0px 1px 3px 1px rgba(0, 0, 0, 0.15);\n",
              "      filter: drop-shadow(0px 1px 2px rgba(0, 0, 0, 0.3));\n",
              "      fill: #FFFFFF;\n",
              "    }\n",
              "  </style>\n",
              "\n",
              "    <script>\n",
              "      const buttonEl =\n",
              "        document.querySelector('#df-897689cc-0321-48ad-b3e0-d06ac03f7c57 button.colab-df-convert');\n",
              "      buttonEl.style.display =\n",
              "        google.colab.kernel.accessAllowed ? 'block' : 'none';\n",
              "\n",
              "      async function convertToInteractive(key) {\n",
              "        const element = document.querySelector('#df-897689cc-0321-48ad-b3e0-d06ac03f7c57');\n",
              "        const dataTable =\n",
              "          await google.colab.kernel.invokeFunction('convertToInteractive',\n",
              "                                                    [key], {});\n",
              "        if (!dataTable) return;\n",
              "\n",
              "        const docLinkHtml = 'Like what you see? Visit the ' +\n",
              "          '<a target=\"_blank\" href=https://colab.research.google.com/notebooks/data_table.ipynb>data table notebook</a>'\n",
              "          + ' to learn more about interactive tables.';\n",
              "        element.innerHTML = '';\n",
              "        dataTable['output_type'] = 'display_data';\n",
              "        await google.colab.output.renderOutput(dataTable, element);\n",
              "        const docLink = document.createElement('div');\n",
              "        docLink.innerHTML = docLinkHtml;\n",
              "        element.appendChild(docLink);\n",
              "      }\n",
              "    </script>\n",
              "  </div>\n",
              "\n",
              "\n",
              "<div id=\"df-103b5091-d19f-4fd7-ab9f-18c4b4f75bc3\">\n",
              "  <button class=\"colab-df-quickchart\" onclick=\"quickchart('df-103b5091-d19f-4fd7-ab9f-18c4b4f75bc3')\"\n",
              "            title=\"Suggest charts\"\n",
              "            style=\"display:none;\">\n",
              "\n",
              "<svg xmlns=\"http://www.w3.org/2000/svg\" height=\"24px\"viewBox=\"0 0 24 24\"\n",
              "     width=\"24px\">\n",
              "    <g>\n",
              "        <path d=\"M19 3H5c-1.1 0-2 .9-2 2v14c0 1.1.9 2 2 2h14c1.1 0 2-.9 2-2V5c0-1.1-.9-2-2-2zM9 17H7v-7h2v7zm4 0h-2V7h2v10zm4 0h-2v-4h2v4z\"/>\n",
              "    </g>\n",
              "</svg>\n",
              "  </button>\n",
              "\n",
              "<style>\n",
              "  .colab-df-quickchart {\n",
              "      --bg-color: #E8F0FE;\n",
              "      --fill-color: #1967D2;\n",
              "      --hover-bg-color: #E2EBFA;\n",
              "      --hover-fill-color: #174EA6;\n",
              "      --disabled-fill-color: #AAA;\n",
              "      --disabled-bg-color: #DDD;\n",
              "  }\n",
              "\n",
              "  [theme=dark] .colab-df-quickchart {\n",
              "      --bg-color: #3B4455;\n",
              "      --fill-color: #D2E3FC;\n",
              "      --hover-bg-color: #434B5C;\n",
              "      --hover-fill-color: #FFFFFF;\n",
              "      --disabled-bg-color: #3B4455;\n",
              "      --disabled-fill-color: #666;\n",
              "  }\n",
              "\n",
              "  .colab-df-quickchart {\n",
              "    background-color: var(--bg-color);\n",
              "    border: none;\n",
              "    border-radius: 50%;\n",
              "    cursor: pointer;\n",
              "    display: none;\n",
              "    fill: var(--fill-color);\n",
              "    height: 32px;\n",
              "    padding: 0;\n",
              "    width: 32px;\n",
              "  }\n",
              "\n",
              "  .colab-df-quickchart:hover {\n",
              "    background-color: var(--hover-bg-color);\n",
              "    box-shadow: 0 1px 2px rgba(60, 64, 67, 0.3), 0 1px 3px 1px rgba(60, 64, 67, 0.15);\n",
              "    fill: var(--button-hover-fill-color);\n",
              "  }\n",
              "\n",
              "  .colab-df-quickchart-complete:disabled,\n",
              "  .colab-df-quickchart-complete:disabled:hover {\n",
              "    background-color: var(--disabled-bg-color);\n",
              "    fill: var(--disabled-fill-color);\n",
              "    box-shadow: none;\n",
              "  }\n",
              "\n",
              "  .colab-df-spinner {\n",
              "    border: 2px solid var(--fill-color);\n",
              "    border-color: transparent;\n",
              "    border-bottom-color: var(--fill-color);\n",
              "    animation:\n",
              "      spin 1s steps(1) infinite;\n",
              "  }\n",
              "\n",
              "  @keyframes spin {\n",
              "    0% {\n",
              "      border-color: transparent;\n",
              "      border-bottom-color: var(--fill-color);\n",
              "      border-left-color: var(--fill-color);\n",
              "    }\n",
              "    20% {\n",
              "      border-color: transparent;\n",
              "      border-left-color: var(--fill-color);\n",
              "      border-top-color: var(--fill-color);\n",
              "    }\n",
              "    30% {\n",
              "      border-color: transparent;\n",
              "      border-left-color: var(--fill-color);\n",
              "      border-top-color: var(--fill-color);\n",
              "      border-right-color: var(--fill-color);\n",
              "    }\n",
              "    40% {\n",
              "      border-color: transparent;\n",
              "      border-right-color: var(--fill-color);\n",
              "      border-top-color: var(--fill-color);\n",
              "    }\n",
              "    60% {\n",
              "      border-color: transparent;\n",
              "      border-right-color: var(--fill-color);\n",
              "    }\n",
              "    80% {\n",
              "      border-color: transparent;\n",
              "      border-right-color: var(--fill-color);\n",
              "      border-bottom-color: var(--fill-color);\n",
              "    }\n",
              "    90% {\n",
              "      border-color: transparent;\n",
              "      border-bottom-color: var(--fill-color);\n",
              "    }\n",
              "  }\n",
              "</style>\n",
              "\n",
              "  <script>\n",
              "    async function quickchart(key) {\n",
              "      const quickchartButtonEl =\n",
              "        document.querySelector('#' + key + ' button');\n",
              "      quickchartButtonEl.disabled = true;  // To prevent multiple clicks.\n",
              "      quickchartButtonEl.classList.add('colab-df-spinner');\n",
              "      try {\n",
              "        const charts = await google.colab.kernel.invokeFunction(\n",
              "            'suggestCharts', [key], {});\n",
              "      } catch (error) {\n",
              "        console.error('Error during call to suggestCharts:', error);\n",
              "      }\n",
              "      quickchartButtonEl.classList.remove('colab-df-spinner');\n",
              "      quickchartButtonEl.classList.add('colab-df-quickchart-complete');\n",
              "    }\n",
              "    (() => {\n",
              "      let quickchartButtonEl =\n",
              "        document.querySelector('#df-103b5091-d19f-4fd7-ab9f-18c4b4f75bc3 button');\n",
              "      quickchartButtonEl.style.display =\n",
              "        google.colab.kernel.accessAllowed ? 'block' : 'none';\n",
              "    })();\n",
              "  </script>\n",
              "</div>\n",
              "\n",
              "    </div>\n",
              "  </div>\n"
            ],
            "application/vnd.google.colaboratory.intrinsic+json": {
              "type": "dataframe",
              "variable_name": "test_df",
              "summary": "{\n  \"name\": \"test_df\",\n  \"rows\": 480,\n  \"fields\": [\n    {\n      \"column\": \"text\",\n      \"properties\": {\n        \"dtype\": \"string\",\n        \"num_unique_values\": 471,\n        \"samples\": [\n          \"when i first experienced a headache, chest pain, and lightheadedness, i was out shopping. since then, it has been difficult for me to concentrate on my work.\",\n          \"i'm worried about these red spots on my skin. it's spreading rapidly and causing a lot of problems. i also developed a mild fever and headache every night.\",\n          \"my joints and back pain everyday. i feel like vomitting and this has made me very weak. because of my body pain, i am not able to focus on my work and don\\u2019t feel like doing anything.\"\n        ],\n        \"semantic_type\": \"\",\n        \"description\": \"\"\n      }\n    },\n    {\n      \"column\": \"label\",\n      \"properties\": {\n        \"dtype\": \"category\",\n        \"num_unique_values\": 24,\n        \"samples\": [\n          \"migraine\",\n          \"fungal infection\",\n          \"allergy\"\n        ],\n        \"semantic_type\": \"\",\n        \"description\": \"\"\n      }\n    }\n  ]\n}"
            }
          },
          "metadata": {},
          "execution_count": 16
        }
      ]
    },
    {
      "cell_type": "markdown",
      "source": [
        "3. validatation dataframe"
      ],
      "metadata": {
        "id": "UkqLes8-VNPA"
      }
    },
    {
      "cell_type": "code",
      "source": [
        "val_df.head(5)"
      ],
      "metadata": {
        "colab": {
          "base_uri": "https://localhost:8080/",
          "height": 206
        },
        "id": "DzNJKAAVVEeL",
        "outputId": "91e4e2e6-3f6a-4373-fcd8-1a0fa8df7292"
      },
      "execution_count": 17,
      "outputs": [
        {
          "output_type": "execute_result",
          "data": {
            "text/plain": [
              "                                                text                  label\n",
              "0  i've been feeling scratchy, sick, and worn out...               jaundice\n",
              "1  i feel tired all the time, i have lost my tast...                allergy\n",
              "2  i have been experiencing intense itching, vomi...               jaundice\n",
              "3  i've been having trouble going to the bathroom...  dimorphic hemorrhoids\n",
              "4  i feel tired every day. there are red spots al...            chicken pox"
            ],
            "text/html": [
              "\n",
              "  <div id=\"df-50b008c4-c9be-4466-90b7-452df1ee55e8\" class=\"colab-df-container\">\n",
              "    <div>\n",
              "<style scoped>\n",
              "    .dataframe tbody tr th:only-of-type {\n",
              "        vertical-align: middle;\n",
              "    }\n",
              "\n",
              "    .dataframe tbody tr th {\n",
              "        vertical-align: top;\n",
              "    }\n",
              "\n",
              "    .dataframe thead th {\n",
              "        text-align: right;\n",
              "    }\n",
              "</style>\n",
              "<table border=\"1\" class=\"dataframe\">\n",
              "  <thead>\n",
              "    <tr style=\"text-align: right;\">\n",
              "      <th></th>\n",
              "      <th>text</th>\n",
              "      <th>label</th>\n",
              "    </tr>\n",
              "  </thead>\n",
              "  <tbody>\n",
              "    <tr>\n",
              "      <th>0</th>\n",
              "      <td>i've been feeling scratchy, sick, and worn out...</td>\n",
              "      <td>jaundice</td>\n",
              "    </tr>\n",
              "    <tr>\n",
              "      <th>1</th>\n",
              "      <td>i feel tired all the time, i have lost my tast...</td>\n",
              "      <td>allergy</td>\n",
              "    </tr>\n",
              "    <tr>\n",
              "      <th>2</th>\n",
              "      <td>i have been experiencing intense itching, vomi...</td>\n",
              "      <td>jaundice</td>\n",
              "    </tr>\n",
              "    <tr>\n",
              "      <th>3</th>\n",
              "      <td>i've been having trouble going to the bathroom...</td>\n",
              "      <td>dimorphic hemorrhoids</td>\n",
              "    </tr>\n",
              "    <tr>\n",
              "      <th>4</th>\n",
              "      <td>i feel tired every day. there are red spots al...</td>\n",
              "      <td>chicken pox</td>\n",
              "    </tr>\n",
              "  </tbody>\n",
              "</table>\n",
              "</div>\n",
              "    <div class=\"colab-df-buttons\">\n",
              "\n",
              "  <div class=\"colab-df-container\">\n",
              "    <button class=\"colab-df-convert\" onclick=\"convertToInteractive('df-50b008c4-c9be-4466-90b7-452df1ee55e8')\"\n",
              "            title=\"Convert this dataframe to an interactive table.\"\n",
              "            style=\"display:none;\">\n",
              "\n",
              "  <svg xmlns=\"http://www.w3.org/2000/svg\" height=\"24px\" viewBox=\"0 -960 960 960\">\n",
              "    <path d=\"M120-120v-720h720v720H120Zm60-500h600v-160H180v160Zm220 220h160v-160H400v160Zm0 220h160v-160H400v160ZM180-400h160v-160H180v160Zm440 0h160v-160H620v160ZM180-180h160v-160H180v160Zm440 0h160v-160H620v160Z\"/>\n",
              "  </svg>\n",
              "    </button>\n",
              "\n",
              "  <style>\n",
              "    .colab-df-container {\n",
              "      display:flex;\n",
              "      gap: 12px;\n",
              "    }\n",
              "\n",
              "    .colab-df-convert {\n",
              "      background-color: #E8F0FE;\n",
              "      border: none;\n",
              "      border-radius: 50%;\n",
              "      cursor: pointer;\n",
              "      display: none;\n",
              "      fill: #1967D2;\n",
              "      height: 32px;\n",
              "      padding: 0 0 0 0;\n",
              "      width: 32px;\n",
              "    }\n",
              "\n",
              "    .colab-df-convert:hover {\n",
              "      background-color: #E2EBFA;\n",
              "      box-shadow: 0px 1px 2px rgba(60, 64, 67, 0.3), 0px 1px 3px 1px rgba(60, 64, 67, 0.15);\n",
              "      fill: #174EA6;\n",
              "    }\n",
              "\n",
              "    .colab-df-buttons div {\n",
              "      margin-bottom: 4px;\n",
              "    }\n",
              "\n",
              "    [theme=dark] .colab-df-convert {\n",
              "      background-color: #3B4455;\n",
              "      fill: #D2E3FC;\n",
              "    }\n",
              "\n",
              "    [theme=dark] .colab-df-convert:hover {\n",
              "      background-color: #434B5C;\n",
              "      box-shadow: 0px 1px 3px 1px rgba(0, 0, 0, 0.15);\n",
              "      filter: drop-shadow(0px 1px 2px rgba(0, 0, 0, 0.3));\n",
              "      fill: #FFFFFF;\n",
              "    }\n",
              "  </style>\n",
              "\n",
              "    <script>\n",
              "      const buttonEl =\n",
              "        document.querySelector('#df-50b008c4-c9be-4466-90b7-452df1ee55e8 button.colab-df-convert');\n",
              "      buttonEl.style.display =\n",
              "        google.colab.kernel.accessAllowed ? 'block' : 'none';\n",
              "\n",
              "      async function convertToInteractive(key) {\n",
              "        const element = document.querySelector('#df-50b008c4-c9be-4466-90b7-452df1ee55e8');\n",
              "        const dataTable =\n",
              "          await google.colab.kernel.invokeFunction('convertToInteractive',\n",
              "                                                    [key], {});\n",
              "        if (!dataTable) return;\n",
              "\n",
              "        const docLinkHtml = 'Like what you see? Visit the ' +\n",
              "          '<a target=\"_blank\" href=https://colab.research.google.com/notebooks/data_table.ipynb>data table notebook</a>'\n",
              "          + ' to learn more about interactive tables.';\n",
              "        element.innerHTML = '';\n",
              "        dataTable['output_type'] = 'display_data';\n",
              "        await google.colab.output.renderOutput(dataTable, element);\n",
              "        const docLink = document.createElement('div');\n",
              "        docLink.innerHTML = docLinkHtml;\n",
              "        element.appendChild(docLink);\n",
              "      }\n",
              "    </script>\n",
              "  </div>\n",
              "\n",
              "\n",
              "<div id=\"df-17844c59-b6a1-4fd5-ab25-6de341aa9cb0\">\n",
              "  <button class=\"colab-df-quickchart\" onclick=\"quickchart('df-17844c59-b6a1-4fd5-ab25-6de341aa9cb0')\"\n",
              "            title=\"Suggest charts\"\n",
              "            style=\"display:none;\">\n",
              "\n",
              "<svg xmlns=\"http://www.w3.org/2000/svg\" height=\"24px\"viewBox=\"0 0 24 24\"\n",
              "     width=\"24px\">\n",
              "    <g>\n",
              "        <path d=\"M19 3H5c-1.1 0-2 .9-2 2v14c0 1.1.9 2 2 2h14c1.1 0 2-.9 2-2V5c0-1.1-.9-2-2-2zM9 17H7v-7h2v7zm4 0h-2V7h2v10zm4 0h-2v-4h2v4z\"/>\n",
              "    </g>\n",
              "</svg>\n",
              "  </button>\n",
              "\n",
              "<style>\n",
              "  .colab-df-quickchart {\n",
              "      --bg-color: #E8F0FE;\n",
              "      --fill-color: #1967D2;\n",
              "      --hover-bg-color: #E2EBFA;\n",
              "      --hover-fill-color: #174EA6;\n",
              "      --disabled-fill-color: #AAA;\n",
              "      --disabled-bg-color: #DDD;\n",
              "  }\n",
              "\n",
              "  [theme=dark] .colab-df-quickchart {\n",
              "      --bg-color: #3B4455;\n",
              "      --fill-color: #D2E3FC;\n",
              "      --hover-bg-color: #434B5C;\n",
              "      --hover-fill-color: #FFFFFF;\n",
              "      --disabled-bg-color: #3B4455;\n",
              "      --disabled-fill-color: #666;\n",
              "  }\n",
              "\n",
              "  .colab-df-quickchart {\n",
              "    background-color: var(--bg-color);\n",
              "    border: none;\n",
              "    border-radius: 50%;\n",
              "    cursor: pointer;\n",
              "    display: none;\n",
              "    fill: var(--fill-color);\n",
              "    height: 32px;\n",
              "    padding: 0;\n",
              "    width: 32px;\n",
              "  }\n",
              "\n",
              "  .colab-df-quickchart:hover {\n",
              "    background-color: var(--hover-bg-color);\n",
              "    box-shadow: 0 1px 2px rgba(60, 64, 67, 0.3), 0 1px 3px 1px rgba(60, 64, 67, 0.15);\n",
              "    fill: var(--button-hover-fill-color);\n",
              "  }\n",
              "\n",
              "  .colab-df-quickchart-complete:disabled,\n",
              "  .colab-df-quickchart-complete:disabled:hover {\n",
              "    background-color: var(--disabled-bg-color);\n",
              "    fill: var(--disabled-fill-color);\n",
              "    box-shadow: none;\n",
              "  }\n",
              "\n",
              "  .colab-df-spinner {\n",
              "    border: 2px solid var(--fill-color);\n",
              "    border-color: transparent;\n",
              "    border-bottom-color: var(--fill-color);\n",
              "    animation:\n",
              "      spin 1s steps(1) infinite;\n",
              "  }\n",
              "\n",
              "  @keyframes spin {\n",
              "    0% {\n",
              "      border-color: transparent;\n",
              "      border-bottom-color: var(--fill-color);\n",
              "      border-left-color: var(--fill-color);\n",
              "    }\n",
              "    20% {\n",
              "      border-color: transparent;\n",
              "      border-left-color: var(--fill-color);\n",
              "      border-top-color: var(--fill-color);\n",
              "    }\n",
              "    30% {\n",
              "      border-color: transparent;\n",
              "      border-left-color: var(--fill-color);\n",
              "      border-top-color: var(--fill-color);\n",
              "      border-right-color: var(--fill-color);\n",
              "    }\n",
              "    40% {\n",
              "      border-color: transparent;\n",
              "      border-right-color: var(--fill-color);\n",
              "      border-top-color: var(--fill-color);\n",
              "    }\n",
              "    60% {\n",
              "      border-color: transparent;\n",
              "      border-right-color: var(--fill-color);\n",
              "    }\n",
              "    80% {\n",
              "      border-color: transparent;\n",
              "      border-right-color: var(--fill-color);\n",
              "      border-bottom-color: var(--fill-color);\n",
              "    }\n",
              "    90% {\n",
              "      border-color: transparent;\n",
              "      border-bottom-color: var(--fill-color);\n",
              "    }\n",
              "  }\n",
              "</style>\n",
              "\n",
              "  <script>\n",
              "    async function quickchart(key) {\n",
              "      const quickchartButtonEl =\n",
              "        document.querySelector('#' + key + ' button');\n",
              "      quickchartButtonEl.disabled = true;  // To prevent multiple clicks.\n",
              "      quickchartButtonEl.classList.add('colab-df-spinner');\n",
              "      try {\n",
              "        const charts = await google.colab.kernel.invokeFunction(\n",
              "            'suggestCharts', [key], {});\n",
              "      } catch (error) {\n",
              "        console.error('Error during call to suggestCharts:', error);\n",
              "      }\n",
              "      quickchartButtonEl.classList.remove('colab-df-spinner');\n",
              "      quickchartButtonEl.classList.add('colab-df-quickchart-complete');\n",
              "    }\n",
              "    (() => {\n",
              "      let quickchartButtonEl =\n",
              "        document.querySelector('#df-17844c59-b6a1-4fd5-ab25-6de341aa9cb0 button');\n",
              "      quickchartButtonEl.style.display =\n",
              "        google.colab.kernel.accessAllowed ? 'block' : 'none';\n",
              "    })();\n",
              "  </script>\n",
              "</div>\n",
              "\n",
              "    </div>\n",
              "  </div>\n"
            ],
            "application/vnd.google.colaboratory.intrinsic+json": {
              "type": "dataframe",
              "variable_name": "val_df",
              "summary": "{\n  \"name\": \"val_df\",\n  \"rows\": 720,\n  \"fields\": [\n    {\n      \"column\": \"text\",\n      \"properties\": {\n        \"dtype\": \"string\",\n        \"num_unique_values\": 704,\n        \"samples\": [\n          \"i have stomach ache, and bending over or lying down just makes it worse. when i consume certain meals, such as spicy or acidic cuisine, i have discomfort. this sometimes causes me to have loose stools.\",\n          \"i have a high fever along with a severe headache. the fever is accompanied by extreme body pain and chills. i am worried about my health and don\\u2019t know what to do.\",\n          \"i have a persistent cough and have been feeling quite fatigued. my fever is through the roof, and i'm having trouble breathing. when i cough, i also cough up a lot of mucous.\"\n        ],\n        \"semantic_type\": \"\",\n        \"description\": \"\"\n      }\n    },\n    {\n      \"column\": \"label\",\n      \"properties\": {\n        \"dtype\": \"category\",\n        \"num_unique_values\": 24,\n        \"samples\": [\n          \"pneumonia\",\n          \"hypertension\",\n          \"jaundice\"\n        ],\n        \"semantic_type\": \"\",\n        \"description\": \"\"\n      }\n    }\n  ]\n}"
            }
          },
          "metadata": {},
          "execution_count": 17
        }
      ]
    },
    {
      "cell_type": "markdown",
      "source": [
        "Now that we have text matched to labels, we can go ahead and save the `csv` files for these 3 different sets of data"
      ],
      "metadata": {
        "id": "cvjr1em9VYNT"
      }
    },
    {
      "cell_type": "code",
      "source": [
        "train_df.to_csv(os.path.join(base_dir, \"train.csv\"),  index = False, header = True)\n",
        "test_df.to_csv(os.path.join(base_dir, \"test.csv\"),  index = False, header = True)\n",
        "val_df.to_csv(os.path.join(base_dir, \"val.csv\"),  index = False, header = True)\n",
        "print(\"Done\")"
      ],
      "metadata": {
        "colab": {
          "base_uri": "https://localhost:8080/"
        },
        "id": "uQlpvRx4VWum",
        "outputId": "c2708657-108f-40f1-ccc5-92bd5393a09c"
      },
      "execution_count": 18,
      "outputs": [
        {
          "output_type": "stream",
          "name": "stdout",
          "text": [
            "Done\n"
          ]
        }
      ]
    },
    {
      "cell_type": "markdown",
      "source": [
        "In the following code cell we are going to count the examples that are in each set of our whole dataset."
      ],
      "metadata": {
        "id": "6_0O8AsVV0ra"
      }
    },
    {
      "cell_type": "code",
      "source": [
        "columns = [\"Set\", \"Example(s)\"]\n",
        "\n",
        "examples = [\n",
        "    ['training', len(train_df)],\n",
        "    ['validation', len(val_df)],\n",
        "    ['testing', len(test_df)],\n",
        "    ['total', len(train_df) +  len(test_df) + len(val_df)],\n",
        "]\n",
        "\n",
        "tabulate_data(columns, examples, \"Exmples\")"
      ],
      "metadata": {
        "colab": {
          "base_uri": "https://localhost:8080/"
        },
        "id": "MXeApTx7Vp-m",
        "outputId": "2c15f66d-0223-4eba-83cd-0e5255a474a9"
      },
      "execution_count": 19,
      "outputs": [
        {
          "output_type": "stream",
          "name": "stdout",
          "text": [
            "Exmples\n",
            "+------------+------------+\n",
            "| Set        | Example(s) |\n",
            "+------------+------------+\n",
            "| training   |       1200 |\n",
            "| validation |        720 |\n",
            "| testing    |        480 |\n",
            "| total      |       2400 |\n",
            "+------------+------------+\n"
          ]
        }
      ]
    },
    {
      "cell_type": "markdown",
      "source": [
        "The following visualization shows how the fraction of each example in each set."
      ],
      "metadata": {
        "id": "CEw_lCSt0T4f"
      }
    },
    {
      "cell_type": "code",
      "source": [
        "plt.figure(figsize=(4, 4))\n",
        "plt.pie([len(train_df), len(test_df), len(val_df)], explode= [.0, .0, .0], labels=['train', 'test', 'validation'],\n",
        "        colors=['#5F5D9C', '#6196A6', '#A4CE95'],\n",
        "        pctdistance=0.6, shadow=True, autopct='%1.1f%%', textprops={'color': 'white', 'fontsize':8}, radius=.6)\n",
        "plt.legend(fontsize=8)\n",
        "plt.show()"
      ],
      "metadata": {
        "colab": {
          "base_uri": "https://localhost:8080/",
          "height": 345
        },
        "id": "36vNYG0C0K5c",
        "outputId": "509633e4-8693-4c28-9a86-52cfbe0d7444"
      },
      "execution_count": 20,
      "outputs": [
        {
          "output_type": "display_data",
          "data": {
            "text/plain": [
              "<Figure size 400x400 with 1 Axes>"
            ],
            "image/png": "[encoded data removed]"
          },
          "metadata": {}
        }
      ]
    },
    {
      "cell_type": "markdown",
      "source": [
        "### Features and Labels\n",
        "Our fetures are the actual `text` in the dataframes which is the column named `text` and our labels will come from the column called `label`. In the following code cell we are going to read features and labels in a numpy arrays for each set."
      ],
      "metadata": {
        "id": "f5MGCJeBWMr1"
      }
    },
    {
      "cell_type": "code",
      "source": [
        "# train\n",
        "train_texts = train_df.text.values\n",
        "train_labels = train_df.label.values\n",
        "\n",
        "# test\n",
        "test_texts = test_df.text.values\n",
        "test_labels = test_df.label.values\n",
        "\n",
        "# val\n",
        "val_texts = val_df.text.values\n",
        "val_labels = val_df.label.values"
      ],
      "metadata": {
        "id": "0OtJMI3tWDxP"
      },
      "execution_count": 21,
      "outputs": []
    },
    {
      "cell_type": "markdown",
      "source": [
        "### Text Preprocessing\n",
        "In our text processing pipeline we need to do the following steps:\n",
        "\n",
        "1. tokenize sentences\n",
        "* this is the process of converting a sentence or text into senquence of word. For this process we are going to use a pre-trained model from spacy language model. You can read more about other tokenizers that you can use at [pytorch](https://pytorch.org/text/stable/data_utils.html).org.\n",
        "\n",
        "2. vocabulary\n",
        "We will to create a vocabulary based on our sentences that are in the train dataset. A `vocabulary` is esentially a `word` to `index` mapping that allows us to reference the word with their integer representation, since machine leaning models does not understand words. This vocabulary will be used during model training and also can be used at model inference.\n",
        "\n",
        "### Tokenizer\n",
        "In the following code cell we are going to geta a tokenier object that will convert a sentence into a sequence of word using the `spacy-en` language model. The reason we are using the english langauge model it's because our intents are in english."
      ],
      "metadata": {
        "id": "zn4H4nQPWh6I"
      }
    },
    {
      "cell_type": "code",
      "source": [
        "tokenizer = data.utils.get_tokenizer('spacy', 'en')\n",
        "tokenizer(\"This is a boy.\")"
      ],
      "metadata": {
        "colab": {
          "base_uri": "https://localhost:8080/"
        },
        "id": "cKzRB6ERWb-Z",
        "outputId": "2c55129b-2f5f-4204-e5d0-7f11d29a2bfc"
      },
      "execution_count": 22,
      "outputs": [
        {
          "output_type": "stream",
          "name": "stderr",
          "text": [
            "/usr/local/lib/python3.10/dist-packages/torchtext/data/utils.py:105: UserWarning: Spacy model \"en\" could not be loaded, trying \"en_core_web_sm\" instead\n",
            "  warnings.warn(\n"
          ]
        },
        {
          "output_type": "execute_result",
          "data": {
            "text/plain": [
              "['This', 'is', 'a', 'boy', '.']"
            ]
          },
          "metadata": {},
          "execution_count": 22
        }
      ]
    },
    {
      "cell_type": "markdown",
      "source": [
        "### Vocabulary\n",
        "In the following code cell we are going to create a `vocabulary` object from torchtext. So we are going to use the `Counter` module from `collections` to generate these counts from our train features.\n",
        "\n",
        "We are going to specify the `min_freq` to `2` meaning that the words that does not appear at least 2 times will be converted to unknown. We are also going to specify the special tokens during creation of the vocabulary object."
      ],
      "metadata": {
        "id": "6eg16gaXXYXe"
      }
    },
    {
      "cell_type": "code",
      "source": [
        "counter = Counter()\n",
        "for line in train_texts:\n",
        "    counter.update(tokenizer(line))\n",
        "#  our special tokens are (unknown, padding, start of sentence, end of sentence)\n",
        "vocabulary = vocab.vocab(counter, min_freq=2, specials=('<unk>', '<pad>', '<sos>', '<eos>'))"
      ],
      "metadata": {
        "id": "TGI6C9-8XETl"
      },
      "execution_count": 23,
      "outputs": []
    },
    {
      "cell_type": "markdown",
      "source": [
        "### STOI - String To Integer\n",
        "This will be a dictionary that contains a string to integer mapping which will be our actual vocabulary. In the following code cell we are going to create object called `stoi` which is essentially a dictionary of word to index mapping. This dictionary will be used during training as well as during model inference."
      ],
      "metadata": {
        "id": "cTx0dEomYPXs"
      }
    },
    {
      "cell_type": "code",
      "source": [
        "stoi = vocabulary.get_stoi()"
      ],
      "metadata": {
        "id": "P9qDNOS_XX-K"
      },
      "execution_count": 24,
      "outputs": []
    },
    {
      "cell_type": "markdown",
      "source": [
        "### Text Pipeline\n",
        "After our text has been tokenized we need a way of converting those words into numbers because machine leaning models understand numbers not words. That's where we the `text_pipeline` function comes into play. So this function takes in a sentence and tokenize it then converts each word to a number. Note that the word that does not exists in the vocabulay (`stoi`) will be converted to  an unkown `('<unk>')` token (0)."
      ],
      "metadata": {
        "id": "ERWg6ii7ZBR-"
      }
    },
    {
      "cell_type": "code",
      "source": [
        "def text_pipeline(x: str):\n",
        "  values = list()\n",
        "  tokens = tokenizer(x.lower()) # convert to lower case.\n",
        "  for token in tokens:\n",
        "    try:\n",
        "      v = stoi[token]\n",
        "    except KeyError as e:\n",
        "      v = stoi['<unk>']\n",
        "    values.append(v)\n",
        "  return values"
      ],
      "metadata": {
        "id": "76wRr0h0XX5U"
      },
      "execution_count": 25,
      "outputs": []
    },
    {
      "cell_type": "markdown",
      "source": [
        "### Label pipeline\n",
        "Our labels for now are just textual. We also need to convert these labels into numbers. This is very simple what we need to do is to get all the uniqe labels and then create a `labels_vocab` which is a label to integer representation.\n",
        "\n",
        "> As you have noticed we have `24` labels which are diseases that we need to  predict given a sequence of words or symptoms description.\n",
        "\n",
        "The `label_pipeline` function will then takes in the label and then returns us an integer representation of that label."
      ],
      "metadata": {
        "id": "7T5oM8aIZqdX"
      }
    },
    {
      "cell_type": "code",
      "source": [
        "labels_dict = {k: v for v, k in enumerate([d.lower() for d in diseases])}"
      ],
      "metadata": {
        "id": "-xdB9m-cXX0y"
      },
      "execution_count": 26,
      "outputs": []
    },
    {
      "cell_type": "code",
      "source": [
        "label_pipeline = lambda x: labels_dict[x]"
      ],
      "metadata": {
        "id": "j8Ub0Wq4XXxd"
      },
      "execution_count": 27,
      "outputs": []
    },
    {
      "cell_type": "markdown",
      "source": [
        "Now that we have our vocabularies for labels `labels_dict` and  features `stoi` we can then save thes files as they will be used suring model inference. We are going to save these files as `.json` files."
      ],
      "metadata": {
        "id": "0KSxxSUwbMLc"
      }
    },
    {
      "cell_type": "code",
      "source": [
        "with open(os.path.join(base_dir, \"vocab.json\"), 'w') as f:\n",
        "  f.write(json.dumps(stoi, indent=2))\n",
        "\n",
        "with open(os.path.join(base_dir, \"labels_dict.json\"), 'w') as f:\n",
        "  f.write(json.dumps(labels_dict, indent=2))\n",
        "\n",
        "print(\"Saved!!\")"
      ],
      "metadata": {
        "colab": {
          "base_uri": "https://localhost:8080/"
        },
        "id": "7kpBXmdMbhOe",
        "outputId": "16840ca1-522b-4141-9b68-9c08d4cb0222"
      },
      "execution_count": 28,
      "outputs": [
        {
          "output_type": "stream",
          "name": "stdout",
          "text": [
            "Saved!!\n"
          ]
        }
      ]
    },
    {
      "cell_type": "markdown",
      "source": [
        "Let's visualize how the labels are distributed in each set. For that we are going to create a function called `get_x_y()` that allows us to get `x` values and `y` values. And these values we are going to use them to plot a `bar` graph."
      ],
      "metadata": {
        "id": "VvPbzIaF6Nxk"
      }
    },
    {
      "cell_type": "code",
      "source": [
        "def get_x_y(labels):\n",
        "  d = {i: 0 for i in range(len(labels_dict))}\n",
        "  for label in labels:\n",
        "    v = labels_dict[label]\n",
        "    d[v] += 1\n",
        "  return d.keys(), d.values()\n",
        "\n",
        "colors = np.array([\n",
        "    '#86A789', '#B2C8BA', '#D2E3C8', '#EBF3E8', '#3A4D39',\n",
        "    '#FF7F50', '#FFA07A', '#FFDAB9', '#FFE4C4', '#FFDEAD',\n",
        "    '#6495ED', '#87CEEB', '#B0E0E6', '#ADD8E6', '#87CEFA',\n",
        "    '#20B2AA', '#48D1CC', '#AFEEEE', '#00CED1', '#E0FFFF',\n",
        "    '#FFD700', '#FFA500', '#FF8C00', '#FF6347'\n",
        "])"
      ],
      "metadata": {
        "id": "JK5m_bI36hsh"
      },
      "execution_count": 29,
      "outputs": []
    },
    {
      "cell_type": "markdown",
      "source": [
        "### Training Labels Distribution\n",
        "In teh following code cell we are going to visualize how the labels are distributed in the `train` set."
      ],
      "metadata": {
        "id": "wbzroD9s6r6B"
      }
    },
    {
      "cell_type": "code",
      "source": [
        "x, y = get_x_y(train_labels)\n",
        "plt.figure(figsize=(8, 3))\n",
        "plt.bar(x, y, color=colors, label=x,  width=.5)\n",
        "plt.title('Train Labels Distribution', fontsize=10)\n",
        "plt.xlabel(\"Label\", fontsize=8)\n",
        "plt.ylabel(\"count\", fontsize=8)\n",
        "plt.xticks(rotation=30, fontsize=8, ticks=list(labels_dict.values()))\n",
        "plt.legend(fontsize=8, labels=list(labels_dict.keys()), bbox_to_anchor=(1, 1), loc='upper left')\n",
        "plt.show()"
      ],
      "metadata": {
        "colab": {
          "base_uri": "https://localhost:8080/",
          "height": 438
        },
        "id": "ZxsBg7Yd6rpX",
        "outputId": "757b38fa-857d-4990-9cfc-dda6b8847ae1"
      },
      "execution_count": 30,
      "outputs": [
        {
          "output_type": "display_data",
          "data": {
            "text/plain": [
              "<Figure size 800x300 with 1 Axes>"
            ],
            "image/png": "[encoded data removed]"
          },
          "metadata": {}
        }
      ]
    },
    {
      "cell_type": "markdown",
      "source": [
        "### Test Labels Distribution\n",
        "In teh following code cell we are going to visualize how the labels are distributed in the `test` set."
      ],
      "metadata": {
        "id": "eMpb1nHZ6rgN"
      }
    },
    {
      "cell_type": "code",
      "source": [
        "x, y = get_x_y(test_labels)\n",
        "plt.figure(figsize=(8, 3))\n",
        "plt.bar(x, y, color=colors, label=x,  width=.5)\n",
        "plt.title('Test Labels Distribution', fontsize=10)\n",
        "plt.xlabel(\"Label\", fontsize=8)\n",
        "plt.ylabel(\"count\", fontsize=8)\n",
        "plt.xticks(rotation=30, fontsize=8, ticks=list(labels_dict.values()))\n",
        "plt.legend(fontsize=8, labels=list(labels_dict.keys()), bbox_to_anchor=(1, 1), loc='upper left')\n",
        "plt.show()"
      ],
      "metadata": {
        "colab": {
          "base_uri": "https://localhost:8080/",
          "height": 438
        },
        "id": "4-GIALaG659w",
        "outputId": "09f9e350-1886-430e-d4f8-2739f12e1e3e"
      },
      "execution_count": 31,
      "outputs": [
        {
          "output_type": "display_data",
          "data": {
            "text/plain": [
              "<Figure size 800x300 with 1 Axes>"
            ],
            "image/png": "[encoded data removed]"
          },
          "metadata": {}
        }
      ]
    },
    {
      "cell_type": "markdown",
      "source": [
        "### Validation Labels Distribution\n",
        "In teh following code cell we are going to visualize how the labels are distributed in the `validation` set."
      ],
      "metadata": {
        "id": "4c_9i3FC68my"
      }
    },
    {
      "cell_type": "code",
      "source": [
        "x, y = get_x_y(val_labels)\n",
        "plt.figure(figsize=(8, 3))\n",
        "plt.bar(x, y, color=colors, label=x,  width=.5)\n",
        "plt.title('Validation Labels Distribution', fontsize=10)\n",
        "plt.xlabel(\"Label\", fontsize=8)\n",
        "plt.ylabel(\"count\", fontsize=8)\n",
        "plt.xticks(rotation=30, fontsize=8, ticks=list(labels_dict.values()))\n",
        "plt.legend(fontsize=8, labels=list(labels_dict.keys()), bbox_to_anchor=(1, 1), loc='upper left')\n",
        "plt.show()"
      ],
      "metadata": {
        "colab": {
          "base_uri": "https://localhost:8080/",
          "height": 438
        },
        "id": "8Db_HGPj3U83",
        "outputId": "6c134e43-1764-4bf4-be89-967f84f15223"
      },
      "execution_count": 32,
      "outputs": [
        {
          "output_type": "display_data",
          "data": {
            "text/plain": [
              "<Figure size 800x300 with 1 Axes>"
            ],
            "image/png": "[encoded data removed]"
          },
          "metadata": {}
        }
      ]
    },
    {
      "cell_type": "markdown",
      "source": [
        "### Pretrained vectors\n",
        "In the following code cell we are going to download the predtrained word vectors. We are going to use the `GloVe.6B.100d`. These are pretrained vectors that were trained with about `~6B` words and have a vector representation of a word in `100` dimension for each word."
      ],
      "metadata": {
        "id": "D-s0S-pza939"
      }
    },
    {
      "cell_type": "code",
      "source": [
        "EMBEDDING_DIM = 100\n",
        "glove_vectors = vocab.GloVe('6B', dim=EMBEDDING_DIM)"
      ],
      "metadata": {
        "id": "Mtrb3ctoXXsW",
        "colab": {
          "base_uri": "https://localhost:8080/"
        },
        "outputId": "40cc1ffd-081f-471f-c588-eee6b6e5f843"
      },
      "execution_count": 33,
      "outputs": [
        {
          "output_type": "stream",
          "name": "stderr",
          "text": [
            ".vector_cache/glove.6B.zip: 862MB [02:53, 4.97MB/s]                           \n",
            "100%|█████████▉| 399999/400000 [00:20<00:00, 19663.92it/s]\n"
          ]
        }
      ]
    },
    {
      "cell_type": "markdown",
      "source": [
        "### Creating Embedding matrix\n",
        "Now that we have our glove vectors we need to costomize them so that they fit our use case. We are going to create an embedding matrix that suits the our vocabulary. So essentially this embedding matrix will be the word to vector mapping for all the words that arein our vocabulary."
      ],
      "metadata": {
        "id": "Kc_GWFnQcYmd"
      }
    },
    {
      "cell_type": "code",
      "source": [
        "VOCAB_SIZE = len(stoi)\n",
        "EMBEDDING_MATRIX= torch.zeros([VOCAB_SIZE, EMBEDDING_DIM])\n",
        "for i, word in enumerate(vocabulary.get_itos()):\n",
        "  EMBEDDING_MATRIX[i] = glove_vectors[word]"
      ],
      "metadata": {
        "id": "BeVKb-33a9dH"
      },
      "execution_count": 34,
      "outputs": []
    },
    {
      "cell_type": "markdown",
      "source": [
        "In the followig code cell we are going to check the embedding matrix for the word `\"the\"`."
      ],
      "metadata": {
        "id": "y9Tr8ACuciDP"
      }
    },
    {
      "cell_type": "code",
      "source": [
        "EMBEDDING_MATRIX[stoi['rashes']]"
      ],
      "metadata": {
        "colab": {
          "base_uri": "https://localhost:8080/"
        },
        "id": "84DLGctra9aF",
        "outputId": "cc907623-199d-4750-a7f4-f9283c823ed1"
      },
      "execution_count": 35,
      "outputs": [
        {
          "output_type": "execute_result",
          "data": {
            "text/plain": [
              "tensor([-0.0940, -0.4780,  0.1963,  0.1708, -0.3933,  0.1521,  0.0457,  0.1012,\n",
              "         0.1560, -0.7529, -0.4220, -0.7771,  0.9255,  0.4668,  0.7455, -0.0863,\n",
              "        -0.9490, -0.9518,  0.1909, -0.6723, -0.5767,  0.6063, -0.7237,  0.8700,\n",
              "         0.6882,  0.8048,  0.6606, -0.0345,  0.3939, -0.9757,  0.3382,  0.2372,\n",
              "        -0.1619, -0.1441, -0.7168,  0.2400,  0.5837, -0.3739, -0.0716,  0.5532,\n",
              "        -0.1439,  0.6237, -0.7219, -1.1488, -0.8956,  1.3508,  0.3170,  0.6591,\n",
              "         0.2489, -0.3259, -0.2373, -0.2869, -0.8275,  0.2285,  0.3482,  0.0633,\n",
              "         0.5941,  0.2802, -0.9896, -0.2571,  0.3315,  1.4114,  0.5243,  0.2785,\n",
              "        -0.2324, -0.0899,  0.5105, -0.7090,  0.6590, -1.2017, -0.3753, -0.1030,\n",
              "         0.4379, -0.0864, -0.0114,  0.9335, -0.3950,  0.5125, -0.0697,  0.8756,\n",
              "         0.6625, -0.2473,  0.1869,  0.6091, -0.7198, -0.4607,  0.5697,  0.1913,\n",
              "        -0.9225,  0.4444, -0.1880, -0.2680, -0.1879,  0.2891,  0.4514,  1.0086,\n",
              "        -0.5549, -0.5044,  0.7773, -0.9821])"
            ]
          },
          "metadata": {},
          "execution_count": 35
        }
      ]
    },
    {
      "cell_type": "markdown",
      "source": [
        "### Creating Dataset for Training\n",
        "\n",
        "In the following code cell we are going to create a dataset class called `S2DCDataset`. This dataset will takes in the labels and the text of a set."
      ],
      "metadata": {
        "id": "qzFJ0SZZcrhk"
      }
    },
    {
      "cell_type": "code",
      "source": [
        "class S2DCDataset(torch.utils.data.Dataset):\n",
        "  def __init__(self, labels, text):\n",
        "    super(S2DCDataset, self).__init__()\n",
        "    self.labels = labels\n",
        "    self.text = text\n",
        "\n",
        "  def __getitem__(self, index):\n",
        "    return self.labels[index], self.text[index]\n",
        "\n",
        "  def __len__(self):\n",
        "    return len(self.labels)"
      ],
      "metadata": {
        "id": "g3e35_Aza9W6"
      },
      "execution_count": 36,
      "outputs": []
    },
    {
      "cell_type": "markdown",
      "source": [
        "### collate_fn\n",
        "We are going to create a collate function called `tokenize_batch`. This function actually takes in a `batch` and does the preprocessing of the text and labels. This function will be passed to the `DataLoader` class to do the preprocessing of features and labels.\n",
        "\n",
        "`tokenize_batch` function:\n",
        "\n",
        "* this function takes in a batch in each set and convert the features and labels to integer representation. It goes ahead and `pad` and `truncate` the sequence to the same `length` and returns `labels` and `features`."
      ],
      "metadata": {
        "id": "AP49l5SIc8YB"
      }
    },
    {
      "cell_type": "code",
      "source": [
        "def tokenize_batch(batch, max_len=100, padding=\"pre\"):\n",
        "  assert padding==\"pre\" or padding==\"post\", \"the padding can be either pre or post\"\n",
        "  labels_list, text_list = [], []\n",
        "  for _label, _text in batch:\n",
        "    labels_list.append(label_pipeline(_label))\n",
        "    text_holder = torch.zeros(max_len, dtype=torch.int32)\n",
        "    processed_text = torch.tensor(text_pipeline(_text.lower()), dtype=torch.int32)\n",
        "    pos = min(max_len, len(processed_text))\n",
        "    if padding == \"pre\":\n",
        "      text_holder[:pos] = processed_text[:pos]\n",
        "    else:\n",
        "      text_holder[-pos:] = processed_text[-pos:]\n",
        "    text_list.append(text_holder.unsqueeze(dim=0))\n",
        "  #  the labels will be torch long tensors since it is a multi-class classification.\n",
        "  return torch.LongTensor(labels_list), torch.cat(text_list, dim=0)"
      ],
      "metadata": {
        "id": "YzOXdOcka9UA"
      },
      "execution_count": 37,
      "outputs": []
    },
    {
      "cell_type": "markdown",
      "source": [
        "### Datasets\n",
        "In the following code cell we are going to create the datasets for all our three sets using the `MHCBataset` class."
      ],
      "metadata": {
        "id": "BftA18_edart"
      }
    },
    {
      "cell_type": "code",
      "source": [
        "train_dataset = S2DCDataset(train_labels, train_texts)\n",
        "test_dataset = S2DCDataset(test_labels, test_texts)\n",
        "val_dataset = S2DCDataset(val_labels, val_texts)"
      ],
      "metadata": {
        "id": "tPaNeJOVdVrt"
      },
      "execution_count": 38,
      "outputs": []
    },
    {
      "cell_type": "markdown",
      "source": [
        "### Iterators\n",
        "In the following code cell we are going to create loaders using the `DataLoader` class from `torch.utils.data` for our `3` sets. We are going to use the `batch_size` of `128` and our `collate_function` is `tokenize_batch`. For the validation and testing dataset we are going to set the shuffle to `False` because there's no need fo us to shuffle these examples."
      ],
      "metadata": {
        "id": "jLrPPmq2dpKw"
      }
    },
    {
      "cell_type": "code",
      "source": [
        "BATCH_SIZE = 128\n",
        "train_loader = torch.utils.data.DataLoader(train_dataset, batch_size=BATCH_SIZE, shuffle=True, collate_fn=tokenize_batch)\n",
        "test_loader = torch.utils.data.DataLoader(test_dataset, batch_size=BATCH_SIZE, shuffle=False, collate_fn=tokenize_batch)\n",
        "val_loader = torch.utils.data.DataLoader(val_dataset, batch_size=BATCH_SIZE, shuffle=False, collate_fn=tokenize_batch)"
      ],
      "metadata": {
        "id": "aFhmjJ0qdiXk"
      },
      "execution_count": 39,
      "outputs": []
    },
    {
      "cell_type": "markdown",
      "source": [
        "Checking a single Batch Data"
      ],
      "metadata": {
        "id": "khiKQFrJd58l"
      }
    },
    {
      "cell_type": "code",
      "source": [
        "lbl, txt = next(iter(train_loader))"
      ],
      "metadata": {
        "id": "Pfq_L5KNd-GT"
      },
      "execution_count": 40,
      "outputs": []
    },
    {
      "cell_type": "markdown",
      "source": [
        "Labels in the first batch."
      ],
      "metadata": {
        "id": "6EZVZH0hd-C0"
      }
    },
    {
      "cell_type": "code",
      "source": [
        "lbl"
      ],
      "metadata": {
        "colab": {
          "base_uri": "https://localhost:8080/"
        },
        "id": "g-6-3P76d9_s",
        "outputId": "e9d0c734-7c16-43fe-fed2-9a8d4ba8c9e4"
      },
      "execution_count": 41,
      "outputs": [
        {
          "output_type": "execute_result",
          "data": {
            "text/plain": [
              "tensor([ 2,  0,  4, 10,  9,  5,  0,  4,  2, 22, 14, 16,  5, 22,  2,  0, 16, 13,\n",
              "         6,  3,  5, 10, 11,  8, 13,  7, 14, 23, 10, 19, 16,  7, 22,  5,  2,  9,\n",
              "        17,  3,  2,  5, 19,  9,  5,  4, 20, 14,  0, 14, 18, 13, 15, 12, 19,  6,\n",
              "        22, 14,  0, 10, 14, 19, 21, 21, 16, 17,  4,  8,  4, 12, 13,  1, 21,  2,\n",
              "        15, 16, 18, 22,  9,  0,  5,  0,  0, 17,  1, 16,  2, 12,  0,  8, 21,  6,\n",
              "        12, 15, 14,  2,  8, 23,  4,  4,  1,  8, 10, 13, 22, 22,  4, 14,  8, 19,\n",
              "        22, 23,  5, 15, 22, 17, 17, 22, 11, 17, 11,  1, 12, 14, 18, 11,  2,  3,\n",
              "         4, 14])"
            ]
          },
          "metadata": {},
          "execution_count": 41
        }
      ]
    },
    {
      "cell_type": "markdown",
      "source": [
        "The first sentence in the batch."
      ],
      "metadata": {
        "id": "i-ho13LdeNC6"
      }
    },
    {
      "cell_type": "code",
      "source": [
        "txt[0]"
      ],
      "metadata": {
        "colab": {
          "base_uri": "https://localhost:8080/"
        },
        "id": "12CNt4ffeM-b",
        "outputId": "1c28e744-893b-4907-e89f-c7ba449032b3"
      },
      "execution_count": 42,
      "outputs": [
        {
          "output_type": "execute_result",
          "data": {
            "text/plain": [
              "tensor([  4,  34,   7,  24,  71, 475,  17,  26,  11,  17,   4,  76,  77,  78,\n",
              "         65, 189, 644,  57,  62,  20,   4,  34,  13, 336,  42,  17,  13, 678,\n",
              "         54,  83,  43,  53, 503,  20,   4,  76,  77, 940, 297,  49, 916,  20,\n",
              "          0,   0,   0,   0,   0,   0,   0,   0,   0,   0,   0,   0,   0,   0,\n",
              "          0,   0,   0,   0,   0,   0,   0,   0,   0,   0,   0,   0,   0,   0,\n",
              "          0,   0,   0,   0,   0,   0,   0,   0,   0,   0,   0,   0,   0,   0,\n",
              "          0,   0,   0,   0,   0,   0,   0,   0,   0,   0,   0,   0,   0,   0,\n",
              "          0,   0], dtype=torch.int32)"
            ]
          },
          "metadata": {},
          "execution_count": 42
        }
      ]
    },
    {
      "cell_type": "markdown",
      "source": [
        "### Model Creation\n",
        "Now that we have our loaders we can now create a model. The model that we are going to create is called `S2DCModel`.  As mentioned we are going to use `BiDirectional Long Short Term Memory (BiLSTM)` to build this model."
      ],
      "metadata": {
        "id": "WlFHj0dBeYlV"
      }
    },
    {
      "cell_type": "code",
      "source": [
        "class S2DCModel(nn.Module):\n",
        "  def __init__(self, vocab_size, embedding_size, hidden_size, output_size, num_layers\n",
        "               , bidirectional, dropout, pad_idx):\n",
        "    super(S2DCModel, self).__init__()\n",
        "\n",
        "    self.embedding = nn.Sequential(\n",
        "        nn.Embedding(vocab_size, embedding_dim=embedding_size, padding_idx=pad_idx),\n",
        "        nn.Dropout(dropout)\n",
        "    )\n",
        "    self.lstm = nn.Sequential(\n",
        "        nn.LSTM(\n",
        "          embedding_size,\n",
        "          hidden_size=hidden_size,\n",
        "          bidirectional=bidirectional,\n",
        "          num_layers=num_layers,\n",
        "          dropout=dropout\n",
        "        )\n",
        "    )\n",
        "    self.out = nn.Sequential(\n",
        "        nn.Linear(hidden_size * 2, out_features=128),\n",
        "        nn.Dropout(dropout),\n",
        "        nn.Linear(128, out_features=output_size),\n",
        "        nn.Dropout(dropout)\n",
        "    )\n",
        "\n",
        "  def forward(self, text, text_lengths):\n",
        "    embedded = self.embedding(text)\n",
        "    # set batch_first=true since input shape has batch_size first and text_lengths to the device.\n",
        "    packed_embedded = nn.utils.rnn.pack_padded_sequence(embedded, text_lengths.to('cpu'), enforce_sorted=False, batch_first=True)\n",
        "    packed_output, (h_0, c_0) = self.lstm(packed_embedded)\n",
        "    output, output_lengths = nn.utils.rnn.pad_packed_sequence(packed_output)\n",
        "    output = torch.cat((h_0[-2,:,:], h_0[-1,:,:]), dim = 1)\n",
        "    return self.out(output)"
      ],
      "metadata": {
        "id": "KUWtbBIceM7d"
      },
      "execution_count": 43,
      "outputs": []
    },
    {
      "cell_type": "markdown",
      "source": [
        "### Model Instance\n",
        "In the following code cell we are going to create a model instance."
      ],
      "metadata": {
        "id": "z509c1kIe4b5"
      }
    },
    {
      "cell_type": "code",
      "source": [
        "INPUT_DIM = len(stoi)\n",
        "EMBEDDING_DIM = 100\n",
        "HIDDEN_DIM = 256\n",
        "OUTPUT_DIM = len(labels_dict)\n",
        "N_LAYERS = 2\n",
        "BIDIRECTIONAL = True\n",
        "DROPOUT = 0.5\n",
        "PAD_IDX = stoi['<pad>']\n",
        "s2dc_model = S2DCModel(\n",
        "              INPUT_DIM,\n",
        "              EMBEDDING_DIM,\n",
        "              HIDDEN_DIM,\n",
        "              OUTPUT_DIM,\n",
        "              N_LAYERS,\n",
        "              BIDIRECTIONAL,\n",
        "              DROPOUT,\n",
        "              PAD_IDX\n",
        ").to(device)\n",
        "s2dc_model"
      ],
      "metadata": {
        "colab": {
          "base_uri": "https://localhost:8080/"
        },
        "id": "-F0hcAj4eMtn",
        "outputId": "c95bcfb0-a69a-4ada-c17e-22f43446db4f"
      },
      "execution_count": 44,
      "outputs": [
        {
          "output_type": "execute_result",
          "data": {
            "text/plain": [
              "S2DCModel(\n",
              "  (embedding): Sequential(\n",
              "    (0): Embedding(1127, 100, padding_idx=1)\n",
              "    (1): Dropout(p=0.5, inplace=False)\n",
              "  )\n",
              "  (lstm): Sequential(\n",
              "    (0): LSTM(100, 256, num_layers=2, dropout=0.5, bidirectional=True)\n",
              "  )\n",
              "  (out): Sequential(\n",
              "    (0): Linear(in_features=512, out_features=128, bias=True)\n",
              "    (1): Dropout(p=0.5, inplace=False)\n",
              "    (2): Linear(in_features=128, out_features=24, bias=True)\n",
              "    (3): Dropout(p=0.5, inplace=False)\n",
              "  )\n",
              ")"
            ]
          },
          "metadata": {},
          "execution_count": 44
        }
      ]
    },
    {
      "cell_type": "markdown",
      "source": [
        "### Counting Model Parameters\n",
        "In the following code cell we are going to count the model parameters."
      ],
      "metadata": {
        "id": "5Q3sHK_rfLch"
      }
    },
    {
      "cell_type": "code",
      "source": [
        "\n",
        "def model_params(model):\n",
        "  total_params = sum([p.numel() for p in model.parameters()])\n",
        "  trainable_params = sum([p.numel() for p in model.parameters() if p.requires_grad])\n",
        "  tabulate_data([\"\",\"Parameters\"],\n",
        "           [[\"total parameters\", f'{total_params:,}'],\n",
        "            [\"trainable parameters\", f'{trainable_params:,}']],\n",
        "           \"MODEL PARAMETERS\"\n",
        "           )\n",
        "model_params(s2dc_model)"
      ],
      "metadata": {
        "colab": {
          "base_uri": "https://localhost:8080/"
        },
        "id": "n6aaOSVbd98d",
        "outputId": "97dd9859-51ea-49e8-a55e-be9c5925115b"
      },
      "execution_count": 45,
      "outputs": [
        {
          "output_type": "stream",
          "name": "stdout",
          "text": [
            "MODEL PARAMETERS\n",
            "+----------------------+------------+\n",
            "|                      | Parameters |\n",
            "+----------------------+------------+\n",
            "| total parameters     |  2,491,604 |\n",
            "| trainable parameters |  2,491,604 |\n",
            "+----------------------+------------+\n"
          ]
        }
      ]
    },
    {
      "cell_type": "markdown",
      "source": [
        "### Loading Embedding Vectors\n",
        "In the following code cell we are going to load the pretained custom vectors in our embedding layer. We are going to load the embedding vectors tha suits our data using the `mhcb_model.embedding[0].weight.data.copy_(EMBEDDING_MATRIX)` as follows:"
      ],
      "metadata": {
        "id": "ixhvbZrnfa1o"
      }
    },
    {
      "cell_type": "code",
      "source": [
        "s2dc_model.embedding[0].weight.data.copy_(EMBEDDING_MATRIX)"
      ],
      "metadata": {
        "colab": {
          "base_uri": "https://localhost:8080/"
        },
        "id": "hWmuwFOCd959",
        "outputId": "9acbf4fb-9faf-4d40-aff7-e3ad79b73051"
      },
      "execution_count": 46,
      "outputs": [
        {
          "output_type": "execute_result",
          "data": {
            "text/plain": [
              "tensor([[ 0.0000,  0.0000,  0.0000,  ...,  0.0000,  0.0000,  0.0000],\n",
              "        [ 0.0000,  0.0000,  0.0000,  ...,  0.0000,  0.0000,  0.0000],\n",
              "        [ 0.0000,  0.0000,  0.0000,  ...,  0.0000,  0.0000,  0.0000],\n",
              "        ...,\n",
              "        [-0.8353,  0.5702,  0.1922,  ..., -0.2583,  1.1413, -0.2057],\n",
              "        [ 0.5105, -0.6065,  0.5856,  ...,  0.0143,  0.7046,  0.2131],\n",
              "        [ 0.0220, -0.1008,  0.2294,  ..., -0.9317,  0.8893,  0.3623]],\n",
              "       device='cuda:0')"
            ]
          },
          "metadata": {},
          "execution_count": 46
        }
      ]
    },
    {
      "cell_type": "markdown",
      "source": [
        "### Optimizer and Criterion\n",
        "\n",
        "In the following code cell we are going to define the `optimizer` and `criterion`. For the `optimizer` we are going to use the `Adam` optimizer with default parameters and for the criterion we are going to use the `CrossEntropyLoss()` function since this is a `multi-class` classification."
      ],
      "metadata": {
        "id": "61W2JkF3f0V_"
      }
    },
    {
      "cell_type": "code",
      "source": [
        "optimizer = torch.optim.Adam(s2dc_model.parameters())\n",
        "criterion = nn.CrossEntropyLoss().to(device)"
      ],
      "metadata": {
        "id": "bHJL3sJyd93Z"
      },
      "execution_count": 47,
      "outputs": []
    },
    {
      "cell_type": "markdown",
      "source": [
        "In the following code cell we are going to create our `categorical_accuracy` function, which is a function that calulates the the catecorical accuracy between the predicted labels and real labels."
      ],
      "metadata": {
        "id": "ifivhpn5gITZ"
      }
    },
    {
      "cell_type": "code",
      "source": [
        "def categorical_accuracy(preds, y):\n",
        "  top_pred = preds.argmax(1, keepdim = True)\n",
        "  correct = top_pred.eq(y.view_as(top_pred)).sum()\n",
        "  acc = correct.float() / y.shape[0]\n",
        "  return acc"
      ],
      "metadata": {
        "id": "7LAsdm-DgEbF"
      },
      "execution_count": 48,
      "outputs": []
    },
    {
      "cell_type": "markdown",
      "source": [
        "### Train and Evaluate functions\n",
        "In the following code cell we are going to create our `train` and `evalute` functions:"
      ],
      "metadata": {
        "id": "JQZ49pfrgSPj"
      }
    },
    {
      "cell_type": "code",
      "source": [
        "def train(model, iterator, optimizer, criterion):\n",
        "  epoch_loss,epoch_acc = 0, 0\n",
        "  model.train()\n",
        "  for batch in iterator:\n",
        "    y, X = batch\n",
        "    X = X.to(device)\n",
        "    y = y.to(device)\n",
        "    lengths = torch.tensor([len(i) for i in X])\n",
        "    optimizer.zero_grad()\n",
        "\n",
        "    predictions = model(X, lengths).squeeze(1)\n",
        "    loss = criterion(predictions, y)\n",
        "    acc = categorical_accuracy(predictions, y)\n",
        "    loss.backward()\n",
        "    optimizer.step()\n",
        "    epoch_loss += loss.item()\n",
        "    epoch_acc += acc.item()\n",
        "  return epoch_loss / len(iterator), epoch_acc / len(iterator)\n",
        "\n",
        "def evaluate(model, iterator, criterion):\n",
        "  epoch_loss,epoch_acc = 0, 0\n",
        "  model.eval()\n",
        "  with torch.no_grad():\n",
        "    for batch in iterator:\n",
        "      y, X = batch\n",
        "      X = X.to(device)\n",
        "      y = y.to(device)\n",
        "      lengths = torch.tensor([len(i) for i in X])\n",
        "      predictions = model(X, lengths).squeeze(1)\n",
        "      loss = criterion(predictions, y)\n",
        "      acc = categorical_accuracy(predictions, y)\n",
        "      epoch_loss += loss.item()\n",
        "      epoch_acc += acc.item()\n",
        "  return epoch_loss / len(iterator), epoch_acc / len(iterator)"
      ],
      "metadata": {
        "id": "lkZUeIWJgPBx"
      },
      "execution_count": 49,
      "outputs": []
    },
    {
      "cell_type": "markdown",
      "source": [
        "Let's create a history container that will store our training history values."
      ],
      "metadata": {
        "id": "424RS2tb_P61"
      }
    },
    {
      "cell_type": "code",
      "source": [
        "class History:\n",
        "  def __init__(self):\n",
        "    self.train_losses = list()\n",
        "    self.train_acc = list()\n",
        "    self.epoch_train_time = list()\n",
        "    self.val_losses = list()\n",
        "    self.val_acc = list()\n",
        "\n",
        "  def add(self, train_loss:float, train_acc:float, val_loss:float, val_acc:float, elt:float):\n",
        "    self.train_losses.append(train_loss)\n",
        "    self.val_losses.append(val_loss)\n",
        "    self.train_acc.append(train_acc)\n",
        "    self.val_acc.append(val_acc)\n",
        "    self.epoch_train_time.append(elt)"
      ],
      "metadata": {
        "id": "yaL6v7RN_Ian"
      },
      "execution_count": 50,
      "outputs": []
    },
    {
      "cell_type": "markdown",
      "source": [
        "### Training Loop\n",
        "In the following code cell we are going to run the training loop. We are going to save the model when the loss decreased."
      ],
      "metadata": {
        "id": "uSIas6DcgfMM"
      }
    },
    {
      "cell_type": "code",
      "source": [
        "N_EPOCHS = 30\n",
        "MODEL_NAME = 's2dc_model.pt'\n",
        "\n",
        "best_valid_loss = float('inf')\n",
        "history = History()\n",
        "training_start = time.time()\n",
        "last_saved_epoch = 1\n",
        "\n",
        "for epoch in range(N_EPOCHS):\n",
        "  start = time.time()\n",
        "  train_loss, train_acc = train(s2dc_model, train_loader, optimizer, criterion)\n",
        "  valid_loss, valid_acc = evaluate(s2dc_model, val_loader, criterion)\n",
        "  title = f\"EPOCH: {epoch+1:02}/{N_EPOCHS:02} {'saving best model...' if valid_loss < best_valid_loss else 'not saving...'}\"\n",
        "  if valid_loss < best_valid_loss:\n",
        "      best_valid_loss = valid_loss\n",
        "      torch.save(s2dc_model.state_dict(), MODEL_NAME)\n",
        "      last_saved_epoch = epoch + 1\n",
        "\n",
        "  end = time.time()\n",
        "  history.add(train_loss, train_acc, valid_loss, valid_acc, end-start)\n",
        "  data = [\n",
        "       [\"Training\", f'{train_loss:.3f}', f'{train_acc:.3f}', f\"{hms_string(end - start)}\" ],\n",
        "       [\"Validation\", f'{valid_loss:.3f}', f'{valid_acc:.3f}', \"\" ],\n",
        "   ]\n",
        "  columns = [\"CATEGORY\", \"LOSS\", \"ACCURACY\", \"ETA\"]\n",
        "  tabulate_data(columns, data, title)\n",
        "\n",
        "training_end = time.time()"
      ],
      "metadata": {
        "id": "4DLKNbVmgba4",
        "colab": {
          "base_uri": "https://localhost:8080/"
        },
        "outputId": "747718bb-7095-4d8f-c22b-a9a07c62a408"
      },
      "execution_count": 51,
      "outputs": [
        {
          "output_type": "stream",
          "name": "stdout",
          "text": [
            "EPOCH: 01/30 saving best model...\n",
            "+------------+-------+----------+------------+\n",
            "| CATEGORY   |  LOSS | ACCURACY |        ETA |\n",
            "+------------+-------+----------+------------+\n",
            "| Training   | 3.181 |    0.044 | 0:00:02.34 |\n",
            "| Validation | 3.171 |    0.047 |            |\n",
            "+------------+-------+----------+------------+\n",
            "EPOCH: 02/30 saving best model...\n",
            "+------------+-------+----------+------------+\n",
            "| CATEGORY   |  LOSS | ACCURACY |        ETA |\n",
            "+------------+-------+----------+------------+\n",
            "| Training   | 3.174 |    0.065 | 0:00:01.60 |\n",
            "| Validation | 3.151 |    0.147 |            |\n",
            "+------------+-------+----------+------------+\n",
            "EPOCH: 03/30 saving best model...\n",
            "+------------+-------+----------+------------+\n",
            "| CATEGORY   |  LOSS | ACCURACY |        ETA |\n",
            "+------------+-------+----------+------------+\n",
            "| Training   | 3.111 |    0.101 | 0:00:00.93 |\n",
            "| Validation | 2.920 |    0.153 |            |\n",
            "+------------+-------+----------+------------+\n",
            "EPOCH: 04/30 saving best model...\n",
            "+------------+-------+----------+------------+\n",
            "| CATEGORY   |  LOSS | ACCURACY |        ETA |\n",
            "+------------+-------+----------+------------+\n",
            "| Training   | 3.057 |    0.113 | 0:00:00.93 |\n",
            "| Validation | 2.913 |    0.194 |            |\n",
            "+------------+-------+----------+------------+\n",
            "EPOCH: 05/30 saving best model...\n",
            "+------------+-------+----------+------------+\n",
            "| CATEGORY   |  LOSS | ACCURACY |        ETA |\n",
            "+------------+-------+----------+------------+\n",
            "| Training   | 2.916 |    0.163 | 0:00:00.93 |\n",
            "| Validation | 2.662 |    0.238 |            |\n",
            "+------------+-------+----------+------------+\n",
            "EPOCH: 06/30 saving best model...\n",
            "+------------+-------+----------+------------+\n",
            "| CATEGORY   |  LOSS | ACCURACY |        ETA |\n",
            "+------------+-------+----------+------------+\n",
            "| Training   | 2.852 |    0.160 | 0:00:00.94 |\n",
            "| Validation | 2.603 |    0.341 |            |\n",
            "+------------+-------+----------+------------+\n",
            "EPOCH: 07/30 saving best model...\n",
            "+------------+-------+----------+------------+\n",
            "| CATEGORY   |  LOSS | ACCURACY |        ETA |\n",
            "+------------+-------+----------+------------+\n",
            "| Training   | 2.728 |    0.218 | 0:00:00.93 |\n",
            "| Validation | 2.307 |    0.376 |            |\n",
            "+------------+-------+----------+------------+\n",
            "EPOCH: 08/30 saving best model...\n",
            "+------------+-------+----------+------------+\n",
            "| CATEGORY   |  LOSS | ACCURACY |        ETA |\n",
            "+------------+-------+----------+------------+\n",
            "| Training   | 2.685 |    0.216 | 0:00:00.95 |\n",
            "| Validation | 2.229 |    0.425 |            |\n",
            "+------------+-------+----------+------------+\n",
            "EPOCH: 09/30 saving best model...\n",
            "+------------+-------+----------+------------+\n",
            "| CATEGORY   |  LOSS | ACCURACY |        ETA |\n",
            "+------------+-------+----------+------------+\n",
            "| Training   | 2.625 |    0.233 | 0:00:00.93 |\n",
            "| Validation | 2.182 |    0.467 |            |\n",
            "+------------+-------+----------+------------+\n",
            "EPOCH: 10/30 saving best model...\n",
            "+------------+-------+----------+------------+\n",
            "| CATEGORY   |  LOSS | ACCURACY |        ETA |\n",
            "+------------+-------+----------+------------+\n",
            "| Training   | 2.522 |    0.270 | 0:00:00.94 |\n",
            "| Validation | 2.004 |    0.473 |            |\n",
            "+------------+-------+----------+------------+\n",
            "EPOCH: 11/30 saving best model...\n",
            "+------------+-------+----------+------------+\n",
            "| CATEGORY   |  LOSS | ACCURACY |        ETA |\n",
            "+------------+-------+----------+------------+\n",
            "| Training   | 2.470 |    0.288 | 0:00:00.93 |\n",
            "| Validation | 1.943 |    0.541 |            |\n",
            "+------------+-------+----------+------------+\n",
            "EPOCH: 12/30 saving best model...\n",
            "+------------+-------+----------+------------+\n",
            "| CATEGORY   |  LOSS | ACCURACY |        ETA |\n",
            "+------------+-------+----------+------------+\n",
            "| Training   | 2.417 |    0.291 | 0:00:00.94 |\n",
            "| Validation | 1.757 |    0.566 |            |\n",
            "+------------+-------+----------+------------+\n",
            "EPOCH: 13/30 saving best model...\n",
            "+------------+-------+----------+------------+\n",
            "| CATEGORY   |  LOSS | ACCURACY |        ETA |\n",
            "+------------+-------+----------+------------+\n",
            "| Training   | 2.366 |    0.315 | 0:00:01.05 |\n",
            "| Validation | 1.715 |    0.606 |            |\n",
            "+------------+-------+----------+------------+\n",
            "EPOCH: 14/30 saving best model...\n",
            "+------------+-------+----------+------------+\n",
            "| CATEGORY   |  LOSS | ACCURACY |        ETA |\n",
            "+------------+-------+----------+------------+\n",
            "| Training   | 2.315 |    0.343 | 0:00:01.06 |\n",
            "| Validation | 1.596 |    0.608 |            |\n",
            "+------------+-------+----------+------------+\n",
            "EPOCH: 15/30 saving best model...\n",
            "+------------+-------+----------+------------+\n",
            "| CATEGORY   |  LOSS | ACCURACY |        ETA |\n",
            "+------------+-------+----------+------------+\n",
            "| Training   | 2.238 |    0.343 | 0:00:01.12 |\n",
            "| Validation | 1.523 |    0.657 |            |\n",
            "+------------+-------+----------+------------+\n",
            "EPOCH: 16/30 saving best model...\n",
            "+------------+-------+----------+------------+\n",
            "| CATEGORY   |  LOSS | ACCURACY |        ETA |\n",
            "+------------+-------+----------+------------+\n",
            "| Training   | 2.169 |    0.363 | 0:00:00.95 |\n",
            "| Validation | 1.331 |    0.697 |            |\n",
            "+------------+-------+----------+------------+\n",
            "EPOCH: 17/30 saving best model...\n",
            "+------------+-------+----------+------------+\n",
            "| CATEGORY   |  LOSS | ACCURACY |        ETA |\n",
            "+------------+-------+----------+------------+\n",
            "| Training   | 2.074 |    0.386 | 0:00:00.94 |\n",
            "| Validation | 1.169 |    0.767 |            |\n",
            "+------------+-------+----------+------------+\n",
            "EPOCH: 18/30 saving best model...\n",
            "+------------+-------+----------+------------+\n",
            "| CATEGORY   |  LOSS | ACCURACY |        ETA |\n",
            "+------------+-------+----------+------------+\n",
            "| Training   | 2.041 |    0.391 | 0:00:00.95 |\n",
            "| Validation | 1.147 |    0.750 |            |\n",
            "+------------+-------+----------+------------+\n",
            "EPOCH: 19/30 saving best model...\n",
            "+------------+-------+----------+------------+\n",
            "| CATEGORY   |  LOSS | ACCURACY |        ETA |\n",
            "+------------+-------+----------+------------+\n",
            "| Training   | 2.036 |    0.385 | 0:00:00.94 |\n",
            "| Validation | 1.143 |    0.717 |            |\n",
            "+------------+-------+----------+------------+\n",
            "EPOCH: 20/30 saving best model...\n",
            "+------------+-------+----------+------------+\n",
            "| CATEGORY   |  LOSS | ACCURACY |        ETA |\n",
            "+------------+-------+----------+------------+\n",
            "| Training   | 2.055 |    0.379 | 0:00:00.94 |\n",
            "| Validation | 1.090 |    0.796 |            |\n",
            "+------------+-------+----------+------------+\n",
            "EPOCH: 21/30 saving best model...\n",
            "+------------+-------+----------+------------+\n",
            "| CATEGORY   |  LOSS | ACCURACY |        ETA |\n",
            "+------------+-------+----------+------------+\n",
            "| Training   | 1.986 |    0.397 | 0:00:00.94 |\n",
            "| Validation | 0.964 |    0.834 |            |\n",
            "+------------+-------+----------+------------+\n",
            "EPOCH: 22/30 not saving...\n",
            "+------------+-------+----------+------------+\n",
            "| CATEGORY   |  LOSS | ACCURACY |        ETA |\n",
            "+------------+-------+----------+------------+\n",
            "| Training   | 1.916 |    0.418 | 0:00:00.93 |\n",
            "| Validation | 1.011 |    0.797 |            |\n",
            "+------------+-------+----------+------------+\n",
            "EPOCH: 23/30 saving best model...\n",
            "+------------+-------+----------+------------+\n",
            "| CATEGORY   |  LOSS | ACCURACY |        ETA |\n",
            "+------------+-------+----------+------------+\n",
            "| Training   | 1.942 |    0.395 | 0:00:00.97 |\n",
            "| Validation | 0.868 |    0.812 |            |\n",
            "+------------+-------+----------+------------+\n",
            "EPOCH: 24/30 saving best model...\n",
            "+------------+-------+----------+------------+\n",
            "| CATEGORY   |  LOSS | ACCURACY |        ETA |\n",
            "+------------+-------+----------+------------+\n",
            "| Training   | 1.871 |    0.424 | 0:00:00.94 |\n",
            "| Validation | 0.758 |    0.868 |            |\n",
            "+------------+-------+----------+------------+\n",
            "EPOCH: 25/30 saving best model...\n",
            "+------------+-------+----------+------------+\n",
            "| CATEGORY   |  LOSS | ACCURACY |        ETA |\n",
            "+------------+-------+----------+------------+\n",
            "| Training   | 1.760 |    0.436 | 0:00:00.94 |\n",
            "| Validation | 0.666 |    0.889 |            |\n",
            "+------------+-------+----------+------------+\n",
            "EPOCH: 26/30 saving best model...\n",
            "+------------+-------+----------+------------+\n",
            "| CATEGORY   |  LOSS | ACCURACY |        ETA |\n",
            "+------------+-------+----------+------------+\n",
            "| Training   | 1.751 |    0.451 | 0:00:01.03 |\n",
            "| Validation | 0.595 |    0.904 |            |\n",
            "+------------+-------+----------+------------+\n",
            "EPOCH: 27/30 saving best model...\n",
            "+------------+-------+----------+------------+\n",
            "| CATEGORY   |  LOSS | ACCURACY |        ETA |\n",
            "+------------+-------+----------+------------+\n",
            "| Training   | 1.674 |    0.465 | 0:00:01.10 |\n",
            "| Validation | 0.578 |    0.885 |            |\n",
            "+------------+-------+----------+------------+\n",
            "EPOCH: 28/30 saving best model...\n",
            "+------------+-------+----------+------------+\n",
            "| CATEGORY   |  LOSS | ACCURACY |        ETA |\n",
            "+------------+-------+----------+------------+\n",
            "| Training   | 1.758 |    0.431 | 0:00:01.10 |\n",
            "| Validation | 0.552 |    0.919 |            |\n",
            "+------------+-------+----------+------------+\n",
            "EPOCH: 29/30 saving best model...\n",
            "+------------+-------+----------+------------+\n",
            "| CATEGORY   |  LOSS | ACCURACY |        ETA |\n",
            "+------------+-------+----------+------------+\n",
            "| Training   | 1.745 |    0.443 | 0:00:01.03 |\n",
            "| Validation | 0.528 |    0.901 |            |\n",
            "+------------+-------+----------+------------+\n",
            "EPOCH: 30/30 saving best model...\n",
            "+------------+-------+----------+------------+\n",
            "| CATEGORY   |  LOSS | ACCURACY |        ETA |\n",
            "+------------+-------+----------+------------+\n",
            "| Training   | 1.634 |    0.456 | 0:00:00.94 |\n",
            "| Validation | 0.462 |    0.933 |            |\n",
            "+------------+-------+----------+------------+\n"
          ]
        }
      ]
    },
    {
      "cell_type": "markdown",
      "source": [
        "### Visualizing the training History\n",
        "In this section of the notebook we are going to visualize the training history of the model over `N_EPOCHS` epochs."
      ],
      "metadata": {
        "id": "3HoVeRRU_-KW"
      }
    },
    {
      "cell_type": "code",
      "source": [
        "rows = [\n",
        "      [\"TOTAL EPOCHS\", f'{N_EPOCHS}'],\n",
        "      [\"LAST SAVED EPOCH\", f'{last_saved_epoch}'],\n",
        "      [\"TOTAL TRAINING TIME\", f'{hms_string(training_end-training_start)}']\n",
        "]\n",
        "tabulate_data(['', 'value'], rows, \"TOTAL TRAINING TIME\")"
      ],
      "metadata": {
        "id": "iCfsp19xAAP8",
        "colab": {
          "base_uri": "https://localhost:8080/"
        },
        "outputId": "77f31a4c-4417-4e23-efd5-9d4e81f9d2ce"
      },
      "execution_count": 52,
      "outputs": [
        {
          "output_type": "stream",
          "name": "stdout",
          "text": [
            "TOTAL TRAINING TIME\n",
            "+---------------------+------------+\n",
            "|                     |      value |\n",
            "+---------------------+------------+\n",
            "| TOTAL EPOCHS        |         30 |\n",
            "| LAST SAVED EPOCH    |         30 |\n",
            "| TOTAL TRAINING TIME | 0:00:31.23 |\n",
            "+---------------------+------------+\n"
          ]
        }
      ]
    },
    {
      "cell_type": "markdown",
      "source": [
        "Let's plot how long the model took to train each epoch from our history object."
      ],
      "metadata": {
        "id": "HOZPLB5IA2V3"
      }
    },
    {
      "cell_type": "code",
      "source": [
        "epochs = np.arange(1, N_EPOCHS + 1)\n",
        "plt.figure(figsize=(5, 3), dpi=80)\n",
        "plt.plot(epochs, history.epoch_train_time, color=\"#F7418F\")\n",
        "plt.title(\"EPOCH TRAINING TIME\", color=\"k\", fontsize=12)\n",
        "plt.xlabel(\"epochs\", fontsize=12)\n",
        "plt.ylabel(\"time(s)\", fontsize=12)\n",
        "plt.show()"
      ],
      "metadata": {
        "id": "mHJxEXi3A4CX",
        "colab": {
          "base_uri": "https://localhost:8080/",
          "height": 269
        },
        "outputId": "2e246856-60de-44e3-891b-e45dda1f1e38"
      },
      "execution_count": 53,
      "outputs": [
        {
          "output_type": "display_data",
          "data": {
            "text/plain": [
              "<Figure size 400x240 with 1 Axes>"
            ],
            "image/png": "[encoded data removed]"
          },
          "metadata": {}
        }
      ]
    },
    {
      "cell_type": "markdown",
      "source": [
        "Let's plot the model's training history in terms of acuracy over a period of `N_EPOCHS` epochs in our train and valid sets."
      ],
      "metadata": {
        "id": "ElniE-oBBMZu"
      }
    },
    {
      "cell_type": "code",
      "source": [
        "epochs = np.arange(1, N_EPOCHS + 1)\n",
        "plt.figure(figsize=(5, 3), dpi=80)\n",
        "plt.plot(epochs, history.train_acc, label=\"train_acc\", color=\"#124076\")\n",
        "plt.plot(epochs, history.val_acc, label=\"val_acc\", color=\"#7F9F80\")\n",
        "plt.title(\"MODEL TRAINING HISTORY\", color=\"k\", fontsize=12)\n",
        "plt.legend()\n",
        "plt.xlabel(\"epochs\", fontsize=12)\n",
        "plt.show()"
      ],
      "metadata": {
        "id": "fcR7mgHLA5c8",
        "colab": {
          "base_uri": "https://localhost:8080/",
          "height": 269
        },
        "outputId": "8506adc6-6f3a-4bfe-bff5-2d840fa1cb64"
      },
      "execution_count": 54,
      "outputs": [
        {
          "output_type": "display_data",
          "data": {
            "text/plain": [
              "<Figure size 400x240 with 1 Axes>"
            ],
            "image/png": "[encoded data removed]"
          },
          "metadata": {}
        }
      ]
    },
    {
      "cell_type": "markdown",
      "source": [
        "In the following code cell we are going to visualize the model training history interms of the validation loss and train loss in `N_EPOCHS`."
      ],
      "metadata": {
        "id": "94URId29V-SC"
      }
    },
    {
      "cell_type": "code",
      "source": [
        "epochs = np.arange(1, N_EPOCHS + 1)\n",
        "plt.figure(figsize=(5, 3), dpi=80)\n",
        "plt.plot(epochs, history.train_losses, label=\"train_loss\", color=\"#F7418F\")\n",
        "plt.plot(epochs, history.val_losses, label=\"val_loss\", color=\"#FEC7B4\")\n",
        "plt.title(\"MODEL TRAINING HISTORY\", color=\"k\", fontsize=12)\n",
        "plt.legend()\n",
        "plt.xlabel(\"epochs\", fontsize=12)\n",
        "plt.show()"
      ],
      "metadata": {
        "id": "yXCGHzQ1A5Zw",
        "colab": {
          "base_uri": "https://localhost:8080/",
          "height": 269
        },
        "outputId": "6726b546-d150-48c3-b181-24658f3042ac"
      },
      "execution_count": 55,
      "outputs": [
        {
          "output_type": "display_data",
          "data": {
            "text/plain": [
              "<Figure size 400x240 with 1 Axes>"
            ],
            "image/png": "[encoded data removed]"
          },
          "metadata": {}
        }
      ]
    },
    {
      "cell_type": "markdown",
      "source": [
        "### Evaluating the best model.\n",
        "In the following code cell we are going to evaluate the best model using on the `test` data as follows:"
      ],
      "metadata": {
        "id": "Tt6w6iSNhBsN"
      }
    },
    {
      "cell_type": "code",
      "source": [
        "column_names = [\"Set\", \"Loss\", \"Accuracy\", \"ETA (time)\"]\n",
        "s2dc_model.load_state_dict(torch.load(MODEL_NAME))\n",
        "test_loss, test_acc = evaluate(s2dc_model, test_loader, criterion)\n",
        "title = \"Model Evaluation Summary\"\n",
        "data_rows = [[\"Test\", f'{test_loss:.3f}', f'{test_acc * 100:.2f}%', \"\"]]\n",
        "\n",
        "tabulate_data(column_names, data_rows, title)"
      ],
      "metadata": {
        "id": "pjI79Ryhg0oz",
        "colab": {
          "base_uri": "https://localhost:8080/"
        },
        "outputId": "07334011-242d-4785-e308-72b7d8ade26f"
      },
      "execution_count": 56,
      "outputs": [
        {
          "output_type": "stream",
          "name": "stdout",
          "text": [
            "Model Evaluation Summary\n",
            "+------+-------+----------+------------+\n",
            "| Set  |  Loss | Accuracy | ETA (time) |\n",
            "+------+-------+----------+------------+\n",
            "| Test | 0.456 |   93.23% |            |\n",
            "+------+-------+----------+------------+\n"
          ]
        }
      ]
    },
    {
      "cell_type": "markdown",
      "source": [
        "We can also visualize the losses and accuracies of each model set.\n",
        "\n",
        "1. train\n",
        "2. test\n",
        "3. validation"
      ],
      "metadata": {
        "id": "jv8vvy69XMyL"
      }
    },
    {
      "cell_type": "code",
      "source": [
        "_test_loss, _test_acc = evaluate(s2dc_model, test_loader, criterion)\n",
        "_train_loss, _train_acc = evaluate(s2dc_model, train_loader, criterion)\n",
        "_valid_loss, _valid_acc = evaluate(s2dc_model, val_loader, criterion)\n",
        "\n",
        "xs = np.array(['training', 'testing', 'validation'])\n",
        "losses = np.array([train_loss, _test_loss, _valid_loss])\n",
        "accuracies = np.array([train_acc * 100, _test_acc * 100, _valid_acc * 100])"
      ],
      "metadata": {
        "id": "gU6Mavl0XZRh"
      },
      "execution_count": 57,
      "outputs": []
    },
    {
      "cell_type": "markdown",
      "source": [
        "Next we are going to `visualize` the model accuracies when it is evaluated using the:\n",
        "\n",
        "1. train\n",
        "2. test\n",
        "3. validation\n",
        "\n",
        "...data"
      ],
      "metadata": {
        "id": "O5Vk1cLuYAmQ"
      }
    },
    {
      "cell_type": "code",
      "source": [
        "plt.figure(figsize=(5, 3), dpi=80)\n",
        "plt.barh(xs, accuracies, label= xs, height=.5, color=['#395B64', '#2C3333', '#A5C9CA'], align=\"center\")\n",
        "plt.title(\"BEST MODEL ACCURACIES FOR EACH SET\", color=\"k\", fontsize=12)\n",
        "plt.ylabel(\"SET\", fontsize=12)\n",
        "plt.xlabel(\"accuracy (%)\", fontsize=12)\n",
        "plt.show()"
      ],
      "metadata": {
        "id": "GkQ0k290YS_S",
        "colab": {
          "base_uri": "https://localhost:8080/",
          "height": 269
        },
        "outputId": "07512f37-fb9c-464f-9716-fbbf097b1f9f"
      },
      "execution_count": 58,
      "outputs": [
        {
          "output_type": "display_data",
          "data": {
            "text/plain": [
              "<Figure size 400x240 with 1 Axes>"
            ],
            "image/png": "[encoded data removed]"
          },
          "metadata": {}
        }
      ]
    },
    {
      "cell_type": "markdown",
      "source": [
        "Next we are going to `visualize` the model losses when it is evaluated using the:\n",
        "\n",
        "1. train\n",
        "2. test\n",
        "3. validation\n",
        "\n",
        "...data"
      ],
      "metadata": {
        "id": "G1nXvpE4YvJ0"
      }
    },
    {
      "cell_type": "code",
      "source": [
        "plt.figure(figsize=(5, 3), dpi=80)\n",
        "plt.bar(xs, losses, label= xs, width=.5, color=['#395B64', '#2C3333', '#A5C9CA'], align=\"center\")\n",
        "plt.title(\"BEST MODEL LOSSES FOR EACH SET\", color=\"k\", fontsize=12)\n",
        "plt.xlabel(\"SET\", fontsize=12)\n",
        "plt.ylabel(\"LOSSES\", fontsize=12)\n",
        "plt.show()"
      ],
      "metadata": {
        "id": "37myJi2lYxeK",
        "colab": {
          "base_uri": "https://localhost:8080/",
          "height": 269
        },
        "outputId": "6b5fb833-4f31-492d-fc69-1f663e71b221"
      },
      "execution_count": 59,
      "outputs": [
        {
          "output_type": "display_data",
          "data": {
            "text/plain": [
              "<Figure size 400x240 with 1 Axes>"
            ],
            "image/png": "[encoded data removed]"
          },
          "metadata": {}
        }
      ]
    },
    {
      "cell_type": "markdown",
      "source": [
        "### Model Inference\n",
        "In the following code cell we are going to make predictions with the best model. We will have the function called `inference_preprocess_text` which is a function that process the text for inference."
      ],
      "metadata": {
        "id": "KwHVSqWqhRDP"
      }
    },
    {
      "cell_type": "code",
      "source": [
        "def inference_preprocess_text(text, max_len=100, padding=\"pre\"):\n",
        "  assert padding==\"pre\" or padding==\"post\", \"the padding can be either pre or post\"\n",
        "  text_holder = torch.zeros(max_len, dtype=torch.int32) # fixed size tensor of max_len with  = 0\n",
        "  processed_text = torch.tensor(text_pipeline(text), dtype=torch.int32)\n",
        "  pos = min(max_len, len(processed_text))\n",
        "  if padding == \"pre\":\n",
        "    text_holder[:pos] = processed_text[:pos]\n",
        "  else:\n",
        "    text_holder[-pos:] = processed_text[-pos:]\n",
        "  text_list= text_holder.unsqueeze(dim=0)\n",
        "  return text_list"
      ],
      "metadata": {
        "id": "b92dGb5-hI_I"
      },
      "execution_count": 60,
      "outputs": []
    },
    {
      "cell_type": "markdown",
      "source": [
        "### Predicting Diseases\n",
        "In the following code cell we are going to create a function that predicts the `diseases` given a certain `sickness symptoms` called `predict_disease`."
      ],
      "metadata": {
        "id": "zmvxwzw8hp35"
      }
    },
    {
      "cell_type": "code",
      "source": [
        "class Prediction:\n",
        "  def __init__(self, pattern: str, disease: str, diseaseId: int, confidence: float):\n",
        "    self.pattern = pattern\n",
        "    self.disease = disease\n",
        "    self.diseaseId = diseaseId\n",
        "    self.confidence = confidence\n",
        "\n",
        "  def __repr__(self) -> str:\n",
        "    return f\"<S2DC Preciction: {self.disease}>\"\n",
        "\n",
        "  def __str__(self) -> str:\n",
        "    return f\"<S2DC Preciction: {self.disease}>\"\n",
        "\n",
        "  def to_json(self):\n",
        "    return {\n",
        "        'pattern':  self.pattern,\n",
        "        'disease':  self.disease,\n",
        "        'diseaseId':  self.diseaseId,\n",
        "        'confidence':  self.confidence,\n",
        "    }"
      ],
      "metadata": {
        "id": "INOb_R2XhozJ"
      },
      "execution_count": 61,
      "outputs": []
    },
    {
      "cell_type": "code",
      "source": [
        "def predict_disease(model, sentence, device):\n",
        "  model.eval()\n",
        "  with torch.no_grad():\n",
        "    tensor = inference_preprocess_text(sentence.lower()).to(device)\n",
        "    length = torch.tensor([len(t) for t in tensor])\n",
        "    probabilities = torch.softmax(model(tensor, length).squeeze(0), dim=0)\n",
        "    prediction = torch.argmax(probabilities)\n",
        "    prediction = prediction.detach().cpu().item()\n",
        "    tags = {v:k for k, v in labels_dict.items()}\n",
        "    tag = tags[prediction]\n",
        "\n",
        "    return Prediction(\n",
        "        sentence.lower(), tag, int(prediction), float(round(probabilities[prediction].item(), 2))\n",
        "    )"
      ],
      "metadata": {
        "id": "O3Nk45oOijTX"
      },
      "execution_count": 62,
      "outputs": []
    },
    {
      "cell_type": "code",
      "source": [
        "pneumonia =predict_disease(s2dc_model, \"i've recently been suffering with chills, lethargy, a cough, a high temperature, and difficulties breathing. i've been sweating profusely and generally feeling ill and weak. i've also had some quite thick and red phlegm.\", device)\n",
        "pneumonia"
      ],
      "metadata": {
        "colab": {
          "base_uri": "https://localhost:8080/"
        },
        "id": "-FotmLIEkqmE",
        "outputId": "e7dc082a-56d5-4886-9f3e-abac25a8700a"
      },
      "execution_count": 63,
      "outputs": [
        {
          "output_type": "execute_result",
          "data": {
            "text/plain": [
              "<S2DC Preciction: pneumonia>"
            ]
          },
          "metadata": {},
          "execution_count": 63
        }
      ]
    },
    {
      "cell_type": "markdown",
      "source": [
        "Using the `.to_json()` method we are going to get the following data."
      ],
      "metadata": {
        "id": "cm44_W6CWlSA"
      }
    },
    {
      "cell_type": "code",
      "source": [
        "pneumonia.to_json()"
      ],
      "metadata": {
        "colab": {
          "base_uri": "https://localhost:8080/"
        },
        "id": "3029a4jACK-2",
        "outputId": "5f862d39-73c3-4888-e978-91b29b09552a"
      },
      "execution_count": 64,
      "outputs": [
        {
          "output_type": "execute_result",
          "data": {
            "text/plain": [
              "{'pattern': \"i've recently been suffering with chills, lethargy, a cough, a high temperature, and difficulties breathing. i've been sweating profusely and generally feeling ill and weak. i've also had some quite thick and red phlegm.\",\n",
              " 'disease': 'pneumonia',\n",
              " 'diseaseId': 8,\n",
              " 'confidence': 0.72}"
            ]
          },
          "metadata": {},
          "execution_count": 64
        }
      ]
    },
    {
      "cell_type": "markdown",
      "source": [
        "### Downloading the model.\n",
        "We are going to download the model"
      ],
      "metadata": {
        "id": "hZ1w-3vTlkXH"
      }
    },
    {
      "cell_type": "code",
      "source": [
        "files.download(MODEL_NAME)"
      ],
      "metadata": {
        "colab": {
          "base_uri": "https://localhost:8080/",
          "height": 34
        },
        "id": "S0Yn_GM3llLp",
        "outputId": "65af4729-805f-46c9-9d1b-b95033825577"
      },
      "execution_count": 65,
      "outputs": [
        {
          "output_type": "display_data",
          "data": {
            "text/plain": [
              "<IPython.core.display.Javascript object>"
            ],
            "application/javascript": [
              "\n",
              "    async function download(id, filename, size) {\n",
              "      if (!google.colab.kernel.accessAllowed) {\n",
              "        return;\n",
              "      }\n",
              "      const div = document.createElement('div');\n",
              "      const label = document.createElement('label');\n",
              "      label.textContent = `Downloading \"${filename}\": `;\n",
              "      div.appendChild(label);\n",
              "      const progress = document.createElement('progress');\n",
              "      progress.max = size;\n",
              "      div.appendChild(progress);\n",
              "      document.body.appendChild(div);\n",
              "\n",
              "      const buffers = [];\n",
              "      let downloaded = 0;\n",
              "\n",
              "      const channel = await google.colab.kernel.comms.open(id);\n",
              "      // Send a message to notify the kernel that we're ready.\n",
              "      channel.send({})\n",
              "\n",
              "      for await (const message of channel.messages) {\n",
              "        // Send a message to notify the kernel that we're ready.\n",
              "        channel.send({})\n",
              "        if (message.buffers) {\n",
              "          for (const buffer of message.buffers) {\n",
              "            buffers.push(buffer);\n",
              "            downloaded += buffer.byteLength;\n",
              "            progress.value = downloaded;\n",
              "          }\n",
              "        }\n",
              "      }\n",
              "      const blob = new Blob(buffers, {type: 'application/binary'});\n",
              "      const a = document.createElement('a');\n",
              "      a.href = window.URL.createObjectURL(blob);\n",
              "      a.download = filename;\n",
              "      div.appendChild(a);\n",
              "      a.click();\n",
              "      div.remove();\n",
              "    }\n",
              "  "
            ]
          },
          "metadata": {}
        },
        {
          "output_type": "display_data",
          "data": {
            "text/plain": [
              "<IPython.core.display.Javascript object>"
            ],
            "application/javascript": [
              "download(\"download_0b08cb9f-e890-4e9f-aeae-17f5cfd303ef\", \"s2dc_model.pt\", 9970598)"
            ]
          },
          "metadata": {}
        }
      ]
    },
    {
      "cell_type": "markdown",
      "source": [
        "### Model evaluation\n",
        "In this section we are going to evaluate the best model and visualize the matrics. We are going to use the following evaluation methods on this classification task.\n",
        "\n",
        "1. `confusion matrix`\n",
        "2. `classification report`\n",
        "\n",
        "First of all we need to get the actual values and predicted values from the `test_loader` so that we will be able to use all the examples in the test dataset to evaluate our model. We are going to define a function called `get_predictions` this function will take in the `model`, `loader` and `device` as parameter and return the following lists of values:\n",
        "\n",
        "1. `labels` - the actual image label\n",
        "2. `probs` - the list of probabilities for the text to belong to a certain class."
      ],
      "metadata": {
        "id": "FF4k7jAj9Q5p"
      }
    },
    {
      "cell_type": "code",
      "source": [
        "def get_predictions(model, iterator, device):\n",
        "  model.eval()\n",
        "  labels = []\n",
        "  probs = []\n",
        "  with torch.no_grad():\n",
        "    for batch in iterator:\n",
        "      y, X = batch\n",
        "      X = X.to(device)\n",
        "      lengths = torch.tensor([len(i) for i in X])\n",
        "      predictions = model(X, lengths).squeeze(1)\n",
        "      labels.append(y)\n",
        "      probs.append(predictions)\n",
        "\n",
        "  labels = torch.cat(labels, dim = 0)\n",
        "  probs = torch.softmax(torch.cat(probs, dim = 0), dim=1)\n",
        "  return labels, probs"
      ],
      "metadata": {
        "id": "r66FDbNc9RGJ"
      },
      "execution_count": 66,
      "outputs": []
    },
    {
      "cell_type": "markdown",
      "source": [
        "Let's go ahead and get the `real_labels` and `probabilities` from the `test_loader` using our `get_predictions` function."
      ],
      "metadata": {
        "id": "D5NO6xwLuuC8"
      }
    },
    {
      "cell_type": "code",
      "source": [
        "true_labels, probs = get_predictions(s2dc_model, test_loader, device)\n",
        "assert len(true_labels) == len(probs), \"The predicted and real labels must have the same shape.\""
      ],
      "metadata": {
        "id": "jVbyIzBsBIeO"
      },
      "execution_count": 67,
      "outputs": []
    },
    {
      "cell_type": "markdown",
      "source": [
        "The `probs` are not the predicted labels, it is a torch tensor of size `24` elements in it.\n",
        "\n",
        "To get the predicted values from the text in the `test_set` we need to use the `torch.argmax()` function which returns us the index with the highest number in a torch tensor. We are going to calculate the argmax of our probability in the first dimenion to get all the predicted values labels as follows:"
      ],
      "metadata": {
        "id": "TjXKNEiivGxj"
      }
    },
    {
      "cell_type": "code",
      "source": [
        "predicted_labels = torch.argmax(probs, dim=1)"
      ],
      "metadata": {
        "id": "zCGxNaiNvF9F"
      },
      "execution_count": 68,
      "outputs": []
    },
    {
      "cell_type": "markdown",
      "source": [
        "### The confusion matrix\n",
        "Let's create a confusion matrix as a way of visualizing how good our model is when it comes to predicting text in the test dataset. We are going to use a function called `plot_complicated_confusion_matrix` from `helperfns.visualization` in the following code cell."
      ],
      "metadata": {
        "id": "119qBufxDZK7"
      }
    },
    {
      "cell_type": "code",
      "source": [
        "plot_complicated_confusion_matrix(\n",
        "    true_labels,\n",
        "    predicted_labels.detach().cpu(),\n",
        "    labels_dict.values(),\n",
        "     fontsize=6,\n",
        "    figsize=(15, 15)\n",
        ")"
      ],
      "metadata": {
        "colab": {
          "base_uri": "https://localhost:8080/",
          "height": 1000
        },
        "id": "vl8wuSQa9RJe",
        "outputId": "f07e6f0d-bbea-46d8-beae-473256a6d8a3"
      },
      "execution_count": 69,
      "outputs": [
        {
          "output_type": "display_data",
          "data": {
            "text/plain": [
              "<Figure size 1500x1500 with 2 Axes>"
            ],
            "image/png": "[encoded data removed]"
          },
          "metadata": {}
        }
      ]
    },
    {
      "cell_type": "markdown",
      "source": [
        "### Classification report\n",
        "In the following code cell we are going to print the classification report as a way of measuring how good our model was in predicting (normal, pneumonia-virus and pneumonia-bacteria)."
      ],
      "metadata": {
        "id": "4hD0nTb09RQh"
      }
    },
    {
      "cell_type": "code",
      "source": [
        "from sklearn.metrics import classification_report\n",
        "cr = classification_report(true_labels, predicted_labels.detach().cpu(), output_dict=False)\n",
        "print(cr)"
      ],
      "metadata": {
        "colab": {
          "base_uri": "https://localhost:8080/"
        },
        "id": "4G8SBj__9RSV",
        "outputId": "8e3edcf9-35e2-423b-ec84-59b5f17ba65e"
      },
      "execution_count": 70,
      "outputs": [
        {
          "output_type": "stream",
          "name": "stdout",
          "text": [
            "              precision    recall  f1-score   support\n",
            "\n",
            "           0       0.81      1.00      0.90        22\n",
            "           1       1.00      1.00      1.00        18\n",
            "           2       0.95      0.91      0.93        22\n",
            "           3       0.94      0.76      0.84        21\n",
            "           4       1.00      1.00      1.00        22\n",
            "           5       0.70      0.50      0.58        14\n",
            "           6       1.00      1.00      1.00        23\n",
            "           7       0.97      0.97      0.97        29\n",
            "           8       0.90      1.00      0.95        18\n",
            "           9       0.96      1.00      0.98        22\n",
            "          10       1.00      1.00      1.00        18\n",
            "          11       1.00      1.00      1.00        19\n",
            "          12       1.00      0.92      0.96        25\n",
            "          13       1.00      1.00      1.00        19\n",
            "          14       1.00      1.00      1.00        22\n",
            "          15       0.94      1.00      0.97        16\n",
            "          16       1.00      1.00      1.00        18\n",
            "          17       1.00      1.00      1.00        17\n",
            "          18       0.94      1.00      0.97        17\n",
            "          19       1.00      0.74      0.85        19\n",
            "          20       0.80      1.00      0.89        20\n",
            "          21       0.74      0.85      0.79        20\n",
            "          22       0.93      0.68      0.79        19\n",
            "          23       0.78      0.90      0.84        20\n",
            "\n",
            "    accuracy                           0.93       480\n",
            "   macro avg       0.93      0.93      0.92       480\n",
            "weighted avg       0.94      0.93      0.93       480\n",
            "\n"
          ]
        }
      ]
    },
    {
      "cell_type": "code",
      "source": [],
      "metadata": {
        "id": "uSDQKAQW9RU3"
      },
      "execution_count": 70,
      "outputs": []
    }
  ]
}