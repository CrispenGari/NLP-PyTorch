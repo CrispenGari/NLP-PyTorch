{
  "nbformat": 4,
  "nbformat_minor": 0,
  "metadata": {
    "colab": {
      "provenance": []
    },
    "kernelspec": {
      "name": "python3",
      "display_name": "Python 3"
    },
    "language_info": {
      "name": "python"
    },
    "accelerator": "GPU",
    "gpuClass": "standard"
  },
  "cells": [
    {
      "cell_type": "markdown",
      "source": [
        "___\n",
        "\n",
        "**project**: `Human Stress Prediction (HSP)`\n",
        "\n",
        "**date**: `2023-04-29`\n",
        "\n",
        "**decription **: `In this notebook I'm going to create a simple AI classification model using NLP techniquies that will accurately classify human stress, if the human is stressed we detemine the type of stress the human is suffering from.`\n",
        "\n",
        "**main**: `Natural Language Processing (NLP) pytorch`\n",
        "\n",
        "**programmer**: `crispengari`\n",
        "\n",
        "**architecture**: `BiDirectional Long Short Term Memory [BiLSTM] (torchtext)`\n",
        "\n",
        "**language:** `python` \n",
        "\n",
        "____\n",
        "\n",
        "In this project I will create a simple classifiation model that will be able to identify `stress` from humans based on their text and also detect what kind of stress is in this text.\n",
        "\n",
        "### Data\n",
        "The dataset that we going to use in this notebook we be comming from [kaggle](https://www.kaggle.com/datasets/kreeshrajani/human-stress-prediction). \n",
        "\n",
        "### Model Architecture\n",
        "We are going to use `BiLSTM` in doing `multi-class` classifications of stress based on the textual sentences obtained from users. We are going to use the following notebook as reference:\n",
        "\n",
        "> [11_SYMPTOMS_2_DISEASE_CLASSIFICATION](https://github.com/CrispenGari/nlp-pytorch/blob/main/11_SYMPTOMS_2_DISEASE_CLASSIFICATION/01_SYMPTOMS_2_DISEASE_CLASSIFICATION.ipynb)\n",
        "\n",
        "### Installing Helper Packages\n",
        "In the following code cell we are going to install the package called `helperfns` that provide us with some usefull helper functions for machine learning."
      ],
      "metadata": {
        "id": "_e0eOlNyp0Mv"
      }
    },
    {
      "cell_type": "code",
      "source": [
        "pip install helperfns -q"
      ],
      "metadata": {
        "id": "AZEmuYO1pSCx"
      },
      "execution_count": 1,
      "outputs": []
    },
    {
      "cell_type": "markdown",
      "source": [
        "In the following code cell we are going to install the `wordcloud` package that we are going to use to visualize how frequently the word appears in the `copus`."
      ],
      "metadata": {
        "id": "ZVDNAspXYp5W"
      }
    },
    {
      "cell_type": "code",
      "source": [
        "!pip install wordcloud -q"
      ],
      "metadata": {
        "colab": {
          "base_uri": "https://localhost:8080/"
        },
        "id": "yCF8SEV8Y9Mw",
        "outputId": "ed17ec37-63a4-43da-8f59-3f743f8db8f3"
      },
      "execution_count": 2,
      "outputs": [
        {
          "output_type": "stream",
          "name": "stdout",
          "text": [
            "Looking in indexes: https://pypi.org/simple, https://us-python.pkg.dev/colab-wheels/public/simple/\n",
            "Requirement already satisfied: wordcloud in /usr/local/lib/python3.10/dist-packages (1.8.2.2)\n",
            "Requirement already satisfied: numpy>=1.6.1 in /usr/local/lib/python3.10/dist-packages (from wordcloud) (1.22.4)\n",
            "Requirement already satisfied: matplotlib in /usr/local/lib/python3.10/dist-packages (from wordcloud) (3.7.1)\n",
            "Requirement already satisfied: pillow in /usr/local/lib/python3.10/dist-packages (from wordcloud) (8.4.0)\n",
            "Requirement already satisfied: contourpy>=1.0.1 in /usr/local/lib/python3.10/dist-packages (from matplotlib->wordcloud) (1.0.7)\n",
            "Requirement already satisfied: fonttools>=4.22.0 in /usr/local/lib/python3.10/dist-packages (from matplotlib->wordcloud) (4.39.3)\n",
            "Requirement already satisfied: packaging>=20.0 in /usr/local/lib/python3.10/dist-packages (from matplotlib->wordcloud) (23.1)\n",
            "Requirement already satisfied: python-dateutil>=2.7 in /usr/local/lib/python3.10/dist-packages (from matplotlib->wordcloud) (2.8.2)\n",
            "Requirement already satisfied: kiwisolver>=1.0.1 in /usr/local/lib/python3.10/dist-packages (from matplotlib->wordcloud) (1.4.4)\n",
            "Requirement already satisfied: pyparsing>=2.3.1 in /usr/local/lib/python3.10/dist-packages (from matplotlib->wordcloud) (3.0.9)\n",
            "Requirement already satisfied: cycler>=0.10 in /usr/local/lib/python3.10/dist-packages (from matplotlib->wordcloud) (0.11.0)\n",
            "Requirement already satisfied: six>=1.5 in /usr/local/lib/python3.10/dist-packages (from python-dateutil>=2.7->matplotlib->wordcloud) (1.16.0)\n"
          ]
        }
      ]
    },
    {
      "cell_type": "markdown",
      "source": [
        "#### Imports\n",
        "\n",
        "In  the following code cell we are going to import all the packages that we are going to use throughout this `notebook`"
      ],
      "metadata": {
        "id": "-P5QiqDJtK37"
      }
    },
    {
      "cell_type": "code",
      "source": [
        "import time\n",
        "import json\n",
        "import torch\n",
        "import os\n",
        "import random\n",
        "import torchtext\n",
        "from matplotlib import pyplot as plt\n",
        "from torch import nn\n",
        "from torchtext import data\n",
        "from collections import Counter\n",
        "from torchtext import vocab\n",
        "\n",
        "from helperfns.tables import tabulate_data\n",
        "from helperfns.visualization import plot_complicated_confusion_matrix, plot_simple_confusion_matrix\n",
        "from helperfns.torch import models\n",
        "from helperfns.utils import hms_string\n",
        "\n",
        "import torch.nn.functional as F\n",
        "import numpy as np\n",
        "import pandas as pd\n",
        "import wordcloud as wc\n",
        "\n",
        "from google.colab import drive, files\n",
        "\n",
        "torchtext.__version__, torch.__version__"
      ],
      "metadata": {
        "colab": {
          "base_uri": "https://localhost:8080/"
        },
        "id": "hXoDyT2RpR-0",
        "outputId": "9faad255-6ba0-4933-ce01-a3ef6e897667"
      },
      "execution_count": 3,
      "outputs": [
        {
          "output_type": "execute_result",
          "data": {
            "text/plain": [
              "('0.15.1+cpu', '2.0.0+cu118')"
            ]
          },
          "metadata": {},
          "execution_count": 3
        }
      ]
    },
    {
      "cell_type": "markdown",
      "source": [
        "### Seed\n",
        "In the following code cell we are going to set the seed to all random operations for reproducivity."
      ],
      "metadata": {
        "id": "cVqGu8UDTkOy"
      }
    },
    {
      "cell_type": "code",
      "source": [
        "SEED = 42\n",
        "\n",
        "random.seed(SEED)\n",
        "torch.manual_seed(SEED)\n",
        "torch.cuda.manual_seed(SEED)\n",
        "np.random.seed(SEED)\n",
        "torch.backends.cudnn.deterministic = True"
      ],
      "metadata": {
        "id": "4g7FAa9ETrDA"
      },
      "execution_count": 4,
      "outputs": []
    },
    {
      "cell_type": "markdown",
      "source": [
        "### Device\n",
        "In the following code cell we are going to get `gpu` device if possible"
      ],
      "metadata": {
        "id": "fx6BtsYvTrtJ"
      }
    },
    {
      "cell_type": "code",
      "source": [
        "\n",
        "device = torch.device('cuda' if torch.cuda.is_available() else 'cpu')\n",
        "device"
      ],
      "metadata": {
        "colab": {
          "base_uri": "https://localhost:8080/"
        },
        "id": "d4mXa6L0Tx4O",
        "outputId": "390e0ec1-f881-478e-8f42-4a32183863cd"
      },
      "execution_count": 5,
      "outputs": [
        {
          "output_type": "execute_result",
          "data": {
            "text/plain": [
              "device(type='cuda')"
            ]
          },
          "metadata": {},
          "execution_count": 5
        }
      ]
    },
    {
      "cell_type": "markdown",
      "source": [
        "### Data\n",
        "\n",
        "Our dataset that we are going to use will be comming from [`kaggle`](https://www.kaggle.com/datasets/kreeshrajani/human-stress-prediction) and will be loaded from google drive  where i uploaded it in a folder called `HSP`. So in the following code cell we are going to mount our google drive to this colab instance."
      ],
      "metadata": {
        "id": "eDiHxRiMtxgq"
      }
    },
    {
      "cell_type": "code",
      "source": [
        "drive.mount('/content/drive')"
      ],
      "metadata": {
        "id": "2XqK2PNlpR8S",
        "colab": {
          "base_uri": "https://localhost:8080/"
        },
        "outputId": "af0719d8-0972-456e-9e52-ac0636e1a7b4"
      },
      "execution_count": 6,
      "outputs": [
        {
          "output_type": "stream",
          "name": "stdout",
          "text": [
            "Drive already mounted at /content/drive; to attempt to forcibly remount, call drive.mount(\"/content/drive\", force_remount=True).\n"
          ]
        }
      ]
    },
    {
      "cell_type": "markdown",
      "source": [
        "### Path to the dataset.\n",
        "Now we can define the path as a variable to the location where our dataset file called `Stress.csv` is located."
      ],
      "metadata": {
        "id": "ciiieVigOGCO"
      }
    },
    {
      "cell_type": "code",
      "source": [
        "base_dir = \"/content/drive/My Drive/NLP Data/HSP\"\n",
        "\n",
        "assert os.path.exists(base_dir), f\"The path '{base_dir}' does not exists.\"\n",
        "\n",
        "data_path = os.path.join(base_dir, 'Stress.csv')\n",
        "\n",
        "assert os.path.exists(data_path), f\"The path '{data_path}' does not exists.\""
      ],
      "metadata": {
        "id": "CEQ9QayBpR0L"
      },
      "execution_count": 7,
      "outputs": []
    },
    {
      "cell_type": "markdown",
      "source": [
        "Then we need to read the `Stress.csv` file and create a classification dataset from it. For that we are going to use pandas and read the giant file into a dataframe as follows:"
      ],
      "metadata": {
        "id": "uhN_RheqQfGD"
      }
    },
    {
      "cell_type": "code",
      "source": [
        "dataframe = pd.read_csv(data_path)\n",
        "dataframe.head(10)"
      ],
      "metadata": {
        "id": "TmEiCSKDpRxq",
        "colab": {
          "base_uri": "https://localhost:8080/",
          "height": 363
        },
        "outputId": "619e7b3a-f3fa-48cf-9edc-b7ffa1a8bc64"
      },
      "execution_count": 8,
      "outputs": [
        {
          "output_type": "execute_result",
          "data": {
            "text/plain": [
              "          subreddit post_id sentence_range  \\\n",
              "0              ptsd  8601tu       (15, 20)   \n",
              "1        assistance  8lbrx9         (0, 5)   \n",
              "2              ptsd  9ch1zh       (15, 20)   \n",
              "3     relationships  7rorpp        [5, 10]   \n",
              "4  survivorsofabuse  9p2gbc         [0, 5]   \n",
              "5     relationships  7tx7et       (30, 35)   \n",
              "6  domesticviolence  7iphly       [25, 30]   \n",
              "7           anxiety  5m3k80        (5, 10)   \n",
              "8     relationships  7nhy1v       (50, 55)   \n",
              "9        assistance  61eiq6       [15, 20]   \n",
              "\n",
              "                                                text  label  confidence  \\\n",
              "0  He said he had not felt that way before, sugge...      1         0.8   \n",
              "1  Hey there r/assistance, Not sure if this is th...      0         1.0   \n",
              "2  My mom then hit me with the newspaper and it s...      1         0.8   \n",
              "3  until i met my new boyfriend, he is amazing, h...      1         0.6   \n",
              "4  October is Domestic Violence Awareness Month a...      1         0.8   \n",
              "5  I think he doesn't want to put in the effort f...      1         1.0   \n",
              "6  It was a big company so luckily I didn't have ...      0         0.8   \n",
              "7    It cleared up and I was okay but. On Monday ...      1         0.8   \n",
              "8  I actually give an assistant half my emergency...      1         0.6   \n",
              "9  I just feel like the street life has fucked my...      1         1.0   \n",
              "\n",
              "   social_timestamp  \n",
              "0        1521614353  \n",
              "1        1527009817  \n",
              "2        1535935605  \n",
              "3        1516429555  \n",
              "4        1539809005  \n",
              "5        1517274027  \n",
              "6        1512854409  \n",
              "7        1483582174  \n",
              "8        1514843984  \n",
              "9        1490428087  "
            ],
            "text/html": [
              "\n",
              "  <div id=\"df-0ea3890e-594a-41f7-b3db-64c00c70e72f\">\n",
              "    <div class=\"colab-df-container\">\n",
              "      <div>\n",
              "<style scoped>\n",
              "    .dataframe tbody tr th:only-of-type {\n",
              "        vertical-align: middle;\n",
              "    }\n",
              "\n",
              "    .dataframe tbody tr th {\n",
              "        vertical-align: top;\n",
              "    }\n",
              "\n",
              "    .dataframe thead th {\n",
              "        text-align: right;\n",
              "    }\n",
              "</style>\n",
              "<table border=\"1\" class=\"dataframe\">\n",
              "  <thead>\n",
              "    <tr style=\"text-align: right;\">\n",
              "      <th></th>\n",
              "      <th>subreddit</th>\n",
              "      <th>post_id</th>\n",
              "      <th>sentence_range</th>\n",
              "      <th>text</th>\n",
              "      <th>label</th>\n",
              "      <th>confidence</th>\n",
              "      <th>social_timestamp</th>\n",
              "    </tr>\n",
              "  </thead>\n",
              "  <tbody>\n",
              "    <tr>\n",
              "      <th>0</th>\n",
              "      <td>ptsd</td>\n",
              "      <td>8601tu</td>\n",
              "      <td>(15, 20)</td>\n",
              "      <td>He said he had not felt that way before, sugge...</td>\n",
              "      <td>1</td>\n",
              "      <td>0.8</td>\n",
              "      <td>1521614353</td>\n",
              "    </tr>\n",
              "    <tr>\n",
              "      <th>1</th>\n",
              "      <td>assistance</td>\n",
              "      <td>8lbrx9</td>\n",
              "      <td>(0, 5)</td>\n",
              "      <td>Hey there r/assistance, Not sure if this is th...</td>\n",
              "      <td>0</td>\n",
              "      <td>1.0</td>\n",
              "      <td>1527009817</td>\n",
              "    </tr>\n",
              "    <tr>\n",
              "      <th>2</th>\n",
              "      <td>ptsd</td>\n",
              "      <td>9ch1zh</td>\n",
              "      <td>(15, 20)</td>\n",
              "      <td>My mom then hit me with the newspaper and it s...</td>\n",
              "      <td>1</td>\n",
              "      <td>0.8</td>\n",
              "      <td>1535935605</td>\n",
              "    </tr>\n",
              "    <tr>\n",
              "      <th>3</th>\n",
              "      <td>relationships</td>\n",
              "      <td>7rorpp</td>\n",
              "      <td>[5, 10]</td>\n",
              "      <td>until i met my new boyfriend, he is amazing, h...</td>\n",
              "      <td>1</td>\n",
              "      <td>0.6</td>\n",
              "      <td>1516429555</td>\n",
              "    </tr>\n",
              "    <tr>\n",
              "      <th>4</th>\n",
              "      <td>survivorsofabuse</td>\n",
              "      <td>9p2gbc</td>\n",
              "      <td>[0, 5]</td>\n",
              "      <td>October is Domestic Violence Awareness Month a...</td>\n",
              "      <td>1</td>\n",
              "      <td>0.8</td>\n",
              "      <td>1539809005</td>\n",
              "    </tr>\n",
              "    <tr>\n",
              "      <th>5</th>\n",
              "      <td>relationships</td>\n",
              "      <td>7tx7et</td>\n",
              "      <td>(30, 35)</td>\n",
              "      <td>I think he doesn't want to put in the effort f...</td>\n",
              "      <td>1</td>\n",
              "      <td>1.0</td>\n",
              "      <td>1517274027</td>\n",
              "    </tr>\n",
              "    <tr>\n",
              "      <th>6</th>\n",
              "      <td>domesticviolence</td>\n",
              "      <td>7iphly</td>\n",
              "      <td>[25, 30]</td>\n",
              "      <td>It was a big company so luckily I didn't have ...</td>\n",
              "      <td>0</td>\n",
              "      <td>0.8</td>\n",
              "      <td>1512854409</td>\n",
              "    </tr>\n",
              "    <tr>\n",
              "      <th>7</th>\n",
              "      <td>anxiety</td>\n",
              "      <td>5m3k80</td>\n",
              "      <td>(5, 10)</td>\n",
              "      <td>It cleared up and I was okay but. On Monday ...</td>\n",
              "      <td>1</td>\n",
              "      <td>0.8</td>\n",
              "      <td>1483582174</td>\n",
              "    </tr>\n",
              "    <tr>\n",
              "      <th>8</th>\n",
              "      <td>relationships</td>\n",
              "      <td>7nhy1v</td>\n",
              "      <td>(50, 55)</td>\n",
              "      <td>I actually give an assistant half my emergency...</td>\n",
              "      <td>1</td>\n",
              "      <td>0.6</td>\n",
              "      <td>1514843984</td>\n",
              "    </tr>\n",
              "    <tr>\n",
              "      <th>9</th>\n",
              "      <td>assistance</td>\n",
              "      <td>61eiq6</td>\n",
              "      <td>[15, 20]</td>\n",
              "      <td>I just feel like the street life has fucked my...</td>\n",
              "      <td>1</td>\n",
              "      <td>1.0</td>\n",
              "      <td>1490428087</td>\n",
              "    </tr>\n",
              "  </tbody>\n",
              "</table>\n",
              "</div>\n",
              "      <button class=\"colab-df-convert\" onclick=\"convertToInteractive('df-0ea3890e-594a-41f7-b3db-64c00c70e72f')\"\n",
              "              title=\"Convert this dataframe to an interactive table.\"\n",
              "              style=\"display:none;\">\n",
              "        \n",
              "  <svg xmlns=\"http://www.w3.org/2000/svg\" height=\"24px\"viewBox=\"0 0 24 24\"\n",
              "       width=\"24px\">\n",
              "    <path d=\"M0 0h24v24H0V0z\" fill=\"none\"/>\n",
              "    <path d=\"M18.56 5.44l.94 2.06.94-2.06 2.06-.94-2.06-.94-.94-2.06-.94 2.06-2.06.94zm-11 1L8.5 8.5l.94-2.06 2.06-.94-2.06-.94L8.5 2.5l-.94 2.06-2.06.94zm10 10l.94 2.06.94-2.06 2.06-.94-2.06-.94-.94-2.06-.94 2.06-2.06.94z\"/><path d=\"M17.41 7.96l-1.37-1.37c-.4-.4-.92-.59-1.43-.59-.52 0-1.04.2-1.43.59L10.3 9.45l-7.72 7.72c-.78.78-.78 2.05 0 2.83L4 21.41c.39.39.9.59 1.41.59.51 0 1.02-.2 1.41-.59l7.78-7.78 2.81-2.81c.8-.78.8-2.07 0-2.86zM5.41 20L4 18.59l7.72-7.72 1.47 1.35L5.41 20z\"/>\n",
              "  </svg>\n",
              "      </button>\n",
              "      \n",
              "  <style>\n",
              "    .colab-df-container {\n",
              "      display:flex;\n",
              "      flex-wrap:wrap;\n",
              "      gap: 12px;\n",
              "    }\n",
              "\n",
              "    .colab-df-convert {\n",
              "      background-color: #E8F0FE;\n",
              "      border: none;\n",
              "      border-radius: 50%;\n",
              "      cursor: pointer;\n",
              "      display: none;\n",
              "      fill: #1967D2;\n",
              "      height: 32px;\n",
              "      padding: 0 0 0 0;\n",
              "      width: 32px;\n",
              "    }\n",
              "\n",
              "    .colab-df-convert:hover {\n",
              "      background-color: #E2EBFA;\n",
              "      box-shadow: 0px 1px 2px rgba(60, 64, 67, 0.3), 0px 1px 3px 1px rgba(60, 64, 67, 0.15);\n",
              "      fill: #174EA6;\n",
              "    }\n",
              "\n",
              "    [theme=dark] .colab-df-convert {\n",
              "      background-color: #3B4455;\n",
              "      fill: #D2E3FC;\n",
              "    }\n",
              "\n",
              "    [theme=dark] .colab-df-convert:hover {\n",
              "      background-color: #434B5C;\n",
              "      box-shadow: 0px 1px 3px 1px rgba(0, 0, 0, 0.15);\n",
              "      filter: drop-shadow(0px 1px 2px rgba(0, 0, 0, 0.3));\n",
              "      fill: #FFFFFF;\n",
              "    }\n",
              "  </style>\n",
              "\n",
              "      <script>\n",
              "        const buttonEl =\n",
              "          document.querySelector('#df-0ea3890e-594a-41f7-b3db-64c00c70e72f button.colab-df-convert');\n",
              "        buttonEl.style.display =\n",
              "          google.colab.kernel.accessAllowed ? 'block' : 'none';\n",
              "\n",
              "        async function convertToInteractive(key) {\n",
              "          const element = document.querySelector('#df-0ea3890e-594a-41f7-b3db-64c00c70e72f');\n",
              "          const dataTable =\n",
              "            await google.colab.kernel.invokeFunction('convertToInteractive',\n",
              "                                                     [key], {});\n",
              "          if (!dataTable) return;\n",
              "\n",
              "          const docLinkHtml = 'Like what you see? Visit the ' +\n",
              "            '<a target=\"_blank\" href=https://colab.research.google.com/notebooks/data_table.ipynb>data table notebook</a>'\n",
              "            + ' to learn more about interactive tables.';\n",
              "          element.innerHTML = '';\n",
              "          dataTable['output_type'] = 'display_data';\n",
              "          await google.colab.output.renderOutput(dataTable, element);\n",
              "          const docLink = document.createElement('div');\n",
              "          docLink.innerHTML = docLinkHtml;\n",
              "          element.appendChild(docLink);\n",
              "        }\n",
              "      </script>\n",
              "    </div>\n",
              "  </div>\n",
              "  "
            ]
          },
          "metadata": {},
          "execution_count": 8
        }
      ]
    },
    {
      "cell_type": "markdown",
      "source": [
        "In this dataframe we only care about 3 field which are `subreddit`, `label` and `text`. First let's check the classes or unique `subreddit` that we are going to have in this dataset. We only have `2` labels, if the person has stress(1) or not(0). From this dataset i can say `subreddit` is the type of stress this person is having."
      ],
      "metadata": {
        "id": "z2rGLv9-Q637"
      }
    },
    {
      "cell_type": "code",
      "source": [
        "stress_type = dataframe.subreddit.unique()\n",
        "labels  = dataframe.label.unique()\n",
        "\n",
        "\n",
        "{\n",
        "    'stress_type': [stress_type, len(stress_type)],\n",
        "    'labels': [labels, len(labels)]\n",
        "}"
      ],
      "metadata": {
        "colab": {
          "base_uri": "https://localhost:8080/"
        },
        "id": "1cFZZssqyrGf",
        "outputId": "17393e2a-083a-483c-d21b-556147d196a8"
      },
      "execution_count": 9,
      "outputs": [
        {
          "output_type": "execute_result",
          "data": {
            "text/plain": [
              "{'stress_type': [array(['ptsd', 'assistance', 'relationships', 'survivorsofabuse',\n",
              "         'domesticviolence', 'anxiety', 'homeless', 'stress',\n",
              "         'almosthomeless', 'food_pantry'], dtype=object),\n",
              "  10],\n",
              " 'labels': [array([1, 0]), 2]}"
            ]
          },
          "metadata": {},
          "execution_count": 9
        }
      ]
    },
    {
      "cell_type": "markdown",
      "source": [
        "So we have `10` different kind of stress people are suffering from in this dataset. In the following code cell we are going to extract `features` and `labels` from this giant dataframe so that we can create, different sets from it. So our labels will be transformed to textual labels which means if a person if `1` the person has stress and else a person does not have stress. We are also going to create a column where we are going to store the `stress_type`."
      ],
      "metadata": {
        "id": "VP9B9PHuyqri"
      }
    },
    {
      "cell_type": "code",
      "source": [
        "labels, features = ['stressed' if label == 1 else 'not stressed' for label in dataframe.label.values], [feature.lower() for feature in dataframe.text.values]\n",
        "\n",
        "transfomers = {\n",
        "    'ptsd': 'post-traumatic stress disorder',\n",
        "    'assistance': 'assistance',\n",
        "    'relationships': 'relationships', \n",
        "    'survivorsofabuse': 'survivors of abuse',\n",
        "    'domesticviolence': 'domestic violence', \n",
        "    'anxiety': 'anxiety', 'homeless': 'homeless', 'stress': 'genaral stress',\n",
        "    'almosthomeless': 'almost homeless', 'food_pantry': 'food pantry'\n",
        "}\n",
        "\n",
        "stress_types = [transfomers.get(t) for t in dataframe.subreddit.values]\n",
        "labels[:2], features[:2], stress_types[:2]"
      ],
      "metadata": {
        "colab": {
          "base_uri": "https://localhost:8080/"
        },
        "id": "nx-FLiuczwpN",
        "outputId": "02c73fbb-a4f4-4e29-adbc-8d9d12046a35"
      },
      "execution_count": 10,
      "outputs": [
        {
          "output_type": "execute_result",
          "data": {
            "text/plain": [
              "(['stressed', 'not stressed'],\n",
              " ['he said he had not felt that way before, suggeted i go rest and so ..trigger ahead if youi\\'re a hypocondriac like me: i decide to look up \"feelings of doom\" in hopes of maybe getting sucked into some rabbit hole of ludicrous conspiracy, a stupid \"are you psychic\" test or new age b.s., something i could even laugh at down the road. no, i ended up reading that this sense of doom can be indicative of various health ailments; one of which i am prone to.. so on top of my \"doom\" to my gloom..i am now f\\'n worried about my heart. i do happen to have a physical in 48 hours.',\n",
              "  \"hey there r/assistance, not sure if this is the right place to post this.. but here goes =) i'm currently a student intern at sandia national labs and working on a survey to help improve our marketing outreach efforts at the many schools we recruit at around the country. we're looking for current undergrad/grad stem students so if you're a stem student or know stem students, i would greatly appreciate if you can help take or pass along this short survey. as a thank you, everyone who helps take the survey will be entered in to a drawing for chance to win one of three $50 amazon gcs.\"],\n",
              " ['post-traumatic stress disorder', 'assistance'])"
            ]
          },
          "metadata": {},
          "execution_count": 10
        }
      ]
    },
    {
      "cell_type": "markdown",
      "source": [
        "Here is what we are doing to clean the data. On the labels we did the following:\n",
        "\n",
        "1. change the `labels` to text(either stressed or not stressed)\n",
        "\n",
        "On the `stress_type` we:\n",
        "\n",
        "1. created a dictionary map to map the values to something that human can understand.\n",
        "\n",
        "On the `text` we just change them to a common case which is `lowercase`.\n"
      ],
      "metadata": {
        "id": "jeNduUW24Mqf"
      }
    },
    {
      "cell_type": "markdown",
      "source": [
        "Now that we have converted all `features`, `stress_type` and `labels` into list of values with common case we can create a giant dataset from this in the following code cell."
      ],
      "metadata": {
        "id": "WfW61qEW0fSq"
      }
    },
    {
      "cell_type": "code",
      "source": [
        "assert len(features) == len(stress_types) == len(labels), f\"The features and labels must be equal but got {len(stress_types) }, {len(stress_types)} and {len(labels)}.\"\n",
        "dataset = list()\n",
        "for feature, label, stress_type in zip(features, labels, stress_types):\n",
        "   dataset.append((feature, label, stress_type))\n",
        "print(\"Dataset size: {:,}\".format(len(dataset)))"
      ],
      "metadata": {
        "id": "OzuqHHnzpRuy",
        "colab": {
          "base_uri": "https://localhost:8080/"
        },
        "outputId": "1790a20e-d2d9-498e-e095-582ae526348b"
      },
      "execution_count": 11,
      "outputs": [
        {
          "output_type": "stream",
          "name": "stdout",
          "text": [
            "Dataset size: 2,838\n"
          ]
        }
      ]
    },
    {
      "cell_type": "markdown",
      "source": [
        "We have a small dataset that contains `2,838` examples, let's check the first  example in the dataset:"
      ],
      "metadata": {
        "id": "ZmXJtTEsTAA4"
      }
    },
    {
      "cell_type": "code",
      "source": [
        "dataset[0]"
      ],
      "metadata": {
        "id": "mYtE32C2pRr4",
        "colab": {
          "base_uri": "https://localhost:8080/"
        },
        "outputId": "abcd2d0b-31fc-4553-f47e-40eee44a3e27"
      },
      "execution_count": 12,
      "outputs": [
        {
          "output_type": "execute_result",
          "data": {
            "text/plain": [
              "('he said he had not felt that way before, suggeted i go rest and so ..trigger ahead if youi\\'re a hypocondriac like me: i decide to look up \"feelings of doom\" in hopes of maybe getting sucked into some rabbit hole of ludicrous conspiracy, a stupid \"are you psychic\" test or new age b.s., something i could even laugh at down the road. no, i ended up reading that this sense of doom can be indicative of various health ailments; one of which i am prone to.. so on top of my \"doom\" to my gloom..i am now f\\'n worried about my heart. i do happen to have a physical in 48 hours.',\n",
              " 'stressed',\n",
              " 'post-traumatic stress disorder')"
            ]
          },
          "metadata": {},
          "execution_count": 12
        }
      ]
    },
    {
      "cell_type": "markdown",
      "source": [
        "Next we are going to use the `random` module to shuffle our dataset and then check again the size first examples before creating dataframes."
      ],
      "metadata": {
        "id": "miWuxr3nTTxT"
      }
    },
    {
      "cell_type": "code",
      "source": [
        "random.shuffle(dataset)"
      ],
      "metadata": {
        "id": "JjUTIfDIpRpE"
      },
      "execution_count": 13,
      "outputs": []
    },
    {
      "cell_type": "code",
      "execution_count": 14,
      "metadata": {
        "id": "OvbVPUrrnWRa",
        "colab": {
          "base_uri": "https://localhost:8080/"
        },
        "outputId": "f137255e-f3a7-4497-dd0f-e6e8e77192d4"
      },
      "outputs": [
        {
          "output_type": "execute_result",
          "data": {
            "text/plain": [
              "('my version of events wasn\\'t believed due to ten other witnesses denying it and i was expelled immediately. i got home and unexpectedly my bags were already packed. my sister-in-law walked up to me, gave me an insincere hug, and said \"your actions have consequences. you\\'re going to portland two weeks early.\" i asked if i could say goodbye to my nieces and nephews and friends and she said \"no.\"',\n",
              " 'stressed',\n",
              " 'post-traumatic stress disorder')"
            ]
          },
          "metadata": {},
          "execution_count": 14
        }
      ],
      "source": [
        "dataset[0]"
      ]
    },
    {
      "cell_type": "markdown",
      "source": [
        "So for our train data we are going to take all the examples in the `dataset` and then for the `validation` and `testing` set we are going to take a fraction of `40%` and `60%` from the dataset respectively."
      ],
      "metadata": {
        "id": "qn6nF_4JUVMF"
      }
    },
    {
      "cell_type": "code",
      "source": [
        "train_df = pd.DataFrame(dataset, columns=[\"text\", \"label\", \"stress_type\" ])\n",
        "\n",
        "TEST_EXAMPLES = int(.6 * len(dataset))\n",
        "\n",
        "random.shuffle(dataset)\n",
        "test_df = pd.DataFrame(dataset[:TEST_EXAMPLES], columns=[\"text\", \"label\", \"stress_type\" ])\n",
        "val_df = pd.DataFrame(dataset[TEST_EXAMPLES: ], columns=[\"text\", \"label\", \"stress_type\" ])"
      ],
      "metadata": {
        "id": "fbwMyFBzT8y_"
      },
      "execution_count": 15,
      "outputs": []
    },
    {
      "cell_type": "markdown",
      "source": [
        "Checking our dataframes.\n",
        "\n",
        "\n",
        "1. train dataframe"
      ],
      "metadata": {
        "id": "ShVBIiWjU9t_"
      }
    },
    {
      "cell_type": "code",
      "source": [
        "train_df.head(5)"
      ],
      "metadata": {
        "colab": {
          "base_uri": "https://localhost:8080/",
          "height": 206
        },
        "id": "vtBv4dnjU7tQ",
        "outputId": "d2eae61a-1f72-4120-e34b-1ae66d846593"
      },
      "execution_count": 16,
      "outputs": [
        {
          "output_type": "execute_result",
          "data": {
            "text/plain": [
              "                                                text         label  \\\n",
              "0  my version of events wasn't believed due to te...      stressed   \n",
              "1  since i knew him i haven't had active suicidal...      stressed   \n",
              "2  first, thanks to everyone that submitted a req...  not stressed   \n",
              "3  i would comfort her as much as i was able, and...  not stressed   \n",
              "4  with my daughter recovering and my wife gettin...      stressed   \n",
              "\n",
              "                      stress_type  \n",
              "0  post-traumatic stress disorder  \n",
              "1               domestic violence  \n",
              "2                      assistance  \n",
              "3               domestic violence  \n",
              "4                      assistance  "
            ],
            "text/html": [
              "\n",
              "  <div id=\"df-abbafb5a-d518-4a94-8f6d-4b44ae178820\">\n",
              "    <div class=\"colab-df-container\">\n",
              "      <div>\n",
              "<style scoped>\n",
              "    .dataframe tbody tr th:only-of-type {\n",
              "        vertical-align: middle;\n",
              "    }\n",
              "\n",
              "    .dataframe tbody tr th {\n",
              "        vertical-align: top;\n",
              "    }\n",
              "\n",
              "    .dataframe thead th {\n",
              "        text-align: right;\n",
              "    }\n",
              "</style>\n",
              "<table border=\"1\" class=\"dataframe\">\n",
              "  <thead>\n",
              "    <tr style=\"text-align: right;\">\n",
              "      <th></th>\n",
              "      <th>text</th>\n",
              "      <th>label</th>\n",
              "      <th>stress_type</th>\n",
              "    </tr>\n",
              "  </thead>\n",
              "  <tbody>\n",
              "    <tr>\n",
              "      <th>0</th>\n",
              "      <td>my version of events wasn't believed due to te...</td>\n",
              "      <td>stressed</td>\n",
              "      <td>post-traumatic stress disorder</td>\n",
              "    </tr>\n",
              "    <tr>\n",
              "      <th>1</th>\n",
              "      <td>since i knew him i haven't had active suicidal...</td>\n",
              "      <td>stressed</td>\n",
              "      <td>domestic violence</td>\n",
              "    </tr>\n",
              "    <tr>\n",
              "      <th>2</th>\n",
              "      <td>first, thanks to everyone that submitted a req...</td>\n",
              "      <td>not stressed</td>\n",
              "      <td>assistance</td>\n",
              "    </tr>\n",
              "    <tr>\n",
              "      <th>3</th>\n",
              "      <td>i would comfort her as much as i was able, and...</td>\n",
              "      <td>not stressed</td>\n",
              "      <td>domestic violence</td>\n",
              "    </tr>\n",
              "    <tr>\n",
              "      <th>4</th>\n",
              "      <td>with my daughter recovering and my wife gettin...</td>\n",
              "      <td>stressed</td>\n",
              "      <td>assistance</td>\n",
              "    </tr>\n",
              "  </tbody>\n",
              "</table>\n",
              "</div>\n",
              "      <button class=\"colab-df-convert\" onclick=\"convertToInteractive('df-abbafb5a-d518-4a94-8f6d-4b44ae178820')\"\n",
              "              title=\"Convert this dataframe to an interactive table.\"\n",
              "              style=\"display:none;\">\n",
              "        \n",
              "  <svg xmlns=\"http://www.w3.org/2000/svg\" height=\"24px\"viewBox=\"0 0 24 24\"\n",
              "       width=\"24px\">\n",
              "    <path d=\"M0 0h24v24H0V0z\" fill=\"none\"/>\n",
              "    <path d=\"M18.56 5.44l.94 2.06.94-2.06 2.06-.94-2.06-.94-.94-2.06-.94 2.06-2.06.94zm-11 1L8.5 8.5l.94-2.06 2.06-.94-2.06-.94L8.5 2.5l-.94 2.06-2.06.94zm10 10l.94 2.06.94-2.06 2.06-.94-2.06-.94-.94-2.06-.94 2.06-2.06.94z\"/><path d=\"M17.41 7.96l-1.37-1.37c-.4-.4-.92-.59-1.43-.59-.52 0-1.04.2-1.43.59L10.3 9.45l-7.72 7.72c-.78.78-.78 2.05 0 2.83L4 21.41c.39.39.9.59 1.41.59.51 0 1.02-.2 1.41-.59l7.78-7.78 2.81-2.81c.8-.78.8-2.07 0-2.86zM5.41 20L4 18.59l7.72-7.72 1.47 1.35L5.41 20z\"/>\n",
              "  </svg>\n",
              "      </button>\n",
              "      \n",
              "  <style>\n",
              "    .colab-df-container {\n",
              "      display:flex;\n",
              "      flex-wrap:wrap;\n",
              "      gap: 12px;\n",
              "    }\n",
              "\n",
              "    .colab-df-convert {\n",
              "      background-color: #E8F0FE;\n",
              "      border: none;\n",
              "      border-radius: 50%;\n",
              "      cursor: pointer;\n",
              "      display: none;\n",
              "      fill: #1967D2;\n",
              "      height: 32px;\n",
              "      padding: 0 0 0 0;\n",
              "      width: 32px;\n",
              "    }\n",
              "\n",
              "    .colab-df-convert:hover {\n",
              "      background-color: #E2EBFA;\n",
              "      box-shadow: 0px 1px 2px rgba(60, 64, 67, 0.3), 0px 1px 3px 1px rgba(60, 64, 67, 0.15);\n",
              "      fill: #174EA6;\n",
              "    }\n",
              "\n",
              "    [theme=dark] .colab-df-convert {\n",
              "      background-color: #3B4455;\n",
              "      fill: #D2E3FC;\n",
              "    }\n",
              "\n",
              "    [theme=dark] .colab-df-convert:hover {\n",
              "      background-color: #434B5C;\n",
              "      box-shadow: 0px 1px 3px 1px rgba(0, 0, 0, 0.15);\n",
              "      filter: drop-shadow(0px 1px 2px rgba(0, 0, 0, 0.3));\n",
              "      fill: #FFFFFF;\n",
              "    }\n",
              "  </style>\n",
              "\n",
              "      <script>\n",
              "        const buttonEl =\n",
              "          document.querySelector('#df-abbafb5a-d518-4a94-8f6d-4b44ae178820 button.colab-df-convert');\n",
              "        buttonEl.style.display =\n",
              "          google.colab.kernel.accessAllowed ? 'block' : 'none';\n",
              "\n",
              "        async function convertToInteractive(key) {\n",
              "          const element = document.querySelector('#df-abbafb5a-d518-4a94-8f6d-4b44ae178820');\n",
              "          const dataTable =\n",
              "            await google.colab.kernel.invokeFunction('convertToInteractive',\n",
              "                                                     [key], {});\n",
              "          if (!dataTable) return;\n",
              "\n",
              "          const docLinkHtml = 'Like what you see? Visit the ' +\n",
              "            '<a target=\"_blank\" href=https://colab.research.google.com/notebooks/data_table.ipynb>data table notebook</a>'\n",
              "            + ' to learn more about interactive tables.';\n",
              "          element.innerHTML = '';\n",
              "          dataTable['output_type'] = 'display_data';\n",
              "          await google.colab.output.renderOutput(dataTable, element);\n",
              "          const docLink = document.createElement('div');\n",
              "          docLink.innerHTML = docLinkHtml;\n",
              "          element.appendChild(docLink);\n",
              "        }\n",
              "      </script>\n",
              "    </div>\n",
              "  </div>\n",
              "  "
            ]
          },
          "metadata": {},
          "execution_count": 16
        }
      ]
    },
    {
      "cell_type": "markdown",
      "source": [
        "2. test dataframe"
      ],
      "metadata": {
        "id": "X1ktJffeVIBY"
      }
    },
    {
      "cell_type": "code",
      "source": [
        "test_df.head(5)"
      ],
      "metadata": {
        "colab": {
          "base_uri": "https://localhost:8080/",
          "height": 206
        },
        "id": "ZwWqjTLcVHHU",
        "outputId": "050a5f91-cabc-4613-9d9d-0493c5f88761"
      },
      "execution_count": 17,
      "outputs": [
        {
          "output_type": "execute_result",
          "data": {
            "text/plain": [
              "                                                text         label  \\\n",
              "0  trauma changed the trajectory of my life. but ...      stressed   \n",
              "1  my sister lives with her bf and my 2 year old ...  not stressed   \n",
              "2  i have tried to her encourage her as best as i...  not stressed   \n",
              "3  hey there r/assistance, not sure if this is th...  not stressed   \n",
              "4  hi! this is my first time posting on reddit, a...  not stressed   \n",
              "\n",
              "          stress_type  \n",
              "0  survivors of abuse  \n",
              "1       relationships  \n",
              "2       relationships  \n",
              "3          assistance  \n",
              "4            homeless  "
            ],
            "text/html": [
              "\n",
              "  <div id=\"df-8441c22a-b07d-4195-ac4c-2cd9ea693f25\">\n",
              "    <div class=\"colab-df-container\">\n",
              "      <div>\n",
              "<style scoped>\n",
              "    .dataframe tbody tr th:only-of-type {\n",
              "        vertical-align: middle;\n",
              "    }\n",
              "\n",
              "    .dataframe tbody tr th {\n",
              "        vertical-align: top;\n",
              "    }\n",
              "\n",
              "    .dataframe thead th {\n",
              "        text-align: right;\n",
              "    }\n",
              "</style>\n",
              "<table border=\"1\" class=\"dataframe\">\n",
              "  <thead>\n",
              "    <tr style=\"text-align: right;\">\n",
              "      <th></th>\n",
              "      <th>text</th>\n",
              "      <th>label</th>\n",
              "      <th>stress_type</th>\n",
              "    </tr>\n",
              "  </thead>\n",
              "  <tbody>\n",
              "    <tr>\n",
              "      <th>0</th>\n",
              "      <td>trauma changed the trajectory of my life. but ...</td>\n",
              "      <td>stressed</td>\n",
              "      <td>survivors of abuse</td>\n",
              "    </tr>\n",
              "    <tr>\n",
              "      <th>1</th>\n",
              "      <td>my sister lives with her bf and my 2 year old ...</td>\n",
              "      <td>not stressed</td>\n",
              "      <td>relationships</td>\n",
              "    </tr>\n",
              "    <tr>\n",
              "      <th>2</th>\n",
              "      <td>i have tried to her encourage her as best as i...</td>\n",
              "      <td>not stressed</td>\n",
              "      <td>relationships</td>\n",
              "    </tr>\n",
              "    <tr>\n",
              "      <th>3</th>\n",
              "      <td>hey there r/assistance, not sure if this is th...</td>\n",
              "      <td>not stressed</td>\n",
              "      <td>assistance</td>\n",
              "    </tr>\n",
              "    <tr>\n",
              "      <th>4</th>\n",
              "      <td>hi! this is my first time posting on reddit, a...</td>\n",
              "      <td>not stressed</td>\n",
              "      <td>homeless</td>\n",
              "    </tr>\n",
              "  </tbody>\n",
              "</table>\n",
              "</div>\n",
              "      <button class=\"colab-df-convert\" onclick=\"convertToInteractive('df-8441c22a-b07d-4195-ac4c-2cd9ea693f25')\"\n",
              "              title=\"Convert this dataframe to an interactive table.\"\n",
              "              style=\"display:none;\">\n",
              "        \n",
              "  <svg xmlns=\"http://www.w3.org/2000/svg\" height=\"24px\"viewBox=\"0 0 24 24\"\n",
              "       width=\"24px\">\n",
              "    <path d=\"M0 0h24v24H0V0z\" fill=\"none\"/>\n",
              "    <path d=\"M18.56 5.44l.94 2.06.94-2.06 2.06-.94-2.06-.94-.94-2.06-.94 2.06-2.06.94zm-11 1L8.5 8.5l.94-2.06 2.06-.94-2.06-.94L8.5 2.5l-.94 2.06-2.06.94zm10 10l.94 2.06.94-2.06 2.06-.94-2.06-.94-.94-2.06-.94 2.06-2.06.94z\"/><path d=\"M17.41 7.96l-1.37-1.37c-.4-.4-.92-.59-1.43-.59-.52 0-1.04.2-1.43.59L10.3 9.45l-7.72 7.72c-.78.78-.78 2.05 0 2.83L4 21.41c.39.39.9.59 1.41.59.51 0 1.02-.2 1.41-.59l7.78-7.78 2.81-2.81c.8-.78.8-2.07 0-2.86zM5.41 20L4 18.59l7.72-7.72 1.47 1.35L5.41 20z\"/>\n",
              "  </svg>\n",
              "      </button>\n",
              "      \n",
              "  <style>\n",
              "    .colab-df-container {\n",
              "      display:flex;\n",
              "      flex-wrap:wrap;\n",
              "      gap: 12px;\n",
              "    }\n",
              "\n",
              "    .colab-df-convert {\n",
              "      background-color: #E8F0FE;\n",
              "      border: none;\n",
              "      border-radius: 50%;\n",
              "      cursor: pointer;\n",
              "      display: none;\n",
              "      fill: #1967D2;\n",
              "      height: 32px;\n",
              "      padding: 0 0 0 0;\n",
              "      width: 32px;\n",
              "    }\n",
              "\n",
              "    .colab-df-convert:hover {\n",
              "      background-color: #E2EBFA;\n",
              "      box-shadow: 0px 1px 2px rgba(60, 64, 67, 0.3), 0px 1px 3px 1px rgba(60, 64, 67, 0.15);\n",
              "      fill: #174EA6;\n",
              "    }\n",
              "\n",
              "    [theme=dark] .colab-df-convert {\n",
              "      background-color: #3B4455;\n",
              "      fill: #D2E3FC;\n",
              "    }\n",
              "\n",
              "    [theme=dark] .colab-df-convert:hover {\n",
              "      background-color: #434B5C;\n",
              "      box-shadow: 0px 1px 3px 1px rgba(0, 0, 0, 0.15);\n",
              "      filter: drop-shadow(0px 1px 2px rgba(0, 0, 0, 0.3));\n",
              "      fill: #FFFFFF;\n",
              "    }\n",
              "  </style>\n",
              "\n",
              "      <script>\n",
              "        const buttonEl =\n",
              "          document.querySelector('#df-8441c22a-b07d-4195-ac4c-2cd9ea693f25 button.colab-df-convert');\n",
              "        buttonEl.style.display =\n",
              "          google.colab.kernel.accessAllowed ? 'block' : 'none';\n",
              "\n",
              "        async function convertToInteractive(key) {\n",
              "          const element = document.querySelector('#df-8441c22a-b07d-4195-ac4c-2cd9ea693f25');\n",
              "          const dataTable =\n",
              "            await google.colab.kernel.invokeFunction('convertToInteractive',\n",
              "                                                     [key], {});\n",
              "          if (!dataTable) return;\n",
              "\n",
              "          const docLinkHtml = 'Like what you see? Visit the ' +\n",
              "            '<a target=\"_blank\" href=https://colab.research.google.com/notebooks/data_table.ipynb>data table notebook</a>'\n",
              "            + ' to learn more about interactive tables.';\n",
              "          element.innerHTML = '';\n",
              "          dataTable['output_type'] = 'display_data';\n",
              "          await google.colab.output.renderOutput(dataTable, element);\n",
              "          const docLink = document.createElement('div');\n",
              "          docLink.innerHTML = docLinkHtml;\n",
              "          element.appendChild(docLink);\n",
              "        }\n",
              "      </script>\n",
              "    </div>\n",
              "  </div>\n",
              "  "
            ]
          },
          "metadata": {},
          "execution_count": 17
        }
      ]
    },
    {
      "cell_type": "markdown",
      "source": [
        "3. validatation dataframe"
      ],
      "metadata": {
        "id": "UkqLes8-VNPA"
      }
    },
    {
      "cell_type": "code",
      "source": [
        "val_df.head(5)"
      ],
      "metadata": {
        "colab": {
          "base_uri": "https://localhost:8080/",
          "height": 206
        },
        "id": "DzNJKAAVVEeL",
        "outputId": "15d30e65-a736-4da1-e231-0265fc84ed0e"
      },
      "execution_count": 18,
      "outputs": [
        {
          "output_type": "execute_result",
          "data": {
            "text/plain": [
              "                                                text         label  \\\n",
              "0  for anxiety/depression. feb 16 weekend, we hun...  not stressed   \n",
              "1  background: i didn't know much about ptsd when...  not stressed   \n",
              "2  since then, i've been having major anxiety abo...      stressed   \n",
              "3  if you want to chat about anything, visit the ...  not stressed   \n",
              "4  until just a bit before i decide to move to th...  not stressed   \n",
              "\n",
              "                      stress_type  \n",
              "0                         anxiety  \n",
              "1  post-traumatic stress disorder  \n",
              "2                         anxiety  \n",
              "3              survivors of abuse  \n",
              "4                        homeless  "
            ],
            "text/html": [
              "\n",
              "  <div id=\"df-2501258b-1162-4e95-b559-8aabec94982d\">\n",
              "    <div class=\"colab-df-container\">\n",
              "      <div>\n",
              "<style scoped>\n",
              "    .dataframe tbody tr th:only-of-type {\n",
              "        vertical-align: middle;\n",
              "    }\n",
              "\n",
              "    .dataframe tbody tr th {\n",
              "        vertical-align: top;\n",
              "    }\n",
              "\n",
              "    .dataframe thead th {\n",
              "        text-align: right;\n",
              "    }\n",
              "</style>\n",
              "<table border=\"1\" class=\"dataframe\">\n",
              "  <thead>\n",
              "    <tr style=\"text-align: right;\">\n",
              "      <th></th>\n",
              "      <th>text</th>\n",
              "      <th>label</th>\n",
              "      <th>stress_type</th>\n",
              "    </tr>\n",
              "  </thead>\n",
              "  <tbody>\n",
              "    <tr>\n",
              "      <th>0</th>\n",
              "      <td>for anxiety/depression. feb 16 weekend, we hun...</td>\n",
              "      <td>not stressed</td>\n",
              "      <td>anxiety</td>\n",
              "    </tr>\n",
              "    <tr>\n",
              "      <th>1</th>\n",
              "      <td>background: i didn't know much about ptsd when...</td>\n",
              "      <td>not stressed</td>\n",
              "      <td>post-traumatic stress disorder</td>\n",
              "    </tr>\n",
              "    <tr>\n",
              "      <th>2</th>\n",
              "      <td>since then, i've been having major anxiety abo...</td>\n",
              "      <td>stressed</td>\n",
              "      <td>anxiety</td>\n",
              "    </tr>\n",
              "    <tr>\n",
              "      <th>3</th>\n",
              "      <td>if you want to chat about anything, visit the ...</td>\n",
              "      <td>not stressed</td>\n",
              "      <td>survivors of abuse</td>\n",
              "    </tr>\n",
              "    <tr>\n",
              "      <th>4</th>\n",
              "      <td>until just a bit before i decide to move to th...</td>\n",
              "      <td>not stressed</td>\n",
              "      <td>homeless</td>\n",
              "    </tr>\n",
              "  </tbody>\n",
              "</table>\n",
              "</div>\n",
              "      <button class=\"colab-df-convert\" onclick=\"convertToInteractive('df-2501258b-1162-4e95-b559-8aabec94982d')\"\n",
              "              title=\"Convert this dataframe to an interactive table.\"\n",
              "              style=\"display:none;\">\n",
              "        \n",
              "  <svg xmlns=\"http://www.w3.org/2000/svg\" height=\"24px\"viewBox=\"0 0 24 24\"\n",
              "       width=\"24px\">\n",
              "    <path d=\"M0 0h24v24H0V0z\" fill=\"none\"/>\n",
              "    <path d=\"M18.56 5.44l.94 2.06.94-2.06 2.06-.94-2.06-.94-.94-2.06-.94 2.06-2.06.94zm-11 1L8.5 8.5l.94-2.06 2.06-.94-2.06-.94L8.5 2.5l-.94 2.06-2.06.94zm10 10l.94 2.06.94-2.06 2.06-.94-2.06-.94-.94-2.06-.94 2.06-2.06.94z\"/><path d=\"M17.41 7.96l-1.37-1.37c-.4-.4-.92-.59-1.43-.59-.52 0-1.04.2-1.43.59L10.3 9.45l-7.72 7.72c-.78.78-.78 2.05 0 2.83L4 21.41c.39.39.9.59 1.41.59.51 0 1.02-.2 1.41-.59l7.78-7.78 2.81-2.81c.8-.78.8-2.07 0-2.86zM5.41 20L4 18.59l7.72-7.72 1.47 1.35L5.41 20z\"/>\n",
              "  </svg>\n",
              "      </button>\n",
              "      \n",
              "  <style>\n",
              "    .colab-df-container {\n",
              "      display:flex;\n",
              "      flex-wrap:wrap;\n",
              "      gap: 12px;\n",
              "    }\n",
              "\n",
              "    .colab-df-convert {\n",
              "      background-color: #E8F0FE;\n",
              "      border: none;\n",
              "      border-radius: 50%;\n",
              "      cursor: pointer;\n",
              "      display: none;\n",
              "      fill: #1967D2;\n",
              "      height: 32px;\n",
              "      padding: 0 0 0 0;\n",
              "      width: 32px;\n",
              "    }\n",
              "\n",
              "    .colab-df-convert:hover {\n",
              "      background-color: #E2EBFA;\n",
              "      box-shadow: 0px 1px 2px rgba(60, 64, 67, 0.3), 0px 1px 3px 1px rgba(60, 64, 67, 0.15);\n",
              "      fill: #174EA6;\n",
              "    }\n",
              "\n",
              "    [theme=dark] .colab-df-convert {\n",
              "      background-color: #3B4455;\n",
              "      fill: #D2E3FC;\n",
              "    }\n",
              "\n",
              "    [theme=dark] .colab-df-convert:hover {\n",
              "      background-color: #434B5C;\n",
              "      box-shadow: 0px 1px 3px 1px rgba(0, 0, 0, 0.15);\n",
              "      filter: drop-shadow(0px 1px 2px rgba(0, 0, 0, 0.3));\n",
              "      fill: #FFFFFF;\n",
              "    }\n",
              "  </style>\n",
              "\n",
              "      <script>\n",
              "        const buttonEl =\n",
              "          document.querySelector('#df-2501258b-1162-4e95-b559-8aabec94982d button.colab-df-convert');\n",
              "        buttonEl.style.display =\n",
              "          google.colab.kernel.accessAllowed ? 'block' : 'none';\n",
              "\n",
              "        async function convertToInteractive(key) {\n",
              "          const element = document.querySelector('#df-2501258b-1162-4e95-b559-8aabec94982d');\n",
              "          const dataTable =\n",
              "            await google.colab.kernel.invokeFunction('convertToInteractive',\n",
              "                                                     [key], {});\n",
              "          if (!dataTable) return;\n",
              "\n",
              "          const docLinkHtml = 'Like what you see? Visit the ' +\n",
              "            '<a target=\"_blank\" href=https://colab.research.google.com/notebooks/data_table.ipynb>data table notebook</a>'\n",
              "            + ' to learn more about interactive tables.';\n",
              "          element.innerHTML = '';\n",
              "          dataTable['output_type'] = 'display_data';\n",
              "          await google.colab.output.renderOutput(dataTable, element);\n",
              "          const docLink = document.createElement('div');\n",
              "          docLink.innerHTML = docLinkHtml;\n",
              "          element.appendChild(docLink);\n",
              "        }\n",
              "      </script>\n",
              "    </div>\n",
              "  </div>\n",
              "  "
            ]
          },
          "metadata": {},
          "execution_count": 18
        }
      ]
    },
    {
      "cell_type": "markdown",
      "source": [
        "Now that we have text matched to labels, we can go ahead and save the `csv` files for these 3 different sets of data"
      ],
      "metadata": {
        "id": "cvjr1em9VYNT"
      }
    },
    {
      "cell_type": "code",
      "source": [
        "train_df.to_csv(os.path.join(base_dir, \"train.csv\"),  index = False, header = True)\n",
        "test_df.to_csv(os.path.join(base_dir, \"test.csv\"),  index = False, header = True)\n",
        "val_df.to_csv(os.path.join(base_dir, \"val.csv\"),  index = False, header = True)\n",
        "print(\"Done\")"
      ],
      "metadata": {
        "colab": {
          "base_uri": "https://localhost:8080/"
        },
        "id": "uQlpvRx4VWum",
        "outputId": "d1ca3452-ed16-420b-cfa1-243e223c485c"
      },
      "execution_count": 19,
      "outputs": [
        {
          "output_type": "stream",
          "name": "stdout",
          "text": [
            "Done\n"
          ]
        }
      ]
    },
    {
      "cell_type": "markdown",
      "source": [
        "In the following code cell we are going to count the examples that are in each set of our whole dataset."
      ],
      "metadata": {
        "id": "6_0O8AsVV0ra"
      }
    },
    {
      "cell_type": "code",
      "source": [
        "columns = [\"Set\", \"Example(s)\"]\n",
        "\n",
        "examples = [\n",
        "    ['training', len(train_df)],\n",
        "    ['validation', len(val_df)],\n",
        "    ['testing', len(test_df)],\n",
        "    ['total', len(train_df) +  len(test_df) + len(val_df)],\n",
        "]\n",
        "\n",
        "tabulate_data(columns, examples, \"Examples\")"
      ],
      "metadata": {
        "colab": {
          "base_uri": "https://localhost:8080/"
        },
        "id": "MXeApTx7Vp-m",
        "outputId": "888a62b4-abe9-444d-964e-b2330de745fd"
      },
      "execution_count": 20,
      "outputs": [
        {
          "output_type": "stream",
          "name": "stdout",
          "text": [
            "+------------+------------+\n",
            "| Set        | Example(s) |\n",
            "+------------+------------+\n",
            "| training   |       2838 |\n",
            "| validation |       1136 |\n",
            "| testing    |       1702 |\n",
            "| total      |       5676 |\n",
            "+------------+------------+\n"
          ]
        }
      ]
    },
    {
      "cell_type": "markdown",
      "source": [
        "### Features and Labels Extraction\n",
        "\n",
        "Our fetures are the actual `text` in the dataframes which is the column named `text` and in this this task we have two labels that we need to accurately predict which is `label` (stressed, or not) and `stress_type` which is the type stress a human is having. In the following code cell we are going to read features and labels in a numpy arrays for each set."
      ],
      "metadata": {
        "id": "f5MGCJeBWMr1"
      }
    },
    {
      "cell_type": "code",
      "source": [
        "# train\n",
        "train_texts = train_df.text.values\n",
        "train_labels = train_df.label.values\n",
        "train_stress_types = train_df.stress_type.values\n",
        "\n",
        "# test\n",
        "test_texts = test_df.text.values\n",
        "test_labels = test_df.label.values\n",
        "test_stress_types = test_df.stress_type.values\n",
        "\n",
        "# val\n",
        "val_texts = val_df.text.values\n",
        "val_labels = val_df.label.values\n",
        "val_stress_types = val_df.stress_type.values"
      ],
      "metadata": {
        "id": "0OtJMI3tWDxP"
      },
      "execution_count": 21,
      "outputs": []
    },
    {
      "cell_type": "markdown",
      "source": [
        "Let's check how frequently words appears in our dataset. We are going to use `wordcloud` the package that we have installed earlier to visualize that. We are going to check for the first `100` most appearing words."
      ],
      "metadata": {
        "id": "ClJhVpUbZIAB"
      }
    },
    {
      "cell_type": "code",
      "source": [
        "text = \" \".join(train_texts)\n",
        "wordcloud = wc.WordCloud(max_words=100, background_color=\"white\").generate(text)\n",
        "plt.imshow(wordcloud)\n",
        "plt.axis(\"off\")\n",
        "plt.show()"
      ],
      "metadata": {
        "colab": {
          "base_uri": "https://localhost:8080/",
          "height": 285
        },
        "id": "9qEMI8XIZYZT",
        "outputId": "2ffea33d-b984-48b6-d67a-caa5ad8db237"
      },
      "execution_count": 22,
      "outputs": [
        {
          "output_type": "display_data",
          "data": {
            "text/plain": [
              "<Figure size 640x480 with 1 Axes>"
            ],
            "image/png": "[encoded data removed]"
          },
          "metadata": {}
        }
      ]
    },
    {
      "cell_type": "markdown",
      "source": [
        "Next we are going to save our `wordcloud` file as follows:"
      ],
      "metadata": {
        "id": "KS3l6AksaG1y"
      }
    },
    {
      "cell_type": "code",
      "source": [
        "wordcloud.to_file('wc.png')\n",
        "print(\"Saved\")"
      ],
      "metadata": {
        "colab": {
          "base_uri": "https://localhost:8080/"
        },
        "id": "qbgEahORaTvJ",
        "outputId": "b6feaa89-dd3e-468c-85c4-45cdd6348b96"
      },
      "execution_count": 23,
      "outputs": [
        {
          "output_type": "stream",
          "name": "stdout",
          "text": [
            "Saved\n"
          ]
        }
      ]
    },
    {
      "cell_type": "markdown",
      "source": [
        "### Text Preprocessing\n",
        "In our text processing pipeline we need to do the following steps:\n",
        "\n",
        "1. tokenize sentences\n",
        "* this is the process of converting a sentence or text into senquence of word. For this process we are going to use a pre-trained model from spacy language model. You can read more about other tokenizers that you can use at [pytorch](https://pytorch.org/text/stable/data_utils.html).org.\n",
        "\n",
        "2. vocabulary\n",
        "We will to create a vocabulary based on our sentences that are in the train dataset. A `vocabulary` is esentially a `word` to `index` mapping that allows us to reference the word with their integer representation, since machine leaning models does not understand words. This vocabulary will be used during model training and also can be used at model inference.\n",
        "\n",
        "### Tokenizer\n",
        "In the following code cell we are going to geta a tokenier object that will convert a sentence into a sequence of word using the `spacy-en` language model. The reason we are using the english langauge model it's because our intents are in english."
      ],
      "metadata": {
        "id": "zn4H4nQPWh6I"
      }
    },
    {
      "cell_type": "code",
      "source": [
        "tokenizer = data.utils.get_tokenizer('spacy', 'en')\n",
        "tokenizer(\"I love natural language processing (nlp).\")"
      ],
      "metadata": {
        "colab": {
          "base_uri": "https://localhost:8080/"
        },
        "id": "cKzRB6ERWb-Z",
        "outputId": "36e035b8-57b3-4e56-b696-38ec527af636"
      },
      "execution_count": 24,
      "outputs": [
        {
          "output_type": "stream",
          "name": "stderr",
          "text": [
            "/usr/local/lib/python3.10/dist-packages/torchtext/data/utils.py:105: UserWarning: Spacy model \"en\" could not be loaded, trying \"en_core_web_sm\" instead\n",
            "  warnings.warn(\n"
          ]
        },
        {
          "output_type": "execute_result",
          "data": {
            "text/plain": [
              "['I', 'love', 'natural', 'language', 'processing', '(', 'nlp', ')', '.']"
            ]
          },
          "metadata": {},
          "execution_count": 24
        }
      ]
    },
    {
      "cell_type": "markdown",
      "source": [
        "### Vocabulary\n",
        "In the following code cell we are going to create a `vocabulary` object from torchtext. So we are going to use the `Counter` module from `collections` to generate these counts from our train features.\n",
        "\n",
        "We are going to specify the `min_freq` to `2` meaning that the words that does not appear at least 2 times will be converted to unknown. We are also going to specify the special tokens during creation of the vocabulary object."
      ],
      "metadata": {
        "id": "6eg16gaXXYXe"
      }
    },
    {
      "cell_type": "code",
      "source": [
        "counter = Counter()\n",
        "for line in train_texts:\n",
        "    counter.update(tokenizer(line))\n",
        "#  our special tokens are (unknown, padding, start of sentence, end of sentence)\n",
        "vocabulary = vocab.vocab(counter, min_freq=2, specials=('-unk-', '-pad-', '-sos-', '-eos-'))"
      ],
      "metadata": {
        "id": "TGI6C9-8XETl"
      },
      "execution_count": 25,
      "outputs": []
    },
    {
      "cell_type": "markdown",
      "source": [
        "### STOI - String To Integer\n",
        "This will be a dictionary that contains a string to integer mapping which will be our actual vocabulary. In the following code cell we are going to create object called `stoi` which is essentially a dictionary of word to index mapping. This dictionary will be used during training as well as during model inference."
      ],
      "metadata": {
        "id": "cTx0dEomYPXs"
      }
    },
    {
      "cell_type": "code",
      "source": [
        "stoi = vocabulary.get_stoi()"
      ],
      "metadata": {
        "id": "P9qDNOS_XX-K"
      },
      "execution_count": 26,
      "outputs": []
    },
    {
      "cell_type": "markdown",
      "source": [
        "### Text Pipeline\n",
        "After our text has been tokenized we need a way of converting those words into numbers because machine leaning models understand numbers not words. That's where we the `text_pipeline` function comes into play. So this function takes in a sentence and tokenize it then converts each word to a number. Note that the word that does not exists in the vocabulay (`stoi`) will be converted to  an unkown `('-unk-')` token (0)."
      ],
      "metadata": {
        "id": "ERWg6ii7ZBR-"
      }
    },
    {
      "cell_type": "code",
      "source": [
        "def text_pipeline(x: str):\n",
        "  values = list()\n",
        "  tokens = tokenizer(x.lower()) # convert to lower case.\n",
        "  for token in tokens:\n",
        "    try:\n",
        "      v = stoi[token]\n",
        "    except KeyError as e:\n",
        "      v = stoi['-unk-']\n",
        "    values.append(v)\n",
        "  return values"
      ],
      "metadata": {
        "id": "76wRr0h0XX5U"
      },
      "execution_count": 27,
      "outputs": []
    },
    {
      "cell_type": "markdown",
      "source": [
        "### Label pipeline\n",
        "Our labels for now are just textual. We also need to convert these labels into numbers. This is very simple what we need to do is to get all the uniqe labels and then create a `labels_vocab` which is a label to integer representation. We are also going to do the same on `stress_type_labels`.\n",
        "\n",
        "> As you have noticed we have `2` labels  and `10` stress types.\n",
        "\n",
        "The `label_pipeline` and the `stress_type_label_pipeline` function will then takes in the label and then returns us an integer representation of that label."
      ],
      "metadata": {
        "id": "7T5oM8aIZqdX"
      }
    },
    {
      "cell_type": "code",
      "source": [
        "labels_dict = {k: v for v, k in enumerate([d.lower() for d in train_df.label.unique()])}\n",
        "stress_type_labels = {k: v for v, k in enumerate([d.lower() for d in train_df.stress_type.unique()])}"
      ],
      "metadata": {
        "id": "-xdB9m-cXX0y"
      },
      "execution_count": 28,
      "outputs": []
    },
    {
      "cell_type": "code",
      "source": [
        "label_pipeline = lambda x: labels_dict[x]\n",
        "stress_type_label_pipeline = lambda x: stress_type_labels[x]"
      ],
      "metadata": {
        "id": "j8Ub0Wq4XXxd"
      },
      "execution_count": 29,
      "outputs": []
    },
    {
      "cell_type": "markdown",
      "source": [
        "Now that we have our vocabularies for labels `labels_dict`, `stress_type_labels` and  features `stoi` we can then save thes files as they will be used during model inference. We are going to save these files as `.json` files."
      ],
      "metadata": {
        "id": "0KSxxSUwbMLc"
      }
    },
    {
      "cell_type": "code",
      "source": [
        "with open(os.path.join(base_dir, \"vocab.json\"), 'w') as f:\n",
        "  f.write(json.dumps(stoi, indent=2))\n",
        "\n",
        "with open(os.path.join(base_dir, \"labels_dict.json\"), 'w') as f:\n",
        "  f.write(json.dumps(labels_dict, indent=2))\n",
        "\n",
        "with open(os.path.join(base_dir, \"stress_type_labels.json\"), 'w') as f:\n",
        "  f.write(json.dumps(stress_type_labels, indent=2))\n",
        "\n",
        "print(\"Saved!!\")"
      ],
      "metadata": {
        "colab": {
          "base_uri": "https://localhost:8080/"
        },
        "id": "7kpBXmdMbhOe",
        "outputId": "488041e6-27dd-4c5d-8cad-9aeefc0a95a8"
      },
      "execution_count": 30,
      "outputs": [
        {
          "output_type": "stream",
          "name": "stdout",
          "text": [
            "Saved!!\n"
          ]
        }
      ]
    },
    {
      "cell_type": "markdown",
      "source": [
        "### Pretrained vectors\n",
        "In the following code cell we are going to download the predtrained word vectors. We are going to use the `GloVe.6B.100d`. These are pretrained vectors that were trained with about `~6B` words and have a vector representation of a word in `100` dimension for each word."
      ],
      "metadata": {
        "id": "D-s0S-pza939"
      }
    },
    {
      "cell_type": "code",
      "source": [
        "EMBEDDING_DIM = 100\n",
        "glove_vectors = vocab.GloVe('6B', dim=EMBEDDING_DIM)"
      ],
      "metadata": {
        "id": "Mtrb3ctoXXsW"
      },
      "execution_count": 31,
      "outputs": []
    },
    {
      "cell_type": "markdown",
      "source": [
        "### Creating Embedding matrix\n",
        "Now that we have our glove vectors we need to costomize them so that they fit our use case. We are going to create an embedding matrix that suits the our vocabulary. So essentially this embedding matrix will be the word to vector mapping for all the words that arein our vocabulary."
      ],
      "metadata": {
        "id": "Kc_GWFnQcYmd"
      }
    },
    {
      "cell_type": "code",
      "source": [
        "VOCAB_SIZE = len(stoi)\n",
        "EMBEDDING_MATRIX= torch.zeros([VOCAB_SIZE, EMBEDDING_DIM])\n",
        "for i, word in enumerate(vocabulary.get_itos()):\n",
        "  EMBEDDING_MATRIX[i] = glove_vectors[word]"
      ],
      "metadata": {
        "id": "BeVKb-33a9dH"
      },
      "execution_count": 32,
      "outputs": []
    },
    {
      "cell_type": "markdown",
      "source": [
        "In the followig code cell we are going to check the embedding matrix for the word `\"stress\"`."
      ],
      "metadata": {
        "id": "y9Tr8ACuciDP"
      }
    },
    {
      "cell_type": "code",
      "source": [
        "EMBEDDING_MATRIX[stoi['stress']]"
      ],
      "metadata": {
        "colab": {
          "base_uri": "https://localhost:8080/"
        },
        "id": "84DLGctra9aF",
        "outputId": "13626279-7d14-47d9-84f3-355d7d1c0904"
      },
      "execution_count": 33,
      "outputs": [
        {
          "output_type": "execute_result",
          "data": {
            "text/plain": [
              "tensor([-0.7925,  0.1112, -0.1571,  0.3381, -1.5105, -0.2456, -1.0716, -0.3597,\n",
              "        -0.6246,  0.2151, -0.3590, -0.3886,  0.1504,  0.4751,  0.3440,  0.0928,\n",
              "        -0.7636, -0.3284, -0.1806, -0.6968,  0.0256, -0.2250, -1.0008,  0.4402,\n",
              "        -0.4220,  0.2957, -0.1593, -0.4640,  0.3798, -0.0354, -0.2422,  0.1526,\n",
              "        -0.2708,  0.0620, -0.1721, -0.2484,  0.4039,  0.4822, -0.4430,  0.4077,\n",
              "        -0.4437,  0.0887, -0.0222, -0.4934, -0.3153,  0.2668,  0.0413,  0.1002,\n",
              "        -0.3000, -1.0617,  0.1976, -0.7711, -0.2317,  0.7572,  0.7147, -1.4065,\n",
              "         0.5392, -0.8503,  0.8112,  0.9346,  0.3804,  0.8510, -0.0968, -0.4487,\n",
              "         0.7431,  0.8114,  0.1324, -0.7675,  0.4241, -0.3287, -0.4383,  0.1506,\n",
              "        -0.0778,  0.3027,  0.6312,  0.6756,  0.1499, -0.3498, -0.1731,  0.1160,\n",
              "         0.2834, -0.3573, -0.8868, -0.0051, -1.6313,  0.4051,  0.2360,  0.1223,\n",
              "        -1.0897, -0.2883, -0.6558, -0.2405,  0.1284,  0.3390,  0.8172,  0.3133,\n",
              "         0.6284, -1.1465,  0.6587,  0.1236])"
            ]
          },
          "metadata": {},
          "execution_count": 33
        }
      ]
    },
    {
      "cell_type": "markdown",
      "source": [
        "### Creating Dataset for Training\n",
        "\n",
        "In the following code cell we are going to create a dataset class called `HSPDataset`. This dataset will takes in the labels and the text of a set."
      ],
      "metadata": {
        "id": "qzFJ0SZZcrhk"
      }
    },
    {
      "cell_type": "code",
      "source": [
        "class HSPDataset(torch.utils.data.Dataset):\n",
        "  def __init__(self, stress_types, labels, text):\n",
        "    super(HSPDataset, self).__init__()\n",
        "    self.labels = labels\n",
        "    self.text = text\n",
        "    self.stress_types = stress_types\n",
        "      \n",
        "  def __getitem__(self, index):\n",
        "    return self.labels[index], self.stress_types[index], self.text[index]\n",
        "  \n",
        "  def __len__(self):\n",
        "    return len(self.labels)"
      ],
      "metadata": {
        "id": "g3e35_Aza9W6"
      },
      "execution_count": 34,
      "outputs": []
    },
    {
      "cell_type": "markdown",
      "source": [
        "### collate_fn\n",
        "We are going to create a collate function called `tokenize_batch`. This function actually takes in a `batch` and does the preprocessing of the text, stress_types and labels. This function will be passed to the `DataLoader` class to do the preprocessing of features and labels.\n",
        "\n",
        "`tokenize_batch` function:\n",
        "\n",
        "* this function takes in a batch in each set and convert the features and labels to integer representation. It goes ahead and `pad` and `truncate` the sequence to the same `length` and returns `labels`, `stress_types` and `features`."
      ],
      "metadata": {
        "id": "AP49l5SIc8YB"
      }
    },
    {
      "cell_type": "code",
      "source": [
        "def tokenize_batch(batch, max_len=100, padding=\"pre\"):\n",
        "  assert padding==\"pre\" or padding==\"post\", \"the padding can be either pre or post\"\n",
        "  labels_list, stress_types_list, text_list = [], [], []\n",
        "  for _label, _type, _text in batch:\n",
        "    labels_list.append(label_pipeline(_label))\n",
        "    stress_types_list.append(stress_type_label_pipeline(_type))\n",
        "    text_holder = torch.zeros(max_len, dtype=torch.int32)\n",
        "    processed_text = torch.tensor(text_pipeline(_text.lower()), dtype=torch.int32)\n",
        "    pos = min(max_len, len(processed_text))\n",
        "    if padding == \"pre\":\n",
        "      text_holder[:pos] = processed_text[:pos]\n",
        "    else:\n",
        "      text_holder[-pos:] = processed_text[-pos:]\n",
        "    text_list.append(text_holder.unsqueeze(dim=0))\n",
        "  #  the labels will be torch float tensors since they will go through a binary classification and stress-types will be lon tensors as it is a multi-class classification.\n",
        "  return torch.FloatTensor(labels_list), torch.LongTensor(stress_types_list), torch.cat(text_list, dim=0)\n",
        "  "
      ],
      "metadata": {
        "id": "YzOXdOcka9UA"
      },
      "execution_count": 35,
      "outputs": []
    },
    {
      "cell_type": "markdown",
      "source": [
        "### Datasets\n",
        "In the following code cell we are going to create the datasets for all our three sets using the `HSPDataset` class."
      ],
      "metadata": {
        "id": "BftA18_edart"
      }
    },
    {
      "cell_type": "code",
      "source": [
        "train_dataset = HSPDataset(train_stress_types, train_labels, train_texts)\n",
        "test_dataset = HSPDataset(test_stress_types, test_labels, test_texts)\n",
        "val_dataset = HSPDataset(val_stress_types, val_labels, val_texts)"
      ],
      "metadata": {
        "id": "tPaNeJOVdVrt"
      },
      "execution_count": 36,
      "outputs": []
    },
    {
      "cell_type": "markdown",
      "source": [
        "### Iterators\n",
        "In the following code cell we are going to create loaders using the `DataLoader` class from `torch.utils.data` for our `3` sets. We are going to use the `batch_size` of `128` and our `collate_function` is `tokenize_batch`. For the validation and testing dataset we are going to set the shuffle to `False` because there's no need fo us to shuffle these examples."
      ],
      "metadata": {
        "id": "jLrPPmq2dpKw"
      }
    },
    {
      "cell_type": "code",
      "source": [
        "BATCH_SIZE = 128\n",
        "train_loader = torch.utils.data.DataLoader(train_dataset, batch_size=BATCH_SIZE, shuffle=True, collate_fn=tokenize_batch)\n",
        "test_loader = torch.utils.data.DataLoader(test_dataset, batch_size=BATCH_SIZE, shuffle=False, collate_fn=tokenize_batch)\n",
        "val_loader = torch.utils.data.DataLoader(val_dataset, batch_size=BATCH_SIZE, shuffle=False, collate_fn=tokenize_batch)"
      ],
      "metadata": {
        "id": "aFhmjJ0qdiXk"
      },
      "execution_count": 37,
      "outputs": []
    },
    {
      "cell_type": "markdown",
      "source": [
        "Checking a single Batch Data"
      ],
      "metadata": {
        "id": "khiKQFrJd58l"
      }
    },
    {
      "cell_type": "code",
      "source": [
        "lbl, _types, txt = next(iter(train_loader))"
      ],
      "metadata": {
        "id": "Pfq_L5KNd-GT"
      },
      "execution_count": 38,
      "outputs": []
    },
    {
      "cell_type": "markdown",
      "source": [
        "Labels in the first batch."
      ],
      "metadata": {
        "id": "6EZVZH0hd-C0"
      }
    },
    {
      "cell_type": "code",
      "source": [
        "lbl"
      ],
      "metadata": {
        "colab": {
          "base_uri": "https://localhost:8080/"
        },
        "id": "g-6-3P76d9_s",
        "outputId": "bea824c1-325a-4e4f-e6ca-0dd633b2efec"
      },
      "execution_count": 39,
      "outputs": [
        {
          "output_type": "execute_result",
          "data": {
            "text/plain": [
              "tensor([0., 0., 1., 1., 0., 0., 0., 0., 0., 0., 0., 0., 1., 0., 1., 0., 1., 1.,\n",
              "        0., 1., 1., 1., 1., 1., 1., 1., 0., 1., 0., 1., 1., 1., 1., 1., 0., 0.,\n",
              "        0., 1., 0., 1., 1., 0., 1., 0., 0., 1., 1., 0., 1., 0., 0., 1., 1., 1.,\n",
              "        1., 0., 0., 1., 0., 0., 0., 0., 1., 1., 0., 1., 1., 0., 0., 0., 1., 0.,\n",
              "        0., 1., 1., 0., 0., 1., 1., 1., 0., 1., 1., 0., 1., 1., 1., 0., 0., 1.,\n",
              "        1., 1., 1., 0., 0., 0., 0., 0., 0., 0., 1., 0., 0., 1., 0., 0., 0., 1.,\n",
              "        0., 0., 1., 0., 0., 1., 0., 1., 1., 1., 1., 1., 0., 0., 0., 1., 1., 1.,\n",
              "        0., 0.])"
            ]
          },
          "metadata": {},
          "execution_count": 39
        }
      ]
    },
    {
      "cell_type": "markdown",
      "source": [
        "The stress types in the first batch."
      ],
      "metadata": {
        "id": "hqOedSULAa9w"
      }
    },
    {
      "cell_type": "code",
      "source": [
        "_types"
      ],
      "metadata": {
        "colab": {
          "base_uri": "https://localhost:8080/"
        },
        "id": "WDEa0GJCAZlp",
        "outputId": "845760c8-772a-4826-a678-1649e8eb4cbb"
      },
      "execution_count": 40,
      "outputs": [
        {
          "output_type": "execute_result",
          "data": {
            "text/plain": [
              "tensor([6, 2, 6, 0, 4, 2, 7, 2, 2, 3, 2, 3, 4, 3, 0, 7, 7, 3, 3, 0, 6, 3, 7, 6,\n",
              "        6, 0, 3, 4, 7, 3, 2, 1, 4, 3, 2, 7, 4, 0, 3, 7, 3, 5, 0, 4, 7, 6, 3, 0,\n",
              "        4, 0, 3, 0, 7, 0, 1, 0, 0, 7, 0, 7, 3, 5, 0, 3, 0, 9, 4, 0, 0, 4, 0, 4,\n",
              "        4, 6, 6, 4, 3, 6, 3, 6, 0, 0, 4, 0, 5, 1, 2, 7, 6, 3, 3, 7, 3, 3, 3, 0,\n",
              "        0, 2, 7, 2, 0, 7, 4, 2, 1, 7, 1, 0, 1, 2, 9, 8, 0, 7, 0, 7, 4, 0, 0, 1,\n",
              "        0, 3, 0, 1, 8, 3, 7, 2])"
            ]
          },
          "metadata": {},
          "execution_count": 40
        }
      ]
    },
    {
      "cell_type": "markdown",
      "source": [
        "The first sentence in the batch."
      ],
      "metadata": {
        "id": "i-ho13LdeNC6"
      }
    },
    {
      "cell_type": "code",
      "source": [
        "txt[0]"
      ],
      "metadata": {
        "colab": {
          "base_uri": "https://localhost:8080/"
        },
        "id": "12CNt4ffeM-b",
        "outputId": "c6b71221-b95f-464d-eff8-82db39e37a06"
      },
      "execution_count": 41,
      "outputs": [
        {
          "output_type": "execute_result",
          "data": {
            "text/plain": [
              "tensor([  19,  270,   54,    9,  786,   36,   76,  401,   19,   27, 3068,    8,\n",
              "         691,  863,   74,  113,  566,  113,    8,  270,  287,  155,  213,   35,\n",
              "          12, 1438,  127,   21,  546,   50,  408,   19,   54,    9,  241,   17,\n",
              "          79,   18,  520,   89, 2719, 6184,   36,  334,  460,   34,  127,   35,\n",
              "         476,   31,  835,  566,   19,   67,   44,  769,   89,  936, 4116,   12,\n",
              "           4,  775,   18,    0,   44,   12, 1194,  127,   82,  566,   19,  330,\n",
              "         331,  275,  210,   82,   19,   70,  493,    0,   18,   44,   62,   38,\n",
              "         972,  973,   59,   19,    8, 1220,  566,   17,    8,   76,  248,  429,\n",
              "          19,   54,  211,  566], dtype=torch.int32)"
            ]
          },
          "metadata": {},
          "execution_count": 41
        }
      ]
    },
    {
      "cell_type": "markdown",
      "source": [
        "### Model Creation\n",
        "Now that we have our loaders we can now create a model. The model that we are going to create is called `HSPModel`.  As mentioned we are going to use `BiDirectional Long Short Term Memory (BiLSTM)` to build this model. The model will process the text using the `embedding` layer and pass the outputs to the `ltsm` layers which is bidirectional, and process the features again. After the features has been processed then we are going to slit the training of each of the labels between:\n",
        "\n",
        "1. label\n",
        "2. and stress_type\n",
        "\n",
        "We are going to name these linear layers which are processed sequentially `out1` and `out2` respectively, which means that in out `out1` we will be having the `output_size` of 1 since it will be a binary classification node and `out2` will have `10` `output_size` since it is a multi-class classification task.\n",
        "\n",
        "\n",
        "````shell\n",
        "\n",
        "\n",
        "                          |-------------> [out1] --- [1]\n",
        "                          |\n",
        "[embedding]--------->[bi-lstm]\n",
        "                          |\n",
        "                          |--------------> [out2] --- [10]\n",
        "````"
      ],
      "metadata": {
        "id": "WlFHj0dBeYlV"
      }
    },
    {
      "cell_type": "code",
      "source": [
        "class HSPModel(nn.Module):\n",
        "  def __init__(self, vocab_size, embedding_size, hidden_size, output_size1, output_size2 , num_layers\n",
        "               , bidirectional, dropout, pad_idx):\n",
        "    super(HSPModel, self).__init__()\n",
        "\n",
        "    self.embedding = nn.Sequential(\n",
        "        nn.Embedding(vocab_size, embedding_dim=embedding_size, padding_idx=pad_idx),\n",
        "        nn.Dropout(dropout)\n",
        "    )\n",
        "    self.lstm = nn.Sequential(\n",
        "        nn.LSTM(\n",
        "          embedding_size, \n",
        "          hidden_size=hidden_size, \n",
        "          bidirectional=bidirectional, \n",
        "          num_layers=num_layers,\n",
        "          dropout=dropout\n",
        "        )\n",
        "    )\n",
        "    self.out1 = nn.Sequential(\n",
        "        nn.Linear(hidden_size * 2, out_features=128),\n",
        "        nn.Dropout(dropout),\n",
        "        nn.Linear(128, out_features=output_size1),\n",
        "        nn.Dropout(dropout)\n",
        "    )\n",
        "    self.out2 = nn.Sequential(\n",
        "        nn.Linear(hidden_size * 2, out_features=128),\n",
        "        nn.Dropout(dropout),\n",
        "        nn.Linear(128, out_features=output_size2),\n",
        "        nn.Dropout(dropout)\n",
        "    )\n",
        "\n",
        "  def forward(self, text, text_lengths):\n",
        "    embedded = self.embedding(text)\n",
        "    # set batch_first=true since input shape has batch_size first and text_lengths to the device.\n",
        "    packed_embedded = nn.utils.rnn.pack_padded_sequence(embedded, text_lengths.to('cpu'), enforce_sorted=False, batch_first=True)\n",
        "    packed_output, (h_0, c_0) = self.lstm(packed_embedded)\n",
        "    output, output_lengths = nn.utils.rnn.pad_packed_sequence(packed_output)\n",
        "    output = torch.cat((h_0[-2,:,:], h_0[-1,:,:]), dim = 1)\n",
        "    return self.out1(output), self.out2(output)"
      ],
      "metadata": {
        "id": "KUWtbBIceM7d"
      },
      "execution_count": 42,
      "outputs": []
    },
    {
      "cell_type": "markdown",
      "source": [
        "### Model Instance\n",
        "In the following code cell we are going to create a model instance."
      ],
      "metadata": {
        "id": "z509c1kIe4b5"
      }
    },
    {
      "cell_type": "code",
      "source": [
        "INPUT_DIM = len(stoi) \n",
        "EMBEDDING_DIM = 100\n",
        "HIDDEN_DIM = 256\n",
        "OUTPUT_DIM_1 = 1\n",
        "OUTPUT_DIM_2 = len(stress_type_labels)\n",
        "\n",
        "N_LAYERS = 2\n",
        "BIDIRECTIONAL = True\n",
        "DROPOUT = 0.5\n",
        "PAD_IDX = stoi['-pad-'] \n",
        "hsp_model = HSPModel(\n",
        "              INPUT_DIM, \n",
        "              EMBEDDING_DIM, \n",
        "              HIDDEN_DIM, \n",
        "              OUTPUT_DIM_1, \n",
        "              OUTPUT_DIM_2,\n",
        "              N_LAYERS, \n",
        "              BIDIRECTIONAL, \n",
        "              DROPOUT, \n",
        "              PAD_IDX\n",
        ").to(device)\n",
        "hsp_model"
      ],
      "metadata": {
        "colab": {
          "base_uri": "https://localhost:8080/"
        },
        "id": "-F0hcAj4eMtn",
        "outputId": "cd5671fe-18d3-424b-adc9-196e0bfc32da"
      },
      "execution_count": 43,
      "outputs": [
        {
          "output_type": "execute_result",
          "data": {
            "text/plain": [
              "HSPModel(\n",
              "  (embedding): Sequential(\n",
              "    (0): Embedding(6394, 100, padding_idx=1)\n",
              "    (1): Dropout(p=0.5, inplace=False)\n",
              "  )\n",
              "  (lstm): Sequential(\n",
              "    (0): LSTM(100, 256, num_layers=2, dropout=0.5, bidirectional=True)\n",
              "  )\n",
              "  (out1): Sequential(\n",
              "    (0): Linear(in_features=512, out_features=128, bias=True)\n",
              "    (1): Dropout(p=0.5, inplace=False)\n",
              "    (2): Linear(in_features=128, out_features=1, bias=True)\n",
              "    (3): Dropout(p=0.5, inplace=False)\n",
              "  )\n",
              "  (out2): Sequential(\n",
              "    (0): Linear(in_features=512, out_features=128, bias=True)\n",
              "    (1): Dropout(p=0.5, inplace=False)\n",
              "    (2): Linear(in_features=128, out_features=10, bias=True)\n",
              "    (3): Dropout(p=0.5, inplace=False)\n",
              "  )\n",
              ")"
            ]
          },
          "metadata": {},
          "execution_count": 43
        }
      ]
    },
    {
      "cell_type": "markdown",
      "source": [
        "### Counting Model Parameters\n",
        "In the following code cell we are going to count the model parameters."
      ],
      "metadata": {
        "id": "5Q3sHK_rfLch"
      }
    },
    {
      "cell_type": "code",
      "source": [
        "models.model_params(hsp_model)"
      ],
      "metadata": {
        "colab": {
          "base_uri": "https://localhost:8080/"
        },
        "id": "n6aaOSVbd98d",
        "outputId": "4b730a90-45ce-429b-bddd-3aaa4f75759d"
      },
      "execution_count": 44,
      "outputs": [
        {
          "output_type": "stream",
          "name": "stdout",
          "text": [
            "TOTAL MODEL PARAMETERS: \t3,082,291\n",
            "TOTAL TRAINABLE PARAMETERS: \t3,082,291\n"
          ]
        }
      ]
    },
    {
      "cell_type": "markdown",
      "source": [
        "### Loading Embedding Vectors\n",
        "In the following code cell we are going to load the pretained custom vectors in our embedding layer. We are going to load the embedding vectors tha suits our data using the `mhcb_model.embedding[0].weight.data.copy_(EMBEDDING_MATRIX)` as follows:"
      ],
      "metadata": {
        "id": "ixhvbZrnfa1o"
      }
    },
    {
      "cell_type": "code",
      "source": [
        "hsp_model.embedding[0].weight.data.copy_(EMBEDDING_MATRIX)"
      ],
      "metadata": {
        "colab": {
          "base_uri": "https://localhost:8080/"
        },
        "id": "hWmuwFOCd959",
        "outputId": "038362f3-db7b-4aca-bb5b-198917d518fc"
      },
      "execution_count": 45,
      "outputs": [
        {
          "output_type": "execute_result",
          "data": {
            "text/plain": [
              "tensor([[ 0.0000,  0.0000,  0.0000,  ...,  0.0000,  0.0000,  0.0000],\n",
              "        [ 0.0000,  0.0000,  0.0000,  ...,  0.0000,  0.0000,  0.0000],\n",
              "        [ 0.0000,  0.0000,  0.0000,  ...,  0.0000,  0.0000,  0.0000],\n",
              "        ...,\n",
              "        [ 0.4764, -0.1772, -0.5788,  ...,  0.0338, -0.9605, -0.9339],\n",
              "        [-0.3933,  0.2518, -0.3606,  ..., -0.4295, -0.3365,  0.1659],\n",
              "        [ 0.0000,  0.0000,  0.0000,  ...,  0.0000,  0.0000,  0.0000]],\n",
              "       device='cuda:0')"
            ]
          },
          "metadata": {},
          "execution_count": 45
        }
      ]
    },
    {
      "cell_type": "markdown",
      "source": [
        "### Optimizer and Criterion\n",
        "\n",
        "In the following code cell we are going to define the `optimizer` and `criterions`. For the `optimizer` we are going to use the `Adam` optimizer with default parameters and for the criterions or loss functions we are going to use two loss functions which are:\n",
        "\n",
        "1. `CrossEntropyLoss()` function for our `stress-type` labels since this is a `multi-class` classification.\n",
        "\n",
        "2. `BCEWithLogitsLoss()` function on our `labels` since this is a binary classification task."
      ],
      "metadata": {
        "id": "61W2JkF3f0V_"
      }
    },
    {
      "cell_type": "code",
      "source": [
        "optimizer = torch.optim.Adam(hsp_model.parameters())\n",
        "\n",
        "criterion1 = nn.BCEWithLogitsLoss().to(device)\n",
        "criterion2 = nn.CrossEntropyLoss().to(device)"
      ],
      "metadata": {
        "id": "bHJL3sJyd93Z"
      },
      "execution_count": 46,
      "outputs": []
    },
    {
      "cell_type": "markdown",
      "source": [
        "In the following code cell we are going to create our `categorical_accuracy` and our `binary_accuracy` function, which are functions that calulates the the catecorical/binary accuracy between the predicted labels and real labels."
      ],
      "metadata": {
        "id": "ifivhpn5gITZ"
      }
    },
    {
      "cell_type": "code",
      "source": [
        "def categorical_accuracy(preds, y):\n",
        "  top_pred = preds.argmax(1, keepdim = True)\n",
        "  correct = top_pred.eq(y.view_as(top_pred)).sum()\n",
        "  acc = correct.float() / y.shape[0]\n",
        "  return acc\n",
        "\n",
        "def binary_accuracy(preds, y):\n",
        "  rounded_preds = torch.round(torch.sigmoid(preds))\n",
        "  correct = (rounded_preds == y).float()\n",
        "  acc = correct.sum() / len(correct)\n",
        "  return acc"
      ],
      "metadata": {
        "id": "7LAsdm-DgEbF"
      },
      "execution_count": 47,
      "outputs": []
    },
    {
      "cell_type": "markdown",
      "source": [
        "### Train and Evaluate functions\n",
        "In the following code cell we are going to create our `train` and `evalute` functions. Here is what is going to hapen during model training:\n",
        "\n",
        "1. put the model in the train mode by calling `model.train()`\n",
        "2. for each batch we are going to take, labels, stress_types and fetaures and put the to device\n",
        "3. for the loss and accuracy we are going to calculate for each label using respective losss functions and accuracy functions.\n",
        "4. we will return the losses and accuracy for each label.\n",
        "\n",
        "> Note that the process is the same with the evaluate function except that we dont compute gradients and we put the model in evaluation model by calling `model.eval()`\n"
      ],
      "metadata": {
        "id": "JQZ49pfrgSPj"
      }
    },
    {
      "cell_type": "code",
      "source": [
        "def train(model, iterator, optimizer, criterion1, criterion2):\n",
        "  epoch_loss_1, epoch_acc_1, epoch_loss_2, epoch_acc_2  = 0, 0, 0 , 0\n",
        "  model.train()\n",
        "  for batch in iterator:\n",
        "    y_1, y_2, X = batch\n",
        "    X = X.to(device)\n",
        "    y_1 = y_1.to(device)\n",
        "    y_2 = y_2.to(device)\n",
        "    lengths = torch.tensor([len(i) for i in X])\n",
        "    optimizer.zero_grad()\n",
        "\n",
        "    out_1, out_2 = model(X, lengths)\n",
        "    out_1, out_2 = out_1.squeeze(1), out_2.squeeze(1)\n",
        "\n",
        "    loss_1 = criterion1(out_1, y_1)\n",
        "    acc_1 = binary_accuracy(out_1, y_1)\n",
        "    loss_2 = criterion2(out_2, y_2)\n",
        "    acc_2 = categorical_accuracy(out_2, y_2)\n",
        "\n",
        "    loss = loss_1 + loss_2\n",
        "    loss.backward()\n",
        "\n",
        "    optimizer.step()\n",
        "    epoch_loss_1 += loss_1.item()\n",
        "    epoch_acc_1 += acc_1.item()\n",
        "    epoch_loss_2 += loss_2.item()\n",
        "    epoch_acc_2 += acc_2.item()\n",
        "  return epoch_loss_1 / len(iterator), epoch_acc_1 / len(iterator), epoch_loss_2 / len(iterator), epoch_acc_2 / len(iterator)\n",
        "\n",
        "def evaluate(model, iterator, criterion1, criterion2):\n",
        "  epoch_loss_1, epoch_acc_1, epoch_loss_2, epoch_acc_2  = 0, 0, 0 , 0\n",
        "  model.eval()\n",
        "  with torch.no_grad():\n",
        "    for batch in iterator:\n",
        "      y_1, y_2, X = batch\n",
        "      X = X.to(device)\n",
        "      y_1 = y_1.to(device)\n",
        "      y_2 = y_2.to(device)\n",
        "      lengths = torch.tensor([len(i) for i in X])\n",
        "      out_1, out_2 = model(X, lengths)\n",
        "      out_1, out_2 = out_1.squeeze(1), out_2.squeeze(1)\n",
        "\n",
        "      loss_1 = criterion1(out_1, y_1)\n",
        "      acc_1 = binary_accuracy(out_1, y_1)\n",
        "      loss_2 = criterion2(out_2, y_2)\n",
        "      acc_2 = categorical_accuracy(out_2, y_2)\n",
        "\n",
        "      epoch_loss_1 += loss_1.item()\n",
        "      epoch_acc_1 += acc_1.item()\n",
        "      epoch_loss_2 += loss_2.item()\n",
        "      epoch_acc_2 += acc_2.item()\n",
        "  return epoch_loss_1 / len(iterator), epoch_acc_1 / len(iterator), epoch_loss_2 / len(iterator), epoch_acc_2 / len(iterator)"
      ],
      "metadata": {
        "id": "lkZUeIWJgPBx"
      },
      "execution_count": 48,
      "outputs": []
    },
    {
      "cell_type": "markdown",
      "source": [
        "### Training Loop\n",
        "\n",
        "In the following code cell we are going to run the training loop. We are going to save the model when the either one of the losses decreased from the previous loss stored. And we are also going to keep in track of our training history."
      ],
      "metadata": {
        "id": "uSIas6DcgfMM"
      }
    },
    {
      "cell_type": "code",
      "source": [
        "N_EPOCHS = 200\n",
        "MODEL_NAME = 'hsp_model.pt'\n",
        "\n",
        "# we need a way of keeping tracking the matrics\n",
        "train_losses_1 = []\n",
        "train_losses_2 = []\n",
        "train_accuracies_1 = []\n",
        "train_accuracies_2 = []\n",
        "val_losses_1 = []\n",
        "val_losses_2 = []\n",
        "val_accuracies_1 = []\n",
        "val_accuracies_2 = []\n",
        "\n",
        "training_start = time.time()\n",
        "best_valid_loss_1 = float('inf')\n",
        "best_valid_loss_2 = float('inf')\n",
        "\n",
        "last_saved_epoch = 0\n",
        "for epoch in range(N_EPOCHS):\n",
        "  start = time.time()\n",
        "  train_loss_1, train_acc_1, train_loss_2, train_acc_2 = train(hsp_model, train_loader, optimizer, criterion1, criterion2)\n",
        "  val_loss_1, val_acc_1, val_loss_2, val_acc_2 = evaluate(hsp_model, val_loader, criterion1, criterion2)\n",
        "  title = f\"EPOCH: {epoch+1:02}/{N_EPOCHS:02} {'saving best model...' if val_loss_1 < best_valid_loss_1 or val_loss_2 < best_valid_loss_2 else 'not saving...'}\"\n",
        "  if val_loss_1 < best_valid_loss_1 or val_loss_2 < best_valid_loss_2:\n",
        "      best_valid_loss_1 = val_loss_1\n",
        "      best_valid_loss_2 = val_loss_2\n",
        "      last_saved_epoch = epoch\n",
        "      torch.save(hsp_model.state_dict(), MODEL_NAME)\n",
        "  end = time.time()\n",
        "\n",
        "  # keep in track of all the metrics during training\n",
        "  train_losses_1.append(train_loss_1)\n",
        "  train_losses_2.append(train_loss_2)\n",
        "  train_accuracies_1.append(train_acc_1)\n",
        "  train_accuracies_2.append(train_acc_2)\n",
        "  val_losses_1.append(val_loss_1)\n",
        "  val_losses_2.append(val_loss_2)\n",
        "  val_accuracies_1.append(val_acc_1)\n",
        "  val_accuracies_2.append(val_acc_2)\n",
        "\n",
        "  data = [\n",
        "       [\"Training\", f'{train_loss_1:.3f}', f'{train_acc_1 * 100:.3f}%', f'{train_loss_2:.3f}', f'{train_acc_2 * 100:.3f}%', f\"{hms_string(end - start)}\" ],\n",
        "       [\"Validation\", f'{val_loss_1:.3f}', f'{val_acc_1 * 100:.3f}%', f'{val_loss_2:.3f}', f'{val_acc_2 * 100:.3f}%', \"\" ],       \n",
        "   ]\n",
        "  columns = [\"CATEGORY\", \"LOSS_1\", \"ACCURACY_1\", \"LOSS_2\", \"ACCURACY_2\", \"ETA\"]\n",
        "  print(title)\n",
        "  tabulate_data(columns, data, title)\n",
        "\n",
        "training_end= time.time()"
      ],
      "metadata": {
        "colab": {
          "base_uri": "https://localhost:8080/"
        },
        "id": "4DLKNbVmgba4",
        "outputId": "13b0ab94-9244-4e6f-83bf-f63c887e7cbe"
      },
      "execution_count": 49,
      "outputs": [
        {
          "output_type": "stream",
          "name": "stdout",
          "text": [
            "EPOCH: 01/200 saving best model...\n",
            "+------------+--------+------------+--------+------------+------------+\n",
            "| CATEGORY   | LOSS_1 | ACCURACY_1 | LOSS_2 | ACCURACY_2 |        ETA |\n",
            "+------------+--------+------------+--------+------------+------------+\n",
            "| Training   |  0.688 |    54.799% |  2.215 |    17.922% | 0:00:05.80 |\n",
            "| Validation |  0.670 |    62.103% |  2.115 |    19.829% |            |\n",
            "+------------+--------+------------+--------+------------+------------+\n",
            "EPOCH: 02/200 saving best model...\n",
            "+------------+--------+------------+--------+------------+------------+\n",
            "| CATEGORY   | LOSS_1 | ACCURACY_1 | LOSS_2 | ACCURACY_2 |        ETA |\n",
            "+------------+--------+------------+--------+------------+------------+\n",
            "| Training   |  0.674 |    58.603% |  2.182 |    18.846% | 0:00:05.50 |\n",
            "| Validation |  0.660 |    63.889% |  2.115 |    23.735% |            |\n",
            "+------------+--------+------------+--------+------------+------------+\n",
            "EPOCH: 03/200 saving best model...\n",
            "+------------+--------+------------+--------+------------+------------+\n",
            "| CATEGORY   | LOSS_1 | ACCURACY_1 | LOSS_2 | ACCURACY_2 |        ETA |\n",
            "+------------+--------+------------+--------+------------+------------+\n",
            "| Training   |  0.657 |    59.109% |  2.162 |    19.581% | 0:00:02.65 |\n",
            "| Validation |  0.635 |    64.038% |  2.051 |    23.921% |            |\n",
            "+------------+--------+------------+--------+------------+------------+\n",
            "EPOCH: 04/200 saving best model...\n",
            "+------------+--------+------------+--------+------------+------------+\n",
            "| CATEGORY   | LOSS_1 | ACCURACY_1 | LOSS_2 | ACCURACY_2 |        ETA |\n",
            "+------------+--------+------------+--------+------------+------------+\n",
            "| Training   |  0.646 |    60.635% |  2.131 |    21.020% | 0:00:02.65 |\n",
            "| Validation |  0.622 |    67.287% |  2.054 |    26.674% |            |\n",
            "+------------+--------+------------+--------+------------+------------+\n",
            "EPOCH: 05/200 saving best model...\n",
            "+------------+--------+------------+--------+------------+------------+\n",
            "| CATEGORY   | LOSS_1 | ACCURACY_1 | LOSS_2 | ACCURACY_2 |        ETA |\n",
            "+------------+--------+------------+--------+------------+------------+\n",
            "| Training   |  0.646 |    60.409% |  2.131 |    22.490% | 0:00:02.71 |\n",
            "| Validation |  0.603 |    73.177% |  1.976 |    29.688% |            |\n",
            "+------------+--------+------------+--------+------------+------------+\n",
            "EPOCH: 06/200 saving best model...\n",
            "+------------+--------+------------+--------+------------+------------+\n",
            "| CATEGORY   | LOSS_1 | ACCURACY_1 | LOSS_2 | ACCURACY_2 |        ETA |\n",
            "+------------+--------+------------+--------+------------+------------+\n",
            "| Training   |  0.640 |    62.429% |  2.117 |    23.292% | 0:00:03.35 |\n",
            "| Validation |  0.602 |    69.581% |  1.985 |    30.109% |            |\n",
            "+------------+--------+------------+--------+------------+------------+\n",
            "EPOCH: 07/200 saving best model...\n",
            "+------------+--------+------------+--------+------------+------------+\n",
            "| CATEGORY   | LOSS_1 | ACCURACY_1 | LOSS_2 | ACCURACY_2 |        ETA |\n",
            "+------------+--------+------------+--------+------------+------------+\n",
            "| Training   |  0.638 |    61.994% |  2.075 |    25.531% | 0:00:02.65 |\n",
            "| Validation |  0.606 |    71.255% |  1.940 |    34.524% |            |\n",
            "+------------+--------+------------+--------+------------+------------+\n",
            "EPOCH: 08/200 saving best model...\n",
            "+------------+--------+------------+--------+------------+------------+\n",
            "| CATEGORY   | LOSS_1 | ACCURACY_1 | LOSS_2 | ACCURACY_2 |        ETA |\n",
            "+------------+--------+------------+--------+------------+------------+\n",
            "| Training   |  0.644 |    60.409% |  2.096 |    23.135% | 0:00:02.66 |\n",
            "| Validation |  0.592 |    72.830% |  1.901 |    32.205% |            |\n",
            "+------------+--------+------------+--------+------------+------------+\n",
            "EPOCH: 09/200 saving best model...\n",
            "+------------+--------+------------+--------+------------+------------+\n",
            "| CATEGORY   | LOSS_1 | ACCURACY_1 | LOSS_2 | ACCURACY_2 |        ETA |\n",
            "+------------+--------+------------+--------+------------+------------+\n",
            "| Training   |  0.637 |    61.679% |  2.093 |    25.784% | 0:00:02.65 |\n",
            "| Validation |  0.570 |    71.639% |  1.880 |    35.255% |            |\n",
            "+------------+--------+------------+--------+------------+------------+\n",
            "EPOCH: 10/200 not saving...\n",
            "+------------+--------+------------+--------+------------+------------+\n",
            "| CATEGORY   | LOSS_1 | ACCURACY_1 | LOSS_2 | ACCURACY_2 |        ETA |\n",
            "+------------+--------+------------+--------+------------+------------+\n",
            "| Training   |  0.624 |    61.938% |  2.074 |    25.405% | 0:00:02.83 |\n",
            "| Validation |  0.573 |    72.483% |  1.924 |    35.156% |            |\n",
            "+------------+--------+------------+--------+------------+------------+\n",
            "EPOCH: 11/200 saving best model...\n",
            "+------------+--------+------------+--------+------------+------------+\n",
            "| CATEGORY   | LOSS_1 | ACCURACY_1 | LOSS_2 | ACCURACY_2 |        ETA |\n",
            "+------------+--------+------------+--------+------------+------------+\n",
            "| Training   |  0.629 |    61.796% |  2.055 |    26.294% | 0:00:03.11 |\n",
            "| Validation |  0.578 |    71.131% |  1.867 |    36.136% |            |\n",
            "+------------+--------+------------+--------+------------+------------+\n",
            "EPOCH: 12/200 not saving...\n",
            "+------------+--------+------------+--------+------------+------------+\n",
            "| CATEGORY   | LOSS_1 | ACCURACY_1 | LOSS_2 | ACCURACY_2 |        ETA |\n",
            "+------------+--------+------------+--------+------------+------------+\n",
            "| Training   |  0.621 |    61.345% |  2.019 |    28.106% | 0:00:02.61 |\n",
            "| Validation |  0.609 |    65.427% |  1.934 |    30.233% |            |\n",
            "+------------+--------+------------+--------+------------+------------+\n",
            "EPOCH: 13/200 saving best model...\n",
            "+------------+--------+------------+--------+------------+------------+\n",
            "| CATEGORY   | LOSS_1 | ACCURACY_1 | LOSS_2 | ACCURACY_2 |        ETA |\n",
            "+------------+--------+------------+--------+------------+------------+\n",
            "| Training   |  0.626 |    61.305% |  2.024 |    28.239% | 0:00:02.65 |\n",
            "| Validation |  0.551 |    74.430% |  1.761 |    37.946% |            |\n",
            "+------------+--------+------------+--------+------------+------------+\n",
            "EPOCH: 14/200 not saving...\n",
            "+------------+--------+------------+--------+------------+------------+\n",
            "| CATEGORY   | LOSS_1 | ACCURACY_1 | LOSS_2 | ACCURACY_2 |        ETA |\n",
            "+------------+--------+------------+--------+------------+------------+\n",
            "| Training   |  0.618 |    62.528% |  1.997 |    29.332% | 0:00:02.64 |\n",
            "| Validation |  0.563 |    75.149% |  1.794 |    40.898% |            |\n",
            "+------------+--------+------------+--------+------------+------------+\n",
            "EPOCH: 15/200 saving best model...\n",
            "+------------+--------+------------+--------+------------+------------+\n",
            "| CATEGORY   | LOSS_1 | ACCURACY_1 | LOSS_2 | ACCURACY_2 |        ETA |\n",
            "+------------+--------+------------+--------+------------+------------+\n",
            "| Training   |  0.605 |    63.482% |  1.984 |    28.690% | 0:00:03.06 |\n",
            "| Validation |  0.533 |    77.716% |  1.769 |    40.600% |            |\n",
            "+------------+--------+------------+--------+------------+------------+\n",
            "EPOCH: 16/200 saving best model...\n",
            "+------------+--------+------------+--------+------------+------------+\n",
            "| CATEGORY   | LOSS_1 | ACCURACY_1 | LOSS_2 | ACCURACY_2 |        ETA |\n",
            "+------------+--------+------------+--------+------------+------------+\n",
            "| Training   |  0.605 |    62.460% |  1.946 |    30.067% | 0:00:03.00 |\n",
            "| Validation |  0.538 |    76.699% |  1.752 |    36.917% |            |\n",
            "+------------+--------+------------+--------+------------+------------+\n",
            "EPOCH: 17/200 saving best model...\n",
            "+------------+--------+------------+--------+------------+------------+\n",
            "| CATEGORY   | LOSS_1 | ACCURACY_1 | LOSS_2 | ACCURACY_2 |        ETA |\n",
            "+------------+--------+------------+--------+------------+------------+\n",
            "| Training   |  0.618 |    64.032% |  1.973 |    27.788% | 0:00:02.68 |\n",
            "| Validation |  0.533 |    76.736% |  1.706 |    45.387% |            |\n",
            "+------------+--------+------------+--------+------------+------------+\n",
            "EPOCH: 18/200 saving best model...\n",
            "+------------+--------+------------+--------+------------+------------+\n",
            "| CATEGORY   | LOSS_1 | ACCURACY_1 | LOSS_2 | ACCURACY_2 |        ETA |\n",
            "+------------+--------+------------+--------+------------+------------+\n",
            "| Training   |  0.604 |    63.396% |  1.930 |    30.716% | 0:00:02.66 |\n",
            "| Validation |  0.504 |    78.609% |  1.621 |    46.850% |            |\n",
            "+------------+--------+------------+--------+------------+------------+\n",
            "EPOCH: 19/200 saving best model...\n",
            "+------------+--------+------------+--------+------------+------------+\n",
            "| CATEGORY   | LOSS_1 | ACCURACY_1 | LOSS_2 | ACCURACY_2 |        ETA |\n",
            "+------------+--------+------------+--------+------------+------------+\n",
            "| Training   |  0.595 |    62.901% |  1.900 |    33.455% | 0:00:02.69 |\n",
            "| Validation |  0.508 |    78.993% |  1.610 |    45.970% |            |\n",
            "+------------+--------+------------+--------+------------+------------+\n",
            "EPOCH: 20/200 saving best model...\n",
            "+------------+--------+------------+--------+------------+------------+\n",
            "| CATEGORY   | LOSS_1 | ACCURACY_1 | LOSS_2 | ACCURACY_2 |        ETA |\n",
            "+------------+--------+------------+--------+------------+------------+\n",
            "| Training   |  0.594 |    64.791% |  1.865 |    34.264% | 0:00:03.19 |\n",
            "| Validation |  0.492 |    80.097% |  1.569 |    49.020% |            |\n",
            "+------------+--------+------------+--------+------------+------------+\n",
            "EPOCH: 21/200 saving best model...\n",
            "+------------+--------+------------+--------+------------+------------+\n",
            "| CATEGORY   | LOSS_1 | ACCURACY_1 | LOSS_2 | ACCURACY_2 |        ETA |\n",
            "+------------+--------+------------+--------+------------+------------+\n",
            "| Training   |  0.600 |    63.213% |  1.864 |    33.637% | 0:00:02.86 |\n",
            "| Validation |  0.514 |    77.865% |  1.483 |    49.144% |            |\n",
            "+------------+--------+------------+--------+------------+------------+\n",
            "EPOCH: 22/200 saving best model...\n",
            "+------------+--------+------------+--------+------------+------------+\n",
            "| CATEGORY   | LOSS_1 | ACCURACY_1 | LOSS_2 | ACCURACY_2 |        ETA |\n",
            "+------------+--------+------------+--------+------------+------------+\n",
            "| Training   |  0.574 |    65.677% |  1.860 |    33.693% | 0:00:02.67 |\n",
            "| Validation |  0.480 |    79.576% |  1.552 |    50.397% |            |\n",
            "+------------+--------+------------+--------+------------+------------+\n",
            "EPOCH: 23/200 saving best model...\n",
            "+------------+--------+------------+--------+------------+------------+\n",
            "| CATEGORY   | LOSS_1 | ACCURACY_1 | LOSS_2 | ACCURACY_2 |        ETA |\n",
            "+------------+--------+------------+--------+------------+------------+\n",
            "| Training   |  0.566 |    65.125% |  1.859 |    34.823% | 0:00:02.66 |\n",
            "| Validation |  0.480 |    80.469% |  1.471 |    51.451% |            |\n",
            "+------------+--------+------------+--------+------------+------------+\n",
            "EPOCH: 24/200 saving best model...\n",
            "+------------+--------+------------+--------+------------+------------+\n",
            "| CATEGORY   | LOSS_1 | ACCURACY_1 | LOSS_2 | ACCURACY_2 |        ETA |\n",
            "+------------+--------+------------+--------+------------+------------+\n",
            "| Training   |  0.571 |    66.369% |  1.826 |    36.274% | 0:00:02.67 |\n",
            "| Validation |  0.440 |    81.151% |  1.429 |    56.151% |            |\n",
            "+------------+--------+------------+--------+------------+------------+\n",
            "EPOCH: 25/200 not saving...\n",
            "+------------+--------+------------+--------+------------+------------+\n",
            "| CATEGORY   | LOSS_1 | ACCURACY_1 | LOSS_2 | ACCURACY_2 |        ETA |\n",
            "+------------+--------+------------+--------+------------+------------+\n",
            "| Training   |  0.565 |    65.239% |  1.826 |    35.187% | 0:00:03.31 |\n",
            "| Validation |  0.463 |    78.038% |  1.456 |    53.621% |            |\n",
            "+------------+--------+------------+--------+------------+------------+\n",
            "EPOCH: 26/200 saving best model...\n",
            "+------------+--------+------------+--------+------------+------------+\n",
            "| CATEGORY   | LOSS_1 | ACCURACY_1 | LOSS_2 | ACCURACY_2 |        ETA |\n",
            "+------------+--------+------------+--------+------------+------------+\n",
            "| Training   |  0.582 |    64.816% |  1.828 |    34.718% | 0:00:02.78 |\n",
            "| Validation |  0.469 |    84.772% |  1.367 |    58.854% |            |\n",
            "+------------+--------+------------+--------+------------+------------+\n",
            "EPOCH: 27/200 saving best model...\n",
            "+------------+--------+------------+--------+------------+------------+\n",
            "| CATEGORY   | LOSS_1 | ACCURACY_1 | LOSS_2 | ACCURACY_2 |        ETA |\n",
            "+------------+--------+------------+--------+------------+------------+\n",
            "| Training   |  0.559 |    65.628% |  1.792 |    37.207% | 0:00:02.68 |\n",
            "| Validation |  0.445 |    82.478% |  1.338 |    59.350% |            |\n",
            "+------------+--------+------------+--------+------------+------------+\n",
            "EPOCH: 28/200 saving best model...\n",
            "+------------+--------+------------+--------+------------+------------+\n",
            "| CATEGORY   | LOSS_1 | ACCURACY_1 | LOSS_2 | ACCURACY_2 |        ETA |\n",
            "+------------+--------+------------+--------+------------+------------+\n",
            "| Training   |  0.556 |    66.511% |  1.732 |    38.553% | 0:00:02.66 |\n",
            "| Validation |  0.423 |    85.218% |  1.317 |    54.911% |            |\n",
            "+------------+--------+------------+--------+------------+------------+\n",
            "EPOCH: 29/200 saving best model...\n",
            "+------------+--------+------------+--------+------------+------------+\n",
            "| CATEGORY   | LOSS_1 | ACCURACY_1 | LOSS_2 | ACCURACY_2 |        ETA |\n",
            "+------------+--------+------------+--------+------------+------------+\n",
            "| Training   |  0.557 |    66.243% |  1.700 |    39.878% | 0:00:02.86 |\n",
            "| Validation |  0.389 |    84.846% |  1.222 |    61.421% |            |\n",
            "+------------+--------+------------+--------+------------+------------+\n",
            "EPOCH: 30/200 not saving...\n",
            "+------------+--------+------------+--------+------------+------------+\n",
            "| CATEGORY   | LOSS_1 | ACCURACY_1 | LOSS_2 | ACCURACY_2 |        ETA |\n",
            "+------------+--------+------------+--------+------------+------------+\n",
            "| Training   |  0.542 |    67.197% |  1.707 |    40.156% | 0:00:03.13 |\n",
            "| Validation |  0.402 |    85.131% |  1.259 |    61.496% |            |\n",
            "+------------+--------+------------+--------+------------+------------+\n",
            "EPOCH: 31/200 saving best model...\n",
            "+------------+--------+------------+--------+------------+------------+\n",
            "| CATEGORY   | LOSS_1 | ACCURACY_1 | LOSS_2 | ACCURACY_2 |        ETA |\n",
            "+------------+--------+------------+--------+------------+------------+\n",
            "| Training   |  0.545 |    67.339% |  1.710 |    39.584% | 0:00:02.66 |\n",
            "| Validation |  0.393 |    86.930% |  1.181 |    63.740% |            |\n",
            "+------------+--------+------------+--------+------------+------------+\n",
            "EPOCH: 32/200 saving best model...\n",
            "+------------+--------+------------+--------+------------+------------+\n",
            "| CATEGORY   | LOSS_1 | ACCURACY_1 | LOSS_2 | ACCURACY_2 |        ETA |\n",
            "+------------+--------+------------+--------+------------+------------+\n",
            "| Training   |  0.534 |    67.950% |  1.701 |    39.643% | 0:00:02.69 |\n",
            "| Validation |  0.389 |    87.153% |  1.230 |    63.715% |            |\n",
            "+------------+--------+------------+--------+------------+------------+\n",
            "EPOCH: 33/200 saving best model...\n",
            "+------------+--------+------------+--------+------------+------------+\n",
            "| CATEGORY   | LOSS_1 | ACCURACY_1 | LOSS_2 | ACCURACY_2 |        ETA |\n",
            "+------------+--------+------------+--------+------------+------------+\n",
            "| Training   |  0.537 |    67.672% |  1.723 |    38.272% | 0:00:02.87 |\n",
            "| Validation |  0.402 |    87.215% |  1.141 |    65.414% |            |\n",
            "+------------+--------+------------+--------+------------+------------+\n",
            "EPOCH: 34/200 saving best model...\n",
            "+------------+--------+------------+--------+------------+------------+\n",
            "| CATEGORY   | LOSS_1 | ACCURACY_1 | LOSS_2 | ACCURACY_2 |        ETA |\n",
            "+------------+--------+------------+--------+------------+------------+\n",
            "| Training   |  0.517 |    67.944% |  1.649 |    42.036% | 0:00:05.83 |\n",
            "| Validation |  0.372 |    87.252% |  1.064 |    66.146% |            |\n",
            "+------------+--------+------------+--------+------------+------------+\n",
            "EPOCH: 35/200 not saving...\n",
            "+------------+--------+------------+--------+------------+------------+\n",
            "| CATEGORY   | LOSS_1 | ACCURACY_1 | LOSS_2 | ACCURACY_2 |        ETA |\n",
            "+------------+--------+------------+--------+------------+------------+\n",
            "| Training   |  0.521 |    67.984% |  1.655 |    41.622% | 0:00:02.78 |\n",
            "| Validation |  0.373 |    85.578% |  1.113 |    69.345% |            |\n",
            "+------------+--------+------------+--------+------------+------------+\n",
            "EPOCH: 36/200 saving best model...\n",
            "+------------+--------+------------+--------+------------+------------+\n",
            "| CATEGORY   | LOSS_1 | ACCURACY_1 | LOSS_2 | ACCURACY_2 |        ETA |\n",
            "+------------+--------+------------+--------+------------+------------+\n",
            "| Training   |  0.509 |    70.106% |  1.592 |    44.108% | 0:00:02.70 |\n",
            "| Validation |  0.383 |    84.995% |  1.028 |    70.201% |            |\n",
            "+------------+--------+------------+--------+------------+------------+\n",
            "EPOCH: 37/200 saving best model...\n",
            "+------------+--------+------------+--------+------------+------------+\n",
            "| CATEGORY   | LOSS_1 | ACCURACY_1 | LOSS_2 | ACCURACY_2 |        ETA |\n",
            "+------------+--------+------------+--------+------------+------------+\n",
            "| Training   |  0.516 |    69.420% |  1.587 |    43.694% | 0:00:02.69 |\n",
            "| Validation |  0.333 |    89.236% |  0.955 |    71.577% |            |\n",
            "+------------+--------+------------+--------+------------+------------+\n",
            "EPOCH: 38/200 saving best model...\n",
            "+------------+--------+------------+--------+------------+------------+\n",
            "| CATEGORY   | LOSS_1 | ACCURACY_1 | LOSS_2 | ACCURACY_2 |        ETA |\n",
            "+------------+--------+------------+--------+------------+------------+\n",
            "| Training   |  0.526 |    69.019% |  1.567 |    43.064% | 0:00:02.90 |\n",
            "| Validation |  0.342 |    90.675% |  0.937 |    73.425% |            |\n",
            "+------------+--------+------------+--------+------------+------------+\n",
            "EPOCH: 39/200 saving best model...\n",
            "+------------+--------+------------+--------+------------+------------+\n",
            "| CATEGORY   | LOSS_1 | ACCURACY_1 | LOSS_2 | ACCURACY_2 |        ETA |\n",
            "+------------+--------+------------+--------+------------+------------+\n",
            "| Training   |  0.491 |    70.161% |  1.525 |    46.189% | 0:00:03.18 |\n",
            "| Validation |  0.314 |    90.551% |  0.906 |    72.693% |            |\n",
            "+------------+--------+------------+--------+------------+------------+\n",
            "EPOCH: 40/200 saving best model...\n",
            "+------------+--------+------------+--------+------------+------------+\n",
            "| CATEGORY   | LOSS_1 | ACCURACY_1 | LOSS_2 | ACCURACY_2 |        ETA |\n",
            "+------------+--------+------------+--------+------------+------------+\n",
            "| Training   |  0.495 |    69.772% |  1.513 |    46.646% | 0:00:02.70 |\n",
            "| Validation |  0.314 |    91.853% |  0.907 |    70.499% |            |\n",
            "+------------+--------+------------+--------+------------+------------+\n",
            "EPOCH: 41/200 saving best model...\n",
            "+------------+--------+------------+--------+------------+------------+\n",
            "| CATEGORY   | LOSS_1 | ACCURACY_1 | LOSS_2 | ACCURACY_2 |        ETA |\n",
            "+------------+--------+------------+--------+------------+------------+\n",
            "| Training   |  0.503 |    68.954% |  1.512 |    45.828% | 0:00:02.67 |\n",
            "| Validation |  0.280 |    92.721% |  0.817 |    75.980% |            |\n",
            "+------------+--------+------------+--------+------------+------------+\n",
            "EPOCH: 42/200 not saving...\n",
            "+------------+--------+------------+--------+------------+------------+\n",
            "| CATEGORY   | LOSS_1 | ACCURACY_1 | LOSS_2 | ACCURACY_2 |        ETA |\n",
            "+------------+--------+------------+--------+------------+------------+\n",
            "| Training   |  0.479 |    69.009% |  1.547 |    44.503% | 0:00:02.67 |\n",
            "| Validation |  0.291 |    89.695% |  0.899 |    76.612% |            |\n",
            "+------------+--------+------------+--------+------------+------------+\n",
            "EPOCH: 43/200 saving best model...\n",
            "+------------+--------+------------+--------+------------+------------+\n",
            "| CATEGORY   | LOSS_1 | ACCURACY_1 | LOSS_2 | ACCURACY_2 |        ETA |\n",
            "+------------+--------+------------+--------+------------+------------+\n",
            "| Training   |  0.489 |    71.294% |  1.504 |    46.767% | 0:00:03.07 |\n",
            "| Validation |  0.306 |    92.919% |  0.806 |    77.579% |            |\n",
            "+------------+--------+------------+--------+------------+------------+\n",
            "EPOCH: 44/200 saving best model...\n",
            "+------------+--------+------------+--------+------------+------------+\n",
            "| CATEGORY   | LOSS_1 | ACCURACY_1 | LOSS_2 | ACCURACY_2 |        ETA |\n",
            "+------------+--------+------------+--------+------------+------------+\n",
            "| Training   |  0.488 |    69.519% |  1.461 |    48.268% | 0:00:03.03 |\n",
            "| Validation |  0.269 |    92.200% |  0.762 |    79.353% |            |\n",
            "+------------+--------+------------+--------+------------+------------+\n",
            "EPOCH: 45/200 saving best model...\n",
            "+------------+--------+------------+--------+------------+------------+\n",
            "| CATEGORY   | LOSS_1 | ACCURACY_1 | LOSS_2 | ACCURACY_2 |        ETA |\n",
            "+------------+--------+------------+--------+------------+------------+\n",
            "| Training   |  0.502 |    69.541% |  1.417 |    49.423% | 0:00:02.72 |\n",
            "| Validation |  0.280 |    93.700% |  0.758 |    79.427% |            |\n",
            "+------------+--------+------------+--------+------------+------------+\n",
            "EPOCH: 46/200 saving best model...\n",
            "+------------+--------+------------+--------+------------+------------+\n",
            "| CATEGORY   | LOSS_1 | ACCURACY_1 | LOSS_2 | ACCURACY_2 |        ETA |\n",
            "+------------+--------+------------+--------+------------+------------+\n",
            "| Training   |  0.486 |    69.615% |  1.425 |    48.731% | 0:00:02.68 |\n",
            "| Validation |  0.244 |    94.556% |  0.718 |    80.258% |            |\n",
            "+------------+--------+------------+--------+------------+------------+\n",
            "EPOCH: 47/200 saving best model...\n",
            "+------------+--------+------------+--------+------------+------------+\n",
            "| CATEGORY   | LOSS_1 | ACCURACY_1 | LOSS_2 | ACCURACY_2 |        ETA |\n",
            "+------------+--------+------------+--------+------------+------------+\n",
            "| Training   |  0.468 |    70.995% |  1.437 |    48.771% | 0:00:02.70 |\n",
            "| Validation |  0.231 |    93.056% |  0.662 |    82.341% |            |\n",
            "+------------+--------+------------+--------+------------+------------+\n",
            "EPOCH: 48/200 saving best model...\n",
            "+------------+--------+------------+--------+------------+------------+\n",
            "| CATEGORY   | LOSS_1 | ACCURACY_1 | LOSS_2 | ACCURACY_2 |        ETA |\n",
            "+------------+--------+------------+--------+------------+------------+\n",
            "| Training   |  0.466 |    71.687% |  1.405 |    49.355% | 0:00:03.28 |\n",
            "| Validation |  0.219 |    95.089% |  0.640 |    83.569% |            |\n",
            "+------------+--------+------------+--------+------------+------------+\n",
            "EPOCH: 49/200 saving best model...\n",
            "+------------+--------+------------+--------+------------+------------+\n",
            "| CATEGORY   | LOSS_1 | ACCURACY_1 | LOSS_2 | ACCURACY_2 |        ETA |\n",
            "+------------+--------+------------+--------+------------+------------+\n",
            "| Training   |  0.457 |    72.354% |  1.374 |    51.177% | 0:00:02.93 |\n",
            "| Validation |  0.213 |    96.776% |  0.606 |    83.842% |            |\n",
            "+------------+--------+------------+--------+------------+------------+\n",
            "EPOCH: 50/200 saving best model...\n",
            "+------------+--------+------------+--------+------------+------------+\n",
            "| CATEGORY   | LOSS_1 | ACCURACY_1 | LOSS_2 | ACCURACY_2 |        ETA |\n",
            "+------------+--------+------------+--------+------------+------------+\n",
            "| Training   |  0.453 |    70.893% |  1.394 |    50.157% | 0:00:02.68 |\n",
            "| Validation |  0.202 |    94.668% |  0.575 |    84.189% |            |\n",
            "+------------+--------+------------+--------+------------+------------+\n",
            "EPOCH: 51/200 saving best model...\n",
            "+------------+--------+------------+--------+------------+------------+\n",
            "| CATEGORY   | LOSS_1 | ACCURACY_1 | LOSS_2 | ACCURACY_2 |        ETA |\n",
            "+------------+--------+------------+--------+------------+------------+\n",
            "| Training   |  0.457 |    71.091% |  1.333 |    52.060% | 0:00:02.67 |\n",
            "| Validation |  0.203 |    95.089% |  0.540 |    84.871% |            |\n",
            "+------------+--------+------------+--------+------------+------------+\n",
            "EPOCH: 52/200 not saving...\n",
            "+------------+--------+------------+--------+------------+------------+\n",
            "| CATEGORY   | LOSS_1 | ACCURACY_1 | LOSS_2 | ACCURACY_2 |        ETA |\n",
            "+------------+--------+------------+--------+------------+------------+\n",
            "| Training   |  0.459 |    71.770% |  1.378 |    50.618% | 0:00:02.69 |\n",
            "| Validation |  0.207 |    96.677% |  0.563 |    87.711% |            |\n",
            "+------------+--------+------------+--------+------------+------------+\n",
            "EPOCH: 53/200 saving best model...\n",
            "+------------+--------+------------+--------+------------+------------+\n",
            "| CATEGORY   | LOSS_1 | ACCURACY_1 | LOSS_2 | ACCURACY_2 |        ETA |\n",
            "+------------+--------+------------+--------+------------+------------+\n",
            "| Training   |  0.452 |    71.594% |  1.324 |    53.236% | 0:00:03.30 |\n",
            "| Validation |  0.192 |    96.577% |  0.492 |    88.926% |            |\n",
            "+------------+--------+------------+--------+------------+------------+\n",
            "EPOCH: 54/200 saving best model...\n",
            "+------------+--------+------------+--------+------------+------------+\n",
            "| CATEGORY   | LOSS_1 | ACCURACY_1 | LOSS_2 | ACCURACY_2 |        ETA |\n",
            "+------------+--------+------------+--------+------------+------------+\n",
            "| Training   |  0.456 |    70.776% |  1.310 |    52.458% | 0:00:02.70 |\n",
            "| Validation |  0.187 |    96.416% |  0.472 |    89.112% |            |\n",
            "+------------+--------+------------+--------+------------+------------+\n",
            "EPOCH: 55/200 saving best model...\n",
            "+------------+--------+------------+--------+------------+------------+\n",
            "| CATEGORY   | LOSS_1 | ACCURACY_1 | LOSS_2 | ACCURACY_2 |        ETA |\n",
            "+------------+--------+------------+--------+------------+------------+\n",
            "| Training   |  0.433 |    72.190% |  1.350 |    52.900% | 0:00:02.72 |\n",
            "| Validation |  0.164 |    96.664% |  0.490 |    87.066% |            |\n",
            "+------------+--------+------------+--------+------------+------------+\n",
            "EPOCH: 56/200 saving best model...\n",
            "+------------+--------+------------+--------+------------+------------+\n",
            "| CATEGORY   | LOSS_1 | ACCURACY_1 | LOSS_2 | ACCURACY_2 |        ETA |\n",
            "+------------+--------+------------+--------+------------+------------+\n",
            "| Training   |  0.458 |    71.359% |  1.321 |    51.908% | 0:00:02.67 |\n",
            "| Validation |  0.178 |    96.838% |  0.476 |    89.273% |            |\n",
            "+------------+--------+------------+--------+------------+------------+\n",
            "EPOCH: 57/200 saving best model...\n",
            "+------------+--------+------------+--------+------------+------------+\n",
            "| CATEGORY   | LOSS_1 | ACCURACY_1 | LOSS_2 | ACCURACY_2 |        ETA |\n",
            "+------------+--------+------------+--------+------------+------------+\n",
            "| Training   |  0.456 |    71.458% |  1.278 |    53.085% | 0:00:02.96 |\n",
            "| Validation |  0.191 |    95.970% |  0.412 |    88.132% |            |\n",
            "+------------+--------+------------+--------+------------+------------+\n",
            "EPOCH: 58/200 saving best model...\n",
            "+------------+--------+------------+--------+------------+------------+\n",
            "| CATEGORY   | LOSS_1 | ACCURACY_1 | LOSS_2 | ACCURACY_2 |        ETA |\n",
            "+------------+--------+------------+--------+------------+------------+\n",
            "| Training   |  0.444 |    71.748% |  1.246 |    55.422% | 0:00:03.18 |\n",
            "| Validation |  0.163 |    96.776% |  0.383 |    90.848% |            |\n",
            "+------------+--------+------------+--------+------------+------------+\n",
            "EPOCH: 59/200 not saving...\n",
            "+------------+--------+------------+--------+------------+------------+\n",
            "| CATEGORY   | LOSS_1 | ACCURACY_1 | LOSS_2 | ACCURACY_2 |        ETA |\n",
            "+------------+--------+------------+--------+------------+------------+\n",
            "| Training   |  0.456 |    71.554% |  1.259 |    53.925% | 0:00:02.67 |\n",
            "| Validation |  0.193 |    96.763% |  0.389 |    90.092% |            |\n",
            "+------------+--------+------------+--------+------------+------------+\n",
            "EPOCH: 60/200 saving best model...\n",
            "+------------+--------+------------+--------+------------+------------+\n",
            "| CATEGORY   | LOSS_1 | ACCURACY_1 | LOSS_2 | ACCURACY_2 |        ETA |\n",
            "+------------+--------+------------+--------+------------+------------+\n",
            "| Training   |  0.436 |    72.440% |  1.235 |    55.796% | 0:00:02.68 |\n",
            "| Validation |  0.142 |    97.210% |  0.346 |    92.609% |            |\n",
            "+------------+--------+------------+--------+------------+------------+\n",
            "EPOCH: 61/200 saving best model...\n",
            "+------------+--------+------------+--------+------------+------------+\n",
            "| CATEGORY   | LOSS_1 | ACCURACY_1 | LOSS_2 | ACCURACY_2 |        ETA |\n",
            "+------------+--------+------------+--------+------------+------------+\n",
            "| Training   |  0.433 |    72.116% |  1.204 |    57.019% | 0:00:02.69 |\n",
            "| Validation |  0.144 |    97.371% |  0.338 |    93.080% |            |\n",
            "+------------+--------+------------+--------+------------+------------+\n",
            "EPOCH: 62/200 saving best model...\n",
            "+------------+--------+------------+--------+------------+------------+\n",
            "| CATEGORY   | LOSS_1 | ACCURACY_1 | LOSS_2 | ACCURACY_2 |        ETA |\n",
            "+------------+--------+------------+--------+------------+------------+\n",
            "| Training   |  0.423 |    72.653% |  1.198 |    55.988% | 0:00:03.18 |\n",
            "| Validation |  0.137 |    97.383% |  0.305 |    94.395% |            |\n",
            "+------------+--------+------------+--------+------------+------------+\n",
            "EPOCH: 63/200 not saving...\n",
            "+------------+--------+------------+--------+------------+------------+\n",
            "| CATEGORY   | LOSS_1 | ACCURACY_1 | LOSS_2 | ACCURACY_2 |        ETA |\n",
            "+------------+--------+------------+--------+------------+------------+\n",
            "| Training   |  0.429 |    72.987% |  1.195 |    56.414% | 0:00:02.95 |\n",
            "| Validation |  0.139 |    97.718% |  0.315 |    93.514% |            |\n",
            "+------------+--------+------------+--------+------------+------------+\n",
            "EPOCH: 64/200 saving best model...\n",
            "+------------+--------+------------+--------+------------+------------+\n",
            "| CATEGORY   | LOSS_1 | ACCURACY_1 | LOSS_2 | ACCURACY_2 |        ETA |\n",
            "+------------+--------+------------+--------+------------+------------+\n",
            "| Training   |  0.454 |    71.529% |  1.224 |    56.272% | 0:00:02.68 |\n",
            "| Validation |  0.143 |    98.574% |  0.273 |    95.250% |            |\n",
            "+------------+--------+------------+--------+------------+------------+\n",
            "EPOCH: 65/200 saving best model...\n",
            "+------------+--------+------------+--------+------------+------------+\n",
            "| CATEGORY   | LOSS_1 | ACCURACY_1 | LOSS_2 | ACCURACY_2 |        ETA |\n",
            "+------------+--------+------------+--------+------------+------------+\n",
            "| Training   |  0.444 |    71.767% |  1.159 |    57.535% | 0:00:02.66 |\n",
            "| Validation |  0.163 |    98.239% |  0.268 |    94.544% |            |\n",
            "+------------+--------+------------+--------+------------+------------+\n",
            "EPOCH: 66/200 saving best model...\n",
            "+------------+--------+------------+--------+------------+------------+\n",
            "| CATEGORY   | LOSS_1 | ACCURACY_1 | LOSS_2 | ACCURACY_2 |        ETA |\n",
            "+------------+--------+------------+--------+------------+------------+\n",
            "| Training   |  0.441 |    71.572% |  1.168 |    57.649% | 0:00:02.71 |\n",
            "| Validation |  0.134 |    98.003% |  0.270 |    94.804% |            |\n",
            "+------------+--------+------------+--------+------------+------------+\n",
            "EPOCH: 67/200 saving best model...\n",
            "+------------+--------+------------+--------+------------+------------+\n",
            "| CATEGORY   | LOSS_1 | ACCURACY_1 | LOSS_2 | ACCURACY_2 |        ETA |\n",
            "+------------+--------+------------+--------+------------+------------+\n",
            "| Training   |  0.412 |    74.243% |  1.170 |    58.060% | 0:00:03.36 |\n",
            "| Validation |  0.114 |    98.772% |  0.265 |    94.816% |            |\n",
            "+------------+--------+------------+--------+------------+------------+\n",
            "EPOCH: 68/200 saving best model...\n",
            "+------------+--------+------------+--------+------------+------------+\n",
            "| CATEGORY   | LOSS_1 | ACCURACY_1 | LOSS_2 | ACCURACY_2 |        ETA |\n",
            "+------------+--------+------------+--------+------------+------------+\n",
            "| Training   |  0.429 |    72.434% |  1.161 |    57.917% | 0:00:02.80 |\n",
            "| Validation |  0.128 |    97.731% |  0.222 |    95.957% |            |\n",
            "+------------+--------+------------+--------+------------+------------+\n",
            "EPOCH: 69/200 saving best model...\n",
            "+------------+--------+------------+--------+------------+------------+\n",
            "| CATEGORY   | LOSS_1 | ACCURACY_1 | LOSS_2 | ACCURACY_2 |        ETA |\n",
            "+------------+--------+------------+--------+------------+------------+\n",
            "| Training   |  0.417 |    72.897% |  1.156 |    57.189% | 0:00:02.72 |\n",
            "| Validation |  0.116 |    98.251% |  0.231 |    95.709% |            |\n",
            "+------------+--------+------------+--------+------------+------------+\n",
            "EPOCH: 70/200 saving best model...\n",
            "+------------+--------+------------+--------+------------+------------+\n",
            "| CATEGORY   | LOSS_1 | ACCURACY_1 | LOSS_2 | ACCURACY_2 |        ETA |\n",
            "+------------+--------+------------+--------+------------+------------+\n",
            "| Training   |  0.421 |    73.354% |  1.082 |    60.728% | 0:00:02.71 |\n",
            "| Validation |  0.118 |    98.785% |  0.185 |    97.185% |            |\n",
            "+------------+--------+------------+--------+------------+------------+\n",
            "EPOCH: 71/200 saving best model...\n",
            "+------------+--------+------------+--------+------------+------------+\n",
            "| CATEGORY   | LOSS_1 | ACCURACY_1 | LOSS_2 | ACCURACY_2 |        ETA |\n",
            "+------------+--------+------------+--------+------------+------------+\n",
            "| Training   |  0.420 |    72.891% |  1.137 |    58.526% | 0:00:02.94 |\n",
            "| Validation |  0.102 |    98.958% |  0.190 |    95.957% |            |\n",
            "+------------+--------+------------+--------+------------+------------+\n",
            "EPOCH: 72/200 saving best model...\n",
            "+------------+--------+------------+--------+------------+------------+\n",
            "| CATEGORY   | LOSS_1 | ACCURACY_1 | LOSS_2 | ACCURACY_2 |        ETA |\n",
            "+------------+--------+------------+--------+------------+------------+\n",
            "| Training   |  0.426 |    73.156% |  1.096 |    58.526% | 0:00:03.24 |\n",
            "| Validation |  0.120 |    99.045% |  0.176 |    97.545% |            |\n",
            "+------------+--------+------------+--------+------------+------------+\n",
            "EPOCH: 73/200 saving best model...\n",
            "+------------+--------+------------+--------+------------+------------+\n",
            "| CATEGORY   | LOSS_1 | ACCURACY_1 | LOSS_2 | ACCURACY_2 |        ETA |\n",
            "+------------+--------+------------+--------+------------+------------+\n",
            "| Training   |  0.401 |    75.324% |  1.078 |    59.585% | 0:00:02.71 |\n",
            "| Validation |  0.100 |    98.338% |  0.158 |    96.230% |            |\n",
            "+------------+--------+------------+--------+------------+------------+\n",
            "EPOCH: 74/200 not saving...\n",
            "+------------+--------+------------+--------+------------+------------+\n",
            "| CATEGORY   | LOSS_1 | ACCURACY_1 | LOSS_2 | ACCURACY_2 |        ETA |\n",
            "+------------+--------+------------+--------+------------+------------+\n",
            "| Training   |  0.420 |    74.284% |  1.113 |    58.572% | 0:00:02.69 |\n",
            "| Validation |  0.108 |    98.686% |  0.169 |    96.813% |            |\n",
            "+------------+--------+------------+--------+------------+------------+\n",
            "EPOCH: 75/200 saving best model...\n",
            "+------------+--------+------------+--------+------------+------------+\n",
            "| CATEGORY   | LOSS_1 | ACCURACY_1 | LOSS_2 | ACCURACY_2 |        ETA |\n",
            "+------------+--------+------------+--------+------------+------------+\n",
            "| Training   |  0.401 |    74.074% |  1.123 |    58.248% | 0:00:02.70 |\n",
            "| Validation |  0.089 |    98.760% |  0.141 |    97.532% |            |\n",
            "+------------+--------+------------+--------+------------+------------+\n",
            "EPOCH: 76/200 not saving...\n",
            "+------------+--------+------------+--------+------------+------------+\n",
            "| CATEGORY   | LOSS_1 | ACCURACY_1 | LOSS_2 | ACCURACY_2 |        ETA |\n",
            "+------------+--------+------------+--------+------------+------------+\n",
            "| Training   |  0.424 |    74.324% |  1.098 |    59.922% | 0:00:03.11 |\n",
            "| Validation |  0.109 |    98.686% |  0.163 |    97.371% |            |\n",
            "+------------+--------+------------+--------+------------+------------+\n",
            "EPOCH: 77/200 saving best model...\n",
            "+------------+--------+------------+--------+------------+------------+\n",
            "| CATEGORY   | LOSS_1 | ACCURACY_1 | LOSS_2 | ACCURACY_2 |        ETA |\n",
            "+------------+--------+------------+--------+------------+------------+\n",
            "| Training   |  0.428 |    74.815% |  1.087 |    59.690% | 0:00:02.99 |\n",
            "| Validation |  0.113 |    98.946% |  0.137 |    97.867% |            |\n",
            "+------------+--------+------------+--------+------------+------------+\n",
            "EPOCH: 78/200 saving best model...\n",
            "+------------+--------+------------+--------+------------+------------+\n",
            "| CATEGORY   | LOSS_1 | ACCURACY_1 | LOSS_2 | ACCURACY_2 |        ETA |\n",
            "+------------+--------+------------+--------+------------+------------+\n",
            "| Training   |  0.407 |    74.234% |  1.067 |    59.641% | 0:00:02.69 |\n",
            "| Validation |  0.086 |    99.454% |  0.128 |    97.793% |            |\n",
            "+------------+--------+------------+--------+------------+------------+\n",
            "EPOCH: 79/200 not saving...\n",
            "+------------+--------+------------+--------+------------+------------+\n",
            "| CATEGORY   | LOSS_1 | ACCURACY_1 | LOSS_2 | ACCURACY_2 |        ETA |\n",
            "+------------+--------+------------+--------+------------+------------+\n",
            "| Training   |  0.394 |    75.080% |  1.051 |    60.724% | 0:00:02.68 |\n",
            "| Validation |  0.106 |    98.338% |  0.130 |    97.445% |            |\n",
            "+------------+--------+------------+--------+------------+------------+\n",
            "EPOCH: 80/200 saving best model...\n",
            "+------------+--------+------------+--------+------------+------------+\n",
            "| CATEGORY   | LOSS_1 | ACCURACY_1 | LOSS_2 | ACCURACY_2 |        ETA |\n",
            "+------------+--------+------------+--------+------------+------------+\n",
            "| Training   |  0.394 |    74.373% |  1.081 |    59.109% | 0:00:02.71 |\n",
            "| Validation |  0.075 |    99.194% |  0.131 |    97.445% |            |\n",
            "+------------+--------+------------+--------+------------+------------+\n",
            "EPOCH: 81/200 saving best model...\n",
            "+------------+--------+------------+--------+------------+------------+\n",
            "| CATEGORY   | LOSS_1 | ACCURACY_1 | LOSS_2 | ACCURACY_2 |        ETA |\n",
            "+------------+--------+------------+--------+------------+------------+\n",
            "| Training   |  0.405 |    73.413% |  1.126 |    58.603% | 0:00:03.29 |\n",
            "| Validation |  0.074 |    98.847% |  0.141 |    96.379% |            |\n",
            "+------------+--------+------------+--------+------------+------------+\n",
            "EPOCH: 82/200 saving best model...\n",
            "+------------+--------+------------+--------+------------+------------+\n",
            "| CATEGORY   | LOSS_1 | ACCURACY_1 | LOSS_2 | ACCURACY_2 |        ETA |\n",
            "+------------+--------+------------+--------+------------+------------+\n",
            "| Training   |  0.400 |    74.438% |  1.045 |    60.829% | 0:00:02.85 |\n",
            "| Validation |  0.077 |    99.306% |  0.094 |    98.289% |            |\n",
            "+------------+--------+------------+--------+------------+------------+\n",
            "EPOCH: 83/200 saving best model...\n",
            "+------------+--------+------------+--------+------------+------------+\n",
            "| CATEGORY   | LOSS_1 | ACCURACY_1 | LOSS_2 | ACCURACY_2 |        ETA |\n",
            "+------------+--------+------------+--------+------------+------------+\n",
            "| Training   |  0.398 |    74.311% |  0.984 |    62.809% | 0:00:02.68 |\n",
            "| Validation |  0.066 |    98.946% |  0.080 |    98.413% |            |\n",
            "+------------+--------+------------+--------+------------+------------+\n",
            "EPOCH: 84/200 not saving...\n",
            "+------------+--------+------------+--------+------------+------------+\n",
            "| CATEGORY   | LOSS_1 | ACCURACY_1 | LOSS_2 | ACCURACY_2 |        ETA |\n",
            "+------------+--------+------------+--------+------------+------------+\n",
            "| Training   |  0.404 |    75.019% |  1.004 |    62.148% | 0:00:02.67 |\n",
            "| Validation |  0.073 |    99.120% |  0.083 |    98.065% |            |\n",
            "+------------+--------+------------+--------+------------+------------+\n",
            "EPOCH: 85/200 saving best model...\n",
            "+------------+--------+------------+--------+------------+------------+\n",
            "| CATEGORY   | LOSS_1 | ACCURACY_1 | LOSS_2 | ACCURACY_2 |        ETA |\n",
            "+------------+--------+------------+--------+------------+------------+\n",
            "| Training   |  0.400 |    74.392% |  1.018 |    61.774% | 0:00:02.89 |\n",
            "| Validation |  0.064 |    99.740% |  0.085 |    98.686% |            |\n",
            "+------------+--------+------------+--------+------------+------------+\n",
            "EPOCH: 86/200 saving best model...\n",
            "+------------+--------+------------+--------+------------+------------+\n",
            "| CATEGORY   | LOSS_1 | ACCURACY_1 | LOSS_2 | ACCURACY_2 |        ETA |\n",
            "+------------+--------+------------+--------+------------+------------+\n",
            "| Training   |  0.402 |    73.666% |  1.021 |    60.749% | 0:00:03.23 |\n",
            "| Validation |  0.061 |    99.132% |  0.086 |    97.954% |            |\n",
            "+------------+--------+------------+--------+------------+------------+\n",
            "EPOCH: 87/200 saving best model...\n",
            "+------------+--------+------------+--------+------------+------------+\n",
            "| CATEGORY   | LOSS_1 | ACCURACY_1 | LOSS_2 | ACCURACY_2 |        ETA |\n",
            "+------------+--------+------------+--------+------------+------------+\n",
            "| Training   |  0.397 |    73.351% |  1.053 |    60.619% | 0:00:02.71 |\n",
            "| Validation |  0.071 |    99.045% |  0.077 |    98.487% |            |\n",
            "+------------+--------+------------+--------+------------+------------+\n",
            "EPOCH: 88/200 saving best model...\n",
            "+------------+--------+------------+--------+------------+------------+\n",
            "| CATEGORY   | LOSS_1 | ACCURACY_1 | LOSS_2 | ACCURACY_2 |        ETA |\n",
            "+------------+--------+------------+--------+------------+------------+\n",
            "| Training   |  0.394 |    74.815% |  1.020 |    61.367% | 0:00:02.71 |\n",
            "| Validation |  0.058 |    99.033% |  0.085 |    97.979% |            |\n",
            "+------------+--------+------------+--------+------------+------------+\n",
            "EPOCH: 89/200 saving best model...\n",
            "+------------+--------+------------+--------+------------+------------+\n",
            "| CATEGORY   | LOSS_1 | ACCURACY_1 | LOSS_2 | ACCURACY_2 |        ETA |\n",
            "+------------+--------+------------+--------+------------+------------+\n",
            "| Training   |  0.384 |    76.439% |  1.024 |    61.916% | 0:00:02.76 |\n",
            "| Validation |  0.059 |    98.946% |  0.078 |    98.686% |            |\n",
            "+------------+--------+------------+--------+------------+------------+\n",
            "EPOCH: 90/200 saving best model...\n",
            "+------------+--------+------------+--------+------------+------------+\n",
            "| CATEGORY   | LOSS_1 | ACCURACY_1 | LOSS_2 | ACCURACY_2 |        ETA |\n",
            "+------------+--------+------------+--------+------------+------------+\n",
            "| Training   |  0.385 |    74.793% |  1.003 |    61.759% | 0:00:03.14 |\n",
            "| Validation |  0.059 |    99.281% |  0.069 |    98.673% |            |\n",
            "+------------+--------+------------+--------+------------+------------+\n",
            "EPOCH: 91/200 not saving...\n",
            "+------------+--------+------------+--------+------------+------------+\n",
            "| CATEGORY   | LOSS_1 | ACCURACY_1 | LOSS_2 | ACCURACY_2 |        ETA |\n",
            "+------------+--------+------------+--------+------------+------------+\n",
            "| Training   |  0.398 |    74.722% |  1.026 |    61.157% | 0:00:03.03 |\n",
            "| Validation |  0.067 |    99.566% |  0.070 |    98.500% |            |\n",
            "+------------+--------+------------+--------+------------+------------+\n",
            "EPOCH: 92/200 saving best model...\n",
            "+------------+--------+------------+--------+------------+------------+\n",
            "| CATEGORY   | LOSS_1 | ACCURACY_1 | LOSS_2 | ACCURACY_2 |        ETA |\n",
            "+------------+--------+------------+--------+------------+------------+\n",
            "| Training   |  0.394 |    74.907% |  0.967 |    62.759% | 0:00:02.69 |\n",
            "| Validation |  0.054 |    99.566% |  0.061 |    99.206% |            |\n",
            "+------------+--------+------------+--------+------------+------------+\n",
            "EPOCH: 93/200 saving best model...\n",
            "+------------+--------+------------+--------+------------+------------+\n",
            "| CATEGORY   | LOSS_1 | ACCURACY_1 | LOSS_2 | ACCURACY_2 |        ETA |\n",
            "+------------+--------+------------+--------+------------+------------+\n",
            "| Training   |  0.396 |    74.528% |  1.007 |    62.163% | 0:00:02.74 |\n",
            "| Validation |  0.062 |    99.392% |  0.059 |    99.120% |            |\n",
            "+------------+--------+------------+--------+------------+------------+\n",
            "EPOCH: 94/200 saving best model...\n",
            "+------------+--------+------------+--------+------------+------------+\n",
            "| CATEGORY   | LOSS_1 | ACCURACY_1 | LOSS_2 | ACCURACY_2 |        ETA |\n",
            "+------------+--------+------------+--------+------------+------------+\n",
            "| Training   |  0.408 |    73.962% |  0.984 |    63.568% | 0:00:02.69 |\n",
            "| Validation |  0.064 |    99.392% |  0.055 |    99.206% |            |\n",
            "+------------+--------+------------+--------+------------+------------+\n",
            "EPOCH: 95/200 saving best model...\n",
            "+------------+--------+------------+--------+------------+------------+\n",
            "| CATEGORY   | LOSS_1 | ACCURACY_1 | LOSS_2 | ACCURACY_2 |        ETA |\n",
            "+------------+--------+------------+--------+------------+------------+\n",
            "| Training   |  0.395 |    73.827% |  0.991 |    62.639% | 0:00:03.24 |\n",
            "| Validation |  0.060 |    99.566% |  0.056 |    99.120% |            |\n",
            "+------------+--------+------------+--------+------------+------------+\n",
            "EPOCH: 96/200 saving best model...\n",
            "+------------+--------+------------+--------+------------+------------+\n",
            "| CATEGORY   | LOSS_1 | ACCURACY_1 | LOSS_2 | ACCURACY_2 |        ETA |\n",
            "+------------+--------+------------+--------+------------+------------+\n",
            "| Training   |  0.381 |    74.833% |  1.013 |    60.761% | 0:00:02.83 |\n",
            "| Validation |  0.054 |    99.740% |  0.045 |    99.293% |            |\n",
            "+------------+--------+------------+--------+------------+------------+\n",
            "EPOCH: 97/200 not saving...\n",
            "+------------+--------+------------+--------+------------+------------+\n",
            "| CATEGORY   | LOSS_1 | ACCURACY_1 | LOSS_2 | ACCURACY_2 |        ETA |\n",
            "+------------+--------+------------+--------+------------+------------+\n",
            "| Training   |  0.383 |    75.133% |  1.005 |    61.462% | 0:00:02.69 |\n",
            "| Validation |  0.055 |    99.566% |  0.050 |    99.194% |            |\n",
            "+------------+--------+------------+--------+------------+------------+\n",
            "EPOCH: 98/200 saving best model...\n",
            "+------------+--------+------------+--------+------------+------------+\n",
            "| CATEGORY   | LOSS_1 | ACCURACY_1 | LOSS_2 | ACCURACY_2 |        ETA |\n",
            "+------------+--------+------------+--------+------------+------------+\n",
            "| Training   |  0.389 |    75.398% |  0.978 |    61.700% | 0:00:02.70 |\n",
            "| Validation |  0.051 |    99.640% |  0.052 |    99.120% |            |\n",
            "+------------+--------+------------+--------+------------+------------+\n",
            "EPOCH: 99/200 saving best model...\n",
            "+------------+--------+------------+--------+------------+------------+\n",
            "| CATEGORY   | LOSS_1 | ACCURACY_1 | LOSS_2 | ACCURACY_2 |        ETA |\n",
            "+------------+--------+------------+--------+------------+------------+\n",
            "| Training   |  0.378 |    75.065% |  0.965 |    62.781% | 0:00:02.80 |\n",
            "| Validation |  0.050 |    99.392% |  0.044 |    99.380% |            |\n",
            "+------------+--------+------------+--------+------------+------------+\n",
            "EPOCH: 100/200 saving best model...\n",
            "+------------+--------+------------+--------+------------+------------+\n",
            "| CATEGORY   | LOSS_1 | ACCURACY_1 | LOSS_2 | ACCURACY_2 |        ETA |\n",
            "+------------+--------+------------+--------+------------+------------+\n",
            "| Training   |  0.369 |    76.139% |  0.956 |    62.861% | 0:00:03.53 |\n",
            "| Validation |  0.048 |    99.814% |  0.039 |    99.194% |            |\n",
            "+------------+--------+------------+--------+------------+------------+\n",
            "EPOCH: 101/200 saving best model...\n",
            "+------------+--------+------------+--------+------------+------------+\n",
            "| CATEGORY   | LOSS_1 | ACCURACY_1 | LOSS_2 | ACCURACY_2 |        ETA |\n",
            "+------------+--------+------------+--------+------------+------------+\n",
            "| Training   |  0.380 |    74.636% |  0.953 |    63.754% | 0:00:03.30 |\n",
            "| Validation |  0.052 |    99.653% |  0.033 |    99.541% |            |\n",
            "+------------+--------+------------+--------+------------+------------+\n",
            "EPOCH: 102/200 saving best model...\n",
            "+------------+--------+------------+--------+------------+------------+\n",
            "| CATEGORY   | LOSS_1 | ACCURACY_1 | LOSS_2 | ACCURACY_2 |        ETA |\n",
            "+------------+--------+------------+--------+------------+------------+\n",
            "| Training   |  0.372 |    77.112% |  0.952 |    62.472% | 0:00:02.71 |\n",
            "| Validation |  0.036 |    99.913% |  0.043 |    98.934% |            |\n",
            "+------------+--------+------------+--------+------------+------------+\n",
            "EPOCH: 103/200 saving best model...\n",
            "+------------+--------+------------+--------+------------+------------+\n",
            "| CATEGORY   | LOSS_1 | ACCURACY_1 | LOSS_2 | ACCURACY_2 |        ETA |\n",
            "+------------+--------+------------+--------+------------+------------+\n",
            "| Training   |  0.372 |    75.099% |  0.976 |    62.123% | 0:00:02.70 |\n",
            "| Validation |  0.033 |    99.740% |  0.037 |    99.368% |            |\n",
            "+------------+--------+------------+--------+------------+------------+\n",
            "EPOCH: 104/200 saving best model...\n",
            "+------------+--------+------------+--------+------------+------------+\n",
            "| CATEGORY   | LOSS_1 | ACCURACY_1 | LOSS_2 | ACCURACY_2 |        ETA |\n",
            "+------------+--------+------------+--------+------------+------------+\n",
            "| Training   |  0.383 |    74.812% |  0.944 |    63.584% | 0:00:03.14 |\n",
            "| Validation |  0.037 |    99.913% |  0.035 |    99.194% |            |\n",
            "+------------+--------+------------+--------+------------+------------+\n",
            "EPOCH: 105/200 saving best model...\n",
            "+------------+--------+------------+--------+------------+------------+\n",
            "| CATEGORY   | LOSS_1 | ACCURACY_1 | LOSS_2 | ACCURACY_2 |        ETA |\n",
            "+------------+--------+------------+--------+------------+------------+\n",
            "| Training   |  0.374 |    74.580% |  0.959 |    63.732% | 0:00:02.98 |\n",
            "| Validation |  0.038 |    99.653% |  0.032 |    99.281% |            |\n",
            "+------------+--------+------------+--------+------------+------------+\n",
            "EPOCH: 106/200 saving best model...\n",
            "+------------+--------+------------+--------+------------+------------+\n",
            "| CATEGORY   | LOSS_1 | ACCURACY_1 | LOSS_2 | ACCURACY_2 |        ETA |\n",
            "+------------+--------+------------+--------+------------+------------+\n",
            "| Training   |  0.378 |    75.377% |  1.000 |    61.506% | 0:00:02.69 |\n",
            "| Validation |  0.031 |    99.653% |  0.032 |    99.281% |            |\n",
            "+------------+--------+------------+--------+------------+------------+\n",
            "EPOCH: 107/200 not saving...\n",
            "+------------+--------+------------+--------+------------+------------+\n",
            "| CATEGORY   | LOSS_1 | ACCURACY_1 | LOSS_2 | ACCURACY_2 |        ETA |\n",
            "+------------+--------+------------+--------+------------+------------+\n",
            "| Training   |  0.390 |    73.854% |  0.978 |    61.731% | 0:00:02.70 |\n",
            "| Validation |  0.032 |    99.653% |  0.034 |    99.380% |            |\n",
            "+------------+--------+------------+--------+------------+------------+\n",
            "EPOCH: 108/200 saving best model...\n",
            "+------------+--------+------------+--------+------------+------------+\n",
            "| CATEGORY   | LOSS_1 | ACCURACY_1 | LOSS_2 | ACCURACY_2 |        ETA |\n",
            "+------------+--------+------------+--------+------------+------------+\n",
            "| Training   |  0.380 |    74.324% |  0.955 |    62.515% | 0:00:02.72 |\n",
            "| Validation |  0.030 |    99.740% |  0.025 |    99.653% |            |\n",
            "+------------+--------+------------+--------+------------+------------+\n",
            "EPOCH: 109/200 saving best model...\n",
            "+------------+--------+------------+--------+------------+------------+\n",
            "| CATEGORY   | LOSS_1 | ACCURACY_1 | LOSS_2 | ACCURACY_2 |        ETA |\n",
            "+------------+--------+------------+--------+------------+------------+\n",
            "| Training   |  0.376 |    75.389% |  0.951 |    63.547% | 0:00:03.33 |\n",
            "| Validation |  0.032 |    99.653% |  0.024 |    99.640% |            |\n",
            "+------------+--------+------------+--------+------------+------------+\n",
            "EPOCH: 110/200 saving best model...\n",
            "+------------+--------+------------+--------+------------+------------+\n",
            "| CATEGORY   | LOSS_1 | ACCURACY_1 | LOSS_2 | ACCURACY_2 |        ETA |\n",
            "+------------+--------+------------+--------+------------+------------+\n",
            "| Training   |  0.364 |    76.004% |  0.953 |    63.902% | 0:00:02.80 |\n",
            "| Validation |  0.029 |   100.000% |  0.028 |    99.194% |            |\n",
            "+------------+--------+------------+--------+------------+------------+\n",
            "EPOCH: 111/200 saving best model...\n",
            "+------------+--------+------------+--------+------------+------------+\n",
            "| CATEGORY   | LOSS_1 | ACCURACY_1 | LOSS_2 | ACCURACY_2 |        ETA |\n",
            "+------------+--------+------------+--------+------------+------------+\n",
            "| Training   |  0.385 |    74.290% |  0.968 |    62.092% | 0:00:02.75 |\n",
            "| Validation |  0.038 |    99.740% |  0.027 |    99.380% |            |\n",
            "+------------+--------+------------+--------+------------+------------+\n",
            "EPOCH: 112/200 saving best model...\n",
            "+------------+--------+------------+--------+------------+------------+\n",
            "| CATEGORY   | LOSS_1 | ACCURACY_1 | LOSS_2 | ACCURACY_2 |        ETA |\n",
            "+------------+--------+------------+--------+------------+------------+\n",
            "| Training   |  0.360 |    74.833% |  0.977 |    61.734% | 0:00:02.73 |\n",
            "| Validation |  0.029 |    99.554% |  0.028 |    99.467% |            |\n",
            "+------------+--------+------------+--------+------------+------------+\n",
            "EPOCH: 113/200 saving best model...\n",
            "+------------+--------+------------+--------+------------+------------+\n",
            "| CATEGORY   | LOSS_1 | ACCURACY_1 | LOSS_2 | ACCURACY_2 |        ETA |\n",
            "+------------+--------+------------+--------+------------+------------+\n",
            "| Training   |  0.369 |    75.840% |  0.962 |    61.864% | 0:00:02.96 |\n",
            "| Validation |  0.038 |    99.913% |  0.026 |    99.554% |            |\n",
            "+------------+--------+------------+--------+------------+------------+\n",
            "EPOCH: 114/200 saving best model...\n",
            "+------------+--------+------------+--------+------------+------------+\n",
            "| CATEGORY   | LOSS_1 | ACCURACY_1 | LOSS_2 | ACCURACY_2 |        ETA |\n",
            "+------------+--------+------------+--------+------------+------------+\n",
            "| Training   |  0.367 |    75.926% |  0.921 |    63.519% | 0:00:03.18 |\n",
            "| Validation |  0.023 |    99.740% |  0.023 |    99.653% |            |\n",
            "+------------+--------+------------+--------+------------+------------+\n",
            "EPOCH: 115/200 saving best model...\n",
            "+------------+--------+------------+--------+------------+------------+\n",
            "| CATEGORY   | LOSS_1 | ACCURACY_1 | LOSS_2 | ACCURACY_2 |        ETA |\n",
            "+------------+--------+------------+--------+------------+------------+\n",
            "| Training   |  0.388 |    74.318% |  0.929 |    63.609% | 0:00:02.71 |\n",
            "| Validation |  0.028 |    99.826% |  0.020 |    99.640% |            |\n",
            "+------------+--------+------------+--------+------------+------------+\n",
            "EPOCH: 116/200 not saving...\n",
            "+------------+--------+------------+--------+------------+------------+\n",
            "| CATEGORY   | LOSS_1 | ACCURACY_1 | LOSS_2 | ACCURACY_2 |        ETA |\n",
            "+------------+--------+------------+--------+------------+------------+\n",
            "| Training   |  0.363 |    76.513% |  0.915 |    64.983% | 0:00:02.67 |\n",
            "| Validation |  0.033 |    99.740% |  0.022 |    99.554% |            |\n",
            "+------------+--------+------------+--------+------------+------------+\n",
            "EPOCH: 117/200 not saving...\n",
            "+------------+--------+------------+--------+------------+------------+\n",
            "| CATEGORY   | LOSS_1 | ACCURACY_1 | LOSS_2 | ACCURACY_2 |        ETA |\n",
            "+------------+--------+------------+--------+------------+------------+\n",
            "| Training   |  0.376 |    75.398% |  0.963 |    61.713% | 0:00:02.67 |\n",
            "| Validation |  0.029 |    99.913% |  0.022 |    99.467% |            |\n",
            "+------------+--------+------------+--------+------------+------------+\n",
            "EPOCH: 118/200 saving best model...\n",
            "+------------+--------+------------+--------+------------+------------+\n",
            "| CATEGORY   | LOSS_1 | ACCURACY_1 | LOSS_2 | ACCURACY_2 |        ETA |\n",
            "+------------+--------+------------+--------+------------+------------+\n",
            "| Training   |  0.388 |    74.997% |  0.962 |    62.781% | 0:00:03.12 |\n",
            "| Validation |  0.026 |    99.740% |  0.023 |    99.653% |            |\n",
            "+------------+--------+------------+--------+------------+------------+\n",
            "EPOCH: 119/200 saving best model...\n",
            "+------------+--------+------------+--------+------------+------------+\n",
            "| CATEGORY   | LOSS_1 | ACCURACY_1 | LOSS_2 | ACCURACY_2 |        ETA |\n",
            "+------------+--------+------------+--------+------------+------------+\n",
            "| Training   |  0.370 |    74.935% |  0.947 |    63.991% | 0:00:02.98 |\n",
            "| Validation |  0.021 |    99.826% |  0.020 |    99.653% |            |\n",
            "+------------+--------+------------+--------+------------+------------+\n",
            "EPOCH: 120/200 not saving...\n",
            "+------------+--------+------------+--------+------------+------------+\n",
            "| CATEGORY   | LOSS_1 | ACCURACY_1 | LOSS_2 | ACCURACY_2 |        ETA |\n",
            "+------------+--------+------------+--------+------------+------------+\n",
            "| Training   |  0.375 |    75.343% |  0.941 |    63.207% | 0:00:02.70 |\n",
            "| Validation |  0.031 |    99.913% |  0.020 |    99.566% |            |\n",
            "+------------+--------+------------+--------+------------+------------+\n",
            "EPOCH: 121/200 saving best model...\n",
            "+------------+--------+------------+--------+------------+------------+\n",
            "| CATEGORY   | LOSS_1 | ACCURACY_1 | LOSS_2 | ACCURACY_2 |        ETA |\n",
            "+------------+--------+------------+--------+------------+------------+\n",
            "| Training   |  0.367 |    75.337% |  0.913 |    64.350% | 0:00:02.71 |\n",
            "| Validation |  0.040 |    99.740% |  0.018 |    99.479% |            |\n",
            "+------------+--------+------------+--------+------------+------------+\n",
            "EPOCH: 122/200 saving best model...\n",
            "+------------+--------+------------+--------+------------+------------+\n",
            "| CATEGORY   | LOSS_1 | ACCURACY_1 | LOSS_2 | ACCURACY_2 |        ETA |\n",
            "+------------+--------+------------+--------+------------+------------+\n",
            "| Training   |  0.388 |    73.962% |  0.910 |    65.764% | 0:00:02.76 |\n",
            "| Validation |  0.039 |    99.554% |  0.017 |    99.566% |            |\n",
            "+------------+--------+------------+--------+------------+------------+\n",
            "EPOCH: 123/200 saving best model...\n",
            "+------------+--------+------------+--------+------------+------------+\n",
            "| CATEGORY   | LOSS_1 | ACCURACY_1 | LOSS_2 | ACCURACY_2 |        ETA |\n",
            "+------------+--------+------------+--------+------------+------------+\n",
            "| Training   |  0.381 |    74.438% |  0.947 |    62.593% | 0:00:03.35 |\n",
            "| Validation |  0.033 |    99.826% |  0.023 |    99.467% |            |\n",
            "+------------+--------+------------+--------+------------+------------+\n",
            "EPOCH: 124/200 saving best model...\n",
            "+------------+--------+------------+--------+------------+------------+\n",
            "| CATEGORY   | LOSS_1 | ACCURACY_1 | LOSS_2 | ACCURACY_2 |        ETA |\n",
            "+------------+--------+------------+--------+------------+------------+\n",
            "| Training   |  0.363 |    75.750% |  0.927 |    65.248% | 0:00:02.82 |\n",
            "| Validation |  0.030 |    99.913% |  0.016 |    99.467% |            |\n",
            "+------------+--------+------------+--------+------------+------------+\n",
            "EPOCH: 125/200 saving best model...\n",
            "+------------+--------+------------+--------+------------+------------+\n",
            "| CATEGORY   | LOSS_1 | ACCURACY_1 | LOSS_2 | ACCURACY_2 |        ETA |\n",
            "+------------+--------+------------+--------+------------+------------+\n",
            "| Training   |  0.366 |    75.262% |  0.889 |    66.063% | 0:00:02.68 |\n",
            "| Validation |  0.033 |    99.913% |  0.016 |    99.554% |            |\n",
            "+------------+--------+------------+--------+------------+------------+\n",
            "EPOCH: 126/200 saving best model...\n",
            "+------------+--------+------------+--------+------------+------------+\n",
            "| CATEGORY   | LOSS_1 | ACCURACY_1 | LOSS_2 | ACCURACY_2 |        ETA |\n",
            "+------------+--------+------------+--------+------------+------------+\n",
            "| Training   |  0.381 |    75.235% |  0.910 |    64.059% | 0:00:02.74 |\n",
            "| Validation |  0.023 |   100.000% |  0.021 |    99.454% |            |\n",
            "+------------+--------+------------+--------+------------+------------+\n",
            "EPOCH: 127/200 saving best model...\n",
            "+------------+--------+------------+--------+------------+------------+\n",
            "| CATEGORY   | LOSS_1 | ACCURACY_1 | LOSS_2 | ACCURACY_2 |        ETA |\n",
            "+------------+--------+------------+--------+------------+------------+\n",
            "| Training   |  0.385 |    74.793% |  0.926 |    63.257% | 0:00:02.93 |\n",
            "| Validation |  0.028 |    99.566% |  0.016 |    99.541% |            |\n",
            "+------------+--------+------------+--------+------------+------------+\n",
            "EPOCH: 128/200 saving best model...\n",
            "+------------+--------+------------+--------+------------+------------+\n",
            "| CATEGORY   | LOSS_1 | ACCURACY_1 | LOSS_2 | ACCURACY_2 |        ETA |\n",
            "+------------+--------+------------+--------+------------+------------+\n",
            "| Training   |  0.375 |    73.820% |  0.907 |    63.609% | 0:00:03.21 |\n",
            "| Validation |  0.029 |    99.913% |  0.014 |    99.653% |            |\n",
            "+------------+--------+------------+--------+------------+------------+\n",
            "EPOCH: 129/200 saving best model...\n",
            "+------------+--------+------------+--------+------------+------------+\n",
            "| CATEGORY   | LOSS_1 | ACCURACY_1 | LOSS_2 | ACCURACY_2 |        ETA |\n",
            "+------------+--------+------------+--------+------------+------------+\n",
            "| Training   |  0.361 |    75.352% |  0.922 |    63.056% | 0:00:02.71 |\n",
            "| Validation |  0.021 |    99.740% |  0.018 |    99.380% |            |\n",
            "+------------+--------+------------+--------+------------+------------+\n",
            "EPOCH: 130/200 saving best model...\n",
            "+------------+--------+------------+--------+------------+------------+\n",
            "| CATEGORY   | LOSS_1 | ACCURACY_1 | LOSS_2 | ACCURACY_2 |        ETA |\n",
            "+------------+--------+------------+--------+------------+------------+\n",
            "| Training   |  0.369 |    75.337% |  0.932 |    63.371% | 0:00:02.73 |\n",
            "| Validation |  0.023 |    99.740% |  0.013 |    99.640% |            |\n",
            "+------------+--------+------------+--------+------------+------------+\n",
            "EPOCH: 131/200 not saving...\n",
            "+------------+--------+------------+--------+------------+------------+\n",
            "| CATEGORY   | LOSS_1 | ACCURACY_1 | LOSS_2 | ACCURACY_2 |        ETA |\n",
            "+------------+--------+------------+--------+------------+------------+\n",
            "| Training   |  0.377 |    74.685% |  0.871 |    66.669% | 0:00:02.68 |\n",
            "| Validation |  0.032 |    99.380% |  0.013 |    99.640% |            |\n",
            "+------------+--------+------------+--------+------------+------------+\n",
            "EPOCH: 132/200 saving best model...\n",
            "+------------+--------+------------+--------+------------+------------+\n",
            "| CATEGORY   | LOSS_1 | ACCURACY_1 | LOSS_2 | ACCURACY_2 |        ETA |\n",
            "+------------+--------+------------+--------+------------+------------+\n",
            "| Training   |  0.366 |    75.562% |  0.878 |    64.208% | 0:00:03.17 |\n",
            "| Validation |  0.023 |    99.653% |  0.021 |    99.380% |            |\n",
            "+------------+--------+------------+--------+------------+------------+\n",
            "EPOCH: 133/200 saving best model...\n",
            "+------------+--------+------------+--------+------------+------------+\n",
            "| CATEGORY   | LOSS_1 | ACCURACY_1 | LOSS_2 | ACCURACY_2 |        ETA |\n",
            "+------------+--------+------------+--------+------------+------------+\n",
            "| Training   |  0.365 |    75.411% |  0.901 |    63.621% | 0:00:03.07 |\n",
            "| Validation |  0.021 |    99.740% |  0.012 |    99.740% |            |\n",
            "+------------+--------+------------+--------+------------+------------+\n",
            "EPOCH: 134/200 not saving...\n",
            "+------------+--------+------------+--------+------------+------------+\n",
            "| CATEGORY   | LOSS_1 | ACCURACY_1 | LOSS_2 | ACCURACY_2 |        ETA |\n",
            "+------------+--------+------------+--------+------------+------------+\n",
            "| Training   |  0.383 |    75.398% |  0.922 |    63.337% | 0:00:02.69 |\n",
            "| Validation |  0.029 |    99.566% |  0.014 |    99.740% |            |\n",
            "+------------+--------+------------+--------+------------+------------+\n",
            "EPOCH: 135/200 saving best model...\n",
            "+------------+--------+------------+--------+------------+------------+\n",
            "| CATEGORY   | LOSS_1 | ACCURACY_1 | LOSS_2 | ACCURACY_2 |        ETA |\n",
            "+------------+--------+------------+--------+------------+------------+\n",
            "| Training   |  0.369 |    75.071% |  0.947 |    62.364% | 0:00:02.71 |\n",
            "| Validation |  0.029 |    99.653% |  0.012 |    99.740% |            |\n",
            "+------------+--------+------------+--------+------------+------------+\n",
            "EPOCH: 136/200 saving best model...\n",
            "+------------+--------+------------+--------+------------+------------+\n",
            "| CATEGORY   | LOSS_1 | ACCURACY_1 | LOSS_2 | ACCURACY_2 |        ETA |\n",
            "+------------+--------+------------+--------+------------+------------+\n",
            "| Training   |  0.366 |    75.472% |  0.913 |    64.751% | 0:00:02.71 |\n",
            "| Validation |  0.024 |    99.653% |  0.014 |    99.467% |            |\n",
            "+------------+--------+------------+--------+------------+------------+\n",
            "EPOCH: 137/200 saving best model...\n",
            "+------------+--------+------------+--------+------------+------------+\n",
            "| CATEGORY   | LOSS_1 | ACCURACY_1 | LOSS_2 | ACCURACY_2 |        ETA |\n",
            "+------------+--------+------------+--------+------------+------------+\n",
            "| Training   |  0.374 |    75.676% |  0.884 |    65.261% | 0:00:03.29 |\n",
            "| Validation |  0.026 |    99.653% |  0.012 |    99.479% |            |\n",
            "+------------+--------+------------+--------+------------+------------+\n",
            "EPOCH: 138/200 saving best model...\n",
            "+------------+--------+------------+--------+------------+------------+\n",
            "| CATEGORY   | LOSS_1 | ACCURACY_1 | LOSS_2 | ACCURACY_2 |        ETA |\n",
            "+------------+--------+------------+--------+------------+------------+\n",
            "| Training   |  0.363 |    76.010% |  0.908 |    64.158% | 0:00:02.80 |\n",
            "| Validation |  0.025 |    99.740% |  0.013 |    99.479% |            |\n",
            "+------------+--------+------------+--------+------------+------------+\n",
            "EPOCH: 139/200 not saving...\n",
            "+------------+--------+------------+--------+------------+------------+\n",
            "| CATEGORY   | LOSS_1 | ACCURACY_1 | LOSS_2 | ACCURACY_2 |        ETA |\n",
            "+------------+--------+------------+--------+------------+------------+\n",
            "| Training   |  0.369 |    76.390% |  0.914 |    63.547% | 0:00:02.67 |\n",
            "| Validation |  0.027 |    99.740% |  0.014 |    99.566% |            |\n",
            "+------------+--------+------------+--------+------------+------------+\n",
            "EPOCH: 140/200 not saving...\n",
            "+------------+--------+------------+--------+------------+------------+\n",
            "| CATEGORY   | LOSS_1 | ACCURACY_1 | LOSS_2 | ACCURACY_2 |        ETA |\n",
            "+------------+--------+------------+--------+------------+------------+\n",
            "| Training   |  0.364 |    75.324% |  0.912 |    63.886% | 0:00:02.66 |\n",
            "| Validation |  0.028 |    99.740% |  0.014 |    99.479% |            |\n",
            "+------------+--------+------------+--------+------------+------------+\n",
            "EPOCH: 141/200 saving best model...\n",
            "+------------+--------+------------+--------+------------+------------+\n",
            "| CATEGORY   | LOSS_1 | ACCURACY_1 | LOSS_2 | ACCURACY_2 |        ETA |\n",
            "+------------+--------+------------+--------+------------+------------+\n",
            "| Training   |  0.366 |    75.337% |  0.889 |    65.390% | 0:00:02.89 |\n",
            "| Validation |  0.022 |    99.740% |  0.017 |    99.467% |            |\n",
            "+------------+--------+------------+--------+------------+------------+\n",
            "EPOCH: 142/200 saving best model...\n",
            "+------------+--------+------------+--------+------------+------------+\n",
            "| CATEGORY   | LOSS_1 | ACCURACY_1 | LOSS_2 | ACCURACY_2 |        ETA |\n",
            "+------------+--------+------------+--------+------------+------------+\n",
            "| Training   |  0.377 |    75.858% |  0.872 |    65.384% | 0:00:03.26 |\n",
            "| Validation |  0.017 |    99.653% |  0.014 |    99.467% |            |\n",
            "+------------+--------+------------+--------+------------+------------+\n",
            "EPOCH: 143/200 saving best model...\n",
            "+------------+--------+------------+--------+------------+------------+\n",
            "| CATEGORY   | LOSS_1 | ACCURACY_1 | LOSS_2 | ACCURACY_2 |        ETA |\n",
            "+------------+--------+------------+--------+------------+------------+\n",
            "| Training   |  0.377 |    76.038% |  0.923 |    64.084% | 0:00:02.73 |\n",
            "| Validation |  0.027 |    99.826% |  0.012 |    99.653% |            |\n",
            "+------------+--------+------------+--------+------------+------------+\n",
            "EPOCH: 144/200 saving best model...\n",
            "+------------+--------+------------+--------+------------+------------+\n",
            "| CATEGORY   | LOSS_1 | ACCURACY_1 | LOSS_2 | ACCURACY_2 |        ETA |\n",
            "+------------+--------+------------+--------+------------+------------+\n",
            "| Training   |  0.374 |    75.568% |  0.853 |    66.798% | 0:00:02.71 |\n",
            "| Validation |  0.022 |    99.826% |  0.010 |    99.640% |            |\n",
            "+------------+--------+------------+--------+------------+------------+\n",
            "EPOCH: 145/200 saving best model...\n",
            "+------------+--------+------------+--------+------------+------------+\n",
            "| CATEGORY   | LOSS_1 | ACCURACY_1 | LOSS_2 | ACCURACY_2 |        ETA |\n",
            "+------------+--------+------------+--------+------------+------------+\n",
            "| Training   |  0.370 |    75.330% |  0.928 |    63.643% | 0:00:02.71 |\n",
            "| Validation |  0.021 |    99.826% |  0.011 |    99.554% |            |\n",
            "+------------+--------+------------+--------+------------+------------+\n",
            "EPOCH: 146/200 saving best model...\n",
            "+------------+--------+------------+--------+------------+------------+\n",
            "| CATEGORY   | LOSS_1 | ACCURACY_1 | LOSS_2 | ACCURACY_2 |        ETA |\n",
            "+------------+--------+------------+--------+------------+------------+\n",
            "| Training   |  0.368 |    75.772% |  0.923 |    62.957% | 0:00:03.09 |\n",
            "| Validation |  0.021 |    99.826% |  0.011 |    99.554% |            |\n",
            "+------------+--------+------------+--------+------------+------------+\n",
            "EPOCH: 147/200 saving best model...\n",
            "+------------+--------+------------+--------+------------+------------+\n",
            "| CATEGORY   | LOSS_1 | ACCURACY_1 | LOSS_2 | ACCURACY_2 |        ETA |\n",
            "+------------+--------+------------+--------+------------+------------+\n",
            "| Training   |  0.370 |    74.438% |  0.908 |    63.541% | 0:00:03.02 |\n",
            "| Validation |  0.020 |    99.826% |  0.009 |    99.653% |            |\n",
            "+------------+--------+------------+--------+------------+------------+\n",
            "EPOCH: 148/200 not saving...\n",
            "+------------+--------+------------+--------+------------+------------+\n",
            "| CATEGORY   | LOSS_1 | ACCURACY_1 | LOSS_2 | ACCURACY_2 |        ETA |\n",
            "+------------+--------+------------+--------+------------+------------+\n",
            "| Training   |  0.369 |    76.254% |  0.944 |    63.281% | 0:00:02.68 |\n",
            "| Validation |  0.029 |    99.826% |  0.015 |    99.566% |            |\n",
            "+------------+--------+------------+--------+------------+------------+\n",
            "EPOCH: 149/200 not saving...\n",
            "+------------+--------+------------+--------+------------+------------+\n",
            "| CATEGORY   | LOSS_1 | ACCURACY_1 | LOSS_2 | ACCURACY_2 |        ETA |\n",
            "+------------+--------+------------+--------+------------+------------+\n",
            "| Training   |  0.343 |    77.594% |  0.911 |    64.282% | 0:00:02.66 |\n",
            "| Validation |  0.022 |    99.913% |  0.013 |    99.467% |            |\n",
            "+------------+--------+------------+--------+------------+------------+\n",
            "EPOCH: 150/200 not saving...\n",
            "+------------+--------+------------+--------+------------+------------+\n",
            "| CATEGORY   | LOSS_1 | ACCURACY_1 | LOSS_2 | ACCURACY_2 |        ETA |\n",
            "+------------+--------+------------+--------+------------+------------+\n",
            "| Training   |  0.366 |    75.071% |  0.904 |    64.708% | 0:00:02.69 |\n",
            "| Validation |  0.026 |    99.913% |  0.012 |    99.640% |            |\n",
            "+------------+--------+------------+--------+------------+------------+\n",
            "EPOCH: 151/200 saving best model...\n",
            "+------------+--------+------------+--------+------------+------------+\n",
            "| CATEGORY   | LOSS_1 | ACCURACY_1 | LOSS_2 | ACCURACY_2 |        ETA |\n",
            "+------------+--------+------------+--------+------------+------------+\n",
            "| Training   |  0.364 |    76.031% |  0.903 |    64.501% | 0:00:03.26 |\n",
            "| Validation |  0.019 |    99.913% |  0.013 |    99.554% |            |\n",
            "+------------+--------+------------+--------+------------+------------+\n",
            "EPOCH: 152/200 saving best model...\n",
            "+------------+--------+------------+--------+------------+------------+\n",
            "| CATEGORY   | LOSS_1 | ACCURACY_1 | LOSS_2 | ACCURACY_2 |        ETA |\n",
            "+------------+--------+------------+--------+------------+------------+\n",
            "| Training   |  0.363 |    75.253% |  0.918 |    64.248% | 0:00:02.87 |\n",
            "| Validation |  0.016 |    99.740% |  0.019 |    99.479% |            |\n",
            "+------------+--------+------------+--------+------------+------------+\n",
            "EPOCH: 153/200 saving best model...\n",
            "+------------+--------+------------+--------+------------+------------+\n",
            "| CATEGORY   | LOSS_1 | ACCURACY_1 | LOSS_2 | ACCURACY_2 |        ETA |\n",
            "+------------+--------+------------+--------+------------+------------+\n",
            "| Training   |  0.366 |    74.880% |  0.919 |    63.284% | 0:00:02.71 |\n",
            "| Validation |  0.020 |    99.814% |  0.015 |    99.380% |            |\n",
            "+------------+--------+------------+--------+------------+------------+\n",
            "EPOCH: 154/200 saving best model...\n",
            "+------------+--------+------------+--------+------------+------------+\n",
            "| CATEGORY   | LOSS_1 | ACCURACY_1 | LOSS_2 | ACCURACY_2 |        ETA |\n",
            "+------------+--------+------------+--------+------------+------------+\n",
            "| Training   |  0.364 |    75.806% |  0.903 |    64.770% | 0:00:02.72 |\n",
            "| Validation |  0.019 |    99.826% |  0.018 |    99.554% |            |\n",
            "+------------+--------+------------+--------+------------+------------+\n",
            "EPOCH: 155/200 saving best model...\n",
            "+------------+--------+------------+--------+------------+------------+\n",
            "| CATEGORY   | LOSS_1 | ACCURACY_1 | LOSS_2 | ACCURACY_2 |        ETA |\n",
            "+------------+--------+------------+--------+------------+------------+\n",
            "| Training   |  0.375 |    75.003% |  0.903 |    64.424% | 0:00:02.80 |\n",
            "| Validation |  0.015 |    99.913% |  0.012 |    99.380% |            |\n",
            "+------------+--------+------------+--------+------------+------------+\n",
            "EPOCH: 156/200 not saving...\n",
            "+------------+--------+------------+--------+------------+------------+\n",
            "| CATEGORY   | LOSS_1 | ACCURACY_1 | LOSS_2 | ACCURACY_2 |        ETA |\n",
            "+------------+--------+------------+--------+------------+------------+\n",
            "| Training   |  0.377 |    75.587% |  0.893 |    64.010% | 0:00:03.32 |\n",
            "| Validation |  0.023 |    99.913% |  0.014 |    99.392% |            |\n",
            "+------------+--------+------------+--------+------------+------------+\n",
            "EPOCH: 157/200 saving best model...\n",
            "+------------+--------+------------+--------+------------+------------+\n",
            "| CATEGORY   | LOSS_1 | ACCURACY_1 | LOSS_2 | ACCURACY_2 |        ETA |\n",
            "+------------+--------+------------+--------+------------+------------+\n",
            "| Training   |  0.365 |    75.371% |  0.889 |    65.918% | 0:00:02.73 |\n",
            "| Validation |  0.019 |    99.740% |  0.011 |    99.566% |            |\n",
            "+------------+--------+------------+--------+------------+------------+\n",
            "EPOCH: 158/200 saving best model...\n",
            "+------------+--------+------------+--------+------------+------------+\n",
            "| CATEGORY   | LOSS_1 | ACCURACY_1 | LOSS_2 | ACCURACY_2 |        ETA |\n",
            "+------------+--------+------------+--------+------------+------------+\n",
            "| Training   |  0.361 |    76.214% |  0.881 |    65.017% | 0:00:02.71 |\n",
            "| Validation |  0.019 |    99.740% |  0.011 |    99.653% |            |\n",
            "+------------+--------+------------+--------+------------+------------+\n",
            "EPOCH: 159/200 saving best model...\n",
            "+------------+--------+------------+--------+------------+------------+\n",
            "| CATEGORY   | LOSS_1 | ACCURACY_1 | LOSS_2 | ACCURACY_2 |        ETA |\n",
            "+------------+--------+------------+--------+------------+------------+\n",
            "| Training   |  0.347 |    76.600% |  0.891 |    64.464% | 0:00:02.71 |\n",
            "| Validation |  0.017 |   100.000% |  0.012 |    99.467% |            |\n",
            "+------------+--------+------------+--------+------------+------------+\n",
            "EPOCH: 160/200 saving best model...\n",
            "+------------+--------+------------+--------+------------+------------+\n",
            "| CATEGORY   | LOSS_1 | ACCURACY_1 | LOSS_2 | ACCURACY_2 |        ETA |\n",
            "+------------+--------+------------+--------+------------+------------+\n",
            "| Training   |  0.378 |    75.139% |  0.910 |    64.819% | 0:00:03.08 |\n",
            "| Validation |  0.017 |    99.814% |  0.012 |    99.653% |            |\n",
            "+------------+--------+------------+--------+------------+------------+\n",
            "EPOCH: 161/200 not saving...\n",
            "+------------+--------+------------+--------+------------+------------+\n",
            "| CATEGORY   | LOSS_1 | ACCURACY_1 | LOSS_2 | ACCURACY_2 |        ETA |\n",
            "+------------+--------+------------+--------+------------+------------+\n",
            "| Training   |  0.362 |    76.180% |  0.912 |    64.201% | 0:00:03.04 |\n",
            "| Validation |  0.028 |    99.814% |  0.013 |    99.380% |            |\n",
            "+------------+--------+------------+--------+------------+------------+\n",
            "EPOCH: 162/200 not saving...\n",
            "+------------+--------+------------+--------+------------+------------+\n",
            "| CATEGORY   | LOSS_1 | ACCURACY_1 | LOSS_2 | ACCURACY_2 |        ETA |\n",
            "+------------+--------+------------+--------+------------+------------+\n",
            "| Training   |  0.353 |    75.235% |  0.937 |    64.214% | 0:00:02.67 |\n",
            "| Validation |  0.021 |    99.814% |  0.019 |    99.306% |            |\n",
            "+------------+--------+------------+--------+------------+------------+\n",
            "EPOCH: 163/200 saving best model...\n",
            "+------------+--------+------------+--------+------------+------------+\n",
            "| CATEGORY   | LOSS_1 | ACCURACY_1 | LOSS_2 | ACCURACY_2 |        ETA |\n",
            "+------------+--------+------------+--------+------------+------------+\n",
            "| Training   |  0.367 |    76.362% |  0.909 |    63.133% | 0:00:02.70 |\n",
            "| Validation |  0.021 |    99.913% |  0.008 |    99.740% |            |\n",
            "+------------+--------+------------+--------+------------+------------+\n",
            "EPOCH: 164/200 saving best model...\n",
            "+------------+--------+------------+--------+------------+------------+\n",
            "| CATEGORY   | LOSS_1 | ACCURACY_1 | LOSS_2 | ACCURACY_2 |        ETA |\n",
            "+------------+--------+------------+--------+------------+------------+\n",
            "| Training   |  0.354 |    75.420% |  0.882 |    66.076% | 0:00:02.74 |\n",
            "| Validation |  0.015 |   100.000% |  0.009 |    99.653% |            |\n",
            "+------------+--------+------------+--------+------------+------------+\n",
            "EPOCH: 165/200 saving best model...\n",
            "+------------+--------+------------+--------+------------+------------+\n",
            "| CATEGORY   | LOSS_1 | ACCURACY_1 | LOSS_2 | ACCURACY_2 |        ETA |\n",
            "+------------+--------+------------+--------+------------+------------+\n",
            "| Training   |  0.364 |    75.229% |  0.913 |    64.418% | 0:00:03.24 |\n",
            "| Validation |  0.013 |   100.000% |  0.010 |    99.554% |            |\n",
            "+------------+--------+------------+--------+------------+------------+\n",
            "EPOCH: 166/200 not saving...\n",
            "+------------+--------+------------+--------+------------+------------+\n",
            "| CATEGORY   | LOSS_1 | ACCURACY_1 | LOSS_2 | ACCURACY_2 |        ETA |\n",
            "+------------+--------+------------+--------+------------+------------+\n",
            "| Training   |  0.365 |    75.151% |  0.916 |    64.770% | 0:00:02.86 |\n",
            "| Validation |  0.015 |   100.000% |  0.012 |    99.740% |            |\n",
            "+------------+--------+------------+--------+------------+------------+\n",
            "EPOCH: 167/200 not saving...\n",
            "+------------+--------+------------+--------+------------+------------+\n",
            "| CATEGORY   | LOSS_1 | ACCURACY_1 | LOSS_2 | ACCURACY_2 |        ETA |\n",
            "+------------+--------+------------+--------+------------+------------+\n",
            "| Training   |  0.355 |    75.599% |  0.894 |    64.967% | 0:00:02.68 |\n",
            "| Validation |  0.015 |    99.913% |  0.011 |    99.467% |            |\n",
            "+------------+--------+------------+--------+------------+------------+\n",
            "EPOCH: 168/200 saving best model...\n",
            "+------------+--------+------------+--------+------------+------------+\n",
            "| CATEGORY   | LOSS_1 | ACCURACY_1 | LOSS_2 | ACCURACY_2 |        ETA |\n",
            "+------------+--------+------------+--------+------------+------------+\n",
            "| Training   |  0.361 |    76.655% |  0.895 |    65.656% | 0:00:02.84 |\n",
            "| Validation |  0.012 |    99.913% |  0.011 |    99.640% |            |\n",
            "+------------+--------+------------+--------+------------+------------+\n",
            "EPOCH: 169/200 not saving...\n",
            "+------------+--------+------------+--------+------------+------------+\n",
            "| CATEGORY   | LOSS_1 | ACCURACY_1 | LOSS_2 | ACCURACY_2 |        ETA |\n",
            "+------------+--------+------------+--------+------------+------------+\n",
            "| Training   |  0.365 |    75.056% |  0.891 |    64.859% | 0:00:03.41 |\n",
            "| Validation |  0.014 |    99.740% |  0.011 |    99.467% |            |\n",
            "+------------+--------+------------+--------+------------+------------+\n",
            "EPOCH: 170/200 saving best model...\n",
            "+------------+--------+------------+--------+------------+------------+\n",
            "| CATEGORY   | LOSS_1 | ACCURACY_1 | LOSS_2 | ACCURACY_2 |        ETA |\n",
            "+------------+--------+------------+--------+------------+------------+\n",
            "| Training   |  0.361 |    75.784% |  0.884 |    65.239% | 0:00:03.28 |\n",
            "| Validation |  0.013 |    99.740% |  0.009 |    99.566% |            |\n",
            "+------------+--------+------------+--------+------------+------------+\n",
            "EPOCH: 171/200 saving best model...\n",
            "+------------+--------+------------+--------+------------+------------+\n",
            "| CATEGORY   | LOSS_1 | ACCURACY_1 | LOSS_2 | ACCURACY_2 |        ETA |\n",
            "+------------+--------+------------+--------+------------+------------+\n",
            "| Training   |  0.365 |    75.438% |  0.857 |    65.285% | 0:00:02.70 |\n",
            "| Validation |  0.015 |    99.740% |  0.008 |    99.740% |            |\n",
            "+------------+--------+------------+--------+------------+------------+\n",
            "EPOCH: 172/200 saving best model...\n",
            "+------------+--------+------------+--------+------------+------------+\n",
            "| CATEGORY   | LOSS_1 | ACCURACY_1 | LOSS_2 | ACCURACY_2 |        ETA |\n",
            "+------------+--------+------------+--------+------------+------------+\n",
            "| Training   |  0.367 |    74.145% |  0.925 |    63.553% | 0:00:02.72 |\n",
            "| Validation |  0.014 |    99.826% |  0.009 |    99.554% |            |\n",
            "+------------+--------+------------+--------+------------+------------+\n",
            "EPOCH: 173/200 not saving...\n",
            "+------------+--------+------------+--------+------------+------------+\n",
            "| CATEGORY   | LOSS_1 | ACCURACY_1 | LOSS_2 | ACCURACY_2 |        ETA |\n",
            "+------------+--------+------------+--------+------------+------------+\n",
            "| Training   |  0.362 |    75.003% |  0.882 |    65.035% | 0:00:02.69 |\n",
            "| Validation |  0.015 |    99.826% |  0.010 |    99.554% |            |\n",
            "+------------+--------+------------+--------+------------+------------+\n",
            "EPOCH: 174/200 not saving...\n",
            "+------------+--------+------------+--------+------------+------------+\n",
            "| CATEGORY   | LOSS_1 | ACCURACY_1 | LOSS_2 | ACCURACY_2 |        ETA |\n",
            "+------------+--------+------------+--------+------------+------------+\n",
            "| Training   |  0.351 |    75.967% |  0.895 |    64.955% | 0:00:03.03 |\n",
            "| Validation |  0.015 |   100.000% |  0.010 |    99.653% |            |\n",
            "+------------+--------+------------+--------+------------+------------+\n",
            "EPOCH: 175/200 saving best model...\n",
            "+------------+--------+------------+--------+------------+------------+\n",
            "| CATEGORY   | LOSS_1 | ACCURACY_1 | LOSS_2 | ACCURACY_2 |        ETA |\n",
            "+------------+--------+------------+--------+------------+------------+\n",
            "| Training   |  0.360 |    76.269% |  0.907 |    65.474% | 0:00:03.09 |\n",
            "| Validation |  0.014 |   100.000% |  0.009 |    99.653% |            |\n",
            "+------------+--------+------------+--------+------------+------------+\n",
            "EPOCH: 176/200 saving best model...\n",
            "+------------+--------+------------+--------+------------+------------+\n",
            "| CATEGORY   | LOSS_1 | ACCURACY_1 | LOSS_2 | ACCURACY_2 |        ETA |\n",
            "+------------+--------+------------+--------+------------+------------+\n",
            "| Training   |  0.360 |    75.738% |  0.902 |    64.118% | 0:00:02.71 |\n",
            "| Validation |  0.012 |    99.913% |  0.014 |    99.554% |            |\n",
            "+------------+--------+------------+--------+------------+------------+\n",
            "EPOCH: 177/200 saving best model...\n",
            "+------------+--------+------------+--------+------------+------------+\n",
            "| CATEGORY   | LOSS_1 | ACCURACY_1 | LOSS_2 | ACCURACY_2 |        ETA |\n",
            "+------------+--------+------------+--------+------------+------------+\n",
            "| Training   |  0.358 |    76.723% |  0.924 |    63.352% | 0:00:02.71 |\n",
            "| Validation |  0.014 |   100.000% |  0.010 |    99.653% |            |\n",
            "+------------+--------+------------+--------+------------+------------+\n",
            "EPOCH: 178/200 saving best model...\n",
            "+------------+--------+------------+--------+------------+------------+\n",
            "| CATEGORY   | LOSS_1 | ACCURACY_1 | LOSS_2 | ACCURACY_2 |        ETA |\n",
            "+------------+--------+------------+--------+------------+------------+\n",
            "| Training   |  0.357 |    75.309% |  0.901 |    64.232% | 0:00:02.70 |\n",
            "| Validation |  0.014 |    99.913% |  0.009 |    99.653% |            |\n",
            "+------------+--------+------------+--------+------------+------------+\n",
            "EPOCH: 179/200 not saving...\n",
            "+------------+--------+------------+--------+------------+------------+\n",
            "| CATEGORY   | LOSS_1 | ACCURACY_1 | LOSS_2 | ACCURACY_2 |        ETA |\n",
            "+------------+--------+------------+--------+------------+------------+\n",
            "| Training   |  0.352 |    76.038% |  0.844 |    66.879% | 0:00:03.23 |\n",
            "| Validation |  0.021 |    99.913% |  0.011 |    99.479% |            |\n",
            "+------------+--------+------------+--------+------------+------------+\n",
            "EPOCH: 180/200 saving best model...\n",
            "+------------+--------+------------+--------+------------+------------+\n",
            "| CATEGORY   | LOSS_1 | ACCURACY_1 | LOSS_2 | ACCURACY_2 |        ETA |\n",
            "+------------+--------+------------+--------+------------+------------+\n",
            "| Training   |  0.383 |    74.277% |  0.862 |    65.770% | 0:00:02.85 |\n",
            "| Validation |  0.013 |    99.913% |  0.008 |    99.653% |            |\n",
            "+------------+--------+------------+--------+------------+------------+\n",
            "EPOCH: 181/200 saving best model...\n",
            "+------------+--------+------------+--------+------------+------------+\n",
            "| CATEGORY   | LOSS_1 | ACCURACY_1 | LOSS_2 | ACCURACY_2 |        ETA |\n",
            "+------------+--------+------------+--------+------------+------------+\n",
            "| Training   |  0.348 |    76.600% |  0.875 |    65.103% | 0:00:02.72 |\n",
            "| Validation |  0.012 |   100.000% |  0.010 |    99.479% |            |\n",
            "+------------+--------+------------+--------+------------+------------+\n",
            "EPOCH: 182/200 saving best model...\n",
            "+------------+--------+------------+--------+------------+------------+\n",
            "| CATEGORY   | LOSS_1 | ACCURACY_1 | LOSS_2 | ACCURACY_2 |        ETA |\n",
            "+------------+--------+------------+--------+------------+------------+\n",
            "| Training   |  0.363 |    76.513% |  0.886 |    65.295% | 0:00:02.71 |\n",
            "| Validation |  0.011 |    99.826% |  0.008 |    99.740% |            |\n",
            "+------------+--------+------------+--------+------------+------------+\n",
            "EPOCH: 183/200 saving best model...\n",
            "+------------+--------+------------+--------+------------+------------+\n",
            "| CATEGORY   | LOSS_1 | ACCURACY_1 | LOSS_2 | ACCURACY_2 |        ETA |\n",
            "+------------+--------+------------+--------+------------+------------+\n",
            "| Training   |  0.363 |    76.365% |  0.878 |    65.928% | 0:00:02.75 |\n",
            "| Validation |  0.011 |    99.913% |  0.009 |    99.467% |            |\n",
            "+------------+--------+------------+--------+------------+------------+\n",
            "EPOCH: 184/200 not saving...\n",
            "+------------+--------+------------+--------+------------+------------+\n",
            "| CATEGORY   | LOSS_1 | ACCURACY_1 | LOSS_2 | ACCURACY_2 |        ETA |\n",
            "+------------+--------+------------+--------+------------+------------+\n",
            "| Training   |  0.368 |    74.873% |  0.869 |    65.363% | 0:00:03.33 |\n",
            "| Validation |  0.013 |    99.913% |  0.017 |    99.554% |            |\n",
            "+------------+--------+------------+--------+------------+------------+\n",
            "EPOCH: 185/200 not saving...\n",
            "+------------+--------+------------+--------+------------+------------+\n",
            "| CATEGORY   | LOSS_1 | ACCURACY_1 | LOSS_2 | ACCURACY_2 |        ETA |\n",
            "+------------+--------+------------+--------+------------+------------+\n",
            "| Training   |  0.361 |    74.744% |  0.905 |    63.772% | 0:00:02.68 |\n",
            "| Validation |  0.016 |    99.913% |  0.012 |    99.554% |            |\n",
            "+------------+--------+------------+--------+------------+------------+\n",
            "EPOCH: 186/200 not saving...\n",
            "+------------+--------+------------+--------+------------+------------+\n",
            "| CATEGORY   | LOSS_1 | ACCURACY_1 | LOSS_2 | ACCURACY_2 |        ETA |\n",
            "+------------+--------+------------+--------+------------+------------+\n",
            "| Training   |  0.366 |    75.976% |  0.874 |    64.804% | 0:00:02.72 |\n",
            "| Validation |  0.015 |    99.913% |  0.011 |    99.554% |            |\n",
            "+------------+--------+------------+--------+------------+------------+\n",
            "EPOCH: 187/200 not saving...\n",
            "+------------+--------+------------+--------+------------+------------+\n",
            "| CATEGORY   | LOSS_1 | ACCURACY_1 | LOSS_2 | ACCURACY_2 |        ETA |\n",
            "+------------+--------+------------+--------+------------+------------+\n",
            "| Training   |  0.354 |    75.744% |  0.860 |    65.968% | 0:00:02.67 |\n",
            "| Validation |  0.013 |    99.740% |  0.010 |    99.554% |            |\n",
            "+------------+--------+------------+--------+------------+------------+\n",
            "EPOCH: 188/200 saving best model...\n",
            "+------------+--------+------------+--------+------------+------------+\n",
            "| CATEGORY   | LOSS_1 | ACCURACY_1 | LOSS_2 | ACCURACY_2 |        ETA |\n",
            "+------------+--------+------------+--------+------------+------------+\n",
            "| Training   |  0.368 |    75.173% |  0.834 |    67.191% | 0:00:02.94 |\n",
            "| Validation |  0.011 |    99.826% |  0.007 |    99.640% |            |\n",
            "+------------+--------+------------+--------+------------+------------+\n",
            "EPOCH: 189/200 not saving...\n",
            "+------------+--------+------------+--------+------------+------------+\n",
            "| CATEGORY   | LOSS_1 | ACCURACY_1 | LOSS_2 | ACCURACY_2 |        ETA |\n",
            "+------------+--------+------------+--------+------------+------------+\n",
            "| Training   |  0.366 |    74.818% |  0.878 |    65.613% | 0:00:03.11 |\n",
            "| Validation |  0.012 |    99.740% |  0.008 |    99.554% |            |\n",
            "+------------+--------+------------+--------+------------+------------+\n",
            "EPOCH: 190/200 saving best model...\n",
            "+------------+--------+------------+--------+------------+------------+\n",
            "| CATEGORY   | LOSS_1 | ACCURACY_1 | LOSS_2 | ACCURACY_2 |        ETA |\n",
            "+------------+--------+------------+--------+------------+------------+\n",
            "| Training   |  0.369 |    75.185% |  0.849 |    66.002% | 0:00:02.70 |\n",
            "| Validation |  0.010 |   100.000% |  0.009 |    99.554% |            |\n",
            "+------------+--------+------------+--------+------------+------------+\n",
            "EPOCH: 191/200 saving best model...\n",
            "+------------+--------+------------+--------+------------+------------+\n",
            "| CATEGORY   | LOSS_1 | ACCURACY_1 | LOSS_2 | ACCURACY_2 |        ETA |\n",
            "+------------+--------+------------+--------+------------+------------+\n",
            "| Training   |  0.351 |    76.989% |  0.897 |    63.797% | 0:00:02.68 |\n",
            "| Validation |  0.013 |   100.000% |  0.008 |    99.740% |            |\n",
            "+------------+--------+------------+--------+------------+------------+\n",
            "EPOCH: 192/200 saving best model...\n",
            "+------------+--------+------------+--------+------------+------------+\n",
            "| CATEGORY   | LOSS_1 | ACCURACY_1 | LOSS_2 | ACCURACY_2 |        ETA |\n",
            "+------------+--------+------------+--------+------------+------------+\n",
            "| Training   |  0.369 |    75.553% |  0.862 |    65.878% | 0:00:02.71 |\n",
            "| Validation |  0.012 |    99.913% |  0.008 |    99.740% |            |\n",
            "+------------+--------+------------+--------+------------+------------+\n",
            "EPOCH: 193/200 saving best model...\n",
            "+------------+--------+------------+--------+------------+------------+\n",
            "| CATEGORY   | LOSS_1 | ACCURACY_1 | LOSS_2 | ACCURACY_2 |        ETA |\n",
            "+------------+--------+------------+--------+------------+------------+\n",
            "| Training   |  0.358 |    76.322% |  0.862 |    66.246% | 0:00:03.16 |\n",
            "| Validation |  0.011 |    99.913% |  0.007 |    99.653% |            |\n",
            "+------------+--------+------------+--------+------------+------------+\n",
            "EPOCH: 194/200 saving best model...\n",
            "+------------+--------+------------+--------+------------+------------+\n",
            "| CATEGORY   | LOSS_1 | ACCURACY_1 | LOSS_2 | ACCURACY_2 |        ETA |\n",
            "+------------+--------+------------+--------+------------+------------+\n",
            "| Training   |  0.360 |    75.608% |  0.896 |    64.072% | 0:00:02.99 |\n",
            "| Validation |  0.011 |    99.913% |  0.006 |    99.740% |            |\n",
            "+------------+--------+------------+--------+------------+------------+\n",
            "EPOCH: 195/200 saving best model...\n",
            "+------------+--------+------------+--------+------------+------------+\n",
            "| CATEGORY   | LOSS_1 | ACCURACY_1 | LOSS_2 | ACCURACY_2 |        ETA |\n",
            "+------------+--------+------------+--------+------------+------------+\n",
            "| Training   |  0.363 |    75.195% |  0.877 |    64.983% | 0:00:02.68 |\n",
            "| Validation |  0.011 |    99.826% |  0.007 |    99.740% |            |\n",
            "+------------+--------+------------+--------+------------+------------+\n",
            "EPOCH: 196/200 saving best model...\n",
            "+------------+--------+------------+--------+------------+------------+\n",
            "| CATEGORY   | LOSS_1 | ACCURACY_1 | LOSS_2 | ACCURACY_2 |        ETA |\n",
            "+------------+--------+------------+--------+------------+------------+\n",
            "| Training   |  0.352 |    76.343% |  0.867 |    65.220% | 0:00:02.75 |\n",
            "| Validation |  0.010 |    99.740% |  0.007 |    99.653% |            |\n",
            "+------------+--------+------------+--------+------------+------------+\n",
            "EPOCH: 197/200 not saving...\n",
            "+------------+--------+------------+--------+------------+------------+\n",
            "| CATEGORY   | LOSS_1 | ACCURACY_1 | LOSS_2 | ACCURACY_2 |        ETA |\n",
            "+------------+--------+------------+--------+------------+------------+\n",
            "| Training   |  0.359 |    75.630% |  0.897 |    64.634% | 0:00:02.69 |\n",
            "| Validation |  0.012 |    99.913% |  0.010 |    99.467% |            |\n",
            "+------------+--------+------------+--------+------------+------------+\n",
            "EPOCH: 198/200 saving best model...\n",
            "+------------+--------+------------+--------+------------+------------+\n",
            "| CATEGORY   | LOSS_1 | ACCURACY_1 | LOSS_2 | ACCURACY_2 |        ETA |\n",
            "+------------+--------+------------+--------+------------+------------+\n",
            "| Training   |  0.357 |    75.506% |  0.926 |    63.281% | 0:00:03.38 |\n",
            "| Validation |  0.009 |    99.913% |  0.009 |    99.380% |            |\n",
            "+------------+--------+------------+--------+------------+------------+\n",
            "EPOCH: 199/200 saving best model...\n",
            "+------------+--------+------------+--------+------------+------------+\n",
            "| CATEGORY   | LOSS_1 | ACCURACY_1 | LOSS_2 | ACCURACY_2 |        ETA |\n",
            "+------------+--------+------------+--------+------------+------------+\n",
            "| Training   |  0.352 |    76.479% |  0.851 |    65.696% | 0:00:02.74 |\n",
            "| Validation |  0.011 |    99.913% |  0.008 |    99.554% |            |\n",
            "+------------+--------+------------+--------+------------+------------+\n",
            "EPOCH: 200/200 saving best model...\n",
            "+------------+--------+------------+--------+------------+------------+\n",
            "| CATEGORY   | LOSS_1 | ACCURACY_1 | LOSS_2 | ACCURACY_2 |        ETA |\n",
            "+------------+--------+------------+--------+------------+------------+\n",
            "| Training   |  0.348 |    76.600% |  0.863 |    65.381% | 0:00:02.70 |\n",
            "| Validation |  0.010 |    99.913% |  0.007 |    99.566% |            |\n",
            "+------------+--------+------------+--------+------------+------------+\n"
          ]
        }
      ]
    },
    {
      "cell_type": "markdown",
      "source": [
        "Let's check the training history of the model."
      ],
      "metadata": {
        "id": "xULXv0YPWorR"
      }
    },
    {
      "cell_type": "code",
      "source": [
        "print(\"----- TOTAL TRAINING TIME \")\n",
        "rows = [\n",
        "      [\"TOTAL EPOCHS\", f'{N_EPOCHS}'],\n",
        "      [\"LAST SAVED EPOCH\", f'{last_saved_epoch}'],\n",
        "      [\"TOTAL TRAINING TIME\", f'{hms_string(training_end-training_start)}']\n",
        "]\n",
        "tabulate_data(['', 'value'], rows, \"TOTAL TRAINING TIME\")"
      ],
      "metadata": {
        "colab": {
          "base_uri": "https://localhost:8080/"
        },
        "id": "yYimLm-JWtio",
        "outputId": "d436c1db-9bb1-4029-c641-5ed421ca0539"
      },
      "execution_count": 50,
      "outputs": [
        {
          "output_type": "stream",
          "name": "stdout",
          "text": [
            "----- TOTAL TRAINING TIME \n",
            "+---------------------+------------+\n",
            "|                     |      value |\n",
            "+---------------------+------------+\n",
            "| TOTAL EPOCHS        |        200 |\n",
            "| LAST SAVED EPOCH    |        199 |\n",
            "| TOTAL TRAINING TIME | 0:09:39.39 |\n",
            "+---------------------+------------+\n"
          ]
        }
      ]
    },
    {
      "cell_type": "markdown",
      "source": [
        "### Evaluating the best model.\n",
        "In the following code cell we are going to evaluate the best model using on the `test` data as follows:"
      ],
      "metadata": {
        "id": "Tt6w6iSNhBsN"
      }
    },
    {
      "cell_type": "code",
      "source": [
        "columns = [\"CATEGORY\", \"LOSS_1\", \"ACCURACY_1\", \"LOSS_2\", \"ACCURACY_2\", \"ETA\"]\n",
        "hsp_model.load_state_dict(torch.load(MODEL_NAME))\n",
        "test_loss_1, test_acc_1, test_loss_2, test_acc_2 = evaluate(hsp_model, test_loader, criterion1, criterion2)\n",
        "title = \"Model Evaluation Summary\"\n",
        "data_rows = [[\"Test\", f'{test_loss_1:.3f}', f'{test_acc_1 * 100:.2f}%', f'{test_loss_2:.3f}', f'{test_acc_2 * 100:.2f}%', \"\"]]\n",
        "\n",
        "tabulate_data(columns, data_rows, title)"
      ],
      "metadata": {
        "colab": {
          "base_uri": "https://localhost:8080/"
        },
        "id": "pjI79Ryhg0oz",
        "outputId": "d87a7980-a639-4ca4-ccdd-1606135ce464"
      },
      "execution_count": 51,
      "outputs": [
        {
          "output_type": "stream",
          "name": "stdout",
          "text": [
            "+----------+--------+------------+--------+------------+-----+\n",
            "| CATEGORY | LOSS_1 | ACCURACY_1 | LOSS_2 | ACCURACY_2 | ETA |\n",
            "+----------+--------+------------+--------+------------+-----+\n",
            "| Test     |  0.010 |     99.83% |  0.011 |     99.50% |     |\n",
            "+----------+--------+------------+--------+------------+-----+\n"
          ]
        }
      ]
    },
    {
      "cell_type": "markdown",
      "source": [
        "Let's visualize the training history of the model. In the following code cell we are going to plot line graphs of the losses and accuracy for all the labels."
      ],
      "metadata": {
        "id": "Dn8HAaNQX58T"
      }
    },
    {
      "cell_type": "code",
      "source": [
        "epochs = np.arange(1, N_EPOCHS + 1)\n",
        "plt.plot(epochs, train_losses_1, label=\"label_train_loss\")\n",
        "plt.plot(epochs, train_losses_2, label=\"stress_type_train_loss\")\n",
        "plt.plot(epochs, val_losses_1, label=\"label_val_loss\")\n",
        "plt.plot(epochs, val_losses_2, label=\"stress_type_val_loss\")\n",
        "\n",
        "plt.plot(epochs, train_accuracies_1, label=\"label_train_acc\")\n",
        "plt.plot(epochs, train_accuracies_2, label=\"stress_type_train_acc\")\n",
        "plt.plot(epochs, val_accuracies_1, label=\"label_val_acc\")\n",
        "plt.plot(epochs, val_accuracies_2, label=\"stress_type_val_acc\")\n",
        "\n",
        "plt.title(\"MODEL TRAINING HISTORY\", color=\"k\", fontsize=12)\n",
        "plt.legend()\n",
        "plt.xlabel(\"epochs\", fontsize=12)\n",
        "plt.show()"
      ],
      "metadata": {
        "colab": {
          "base_uri": "https://localhost:8080/",
          "height": 476
        },
        "id": "lnJMStwHYJg4",
        "outputId": "60ebb1fc-e7d2-4c42-9993-f84ed6062ad9"
      },
      "execution_count": 52,
      "outputs": [
        {
          "output_type": "display_data",
          "data": {
            "text/plain": [
              "<Figure size 640x480 with 1 Axes>"
            ],
            "image/png": "[encoded data removed]"
          },
          "metadata": {}
        }
      ]
    },
    {
      "cell_type": "markdown",
      "source": [
        "### Model Inference\n",
        "In the following code cell we are going to make predictions with the best model. We will have the function called `inference_preprocess_text` which is a function that process the text for inference."
      ],
      "metadata": {
        "id": "KwHVSqWqhRDP"
      }
    },
    {
      "cell_type": "code",
      "source": [
        "def inference_preprocess_text(text, max_len=100, padding=\"pre\"):\n",
        "  assert padding==\"pre\" or padding==\"post\", \"the padding can be either pre or post\"\n",
        "  text_holder = torch.zeros(max_len, dtype=torch.int32) # fixed size tensor of max_len with  = 0\n",
        "  processed_text = torch.tensor(text_pipeline(text), dtype=torch.int32)\n",
        "  pos = min(max_len, len(processed_text))\n",
        "  if padding == \"pre\":\n",
        "    text_holder[:pos] = processed_text[:pos]\n",
        "  else:\n",
        "    text_holder[-pos:] = processed_text[-pos:]\n",
        "  text_list= text_holder.unsqueeze(dim=0)\n",
        "  return text_list"
      ],
      "metadata": {
        "id": "b92dGb5-hI_I"
      },
      "execution_count": 53,
      "outputs": []
    },
    {
      "cell_type": "markdown",
      "source": [
        "### Predicting Diseases\n",
        "\n",
        "In the following code cell we are going to create a function that will be able to detect `stress` in textual data and also detemine the stress type that is detected in that text."
      ],
      "metadata": {
        "id": "zmvxwzw8hp35"
      }
    },
    {
      "cell_type": "code",
      "source": [
        "\n",
        "class Label:\n",
        "  def __init__(self, label: str, labelId: int, confidence: float):\n",
        "    self.label = label\n",
        "    self.labelId = labelId\n",
        "    self.confidence = confidence\n",
        "\n",
        "  def __repr__(self) -> str:\n",
        "    return f\"[HSP Preciction: {self.label}]\"\n",
        "\n",
        "  def __str__(self) -> str:\n",
        "    return f\"[HSP Preciction: {self.label}]\"\n",
        "\n",
        "  def to_json(self):\n",
        "    return {\n",
        "        'label':  self.label,\n",
        "        'labelId':  self.labelId,\n",
        "        'confidence':  self.confidence,\n",
        "    }\n",
        "\n",
        "\n",
        "class Prediction:\n",
        "  def __init__(self, text: str, label: Label, _type: Label):\n",
        "    self.text = text\n",
        "    self.label = label\n",
        "    self._type = _type\n",
        "\n",
        "  def __repr__(self) -> str:\n",
        "    return f\"[HSP Preciction: {self.label.label} - {self._type.label}]\"\n",
        "\n",
        "  def __str__(self) -> str:\n",
        "    return f\"[HSP Preciction: {self.label.label} - {self._type.label}]\"\n",
        "\n",
        "  def to_json(self):\n",
        "    return {\n",
        "        'text':  self.text,\n",
        "        '_type':  self._type.to_json(),\n",
        "        'label':  self.label.to_json(),\n",
        "    }"
      ],
      "metadata": {
        "id": "INOb_R2XhozJ"
      },
      "execution_count": 54,
      "outputs": []
    },
    {
      "cell_type": "code",
      "source": [
        "dataset[0]"
      ],
      "metadata": {
        "colab": {
          "base_uri": "https://localhost:8080/"
        },
        "id": "OUUudk7nhW3s",
        "outputId": "84aeeade-ffa7-4018-b1c6-46f809c2151b"
      },
      "execution_count": 55,
      "outputs": [
        {
          "output_type": "execute_result",
          "data": {
            "text/plain": [
              "(\"trauma changed the trajectory of my life. but i don't know if i would feel this way about my options if i wasn't anxious and wounded. my ex and i broke up because he never liked to leave the house, even for daytime activities. i wonder sometimes how i am going to feel when i hit middle age. am i going to feel like i do now?\",\n",
              " 'stressed',\n",
              " 'survivors of abuse')"
            ]
          },
          "metadata": {},
          "execution_count": 55
        }
      ]
    },
    {
      "cell_type": "code",
      "source": [
        "def predict_stress(model, sentence, device): \n",
        "  model.eval()\n",
        "  with torch.no_grad():\n",
        "    tensor = inference_preprocess_text(sentence.lower()).to(device)\n",
        "    length = torch.tensor([len(t) for t in tensor])\n",
        "    out_1, out_2 = model(tensor, length)\n",
        "    out_1, out_2 = torch.sigmoid(out_1.squeeze(0)), torch.softmax(out_2.squeeze(0), dim=0)\n",
        "\n",
        "    prediction_1 = torch.round(out_1)\n",
        "    prediction_2 = torch.argmax(out_2)\n",
        "\n",
        "    prediction_1 = prediction_1.detach().cpu().item()\n",
        "    prediction_2 = prediction_2.detach().cpu().item()\n",
        "\n",
        "    stresses_types = {v:k for k, v in stress_type_labels.items()}\n",
        "    labels_ = {v:k for k, v in labels_dict.items()}\n",
        "\n",
        "    label_2 = stresses_types[prediction_2]\n",
        "    label_1 = labels_[prediction_1]\n",
        "      \n",
        "    _label_1 = Label(label_1, int(prediction_1), float(round(1 - prediction_1 if prediction_1 < 0.5 else prediction_1, 2)))\n",
        "    _label_2 = Label(label_2, int(prediction_2), float(round(out_2[prediction_2].item(), 2)))\n",
        "    return Prediction(\n",
        "        sentence.lower(), _label_1, _label_2\n",
        "    )\n",
        "\n",
        "predict_stress(hsp_model, dataset[0][0], device)"
      ],
      "metadata": {
        "id": "O3Nk45oOijTX",
        "colab": {
          "base_uri": "https://localhost:8080/"
        },
        "outputId": "92f51f0d-c8d6-42d7-d921-1205614fee2c"
      },
      "execution_count": 56,
      "outputs": [
        {
          "output_type": "execute_result",
          "data": {
            "text/plain": [
              "[HSP Preciction: stressed - survivors of abuse]"
            ]
          },
          "metadata": {},
          "execution_count": 56
        }
      ]
    },
    {
      "cell_type": "markdown",
      "source": [
        "### Downloading the model.\n",
        "We are going to download the model"
      ],
      "metadata": {
        "id": "hZ1w-3vTlkXH"
      }
    },
    {
      "cell_type": "code",
      "source": [
        "files.download(MODEL_NAME)"
      ],
      "metadata": {
        "colab": {
          "base_uri": "https://localhost:8080/",
          "height": 17
        },
        "id": "S0Yn_GM3llLp",
        "outputId": "8cb35c09-1033-4334-a445-ad14b73f27f5"
      },
      "execution_count": 57,
      "outputs": [
        {
          "output_type": "display_data",
          "data": {
            "text/plain": [
              "<IPython.core.display.Javascript object>"
            ],
            "application/javascript": [
              "\n",
              "    async function download(id, filename, size) {\n",
              "      if (!google.colab.kernel.accessAllowed) {\n",
              "        return;\n",
              "      }\n",
              "      const div = document.createElement('div');\n",
              "      const label = document.createElement('label');\n",
              "      label.textContent = `Downloading \"${filename}\": `;\n",
              "      div.appendChild(label);\n",
              "      const progress = document.createElement('progress');\n",
              "      progress.max = size;\n",
              "      div.appendChild(progress);\n",
              "      document.body.appendChild(div);\n",
              "\n",
              "      const buffers = [];\n",
              "      let downloaded = 0;\n",
              "\n",
              "      const channel = await google.colab.kernel.comms.open(id);\n",
              "      // Send a message to notify the kernel that we're ready.\n",
              "      channel.send({})\n",
              "\n",
              "      for await (const message of channel.messages) {\n",
              "        // Send a message to notify the kernel that we're ready.\n",
              "        channel.send({})\n",
              "        if (message.buffers) {\n",
              "          for (const buffer of message.buffers) {\n",
              "            buffers.push(buffer);\n",
              "            downloaded += buffer.byteLength;\n",
              "            progress.value = downloaded;\n",
              "          }\n",
              "        }\n",
              "      }\n",
              "      const blob = new Blob(buffers, {type: 'application/binary'});\n",
              "      const a = document.createElement('a');\n",
              "      a.href = window.URL.createObjectURL(blob);\n",
              "      a.download = filename;\n",
              "      div.appendChild(a);\n",
              "      a.click();\n",
              "      div.remove();\n",
              "    }\n",
              "  "
            ]
          },
          "metadata": {}
        },
        {
          "output_type": "display_data",
          "data": {
            "text/plain": [
              "<IPython.core.display.Javascript object>"
            ],
            "application/javascript": [
              "download(\"download_8b872b27-8f5c-4b91-b003-084d28c50fe1\", \"hsp_model.pt\", 12334111)"
            ]
          },
          "metadata": {}
        }
      ]
    }
  ]
}