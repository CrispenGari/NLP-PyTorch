{
  "nbformat": 4,
  "nbformat_minor": 0,
  "metadata": {
    "colab": {
      "name": "06_Questions_Classification_2_labels_Fast_Text.ipynb",
      "provenance": [],
      "collapsed_sections": []
    },
    "kernelspec": {
      "name": "python3",
      "display_name": "Python 3"
    },
    "language_info": {
      "name": "python"
    },
    "accelerator": "GPU"
  },
  "cells": [
    {
      "cell_type": "markdown",
      "metadata": {
        "id": "gwFkL0ZK1L-X"
      },
      "source": [
        "### Questions Classification Custom dataset and modified `FastText`.\n",
        "\n",
        "In the previous notebook we looked at how we can do question classification with two labels using packed padded sequences and RNN. This time we are going to use [this notebook](https://github.com/CrispenGari/nlp-pytorch/blob/main/04_Questions_Cassification/02_Questions_Classification_FastText.ipynb) as the base of our `FastText` implementation\n",
        "\n",
        "The notebook will remain the same, Where there's a change i will highlight"
      ]
    },
    {
      "cell_type": "markdown",
      "metadata": {
        "id": "dl1NzpCf2rlk"
      },
      "source": [
        "### Data preparation using torchtext.\n",
        "\n",
        "In this notebook we are not going to prepare the data, because it has already been prepared for us in file. What we are going to do is to load the data.\n"
      ]
    },
    {
      "cell_type": "code",
      "metadata": {
        "colab": {
          "base_uri": "https://localhost:8080/"
        },
        "id": "b5bfB7PC1HRJ",
        "outputId": "7b790509-f2d9-41a3-f2b9-af3695d17b7a"
      },
      "source": [
        "from google.colab import drive\n",
        "drive.mount('/content/drive')"
      ],
      "execution_count": 1,
      "outputs": [
        {
          "output_type": "stream",
          "text": [
            "Drive already mounted at /content/drive; to attempt to forcibly remount, call drive.mount(\"/content/drive\", force_remount=True).\n"
          ],
          "name": "stdout"
        }
      ]
    },
    {
      "cell_type": "markdown",
      "metadata": {
        "id": "JpcZ-TG63VID"
      },
      "source": [
        "### Imports"
      ]
    },
    {
      "cell_type": "code",
      "metadata": {
        "colab": {
          "base_uri": "https://localhost:8080/",
          "height": 35
        },
        "id": "qpE80WdY3TgV",
        "outputId": "a6621fb8-c069-4c36-d794-8661e4c145b8"
      },
      "source": [
        "import time\n",
        "from prettytable import PrettyTable\n",
        "import numpy as np\n",
        "from matplotlib import pyplot as plt\n",
        "import pandas as pd\n",
        "\n",
        "import torch, os, random\n",
        "from torch import nn\n",
        "import torch.nn.functional as F\n",
        "\n",
        "torch.__version__"
      ],
      "execution_count": 2,
      "outputs": [
        {
          "output_type": "execute_result",
          "data": {
            "application/vnd.google.colaboratory.intrinsic+json": {
              "type": "string"
            },
            "text/plain": [
              "'1.9.0+cu102'"
            ]
          },
          "metadata": {
            "tags": []
          },
          "execution_count": 2
        }
      ]
    },
    {
      "cell_type": "markdown",
      "metadata": {
        "id": "aAkhI0Ns3wiU"
      },
      "source": [
        "### Setting up the seeds"
      ]
    },
    {
      "cell_type": "code",
      "metadata": {
        "id": "GwYV_hrz3sSB"
      },
      "source": [
        "SEED = 42\n",
        "\n",
        "np.random.seed(SEED)\n",
        "random.seed(SEED)\n",
        "torch.manual_seed(SEED)\n",
        "torch.cuda.manual_seed(SEED)\n",
        "torch.backends.cudnn.deteministic = True"
      ],
      "execution_count": 3,
      "outputs": []
    },
    {
      "cell_type": "markdown",
      "metadata": {
        "id": "QlPBQXKmGEFk"
      },
      "source": [
        "### File names"
      ]
    },
    {
      "cell_type": "code",
      "metadata": {
        "id": "iBBoZ8MqGsGR"
      },
      "source": [
        "train_path_json = 'train.json'\n",
        "test_path_json = 'test.json'\n",
        "val_path_json = 'val.json'"
      ],
      "execution_count": 4,
      "outputs": []
    },
    {
      "cell_type": "markdown",
      "metadata": {
        "id": "lp6yR3gwyddd"
      },
      "source": [
        "### Fast Text.\n",
        "Accoding to the `FastText` paper we need to generate `bigram`s for each sentence.\n",
        "\n",
        "We are going to create a function called `generate_bigram()` that will generate bigrams for us. We will pass this function to the `Text` field as the preprocessing function."
      ]
    },
    {
      "cell_type": "code",
      "metadata": {
        "colab": {
          "base_uri": "https://localhost:8080/"
        },
        "id": "VsCm8EXTyoBR",
        "outputId": "e5b080fa-d575-443f-baaa-12706dc967d0"
      },
      "source": [
        "def generate_bigrams(x):\n",
        "  n_grams = set(zip(*[x[i: ] for i in range(2)]))\n",
        "  for n_gram in n_grams:\n",
        "      x.append(' '.join(n_gram))\n",
        "  return x\n",
        "generate_bigrams(['What', 'is', 'the', 'meaning', \"of\", \"OCR\", \"in\", \"python\"])"
      ],
      "execution_count": 5,
      "outputs": [
        {
          "output_type": "execute_result",
          "data": {
            "text/plain": [
              "['What',\n",
              " 'is',\n",
              " 'the',\n",
              " 'meaning',\n",
              " 'of',\n",
              " 'OCR',\n",
              " 'in',\n",
              " 'python',\n",
              " 'OCR in',\n",
              " 'in python',\n",
              " 'of OCR',\n",
              " 'meaning of',\n",
              " 'is the',\n",
              " 'What is',\n",
              " 'the meaning']"
            ]
          },
          "metadata": {
            "tags": []
          },
          "execution_count": 5
        }
      ]
    },
    {
      "cell_type": "markdown",
      "metadata": {
        "id": "i7YMbs8a43jD"
      },
      "source": [
        "### Creating the Fields.\n",
        "\n",
        "We don't need to pass arg `include_lengths` to `True` this time around."
      ]
    },
    {
      "cell_type": "code",
      "metadata": {
        "id": "7_xUMByB5tGa"
      },
      "source": [
        "from torchtext.legacy import data"
      ],
      "execution_count": 6,
      "outputs": []
    },
    {
      "cell_type": "code",
      "metadata": {
        "id": "_RaqW-b-4lJJ"
      },
      "source": [
        "TEXT = data.Field(\n",
        "   tokenize=\"spacy\",\n",
        "   preprocessing = generate_bigrams,\n",
        "  tokenizer_language = 'en_core_web_sm',\n",
        ")\n",
        "LABEL_1 = data.LabelField()\n",
        "LABEL_2 = data.LabelField()"
      ],
      "execution_count": 7,
      "outputs": []
    },
    {
      "cell_type": "code",
      "metadata": {
        "id": "OugU18S_7tAS"
      },
      "source": [
        "fields = {\n",
        "  \"Questions\": ('text', TEXT),\n",
        "  \"Category1\": ('label_1', LABEL_1),\n",
        "  \"Category2\":('label_2', LABEL_2),\n",
        "}"
      ],
      "execution_count": 8,
      "outputs": []
    },
    {
      "cell_type": "markdown",
      "metadata": {
        "id": "JiNOBqFO8pyo"
      },
      "source": [
        "### Creating the dataset.\n",
        "\n",
        "We ar going to use the `TabularDataset.split()` to create the datasets."
      ]
    },
    {
      "cell_type": "code",
      "metadata": {
        "id": "GAgiWOoh8mWO"
      },
      "source": [
        "files_path = '/content/drive/MyDrive/NLP Data/questions-classification/pytorch'\n",
        "train_data, val_data, test_data = data.TabularDataset.splits(\n",
        "   files_path,\n",
        "   train=train_path_json,\n",
        "   test= test_path_json,\n",
        "   validation= val_path_json,\n",
        "   format = \"json\",\n",
        "   fields=fields\n",
        ")"
      ],
      "execution_count": 9,
      "outputs": []
    },
    {
      "cell_type": "code",
      "metadata": {
        "colab": {
          "base_uri": "https://localhost:8080/"
        },
        "id": "1f4YEu-fQ1WK",
        "outputId": "53941a38-79ba-4ee7-82a9-2d35eea50617"
      },
      "source": [
        "len(train_data), len(test_data), len(val_data)"
      ],
      "execution_count": 10,
      "outputs": [
        {
          "output_type": "execute_result",
          "data": {
            "text/plain": [
              "(5179, 28, 245)"
            ]
          },
          "metadata": {
            "tags": []
          },
          "execution_count": 10
        }
      ]
    },
    {
      "cell_type": "code",
      "metadata": {
        "colab": {
          "base_uri": "https://localhost:8080/"
        },
        "id": "AZ1oWIQW9KWn",
        "outputId": "99e452d9-9b45-406c-a4ec-538e2cb7da50"
      },
      "source": [
        "print(vars(train_data.examples[0]))"
      ],
      "execution_count": 11,
      "outputs": [
        {
          "output_type": "stream",
          "text": [
            "{'text': ['What', 'is', 'the', 'name', 'of', 'Miss', 'India', '1994', '?', 'name of', '1994 ?', 'of Miss', 'Miss India', 'India 1994', 'is the', 'What is', 'the name'], 'label_1': 'HUM', 'label_2': 'ind'}\n"
          ],
          "name": "stdout"
        }
      ]
    },
    {
      "cell_type": "markdown",
      "metadata": {
        "id": "3t-0JC1U-l73"
      },
      "source": [
        "### Building the Vocabulary and Loading the `pretrained` word vectors.\n",
        "\n",
        "We are going to use the `glove.6B.100d` word vectors which was trained with 6 billion words and each word is a 100 dimesional vector.\n",
        "\n",
        "**Note** We should only build the vocabulary on the `train` dataset only."
      ]
    },
    {
      "cell_type": "code",
      "metadata": {
        "id": "b4p3m1_--WYU"
      },
      "source": [
        "MAX_VOCAB_SIZE = 100_000_000\n",
        "\n",
        "TEXT.build_vocab(\n",
        "    train_data,\n",
        "     max_size = MAX_VOCAB_SIZE,\n",
        "    vectors = \"glove.6B.100d\",\n",
        "    unk_init = torch.Tensor.normal_\n",
        ")\n",
        "LABEL_1.build_vocab(train_data)\n",
        "LABEL_2.build_vocab(train_data)\n"
      ],
      "execution_count": 12,
      "outputs": []
    },
    {
      "cell_type": "markdown",
      "metadata": {
        "id": "fF6qioSVHWMw"
      },
      "source": [
        "### Checking the labels"
      ]
    },
    {
      "cell_type": "code",
      "metadata": {
        "colab": {
          "base_uri": "https://localhost:8080/"
        },
        "id": "k4faA0_LHZA3",
        "outputId": "c70b0a4e-1e82-4e94-bdd4-9150c7533a30"
      },
      "source": [
        "print(\"************************ FIRST LABELS ********************************\")\n",
        "print(LABEL_1.vocab.stoi)\n",
        "print(\"************************ SECOND LABELS ********************************\")\n",
        "print(LABEL_2.vocab.stoi)"
      ],
      "execution_count": 13,
      "outputs": [
        {
          "output_type": "stream",
          "text": [
            "************************ FIRST LABELS ********************************\n",
            "defaultdict(None, {'ENTY': 0, 'HUM': 1, 'DESC': 2, 'NUM': 3, 'LOC': 4, 'ABBR': 5})\n",
            "************************ SECOND LABELS ********************************\n",
            "defaultdict(None, {'ind': 0, 'other': 1, 'def': 2, 'count': 3, 'desc': 4, 'manner': 5, 'cremat': 6, 'date': 7, 'gr': 8, 'reason': 9, 'country': 10, 'city': 11, 'animal': 12, 'food': 13, 'dismed': 14, 'termeq': 15, 'period': 16, 'money': 17, 'exp': 18, 'state': 19, 'sport': 20, 'event': 21, 'product': 22, 'substance': 23, 'techmeth': 24, 'color': 25, 'dist': 26, 'perc': 27, 'veh': 28, 'word': 29, 'title': 30, 'mount': 31, 'body': 32, 'abb': 33, 'lang': 34, 'volsize': 35, 'plant': 36, 'symbol': 37, 'instru': 38, 'weight': 39, 'code': 40, 'letter': 41, 'speed': 42, 'temp': 43, 'ord': 44, 'currency': 45, 'religion': 46})\n"
          ],
          "name": "stdout"
        }
      ]
    },
    {
      "cell_type": "markdown",
      "metadata": {
        "id": "yFukx38W_aNv"
      },
      "source": [
        "### Device."
      ]
    },
    {
      "cell_type": "code",
      "metadata": {
        "colab": {
          "base_uri": "https://localhost:8080/"
        },
        "id": "MYPGTIZ7_Zet",
        "outputId": "a76e02a9-453c-41f9-84b4-88bb5c14979e"
      },
      "source": [
        "device = torch.device('cuda' if torch.cuda.is_available() else 'cpu')\n",
        "device"
      ],
      "execution_count": 14,
      "outputs": [
        {
          "output_type": "execute_result",
          "data": {
            "text/plain": [
              "device(type='cuda')"
            ]
          },
          "metadata": {
            "tags": []
          },
          "execution_count": 14
        }
      ]
    },
    {
      "cell_type": "markdown",
      "metadata": {
        "id": "eaCMz4yZ_n5W"
      },
      "source": [
        "### Creating iterators.\n",
        "\n",
        "We are going to use our favorite iterator known as the `BucketIterator` to create iterators for all the sets that we have."
      ]
    },
    {
      "cell_type": "code",
      "metadata": {
        "id": "GPDrPFKQ_mf1"
      },
      "source": [
        "sort_key = lambda x: len(x.text)\n",
        "\n",
        "BATCH_SIZE = 128\n",
        "\n",
        "train_iter, val_iter, test_iter = data.BucketIterator.splits(\n",
        "    (train_data, val_data, test_data),\n",
        "    device = device,\n",
        "    batch_size = BATCH_SIZE,\n",
        "    sort_key = sort_key,\n",
        ")"
      ],
      "execution_count": 15,
      "outputs": []
    },
    {
      "cell_type": "markdown",
      "metadata": {
        "id": "spZX8zodA91F"
      },
      "source": [
        "### Creating the Model."
      ]
    },
    {
      "cell_type": "code",
      "metadata": {
        "id": "ReThGRspA7uO"
      },
      "source": [
        "class QuestionsFastText(nn.Module):\n",
        "  def __init__(self, \n",
        "               vocab_size,\n",
        "               embedding_size,\n",
        "               output_dim_1,\n",
        "               output_dim_2,\n",
        "               pad_index,\n",
        "               dropout = .5\n",
        "               ):\n",
        "    super(QuestionsFastText, self).__init__()\n",
        "    self.embedding = nn.Embedding(\n",
        "        vocab_size,\n",
        "        embedding_size,\n",
        "        padding_idx = pad_index\n",
        "    )\n",
        "    self.hidden_fc = nn.Linear(\n",
        "        embedding_size,\n",
        "        out_features = 256\n",
        "    )\n",
        "    self.out_1 = nn.Linear(\n",
        "        256,\n",
        "        out_features = output_dim_1\n",
        "    )\n",
        "    self.out_2 = nn.Linear(\n",
        "        256,\n",
        "        out_features = output_dim_2\n",
        "    )\n",
        "    self.dropout = nn.Dropout(dropout)\n",
        "  def forward(self, text):\n",
        "    embedded = self.embedding(text).permute(1 ,0, 2)\n",
        "    pooled = self.dropout(F.avg_pool2d(embedded,\n",
        "                         (embedded.shape[1], 1)\n",
        "                          ).squeeze(1))\n",
        "    hidden_fc = self.dropout(self.hidden_fc(pooled))\n",
        "\n",
        "    return self.out_1(hidden_fc), self.out_2(hidden_fc)"
      ],
      "execution_count": 16,
      "outputs": []
    },
    {
      "cell_type": "markdown",
      "metadata": {
        "id": "Z2IVtv8EDhJd"
      },
      "source": [
        "### Creating the model instance."
      ]
    },
    {
      "cell_type": "code",
      "metadata": {
        "colab": {
          "base_uri": "https://localhost:8080/"
        },
        "id": "RbJdW058DgTl",
        "outputId": "b877627f-2617-4521-fbb6-6653412f2da9"
      },
      "source": [
        "\n",
        "INPUT_DIM = len(TEXT.vocab)\n",
        "EMBEDDING_DIM = 100\n",
        "OUTPUT_DIM_1 =  len(LABEL_1.vocab)\n",
        "OUTPUT_DIM_2 =  len(LABEL_2.vocab)\n",
        "PAD_IDX = TEXT.vocab.stoi[TEXT.pad_token] \n",
        "\n",
        "questions_model = QuestionsFastText(\n",
        "            INPUT_DIM, \n",
        "            EMBEDDING_DIM, \n",
        "            OUTPUT_DIM_1, \n",
        "            OUTPUT_DIM_2,\n",
        "            pad_index = PAD_IDX\n",
        "            ).to(device)\n",
        "questions_model"
      ],
      "execution_count": 17,
      "outputs": [
        {
          "output_type": "execute_result",
          "data": {
            "text/plain": [
              "QuestionsFastText(\n",
              "  (embedding): Embedding(37259, 100, padding_idx=1)\n",
              "  (hidden_fc): Linear(in_features=100, out_features=256, bias=True)\n",
              "  (out_1): Linear(in_features=256, out_features=6, bias=True)\n",
              "  (out_2): Linear(in_features=256, out_features=47, bias=True)\n",
              "  (dropout): Dropout(p=0.5, inplace=False)\n",
              ")"
            ]
          },
          "metadata": {
            "tags": []
          },
          "execution_count": 17
        }
      ]
    },
    {
      "cell_type": "markdown",
      "metadata": {
        "id": "acQD-B6zEE72"
      },
      "source": [
        "### Model parameters"
      ]
    },
    {
      "cell_type": "code",
      "metadata": {
        "colab": {
          "base_uri": "https://localhost:8080/"
        },
        "id": "PQaztp4ID-HI",
        "outputId": "186c6532-31d2-4695-d70f-b209ea591bb3"
      },
      "source": [
        "\n",
        "def count_trainable_params(model):\n",
        "  return sum(p.numel() for p in model.parameters()), sum(p.numel() for p in model.parameters() if p.requires_grad)\n",
        "\n",
        "n_params, trainable_params = count_trainable_params(questions_model)\n",
        "print(f\"Total number of paramaters: {n_params:,}\\nTotal tainable parameters: {trainable_params:,}\")\n"
      ],
      "execution_count": 18,
      "outputs": [
        {
          "output_type": "stream",
          "text": [
            "Total number of paramaters: 3,765,377\n",
            "Total tainable parameters: 3,765,377\n"
          ],
          "name": "stdout"
        }
      ]
    },
    {
      "cell_type": "markdown",
      "metadata": {
        "id": "R8gjXny7EUNb"
      },
      "source": [
        "### Loading pretrained vextors to the embedding layer."
      ]
    },
    {
      "cell_type": "code",
      "metadata": {
        "id": "ULe__PiKEQS8"
      },
      "source": [
        "pretrained_embeddings  = TEXT.vocab.vectors"
      ],
      "execution_count": 19,
      "outputs": []
    },
    {
      "cell_type": "code",
      "metadata": {
        "colab": {
          "base_uri": "https://localhost:8080/"
        },
        "id": "ZeXa9ycREfuV",
        "outputId": "fcfb4280-5e97-4867-a401-cd8dbaecee99"
      },
      "source": [
        "questions_model.embedding.weight.data.copy_(pretrained_embeddings)"
      ],
      "execution_count": 20,
      "outputs": [
        {
          "output_type": "execute_result",
          "data": {
            "text/plain": [
              "tensor([[ 1.9269,  1.4873,  0.9007,  ...,  0.1233,  0.3499,  0.6173],\n",
              "        [ 0.7262,  0.0912, -0.3891,  ...,  0.0821,  0.4440, -0.7240],\n",
              "        [ 0.1638,  0.6046,  1.0789,  ..., -0.3140,  0.1844,  0.3624],\n",
              "        ...,\n",
              "        [ 1.4463, -1.1674, -0.2216,  ..., -1.6196, -0.6633,  1.1526],\n",
              "        [-0.8444, -0.5054,  0.2824,  ...,  1.2317, -0.8442,  0.2483],\n",
              "        [ 1.1007,  0.2795, -0.3990,  ..., -0.7641,  0.7015,  0.8293]],\n",
              "       device='cuda:0')"
            ]
          },
          "metadata": {
            "tags": []
          },
          "execution_count": 20
        }
      ]
    },
    {
      "cell_type": "markdown",
      "metadata": {
        "id": "Q27hKnrpEoKF"
      },
      "source": [
        "### Zeroing the `<pad>` and `<unk>` tokens."
      ]
    },
    {
      "cell_type": "code",
      "metadata": {
        "colab": {
          "base_uri": "https://localhost:8080/"
        },
        "id": "f_qvO2teEmvh",
        "outputId": "a0283249-52c1-495f-9d93-ae5968657c7f"
      },
      "source": [
        "UNK_IDX = TEXT.vocab.stoi[TEXT.unk_token] or TEXT.vocab.stoi[\"<unk>\"]\n",
        "questions_model.embedding.weight.data[UNK_IDX] = torch.zeros(EMBEDDING_DIM)\n",
        "questions_model.embedding.weight.data[PAD_IDX] = torch.zeros(EMBEDDING_DIM)\n",
        "questions_model.embedding.weight.data"
      ],
      "execution_count": 21,
      "outputs": [
        {
          "output_type": "execute_result",
          "data": {
            "text/plain": [
              "tensor([[ 0.0000,  0.0000,  0.0000,  ...,  0.0000,  0.0000,  0.0000],\n",
              "        [ 0.0000,  0.0000,  0.0000,  ...,  0.0000,  0.0000,  0.0000],\n",
              "        [ 0.1638,  0.6046,  1.0789,  ..., -0.3140,  0.1844,  0.3624],\n",
              "        ...,\n",
              "        [ 1.4463, -1.1674, -0.2216,  ..., -1.6196, -0.6633,  1.1526],\n",
              "        [-0.8444, -0.5054,  0.2824,  ...,  1.2317, -0.8442,  0.2483],\n",
              "        [ 1.1007,  0.2795, -0.3990,  ..., -0.7641,  0.7015,  0.8293]],\n",
              "       device='cuda:0')"
            ]
          },
          "metadata": {
            "tags": []
          },
          "execution_count": 21
        }
      ]
    },
    {
      "cell_type": "markdown",
      "metadata": {
        "id": "sm2RklTLE-Dv"
      },
      "source": [
        "### Loss and optimizer.\n",
        "For the loss we are going to create 2 loss functions. We are going to use the `Adam` as our optimizer."
      ]
    },
    {
      "cell_type": "code",
      "metadata": {
        "id": "r7UCyAlYE1nA"
      },
      "source": [
        "optimizer = torch.optim.Adam(questions_model.parameters())\n",
        "criterion_1 = nn.CrossEntropyLoss().to(device)\n",
        "criterion_2 = nn.CrossEntropyLoss().to(device)"
      ],
      "execution_count": 22,
      "outputs": []
    },
    {
      "cell_type": "markdown",
      "metadata": {
        "id": "Bi2tk-kSFTVq"
      },
      "source": [
        "### Accuracy function.\n",
        "We are going to create the `categorical_accuracy()` function that will calculate the categorical accuracy for predicted labels and actual labels.\n",
        "\n",
        "**Note**: this function will remain the same we are just going to reuse it."
      ]
    },
    {
      "cell_type": "code",
      "metadata": {
        "id": "XRCfQZvmFPBS"
      },
      "source": [
        "def categorical_accuracy(preds, y):\n",
        "  top_pred = preds.argmax(1, keepdim = True)\n",
        "  correct = top_pred.eq(y.view_as(top_pred)).sum()\n",
        "  return correct.float() / y.shape[0]"
      ],
      "execution_count": 23,
      "outputs": []
    },
    {
      "cell_type": "markdown",
      "metadata": {
        "id": "-Gf_nyXVFvOG"
      },
      "source": [
        "### Training and Evaluation functions.\n",
        "\n",
        "In the train and evaluate function we are going to change a lot of things. I will highlight the changes using comments."
      ]
    },
    {
      "cell_type": "code",
      "metadata": {
        "id": "80QEfQeaFuVZ"
      },
      "source": [
        "def train(model, iterator, optimizer, criterion_1, criterion_2):\n",
        "    \"\"\"\n",
        "    Losses and accuracy should be of different labels\n",
        "    \"\"\"\n",
        "    epoch_loss_1 = 0\n",
        "    epoch_acc_1 = 0\n",
        "    epoch_loss_2 = 0\n",
        "    epoch_acc_2 = 0\n",
        "\n",
        "    model.train()\n",
        "    for batch in iterator:\n",
        "        optimizer.zero_grad()\n",
        "        text = batch.text\n",
        "        \"\"\"\n",
        "        The model returns two predictions for different labels.\n",
        "        \"\"\"\n",
        "        predictions_1, predictions_2 = model(text)\n",
        "        predictions_1 = predictions_1.squeeze(1)\n",
        "        predictions_2 = predictions_2.squeeze(1)\n",
        "\n",
        "        \"\"\"\n",
        "        Get the loss for each label\n",
        "        \"\"\"\n",
        "        loss_1 = criterion_1(predictions_1, batch.label_1) # we are using label 1 to calculate the loss for the first label\n",
        "        loss_2 = criterion_2(predictions_2, batch.label_2) # we are using label 2 to calculate the loss for the first label\n",
        "\n",
        "        acc_1 = categorical_accuracy(predictions_1, batch.label_1) # accuracy for the first label\n",
        "        acc_2 = categorical_accuracy(predictions_2, batch.label_2) # accuracy for the first label\n",
        "        \n",
        "        \"\"\"\n",
        "        We have to sum the loss before back propagation\n",
        "        \"\"\"\n",
        "        loss = loss_1 + loss_2\n",
        "        loss.backward()\n",
        "        optimizer.step()\n",
        "        \"\"\"\n",
        "        ********* METRICS ************\n",
        "        \"\"\"\n",
        "        epoch_loss_1 += loss_1.item()\n",
        "        epoch_loss_2 += loss_2.item()\n",
        "        epoch_acc_1 += acc_1.item()\n",
        "        epoch_acc_2 += acc_2.item()\n",
        "    return epoch_loss_1 / len(iterator), epoch_loss_2 / len(iterator), epoch_acc_1 / len(iterator), epoch_acc_2/ len(iterator)\n",
        "\n",
        "\n",
        "def evaluate(model, iterator, criterion_1, criterion_2):\n",
        "    \"\"\"\n",
        "    Losses and accuracy should be of different labels\n",
        "    \"\"\"\n",
        "    epoch_loss_1 = 0\n",
        "    epoch_acc_1 = 0\n",
        "    epoch_loss_2 = 0\n",
        "    epoch_acc_2 = 0\n",
        "\n",
        "    model.eval()\n",
        "    with torch.no_grad():\n",
        "      for batch in iterator:\n",
        "          text = batch.text\n",
        "          \"\"\"\n",
        "          The model returns two predictions for different labels.\n",
        "          \"\"\"\n",
        "          predictions_1, predictions_2 = model(text)\n",
        "          predictions_1 = predictions_1.squeeze(1)\n",
        "          predictions_2 = predictions_2.squeeze(1)\n",
        "          \"\"\"\n",
        "          Get the loss for each label\n",
        "          \"\"\"\n",
        "          loss_1 = criterion_1(predictions_1, batch.label_1) # we are using label 1 to calculate the loss for the first label\n",
        "          loss_2 = criterion_2(predictions_2, batch.label_2) # we are using label 2 to calculate the loss for the first label\n",
        "\n",
        "          acc_1 = categorical_accuracy(predictions_1, batch.label_1) # accuracy for the first label\n",
        "          acc_2 = categorical_accuracy(predictions_2, batch.label_2) # accuracy for the first label\n",
        "          \"\"\"\n",
        "          ********* METRICS ************\n",
        "          \"\"\"\n",
        "          epoch_loss_1 += loss_1.item()\n",
        "          epoch_loss_2 += loss_2.item()\n",
        "          epoch_acc_1 += acc_1.item()\n",
        "          epoch_acc_2 += acc_2.item()\n",
        "    return epoch_loss_1 / len(iterator), epoch_loss_2 / len(iterator), epoch_acc_1 / len(iterator), epoch_acc_2/ len(iterator)"
      ],
      "execution_count": 24,
      "outputs": []
    },
    {
      "cell_type": "markdown",
      "metadata": {
        "id": "gdtkgFFJG1WS"
      },
      "source": [
        "### Training loop.\n",
        "We are going to create helper functions that will help us to visualize our training.\n",
        "\n",
        "1. Time to string"
      ]
    },
    {
      "cell_type": "code",
      "metadata": {
        "id": "yMH6iA1AG0tj"
      },
      "source": [
        "def hms_string(sec_elapsed):\n",
        "    h = int(sec_elapsed / (60 * 60))\n",
        "    m = int((sec_elapsed % (60 * 60)) / 60)\n",
        "    s = sec_elapsed % 60\n",
        "    return \"{}:{:>02}:{:>05.2f}\".format(h, m, s)\n",
        "    "
      ],
      "execution_count": 25,
      "outputs": []
    },
    {
      "cell_type": "markdown",
      "metadata": {
        "id": "kp5OjGiPHR6h"
      },
      "source": [
        "2. tabulate training epoch."
      ]
    },
    {
      "cell_type": "code",
      "metadata": {
        "id": "MtCTm84HHQb5"
      },
      "source": [
        "def visualize_training(start, end, train_loss_1, train_loss_2, train_accuracy_1, train_accuracy_2, \n",
        "                       val_loss_1, val_loss_2, val_accuracy_1, val_accuracy_2, title):\n",
        "  data = [\n",
        "       [\"Training\", f'{train_loss_1:.3f}',  f'{train_loss_2:.3f}', f'{train_accuracy_1:.3f}', f'{train_accuracy_2:.3f}', f\"{hms_string(end - start)}\" ],\n",
        "       [\"Validation\", f'{val_loss_1:.3f}', f'{val_loss_2:.3f}', f'{val_accuracy_1:.3f}', f'{val_accuracy_2:.3f}', \"\" ],       \n",
        "  ]\n",
        "  table = PrettyTable([\"CATEGORY\", \"LOSS_1\", \"LOSS_2\", \"ACCURACY_1\", \"ACCURACY_2\", \"ETA\"])\n",
        "  table.align[\"CATEGORY\"] = 'l'\n",
        "  table.align[\"ETA\"] = 'r'\n",
        "  table.align[\"LOSS_1\"] = 'r'\n",
        "  table.align[\"ACCURACY_1\"] = 'r'\n",
        "  table.align[\"LOSS_2\"] = 'r'\n",
        "  table.align[\"ACCURACY_2\"] = 'r'\n",
        "  table.title = title\n",
        "  for row in data:\n",
        "    table.add_row(row)\n",
        "  print(table)\n"
      ],
      "execution_count": 26,
      "outputs": []
    },
    {
      "cell_type": "code",
      "metadata": {
        "colab": {
          "base_uri": "https://localhost:8080/"
        },
        "id": "kcu_WMc2HXqb",
        "outputId": "44862e5e-7aac-47cb-a7a7-ff91103b9ab9"
      },
      "source": [
        "N_EPOCHS = 100\n",
        "best_valid_loss = float('inf')\n",
        "for epoch in range(N_EPOCHS):\n",
        "    start = time.time()\n",
        "\n",
        "    train_loss_1, train_loss_2, train_acc_1, train_acc_2 = train(questions_model, train_iter, \n",
        "                                                                 optimizer, criterion_1, criterion_2)\n",
        "    \n",
        "    valid_loss_1, valid_loss_2, valid_acc_1, valid_acc_2 = evaluate(questions_model, val_iter, \n",
        "                                                                    criterion_1, criterion_2)\n",
        "    title = f\"EPOCH: {epoch+1:02}/{N_EPOCHS:02} {'saving best model...' if valid_loss_2 < best_valid_loss else 'not saving...'}\"\n",
        "    \"\"\"\n",
        "    We are going to check for the validation loss of the second label with 47 \n",
        "    classes feel free to check on the loss you want during model saving\n",
        "    \"\"\"\n",
        "    if valid_loss_2 < best_valid_loss:\n",
        "        best_valid_loss = valid_loss_2\n",
        "        torch.save(questions_model.state_dict(), 'best-model.pt')\n",
        "    end = time.time()\n",
        "    visualize_training(start, end, train_loss_1, train_loss_2, train_acc_1, train_acc_2, \n",
        "                       valid_loss_1, valid_loss_2, valid_acc_1, valid_acc_2, title)\n"
      ],
      "execution_count": 27,
      "outputs": [
        {
          "output_type": "stream",
          "text": [
            "+---------------------------------------------------------------------+\n",
            "|                  EPOCH: 01/100 saving best model...                 |\n",
            "+------------+--------+--------+------------+------------+------------+\n",
            "| CATEGORY   | LOSS_1 | LOSS_2 | ACCURACY_1 | ACCURACY_2 |        ETA |\n",
            "+------------+--------+--------+------------+------------+------------+\n",
            "| Training   |  1.692 |  3.490 |      0.264 |      0.146 | 0:00:00.29 |\n",
            "| Validation |  1.617 |  3.100 |      0.324 |      0.165 |            |\n",
            "+------------+--------+--------+------------+------------+------------+\n",
            "+---------------------------------------------------------------------+\n",
            "|                  EPOCH: 02/100 saving best model...                 |\n",
            "+------------+--------+--------+------------+------------+------------+\n",
            "| CATEGORY   | LOSS_1 | LOSS_2 | ACCURACY_1 | ACCURACY_2 |        ETA |\n",
            "+------------+--------+--------+------------+------------+------------+\n",
            "| Training   |  1.578 |  3.038 |      0.362 |      0.201 | 0:00:00.45 |\n",
            "| Validation |  1.505 |  2.981 |      0.427 |      0.181 |            |\n",
            "+------------+--------+--------+------------+------------+------------+\n",
            "+---------------------------------------------------------------------+\n",
            "|                  EPOCH: 03/100 saving best model...                 |\n",
            "+------------+--------+--------+------------+------------+------------+\n",
            "| CATEGORY   | LOSS_1 | LOSS_2 | ACCURACY_1 | ACCURACY_2 |        ETA |\n",
            "+------------+--------+--------+------------+------------+------------+\n",
            "| Training   |  1.463 |  2.888 |      0.442 |      0.278 | 0:00:00.41 |\n",
            "| Validation |  1.337 |  2.738 |      0.468 |      0.280 |            |\n",
            "+------------+--------+--------+------------+------------+------------+\n",
            "+---------------------------------------------------------------------+\n",
            "|                  EPOCH: 04/100 saving best model...                 |\n",
            "+------------+--------+--------+------------+------------+------------+\n",
            "| CATEGORY   | LOSS_1 | LOSS_2 | ACCURACY_1 | ACCURACY_2 |        ETA |\n",
            "+------------+--------+--------+------------+------------+------------+\n",
            "| Training   |  1.324 |  2.697 |      0.509 |      0.341 | 0:00:00.42 |\n",
            "| Validation |  1.195 |  2.541 |      0.544 |      0.300 |            |\n",
            "+------------+--------+--------+------------+------------+------------+\n",
            "+---------------------------------------------------------------------+\n",
            "|                  EPOCH: 05/100 saving best model...                 |\n",
            "+------------+--------+--------+------------+------------+------------+\n",
            "| CATEGORY   | LOSS_1 | LOSS_2 | ACCURACY_1 | ACCURACY_2 |        ETA |\n",
            "+------------+--------+--------+------------+------------+------------+\n",
            "| Training   |  1.184 |  2.494 |      0.555 |      0.385 | 0:00:00.42 |\n",
            "| Validation |  1.083 |  2.383 |      0.606 |      0.320 |            |\n",
            "+------------+--------+--------+------------+------------+------------+\n",
            "+---------------------------------------------------------------------+\n",
            "|                  EPOCH: 06/100 saving best model...                 |\n",
            "+------------+--------+--------+------------+------------+------------+\n",
            "| CATEGORY   | LOSS_1 | LOSS_2 | ACCURACY_1 | ACCURACY_2 |        ETA |\n",
            "+------------+--------+--------+------------+------------+------------+\n",
            "| Training   |  1.068 |  2.333 |      0.604 |      0.411 | 0:00:00.42 |\n",
            "| Validation |  0.981 |  2.235 |      0.637 |      0.361 |            |\n",
            "+------------+--------+--------+------------+------------+------------+\n",
            "+---------------------------------------------------------------------+\n",
            "|                  EPOCH: 07/100 saving best model...                 |\n",
            "+------------+--------+--------+------------+------------+------------+\n",
            "| CATEGORY   | LOSS_1 | LOSS_2 | ACCURACY_1 | ACCURACY_2 |        ETA |\n",
            "+------------+--------+--------+------------+------------+------------+\n",
            "| Training   |  0.966 |  2.199 |      0.650 |      0.439 | 0:00:00.41 |\n",
            "| Validation |  0.897 |  2.117 |      0.703 |      0.406 |            |\n",
            "+------------+--------+--------+------------+------------+------------+\n",
            "+---------------------------------------------------------------------+\n",
            "|                  EPOCH: 08/100 saving best model...                 |\n",
            "+------------+--------+--------+------------+------------+------------+\n",
            "| CATEGORY   | LOSS_1 | LOSS_2 | ACCURACY_1 | ACCURACY_2 |        ETA |\n",
            "+------------+--------+--------+------------+------------+------------+\n",
            "| Training   |  0.873 |  2.066 |      0.677 |      0.460 | 0:00:00.42 |\n",
            "| Validation |  0.830 |  2.038 |      0.723 |      0.410 |            |\n",
            "+------------+--------+--------+------------+------------+------------+\n",
            "+---------------------------------------------------------------------+\n",
            "|                  EPOCH: 09/100 saving best model...                 |\n",
            "+------------+--------+--------+------------+------------+------------+\n",
            "| CATEGORY   | LOSS_1 | LOSS_2 | ACCURACY_1 | ACCURACY_2 |        ETA |\n",
            "+------------+--------+--------+------------+------------+------------+\n",
            "| Training   |  0.793 |  1.948 |      0.706 |      0.490 | 0:00:00.27 |\n",
            "| Validation |  0.787 |  1.971 |      0.728 |      0.438 |            |\n",
            "+------------+--------+--------+------------+------------+------------+\n",
            "+---------------------------------------------------------------------+\n",
            "|                  EPOCH: 10/100 saving best model...                 |\n",
            "+------------+--------+--------+------------+------------+------------+\n",
            "| CATEGORY   | LOSS_1 | LOSS_2 | ACCURACY_1 | ACCURACY_2 |        ETA |\n",
            "+------------+--------+--------+------------+------------+------------+\n",
            "| Training   |  0.733 |  1.873 |      0.745 |      0.508 | 0:00:00.28 |\n",
            "| Validation |  0.741 |  1.907 |      0.752 |      0.463 |            |\n",
            "+------------+--------+--------+------------+------------+------------+\n",
            "+---------------------------------------------------------------------+\n",
            "|                  EPOCH: 11/100 saving best model...                 |\n",
            "+------------+--------+--------+------------+------------+------------+\n",
            "| CATEGORY   | LOSS_1 | LOSS_2 | ACCURACY_1 | ACCURACY_2 |        ETA |\n",
            "+------------+--------+--------+------------+------------+------------+\n",
            "| Training   |  0.650 |  1.750 |      0.765 |      0.533 | 0:00:00.27 |\n",
            "| Validation |  0.703 |  1.840 |      0.772 |      0.491 |            |\n",
            "+------------+--------+--------+------------+------------+------------+\n",
            "+---------------------------------------------------------------------+\n",
            "|                  EPOCH: 12/100 saving best model...                 |\n",
            "+------------+--------+--------+------------+------------+------------+\n",
            "| CATEGORY   | LOSS_1 | LOSS_2 | ACCURACY_1 | ACCURACY_2 |        ETA |\n",
            "+------------+--------+--------+------------+------------+------------+\n",
            "| Training   |  0.610 |  1.696 |      0.785 |      0.540 | 0:00:00.29 |\n",
            "| Validation |  0.672 |  1.821 |      0.776 |      0.483 |            |\n",
            "+------------+--------+--------+------------+------------+------------+\n",
            "+---------------------------------------------------------------------+\n",
            "|                  EPOCH: 13/100 saving best model...                 |\n",
            "+------------+--------+--------+------------+------------+------------+\n",
            "| CATEGORY   | LOSS_1 | LOSS_2 | ACCURACY_1 | ACCURACY_2 |        ETA |\n",
            "+------------+--------+--------+------------+------------+------------+\n",
            "| Training   |  0.541 |  1.589 |      0.810 |      0.564 | 0:00:00.45 |\n",
            "| Validation |  0.638 |  1.756 |      0.788 |      0.524 |            |\n",
            "+------------+--------+--------+------------+------------+------------+\n",
            "+---------------------------------------------------------------------+\n",
            "|                  EPOCH: 14/100 saving best model...                 |\n",
            "+------------+--------+--------+------------+------------+------------+\n",
            "| CATEGORY   | LOSS_1 | LOSS_2 | ACCURACY_1 | ACCURACY_2 |        ETA |\n",
            "+------------+--------+--------+------------+------------+------------+\n",
            "| Training   |  0.508 |  1.528 |      0.823 |      0.579 | 0:00:00.41 |\n",
            "| Validation |  0.623 |  1.717 |      0.805 |      0.524 |            |\n",
            "+------------+--------+--------+------------+------------+------------+\n",
            "+---------------------------------------------------------------------+\n",
            "|                  EPOCH: 15/100 saving best model...                 |\n",
            "+------------+--------+--------+------------+------------+------------+\n",
            "| CATEGORY   | LOSS_1 | LOSS_2 | ACCURACY_1 | ACCURACY_2 |        ETA |\n",
            "+------------+--------+--------+------------+------------+------------+\n",
            "| Training   |  0.472 |  1.473 |      0.838 |      0.592 | 0:00:00.42 |\n",
            "| Validation |  0.587 |  1.693 |      0.796 |      0.536 |            |\n",
            "+------------+--------+--------+------------+------------+------------+\n",
            "+---------------------------------------------------------------------+\n",
            "|                  EPOCH: 16/100 saving best model...                 |\n",
            "+------------+--------+--------+------------+------------+------------+\n",
            "| CATEGORY   | LOSS_1 | LOSS_2 | ACCURACY_1 | ACCURACY_2 |        ETA |\n",
            "+------------+--------+--------+------------+------------+------------+\n",
            "| Training   |  0.422 |  1.401 |      0.847 |      0.612 | 0:00:00.41 |\n",
            "| Validation |  0.568 |  1.651 |      0.809 |      0.540 |            |\n",
            "+------------+--------+--------+------------+------------+------------+\n",
            "+---------------------------------------------------------------------+\n",
            "|                  EPOCH: 17/100 saving best model...                 |\n",
            "+------------+--------+--------+------------+------------+------------+\n",
            "| CATEGORY   | LOSS_1 | LOSS_2 | ACCURACY_1 | ACCURACY_2 |        ETA |\n",
            "+------------+--------+--------+------------+------------+------------+\n",
            "| Training   |  0.389 |  1.337 |      0.869 |      0.622 | 0:00:00.42 |\n",
            "| Validation |  0.569 |  1.610 |      0.805 |      0.556 |            |\n",
            "+------------+--------+--------+------------+------------+------------+\n",
            "+---------------------------------------------------------------------+\n",
            "|                  EPOCH: 18/100 saving best model...                 |\n",
            "+------------+--------+--------+------------+------------+------------+\n",
            "| CATEGORY   | LOSS_1 | LOSS_2 | ACCURACY_1 | ACCURACY_2 |        ETA |\n",
            "+------------+--------+--------+------------+------------+------------+\n",
            "| Training   |  0.354 |  1.262 |      0.880 |      0.642 | 0:00:00.42 |\n",
            "| Validation |  0.543 |  1.578 |      0.817 |      0.560 |            |\n",
            "+------------+--------+--------+------------+------------+------------+\n",
            "+---------------------------------------------------------------------+\n",
            "|                  EPOCH: 19/100 saving best model...                 |\n",
            "+------------+--------+--------+------------+------------+------------+\n",
            "| CATEGORY   | LOSS_1 | LOSS_2 | ACCURACY_1 | ACCURACY_2 |        ETA |\n",
            "+------------+--------+--------+------------+------------+------------+\n",
            "| Training   |  0.328 |  1.219 |      0.886 |      0.649 | 0:00:00.41 |\n",
            "| Validation |  0.538 |  1.552 |      0.821 |      0.564 |            |\n",
            "+------------+--------+--------+------------+------------+------------+\n",
            "+---------------------------------------------------------------------+\n",
            "|                  EPOCH: 20/100 saving best model...                 |\n",
            "+------------+--------+--------+------------+------------+------------+\n",
            "| CATEGORY   | LOSS_1 | LOSS_2 | ACCURACY_1 | ACCURACY_2 |        ETA |\n",
            "+------------+--------+--------+------------+------------+------------+\n",
            "| Training   |  0.302 |  1.164 |      0.898 |      0.669 | 0:00:00.26 |\n",
            "| Validation |  0.539 |  1.526 |      0.820 |      0.572 |            |\n",
            "+------------+--------+--------+------------+------------+------------+\n",
            "+---------------------------------------------------------------------+\n",
            "|                  EPOCH: 21/100 saving best model...                 |\n",
            "+------------+--------+--------+------------+------------+------------+\n",
            "| CATEGORY   | LOSS_1 | LOSS_2 | ACCURACY_1 | ACCURACY_2 |        ETA |\n",
            "+------------+--------+--------+------------+------------+------------+\n",
            "| Training   |  0.288 |  1.131 |      0.906 |      0.676 | 0:00:00.26 |\n",
            "| Validation |  0.528 |  1.505 |      0.821 |      0.572 |            |\n",
            "+------------+--------+--------+------------+------------+------------+\n",
            "+---------------------------------------------------------------------+\n",
            "|                  EPOCH: 22/100 saving best model...                 |\n",
            "+------------+--------+--------+------------+------------+------------+\n",
            "| CATEGORY   | LOSS_1 | LOSS_2 | ACCURACY_1 | ACCURACY_2 |        ETA |\n",
            "+------------+--------+--------+------------+------------+------------+\n",
            "| Training   |  0.264 |  1.073 |      0.912 |      0.694 | 0:00:00.26 |\n",
            "| Validation |  0.519 |  1.492 |      0.820 |      0.584 |            |\n",
            "+------------+--------+--------+------------+------------+------------+\n",
            "+---------------------------------------------------------------------+\n",
            "|                  EPOCH: 23/100 saving best model...                 |\n",
            "+------------+--------+--------+------------+------------+------------+\n",
            "| CATEGORY   | LOSS_1 | LOSS_2 | ACCURACY_1 | ACCURACY_2 |        ETA |\n",
            "+------------+--------+--------+------------+------------+------------+\n",
            "| Training   |  0.248 |  1.040 |      0.911 |      0.694 | 0:00:00.27 |\n",
            "| Validation |  0.517 |  1.469 |      0.825 |      0.583 |            |\n",
            "+------------+--------+--------+------------+------------+------------+\n",
            "+---------------------------------------------------------------------+\n",
            "|                  EPOCH: 24/100 saving best model...                 |\n",
            "+------------+--------+--------+------------+------------+------------+\n",
            "| CATEGORY   | LOSS_1 | LOSS_2 | ACCURACY_1 | ACCURACY_2 |        ETA |\n",
            "+------------+--------+--------+------------+------------+------------+\n",
            "| Training   |  0.235 |  1.006 |      0.919 |      0.712 | 0:00:00.45 |\n",
            "| Validation |  0.503 |  1.430 |      0.824 |      0.596 |            |\n",
            "+------------+--------+--------+------------+------------+------------+\n",
            "+---------------------------------------------------------------------+\n",
            "|                  EPOCH: 25/100 saving best model...                 |\n",
            "+------------+--------+--------+------------+------------+------------+\n",
            "| CATEGORY   | LOSS_1 | LOSS_2 | ACCURACY_1 | ACCURACY_2 |        ETA |\n",
            "+------------+--------+--------+------------+------------+------------+\n",
            "| Training   |  0.230 |  0.954 |      0.923 |      0.725 | 0:00:00.42 |\n",
            "| Validation |  0.513 |  1.426 |      0.832 |      0.608 |            |\n",
            "+------------+--------+--------+------------+------------+------------+\n",
            "+---------------------------------------------------------------------+\n",
            "|                  EPOCH: 26/100 saving best model...                 |\n",
            "+------------+--------+--------+------------+------------+------------+\n",
            "| CATEGORY   | LOSS_1 | LOSS_2 | ACCURACY_1 | ACCURACY_2 |        ETA |\n",
            "+------------+--------+--------+------------+------------+------------+\n",
            "| Training   |  0.207 |  0.908 |      0.928 |      0.740 | 0:00:00.42 |\n",
            "| Validation |  0.520 |  1.407 |      0.829 |      0.596 |            |\n",
            "+------------+--------+--------+------------+------------+------------+\n",
            "+---------------------------------------------------------------------+\n",
            "|                  EPOCH: 27/100 saving best model...                 |\n",
            "+------------+--------+--------+------------+------------+------------+\n",
            "| CATEGORY   | LOSS_1 | LOSS_2 | ACCURACY_1 | ACCURACY_2 |        ETA |\n",
            "+------------+--------+--------+------------+------------+------------+\n",
            "| Training   |  0.200 |  0.883 |      0.935 |      0.745 | 0:00:00.42 |\n",
            "| Validation |  0.516 |  1.397 |      0.837 |      0.620 |            |\n",
            "+------------+--------+--------+------------+------------+------------+\n",
            "+---------------------------------------------------------------------+\n",
            "|                  EPOCH: 28/100 saving best model...                 |\n",
            "+------------+--------+--------+------------+------------+------------+\n",
            "| CATEGORY   | LOSS_1 | LOSS_2 | ACCURACY_1 | ACCURACY_2 |        ETA |\n",
            "+------------+--------+--------+------------+------------+------------+\n",
            "| Training   |  0.177 |  0.840 |      0.941 |      0.752 | 0:00:00.41 |\n",
            "| Validation |  0.513 |  1.388 |      0.836 |      0.617 |            |\n",
            "+------------+--------+--------+------------+------------+------------+\n",
            "+---------------------------------------------------------------------+\n",
            "|                  EPOCH: 29/100 saving best model...                 |\n",
            "+------------+--------+--------+------------+------------+------------+\n",
            "| CATEGORY   | LOSS_1 | LOSS_2 | ACCURACY_1 | ACCURACY_2 |        ETA |\n",
            "+------------+--------+--------+------------+------------+------------+\n",
            "| Training   |  0.173 |  0.808 |      0.941 |      0.761 | 0:00:00.41 |\n",
            "| Validation |  0.514 |  1.385 |      0.833 |      0.629 |            |\n",
            "+------------+--------+--------+------------+------------+------------+\n",
            "+---------------------------------------------------------------------+\n",
            "|                  EPOCH: 30/100 saving best model...                 |\n",
            "+------------+--------+--------+------------+------------+------------+\n",
            "| CATEGORY   | LOSS_1 | LOSS_2 | ACCURACY_1 | ACCURACY_2 |        ETA |\n",
            "+------------+--------+--------+------------+------------+------------+\n",
            "| Training   |  0.157 |  0.763 |      0.944 |      0.782 | 0:00:00.42 |\n",
            "| Validation |  0.516 |  1.348 |      0.832 |      0.625 |            |\n",
            "+------------+--------+--------+------------+------------+------------+\n",
            "+---------------------------------------------------------------------+\n",
            "|                     EPOCH: 31/100 not saving...                     |\n",
            "+------------+--------+--------+------------+------------+------------+\n",
            "| CATEGORY   | LOSS_1 | LOSS_2 | ACCURACY_1 | ACCURACY_2 |        ETA |\n",
            "+------------+--------+--------+------------+------------+------------+\n",
            "| Training   |  0.147 |  0.730 |      0.945 |      0.784 | 0:00:00.22 |\n",
            "| Validation |  0.514 |  1.350 |      0.828 |      0.637 |            |\n",
            "+------------+--------+--------+------------+------------+------------+\n",
            "+---------------------------------------------------------------------+\n",
            "|                  EPOCH: 32/100 saving best model...                 |\n",
            "+------------+--------+--------+------------+------------+------------+\n",
            "| CATEGORY   | LOSS_1 | LOSS_2 | ACCURACY_1 | ACCURACY_2 |        ETA |\n",
            "+------------+--------+--------+------------+------------+------------+\n",
            "| Training   |  0.150 |  0.714 |      0.948 |      0.792 | 0:00:00.25 |\n",
            "| Validation |  0.514 |  1.340 |      0.833 |      0.645 |            |\n",
            "+------------+--------+--------+------------+------------+------------+\n",
            "+---------------------------------------------------------------------+\n",
            "|                  EPOCH: 33/100 saving best model...                 |\n",
            "+------------+--------+--------+------------+------------+------------+\n",
            "| CATEGORY   | LOSS_1 | LOSS_2 | ACCURACY_1 | ACCURACY_2 |        ETA |\n",
            "+------------+--------+--------+------------+------------+------------+\n",
            "| Training   |  0.137 |  0.699 |      0.957 |      0.791 | 0:00:00.36 |\n",
            "| Validation |  0.521 |  1.338 |      0.832 |      0.650 |            |\n",
            "+------------+--------+--------+------------+------------+------------+\n",
            "+---------------------------------------------------------------------+\n",
            "|                  EPOCH: 34/100 saving best model...                 |\n",
            "+------------+--------+--------+------------+------------+------------+\n",
            "| CATEGORY   | LOSS_1 | LOSS_2 | ACCURACY_1 | ACCURACY_2 |        ETA |\n",
            "+------------+--------+--------+------------+------------+------------+\n",
            "| Training   |  0.142 |  0.658 |      0.950 |      0.811 | 0:00:00.41 |\n",
            "| Validation |  0.526 |  1.324 |      0.820 |      0.657 |            |\n",
            "+------------+--------+--------+------------+------------+------------+\n",
            "+---------------------------------------------------------------------+\n",
            "|                  EPOCH: 35/100 saving best model...                 |\n",
            "+------------+--------+--------+------------+------------+------------+\n",
            "| CATEGORY   | LOSS_1 | LOSS_2 | ACCURACY_1 | ACCURACY_2 |        ETA |\n",
            "+------------+--------+--------+------------+------------+------------+\n",
            "| Training   |  0.130 |  0.620 |      0.956 |      0.813 | 0:00:00.26 |\n",
            "| Validation |  0.527 |  1.320 |      0.828 |      0.653 |            |\n",
            "+------------+--------+--------+------------+------------+------------+\n",
            "+---------------------------------------------------------------------+\n",
            "|                  EPOCH: 36/100 saving best model...                 |\n",
            "+------------+--------+--------+------------+------------+------------+\n",
            "| CATEGORY   | LOSS_1 | LOSS_2 | ACCURACY_1 | ACCURACY_2 |        ETA |\n",
            "+------------+--------+--------+------------+------------+------------+\n",
            "| Training   |  0.130 |  0.613 |      0.956 |      0.824 | 0:00:00.25 |\n",
            "| Validation |  0.534 |  1.311 |      0.828 |      0.662 |            |\n",
            "+------------+--------+--------+------------+------------+------------+\n",
            "+---------------------------------------------------------------------+\n",
            "|                  EPOCH: 37/100 saving best model...                 |\n",
            "+------------+--------+--------+------------+------------+------------+\n",
            "| CATEGORY   | LOSS_1 | LOSS_2 | ACCURACY_1 | ACCURACY_2 |        ETA |\n",
            "+------------+--------+--------+------------+------------+------------+\n",
            "| Training   |  0.120 |  0.591 |      0.956 |      0.827 | 0:00:00.25 |\n",
            "| Validation |  0.537 |  1.309 |      0.824 |      0.658 |            |\n",
            "+------------+--------+--------+------------+------------+------------+\n",
            "+---------------------------------------------------------------------+\n",
            "|                  EPOCH: 38/100 saving best model...                 |\n",
            "+------------+--------+--------+------------+------------+------------+\n",
            "| CATEGORY   | LOSS_1 | LOSS_2 | ACCURACY_1 | ACCURACY_2 |        ETA |\n",
            "+------------+--------+--------+------------+------------+------------+\n",
            "| Training   |  0.114 |  0.547 |      0.963 |      0.841 | 0:00:00.28 |\n",
            "| Validation |  0.549 |  1.307 |      0.824 |      0.662 |            |\n",
            "+------------+--------+--------+------------+------------+------------+\n",
            "+---------------------------------------------------------------------+\n",
            "|                     EPOCH: 39/100 not saving...                     |\n",
            "+------------+--------+--------+------------+------------+------------+\n",
            "| CATEGORY   | LOSS_1 | LOSS_2 | ACCURACY_1 | ACCURACY_2 |        ETA |\n",
            "+------------+--------+--------+------------+------------+------------+\n",
            "| Training   |  0.113 |  0.511 |      0.961 |      0.848 | 0:00:00.23 |\n",
            "| Validation |  0.550 |  1.308 |      0.820 |      0.657 |            |\n",
            "+------------+--------+--------+------------+------------+------------+\n",
            "+---------------------------------------------------------------------+\n",
            "|                     EPOCH: 40/100 not saving...                     |\n",
            "+------------+--------+--------+------------+------------+------------+\n",
            "| CATEGORY   | LOSS_1 | LOSS_2 | ACCURACY_1 | ACCURACY_2 |        ETA |\n",
            "+------------+--------+--------+------------+------------+------------+\n",
            "| Training   |  0.109 |  0.521 |      0.963 |      0.848 | 0:00:00.21 |\n",
            "| Validation |  0.556 |  1.314 |      0.828 |      0.662 |            |\n",
            "+------------+--------+--------+------------+------------+------------+\n",
            "+---------------------------------------------------------------------+\n",
            "|                  EPOCH: 41/100 saving best model...                 |\n",
            "+------------+--------+--------+------------+------------+------------+\n",
            "| CATEGORY   | LOSS_1 | LOSS_2 | ACCURACY_1 | ACCURACY_2 |        ETA |\n",
            "+------------+--------+--------+------------+------------+------------+\n",
            "| Training   |  0.098 |  0.479 |      0.968 |      0.860 | 0:00:00.23 |\n",
            "| Validation |  0.559 |  1.305 |      0.825 |      0.657 |            |\n",
            "+------------+--------+--------+------------+------------+------------+\n",
            "+---------------------------------------------------------------------+\n",
            "|                     EPOCH: 42/100 not saving...                     |\n",
            "+------------+--------+--------+------------+------------+------------+\n",
            "| CATEGORY   | LOSS_1 | LOSS_2 | ACCURACY_1 | ACCURACY_2 |        ETA |\n",
            "+------------+--------+--------+------------+------------+------------+\n",
            "| Training   |  0.099 |  0.466 |      0.964 |      0.867 | 0:00:00.21 |\n",
            "| Validation |  0.556 |  1.306 |      0.829 |      0.674 |            |\n",
            "+------------+--------+--------+------------+------------+------------+\n",
            "+---------------------------------------------------------------------+\n",
            "|                  EPOCH: 43/100 saving best model...                 |\n",
            "+------------+--------+--------+------------+------------+------------+\n",
            "| CATEGORY   | LOSS_1 | LOSS_2 | ACCURACY_1 | ACCURACY_2 |        ETA |\n",
            "+------------+--------+--------+------------+------------+------------+\n",
            "| Training   |  0.095 |  0.437 |      0.965 |      0.874 | 0:00:00.25 |\n",
            "| Validation |  0.565 |  1.295 |      0.825 |      0.661 |            |\n",
            "+------------+--------+--------+------------+------------+------------+\n",
            "+---------------------------------------------------------------------+\n",
            "|                     EPOCH: 44/100 not saving...                     |\n",
            "+------------+--------+--------+------------+------------+------------+\n",
            "| CATEGORY   | LOSS_1 | LOSS_2 | ACCURACY_1 | ACCURACY_2 |        ETA |\n",
            "+------------+--------+--------+------------+------------+------------+\n",
            "| Training   |  0.090 |  0.435 |      0.969 |      0.875 | 0:00:00.23 |\n",
            "| Validation |  0.570 |  1.301 |      0.833 |      0.653 |            |\n",
            "+------------+--------+--------+------------+------------+------------+\n",
            "+---------------------------------------------------------------------+\n",
            "|                     EPOCH: 45/100 not saving...                     |\n",
            "+------------+--------+--------+------------+------------+------------+\n",
            "| CATEGORY   | LOSS_1 | LOSS_2 | ACCURACY_1 | ACCURACY_2 |        ETA |\n",
            "+------------+--------+--------+------------+------------+------------+\n",
            "| Training   |  0.097 |  0.412 |      0.969 |      0.882 | 0:00:00.23 |\n",
            "| Validation |  0.577 |  1.320 |      0.829 |      0.674 |            |\n",
            "+------------+--------+--------+------------+------------+------------+\n",
            "+---------------------------------------------------------------------+\n",
            "|                  EPOCH: 46/100 saving best model...                 |\n",
            "+------------+--------+--------+------------+------------+------------+\n",
            "| CATEGORY   | LOSS_1 | LOSS_2 | ACCURACY_1 | ACCURACY_2 |        ETA |\n",
            "+------------+--------+--------+------------+------------+------------+\n",
            "| Training   |  0.090 |  0.409 |      0.971 |      0.882 | 0:00:00.25 |\n",
            "| Validation |  0.559 |  1.282 |      0.833 |      0.673 |            |\n",
            "+------------+--------+--------+------------+------------+------------+\n",
            "+---------------------------------------------------------------------+\n",
            "|                     EPOCH: 47/100 not saving...                     |\n",
            "+------------+--------+--------+------------+------------+------------+\n",
            "| CATEGORY   | LOSS_1 | LOSS_2 | ACCURACY_1 | ACCURACY_2 |        ETA |\n",
            "+------------+--------+--------+------------+------------+------------+\n",
            "| Training   |  0.082 |  0.379 |      0.974 |      0.886 | 0:00:00.23 |\n",
            "| Validation |  0.574 |  1.300 |      0.829 |      0.674 |            |\n",
            "+------------+--------+--------+------------+------------+------------+\n",
            "+---------------------------------------------------------------------+\n",
            "|                     EPOCH: 48/100 not saving...                     |\n",
            "+------------+--------+--------+------------+------------+------------+\n",
            "| CATEGORY   | LOSS_1 | LOSS_2 | ACCURACY_1 | ACCURACY_2 |        ETA |\n",
            "+------------+--------+--------+------------+------------+------------+\n",
            "| Training   |  0.078 |  0.369 |      0.976 |      0.894 | 0:00:00.22 |\n",
            "| Validation |  0.578 |  1.302 |      0.833 |      0.674 |            |\n",
            "+------------+--------+--------+------------+------------+------------+\n",
            "+---------------------------------------------------------------------+\n",
            "|                     EPOCH: 49/100 not saving...                     |\n",
            "+------------+--------+--------+------------+------------+------------+\n",
            "| CATEGORY   | LOSS_1 | LOSS_2 | ACCURACY_1 | ACCURACY_2 |        ETA |\n",
            "+------------+--------+--------+------------+------------+------------+\n",
            "| Training   |  0.083 |  0.349 |      0.971 |      0.896 | 0:00:00.21 |\n",
            "| Validation |  0.578 |  1.297 |      0.837 |      0.678 |            |\n",
            "+------------+--------+--------+------------+------------+------------+\n",
            "+---------------------------------------------------------------------+\n",
            "|                     EPOCH: 50/100 not saving...                     |\n",
            "+------------+--------+--------+------------+------------+------------+\n",
            "| CATEGORY   | LOSS_1 | LOSS_2 | ACCURACY_1 | ACCURACY_2 |        ETA |\n",
            "+------------+--------+--------+------------+------------+------------+\n",
            "| Training   |  0.071 |  0.341 |      0.976 |      0.902 | 0:00:00.20 |\n",
            "| Validation |  0.597 |  1.295 |      0.841 |      0.690 |            |\n",
            "+------------+--------+--------+------------+------------+------------+\n",
            "+---------------------------------------------------------------------+\n",
            "|                  EPOCH: 51/100 saving best model...                 |\n",
            "+------------+--------+--------+------------+------------+------------+\n",
            "| CATEGORY   | LOSS_1 | LOSS_2 | ACCURACY_1 | ACCURACY_2 |        ETA |\n",
            "+------------+--------+--------+------------+------------+------------+\n",
            "| Training   |  0.070 |  0.326 |      0.977 |      0.905 | 0:00:00.23 |\n",
            "| Validation |  0.590 |  1.277 |      0.829 |      0.694 |            |\n",
            "+------------+--------+--------+------------+------------+------------+\n",
            "+---------------------------------------------------------------------+\n",
            "|                     EPOCH: 52/100 not saving...                     |\n",
            "+------------+--------+--------+------------+------------+------------+\n",
            "| CATEGORY   | LOSS_1 | LOSS_2 | ACCURACY_1 | ACCURACY_2 |        ETA |\n",
            "+------------+--------+--------+------------+------------+------------+\n",
            "| Training   |  0.077 |  0.313 |      0.975 |      0.915 | 0:00:00.21 |\n",
            "| Validation |  0.595 |  1.288 |      0.829 |      0.694 |            |\n",
            "+------------+--------+--------+------------+------------+------------+\n",
            "+---------------------------------------------------------------------+\n",
            "|                     EPOCH: 53/100 not saving...                     |\n",
            "+------------+--------+--------+------------+------------+------------+\n",
            "| CATEGORY   | LOSS_1 | LOSS_2 | ACCURACY_1 | ACCURACY_2 |        ETA |\n",
            "+------------+--------+--------+------------+------------+------------+\n",
            "| Training   |  0.078 |  0.309 |      0.971 |      0.912 | 0:00:00.22 |\n",
            "| Validation |  0.600 |  1.311 |      0.829 |      0.706 |            |\n",
            "+------------+--------+--------+------------+------------+------------+\n",
            "+---------------------------------------------------------------------+\n",
            "|                     EPOCH: 54/100 not saving...                     |\n",
            "+------------+--------+--------+------------+------------+------------+\n",
            "| CATEGORY   | LOSS_1 | LOSS_2 | ACCURACY_1 | ACCURACY_2 |        ETA |\n",
            "+------------+--------+--------+------------+------------+------------+\n",
            "| Training   |  0.065 |  0.282 |      0.978 |      0.921 | 0:00:00.21 |\n",
            "| Validation |  0.599 |  1.302 |      0.829 |      0.690 |            |\n",
            "+------------+--------+--------+------------+------------+------------+\n",
            "+---------------------------------------------------------------------+\n",
            "|                     EPOCH: 55/100 not saving...                     |\n",
            "+------------+--------+--------+------------+------------+------------+\n",
            "| CATEGORY   | LOSS_1 | LOSS_2 | ACCURACY_1 | ACCURACY_2 |        ETA |\n",
            "+------------+--------+--------+------------+------------+------------+\n",
            "| Training   |  0.059 |  0.267 |      0.982 |      0.924 | 0:00:00.21 |\n",
            "| Validation |  0.595 |  1.295 |      0.833 |      0.702 |            |\n",
            "+------------+--------+--------+------------+------------+------------+\n",
            "+---------------------------------------------------------------------+\n",
            "|                     EPOCH: 56/100 not saving...                     |\n",
            "+------------+--------+--------+------------+------------+------------+\n",
            "| CATEGORY   | LOSS_1 | LOSS_2 | ACCURACY_1 | ACCURACY_2 |        ETA |\n",
            "+------------+--------+--------+------------+------------+------------+\n",
            "| Training   |  0.067 |  0.268 |      0.979 |      0.924 | 0:00:00.21 |\n",
            "| Validation |  0.593 |  1.290 |      0.829 |      0.702 |            |\n",
            "+------------+--------+--------+------------+------------+------------+\n",
            "+---------------------------------------------------------------------+\n",
            "|                     EPOCH: 57/100 not saving...                     |\n",
            "+------------+--------+--------+------------+------------+------------+\n",
            "| CATEGORY   | LOSS_1 | LOSS_2 | ACCURACY_1 | ACCURACY_2 |        ETA |\n",
            "+------------+--------+--------+------------+------------+------------+\n",
            "| Training   |  0.057 |  0.252 |      0.980 |      0.924 | 0:00:00.20 |\n",
            "| Validation |  0.611 |  1.299 |      0.837 |      0.706 |            |\n",
            "+------------+--------+--------+------------+------------+------------+\n",
            "+---------------------------------------------------------------------+\n",
            "|                     EPOCH: 58/100 not saving...                     |\n",
            "+------------+--------+--------+------------+------------+------------+\n",
            "| CATEGORY   | LOSS_1 | LOSS_2 | ACCURACY_1 | ACCURACY_2 |        ETA |\n",
            "+------------+--------+--------+------------+------------+------------+\n",
            "| Training   |  0.057 |  0.243 |      0.980 |      0.931 | 0:00:00.21 |\n",
            "| Validation |  0.619 |  1.301 |      0.833 |      0.706 |            |\n",
            "+------------+--------+--------+------------+------------+------------+\n",
            "+---------------------------------------------------------------------+\n",
            "|                     EPOCH: 59/100 not saving...                     |\n",
            "+------------+--------+--------+------------+------------+------------+\n",
            "| CATEGORY   | LOSS_1 | LOSS_2 | ACCURACY_1 | ACCURACY_2 |        ETA |\n",
            "+------------+--------+--------+------------+------------+------------+\n",
            "| Training   |  0.057 |  0.230 |      0.980 |      0.934 | 0:00:00.20 |\n",
            "| Validation |  0.620 |  1.316 |      0.837 |      0.714 |            |\n",
            "+------------+--------+--------+------------+------------+------------+\n",
            "+---------------------------------------------------------------------+\n",
            "|                     EPOCH: 60/100 not saving...                     |\n",
            "+------------+--------+--------+------------+------------+------------+\n",
            "| CATEGORY   | LOSS_1 | LOSS_2 | ACCURACY_1 | ACCURACY_2 |        ETA |\n",
            "+------------+--------+--------+------------+------------+------------+\n",
            "| Training   |  0.057 |  0.222 |      0.979 |      0.935 | 0:00:00.22 |\n",
            "| Validation |  0.620 |  1.309 |      0.829 |      0.706 |            |\n",
            "+------------+--------+--------+------------+------------+------------+\n",
            "+---------------------------------------------------------------------+\n",
            "|                     EPOCH: 61/100 not saving...                     |\n",
            "+------------+--------+--------+------------+------------+------------+\n",
            "| CATEGORY   | LOSS_1 | LOSS_2 | ACCURACY_1 | ACCURACY_2 |        ETA |\n",
            "+------------+--------+--------+------------+------------+------------+\n",
            "| Training   |  0.057 |  0.217 |      0.980 |      0.939 | 0:00:00.20 |\n",
            "| Validation |  0.618 |  1.314 |      0.833 |      0.710 |            |\n",
            "+------------+--------+--------+------------+------------+------------+\n",
            "+---------------------------------------------------------------------+\n",
            "|                     EPOCH: 62/100 not saving...                     |\n",
            "+------------+--------+--------+------------+------------+------------+\n",
            "| CATEGORY   | LOSS_1 | LOSS_2 | ACCURACY_1 | ACCURACY_2 |        ETA |\n",
            "+------------+--------+--------+------------+------------+------------+\n",
            "| Training   |  0.055 |  0.204 |      0.984 |      0.943 | 0:00:00.20 |\n",
            "| Validation |  0.624 |  1.320 |      0.833 |      0.710 |            |\n",
            "+------------+--------+--------+------------+------------+------------+\n",
            "+---------------------------------------------------------------------+\n",
            "|                     EPOCH: 63/100 not saving...                     |\n",
            "+------------+--------+--------+------------+------------+------------+\n",
            "| CATEGORY   | LOSS_1 | LOSS_2 | ACCURACY_1 | ACCURACY_2 |        ETA |\n",
            "+------------+--------+--------+------------+------------+------------+\n",
            "| Training   |  0.049 |  0.194 |      0.985 |      0.943 | 0:00:00.21 |\n",
            "| Validation |  0.618 |  1.306 |      0.833 |      0.702 |            |\n",
            "+------------+--------+--------+------------+------------+------------+\n",
            "+---------------------------------------------------------------------+\n",
            "|                     EPOCH: 64/100 not saving...                     |\n",
            "+------------+--------+--------+------------+------------+------------+\n",
            "| CATEGORY   | LOSS_1 | LOSS_2 | ACCURACY_1 | ACCURACY_2 |        ETA |\n",
            "+------------+--------+--------+------------+------------+------------+\n",
            "| Training   |  0.061 |  0.194 |      0.981 |      0.947 | 0:00:00.23 |\n",
            "| Validation |  0.630 |  1.313 |      0.829 |      0.706 |            |\n",
            "+------------+--------+--------+------------+------------+------------+\n",
            "+---------------------------------------------------------------------+\n",
            "|                     EPOCH: 65/100 not saving...                     |\n",
            "+------------+--------+--------+------------+------------+------------+\n",
            "| CATEGORY   | LOSS_1 | LOSS_2 | ACCURACY_1 | ACCURACY_2 |        ETA |\n",
            "+------------+--------+--------+------------+------------+------------+\n",
            "| Training   |  0.044 |  0.187 |      0.984 |      0.943 | 0:00:00.21 |\n",
            "| Validation |  0.649 |  1.326 |      0.837 |      0.702 |            |\n",
            "+------------+--------+--------+------------+------------+------------+\n",
            "+---------------------------------------------------------------------+\n",
            "|                     EPOCH: 66/100 not saving...                     |\n",
            "+------------+--------+--------+------------+------------+------------+\n",
            "| CATEGORY   | LOSS_1 | LOSS_2 | ACCURACY_1 | ACCURACY_2 |        ETA |\n",
            "+------------+--------+--------+------------+------------+------------+\n",
            "| Training   |  0.055 |  0.188 |      0.982 |      0.950 | 0:00:00.20 |\n",
            "| Validation |  0.641 |  1.326 |      0.837 |      0.710 |            |\n",
            "+------------+--------+--------+------------+------------+------------+\n",
            "+---------------------------------------------------------------------+\n",
            "|                     EPOCH: 67/100 not saving...                     |\n",
            "+------------+--------+--------+------------+------------+------------+\n",
            "| CATEGORY   | LOSS_1 | LOSS_2 | ACCURACY_1 | ACCURACY_2 |        ETA |\n",
            "+------------+--------+--------+------------+------------+------------+\n",
            "| Training   |  0.050 |  0.186 |      0.981 |      0.945 | 0:00:00.23 |\n",
            "| Validation |  0.646 |  1.328 |      0.837 |      0.710 |            |\n",
            "+------------+--------+--------+------------+------------+------------+\n",
            "+---------------------------------------------------------------------+\n",
            "|                     EPOCH: 68/100 not saving...                     |\n",
            "+------------+--------+--------+------------+------------+------------+\n",
            "| CATEGORY   | LOSS_1 | LOSS_2 | ACCURACY_1 | ACCURACY_2 |        ETA |\n",
            "+------------+--------+--------+------------+------------+------------+\n",
            "| Training   |  0.044 |  0.171 |      0.985 |      0.953 | 0:00:00.22 |\n",
            "| Validation |  0.645 |  1.352 |      0.828 |      0.711 |            |\n",
            "+------------+--------+--------+------------+------------+------------+\n",
            "+---------------------------------------------------------------------+\n",
            "|                     EPOCH: 69/100 not saving...                     |\n",
            "+------------+--------+--------+------------+------------+------------+\n",
            "| CATEGORY   | LOSS_1 | LOSS_2 | ACCURACY_1 | ACCURACY_2 |        ETA |\n",
            "+------------+--------+--------+------------+------------+------------+\n",
            "| Training   |  0.043 |  0.165 |      0.987 |      0.951 | 0:00:00.22 |\n",
            "| Validation |  0.645 |  1.346 |      0.829 |      0.714 |            |\n",
            "+------------+--------+--------+------------+------------+------------+\n",
            "+---------------------------------------------------------------------+\n",
            "|                     EPOCH: 70/100 not saving...                     |\n",
            "+------------+--------+--------+------------+------------+------------+\n",
            "| CATEGORY   | LOSS_1 | LOSS_2 | ACCURACY_1 | ACCURACY_2 |        ETA |\n",
            "+------------+--------+--------+------------+------------+------------+\n",
            "| Training   |  0.049 |  0.151 |      0.984 |      0.960 | 0:00:00.21 |\n",
            "| Validation |  0.638 |  1.347 |      0.834 |      0.722 |            |\n",
            "+------------+--------+--------+------------+------------+------------+\n",
            "+---------------------------------------------------------------------+\n",
            "|                     EPOCH: 71/100 not saving...                     |\n",
            "+------------+--------+--------+------------+------------+------------+\n",
            "| CATEGORY   | LOSS_1 | LOSS_2 | ACCURACY_1 | ACCURACY_2 |        ETA |\n",
            "+------------+--------+--------+------------+------------+------------+\n",
            "| Training   |  0.037 |  0.149 |      0.986 |      0.958 | 0:00:00.21 |\n",
            "| Validation |  0.641 |  1.339 |      0.825 |      0.714 |            |\n",
            "+------------+--------+--------+------------+------------+------------+\n",
            "+---------------------------------------------------------------------+\n",
            "|                     EPOCH: 72/100 not saving...                     |\n",
            "+------------+--------+--------+------------+------------+------------+\n",
            "| CATEGORY   | LOSS_1 | LOSS_2 | ACCURACY_1 | ACCURACY_2 |        ETA |\n",
            "+------------+--------+--------+------------+------------+------------+\n",
            "| Training   |  0.046 |  0.153 |      0.985 |      0.957 | 0:00:00.22 |\n",
            "| Validation |  0.646 |  1.350 |      0.825 |      0.714 |            |\n",
            "+------------+--------+--------+------------+------------+------------+\n",
            "+---------------------------------------------------------------------+\n",
            "|                     EPOCH: 73/100 not saving...                     |\n",
            "+------------+--------+--------+------------+------------+------------+\n",
            "| CATEGORY   | LOSS_1 | LOSS_2 | ACCURACY_1 | ACCURACY_2 |        ETA |\n",
            "+------------+--------+--------+------------+------------+------------+\n",
            "| Training   |  0.037 |  0.149 |      0.987 |      0.957 | 0:00:00.21 |\n",
            "| Validation |  0.657 |  1.357 |      0.829 |      0.714 |            |\n",
            "+------------+--------+--------+------------+------------+------------+\n",
            "+---------------------------------------------------------------------+\n",
            "|                     EPOCH: 74/100 not saving...                     |\n",
            "+------------+--------+--------+------------+------------+------------+\n",
            "| CATEGORY   | LOSS_1 | LOSS_2 | ACCURACY_1 | ACCURACY_2 |        ETA |\n",
            "+------------+--------+--------+------------+------------+------------+\n",
            "| Training   |  0.040 |  0.140 |      0.987 |      0.958 | 0:00:00.21 |\n",
            "| Validation |  0.663 |  1.357 |      0.829 |      0.710 |            |\n",
            "+------------+--------+--------+------------+------------+------------+\n",
            "+---------------------------------------------------------------------+\n",
            "|                     EPOCH: 75/100 not saving...                     |\n",
            "+------------+--------+--------+------------+------------+------------+\n",
            "| CATEGORY   | LOSS_1 | LOSS_2 | ACCURACY_1 | ACCURACY_2 |        ETA |\n",
            "+------------+--------+--------+------------+------------+------------+\n",
            "| Training   |  0.039 |  0.125 |      0.987 |      0.964 | 0:00:00.21 |\n",
            "| Validation |  0.680 |  1.363 |      0.837 |      0.710 |            |\n",
            "+------------+--------+--------+------------+------------+------------+\n",
            "+---------------------------------------------------------------------+\n",
            "|                     EPOCH: 76/100 not saving...                     |\n",
            "+------------+--------+--------+------------+------------+------------+\n",
            "| CATEGORY   | LOSS_1 | LOSS_2 | ACCURACY_1 | ACCURACY_2 |        ETA |\n",
            "+------------+--------+--------+------------+------------+------------+\n",
            "| Training   |  0.044 |  0.122 |      0.985 |      0.964 | 0:00:00.20 |\n",
            "| Validation |  0.684 |  1.361 |      0.821 |      0.710 |            |\n",
            "+------------+--------+--------+------------+------------+------------+\n",
            "+---------------------------------------------------------------------+\n",
            "|                     EPOCH: 77/100 not saving...                     |\n",
            "+------------+--------+--------+------------+------------+------------+\n",
            "| CATEGORY   | LOSS_1 | LOSS_2 | ACCURACY_1 | ACCURACY_2 |        ETA |\n",
            "+------------+--------+--------+------------+------------+------------+\n",
            "| Training   |  0.035 |  0.124 |      0.988 |      0.965 | 0:00:00.22 |\n",
            "| Validation |  0.681 |  1.363 |      0.829 |      0.714 |            |\n",
            "+------------+--------+--------+------------+------------+------------+\n",
            "+---------------------------------------------------------------------+\n",
            "|                     EPOCH: 78/100 not saving...                     |\n",
            "+------------+--------+--------+------------+------------+------------+\n",
            "| CATEGORY   | LOSS_1 | LOSS_2 | ACCURACY_1 | ACCURACY_2 |        ETA |\n",
            "+------------+--------+--------+------------+------------+------------+\n",
            "| Training   |  0.036 |  0.116 |      0.989 |      0.967 | 0:00:00.20 |\n",
            "| Validation |  0.680 |  1.369 |      0.830 |      0.714 |            |\n",
            "+------------+--------+--------+------------+------------+------------+\n",
            "+---------------------------------------------------------------------+\n",
            "|                     EPOCH: 79/100 not saving...                     |\n",
            "+------------+--------+--------+------------+------------+------------+\n",
            "| CATEGORY   | LOSS_1 | LOSS_2 | ACCURACY_1 | ACCURACY_2 |        ETA |\n",
            "+------------+--------+--------+------------+------------+------------+\n",
            "| Training   |  0.036 |  0.118 |      0.988 |      0.966 | 0:00:00.21 |\n",
            "| Validation |  0.697 |  1.377 |      0.833 |      0.710 |            |\n",
            "+------------+--------+--------+------------+------------+------------+\n",
            "+---------------------------------------------------------------------+\n",
            "|                     EPOCH: 80/100 not saving...                     |\n",
            "+------------+--------+--------+------------+------------+------------+\n",
            "| CATEGORY   | LOSS_1 | LOSS_2 | ACCURACY_1 | ACCURACY_2 |        ETA |\n",
            "+------------+--------+--------+------------+------------+------------+\n",
            "| Training   |  0.044 |  0.116 |      0.986 |      0.968 | 0:00:00.20 |\n",
            "| Validation |  0.689 |  1.383 |      0.837 |      0.722 |            |\n",
            "+------------+--------+--------+------------+------------+------------+\n",
            "+---------------------------------------------------------------------+\n",
            "|                     EPOCH: 81/100 not saving...                     |\n",
            "+------------+--------+--------+------------+------------+------------+\n",
            "| CATEGORY   | LOSS_1 | LOSS_2 | ACCURACY_1 | ACCURACY_2 |        ETA |\n",
            "+------------+--------+--------+------------+------------+------------+\n",
            "| Training   |  0.032 |  0.112 |      0.990 |      0.969 | 0:00:00.21 |\n",
            "| Validation |  0.681 |  1.380 |      0.833 |      0.722 |            |\n",
            "+------------+--------+--------+------------+------------+------------+\n",
            "+---------------------------------------------------------------------+\n",
            "|                     EPOCH: 82/100 not saving...                     |\n",
            "+------------+--------+--------+------------+------------+------------+\n",
            "| CATEGORY   | LOSS_1 | LOSS_2 | ACCURACY_1 | ACCURACY_2 |        ETA |\n",
            "+------------+--------+--------+------------+------------+------------+\n",
            "| Training   |  0.035 |  0.110 |      0.989 |      0.969 | 0:00:00.21 |\n",
            "| Validation |  0.686 |  1.388 |      0.826 |      0.719 |            |\n",
            "+------------+--------+--------+------------+------------+------------+\n",
            "+---------------------------------------------------------------------+\n",
            "|                     EPOCH: 83/100 not saving...                     |\n",
            "+------------+--------+--------+------------+------------+------------+\n",
            "| CATEGORY   | LOSS_1 | LOSS_2 | ACCURACY_1 | ACCURACY_2 |        ETA |\n",
            "+------------+--------+--------+------------+------------+------------+\n",
            "| Training   |  0.035 |  0.103 |      0.989 |      0.972 | 0:00:00.21 |\n",
            "| Validation |  0.697 |  1.380 |      0.833 |      0.714 |            |\n",
            "+------------+--------+--------+------------+------------+------------+\n",
            "+---------------------------------------------------------------------+\n",
            "|                     EPOCH: 84/100 not saving...                     |\n",
            "+------------+--------+--------+------------+------------+------------+\n",
            "| CATEGORY   | LOSS_1 | LOSS_2 | ACCURACY_1 | ACCURACY_2 |        ETA |\n",
            "+------------+--------+--------+------------+------------+------------+\n",
            "| Training   |  0.031 |  0.101 |      0.990 |      0.973 | 0:00:00.20 |\n",
            "| Validation |  0.703 |  1.382 |      0.829 |      0.719 |            |\n",
            "+------------+--------+--------+------------+------------+------------+\n",
            "+---------------------------------------------------------------------+\n",
            "|                     EPOCH: 85/100 not saving...                     |\n",
            "+------------+--------+--------+------------+------------+------------+\n",
            "| CATEGORY   | LOSS_1 | LOSS_2 | ACCURACY_1 | ACCURACY_2 |        ETA |\n",
            "+------------+--------+--------+------------+------------+------------+\n",
            "| Training   |  0.034 |  0.093 |      0.989 |      0.975 | 0:00:00.21 |\n",
            "| Validation |  0.699 |  1.406 |      0.825 |      0.714 |            |\n",
            "+------------+--------+--------+------------+------------+------------+\n",
            "+---------------------------------------------------------------------+\n",
            "|                     EPOCH: 86/100 not saving...                     |\n",
            "+------------+--------+--------+------------+------------+------------+\n",
            "| CATEGORY   | LOSS_1 | LOSS_2 | ACCURACY_1 | ACCURACY_2 |        ETA |\n",
            "+------------+--------+--------+------------+------------+------------+\n",
            "| Training   |  0.036 |  0.093 |      0.989 |      0.976 | 0:00:00.21 |\n",
            "| Validation |  0.695 |  1.421 |      0.817 |      0.718 |            |\n",
            "+------------+--------+--------+------------+------------+------------+\n",
            "+---------------------------------------------------------------------+\n",
            "|                     EPOCH: 87/100 not saving...                     |\n",
            "+------------+--------+--------+------------+------------+------------+\n",
            "| CATEGORY   | LOSS_1 | LOSS_2 | ACCURACY_1 | ACCURACY_2 |        ETA |\n",
            "+------------+--------+--------+------------+------------+------------+\n",
            "| Training   |  0.028 |  0.089 |      0.990 |      0.976 | 0:00:00.20 |\n",
            "| Validation |  0.717 |  1.445 |      0.829 |      0.718 |            |\n",
            "+------------+--------+--------+------------+------------+------------+\n",
            "+---------------------------------------------------------------------+\n",
            "|                     EPOCH: 88/100 not saving...                     |\n",
            "+------------+--------+--------+------------+------------+------------+\n",
            "| CATEGORY   | LOSS_1 | LOSS_2 | ACCURACY_1 | ACCURACY_2 |        ETA |\n",
            "+------------+--------+--------+------------+------------+------------+\n",
            "| Training   |  0.036 |  0.081 |      0.990 |      0.981 | 0:00:00.20 |\n",
            "| Validation |  0.723 |  1.448 |      0.829 |      0.722 |            |\n",
            "+------------+--------+--------+------------+------------+------------+\n",
            "+---------------------------------------------------------------------+\n",
            "|                     EPOCH: 89/100 not saving...                     |\n",
            "+------------+--------+--------+------------+------------+------------+\n",
            "| CATEGORY   | LOSS_1 | LOSS_2 | ACCURACY_1 | ACCURACY_2 |        ETA |\n",
            "+------------+--------+--------+------------+------------+------------+\n",
            "| Training   |  0.025 |  0.097 |      0.992 |      0.974 | 0:00:00.23 |\n",
            "| Validation |  0.708 |  1.432 |      0.821 |      0.722 |            |\n",
            "+------------+--------+--------+------------+------------+------------+\n",
            "+---------------------------------------------------------------------+\n",
            "|                     EPOCH: 90/100 not saving...                     |\n",
            "+------------+--------+--------+------------+------------+------------+\n",
            "| CATEGORY   | LOSS_1 | LOSS_2 | ACCURACY_1 | ACCURACY_2 |        ETA |\n",
            "+------------+--------+--------+------------+------------+------------+\n",
            "| Training   |  0.028 |  0.088 |      0.991 |      0.976 | 0:00:00.20 |\n",
            "| Validation |  0.722 |  1.447 |      0.821 |      0.719 |            |\n",
            "+------------+--------+--------+------------+------------+------------+\n",
            "+---------------------------------------------------------------------+\n",
            "|                     EPOCH: 91/100 not saving...                     |\n",
            "+------------+--------+--------+------------+------------+------------+\n",
            "| CATEGORY   | LOSS_1 | LOSS_2 | ACCURACY_1 | ACCURACY_2 |        ETA |\n",
            "+------------+--------+--------+------------+------------+------------+\n",
            "| Training   |  0.033 |  0.081 |      0.989 |      0.979 | 0:00:00.21 |\n",
            "| Validation |  0.732 |  1.447 |      0.833 |      0.719 |            |\n",
            "+------------+--------+--------+------------+------------+------------+\n",
            "+---------------------------------------------------------------------+\n",
            "|                     EPOCH: 92/100 not saving...                     |\n",
            "+------------+--------+--------+------------+------------+------------+\n",
            "| CATEGORY   | LOSS_1 | LOSS_2 | ACCURACY_1 | ACCURACY_2 |        ETA |\n",
            "+------------+--------+--------+------------+------------+------------+\n",
            "| Training   |  0.023 |  0.082 |      0.992 |      0.978 | 0:00:00.20 |\n",
            "| Validation |  0.730 |  1.455 |      0.834 |      0.719 |            |\n",
            "+------------+--------+--------+------------+------------+------------+\n",
            "+---------------------------------------------------------------------+\n",
            "|                     EPOCH: 93/100 not saving...                     |\n",
            "+------------+--------+--------+------------+------------+------------+\n",
            "| CATEGORY   | LOSS_1 | LOSS_2 | ACCURACY_1 | ACCURACY_2 |        ETA |\n",
            "+------------+--------+--------+------------+------------+------------+\n",
            "| Training   |  0.026 |  0.082 |      0.992 |      0.978 | 0:00:00.21 |\n",
            "| Validation |  0.720 |  1.443 |      0.830 |      0.722 |            |\n",
            "+------------+--------+--------+------------+------------+------------+\n",
            "+---------------------------------------------------------------------+\n",
            "|                     EPOCH: 94/100 not saving...                     |\n",
            "+------------+--------+--------+------------+------------+------------+\n",
            "| CATEGORY   | LOSS_1 | LOSS_2 | ACCURACY_1 | ACCURACY_2 |        ETA |\n",
            "+------------+--------+--------+------------+------------+------------+\n",
            "| Training   |  0.023 |  0.084 |      0.993 |      0.977 | 0:00:00.21 |\n",
            "| Validation |  0.723 |  1.459 |      0.830 |      0.722 |            |\n",
            "+------------+--------+--------+------------+------------+------------+\n",
            "+---------------------------------------------------------------------+\n",
            "|                     EPOCH: 95/100 not saving...                     |\n",
            "+------------+--------+--------+------------+------------+------------+\n",
            "| CATEGORY   | LOSS_1 | LOSS_2 | ACCURACY_1 | ACCURACY_2 |        ETA |\n",
            "+------------+--------+--------+------------+------------+------------+\n",
            "| Training   |  0.023 |  0.076 |      0.992 |      0.982 | 0:00:00.20 |\n",
            "| Validation |  0.724 |  1.454 |      0.842 |      0.726 |            |\n",
            "+------------+--------+--------+------------+------------+------------+\n",
            "+---------------------------------------------------------------------+\n",
            "|                     EPOCH: 96/100 not saving...                     |\n",
            "+------------+--------+--------+------------+------------+------------+\n",
            "| CATEGORY   | LOSS_1 | LOSS_2 | ACCURACY_1 | ACCURACY_2 |        ETA |\n",
            "+------------+--------+--------+------------+------------+------------+\n",
            "| Training   |  0.025 |  0.078 |      0.992 |      0.977 | 0:00:00.22 |\n",
            "| Validation |  0.735 |  1.461 |      0.842 |      0.726 |            |\n",
            "+------------+--------+--------+------------+------------+------------+\n",
            "+---------------------------------------------------------------------+\n",
            "|                     EPOCH: 97/100 not saving...                     |\n",
            "+------------+--------+--------+------------+------------+------------+\n",
            "| CATEGORY   | LOSS_1 | LOSS_2 | ACCURACY_1 | ACCURACY_2 |        ETA |\n",
            "+------------+--------+--------+------------+------------+------------+\n",
            "| Training   |  0.024 |  0.070 |      0.993 |      0.982 | 0:00:00.20 |\n",
            "| Validation |  0.737 |  1.444 |      0.833 |      0.730 |            |\n",
            "+------------+--------+--------+------------+------------+------------+\n",
            "+---------------------------------------------------------------------+\n",
            "|                     EPOCH: 98/100 not saving...                     |\n",
            "+------------+--------+--------+------------+------------+------------+\n",
            "| CATEGORY   | LOSS_1 | LOSS_2 | ACCURACY_1 | ACCURACY_2 |        ETA |\n",
            "+------------+--------+--------+------------+------------+------------+\n",
            "| Training   |  0.030 |  0.076 |      0.991 |      0.978 | 0:00:00.20 |\n",
            "| Validation |  0.745 |  1.439 |      0.837 |      0.734 |            |\n",
            "+------------+--------+--------+------------+------------+------------+\n",
            "+---------------------------------------------------------------------+\n",
            "|                     EPOCH: 99/100 not saving...                     |\n",
            "+------------+--------+--------+------------+------------+------------+\n",
            "| CATEGORY   | LOSS_1 | LOSS_2 | ACCURACY_1 | ACCURACY_2 |        ETA |\n",
            "+------------+--------+--------+------------+------------+------------+\n",
            "| Training   |  0.024 |  0.067 |      0.991 |      0.985 | 0:00:00.20 |\n",
            "| Validation |  0.740 |  1.450 |      0.846 |      0.730 |            |\n",
            "+------------+--------+--------+------------+------------+------------+\n",
            "+---------------------------------------------------------------------+\n",
            "|                     EPOCH: 100/100 not saving...                    |\n",
            "+------------+--------+--------+------------+------------+------------+\n",
            "| CATEGORY   | LOSS_1 | LOSS_2 | ACCURACY_1 | ACCURACY_2 |        ETA |\n",
            "+------------+--------+--------+------------+------------+------------+\n",
            "| Training   |  0.028 |  0.069 |      0.991 |      0.982 | 0:00:00.21 |\n",
            "| Validation |  0.753 |  1.484 |      0.842 |      0.735 |            |\n",
            "+------------+--------+--------+------------+------------+------------+\n"
          ],
          "name": "stdout"
        }
      ]
    },
    {
      "cell_type": "markdown",
      "metadata": {
        "id": "WZNkikbDIB2z"
      },
      "source": [
        "### Model Evaluation."
      ]
    },
    {
      "cell_type": "code",
      "metadata": {
        "colab": {
          "base_uri": "https://localhost:8080/"
        },
        "id": "g8fWTBruHw1p",
        "outputId": "027aef13-b13e-471f-99e9-1fc2650d4819"
      },
      "source": [
        "questions_model.load_state_dict(torch.load('best-model.pt'))\n",
        "\n",
        "test_loss_1, test_loss_2, test_acc_1, test_acc_2 = evaluate(questions_model, test_iter, criterion_1, criterion_2)\n",
        "print(f'Test Loss 1: {test_loss_1:.3f} | Test Loss 2: {test_loss_2:.3f}  | Test Acc 1: {test_acc_1*100:.2f}% | Test Acc 2: {test_acc_2*100:.2f}%')"
      ],
      "execution_count": 28,
      "outputs": [
        {
          "output_type": "stream",
          "text": [
            "Test Loss 1: 0.852 | Test Loss 2: 1.692  | Test Acc 1: 67.86% | Test Acc 2: 50.00%\n"
          ],
          "name": "stdout"
        }
      ]
    },
    {
      "cell_type": "markdown",
      "metadata": {
        "id": "A4zEBLYsLki5"
      },
      "source": [
        "### Model Inference.\n",
        "\n",
        "We are now ready to make predictions with our model."
      ]
    },
    {
      "cell_type": "code",
      "metadata": {
        "id": "TyNLifHaJBKS"
      },
      "source": [
        "import en_core_web_sm\n",
        "nlp = en_core_web_sm.load()"
      ],
      "execution_count": 29,
      "outputs": []
    },
    {
      "cell_type": "code",
      "metadata": {
        "id": "clNBiJ9NPkRJ",
        "colab": {
          "base_uri": "https://localhost:8080/"
        },
        "outputId": "50faa673-8be1-487a-8d67-74c4b4ffb66c"
      },
      "source": [
        "reversed_labels_1 = dict([(v, k) for (k, v) in LABEL_1.vocab.stoi.items()])\n",
        "reversed_labels_2 = dict([(v, k) for (k, v) in LABEL_2.vocab.stoi.items()])\n",
        "\n",
        "reversed_labels_1, reversed_labels_2"
      ],
      "execution_count": 30,
      "outputs": [
        {
          "output_type": "execute_result",
          "data": {
            "text/plain": [
              "({0: 'ENTY', 1: 'HUM', 2: 'DESC', 3: 'NUM', 4: 'LOC', 5: 'ABBR'},\n",
              " {0: 'ind',\n",
              "  1: 'other',\n",
              "  2: 'def',\n",
              "  3: 'count',\n",
              "  4: 'desc',\n",
              "  5: 'manner',\n",
              "  6: 'cremat',\n",
              "  7: 'date',\n",
              "  8: 'gr',\n",
              "  9: 'reason',\n",
              "  10: 'country',\n",
              "  11: 'city',\n",
              "  12: 'animal',\n",
              "  13: 'food',\n",
              "  14: 'dismed',\n",
              "  15: 'termeq',\n",
              "  16: 'period',\n",
              "  17: 'money',\n",
              "  18: 'exp',\n",
              "  19: 'state',\n",
              "  20: 'sport',\n",
              "  21: 'event',\n",
              "  22: 'product',\n",
              "  23: 'substance',\n",
              "  24: 'techmeth',\n",
              "  25: 'color',\n",
              "  26: 'dist',\n",
              "  27: 'perc',\n",
              "  28: 'veh',\n",
              "  29: 'word',\n",
              "  30: 'title',\n",
              "  31: 'mount',\n",
              "  32: 'body',\n",
              "  33: 'abb',\n",
              "  34: 'lang',\n",
              "  35: 'volsize',\n",
              "  36: 'plant',\n",
              "  37: 'symbol',\n",
              "  38: 'instru',\n",
              "  39: 'weight',\n",
              "  40: 'code',\n",
              "  41: 'letter',\n",
              "  42: 'speed',\n",
              "  43: 'temp',\n",
              "  44: 'ord',\n",
              "  45: 'currency',\n",
              "  46: 'religion'})"
            ]
          },
          "metadata": {
            "tags": []
          },
          "execution_count": 30
        }
      ]
    },
    {
      "cell_type": "code",
      "metadata": {
        "id": "y9A6ZGTILzWD"
      },
      "source": [
        "def tabulate(column_names, data, title=\"QUESTIONS PREDICTIONS TABLE\"):\n",
        "  table = PrettyTable(column_names)\n",
        "  table.align[column_names[0]] = \"l\"\n",
        "  table.align[column_names[1]] = \"l\"\n",
        "  for row in data:\n",
        "    table.add_row(row)\n",
        "  print(table)\n",
        "\n",
        "def predict_question_type(model, sentence, min_len = 5, actual_class_1=0, actual_class_2=0):\n",
        "    model.eval()\n",
        "    with torch.no_grad():\n",
        "      tokenized = [tok.text for tok in nlp.tokenizer(sentence)]\n",
        "     \n",
        "      if len(tokenized) < min_len:\n",
        "          tokenized += ['<pad>'] * (min_len - len(tokenized))\n",
        "      indexed = [TEXT.vocab.stoi[t] for t in tokenized]\n",
        "      tensor = torch.LongTensor(indexed).to(device)\n",
        "      tensor = tensor.unsqueeze(1)\n",
        "      probabilities_1, probabilities_2 = model(tensor)\n",
        "      prediction_1 = torch.argmax(probabilities_1, dim=1).item()\n",
        "      prediction_2 = torch.argmax(probabilities_2, dim=1).item()\n",
        "      table_headers =[\"KEY\", \"VALUE\"]\n",
        "      table_data = [\n",
        "          [\"PREDICTED CLASS 1\",  prediction_1],\n",
        "          [\"ACTUAL CLASS 1\", actual_class_1],\n",
        "          [\"PREDICTED CLASS 2\",  prediction_2],\n",
        "          [\"ACTUAL CLASS 2\", actual_class_2],\n",
        "          [\"PREDICTED CLASS NAME 1\",  reversed_labels_1[prediction_1]],    \n",
        "          [\"PREDICTED CLASS NAME 2\",  reversed_labels_2[prediction_2]],    \n",
        "      ]\n",
        "      tabulate(table_headers, table_data)\n"
      ],
      "execution_count": 31,
      "outputs": []
    },
    {
      "cell_type": "markdown",
      "metadata": {
        "id": "W93zzSlQMO4p"
      },
      "source": [
        "###  Entity and Other"
      ]
    },
    {
      "cell_type": "code",
      "metadata": {
        "colab": {
          "base_uri": "https://localhost:8080/"
        },
        "id": "lcuHlaPwML4Y",
        "outputId": "44798263-6db1-4a94-ccb3-c7b3c4274bea"
      },
      "source": [
        "predict_question_type(questions_model, \"What kind of weapons were used in Medieval warfare ?\", \n",
        "                      actual_class_1=LABEL_1.vocab.stoi[\"ENTY\"], actual_class_2=LABEL_2.vocab.stoi[\"other\"]\n",
        "                      )"
      ],
      "execution_count": 32,
      "outputs": [
        {
          "output_type": "stream",
          "text": [
            "+------------------------+-------+\n",
            "| KEY                    | VALUE |\n",
            "+------------------------+-------+\n",
            "| PREDICTED CLASS 1      | 0     |\n",
            "| ACTUAL CLASS 1         | 0     |\n",
            "| PREDICTED CLASS 2      | 20    |\n",
            "| ACTUAL CLASS 2         | 1     |\n",
            "| PREDICTED CLASS NAME 1 | ENTY  |\n",
            "| PREDICTED CLASS NAME 2 | sport |\n",
            "+------------------------+-------+\n"
          ],
          "name": "stdout"
        }
      ]
    },
    {
      "cell_type": "markdown",
      "metadata": {
        "id": "q5Eqjo0MMP8L"
      },
      "source": [
        "### Human and IND"
      ]
    },
    {
      "cell_type": "code",
      "metadata": {
        "colab": {
          "base_uri": "https://localhost:8080/"
        },
        "id": "FnhFchDiMQQn",
        "outputId": "bbefb175-6447-484b-ea5f-361f073df5e5"
      },
      "source": [
        "predict_question_type(questions_model, \"Whose video is titled Shape Up with Arnold ?\", \n",
        "                      actual_class_1=LABEL_1.vocab.stoi[\"HUM\"], actual_class_2=LABEL_2.vocab.stoi[\"ind\"]\n",
        "                      )"
      ],
      "execution_count": 33,
      "outputs": [
        {
          "output_type": "stream",
          "text": [
            "+------------------------+-------+\n",
            "| KEY                    | VALUE |\n",
            "+------------------------+-------+\n",
            "| PREDICTED CLASS 1      | 1     |\n",
            "| ACTUAL CLASS 1         | 1     |\n",
            "| PREDICTED CLASS 2      | 0     |\n",
            "| ACTUAL CLASS 2         | 0     |\n",
            "| PREDICTED CLASS NAME 1 | HUM   |\n",
            "| PREDICTED CLASS NAME 2 | ind   |\n",
            "+------------------------+-------+\n"
          ],
          "name": "stdout"
        }
      ]
    },
    {
      "cell_type": "markdown",
      "metadata": {
        "id": "bHlRIuOWvvXU"
      },
      "source": [
        "### Description and DESC."
      ]
    },
    {
      "cell_type": "code",
      "metadata": {
        "colab": {
          "base_uri": "https://localhost:8080/"
        },
        "id": "Cbuo0D9iv1pi",
        "outputId": "5f280296-bae3-479f-a9e0-388a28ba4a8f"
      },
      "source": [
        "predict_question_type(questions_model, \"What 's the Olympic motto ?\", \n",
        "                      actual_class_1=LABEL_1.vocab.stoi[\"DESC\"], actual_class_2=LABEL_2.vocab.stoi[\"desc\"]\n",
        "                      )"
      ],
      "execution_count": 34,
      "outputs": [
        {
          "output_type": "stream",
          "text": [
            "+------------------------+-------+\n",
            "| KEY                    | VALUE |\n",
            "+------------------------+-------+\n",
            "| PREDICTED CLASS 1      | 1     |\n",
            "| ACTUAL CLASS 1         | 2     |\n",
            "| PREDICTED CLASS 2      | 0     |\n",
            "| ACTUAL CLASS 2         | 4     |\n",
            "| PREDICTED CLASS NAME 1 | HUM   |\n",
            "| PREDICTED CLASS NAME 2 | ind   |\n",
            "+------------------------+-------+\n"
          ],
          "name": "stdout"
        }
      ]
    },
    {
      "cell_type": "markdown",
      "metadata": {
        "id": "ErOffK_DwNQA"
      },
      "source": [
        "### Location and STATE"
      ]
    },
    {
      "cell_type": "code",
      "metadata": {
        "colab": {
          "base_uri": "https://localhost:8080/"
        },
        "id": "63HWwLTmwHkd",
        "outputId": "cca94fde-008d-4de2-8350-c6c87849886c"
      },
      "source": [
        "predict_question_type(questions_model, \"What state full of milk and honey was the destination in The Grapes of Wrath ?\", \n",
        "                      actual_class_1=LABEL_1.vocab.stoi[\"LOC\"], actual_class_2=LABEL_2.vocab.stoi[\"state\"]\n",
        "                      )"
      ],
      "execution_count": 35,
      "outputs": [
        {
          "output_type": "stream",
          "text": [
            "+------------------------+-------+\n",
            "| KEY                    | VALUE |\n",
            "+------------------------+-------+\n",
            "| PREDICTED CLASS 1      | 4     |\n",
            "| ACTUAL CLASS 1         | 4     |\n",
            "| PREDICTED CLASS 2      | 8     |\n",
            "| ACTUAL CLASS 2         | 19    |\n",
            "| PREDICTED CLASS NAME 1 | LOC   |\n",
            "| PREDICTED CLASS NAME 2 | gr    |\n",
            "+------------------------+-------+\n"
          ],
          "name": "stdout"
        }
      ]
    },
    {
      "cell_type": "markdown",
      "metadata": {
        "id": "2Sa3_lq4VHSn"
      },
      "source": [
        "### Conclusion \n",
        "\n",
        "Our model did not perform well this time around but it is fine on our toy dataset. This maybe because we have unbalanced data on the second label with 47 classes. What's next?\n",
        "\n",
        "### Next Step\n",
        "* In the next Notebook we are going to use `ConvNets` to perform sentiment analyisis on this dataset with two labels."
      ]
    },
    {
      "cell_type": "code",
      "metadata": {
        "id": "Xgz4_uzJwiim"
      },
      "source": [
        ""
      ],
      "execution_count": 35,
      "outputs": []
    }
  ]
}